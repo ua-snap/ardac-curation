{
 "cells": [
  {
   "cell_type": "markdown",
   "id": "134898f6-d2fe-4010-855b-ef27c6d42019",
   "metadata": {},
   "source": [
    "# Process yearly indicators from daily NCAR 12km BCSD dataset\n",
    "\n",
    "Use this notebook to create a yearly base indicators dataset, which will compute the following indicators for each year using daily data:\n",
    "\n",
    "* `hd`:  “Hot day” threshold -- the highest observed daily $T_{max}$ such that there are 5 other observations equal to or greater than this value.\n",
    "* `cd`: “Cold day” threshold -- the lowest observed daily $T_{min}$ such that there are 5 other observations equal to or less than this value.\n",
    "* `rx1day`: Maximum 1-day precipitation\n",
    "* `su`: Summer Days –- Annual number of days with Tmax above 25 C\n",
    "* `dw`: Deep Winter days –- Annual number of days with Tmin below -30 C\n",
    "* `wsdi`: Warm Spell Duration Index -- Annual count of occurrences of at least 5 consecutive days with daily mean T above 90 th percentile of historical values for the date\n",
    "* `cdsi`: Cold Spell Duration Index -- Same as WDSI, but for daily mean T below 10 th percentile\n",
    "* `rx5day`: Maximum 5-day precipitation\n",
    "* `r10mm`: Number of heavy precip days –- Annual count of days with precip > 10 mm\n",
    "* `cwd`: Consecutive wet days –- Yearly number of the most consecutive days with precip > 1 mm\n",
    "* `cdd`: Consecutive dry days –- Same as CED, but for days with precip < 1 mm\n",
    "\n",
    "We will use functions from the `indicators.py` script to compute the indicators. Load the libs:"
   ]
  },
  {
   "cell_type": "code",
   "execution_count": 5,
   "id": "ab0bd2eb-751a-4f7b-99e4-c810b6cbd111",
   "metadata": {},
   "outputs": [],
   "source": [
    "import time\n",
    "from datetime import datetime\n",
    "import numpy as np\n",
    "import tqdm\n",
    "import xarray as xr\n",
    "\n",
    "# ignore all-nan slice warnings\n",
    "import warnings\n",
    "warnings.filterwarnings('ignore', r'All-NaN (slice|axis) encountered')\n",
    "\n",
    "from config import *\n",
    "from indicators import *"
   ]
  },
  {
   "cell_type": "markdown",
   "id": "0dbf53c3-de3f-47a2-9b69-b27bba820d4c",
   "metadata": {},
   "source": [
    "We will be iterating over model and scenario, loading data, and processing. However, we want to load the Daymet data ahead of time for use in computing WSDI and CSDI indicators for all models and scenarios. Load that daymet dataset into a global variable, using a window of 1980 to 2010:"
   ]
  },
  {
   "cell_type": "code",
   "execution_count": 93,
   "id": "23c6b0b0-be68-4076-b39f-5f67284a3ada",
   "metadata": {},
   "outputs": [
    {
     "name": "stdout",
     "output_type": "stream",
     "text": [
      "CPU times: user 39.6 s, sys: 7.99 s, total: 47.6 s\n",
      "Wall time: 40.2 s\n"
     ]
    }
   ],
   "source": [
    "%%time\n",
    "daymet_ds = xr.open_mfdataset([f\"/atlas_scratch/cparr4/ncar_replacement_data/daymet/daymet_met_{year}.nc\" for year in range(1980, 2010)])\n",
    "daymet_ds = daymet_ds.load()\n",
    "# drop underscore from units in tmin/tmax, for xclim to be happy\n",
    "daymet_ds[\"tmin\"].attrs[\"units\"] = \"degC\"\n",
    "daymet_ds[\"tmax\"].attrs[\"units\"] = \"degC\""
   ]
  },
  {
   "cell_type": "markdown",
   "id": "d74c2f45-e365-4e66-9ae5-117c64c1b8be",
   "metadata": {},
   "source": [
    "Iterate over the projected models and scenarios and compute the indicators:"
   ]
  },
  {
   "cell_type": "code",
   "execution_count": 95,
   "id": "5ee4c95c-4658-4c5e-8bc2-579a32fa343d",
   "metadata": {
    "tags": []
   },
   "outputs": [
    {
     "name": "stdout",
     "output_type": "stream",
     "text": [
      "data for rcp45, CCSM4 loaded into memory\n",
      "rx1day  done, rx5day  done, r10mm  done, cwd  done, cdd  done, hd  done, su  done, wsdi  done, cd  done, dw  done, csdi  done, \n",
      "data for rcp45, MRI-CGCM3 loaded into memory\n",
      "rx1day  done, rx5day  done, r10mm  done, cwd  done, cdd  done, hd  done, su  done, wsdi  done, cd  done, dw  done, csdi  done, \n",
      "data for rcp85, CCSM4 loaded into memory\n",
      "rx1day  done, rx5day  done, r10mm  done, cwd  done, cdd  done, hd  done, su  done, wsdi  done, cd  done, dw  done, csdi  done, \n",
      "data for rcp85, MRI-CGCM3 loaded into memory\n",
      "rx1day  done, rx5day  done, r10mm  done, cwd  done, cdd  done, hd  done, su  done, wsdi  done, cd  done, dw  done, csdi  done, \n",
      "CPU times: user 1h 5min 40s, sys: 15min 33s, total: 1h 21min 13s\n",
      "Wall time: 1h 19min 44s\n"
     ]
    }
   ],
   "source": [
    "%%time\n",
    "results = []\n",
    "for scenario in scenarios:\n",
    "    for model in models:\n",
    "        fps = [ncar_dir.joinpath(f\"{model}_{scenario}_BCSD_met_{year}.nc\") for year in range(2006, 2100)]\n",
    "        results.append(run_compute_indicators(fps, scenario, model))"
   ]
  },
  {
   "cell_type": "markdown",
   "id": "338ef266-0f7e-424f-abad-41ec0781a11f",
   "metadata": {},
   "source": [
    "Merge the individual DataArrays into a single dataset:"
   ]
  },
  {
   "cell_type": "code",
   "execution_count": 141,
   "id": "7b49af67-482d-4620-abfd-8a425e038885",
   "metadata": {},
   "outputs": [
    {
     "name": "stdout",
     "output_type": "stream",
     "text": [
      "CPU times: user 18.1 s, sys: 5.23 s, total: 23.4 s\n",
      "Wall time: 23.4 s\n"
     ]
    }
   ],
   "source": [
    "%time proj_indicators_ds = xr.merge([da for da_list in results for da in da_list])"
   ]
  },
  {
   "cell_type": "markdown",
   "id": "6fa39258-6e34-4943-9e65-f8b329ed80c2",
   "metadata": {},
   "source": [
    "Process applicable indicators for the historical era (using Daymet dataset):"
   ]
  },
  {
   "cell_type": "code",
   "execution_count": 136,
   "id": "6a6c52f7-922e-487f-90ec-e6cbf1a57e18",
   "metadata": {},
   "outputs": [
    {
     "name": "stdout",
     "output_type": "stream",
     "text": [
      "rx1day done, rx5day done, r10mm done, cwd done, cdd done, hd done, su done, cd done, dw done, CPU times: user 1min 48s, sys: 32.6 s, total: 2min 21s\n",
      "Wall time: 2min 21s\n"
     ]
    }
   ],
   "source": [
    "%%time\n",
    "summary_das = []\n",
    "# note, WSDI and CSDI are have been dropped - no historical data\n",
    "# TO-DO: add these back in, but just use the same time period!\n",
    "for indicator in [\"rx1day\", \"rx5day\", \"r10mm\", \"cwd\", \"cdd\", \"hd\", \"su\", \"cd\", \"dw\"]:\n",
    "    varname = indicator_varname_lu[indicator]\n",
    "    summary_das.append(compute_indicator(daymet_ds[varname], indicator, \"historical\", \"daymet\"))\n",
    "    print(indicator, \"done\", end=\", \")"
   ]
  },
  {
   "cell_type": "markdown",
   "id": "9db8d1ea-c859-4165-833a-4bd78cfa5870",
   "metadata": {},
   "source": [
    "And combine into a Dataset:"
   ]
  },
  {
   "cell_type": "code",
   "execution_count": 149,
   "id": "72ad03ab-06f4-4f58-acc8-c70b2834abf1",
   "metadata": {},
   "outputs": [
    {
     "name": "stdout",
     "output_type": "stream",
     "text": [
      "CPU times: user 20.7 ms, sys: 21 µs, total: 20.7 ms\n",
      "Wall time: 20 ms\n"
     ]
    }
   ],
   "source": [
    "%time daymet_indicators_ds = xr.merge(summary_das)"
   ]
  },
  {
   "cell_type": "markdown",
   "id": "6da4f674-d483-490d-80ca-3bb4d182fc33",
   "metadata": {},
   "source": [
    "Convert 0's (which are null values from some of the xclim indicators) to -9999. Do this for projected indicators:"
   ]
  },
  {
   "cell_type": "code",
   "execution_count": 143,
   "id": "2eb10c42-9dd0-4fe9-aef6-a6363c2bdae5",
   "metadata": {},
   "outputs": [],
   "source": [
    "def replace_nan(da):\n",
    "    da.values[nan_mask] = -9999\n",
    "    da.attrs[\"_FillValue\"] = -9999\n",
    "    return da\n",
    "\n",
    "nan_mask = np.isnan(proj_indicators_ds[\"rx1day\"])\n",
    "\n",
    "for indicator in [\"r10mm\", \"wsdi\", \"csdi\", \"cwd\", \"cdd\", \"su\", \"dw\"]:\n",
    "    proj_indicators_ds[indicator] = replace_nan(proj_indicators_ds[indicator]).astype(np.int32)"
   ]
  },
  {
   "cell_type": "markdown",
   "id": "4c46ad8f-68d3-4772-95b0-35af9771ea43",
   "metadata": {},
   "source": [
    "Then daymet indicators:"
   ]
  },
  {
   "cell_type": "code",
   "execution_count": 155,
   "id": "5b28d0ce-3a8a-4aa2-83f6-644f74580346",
   "metadata": {},
   "outputs": [],
   "source": [
    "# setting different nanmask because different data cubes\n",
    "nan_mask = np.isnan(daymet_indicators_ds[\"rx1day\"])\n",
    "\n",
    "for indicator in [\"r10mm\", \"cwd\", \"cdd\", \"su\", \"dw\"]:\n",
    "    # um this array isn't writeable? never seen this before\n",
    "    daymet_indicators_ds[indicator].values.setflags(write=1)\n",
    "    daymet_indicators_ds[indicator] = replace_nan(daymet_indicators_ds[indicator]).astype(np.int32)"
   ]
  },
  {
   "cell_type": "markdown",
   "id": "f27cbe7c-817a-450f-9381-154f6d73ca37",
   "metadata": {},
   "source": [
    "Then combine the projected and Daymet indicators Datasets together:"
   ]
  },
  {
   "cell_type": "code",
   "execution_count": 163,
   "id": "5bc3e3ca-db1c-41f5-88eb-69238a2e796c",
   "metadata": {},
   "outputs": [],
   "source": [
    "indicators_ds = xr.merge([daymet_indicators_ds, proj_indicators_ds])\n",
    "del indicators_ds.attrs[\"units\"]"
   ]
  },
  {
   "cell_type": "markdown",
   "id": "0c335ca5-5de9-47a2-af5d-ae5b63db6c60",
   "metadata": {},
   "source": [
    "Round certain indicators to reasonable precision:"
   ]
  },
  {
   "cell_type": "code",
   "execution_count": 170,
   "id": "ccff33f5-791f-4eaf-adb4-ee6e7b69b04c",
   "metadata": {},
   "outputs": [],
   "source": [
    "for indicator in [\"hd\", \"cd\", \"rx1day\", \"rx5day\"]:\n",
    "    indicators_ds[indicator] = np.round(indicators_ds[indicator], 1)"
   ]
  },
  {
   "cell_type": "markdown",
   "id": "ab5837ba-a04d-4ad1-94e9-414e2edda14f",
   "metadata": {},
   "source": [
    "Add global metadata:"
   ]
  },
  {
   "cell_type": "code",
   "execution_count": 171,
   "id": "b15f8148-9c23-48be-a6c7-035fe0dbc260",
   "metadata": {},
   "outputs": [],
   "source": [
    "indicators_ds.attrs = {\n",
    "    \"creation_date\": datetime.utcnow().strftime('%Y-%m-%dT%H:%M:%SZ')\n",
    "}"
   ]
  },
  {
   "cell_type": "markdown",
   "id": "c489720e-4ae8-4c41-a0d8-f2b60b31d1f8",
   "metadata": {},
   "source": [
    "Write to disk (might take a couple of minutes):"
   ]
  },
  {
   "cell_type": "code",
   "execution_count": 173,
   "id": "b8dff980-e710-48cb-a9b6-4e701fe242d9",
   "metadata": {
    "tags": []
   },
   "outputs": [
    {
     "name": "stdout",
     "output_type": "stream",
     "text": [
      "CPU times: user 88.6 ms, sys: 4.26 s, total: 4.35 s\n",
      "Wall time: 12.7 s\n"
     ]
    }
   ],
   "source": [
    "%time indicators_ds.to_netcdf(indicators_fp)"
   ]
  },
  {
   "cell_type": "markdown",
   "id": "b07042cd-12bb-4109-a7a0-c02527baa994",
   "metadata": {},
   "source": [
    "done!"
   ]
  }
 ],
 "metadata": {
  "kernelspec": {
   "display_name": "Python 3 (ipykernel)",
   "language": "python",
   "name": "python3"
  },
  "language_info": {
   "codemirror_mode": {
    "name": "ipython",
    "version": 3
   },
   "file_extension": ".py",
   "mimetype": "text/x-python",
   "name": "python",
   "nbconvert_exporter": "python",
   "pygments_lexer": "ipython3",
   "version": "3.9.15"
  }
 },
 "nbformat": 4,
 "nbformat_minor": 5
}
