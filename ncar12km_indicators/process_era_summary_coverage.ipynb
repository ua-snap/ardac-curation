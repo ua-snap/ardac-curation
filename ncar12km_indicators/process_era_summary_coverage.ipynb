{
 "cells": [
  {
   "cell_type": "markdown",
   "id": "5f56bb72-10ef-45fb-aff2-0bfac21122a1",
   "metadata": {},
   "source": [
    "# Process NCAR 12km AK indicators\n",
    "\n",
    "Processing notebook for \"NCAR indicators\", derived from the 12km NCAR BCSD dataset over Alaska."
   ]
  },
  {
   "cell_type": "code",
   "execution_count": 1,
   "id": "320bdaf6-fd4a-4b72-8f3a-de7e82cf411a",
   "metadata": {},
   "outputs": [],
   "source": [
    "from pathlib import Path\n",
    "import matplotlib.pyplot as plt\n",
    "import numpy as np\n",
    "import rasterio as rio\n",
    "import xarray as xr\n",
    "import rioxarray\n",
    "from pyproj import Proj, Transformer, CRS\n",
    "from wrf import PolarStereographic"
   ]
  },
  {
   "cell_type": "markdown",
   "id": "e6b48cef-3a8b-4480-8840-7389a278b1c9",
   "metadata": {},
   "source": [
    "Define some stuff and lookup tables:"
   ]
  },
  {
   "cell_type": "code",
   "execution_count": 186,
   "id": "adcdf8c1-e699-4bcf-9fb4-fb79089efa8c",
   "metadata": {},
   "outputs": [],
   "source": [
    "out_dir = Path(\"/atlas_scratch/kmredilla/ncar12km_indicators\")\n",
    "out_dir.mkdir(exist_ok=True)\n",
    "\n",
    "era_lut = {\n",
    "    \"historical\": \"1980-2009\",\n",
    "    \"midcentury\": \"2040-2069\",\n",
    "    \"longterm\": \"2070-2099\"\n",
    "}\n",
    "\n",
    "aggr_var_lut = {\n",
    "    \"min\": np.min,\n",
    "    \"mean\": np.mean,\n",
    "    \"max\": np.max\n",
    "}\n",
    "\n",
    "null_value = -9999\n",
    "\n",
    "temp_out_fp = \"ncar12km_indicators_{}_{}_{}_{}_{}.tif\"\n",
    "\n",
    "def get_year_slice(era):\n",
    "    \"\"\"Make a slice object from string representation of era\"\"\"\n",
    "    start_year, end_year = era_lut[era].split(\"-\")\n",
    "    return slice(start_year, end_year)\n"
   ]
  },
  {
   "cell_type": "markdown",
   "id": "a7590240-0937-497b-9bb7-0714eea9c055",
   "metadata": {},
   "source": [
    "Load the data:"
   ]
  },
  {
   "cell_type": "code",
   "execution_count": 2,
   "id": "5df961e7-8bda-4f64-be0f-a0b3548ae55d",
   "metadata": {},
   "outputs": [
    {
     "name": "stdout",
     "output_type": "stream",
     "text": [
      "CPU times: user 1.82 s, sys: 3.79 s, total: 5.6 s\n",
      "Wall time: 7.22 s\n"
     ]
    }
   ],
   "source": [
    "%%time\n",
    "ds = xr.load_dataset(\"/atlas_scratch/kmredilla/ncar12km_indicators.nc\")"
   ]
  },
  {
   "cell_type": "markdown",
   "id": "0fad3009-c252-4210-bdf7-eec3128874c9",
   "metadata": {},
   "source": [
    "Project the dataset (i.e. make the x and y coordinates match the projection):"
   ]
  },
  {
   "cell_type": "code",
   "execution_count": 21,
   "id": "6bec129f-f4f4-44fa-82f6-b7036e20a283",
   "metadata": {},
   "outputs": [],
   "source": [
    "wrf_proj_str = PolarStereographic(**{\"TRUELAT1\": 64, \"STAND_LON\": -150}).proj4()\n",
    "wrf_proj = Proj(wrf_proj_str)\n",
    "wgs_proj = Proj(proj='latlong', datum='WGS84')\n",
    "\n",
    "transformer = Transformer.from_proj(wgs_proj, wrf_proj)\n",
    "e, n = transformer.transform(-150, 64)\n",
    "# Grid parameters\n",
    "dx, dy = 12000, 12000\n",
    "\n",
    "ny, nx = ds.longitude.shape\n",
    "\n",
    "# Down left corner of the domain\n",
    "x0 = -(nx-1) / 2. * dx + e\n",
    "y0 = -(ny-1) / 2. * dy + n\n",
    "# 2d grid\n",
    "x = np.arange(nx) * dx + x0\n",
    "y = np.arange(ny) * dy + y0\n",
    "\n",
    "proj_ds = ds.assign_coords({\"y\": (\"y\", y), \"x\": (\"x\", x)}).drop([\"latitude\", \"longitude\"])\n",
    "crs_ds = proj_ds.rio.write_crs(wrf_crs)"
   ]
  },
  {
   "cell_type": "markdown",
   "id": "e37c4564-7ac1-4e3d-a355-472fe0ca7d96",
   "metadata": {},
   "source": [
    "Iterate over models and scenarios and reproject using rioxarray. Rioxarray can only reproject up to three dimensions, so after subsetting by model and scenario, reproject, summarize by min/mean/max over eras, and write to GeoTIFFs.\n",
    "\n",
    "Start with Daymet, since this is a standalone case (i.e. no other models / scenarios):"
   ]
  },
  {
   "cell_type": "code",
   "execution_count": 212,
   "id": "314230cc-9dfc-47c2-9b00-876177e7eceb",
   "metadata": {},
   "outputs": [
    {
     "name": "stdout",
     "output_type": "stream",
     "text": [
      "CPU times: user 3.01 s, sys: 596 ms, total: 3.61 s\n",
      "Wall time: 3.68 s\n"
     ]
    }
   ],
   "source": [
    "%%time\n",
    "era = \"historical\"\n",
    "scenario = \"historical\"\n",
    "model = \"daymet\"\n",
    "\n",
    "reproj_ds = crs_ds.sel(model=model, scenario=scenario).rio.reproject(3338)\n",
    "for aggr_var in aggr_var_lut:\n",
    "    aggr_func = aggr_var_lut[aggr_var]\n",
    "    summary_ds = reproj_ds.sel(\n",
    "        year=get_year_slice(era)\n",
    "    ).reduce(aggr_func, dim=\"year\")\n",
    "    for varname in summary_ds.data_vars:\n",
    "        out_da = summary_ds[varname]\n",
    "        out_da.data = summary_ds[varname].data.round(1)\n",
    "        out_da.data[np.isnan(summary_ds[varname].data)] = null_value\n",
    "        out_da = out_da.rio.write_nodata(null_value)\n",
    "        out_fp = out_dir.joinpath(temp_out_fp.format(varname, era, model, scenario, aggr_var))\n",
    "        out_da.rio.to_raster(out_fp, dtype=np.float32)"
   ]
  },
  {
   "cell_type": "markdown",
   "id": "fdcbad0a-4b2c-4dc3-84f3-705a95aebcad",
   "metadata": {},
   "source": [
    "Then process projected data by iterating over remaining models / scenarios:"
   ]
  },
  {
   "cell_type": "code",
   "execution_count": 214,
   "id": "2ca3699c-dda7-48ed-a146-32c8e737c0fc",
   "metadata": {},
   "outputs": [
    {
     "name": "stdout",
     "output_type": "stream",
     "text": [
      "CPU times: user 25.2 s, sys: 4.5 s, total: 29.7 s\n",
      "Wall time: 30.7 s\n"
     ]
    }
   ],
   "source": [
    "%%time\n",
    "\n",
    "for model in [\"CCSM4\", \"MRI-CGCM3\"]:\n",
    "    for scenario in [\"rcp45\", \"rcp85\"]:\n",
    "        for era in [\"midcentury\", \"longterm\"]:\n",
    "            reproj_ds = crs_ds.sel(model=model, scenario=scenario).rio.reproject(3338)\n",
    "            for aggr_var in aggr_var_lut:\n",
    "                aggr_func = aggr_var_lut[aggr_var]\n",
    "                summary_ds = reproj_ds.sel(\n",
    "                    year=get_year_slice(era)\n",
    "                ).reduce(aggr_func, dim=\"year\")\n",
    "                for varname in summary_ds.data_vars:\n",
    "                    out_da = summary_ds[varname]\n",
    "                    out_da.data = summary_ds[varname].data.round(1)\n",
    "                    out_da.data[np.isnan(summary_ds[varname].data)] = null_value\n",
    "                    out_da = out_da.rio.write_nodata(null_value)\n",
    "                    out_fp = out_dir.joinpath(temp_out_fp.format(varname, era, model, scenario, aggr_var))\n",
    "                    out_da.rio.to_raster(out_fp, dtype=np.float32)"
   ]
  },
  {
   "cell_type": "markdown",
   "id": "3cbdf3bf-2de4-4126-8517-c6ac0f9c2c1e",
   "metadata": {},
   "source": [
    "end"
   ]
  }
 ],
 "metadata": {
  "kernelspec": {
   "display_name": "Python 3 (ipykernel)",
   "language": "python",
   "name": "python3"
  },
  "language_info": {
   "codemirror_mode": {
    "name": "ipython",
    "version": 3
   },
   "file_extension": ".py",
   "mimetype": "text/x-python",
   "name": "python",
   "nbconvert_exporter": "python",
   "pygments_lexer": "ipython3",
   "version": "3.9.15"
  }
 },
 "nbformat": 4,
 "nbformat_minor": 5
}
