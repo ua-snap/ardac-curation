{
 "cells": [
  {
   "cell_type": "markdown",
   "metadata": {},
   "source": [
    "# Arctic Rivers exploratory data analysis\n",
    "\n",
    "This notebook is for exploring data from the Arctic Rivers Project, sponsored by NSF NNA. The goal is to see what we are working with here, asking questions that are relevant to how this data could be integrated into NCR or similar.\n",
    "\n",
    "Context: co-developed with Indigenous partners a model chain that involves dynamic downscaling (4 km) of a calibrated RASM/WRF/CSM configuration for a historical 30 yr period, and two mid-century simulations using the delta-method, and four downscaled CESM2 LE members each for historical and mid-century 30-yr periods. Simulations have been routed to estimate streamflow and (calibrated) river temperatures (paper in press) for AK and YK rivers. "
   ]
  },
  {
   "cell_type": "code",
   "execution_count": 23,
   "metadata": {},
   "outputs": [],
   "source": [
    "import numpy as np\n",
    "import pandas as pd\n",
    "import xarray as xr\n",
    "\n",
    "from pathlib import Path\n",
    "\n",
    "# path to data is /beegfs/CMIP6/arctic-cmip6/Arctic_Rivers_Data/\n",
    "data_dir = Path(\"/beegfs/CMIP6/arctic-cmip6/Arctic_Rivers_Data/\")"
   ]
  },
  {
   "cell_type": "markdown",
   "metadata": {},
   "source": [
    "Looks like all files are netCDFs:"
   ]
  },
  {
   "cell_type": "code",
   "execution_count": 15,
   "metadata": {},
   "outputs": [
    {
     "name": "stdout",
     "output_type": "stream",
     "text": [
      "Number of files: 1056\n"
     ]
    }
   ],
   "source": [
    "fps = list(data_dir.glob(\"*\"))\n",
    "assert all(fp == fp2 for fp, fp2 in zip(fps, data_dir.glob(\"*.nc\")))\n",
    "print(f\"Number of files: {len(fps)}\")"
   ]
  },
  {
   "cell_type": "markdown",
   "metadata": {},
   "source": [
    "And all files have a 3 part name structure:"
   ]
  },
  {
   "cell_type": "code",
   "execution_count": 17,
   "metadata": {},
   "outputs": [
    {
     "name": "stdout",
     "output_type": "stream",
     "text": [
      "Some random files:\n",
      "2056_fC2LE2_climate.nc\n",
      "2019_hC2LE9_WT.nc\n",
      "2009_historical_climate.nc\n"
     ]
    }
   ],
   "source": [
    "assert all([len(fp.name.split(\"_\")) == 3 for fp in fps])\n",
    "print(\"Some random files:\")\n",
    "\n",
    "print(fps[0].name)\n",
    "print(fps[200].name)\n",
    "print(fps[999].name)"
   ]
  },
  {
   "cell_type": "markdown",
   "metadata": {},
   "source": [
    "Looks like we have `<year>_<model>_<variables>.nc` , with the following possible values:"
   ]
  },
  {
   "cell_type": "code",
   "execution_count": 37,
   "metadata": {},
   "outputs": [
    {
     "name": "stdout",
     "output_type": "stream",
     "text": [
      "year -- first year: 1990, last year: 2065\n",
      "models: ['fC2LE2', 'fC2LE4', 'fC2LE7', 'fC2LE9', 'fPGWh', 'fPGWm', 'hC2LE2', 'hC2LE4', 'hC2LE7', 'hC2LE9', 'historical']\n",
      "scenarios: {'WT', 'Q', 'climate'}\n"
     ]
    }
   ],
   "source": [
    "years, models, variables = zip(*[fp.name.split(\".\")[0].split(\"_\") for fp in fps])\n",
    "models = list(set(models))\n",
    "variables = list(set(variables))\n",
    "print(f\"year -- first year: {min(years)}, last year: {max(years)}\")\n",
    "print(f\"models: {sorted(set(models))}\")\n",
    "print(f\"scenarios: {set(variables)}\")"
   ]
  },
  {
   "cell_type": "markdown",
   "metadata": {},
   "source": [
    "Let's get an idea of sizes:"
   ]
  },
  {
   "cell_type": "code",
   "execution_count": 47,
   "metadata": {},
   "outputs": [],
   "source": [
    "rows = []\n",
    "for model in models:\n",
    "    for var in variables:\n",
    "        modvar_sizes = []\n",
    "        for year in range(1990, 2066):\n",
    "            fp = data_dir.joinpath(f\"{year}_{model}_{var}.nc\")\n",
    "            if not fp.exists():\n",
    "                continue\n",
    "            else:\n",
    "                size = fp.stat().st_size / 1e6\n",
    "                modvar_sizes.append(size)\n",
    "\n",
    "        rows.append(\n",
    "            {\n",
    "                \"model\": model,\n",
    "                \"var\": var,\n",
    "                \"mean_size\": f\"{np.mean(modvar_sizes).astype(int)} MB\",\n",
    "                \"std_size\": f\"{np.std(modvar_sizes).astype(int)} MB\",\n",
    "            }\n",
    "        )\n",
    "\n",
    "df = pd.DataFrame(rows)"
   ]
  },
  {
   "cell_type": "markdown",
   "metadata": {},
   "source": [
    "Mean sizes for each:"
   ]
  },
  {
   "cell_type": "code",
   "execution_count": 48,
   "metadata": {},
   "outputs": [
    {
     "data": {
      "text/html": [
       "<div>\n",
       "<style scoped>\n",
       "    .dataframe tbody tr th:only-of-type {\n",
       "        vertical-align: middle;\n",
       "    }\n",
       "\n",
       "    .dataframe tbody tr th {\n",
       "        vertical-align: top;\n",
       "    }\n",
       "\n",
       "    .dataframe thead th {\n",
       "        text-align: right;\n",
       "    }\n",
       "</style>\n",
       "<table border=\"1\" class=\"dataframe\">\n",
       "  <thead>\n",
       "    <tr style=\"text-align: right;\">\n",
       "      <th>model</th>\n",
       "      <th>fC2LE2</th>\n",
       "      <th>fC2LE4</th>\n",
       "      <th>fC2LE7</th>\n",
       "      <th>fC2LE9</th>\n",
       "      <th>fPGWh</th>\n",
       "      <th>fPGWm</th>\n",
       "      <th>hC2LE2</th>\n",
       "      <th>hC2LE4</th>\n",
       "      <th>hC2LE7</th>\n",
       "      <th>hC2LE9</th>\n",
       "      <th>historical</th>\n",
       "    </tr>\n",
       "    <tr>\n",
       "      <th>var</th>\n",
       "      <th></th>\n",
       "      <th></th>\n",
       "      <th></th>\n",
       "      <th></th>\n",
       "      <th></th>\n",
       "      <th></th>\n",
       "      <th></th>\n",
       "      <th></th>\n",
       "      <th></th>\n",
       "      <th></th>\n",
       "      <th></th>\n",
       "    </tr>\n",
       "  </thead>\n",
       "  <tbody>\n",
       "    <tr>\n",
       "      <th>Q</th>\n",
       "      <td>50 MB</td>\n",
       "      <td>50 MB</td>\n",
       "      <td>50 MB</td>\n",
       "      <td>50 MB</td>\n",
       "      <td>50 MB</td>\n",
       "      <td>50 MB</td>\n",
       "      <td>50 MB</td>\n",
       "      <td>50 MB</td>\n",
       "      <td>50 MB</td>\n",
       "      <td>50 MB</td>\n",
       "      <td>52 MB</td>\n",
       "    </tr>\n",
       "    <tr>\n",
       "      <th>WT</th>\n",
       "      <td>594 MB</td>\n",
       "      <td>594 MB</td>\n",
       "      <td>594 MB</td>\n",
       "      <td>594 MB</td>\n",
       "      <td>595 MB</td>\n",
       "      <td>595 MB</td>\n",
       "      <td>594 MB</td>\n",
       "      <td>594 MB</td>\n",
       "      <td>594 MB</td>\n",
       "      <td>594 MB</td>\n",
       "      <td>595 MB</td>\n",
       "    </tr>\n",
       "    <tr>\n",
       "      <th>climate</th>\n",
       "      <td>969 MB</td>\n",
       "      <td>969 MB</td>\n",
       "      <td>971 MB</td>\n",
       "      <td>971 MB</td>\n",
       "      <td>966 MB</td>\n",
       "      <td>969 MB</td>\n",
       "      <td>986 MB</td>\n",
       "      <td>990 MB</td>\n",
       "      <td>987 MB</td>\n",
       "      <td>988 MB</td>\n",
       "      <td>981 MB</td>\n",
       "    </tr>\n",
       "  </tbody>\n",
       "</table>\n",
       "</div>"
      ],
      "text/plain": [
       "model    fC2LE2  fC2LE4  fC2LE7  fC2LE9   fPGWh   fPGWm  hC2LE2  hC2LE4  \\\n",
       "var                                                                       \n",
       "Q         50 MB   50 MB   50 MB   50 MB   50 MB   50 MB   50 MB   50 MB   \n",
       "WT       594 MB  594 MB  594 MB  594 MB  595 MB  595 MB  594 MB  594 MB   \n",
       "climate  969 MB  969 MB  971 MB  971 MB  966 MB  969 MB  986 MB  990 MB   \n",
       "\n",
       "model    hC2LE7  hC2LE9 historical  \n",
       "var                                 \n",
       "Q         50 MB   50 MB      52 MB  \n",
       "WT       594 MB  594 MB     595 MB  \n",
       "climate  987 MB  988 MB     981 MB  "
      ]
     },
     "execution_count": 48,
     "metadata": {},
     "output_type": "execute_result"
    }
   ],
   "source": [
    "df.pivot(index=\"var\", columns=\"model\", values=\"mean_size\")"
   ]
  },
  {
   "cell_type": "markdown",
   "metadata": {},
   "source": [
    "Standard deviations:"
   ]
  },
  {
   "cell_type": "code",
   "execution_count": 49,
   "metadata": {},
   "outputs": [
    {
     "data": {
      "text/html": [
       "<div>\n",
       "<style scoped>\n",
       "    .dataframe tbody tr th:only-of-type {\n",
       "        vertical-align: middle;\n",
       "    }\n",
       "\n",
       "    .dataframe tbody tr th {\n",
       "        vertical-align: top;\n",
       "    }\n",
       "\n",
       "    .dataframe thead th {\n",
       "        text-align: right;\n",
       "    }\n",
       "</style>\n",
       "<table border=\"1\" class=\"dataframe\">\n",
       "  <thead>\n",
       "    <tr style=\"text-align: right;\">\n",
       "      <th>model</th>\n",
       "      <th>fC2LE2</th>\n",
       "      <th>fC2LE4</th>\n",
       "      <th>fC2LE7</th>\n",
       "      <th>fC2LE9</th>\n",
       "      <th>fPGWh</th>\n",
       "      <th>fPGWm</th>\n",
       "      <th>hC2LE2</th>\n",
       "      <th>hC2LE4</th>\n",
       "      <th>hC2LE7</th>\n",
       "      <th>hC2LE9</th>\n",
       "      <th>historical</th>\n",
       "    </tr>\n",
       "    <tr>\n",
       "      <th>var</th>\n",
       "      <th></th>\n",
       "      <th></th>\n",
       "      <th></th>\n",
       "      <th></th>\n",
       "      <th></th>\n",
       "      <th></th>\n",
       "      <th></th>\n",
       "      <th></th>\n",
       "      <th></th>\n",
       "      <th></th>\n",
       "      <th></th>\n",
       "    </tr>\n",
       "  </thead>\n",
       "  <tbody>\n",
       "    <tr>\n",
       "      <th>Q</th>\n",
       "      <td>2 MB</td>\n",
       "      <td>2 MB</td>\n",
       "      <td>2 MB</td>\n",
       "      <td>2 MB</td>\n",
       "      <td>2 MB</td>\n",
       "      <td>2 MB</td>\n",
       "      <td>2 MB</td>\n",
       "      <td>2 MB</td>\n",
       "      <td>2 MB</td>\n",
       "      <td>2 MB</td>\n",
       "      <td>2 MB</td>\n",
       "    </tr>\n",
       "    <tr>\n",
       "      <th>WT</th>\n",
       "      <td>28 MB</td>\n",
       "      <td>28 MB</td>\n",
       "      <td>28 MB</td>\n",
       "      <td>28 MB</td>\n",
       "      <td>26 MB</td>\n",
       "      <td>26 MB</td>\n",
       "      <td>28 MB</td>\n",
       "      <td>28 MB</td>\n",
       "      <td>28 MB</td>\n",
       "      <td>28 MB</td>\n",
       "      <td>26 MB</td>\n",
       "    </tr>\n",
       "    <tr>\n",
       "      <th>climate</th>\n",
       "      <td>46 MB</td>\n",
       "      <td>50 MB</td>\n",
       "      <td>46 MB</td>\n",
       "      <td>48 MB</td>\n",
       "      <td>46 MB</td>\n",
       "      <td>45 MB</td>\n",
       "      <td>47 MB</td>\n",
       "      <td>47 MB</td>\n",
       "      <td>47 MB</td>\n",
       "      <td>48 MB</td>\n",
       "      <td>45 MB</td>\n",
       "    </tr>\n",
       "  </tbody>\n",
       "</table>\n",
       "</div>"
      ],
      "text/plain": [
       "model   fC2LE2 fC2LE4 fC2LE7 fC2LE9  fPGWh  fPGWm hC2LE2 hC2LE4 hC2LE7 hC2LE9  \\\n",
       "var                                                                             \n",
       "Q         2 MB   2 MB   2 MB   2 MB   2 MB   2 MB   2 MB   2 MB   2 MB   2 MB   \n",
       "WT       28 MB  28 MB  28 MB  28 MB  26 MB  26 MB  28 MB  28 MB  28 MB  28 MB   \n",
       "climate  46 MB  50 MB  46 MB  48 MB  46 MB  45 MB  47 MB  47 MB  47 MB  48 MB   \n",
       "\n",
       "model   historical  \n",
       "var                 \n",
       "Q             2 MB  \n",
       "WT           26 MB  \n",
       "climate      45 MB  "
      ]
     },
     "execution_count": 49,
     "metadata": {},
     "output_type": "execute_result"
    }
   ],
   "source": [
    "df.pivot(index=\"var\", columns=\"model\", values=\"std_size\")"
   ]
  },
  {
   "cell_type": "code",
   "execution_count": null,
   "metadata": {},
   "outputs": [],
   "source": []
  },
  {
   "cell_type": "code",
   "execution_count": null,
   "metadata": {},
   "outputs": [],
   "source": []
  },
  {
   "cell_type": "code",
   "execution_count": null,
   "metadata": {},
   "outputs": [],
   "source": []
  },
  {
   "cell_type": "code",
   "execution_count": null,
   "metadata": {},
   "outputs": [],
   "source": []
  }
 ],
 "metadata": {
  "kernelspec": {
   "display_name": "snap-geo",
   "language": "python",
   "name": "python3"
  },
  "language_info": {
   "codemirror_mode": {
    "name": "ipython",
    "version": 3
   },
   "file_extension": ".py",
   "mimetype": "text/x-python",
   "name": "python",
   "nbconvert_exporter": "python",
   "pygments_lexer": "ipython3",
   "version": "3.11.6"
  }
 },
 "nbformat": 4,
 "nbformat_minor": 2
}
