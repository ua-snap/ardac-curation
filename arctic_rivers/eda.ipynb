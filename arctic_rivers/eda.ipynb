{
 "cells": [
  {
   "cell_type": "markdown",
   "metadata": {},
   "source": [
    "# Arctic Rivers exploratory data analysis\n",
    "\n",
    "This notebook is for exploring data from the Arctic Rivers Project, sponsored by NSF NNA. The goal is to see what we are working with here, asking questions that are relevant to how this data could be integrated into NCR or similar.\n",
    "\n",
    "Context: co-developed with Indigenous partners a model chain that involves dynamic downscaling (4 km) of a calibrated RASM/WRF/CSM configuration for a historical 30 yr period, and two mid-century simulations using the delta-method, and four downscaled CESM2 LE members each for historical and mid-century 30-yr periods. Simulations have been routed to estimate streamflow and (calibrated) river temperatures (paper in press) for AK and YK rivers. "
   ]
  },
  {
   "cell_type": "code",
   "execution_count": 23,
   "metadata": {},
   "outputs": [],
   "source": [
    "import numpy as np\n",
    "import pandas as pd\n",
    "import xarray as xr\n",
    "\n",
    "from pathlib import Path\n",
    "\n",
    "# path to data is /beegfs/CMIP6/arctic-cmip6/Arctic_Rivers_Data/\n",
    "data_dir = Path(\"/beegfs/CMIP6/arctic-cmip6/Arctic_Rivers_Data/\")"
   ]
  },
  {
   "cell_type": "markdown",
   "metadata": {},
   "source": [
    "## Data package"
   ]
  },
  {
   "cell_type": "markdown",
   "metadata": {},
   "source": [
    "Looks like all files are netCDFs:"
   ]
  },
  {
   "cell_type": "code",
   "execution_count": 15,
   "metadata": {},
   "outputs": [
    {
     "name": "stdout",
     "output_type": "stream",
     "text": [
      "Number of files: 1056\n"
     ]
    }
   ],
   "source": [
    "fps = list(data_dir.glob(\"*\"))\n",
    "assert all(fp == fp2 for fp, fp2 in zip(fps, data_dir.glob(\"*.nc\")))\n",
    "print(f\"Number of files: {len(fps)}\")"
   ]
  },
  {
   "cell_type": "markdown",
   "metadata": {},
   "source": [
    "And all files have a 3 part name structure:"
   ]
  },
  {
   "cell_type": "code",
   "execution_count": 17,
   "metadata": {},
   "outputs": [
    {
     "name": "stdout",
     "output_type": "stream",
     "text": [
      "Some random files:\n",
      "2056_fC2LE2_climate.nc\n",
      "2019_hC2LE9_WT.nc\n",
      "2009_historical_climate.nc\n"
     ]
    }
   ],
   "source": [
    "assert all([len(fp.name.split(\"_\")) == 3 for fp in fps])\n",
    "print(\"Some random files:\")\n",
    "\n",
    "print(fps[0].name)\n",
    "print(fps[200].name)\n",
    "print(fps[999].name)"
   ]
  },
  {
   "cell_type": "markdown",
   "metadata": {},
   "source": [
    "Looks like we have `<year>_<model>_<variables>.nc` , with the following possible values:"
   ]
  },
  {
   "cell_type": "code",
   "execution_count": 58,
   "metadata": {},
   "outputs": [
    {
     "name": "stdout",
     "output_type": "stream",
     "text": [
      "year -- first year: 1990, last year: 2065\n",
      "models: ['fC2LE2', 'fC2LE4', 'fC2LE7', 'fC2LE9', 'fPGWh', 'fPGWm', 'hC2LE2', 'hC2LE4', 'hC2LE7', 'hC2LE9', 'historical']\n",
      "scenarios: {'WT', 'Q', 'climate'}\n"
     ]
    }
   ],
   "source": [
    "years, models_, variables_ = zip(*[fp.name.split(\".\")[0].split(\"_\") for fp in fps])\n",
    "models = list(set(models_))\n",
    "variables = list(set(variables_))\n",
    "print(f\"year -- first year: {min(years)}, last year: {max(years)}\")\n",
    "print(f\"models: {sorted(set(models))}\")\n",
    "print(f\"scenarios: {set(variables)}\")"
   ]
  },
  {
   "cell_type": "markdown",
   "metadata": {},
   "source": [
    "Let's get an idea of sizes:"
   ]
  },
  {
   "cell_type": "code",
   "execution_count": 47,
   "metadata": {},
   "outputs": [],
   "source": [
    "rows = []\n",
    "for model in models:\n",
    "    for var in variables:\n",
    "        modvar_sizes = []\n",
    "        for year in range(1990, 2066):\n",
    "            fp = data_dir.joinpath(f\"{year}_{model}_{var}.nc\")\n",
    "            if not fp.exists():\n",
    "                continue\n",
    "            else:\n",
    "                size = fp.stat().st_size / 1e6\n",
    "                modvar_sizes.append(size)\n",
    "\n",
    "        rows.append(\n",
    "            {\n",
    "                \"model\": model,\n",
    "                \"var\": var,\n",
    "                \"mean_size\": f\"{np.mean(modvar_sizes).astype(int)} MB\",\n",
    "                \"std_size\": f\"{np.std(modvar_sizes).astype(int)} MB\",\n",
    "            }\n",
    "        )\n",
    "\n",
    "df = pd.DataFrame(rows)"
   ]
  },
  {
   "cell_type": "markdown",
   "metadata": {},
   "source": [
    "Mean sizes for each:"
   ]
  },
  {
   "cell_type": "code",
   "execution_count": 48,
   "metadata": {},
   "outputs": [
    {
     "data": {
      "text/html": [
       "<div>\n",
       "<style scoped>\n",
       "    .dataframe tbody tr th:only-of-type {\n",
       "        vertical-align: middle;\n",
       "    }\n",
       "\n",
       "    .dataframe tbody tr th {\n",
       "        vertical-align: top;\n",
       "    }\n",
       "\n",
       "    .dataframe thead th {\n",
       "        text-align: right;\n",
       "    }\n",
       "</style>\n",
       "<table border=\"1\" class=\"dataframe\">\n",
       "  <thead>\n",
       "    <tr style=\"text-align: right;\">\n",
       "      <th>model</th>\n",
       "      <th>fC2LE2</th>\n",
       "      <th>fC2LE4</th>\n",
       "      <th>fC2LE7</th>\n",
       "      <th>fC2LE9</th>\n",
       "      <th>fPGWh</th>\n",
       "      <th>fPGWm</th>\n",
       "      <th>hC2LE2</th>\n",
       "      <th>hC2LE4</th>\n",
       "      <th>hC2LE7</th>\n",
       "      <th>hC2LE9</th>\n",
       "      <th>historical</th>\n",
       "    </tr>\n",
       "    <tr>\n",
       "      <th>var</th>\n",
       "      <th></th>\n",
       "      <th></th>\n",
       "      <th></th>\n",
       "      <th></th>\n",
       "      <th></th>\n",
       "      <th></th>\n",
       "      <th></th>\n",
       "      <th></th>\n",
       "      <th></th>\n",
       "      <th></th>\n",
       "      <th></th>\n",
       "    </tr>\n",
       "  </thead>\n",
       "  <tbody>\n",
       "    <tr>\n",
       "      <th>Q</th>\n",
       "      <td>50 MB</td>\n",
       "      <td>50 MB</td>\n",
       "      <td>50 MB</td>\n",
       "      <td>50 MB</td>\n",
       "      <td>50 MB</td>\n",
       "      <td>50 MB</td>\n",
       "      <td>50 MB</td>\n",
       "      <td>50 MB</td>\n",
       "      <td>50 MB</td>\n",
       "      <td>50 MB</td>\n",
       "      <td>52 MB</td>\n",
       "    </tr>\n",
       "    <tr>\n",
       "      <th>WT</th>\n",
       "      <td>594 MB</td>\n",
       "      <td>594 MB</td>\n",
       "      <td>594 MB</td>\n",
       "      <td>594 MB</td>\n",
       "      <td>595 MB</td>\n",
       "      <td>595 MB</td>\n",
       "      <td>594 MB</td>\n",
       "      <td>594 MB</td>\n",
       "      <td>594 MB</td>\n",
       "      <td>594 MB</td>\n",
       "      <td>595 MB</td>\n",
       "    </tr>\n",
       "    <tr>\n",
       "      <th>climate</th>\n",
       "      <td>969 MB</td>\n",
       "      <td>969 MB</td>\n",
       "      <td>971 MB</td>\n",
       "      <td>971 MB</td>\n",
       "      <td>966 MB</td>\n",
       "      <td>969 MB</td>\n",
       "      <td>986 MB</td>\n",
       "      <td>990 MB</td>\n",
       "      <td>987 MB</td>\n",
       "      <td>988 MB</td>\n",
       "      <td>981 MB</td>\n",
       "    </tr>\n",
       "  </tbody>\n",
       "</table>\n",
       "</div>"
      ],
      "text/plain": [
       "model    fC2LE2  fC2LE4  fC2LE7  fC2LE9   fPGWh   fPGWm  hC2LE2  hC2LE4  \\\n",
       "var                                                                       \n",
       "Q         50 MB   50 MB   50 MB   50 MB   50 MB   50 MB   50 MB   50 MB   \n",
       "WT       594 MB  594 MB  594 MB  594 MB  595 MB  595 MB  594 MB  594 MB   \n",
       "climate  969 MB  969 MB  971 MB  971 MB  966 MB  969 MB  986 MB  990 MB   \n",
       "\n",
       "model    hC2LE7  hC2LE9 historical  \n",
       "var                                 \n",
       "Q         50 MB   50 MB      52 MB  \n",
       "WT       594 MB  594 MB     595 MB  \n",
       "climate  987 MB  988 MB     981 MB  "
      ]
     },
     "execution_count": 48,
     "metadata": {},
     "output_type": "execute_result"
    }
   ],
   "source": [
    "df.pivot(index=\"var\", columns=\"model\", values=\"mean_size\")"
   ]
  },
  {
   "cell_type": "markdown",
   "metadata": {},
   "source": [
    "Standard deviations:"
   ]
  },
  {
   "cell_type": "code",
   "execution_count": 49,
   "metadata": {},
   "outputs": [
    {
     "data": {
      "text/html": [
       "<div>\n",
       "<style scoped>\n",
       "    .dataframe tbody tr th:only-of-type {\n",
       "        vertical-align: middle;\n",
       "    }\n",
       "\n",
       "    .dataframe tbody tr th {\n",
       "        vertical-align: top;\n",
       "    }\n",
       "\n",
       "    .dataframe thead th {\n",
       "        text-align: right;\n",
       "    }\n",
       "</style>\n",
       "<table border=\"1\" class=\"dataframe\">\n",
       "  <thead>\n",
       "    <tr style=\"text-align: right;\">\n",
       "      <th>model</th>\n",
       "      <th>fC2LE2</th>\n",
       "      <th>fC2LE4</th>\n",
       "      <th>fC2LE7</th>\n",
       "      <th>fC2LE9</th>\n",
       "      <th>fPGWh</th>\n",
       "      <th>fPGWm</th>\n",
       "      <th>hC2LE2</th>\n",
       "      <th>hC2LE4</th>\n",
       "      <th>hC2LE7</th>\n",
       "      <th>hC2LE9</th>\n",
       "      <th>historical</th>\n",
       "    </tr>\n",
       "    <tr>\n",
       "      <th>var</th>\n",
       "      <th></th>\n",
       "      <th></th>\n",
       "      <th></th>\n",
       "      <th></th>\n",
       "      <th></th>\n",
       "      <th></th>\n",
       "      <th></th>\n",
       "      <th></th>\n",
       "      <th></th>\n",
       "      <th></th>\n",
       "      <th></th>\n",
       "    </tr>\n",
       "  </thead>\n",
       "  <tbody>\n",
       "    <tr>\n",
       "      <th>Q</th>\n",
       "      <td>2 MB</td>\n",
       "      <td>2 MB</td>\n",
       "      <td>2 MB</td>\n",
       "      <td>2 MB</td>\n",
       "      <td>2 MB</td>\n",
       "      <td>2 MB</td>\n",
       "      <td>2 MB</td>\n",
       "      <td>2 MB</td>\n",
       "      <td>2 MB</td>\n",
       "      <td>2 MB</td>\n",
       "      <td>2 MB</td>\n",
       "    </tr>\n",
       "    <tr>\n",
       "      <th>WT</th>\n",
       "      <td>28 MB</td>\n",
       "      <td>28 MB</td>\n",
       "      <td>28 MB</td>\n",
       "      <td>28 MB</td>\n",
       "      <td>26 MB</td>\n",
       "      <td>26 MB</td>\n",
       "      <td>28 MB</td>\n",
       "      <td>28 MB</td>\n",
       "      <td>28 MB</td>\n",
       "      <td>28 MB</td>\n",
       "      <td>26 MB</td>\n",
       "    </tr>\n",
       "    <tr>\n",
       "      <th>climate</th>\n",
       "      <td>46 MB</td>\n",
       "      <td>50 MB</td>\n",
       "      <td>46 MB</td>\n",
       "      <td>48 MB</td>\n",
       "      <td>46 MB</td>\n",
       "      <td>45 MB</td>\n",
       "      <td>47 MB</td>\n",
       "      <td>47 MB</td>\n",
       "      <td>47 MB</td>\n",
       "      <td>48 MB</td>\n",
       "      <td>45 MB</td>\n",
       "    </tr>\n",
       "  </tbody>\n",
       "</table>\n",
       "</div>"
      ],
      "text/plain": [
       "model   fC2LE2 fC2LE4 fC2LE7 fC2LE9  fPGWh  fPGWm hC2LE2 hC2LE4 hC2LE7 hC2LE9  \\\n",
       "var                                                                             \n",
       "Q         2 MB   2 MB   2 MB   2 MB   2 MB   2 MB   2 MB   2 MB   2 MB   2 MB   \n",
       "WT       28 MB  28 MB  28 MB  28 MB  26 MB  26 MB  28 MB  28 MB  28 MB  28 MB   \n",
       "climate  46 MB  50 MB  46 MB  48 MB  46 MB  45 MB  47 MB  47 MB  47 MB  48 MB   \n",
       "\n",
       "model   historical  \n",
       "var                 \n",
       "Q             2 MB  \n",
       "WT           26 MB  \n",
       "climate      45 MB  "
      ]
     },
     "execution_count": 49,
     "metadata": {},
     "output_type": "execute_result"
    }
   ],
   "source": [
    "df.pivot(index=\"var\", columns=\"model\", values=\"std_size\")"
   ]
  },
  {
   "cell_type": "markdown",
   "metadata": {},
   "source": [
    "What about represnetation of models / vairable groups in the dataset?"
   ]
  },
  {
   "cell_type": "code",
   "execution_count": 63,
   "metadata": {},
   "outputs": [
    {
     "data": {
      "text/html": [
       "<div>\n",
       "<style scoped>\n",
       "    .dataframe tbody tr th:only-of-type {\n",
       "        vertical-align: middle;\n",
       "    }\n",
       "\n",
       "    .dataframe tbody tr th {\n",
       "        vertical-align: top;\n",
       "    }\n",
       "\n",
       "    .dataframe thead th {\n",
       "        text-align: right;\n",
       "    }\n",
       "</style>\n",
       "<table border=\"1\" class=\"dataframe\">\n",
       "  <thead>\n",
       "    <tr style=\"text-align: right;\">\n",
       "      <th></th>\n",
       "      <th>Model</th>\n",
       "      <th>File count</th>\n",
       "    </tr>\n",
       "  </thead>\n",
       "  <tbody>\n",
       "    <tr>\n",
       "      <th>0</th>\n",
       "      <td>hC2LE4</td>\n",
       "      <td>96</td>\n",
       "    </tr>\n",
       "    <tr>\n",
       "      <th>1</th>\n",
       "      <td>hC2LE7</td>\n",
       "      <td>96</td>\n",
       "    </tr>\n",
       "    <tr>\n",
       "      <th>2</th>\n",
       "      <td>hC2LE9</td>\n",
       "      <td>96</td>\n",
       "    </tr>\n",
       "    <tr>\n",
       "      <th>3</th>\n",
       "      <td>fC2LE7</td>\n",
       "      <td>96</td>\n",
       "    </tr>\n",
       "    <tr>\n",
       "      <th>4</th>\n",
       "      <td>fC2LE4</td>\n",
       "      <td>96</td>\n",
       "    </tr>\n",
       "    <tr>\n",
       "      <th>5</th>\n",
       "      <td>hC2LE2</td>\n",
       "      <td>96</td>\n",
       "    </tr>\n",
       "    <tr>\n",
       "      <th>6</th>\n",
       "      <td>fPGWh</td>\n",
       "      <td>96</td>\n",
       "    </tr>\n",
       "    <tr>\n",
       "      <th>7</th>\n",
       "      <td>historical</td>\n",
       "      <td>96</td>\n",
       "    </tr>\n",
       "    <tr>\n",
       "      <th>8</th>\n",
       "      <td>fC2LE9</td>\n",
       "      <td>96</td>\n",
       "    </tr>\n",
       "    <tr>\n",
       "      <th>9</th>\n",
       "      <td>fPGWm</td>\n",
       "      <td>96</td>\n",
       "    </tr>\n",
       "    <tr>\n",
       "      <th>10</th>\n",
       "      <td>fC2LE2</td>\n",
       "      <td>96</td>\n",
       "    </tr>\n",
       "  </tbody>\n",
       "</table>\n",
       "</div>"
      ],
      "text/plain": [
       "         Model  File count\n",
       "0       hC2LE4          96\n",
       "1       hC2LE7          96\n",
       "2       hC2LE9          96\n",
       "3       fC2LE7          96\n",
       "4       fC2LE4          96\n",
       "5       hC2LE2          96\n",
       "6        fPGWh          96\n",
       "7   historical          96\n",
       "8       fC2LE9          96\n",
       "9        fPGWm          96\n",
       "10      fC2LE2          96"
      ]
     },
     "execution_count": 63,
     "metadata": {},
     "output_type": "execute_result"
    }
   ],
   "source": [
    "unique_models, counts = np.unique(models_, return_counts=True)\n",
    "pd.DataFrame({\"Model\": models, \"File count\": counts})"
   ]
  },
  {
   "cell_type": "code",
   "execution_count": 66,
   "metadata": {},
   "outputs": [
    {
     "data": {
      "text/html": [
       "<div>\n",
       "<style scoped>\n",
       "    .dataframe tbody tr th:only-of-type {\n",
       "        vertical-align: middle;\n",
       "    }\n",
       "\n",
       "    .dataframe tbody tr th {\n",
       "        vertical-align: top;\n",
       "    }\n",
       "\n",
       "    .dataframe thead th {\n",
       "        text-align: right;\n",
       "    }\n",
       "</style>\n",
       "<table border=\"1\" class=\"dataframe\">\n",
       "  <thead>\n",
       "    <tr style=\"text-align: right;\">\n",
       "      <th></th>\n",
       "      <th>Variable group</th>\n",
       "      <th>File count</th>\n",
       "    </tr>\n",
       "  </thead>\n",
       "  <tbody>\n",
       "    <tr>\n",
       "      <th>0</th>\n",
       "      <td>Q</td>\n",
       "      <td>352</td>\n",
       "    </tr>\n",
       "    <tr>\n",
       "      <th>1</th>\n",
       "      <td>WT</td>\n",
       "      <td>352</td>\n",
       "    </tr>\n",
       "    <tr>\n",
       "      <th>2</th>\n",
       "      <td>climate</td>\n",
       "      <td>352</td>\n",
       "    </tr>\n",
       "  </tbody>\n",
       "</table>\n",
       "</div>"
      ],
      "text/plain": [
       "  Variable group  File count\n",
       "0              Q         352\n",
       "1             WT         352\n",
       "2        climate         352"
      ]
     },
     "execution_count": 66,
     "metadata": {},
     "output_type": "execute_result"
    }
   ],
   "source": [
    "unique_groups, counts = np.unique(variables_, return_counts=True)\n",
    "pd.DataFrame({\"Variable group\": unique_groups, \"File count\": counts})"
   ]
  },
  {
   "cell_type": "markdown",
   "metadata": {},
   "source": [
    "## File structure\n",
    "\n",
    "From above, it looks like most files are of similar sizes within variable group and across models. So let's have a look at a file from each variable group. "
   ]
  },
  {
   "cell_type": "code",
   "execution_count": 79,
   "metadata": {},
   "outputs": [
    {
     "name": "stdout",
     "output_type": "stream",
     "text": [
      "File /beegfs/CMIP6/arctic-cmip6/Arctic_Rivers_Data/2034_fPGWh_Q.nc\n",
      "<xarray.Dataset> Size: 50MB\n",
      "Dimensions:          (time: 365, seg: 34346)\n",
      "Coordinates:\n",
      "  * time             (time) datetime64[ns] 3kB 2034-01-01T12:00:00 ... 2034-1...\n",
      "  * seg              (seg) int64 275kB 81009065 81010344 ... 81019848 81019993\n",
      "Data variables:\n",
      "    IRFroutedRunoff  (time, seg) float32 50MB ...\n",
      "Attributes:\n",
      "    version:  v1.2.1\n",
      "\n",
      "---------------------------------\n",
      "\n",
      "File /beegfs/CMIP6/arctic-cmip6/Arctic_Rivers_Data/2034_fPGWh_WT.nc\n",
      "<xarray.Dataset> Size: 600MB\n",
      "Dimensions:      (time: 365, no_seg: 2, hru: 34208)\n",
      "Coordinates:\n",
      "  * time         (time) datetime64[ns] 3kB 2034-01-01 2034-01-02 ... 2034-12-31\n",
      "  * no_seg       (no_seg) int32 8B 1 2\n",
      "  * hru          (hru) float64 274kB 8.1e+07 8.1e+07 8.1e+07 ... 8.1e+07 8.1e+07\n",
      "Data variables:\n",
      "    T_stream     (time, no_seg, hru) float64 200MB ...\n",
      "    T_air        (time, no_seg, hru) float64 200MB ...\n",
      "    T_headwater  (time, no_seg, hru) float64 200MB ...\n",
      "\n",
      "---------------------------------\n",
      "\n",
      "File /beegfs/CMIP6/arctic-cmip6/Arctic_Rivers_Data/2034_fPGWh_climate.nc\n",
      "<xarray.Dataset> Size: 4GB\n",
      "Dimensions:        (time: 365, hist_interval: 2, lon: 782, lat: 662)\n",
      "Coordinates:\n",
      "  * time           (time) datetime64[ns] 3kB 2034-01-02 ... 2035-01-01\n",
      "  * lon            (lon) float32 3kB 184.2 184.3 184.3 ... 225.7 225.7 225.8\n",
      "  * lat            (lat) float32 3kB 50.01 50.04 50.07 ... 69.83 69.86 69.89\n",
      "Dimensions without coordinates: hist_interval\n",
      "Data variables:\n",
      "    time_bounds    (time, hist_interval) datetime64[ns] 6kB ...\n",
      "    H2OSNO         (time, lat, lon) float32 756MB ...\n",
      "    QFLX_EVAP_TOT  (time, lat, lon) float32 756MB ...\n",
      "    RAIN           (time, lat, lon) float32 756MB ...\n",
      "    SNOW           (time, lat, lon) float32 756MB ...\n",
      "    TSA            (time, lat, lon) float32 756MB ...\n",
      "Attributes: (12/39)\n",
      "    title:                                     CLM History file information\n",
      "    comment:                                   NOTE: None of the variables ar...\n",
      "    Conventions:                               CF-1.0\n",
      "    history:                                   Sat May 18 12:36:10 2024: ncrc...\n",
      "    source:                                    Community Terrestrial Systems ...\n",
      "    hostname:                                  cheyenne\n",
      "    ...                                        ...\n",
      "    ctype_urban_impervious_road:               74\n",
      "    ctype_urban_pervious_road:                 75\n",
      "    cft_c3_crop:                               1\n",
      "    cft_c3_irrigated:                          2\n",
      "    time_period_freq:                          day_1\n",
      "    NCO:                                       netCDF Operators version 5.1.9...\n",
      "\n",
      "---------------------------------\n",
      "\n"
     ]
    }
   ],
   "source": [
    "tmp_fps = sorted([fp for fp in fps if \"fPGWh\" in fp.name])[:3]\n",
    "for fp in tmp_fps:\n",
    "    print(\"File\", fp)\n",
    "    print(xr.open_dataset(fp), end=\"\\n\\n---------------------------------\\n\\n\")"
   ]
  },
  {
   "cell_type": "code",
   "execution_count": null,
   "metadata": {},
   "outputs": [],
   "source": []
  }
 ],
 "metadata": {
  "kernelspec": {
   "display_name": "snap-geo",
   "language": "python",
   "name": "python3"
  },
  "language_info": {
   "codemirror_mode": {
    "name": "ipython",
    "version": 3
   },
   "file_extension": ".py",
   "mimetype": "text/x-python",
   "name": "python",
   "nbconvert_exporter": "python",
   "pygments_lexer": "ipython3",
   "version": "3.11.6"
  }
 },
 "nbformat": 4,
 "nbformat_minor": 2
}
