{
 "cells": [
  {
   "cell_type": "code",
   "execution_count": 1,
   "id": "ab7cb53d-e58f-4dbb-9d8d-46c4d2478e79",
   "metadata": {},
   "outputs": [],
   "source": [
    "import os\n",
    "import xarray as xr\n",
    "import rasterio as rio\n",
    "import numpy as np\n",
    "import dask\n",
    "import dask.array as da\n",
    "from dask.distributed import Client\n",
    "from dask import delayed\n",
    "from pyproj import Proj, Transformer, CRS\n",
    "from tqdm.auto import tqdm\n",
    "from pathlib import Path\n",
    "from wrf import PolarStereographic\n",
    "\n",
    "# local\n",
    "from config import models, scenarios, variable_di, precision_di, months, unit_di, summary_di, mo_names\n"
   ]
  },
  {
   "cell_type": "code",
   "execution_count": 2,
   "id": "9ce4cb2c-2dde-4868-9b03-81e12339eeda",
   "metadata": {},
   "outputs": [],
   "source": [
    "\n",
    "# Move the below block to config and let ist source the env var\n",
    "DATA_DIR = Path(os.getenv(\"DATA_DIR\") or \"/atlas_scratch/cparr4/ncar_replacement_data\")\n",
    "DATA_DIR.mkdir(exist_ok=True, parents=True)\n",
    "\n",
    "OUTPUT_DIR = Path(os.getenv(\"OUTPUT_DIR\") or \"/atlas_scratch/cparr4/AK_NCAR_12km_decadal_means_of_monthly_summaries\")\n",
    "OUTPUT_DIR.mkdir(exist_ok=True, parents=True)\n",
    "\n"
   ]
  },
  {
   "cell_type": "code",
   "execution_count": 3,
   "id": "e6fcd1a2-8862-4dc6-ab0e-520b88b89d5d",
   "metadata": {},
   "outputs": [],
   "source": [
    "paths = list(DATA_DIR.glob(\"*wf*.nc\"))\n",
    "assert len(paths) == 3000 # value learned from EDA notebook"
   ]
  },
  {
   "cell_type": "code",
   "execution_count": 4,
   "id": "3d48e6a1-bd77-4872-b498-98cd6ca563fe",
   "metadata": {},
   "outputs": [],
   "source": [
    "process_group_di = {}\n",
    "for model in models:\n",
    "    process_group_di[model] = {}\n",
    "    for scenario in scenarios:\n",
    "        process_group_di[model][scenario] = []\n",
    "\n",
    "for fp in paths:\n",
    "    fp_model = fp.name.split(\"_\")[0]\n",
    "    fp_scenario = fp.name.split(\"_\")[1]\n",
    "    process_group_di[fp_model][fp_scenario].append(fp)\n",
    "\n",
    "for model in models:\n",
    "    for scenario in scenarios:\n",
    "        assert len(process_group_di[model][scenario]) == 150"
   ]
  },
  {
   "cell_type": "code",
   "execution_count": 5,
   "id": "ab201586-76fb-4e77-a8db-c3bd85a7e755",
   "metadata": {},
   "outputs": [],
   "source": [
    "def mfload_all_netcdf_data(paths):\n",
    "    \"\"\"\n",
    "    Load and combine all netCDF files specified in `paths` into a single xarray DataArray.\n",
    "\n",
    "    Parameters:\n",
    "        paths (list): A list of file paths to netCDF files.\n",
    "\n",
    "    Returns:\n",
    "        datacube (xarray.DataArray): A combined xarray DataArray of all data from the netCDF files.\n",
    "    \"\"\"\n",
    "    with xr.open_mfdataset(paths, combine=\"nested\", concat_dim=[\"time\"]) as datacube:\n",
    "        return datacube"
   ]
  },
  {
   "cell_type": "code",
   "execution_count": 6,
   "id": "95236110-9284-4d92-93c0-749d4d046449",
   "metadata": {},
   "outputs": [],
   "source": [
    "def project_datacube(datacube):\n",
    "     \"\"\"\n",
    "    Projects an xarray datacube to a polar stereographic grid with a 12 km resolution.\n",
    "    \n",
    "    Parameters\n",
    "    ----------\n",
    "    datacube : xarray.Dataset\n",
    "        The input datacube to be projected. It should have the latitude and longitude dimensions.\n",
    "\n",
    "    Returns\n",
    "    -------\n",
    "    projected_datacube : xarray.Dataset\n",
    "        The projected datacube with the y and x dimensions. \n",
    "    wrf_raster_profile : dict\n",
    "        A dictionary containing parameters for the output raster such as the geotransform and the\n",
    "        dimensions of the raster. This can be used to write the projected datacube to a GeoTIFF file.\n",
    "    \"\"\"\n",
    "    wrf_proj_str = PolarStereographic(**{\"TRUELAT1\": 64, \"STAND_LON\": -150}).proj4()\n",
    "    wrf_proj = Proj(wrf_proj_str)\n",
    "    wgs_proj = Proj(proj='latlong', datum='WGS84')\n",
    "    \n",
    "    transformer = Transformer.from_proj(wgs_proj, wrf_proj)\n",
    "    e, n = transformer.transform(-150, 64)\n",
    "    # Grid parameters\n",
    "    dx, dy = 12000, 12000\n",
    "    ny, nx = datacube.longitude.shape[1:]\n",
    "    \n",
    "    # Down left corner of the domain\n",
    "    x0 = -(nx-1) / 2. * dx + e\n",
    "    y0 = -(ny-1) / 2. * dy + n\n",
    "    # 2d grid\n",
    "    x = np.arange(nx) * dx + x0\n",
    "    y = np.arange(ny) * dy + y0\n",
    "    \n",
    "    projected_datacube = datacube.assign_coords({\"y\": (\"y\", y), \"x\": (\"x\", x)})\n",
    "    \n",
    "    # Output geotiff creation profile params  \n",
    "    width = datacube.x.shape[0]\n",
    "    height = datacube.y.shape[0]\n",
    "    \n",
    "    # west and north\n",
    "    west = x0 - dx / 2\n",
    "    north = y[-1] + dy / 2\n",
    "    out_transform = rio.transform.from_origin(west, north, dx, dy)\n",
    "    \n",
    "    wrf_raster_profile = {\n",
    "        \"driver\": \"GTiff\",\n",
    "        \"crs\": CRS.from_proj4(wrf_proj_str),\n",
    "        \"transform\": out_transform,\n",
    "        \"width\": width,\n",
    "        \"height\": height,\n",
    "        \"count\": 1,\n",
    "        \"dtype\": np.float32,\n",
    "        \"nodata\": -9999,\n",
    "        \"tiled\": False,\n",
    "        \"compress\": \"lzw\",\n",
    "        \"interleave\": \"band\",\n",
    "    }\n",
    "    \n",
    "    datacube.close()\n",
    "    \n",
    "    return projected_datacube, wrf_raster_profile"
   ]
  },
  {
   "cell_type": "code",
   "execution_count": 7,
   "id": "b19c6c7f-0268-4e32-9cf8-989b033b2f11",
   "metadata": {},
   "outputs": [],
   "source": [
    "def list_years_in_decade(start_year):\n",
    "    return list(range(start_year, start_year + 10))\n",
    "\n",
    "\n",
    "def slice_by_decade(datacube, decade_start_year):\n",
    "    years = list_years_in_decade(decade_start_year)\n",
    "    decade_slice = datacube.isel(time=datacube.time.dt.year.isin(years))\n",
    "    return decade_slice"
   ]
  },
  {
   "cell_type": "code",
   "execution_count": 8,
   "id": "594da05e-7332-4123-af87-7ac681413ae7",
   "metadata": {},
   "outputs": [],
   "source": [
    "def compute_monthly_summaries(decade_slice, climvar):\n",
    "    \"\"\"\n",
    "    Compute monthly summaries like mean, total, etc. of a climatological variable over a decadal slice of data.\n",
    "    \n",
    "    Parameters\n",
    "    ----------\n",
    "    decade_slice : xarray.Dataset\n",
    "        A slice of data corresponding to a decade.\n",
    "    climvar : str\n",
    "        Name of the climatological variable to summarize.\n",
    "    \n",
    "    Returns\n",
    "    -------\n",
    "    xr.DataArray\n",
    "        A dataset containing the decadal monthly summaries of the given climatological variable.\n",
    "    \"\"\"\n",
    "    \n",
    "    summary_func = variable_di[\"wf\"][climvar]\n",
    "    out = (\n",
    "        decade_slice[climvar]\n",
    "        .resample(time=\"1M\")\n",
    "        .reduce(summary_func)\n",
    "        .groupby(\"time.month\")\n",
    "        .reduce(np.mean)  # decadal summary is always a mean\n",
    "    )\n",
    "    dec_mean_monthly_summary = out.compute()\n",
    "    return dec_mean_monthly_summary\n"
   ]
  },
  {
   "cell_type": "code",
   "execution_count": 9,
   "id": "611cc236-7b02-4bc0-90e1-ba5651f0aedf",
   "metadata": {},
   "outputs": [],
   "source": [
    "def array_from_monthly_summary(dec_mean_monthly_summary, climvar, month):\n",
    "    \n",
    "    # we lose the orientation from xr and it flips upside down\n",
    "    data = np.flipud(dec_mean_monthly_summary.sel(month=month).data)\n",
    "    # round to sensible precision levels\n",
    "    data = data.round(precision_di[climvar])\n",
    "    # set nodata values to -9999\n",
    "    data = np.nan_to_num(data, nan=-9999.0)\n",
    "    return data"
   ]
  },
  {
   "cell_type": "code",
   "execution_count": 10,
   "id": "ab9e05e6-21f4-41bc-a40e-1209b9d1b31a",
   "metadata": {},
   "outputs": [],
   "source": [
    "def make_output_filename(climvar, model, scenario, month, start_year):\n",
    "    \"\"\"\n",
    "    Constructs an output filename for a climatic variable summary.\n",
    "    \n",
    "    Args:\n",
    "        climvar (str): name of the physical variable\n",
    "        model (str): name of the climate model\n",
    "        scenario (str): name of the emissions scenario\n",
    "        month (int): month number (1-12)\n",
    "        start_year (int): first year of the decade for the summary period.\n",
    "        \n",
    "    Returns:\n",
    "        str: A string representing the output filename in the format of \"<climvar>_<units>_<model>_<scenario>_<month_abbrev>_<summary_func>_<start_year>-<end_year>_mean.tif\".\n",
    "\n",
    "    \"\"\"\n",
    "    units = unit_di[climvar]\n",
    "    mo_summary_func = summary_di[climvar]\n",
    "    out_filename = f\"{climvar.lower()}_{units}_{model}_{scenario}_{mo_names[month]}_{mo_summary_func}_{start_year}-{start_year + 10}_mean.tif\"\n",
    "    return out_filename\n"
   ]
  },
  {
   "cell_type": "code",
   "execution_count": 11,
   "id": "6fc5e7e3-01c9-4b93-bae0-0b7060d68418",
   "metadata": {},
   "outputs": [],
   "source": [
    "def write_raster_to_disk(out_filename, raster_profile, raster_data):\n",
    "    \"\"\"\n",
    "    Args:\n",
    "        out_filename (str): name of the output GeoTIFF.\n",
    "        raster_profile (dict): raster profile parameters used to create the output GeoTIFF.\n",
    "        raster_data (ndarray): raster data to be written to disk.\n",
    "\n",
    "    Returns:\n",
    "        None\n",
    "    \"\"\"\n",
    "    with rio.open(\n",
    "        OUTPUT_DIR / out_filename, \"w\", **raster_profile\n",
    "    ) as dst:\n",
    "        dst.write(raster_data, 1)"
   ]
  },
  {
   "cell_type": "code",
   "execution_count": 12,
   "id": "b69af84b-286d-4299-a84d-211fefdd5820",
   "metadata": {},
   "outputs": [
    {
     "data": {
      "text/html": [
       "<div>\n",
       "    <div style=\"width: 24px; height: 24px; background-color: #e1e1e1; border: 3px solid #9D9D9D; border-radius: 5px; position: absolute;\"> </div>\n",
       "    <div style=\"margin-left: 48px;\">\n",
       "        <h3 style=\"margin-bottom: 0px;\">Client</h3>\n",
       "        <p style=\"color: #9D9D9D; margin-bottom: 0px;\">Client-a47d7666-ce80-11ed-9bc0-0025907c0d3c</p>\n",
       "        <table style=\"width: 100%; text-align: left;\">\n",
       "\n",
       "        <tr>\n",
       "        \n",
       "            <td style=\"text-align: left;\"><strong>Connection method:</strong> Cluster object</td>\n",
       "            <td style=\"text-align: left;\"><strong>Cluster type:</strong> distributed.LocalCluster</td>\n",
       "        \n",
       "        </tr>\n",
       "\n",
       "        \n",
       "            <tr>\n",
       "                <td style=\"text-align: left;\">\n",
       "                    <strong>Dashboard: </strong> <a href=\"http://127.0.0.1:8787/status\" target=\"_blank\">http://127.0.0.1:8787/status</a>\n",
       "                </td>\n",
       "                <td style=\"text-align: left;\"></td>\n",
       "            </tr>\n",
       "        \n",
       "\n",
       "        </table>\n",
       "\n",
       "        \n",
       "            <button style=\"margin-bottom: 12px;\" data-commandlinker-command=\"dask:populate-and-launch-layout\" data-commandlinker-args='{\"url\": \"http://127.0.0.1:8787/status\" }'>\n",
       "                Launch dashboard in JupyterLab\n",
       "            </button>\n",
       "        \n",
       "\n",
       "        \n",
       "            <details>\n",
       "            <summary style=\"margin-bottom: 20px;\"><h3 style=\"display: inline;\">Cluster Info</h3></summary>\n",
       "            <div class=\"jp-RenderedHTMLCommon jp-RenderedHTML jp-mod-trusted jp-OutputArea-output\">\n",
       "    <div style=\"width: 24px; height: 24px; background-color: #e1e1e1; border: 3px solid #9D9D9D; border-radius: 5px; position: absolute;\">\n",
       "    </div>\n",
       "    <div style=\"margin-left: 48px;\">\n",
       "        <h3 style=\"margin-bottom: 0px; margin-top: 0px;\">LocalCluster</h3>\n",
       "        <p style=\"color: #9D9D9D; margin-bottom: 0px;\">4e4f2eee</p>\n",
       "        <table style=\"width: 100%; text-align: left;\">\n",
       "            <tr>\n",
       "                <td style=\"text-align: left;\">\n",
       "                    <strong>Dashboard:</strong> <a href=\"http://127.0.0.1:8787/status\" target=\"_blank\">http://127.0.0.1:8787/status</a>\n",
       "                </td>\n",
       "                <td style=\"text-align: left;\">\n",
       "                    <strong>Workers:</strong> 8\n",
       "                </td>\n",
       "            </tr>\n",
       "            <tr>\n",
       "                <td style=\"text-align: left;\">\n",
       "                    <strong>Total threads:</strong> 32\n",
       "                </td>\n",
       "                <td style=\"text-align: left;\">\n",
       "                    <strong>Total memory:</strong> 251.72 GiB\n",
       "                </td>\n",
       "            </tr>\n",
       "            \n",
       "            <tr>\n",
       "    <td style=\"text-align: left;\"><strong>Status:</strong> running</td>\n",
       "    <td style=\"text-align: left;\"><strong>Using processes:</strong> True</td>\n",
       "</tr>\n",
       "\n",
       "            \n",
       "        </table>\n",
       "\n",
       "        <details>\n",
       "            <summary style=\"margin-bottom: 20px;\">\n",
       "                <h3 style=\"display: inline;\">Scheduler Info</h3>\n",
       "            </summary>\n",
       "\n",
       "            <div style=\"\">\n",
       "    <div>\n",
       "        <div style=\"width: 24px; height: 24px; background-color: #FFF7E5; border: 3px solid #FF6132; border-radius: 5px; position: absolute;\"> </div>\n",
       "        <div style=\"margin-left: 48px;\">\n",
       "            <h3 style=\"margin-bottom: 0px;\">Scheduler</h3>\n",
       "            <p style=\"color: #9D9D9D; margin-bottom: 0px;\">Scheduler-7d761b5c-be13-4e6a-a664-25640d83b418</p>\n",
       "            <table style=\"width: 100%; text-align: left;\">\n",
       "                <tr>\n",
       "                    <td style=\"text-align: left;\">\n",
       "                        <strong>Comm:</strong> tcp://127.0.0.1:33263\n",
       "                    </td>\n",
       "                    <td style=\"text-align: left;\">\n",
       "                        <strong>Workers:</strong> 8\n",
       "                    </td>\n",
       "                </tr>\n",
       "                <tr>\n",
       "                    <td style=\"text-align: left;\">\n",
       "                        <strong>Dashboard:</strong> <a href=\"http://127.0.0.1:8787/status\" target=\"_blank\">http://127.0.0.1:8787/status</a>\n",
       "                    </td>\n",
       "                    <td style=\"text-align: left;\">\n",
       "                        <strong>Total threads:</strong> 32\n",
       "                    </td>\n",
       "                </tr>\n",
       "                <tr>\n",
       "                    <td style=\"text-align: left;\">\n",
       "                        <strong>Started:</strong> Just now\n",
       "                    </td>\n",
       "                    <td style=\"text-align: left;\">\n",
       "                        <strong>Total memory:</strong> 251.72 GiB\n",
       "                    </td>\n",
       "                </tr>\n",
       "            </table>\n",
       "        </div>\n",
       "    </div>\n",
       "\n",
       "    <details style=\"margin-left: 48px;\">\n",
       "        <summary style=\"margin-bottom: 20px;\">\n",
       "            <h3 style=\"display: inline;\">Workers</h3>\n",
       "        </summary>\n",
       "\n",
       "        \n",
       "        <div style=\"margin-bottom: 20px;\">\n",
       "            <div style=\"width: 24px; height: 24px; background-color: #DBF5FF; border: 3px solid #4CC9FF; border-radius: 5px; position: absolute;\"> </div>\n",
       "            <div style=\"margin-left: 48px;\">\n",
       "            <details>\n",
       "                <summary>\n",
       "                    <h4 style=\"margin-bottom: 0px; display: inline;\">Worker: 0</h4>\n",
       "                </summary>\n",
       "                <table style=\"width: 100%; text-align: left;\">\n",
       "                    <tr>\n",
       "                        <td style=\"text-align: left;\">\n",
       "                            <strong>Comm: </strong> tcp://127.0.0.1:42445\n",
       "                        </td>\n",
       "                        <td style=\"text-align: left;\">\n",
       "                            <strong>Total threads: </strong> 4\n",
       "                        </td>\n",
       "                    </tr>\n",
       "                    <tr>\n",
       "                        <td style=\"text-align: left;\">\n",
       "                            <strong>Dashboard: </strong> <a href=\"http://127.0.0.1:40084/status\" target=\"_blank\">http://127.0.0.1:40084/status</a>\n",
       "                        </td>\n",
       "                        <td style=\"text-align: left;\">\n",
       "                            <strong>Memory: </strong> 31.46 GiB\n",
       "                        </td>\n",
       "                    </tr>\n",
       "                    <tr>\n",
       "                        <td style=\"text-align: left;\">\n",
       "                            <strong>Nanny: </strong> tcp://127.0.0.1:41243\n",
       "                        </td>\n",
       "                        <td style=\"text-align: left;\"></td>\n",
       "                    </tr>\n",
       "                    <tr>\n",
       "                        <td colspan=\"2\" style=\"text-align: left;\">\n",
       "                            <strong>Local directory: </strong> /tmp/dask-worker-space/worker-38q_u8fi\n",
       "                        </td>\n",
       "                    </tr>\n",
       "\n",
       "                    \n",
       "\n",
       "                    \n",
       "\n",
       "                </table>\n",
       "            </details>\n",
       "            </div>\n",
       "        </div>\n",
       "        \n",
       "        <div style=\"margin-bottom: 20px;\">\n",
       "            <div style=\"width: 24px; height: 24px; background-color: #DBF5FF; border: 3px solid #4CC9FF; border-radius: 5px; position: absolute;\"> </div>\n",
       "            <div style=\"margin-left: 48px;\">\n",
       "            <details>\n",
       "                <summary>\n",
       "                    <h4 style=\"margin-bottom: 0px; display: inline;\">Worker: 1</h4>\n",
       "                </summary>\n",
       "                <table style=\"width: 100%; text-align: left;\">\n",
       "                    <tr>\n",
       "                        <td style=\"text-align: left;\">\n",
       "                            <strong>Comm: </strong> tcp://127.0.0.1:34195\n",
       "                        </td>\n",
       "                        <td style=\"text-align: left;\">\n",
       "                            <strong>Total threads: </strong> 4\n",
       "                        </td>\n",
       "                    </tr>\n",
       "                    <tr>\n",
       "                        <td style=\"text-align: left;\">\n",
       "                            <strong>Dashboard: </strong> <a href=\"http://127.0.0.1:36021/status\" target=\"_blank\">http://127.0.0.1:36021/status</a>\n",
       "                        </td>\n",
       "                        <td style=\"text-align: left;\">\n",
       "                            <strong>Memory: </strong> 31.46 GiB\n",
       "                        </td>\n",
       "                    </tr>\n",
       "                    <tr>\n",
       "                        <td style=\"text-align: left;\">\n",
       "                            <strong>Nanny: </strong> tcp://127.0.0.1:38213\n",
       "                        </td>\n",
       "                        <td style=\"text-align: left;\"></td>\n",
       "                    </tr>\n",
       "                    <tr>\n",
       "                        <td colspan=\"2\" style=\"text-align: left;\">\n",
       "                            <strong>Local directory: </strong> /tmp/dask-worker-space/worker-pkle2q1m\n",
       "                        </td>\n",
       "                    </tr>\n",
       "\n",
       "                    \n",
       "\n",
       "                    \n",
       "\n",
       "                </table>\n",
       "            </details>\n",
       "            </div>\n",
       "        </div>\n",
       "        \n",
       "        <div style=\"margin-bottom: 20px;\">\n",
       "            <div style=\"width: 24px; height: 24px; background-color: #DBF5FF; border: 3px solid #4CC9FF; border-radius: 5px; position: absolute;\"> </div>\n",
       "            <div style=\"margin-left: 48px;\">\n",
       "            <details>\n",
       "                <summary>\n",
       "                    <h4 style=\"margin-bottom: 0px; display: inline;\">Worker: 2</h4>\n",
       "                </summary>\n",
       "                <table style=\"width: 100%; text-align: left;\">\n",
       "                    <tr>\n",
       "                        <td style=\"text-align: left;\">\n",
       "                            <strong>Comm: </strong> tcp://127.0.0.1:42692\n",
       "                        </td>\n",
       "                        <td style=\"text-align: left;\">\n",
       "                            <strong>Total threads: </strong> 4\n",
       "                        </td>\n",
       "                    </tr>\n",
       "                    <tr>\n",
       "                        <td style=\"text-align: left;\">\n",
       "                            <strong>Dashboard: </strong> <a href=\"http://127.0.0.1:35896/status\" target=\"_blank\">http://127.0.0.1:35896/status</a>\n",
       "                        </td>\n",
       "                        <td style=\"text-align: left;\">\n",
       "                            <strong>Memory: </strong> 31.46 GiB\n",
       "                        </td>\n",
       "                    </tr>\n",
       "                    <tr>\n",
       "                        <td style=\"text-align: left;\">\n",
       "                            <strong>Nanny: </strong> tcp://127.0.0.1:46143\n",
       "                        </td>\n",
       "                        <td style=\"text-align: left;\"></td>\n",
       "                    </tr>\n",
       "                    <tr>\n",
       "                        <td colspan=\"2\" style=\"text-align: left;\">\n",
       "                            <strong>Local directory: </strong> /tmp/dask-worker-space/worker-my8f415w\n",
       "                        </td>\n",
       "                    </tr>\n",
       "\n",
       "                    \n",
       "\n",
       "                    \n",
       "\n",
       "                </table>\n",
       "            </details>\n",
       "            </div>\n",
       "        </div>\n",
       "        \n",
       "        <div style=\"margin-bottom: 20px;\">\n",
       "            <div style=\"width: 24px; height: 24px; background-color: #DBF5FF; border: 3px solid #4CC9FF; border-radius: 5px; position: absolute;\"> </div>\n",
       "            <div style=\"margin-left: 48px;\">\n",
       "            <details>\n",
       "                <summary>\n",
       "                    <h4 style=\"margin-bottom: 0px; display: inline;\">Worker: 3</h4>\n",
       "                </summary>\n",
       "                <table style=\"width: 100%; text-align: left;\">\n",
       "                    <tr>\n",
       "                        <td style=\"text-align: left;\">\n",
       "                            <strong>Comm: </strong> tcp://127.0.0.1:37747\n",
       "                        </td>\n",
       "                        <td style=\"text-align: left;\">\n",
       "                            <strong>Total threads: </strong> 4\n",
       "                        </td>\n",
       "                    </tr>\n",
       "                    <tr>\n",
       "                        <td style=\"text-align: left;\">\n",
       "                            <strong>Dashboard: </strong> <a href=\"http://127.0.0.1:34181/status\" target=\"_blank\">http://127.0.0.1:34181/status</a>\n",
       "                        </td>\n",
       "                        <td style=\"text-align: left;\">\n",
       "                            <strong>Memory: </strong> 31.46 GiB\n",
       "                        </td>\n",
       "                    </tr>\n",
       "                    <tr>\n",
       "                        <td style=\"text-align: left;\">\n",
       "                            <strong>Nanny: </strong> tcp://127.0.0.1:40626\n",
       "                        </td>\n",
       "                        <td style=\"text-align: left;\"></td>\n",
       "                    </tr>\n",
       "                    <tr>\n",
       "                        <td colspan=\"2\" style=\"text-align: left;\">\n",
       "                            <strong>Local directory: </strong> /tmp/dask-worker-space/worker-sky8ibc5\n",
       "                        </td>\n",
       "                    </tr>\n",
       "\n",
       "                    \n",
       "\n",
       "                    \n",
       "\n",
       "                </table>\n",
       "            </details>\n",
       "            </div>\n",
       "        </div>\n",
       "        \n",
       "        <div style=\"margin-bottom: 20px;\">\n",
       "            <div style=\"width: 24px; height: 24px; background-color: #DBF5FF; border: 3px solid #4CC9FF; border-radius: 5px; position: absolute;\"> </div>\n",
       "            <div style=\"margin-left: 48px;\">\n",
       "            <details>\n",
       "                <summary>\n",
       "                    <h4 style=\"margin-bottom: 0px; display: inline;\">Worker: 4</h4>\n",
       "                </summary>\n",
       "                <table style=\"width: 100%; text-align: left;\">\n",
       "                    <tr>\n",
       "                        <td style=\"text-align: left;\">\n",
       "                            <strong>Comm: </strong> tcp://127.0.0.1:36187\n",
       "                        </td>\n",
       "                        <td style=\"text-align: left;\">\n",
       "                            <strong>Total threads: </strong> 4\n",
       "                        </td>\n",
       "                    </tr>\n",
       "                    <tr>\n",
       "                        <td style=\"text-align: left;\">\n",
       "                            <strong>Dashboard: </strong> <a href=\"http://127.0.0.1:39951/status\" target=\"_blank\">http://127.0.0.1:39951/status</a>\n",
       "                        </td>\n",
       "                        <td style=\"text-align: left;\">\n",
       "                            <strong>Memory: </strong> 31.46 GiB\n",
       "                        </td>\n",
       "                    </tr>\n",
       "                    <tr>\n",
       "                        <td style=\"text-align: left;\">\n",
       "                            <strong>Nanny: </strong> tcp://127.0.0.1:38520\n",
       "                        </td>\n",
       "                        <td style=\"text-align: left;\"></td>\n",
       "                    </tr>\n",
       "                    <tr>\n",
       "                        <td colspan=\"2\" style=\"text-align: left;\">\n",
       "                            <strong>Local directory: </strong> /tmp/dask-worker-space/worker-6rjdycw4\n",
       "                        </td>\n",
       "                    </tr>\n",
       "\n",
       "                    \n",
       "\n",
       "                    \n",
       "\n",
       "                </table>\n",
       "            </details>\n",
       "            </div>\n",
       "        </div>\n",
       "        \n",
       "        <div style=\"margin-bottom: 20px;\">\n",
       "            <div style=\"width: 24px; height: 24px; background-color: #DBF5FF; border: 3px solid #4CC9FF; border-radius: 5px; position: absolute;\"> </div>\n",
       "            <div style=\"margin-left: 48px;\">\n",
       "            <details>\n",
       "                <summary>\n",
       "                    <h4 style=\"margin-bottom: 0px; display: inline;\">Worker: 5</h4>\n",
       "                </summary>\n",
       "                <table style=\"width: 100%; text-align: left;\">\n",
       "                    <tr>\n",
       "                        <td style=\"text-align: left;\">\n",
       "                            <strong>Comm: </strong> tcp://127.0.0.1:36535\n",
       "                        </td>\n",
       "                        <td style=\"text-align: left;\">\n",
       "                            <strong>Total threads: </strong> 4\n",
       "                        </td>\n",
       "                    </tr>\n",
       "                    <tr>\n",
       "                        <td style=\"text-align: left;\">\n",
       "                            <strong>Dashboard: </strong> <a href=\"http://127.0.0.1:43138/status\" target=\"_blank\">http://127.0.0.1:43138/status</a>\n",
       "                        </td>\n",
       "                        <td style=\"text-align: left;\">\n",
       "                            <strong>Memory: </strong> 31.46 GiB\n",
       "                        </td>\n",
       "                    </tr>\n",
       "                    <tr>\n",
       "                        <td style=\"text-align: left;\">\n",
       "                            <strong>Nanny: </strong> tcp://127.0.0.1:38115\n",
       "                        </td>\n",
       "                        <td style=\"text-align: left;\"></td>\n",
       "                    </tr>\n",
       "                    <tr>\n",
       "                        <td colspan=\"2\" style=\"text-align: left;\">\n",
       "                            <strong>Local directory: </strong> /tmp/dask-worker-space/worker-btjwz3m4\n",
       "                        </td>\n",
       "                    </tr>\n",
       "\n",
       "                    \n",
       "\n",
       "                    \n",
       "\n",
       "                </table>\n",
       "            </details>\n",
       "            </div>\n",
       "        </div>\n",
       "        \n",
       "        <div style=\"margin-bottom: 20px;\">\n",
       "            <div style=\"width: 24px; height: 24px; background-color: #DBF5FF; border: 3px solid #4CC9FF; border-radius: 5px; position: absolute;\"> </div>\n",
       "            <div style=\"margin-left: 48px;\">\n",
       "            <details>\n",
       "                <summary>\n",
       "                    <h4 style=\"margin-bottom: 0px; display: inline;\">Worker: 6</h4>\n",
       "                </summary>\n",
       "                <table style=\"width: 100%; text-align: left;\">\n",
       "                    <tr>\n",
       "                        <td style=\"text-align: left;\">\n",
       "                            <strong>Comm: </strong> tcp://127.0.0.1:37002\n",
       "                        </td>\n",
       "                        <td style=\"text-align: left;\">\n",
       "                            <strong>Total threads: </strong> 4\n",
       "                        </td>\n",
       "                    </tr>\n",
       "                    <tr>\n",
       "                        <td style=\"text-align: left;\">\n",
       "                            <strong>Dashboard: </strong> <a href=\"http://127.0.0.1:45854/status\" target=\"_blank\">http://127.0.0.1:45854/status</a>\n",
       "                        </td>\n",
       "                        <td style=\"text-align: left;\">\n",
       "                            <strong>Memory: </strong> 31.46 GiB\n",
       "                        </td>\n",
       "                    </tr>\n",
       "                    <tr>\n",
       "                        <td style=\"text-align: left;\">\n",
       "                            <strong>Nanny: </strong> tcp://127.0.0.1:36081\n",
       "                        </td>\n",
       "                        <td style=\"text-align: left;\"></td>\n",
       "                    </tr>\n",
       "                    <tr>\n",
       "                        <td colspan=\"2\" style=\"text-align: left;\">\n",
       "                            <strong>Local directory: </strong> /tmp/dask-worker-space/worker-vambt6ed\n",
       "                        </td>\n",
       "                    </tr>\n",
       "\n",
       "                    \n",
       "\n",
       "                    \n",
       "\n",
       "                </table>\n",
       "            </details>\n",
       "            </div>\n",
       "        </div>\n",
       "        \n",
       "        <div style=\"margin-bottom: 20px;\">\n",
       "            <div style=\"width: 24px; height: 24px; background-color: #DBF5FF; border: 3px solid #4CC9FF; border-radius: 5px; position: absolute;\"> </div>\n",
       "            <div style=\"margin-left: 48px;\">\n",
       "            <details>\n",
       "                <summary>\n",
       "                    <h4 style=\"margin-bottom: 0px; display: inline;\">Worker: 7</h4>\n",
       "                </summary>\n",
       "                <table style=\"width: 100%; text-align: left;\">\n",
       "                    <tr>\n",
       "                        <td style=\"text-align: left;\">\n",
       "                            <strong>Comm: </strong> tcp://127.0.0.1:36156\n",
       "                        </td>\n",
       "                        <td style=\"text-align: left;\">\n",
       "                            <strong>Total threads: </strong> 4\n",
       "                        </td>\n",
       "                    </tr>\n",
       "                    <tr>\n",
       "                        <td style=\"text-align: left;\">\n",
       "                            <strong>Dashboard: </strong> <a href=\"http://127.0.0.1:34708/status\" target=\"_blank\">http://127.0.0.1:34708/status</a>\n",
       "                        </td>\n",
       "                        <td style=\"text-align: left;\">\n",
       "                            <strong>Memory: </strong> 31.46 GiB\n",
       "                        </td>\n",
       "                    </tr>\n",
       "                    <tr>\n",
       "                        <td style=\"text-align: left;\">\n",
       "                            <strong>Nanny: </strong> tcp://127.0.0.1:41620\n",
       "                        </td>\n",
       "                        <td style=\"text-align: left;\"></td>\n",
       "                    </tr>\n",
       "                    <tr>\n",
       "                        <td colspan=\"2\" style=\"text-align: left;\">\n",
       "                            <strong>Local directory: </strong> /tmp/dask-worker-space/worker-4a_51mzt\n",
       "                        </td>\n",
       "                    </tr>\n",
       "\n",
       "                    \n",
       "\n",
       "                    \n",
       "\n",
       "                </table>\n",
       "            </details>\n",
       "            </div>\n",
       "        </div>\n",
       "        \n",
       "\n",
       "    </details>\n",
       "</div>\n",
       "\n",
       "        </details>\n",
       "    </div>\n",
       "</div>\n",
       "            </details>\n",
       "        \n",
       "\n",
       "    </div>\n",
       "</div>"
      ],
      "text/plain": [
       "<Client: 'tcp://127.0.0.1:33263' processes=8 threads=32, memory=251.72 GiB>"
      ]
     },
     "execution_count": 12,
     "metadata": {},
     "output_type": "execute_result"
    }
   ],
   "source": [
    "# create dask client\n",
    "client = Client()\n",
    "client"
   ]
  },
  {
   "cell_type": "code",
   "execution_count": 13,
   "id": "1419c04f-3250-4bd7-b74f-a16ddae61985",
   "metadata": {},
   "outputs": [
    {
     "data": {
      "application/vnd.jupyter.widget-view+json": {
       "model_id": "b21c3502143c4fec86663b191a699845",
       "version_major": 2,
       "version_minor": 0
      },
      "text/plain": [
       "Processing ACCESS1-3 rcp45 data...:   0%|          | 0/15 [00:00<?, ?it/s]"
      ]
     },
     "metadata": {},
     "output_type": "display_data"
    },
    {
     "data": {
      "application/vnd.jupyter.widget-view+json": {
       "model_id": "9ad0369db2804c8aa5bd03ba7fa028c2",
       "version_major": 2,
       "version_minor": 0
      },
      "text/plain": [
       "Processing 1950s:   0%|          | 0/4 [00:00<?, ?it/s]"
      ]
     },
     "metadata": {},
     "output_type": "display_data"
    },
    {
     "data": {
      "application/vnd.jupyter.widget-view+json": {
       "model_id": "ccb3015beba04293b25cfa0568b501f4",
       "version_major": 2,
       "version_minor": 0
      },
      "text/plain": [
       "Processing 1960s:   0%|          | 0/4 [00:00<?, ?it/s]"
      ]
     },
     "metadata": {},
     "output_type": "display_data"
    },
    {
     "data": {
      "application/vnd.jupyter.widget-view+json": {
       "model_id": "6e2cca92c1b24eeca844b1d67f549d1b",
       "version_major": 2,
       "version_minor": 0
      },
      "text/plain": [
       "Processing 1970s:   0%|          | 0/4 [00:00<?, ?it/s]"
      ]
     },
     "metadata": {},
     "output_type": "display_data"
    },
    {
     "data": {
      "application/vnd.jupyter.widget-view+json": {
       "model_id": "83d0d8b7b7d7446f97be8097d398b05e",
       "version_major": 2,
       "version_minor": 0
      },
      "text/plain": [
       "Processing 1980s:   0%|          | 0/4 [00:00<?, ?it/s]"
      ]
     },
     "metadata": {},
     "output_type": "display_data"
    },
    {
     "data": {
      "application/vnd.jupyter.widget-view+json": {
       "model_id": "170cba0fe3e244789bcbb5579a349fcf",
       "version_major": 2,
       "version_minor": 0
      },
      "text/plain": [
       "Processing 1990s:   0%|          | 0/4 [00:00<?, ?it/s]"
      ]
     },
     "metadata": {},
     "output_type": "display_data"
    },
    {
     "data": {
      "application/vnd.jupyter.widget-view+json": {
       "model_id": "7917e176f3ba4341b5662425e6c62a18",
       "version_major": 2,
       "version_minor": 0
      },
      "text/plain": [
       "Processing 2000s:   0%|          | 0/4 [00:00<?, ?it/s]"
      ]
     },
     "metadata": {},
     "output_type": "display_data"
    },
    {
     "data": {
      "application/vnd.jupyter.widget-view+json": {
       "model_id": "30220c4b388d41e18904f068401bb6e4",
       "version_major": 2,
       "version_minor": 0
      },
      "text/plain": [
       "Processing 2010s:   0%|          | 0/4 [00:00<?, ?it/s]"
      ]
     },
     "metadata": {},
     "output_type": "display_data"
    },
    {
     "data": {
      "application/vnd.jupyter.widget-view+json": {
       "model_id": "d0973b3ace4c4fc3891c02d7645f18c4",
       "version_major": 2,
       "version_minor": 0
      },
      "text/plain": [
       "Processing 2020s:   0%|          | 0/4 [00:00<?, ?it/s]"
      ]
     },
     "metadata": {},
     "output_type": "display_data"
    },
    {
     "data": {
      "application/vnd.jupyter.widget-view+json": {
       "model_id": "05e7e68151aa449bb02c755618212ebb",
       "version_major": 2,
       "version_minor": 0
      },
      "text/plain": [
       "Processing 2030s:   0%|          | 0/4 [00:00<?, ?it/s]"
      ]
     },
     "metadata": {},
     "output_type": "display_data"
    },
    {
     "data": {
      "application/vnd.jupyter.widget-view+json": {
       "model_id": "59354fc416804505a49848654e6594d4",
       "version_major": 2,
       "version_minor": 0
      },
      "text/plain": [
       "Processing 2040s:   0%|          | 0/4 [00:00<?, ?it/s]"
      ]
     },
     "metadata": {},
     "output_type": "display_data"
    },
    {
     "data": {
      "application/vnd.jupyter.widget-view+json": {
       "model_id": "031bd3aa006b40868597ce033e55e9ea",
       "version_major": 2,
       "version_minor": 0
      },
      "text/plain": [
       "Processing 2050s:   0%|          | 0/4 [00:00<?, ?it/s]"
      ]
     },
     "metadata": {},
     "output_type": "display_data"
    },
    {
     "data": {
      "application/vnd.jupyter.widget-view+json": {
       "model_id": "03be306e7e3449ab8ee881d75287a939",
       "version_major": 2,
       "version_minor": 0
      },
      "text/plain": [
       "Processing 2060s:   0%|          | 0/4 [00:00<?, ?it/s]"
      ]
     },
     "metadata": {},
     "output_type": "display_data"
    },
    {
     "data": {
      "application/vnd.jupyter.widget-view+json": {
       "model_id": "47fb8673734b4b429a134bf8757a9c29",
       "version_major": 2,
       "version_minor": 0
      },
      "text/plain": [
       "Processing 2070s:   0%|          | 0/4 [00:00<?, ?it/s]"
      ]
     },
     "metadata": {},
     "output_type": "display_data"
    },
    {
     "data": {
      "application/vnd.jupyter.widget-view+json": {
       "model_id": "c2471688d63543b0b5c3f84f8a8c09c0",
       "version_major": 2,
       "version_minor": 0
      },
      "text/plain": [
       "Processing 2080s:   0%|          | 0/4 [00:00<?, ?it/s]"
      ]
     },
     "metadata": {},
     "output_type": "display_data"
    },
    {
     "data": {
      "application/vnd.jupyter.widget-view+json": {
       "model_id": "7f8a2fdafad043bd9002ea3e9420b1cc",
       "version_major": 2,
       "version_minor": 0
      },
      "text/plain": [
       "Processing 2090s:   0%|          | 0/4 [00:00<?, ?it/s]"
      ]
     },
     "metadata": {},
     "output_type": "display_data"
    },
    {
     "data": {
      "application/vnd.jupyter.widget-view+json": {
       "model_id": "47c532fc189a4983b56e17ba4d6dedb4",
       "version_major": 2,
       "version_minor": 0
      },
      "text/plain": [
       "Processing ACCESS1-3 rcp85 data...:   0%|          | 0/15 [00:00<?, ?it/s]"
      ]
     },
     "metadata": {},
     "output_type": "display_data"
    },
    {
     "data": {
      "application/vnd.jupyter.widget-view+json": {
       "model_id": "8660ddfe99d6481bb0b51262b0f82a76",
       "version_major": 2,
       "version_minor": 0
      },
      "text/plain": [
       "Processing 1950s:   0%|          | 0/4 [00:00<?, ?it/s]"
      ]
     },
     "metadata": {},
     "output_type": "display_data"
    },
    {
     "data": {
      "application/vnd.jupyter.widget-view+json": {
       "model_id": "197a663003ca4f968ec7d9ea505a7a43",
       "version_major": 2,
       "version_minor": 0
      },
      "text/plain": [
       "Processing 1960s:   0%|          | 0/4 [00:00<?, ?it/s]"
      ]
     },
     "metadata": {},
     "output_type": "display_data"
    },
    {
     "data": {
      "application/vnd.jupyter.widget-view+json": {
       "model_id": "6bc11b2186c443ffaebaf5743788af69",
       "version_major": 2,
       "version_minor": 0
      },
      "text/plain": [
       "Processing 1970s:   0%|          | 0/4 [00:00<?, ?it/s]"
      ]
     },
     "metadata": {},
     "output_type": "display_data"
    },
    {
     "data": {
      "application/vnd.jupyter.widget-view+json": {
       "model_id": "1655b8f0115346a58907a808c26c6b1d",
       "version_major": 2,
       "version_minor": 0
      },
      "text/plain": [
       "Processing 1980s:   0%|          | 0/4 [00:00<?, ?it/s]"
      ]
     },
     "metadata": {},
     "output_type": "display_data"
    },
    {
     "data": {
      "application/vnd.jupyter.widget-view+json": {
       "model_id": "8f11d84eb0a14e45ae34f3d3b09f5e0a",
       "version_major": 2,
       "version_minor": 0
      },
      "text/plain": [
       "Processing 1990s:   0%|          | 0/4 [00:00<?, ?it/s]"
      ]
     },
     "metadata": {},
     "output_type": "display_data"
    },
    {
     "data": {
      "application/vnd.jupyter.widget-view+json": {
       "model_id": "0c81f7bc855d400bafdeb10d475aef09",
       "version_major": 2,
       "version_minor": 0
      },
      "text/plain": [
       "Processing 2000s:   0%|          | 0/4 [00:00<?, ?it/s]"
      ]
     },
     "metadata": {},
     "output_type": "display_data"
    },
    {
     "data": {
      "application/vnd.jupyter.widget-view+json": {
       "model_id": "859db4c3950441c6ac75f074c4a91ca1",
       "version_major": 2,
       "version_minor": 0
      },
      "text/plain": [
       "Processing 2010s:   0%|          | 0/4 [00:00<?, ?it/s]"
      ]
     },
     "metadata": {},
     "output_type": "display_data"
    },
    {
     "data": {
      "application/vnd.jupyter.widget-view+json": {
       "model_id": "a91445ceb2cc43a5bd702917a401a325",
       "version_major": 2,
       "version_minor": 0
      },
      "text/plain": [
       "Processing 2020s:   0%|          | 0/4 [00:00<?, ?it/s]"
      ]
     },
     "metadata": {},
     "output_type": "display_data"
    },
    {
     "data": {
      "application/vnd.jupyter.widget-view+json": {
       "model_id": "759879e9de19407782a11f5025d69867",
       "version_major": 2,
       "version_minor": 0
      },
      "text/plain": [
       "Processing 2030s:   0%|          | 0/4 [00:00<?, ?it/s]"
      ]
     },
     "metadata": {},
     "output_type": "display_data"
    },
    {
     "data": {
      "application/vnd.jupyter.widget-view+json": {
       "model_id": "537d1a40c86f4378bfb85630611678a9",
       "version_major": 2,
       "version_minor": 0
      },
      "text/plain": [
       "Processing 2040s:   0%|          | 0/4 [00:00<?, ?it/s]"
      ]
     },
     "metadata": {},
     "output_type": "display_data"
    },
    {
     "data": {
      "application/vnd.jupyter.widget-view+json": {
       "model_id": "860859a569864060a386df078030a791",
       "version_major": 2,
       "version_minor": 0
      },
      "text/plain": [
       "Processing 2050s:   0%|          | 0/4 [00:00<?, ?it/s]"
      ]
     },
     "metadata": {},
     "output_type": "display_data"
    },
    {
     "data": {
      "application/vnd.jupyter.widget-view+json": {
       "model_id": "dc772405e242438682f57c3afbfdee12",
       "version_major": 2,
       "version_minor": 0
      },
      "text/plain": [
       "Processing 2060s:   0%|          | 0/4 [00:00<?, ?it/s]"
      ]
     },
     "metadata": {},
     "output_type": "display_data"
    },
    {
     "data": {
      "application/vnd.jupyter.widget-view+json": {
       "model_id": "f55ce4e4b7bb4398bf79bb4d4cbd9651",
       "version_major": 2,
       "version_minor": 0
      },
      "text/plain": [
       "Processing 2070s:   0%|          | 0/4 [00:00<?, ?it/s]"
      ]
     },
     "metadata": {},
     "output_type": "display_data"
    },
    {
     "data": {
      "application/vnd.jupyter.widget-view+json": {
       "model_id": "0c15cc0708a44209a07cd23038a79029",
       "version_major": 2,
       "version_minor": 0
      },
      "text/plain": [
       "Processing 2080s:   0%|          | 0/4 [00:00<?, ?it/s]"
      ]
     },
     "metadata": {},
     "output_type": "display_data"
    },
    {
     "data": {
      "application/vnd.jupyter.widget-view+json": {
       "model_id": "4d1166338bfd456a9ec2aa4e587b81db",
       "version_major": 2,
       "version_minor": 0
      },
      "text/plain": [
       "Processing 2090s:   0%|          | 0/4 [00:00<?, ?it/s]"
      ]
     },
     "metadata": {},
     "output_type": "display_data"
    },
    {
     "data": {
      "application/vnd.jupyter.widget-view+json": {
       "model_id": "fe9d5619745f4a338f3525e12d106065",
       "version_major": 2,
       "version_minor": 0
      },
      "text/plain": [
       "Processing CanESM2 rcp45 data...:   0%|          | 0/15 [00:00<?, ?it/s]"
      ]
     },
     "metadata": {},
     "output_type": "display_data"
    },
    {
     "data": {
      "application/vnd.jupyter.widget-view+json": {
       "model_id": "5c5fb6f857094eac88b828443f8667c1",
       "version_major": 2,
       "version_minor": 0
      },
      "text/plain": [
       "Processing 1950s:   0%|          | 0/4 [00:00<?, ?it/s]"
      ]
     },
     "metadata": {},
     "output_type": "display_data"
    },
    {
     "data": {
      "application/vnd.jupyter.widget-view+json": {
       "model_id": "695e33a4016a40ffae995aff06039b8a",
       "version_major": 2,
       "version_minor": 0
      },
      "text/plain": [
       "Processing 1960s:   0%|          | 0/4 [00:00<?, ?it/s]"
      ]
     },
     "metadata": {},
     "output_type": "display_data"
    },
    {
     "data": {
      "application/vnd.jupyter.widget-view+json": {
       "model_id": "09d467129ed74c77a8cbcd4502c4a6cb",
       "version_major": 2,
       "version_minor": 0
      },
      "text/plain": [
       "Processing 1970s:   0%|          | 0/4 [00:00<?, ?it/s]"
      ]
     },
     "metadata": {},
     "output_type": "display_data"
    },
    {
     "data": {
      "application/vnd.jupyter.widget-view+json": {
       "model_id": "427dac2e0be047a6a2735fa796d59d09",
       "version_major": 2,
       "version_minor": 0
      },
      "text/plain": [
       "Processing 1980s:   0%|          | 0/4 [00:00<?, ?it/s]"
      ]
     },
     "metadata": {},
     "output_type": "display_data"
    },
    {
     "data": {
      "application/vnd.jupyter.widget-view+json": {
       "model_id": "48cbb71ceff145b08ca04f40c5ab7015",
       "version_major": 2,
       "version_minor": 0
      },
      "text/plain": [
       "Processing 1990s:   0%|          | 0/4 [00:00<?, ?it/s]"
      ]
     },
     "metadata": {},
     "output_type": "display_data"
    },
    {
     "data": {
      "application/vnd.jupyter.widget-view+json": {
       "model_id": "bdbf7b29707e41d198e851d093160090",
       "version_major": 2,
       "version_minor": 0
      },
      "text/plain": [
       "Processing 2000s:   0%|          | 0/4 [00:00<?, ?it/s]"
      ]
     },
     "metadata": {},
     "output_type": "display_data"
    },
    {
     "data": {
      "application/vnd.jupyter.widget-view+json": {
       "model_id": "813aadd0c6be4f9da1f5d4b0729e5016",
       "version_major": 2,
       "version_minor": 0
      },
      "text/plain": [
       "Processing 2010s:   0%|          | 0/4 [00:00<?, ?it/s]"
      ]
     },
     "metadata": {},
     "output_type": "display_data"
    },
    {
     "data": {
      "application/vnd.jupyter.widget-view+json": {
       "model_id": "f2d45526dc604039a6510b4dbe41be1a",
       "version_major": 2,
       "version_minor": 0
      },
      "text/plain": [
       "Processing 2020s:   0%|          | 0/4 [00:00<?, ?it/s]"
      ]
     },
     "metadata": {},
     "output_type": "display_data"
    },
    {
     "data": {
      "application/vnd.jupyter.widget-view+json": {
       "model_id": "b929d4473fe94c1ea545c9eabae13dc3",
       "version_major": 2,
       "version_minor": 0
      },
      "text/plain": [
       "Processing 2030s:   0%|          | 0/4 [00:00<?, ?it/s]"
      ]
     },
     "metadata": {},
     "output_type": "display_data"
    },
    {
     "data": {
      "application/vnd.jupyter.widget-view+json": {
       "model_id": "bf55f9ef8daf429a94b3e2a2ed256ea0",
       "version_major": 2,
       "version_minor": 0
      },
      "text/plain": [
       "Processing 2040s:   0%|          | 0/4 [00:00<?, ?it/s]"
      ]
     },
     "metadata": {},
     "output_type": "display_data"
    },
    {
     "data": {
      "application/vnd.jupyter.widget-view+json": {
       "model_id": "41f04715b0fa475496d7312f78dd40dd",
       "version_major": 2,
       "version_minor": 0
      },
      "text/plain": [
       "Processing 2050s:   0%|          | 0/4 [00:00<?, ?it/s]"
      ]
     },
     "metadata": {},
     "output_type": "display_data"
    },
    {
     "data": {
      "application/vnd.jupyter.widget-view+json": {
       "model_id": "188d0ad43af34ad2ae32e5ff88544f77",
       "version_major": 2,
       "version_minor": 0
      },
      "text/plain": [
       "Processing 2060s:   0%|          | 0/4 [00:00<?, ?it/s]"
      ]
     },
     "metadata": {},
     "output_type": "display_data"
    },
    {
     "data": {
      "application/vnd.jupyter.widget-view+json": {
       "model_id": "30804ceb6854466c9dfa09a0f0474198",
       "version_major": 2,
       "version_minor": 0
      },
      "text/plain": [
       "Processing 2070s:   0%|          | 0/4 [00:00<?, ?it/s]"
      ]
     },
     "metadata": {},
     "output_type": "display_data"
    },
    {
     "data": {
      "application/vnd.jupyter.widget-view+json": {
       "model_id": "c9bac6242ff14d559273e0109f7d9eb7",
       "version_major": 2,
       "version_minor": 0
      },
      "text/plain": [
       "Processing 2080s:   0%|          | 0/4 [00:00<?, ?it/s]"
      ]
     },
     "metadata": {},
     "output_type": "display_data"
    },
    {
     "data": {
      "application/vnd.jupyter.widget-view+json": {
       "model_id": "fde200349cf64e018d10cb60e9e546be",
       "version_major": 2,
       "version_minor": 0
      },
      "text/plain": [
       "Processing 2090s:   0%|          | 0/4 [00:00<?, ?it/s]"
      ]
     },
     "metadata": {},
     "output_type": "display_data"
    },
    {
     "data": {
      "application/vnd.jupyter.widget-view+json": {
       "model_id": "714cf026fd8f48969d995e2e633a67c5",
       "version_major": 2,
       "version_minor": 0
      },
      "text/plain": [
       "Processing CanESM2 rcp85 data...:   0%|          | 0/15 [00:00<?, ?it/s]"
      ]
     },
     "metadata": {},
     "output_type": "display_data"
    },
    {
     "data": {
      "application/vnd.jupyter.widget-view+json": {
       "model_id": "0114363bf6ae40b8acdfdd9d3eee1b1e",
       "version_major": 2,
       "version_minor": 0
      },
      "text/plain": [
       "Processing 1950s:   0%|          | 0/4 [00:00<?, ?it/s]"
      ]
     },
     "metadata": {},
     "output_type": "display_data"
    },
    {
     "data": {
      "application/vnd.jupyter.widget-view+json": {
       "model_id": "c7dd0f86ac8a4fb7a0020555018ba1f8",
       "version_major": 2,
       "version_minor": 0
      },
      "text/plain": [
       "Processing 1960s:   0%|          | 0/4 [00:00<?, ?it/s]"
      ]
     },
     "metadata": {},
     "output_type": "display_data"
    },
    {
     "data": {
      "application/vnd.jupyter.widget-view+json": {
       "model_id": "57b69c29d6344eb2adb77307f72527d5",
       "version_major": 2,
       "version_minor": 0
      },
      "text/plain": [
       "Processing 1970s:   0%|          | 0/4 [00:00<?, ?it/s]"
      ]
     },
     "metadata": {},
     "output_type": "display_data"
    },
    {
     "data": {
      "application/vnd.jupyter.widget-view+json": {
       "model_id": "8bfc83cb231143109e09f640824d1f7e",
       "version_major": 2,
       "version_minor": 0
      },
      "text/plain": [
       "Processing 1980s:   0%|          | 0/4 [00:00<?, ?it/s]"
      ]
     },
     "metadata": {},
     "output_type": "display_data"
    },
    {
     "data": {
      "application/vnd.jupyter.widget-view+json": {
       "model_id": "2d1a147162b4431dbce9f27739b7907a",
       "version_major": 2,
       "version_minor": 0
      },
      "text/plain": [
       "Processing 1990s:   0%|          | 0/4 [00:00<?, ?it/s]"
      ]
     },
     "metadata": {},
     "output_type": "display_data"
    },
    {
     "data": {
      "application/vnd.jupyter.widget-view+json": {
       "model_id": "37f35e3b6ca54c69a3e73b1c49d3ef50",
       "version_major": 2,
       "version_minor": 0
      },
      "text/plain": [
       "Processing 2000s:   0%|          | 0/4 [00:00<?, ?it/s]"
      ]
     },
     "metadata": {},
     "output_type": "display_data"
    },
    {
     "data": {
      "application/vnd.jupyter.widget-view+json": {
       "model_id": "64720bc57a8f4d2c9ca2f0f41cf6ef7b",
       "version_major": 2,
       "version_minor": 0
      },
      "text/plain": [
       "Processing 2010s:   0%|          | 0/4 [00:00<?, ?it/s]"
      ]
     },
     "metadata": {},
     "output_type": "display_data"
    },
    {
     "data": {
      "application/vnd.jupyter.widget-view+json": {
       "model_id": "d713ef6568b74120ae50f8bf6fd6c376",
       "version_major": 2,
       "version_minor": 0
      },
      "text/plain": [
       "Processing 2020s:   0%|          | 0/4 [00:00<?, ?it/s]"
      ]
     },
     "metadata": {},
     "output_type": "display_data"
    },
    {
     "data": {
      "application/vnd.jupyter.widget-view+json": {
       "model_id": "f841e421c37447b7b0e16a01b36f0e2f",
       "version_major": 2,
       "version_minor": 0
      },
      "text/plain": [
       "Processing 2030s:   0%|          | 0/4 [00:00<?, ?it/s]"
      ]
     },
     "metadata": {},
     "output_type": "display_data"
    },
    {
     "data": {
      "application/vnd.jupyter.widget-view+json": {
       "model_id": "68ff313b5c174498bec40c190315668f",
       "version_major": 2,
       "version_minor": 0
      },
      "text/plain": [
       "Processing 2040s:   0%|          | 0/4 [00:00<?, ?it/s]"
      ]
     },
     "metadata": {},
     "output_type": "display_data"
    },
    {
     "data": {
      "application/vnd.jupyter.widget-view+json": {
       "model_id": "df5702d1f86f4a9a8dca8087cc7a9b83",
       "version_major": 2,
       "version_minor": 0
      },
      "text/plain": [
       "Processing 2050s:   0%|          | 0/4 [00:00<?, ?it/s]"
      ]
     },
     "metadata": {},
     "output_type": "display_data"
    },
    {
     "data": {
      "application/vnd.jupyter.widget-view+json": {
       "model_id": "e4493c6f0a374d79843c2f257931fea4",
       "version_major": 2,
       "version_minor": 0
      },
      "text/plain": [
       "Processing 2060s:   0%|          | 0/4 [00:00<?, ?it/s]"
      ]
     },
     "metadata": {},
     "output_type": "display_data"
    },
    {
     "data": {
      "application/vnd.jupyter.widget-view+json": {
       "model_id": "8f44bda8901a4e86a1cc0d0c3068f9a6",
       "version_major": 2,
       "version_minor": 0
      },
      "text/plain": [
       "Processing 2070s:   0%|          | 0/4 [00:00<?, ?it/s]"
      ]
     },
     "metadata": {},
     "output_type": "display_data"
    },
    {
     "data": {
      "application/vnd.jupyter.widget-view+json": {
       "model_id": "c34587e9412d49bf87fef62ae092d883",
       "version_major": 2,
       "version_minor": 0
      },
      "text/plain": [
       "Processing 2080s:   0%|          | 0/4 [00:00<?, ?it/s]"
      ]
     },
     "metadata": {},
     "output_type": "display_data"
    },
    {
     "data": {
      "application/vnd.jupyter.widget-view+json": {
       "model_id": "21c993e8a450490fbd16db96694fc058",
       "version_major": 2,
       "version_minor": 0
      },
      "text/plain": [
       "Processing 2090s:   0%|          | 0/4 [00:00<?, ?it/s]"
      ]
     },
     "metadata": {},
     "output_type": "display_data"
    },
    {
     "data": {
      "application/vnd.jupyter.widget-view+json": {
       "model_id": "02288b59529a465f8c5db95228444133",
       "version_major": 2,
       "version_minor": 0
      },
      "text/plain": [
       "Processing CCSM4 rcp45 data...:   0%|          | 0/15 [00:00<?, ?it/s]"
      ]
     },
     "metadata": {},
     "output_type": "display_data"
    },
    {
     "data": {
      "application/vnd.jupyter.widget-view+json": {
       "model_id": "fbfbdb00ef304920bd7853aa820fa7dc",
       "version_major": 2,
       "version_minor": 0
      },
      "text/plain": [
       "Processing 1950s:   0%|          | 0/4 [00:00<?, ?it/s]"
      ]
     },
     "metadata": {},
     "output_type": "display_data"
    },
    {
     "data": {
      "application/vnd.jupyter.widget-view+json": {
       "model_id": "05d8f26a40c74705889e96044adc2cd2",
       "version_major": 2,
       "version_minor": 0
      },
      "text/plain": [
       "Processing 1960s:   0%|          | 0/4 [00:00<?, ?it/s]"
      ]
     },
     "metadata": {},
     "output_type": "display_data"
    },
    {
     "data": {
      "application/vnd.jupyter.widget-view+json": {
       "model_id": "e83f749a56c446648050b8aa42527f04",
       "version_major": 2,
       "version_minor": 0
      },
      "text/plain": [
       "Processing 1970s:   0%|          | 0/4 [00:00<?, ?it/s]"
      ]
     },
     "metadata": {},
     "output_type": "display_data"
    },
    {
     "data": {
      "application/vnd.jupyter.widget-view+json": {
       "model_id": "40a5a83e32914ea09e50517090d4287f",
       "version_major": 2,
       "version_minor": 0
      },
      "text/plain": [
       "Processing 1980s:   0%|          | 0/4 [00:00<?, ?it/s]"
      ]
     },
     "metadata": {},
     "output_type": "display_data"
    },
    {
     "data": {
      "application/vnd.jupyter.widget-view+json": {
       "model_id": "6cdeac5de6a64141aa553affc85505cb",
       "version_major": 2,
       "version_minor": 0
      },
      "text/plain": [
       "Processing 1990s:   0%|          | 0/4 [00:00<?, ?it/s]"
      ]
     },
     "metadata": {},
     "output_type": "display_data"
    },
    {
     "data": {
      "application/vnd.jupyter.widget-view+json": {
       "model_id": "437efbd06a7143b3b76aebc57ac74bff",
       "version_major": 2,
       "version_minor": 0
      },
      "text/plain": [
       "Processing 2000s:   0%|          | 0/4 [00:00<?, ?it/s]"
      ]
     },
     "metadata": {},
     "output_type": "display_data"
    },
    {
     "data": {
      "application/vnd.jupyter.widget-view+json": {
       "model_id": "b3d21b6f2f05480aa0e1712568c0a642",
       "version_major": 2,
       "version_minor": 0
      },
      "text/plain": [
       "Processing 2010s:   0%|          | 0/4 [00:00<?, ?it/s]"
      ]
     },
     "metadata": {},
     "output_type": "display_data"
    },
    {
     "data": {
      "application/vnd.jupyter.widget-view+json": {
       "model_id": "8e5cae80040641e2858b8c206f234d51",
       "version_major": 2,
       "version_minor": 0
      },
      "text/plain": [
       "Processing 2020s:   0%|          | 0/4 [00:00<?, ?it/s]"
      ]
     },
     "metadata": {},
     "output_type": "display_data"
    },
    {
     "data": {
      "application/vnd.jupyter.widget-view+json": {
       "model_id": "1a4c32b711a14bd583476dfa7da800cb",
       "version_major": 2,
       "version_minor": 0
      },
      "text/plain": [
       "Processing 2030s:   0%|          | 0/4 [00:00<?, ?it/s]"
      ]
     },
     "metadata": {},
     "output_type": "display_data"
    },
    {
     "data": {
      "application/vnd.jupyter.widget-view+json": {
       "model_id": "097eb9ce92e743f6ba6b02197dcd1efd",
       "version_major": 2,
       "version_minor": 0
      },
      "text/plain": [
       "Processing 2040s:   0%|          | 0/4 [00:00<?, ?it/s]"
      ]
     },
     "metadata": {},
     "output_type": "display_data"
    },
    {
     "data": {
      "application/vnd.jupyter.widget-view+json": {
       "model_id": "eff292addbb9494993c622746f0019a5",
       "version_major": 2,
       "version_minor": 0
      },
      "text/plain": [
       "Processing 2050s:   0%|          | 0/4 [00:00<?, ?it/s]"
      ]
     },
     "metadata": {},
     "output_type": "display_data"
    },
    {
     "data": {
      "application/vnd.jupyter.widget-view+json": {
       "model_id": "da88ca358c2e48ee8da0318864ca2df2",
       "version_major": 2,
       "version_minor": 0
      },
      "text/plain": [
       "Processing 2060s:   0%|          | 0/4 [00:00<?, ?it/s]"
      ]
     },
     "metadata": {},
     "output_type": "display_data"
    },
    {
     "data": {
      "application/vnd.jupyter.widget-view+json": {
       "model_id": "b0910ab35f3d42e4a8fb6a726c23fe19",
       "version_major": 2,
       "version_minor": 0
      },
      "text/plain": [
       "Processing 2070s:   0%|          | 0/4 [00:00<?, ?it/s]"
      ]
     },
     "metadata": {},
     "output_type": "display_data"
    },
    {
     "data": {
      "application/vnd.jupyter.widget-view+json": {
       "model_id": "c7fc1e7cacb34626ae71ee9a3e28a4c0",
       "version_major": 2,
       "version_minor": 0
      },
      "text/plain": [
       "Processing 2080s:   0%|          | 0/4 [00:00<?, ?it/s]"
      ]
     },
     "metadata": {},
     "output_type": "display_data"
    },
    {
     "data": {
      "application/vnd.jupyter.widget-view+json": {
       "model_id": "a84195406e344b7ab90009f8fc8261f6",
       "version_major": 2,
       "version_minor": 0
      },
      "text/plain": [
       "Processing 2090s:   0%|          | 0/4 [00:00<?, ?it/s]"
      ]
     },
     "metadata": {},
     "output_type": "display_data"
    },
    {
     "data": {
      "application/vnd.jupyter.widget-view+json": {
       "model_id": "a5ebcb35f743495d8c3e9d9a39ebdcac",
       "version_major": 2,
       "version_minor": 0
      },
      "text/plain": [
       "Processing CCSM4 rcp85 data...:   0%|          | 0/15 [00:00<?, ?it/s]"
      ]
     },
     "metadata": {},
     "output_type": "display_data"
    },
    {
     "data": {
      "application/vnd.jupyter.widget-view+json": {
       "model_id": "c605090be1694e23bf834737e7b57853",
       "version_major": 2,
       "version_minor": 0
      },
      "text/plain": [
       "Processing 1950s:   0%|          | 0/4 [00:00<?, ?it/s]"
      ]
     },
     "metadata": {},
     "output_type": "display_data"
    },
    {
     "data": {
      "application/vnd.jupyter.widget-view+json": {
       "model_id": "f1ca05e94e454c0aa79f2fb8e2141063",
       "version_major": 2,
       "version_minor": 0
      },
      "text/plain": [
       "Processing 1960s:   0%|          | 0/4 [00:00<?, ?it/s]"
      ]
     },
     "metadata": {},
     "output_type": "display_data"
    },
    {
     "data": {
      "application/vnd.jupyter.widget-view+json": {
       "model_id": "de6210ede80042cb9b8635a588361633",
       "version_major": 2,
       "version_minor": 0
      },
      "text/plain": [
       "Processing 1970s:   0%|          | 0/4 [00:00<?, ?it/s]"
      ]
     },
     "metadata": {},
     "output_type": "display_data"
    },
    {
     "data": {
      "application/vnd.jupyter.widget-view+json": {
       "model_id": "b1f504bf423a466da3a1e05036b105b2",
       "version_major": 2,
       "version_minor": 0
      },
      "text/plain": [
       "Processing 1980s:   0%|          | 0/4 [00:00<?, ?it/s]"
      ]
     },
     "metadata": {},
     "output_type": "display_data"
    },
    {
     "data": {
      "application/vnd.jupyter.widget-view+json": {
       "model_id": "98b1bc735ad346ad85643dbd43341a88",
       "version_major": 2,
       "version_minor": 0
      },
      "text/plain": [
       "Processing 1990s:   0%|          | 0/4 [00:00<?, ?it/s]"
      ]
     },
     "metadata": {},
     "output_type": "display_data"
    },
    {
     "data": {
      "application/vnd.jupyter.widget-view+json": {
       "model_id": "f6beffd13f6a417995bf55f87722aa9c",
       "version_major": 2,
       "version_minor": 0
      },
      "text/plain": [
       "Processing 2000s:   0%|          | 0/4 [00:00<?, ?it/s]"
      ]
     },
     "metadata": {},
     "output_type": "display_data"
    },
    {
     "data": {
      "application/vnd.jupyter.widget-view+json": {
       "model_id": "db2170948b3d4f80bee2b7b7dea29f67",
       "version_major": 2,
       "version_minor": 0
      },
      "text/plain": [
       "Processing 2010s:   0%|          | 0/4 [00:00<?, ?it/s]"
      ]
     },
     "metadata": {},
     "output_type": "display_data"
    },
    {
     "data": {
      "application/vnd.jupyter.widget-view+json": {
       "model_id": "3f9cce5f0ff64a2db8c1d14483dc9d8c",
       "version_major": 2,
       "version_minor": 0
      },
      "text/plain": [
       "Processing 2020s:   0%|          | 0/4 [00:00<?, ?it/s]"
      ]
     },
     "metadata": {},
     "output_type": "display_data"
    },
    {
     "data": {
      "application/vnd.jupyter.widget-view+json": {
       "model_id": "e2b6eb54a9464b4895556eb0af3eb6e6",
       "version_major": 2,
       "version_minor": 0
      },
      "text/plain": [
       "Processing 2030s:   0%|          | 0/4 [00:00<?, ?it/s]"
      ]
     },
     "metadata": {},
     "output_type": "display_data"
    },
    {
     "data": {
      "application/vnd.jupyter.widget-view+json": {
       "model_id": "1fe6ce3312354b24870f643ec6403386",
       "version_major": 2,
       "version_minor": 0
      },
      "text/plain": [
       "Processing 2040s:   0%|          | 0/4 [00:00<?, ?it/s]"
      ]
     },
     "metadata": {},
     "output_type": "display_data"
    },
    {
     "data": {
      "application/vnd.jupyter.widget-view+json": {
       "model_id": "04d1ea1d3def49b28b87deed86114ec3",
       "version_major": 2,
       "version_minor": 0
      },
      "text/plain": [
       "Processing 2050s:   0%|          | 0/4 [00:00<?, ?it/s]"
      ]
     },
     "metadata": {},
     "output_type": "display_data"
    },
    {
     "data": {
      "application/vnd.jupyter.widget-view+json": {
       "model_id": "b5902b90d0b14563bd9b633a24444689",
       "version_major": 2,
       "version_minor": 0
      },
      "text/plain": [
       "Processing 2060s:   0%|          | 0/4 [00:00<?, ?it/s]"
      ]
     },
     "metadata": {},
     "output_type": "display_data"
    },
    {
     "data": {
      "application/vnd.jupyter.widget-view+json": {
       "model_id": "79079df1d4664c38be11379fd6fdb65c",
       "version_major": 2,
       "version_minor": 0
      },
      "text/plain": [
       "Processing 2070s:   0%|          | 0/4 [00:00<?, ?it/s]"
      ]
     },
     "metadata": {},
     "output_type": "display_data"
    },
    {
     "data": {
      "application/vnd.jupyter.widget-view+json": {
       "model_id": "b1d1c23c735b43e981ff8bec817b6bb7",
       "version_major": 2,
       "version_minor": 0
      },
      "text/plain": [
       "Processing 2080s:   0%|          | 0/4 [00:00<?, ?it/s]"
      ]
     },
     "metadata": {},
     "output_type": "display_data"
    },
    {
     "data": {
      "application/vnd.jupyter.widget-view+json": {
       "model_id": "a0d204c8a69e49d7ab100b5bbd0191c1",
       "version_major": 2,
       "version_minor": 0
      },
      "text/plain": [
       "Processing 2090s:   0%|          | 0/4 [00:00<?, ?it/s]"
      ]
     },
     "metadata": {},
     "output_type": "display_data"
    },
    {
     "data": {
      "application/vnd.jupyter.widget-view+json": {
       "model_id": "d9a0b49fd7574af8943d8cd1971a5904",
       "version_major": 2,
       "version_minor": 0
      },
      "text/plain": [
       "Processing CSIRO-Mk3-6-0 rcp45 data...:   0%|          | 0/15 [00:00<?, ?it/s]"
      ]
     },
     "metadata": {},
     "output_type": "display_data"
    },
    {
     "data": {
      "application/vnd.jupyter.widget-view+json": {
       "model_id": "fd12753846de4743b507ecf325f08748",
       "version_major": 2,
       "version_minor": 0
      },
      "text/plain": [
       "Processing 1950s:   0%|          | 0/4 [00:00<?, ?it/s]"
      ]
     },
     "metadata": {},
     "output_type": "display_data"
    },
    {
     "data": {
      "application/vnd.jupyter.widget-view+json": {
       "model_id": "2a0cf39fba4d4ba593999bae58e2917d",
       "version_major": 2,
       "version_minor": 0
      },
      "text/plain": [
       "Processing 1960s:   0%|          | 0/4 [00:00<?, ?it/s]"
      ]
     },
     "metadata": {},
     "output_type": "display_data"
    },
    {
     "data": {
      "application/vnd.jupyter.widget-view+json": {
       "model_id": "fe702a1b2c2e4b8e9f4681f8e25320f2",
       "version_major": 2,
       "version_minor": 0
      },
      "text/plain": [
       "Processing 1970s:   0%|          | 0/4 [00:00<?, ?it/s]"
      ]
     },
     "metadata": {},
     "output_type": "display_data"
    },
    {
     "data": {
      "application/vnd.jupyter.widget-view+json": {
       "model_id": "33c60262848c4c268571f93016409ef7",
       "version_major": 2,
       "version_minor": 0
      },
      "text/plain": [
       "Processing 1980s:   0%|          | 0/4 [00:00<?, ?it/s]"
      ]
     },
     "metadata": {},
     "output_type": "display_data"
    },
    {
     "data": {
      "application/vnd.jupyter.widget-view+json": {
       "model_id": "e26679efedd64f96bcf83cb091516a2f",
       "version_major": 2,
       "version_minor": 0
      },
      "text/plain": [
       "Processing 1990s:   0%|          | 0/4 [00:00<?, ?it/s]"
      ]
     },
     "metadata": {},
     "output_type": "display_data"
    },
    {
     "data": {
      "application/vnd.jupyter.widget-view+json": {
       "model_id": "36a799e3a299448dae1c411e92c24fdb",
       "version_major": 2,
       "version_minor": 0
      },
      "text/plain": [
       "Processing 2000s:   0%|          | 0/4 [00:00<?, ?it/s]"
      ]
     },
     "metadata": {},
     "output_type": "display_data"
    },
    {
     "data": {
      "application/vnd.jupyter.widget-view+json": {
       "model_id": "f65835dbea4d424a8808c1334e8f6697",
       "version_major": 2,
       "version_minor": 0
      },
      "text/plain": [
       "Processing 2010s:   0%|          | 0/4 [00:00<?, ?it/s]"
      ]
     },
     "metadata": {},
     "output_type": "display_data"
    },
    {
     "data": {
      "application/vnd.jupyter.widget-view+json": {
       "model_id": "0f9191a457384fa6aa1e331e03bff1b6",
       "version_major": 2,
       "version_minor": 0
      },
      "text/plain": [
       "Processing 2020s:   0%|          | 0/4 [00:00<?, ?it/s]"
      ]
     },
     "metadata": {},
     "output_type": "display_data"
    },
    {
     "data": {
      "application/vnd.jupyter.widget-view+json": {
       "model_id": "80513e010d0946fc984706afc1420833",
       "version_major": 2,
       "version_minor": 0
      },
      "text/plain": [
       "Processing 2030s:   0%|          | 0/4 [00:00<?, ?it/s]"
      ]
     },
     "metadata": {},
     "output_type": "display_data"
    },
    {
     "data": {
      "application/vnd.jupyter.widget-view+json": {
       "model_id": "91a0a54a5c8e4e2ca36ebd9942c98152",
       "version_major": 2,
       "version_minor": 0
      },
      "text/plain": [
       "Processing 2040s:   0%|          | 0/4 [00:00<?, ?it/s]"
      ]
     },
     "metadata": {},
     "output_type": "display_data"
    },
    {
     "data": {
      "application/vnd.jupyter.widget-view+json": {
       "model_id": "67a6911a4342478a8a98c7d40cf2c9c5",
       "version_major": 2,
       "version_minor": 0
      },
      "text/plain": [
       "Processing 2050s:   0%|          | 0/4 [00:00<?, ?it/s]"
      ]
     },
     "metadata": {},
     "output_type": "display_data"
    },
    {
     "data": {
      "application/vnd.jupyter.widget-view+json": {
       "model_id": "57320d1c26e14d2fafd2607a1d9cc718",
       "version_major": 2,
       "version_minor": 0
      },
      "text/plain": [
       "Processing 2060s:   0%|          | 0/4 [00:00<?, ?it/s]"
      ]
     },
     "metadata": {},
     "output_type": "display_data"
    },
    {
     "data": {
      "application/vnd.jupyter.widget-view+json": {
       "model_id": "2e981cd6ea0b46a18f9997d7a8422326",
       "version_major": 2,
       "version_minor": 0
      },
      "text/plain": [
       "Processing 2070s:   0%|          | 0/4 [00:00<?, ?it/s]"
      ]
     },
     "metadata": {},
     "output_type": "display_data"
    },
    {
     "data": {
      "application/vnd.jupyter.widget-view+json": {
       "model_id": "333d0d2d007c45e7a94a55265bd3e284",
       "version_major": 2,
       "version_minor": 0
      },
      "text/plain": [
       "Processing 2080s:   0%|          | 0/4 [00:00<?, ?it/s]"
      ]
     },
     "metadata": {},
     "output_type": "display_data"
    },
    {
     "data": {
      "application/vnd.jupyter.widget-view+json": {
       "model_id": "4cf60d428ee2482fa492e459d1ebc666",
       "version_major": 2,
       "version_minor": 0
      },
      "text/plain": [
       "Processing 2090s:   0%|          | 0/4 [00:00<?, ?it/s]"
      ]
     },
     "metadata": {},
     "output_type": "display_data"
    },
    {
     "data": {
      "application/vnd.jupyter.widget-view+json": {
       "model_id": "f9a9bdb6763141c3a378925dee187009",
       "version_major": 2,
       "version_minor": 0
      },
      "text/plain": [
       "Processing CSIRO-Mk3-6-0 rcp85 data...:   0%|          | 0/15 [00:00<?, ?it/s]"
      ]
     },
     "metadata": {},
     "output_type": "display_data"
    },
    {
     "data": {
      "application/vnd.jupyter.widget-view+json": {
       "model_id": "8d05eddf5d534d378c39ca6fdba0b906",
       "version_major": 2,
       "version_minor": 0
      },
      "text/plain": [
       "Processing 1950s:   0%|          | 0/4 [00:00<?, ?it/s]"
      ]
     },
     "metadata": {},
     "output_type": "display_data"
    },
    {
     "data": {
      "application/vnd.jupyter.widget-view+json": {
       "model_id": "b5b8c974294249d7b72a899ca780d218",
       "version_major": 2,
       "version_minor": 0
      },
      "text/plain": [
       "Processing 1960s:   0%|          | 0/4 [00:00<?, ?it/s]"
      ]
     },
     "metadata": {},
     "output_type": "display_data"
    },
    {
     "data": {
      "application/vnd.jupyter.widget-view+json": {
       "model_id": "665d52d5e5a544b3a6d3bf9111c2f698",
       "version_major": 2,
       "version_minor": 0
      },
      "text/plain": [
       "Processing 1970s:   0%|          | 0/4 [00:00<?, ?it/s]"
      ]
     },
     "metadata": {},
     "output_type": "display_data"
    },
    {
     "data": {
      "application/vnd.jupyter.widget-view+json": {
       "model_id": "5235bb3d3ae845e8ac925b7da6061383",
       "version_major": 2,
       "version_minor": 0
      },
      "text/plain": [
       "Processing 1980s:   0%|          | 0/4 [00:00<?, ?it/s]"
      ]
     },
     "metadata": {},
     "output_type": "display_data"
    },
    {
     "data": {
      "application/vnd.jupyter.widget-view+json": {
       "model_id": "112316d9c6e349fe87abe3dc02772962",
       "version_major": 2,
       "version_minor": 0
      },
      "text/plain": [
       "Processing 1990s:   0%|          | 0/4 [00:00<?, ?it/s]"
      ]
     },
     "metadata": {},
     "output_type": "display_data"
    },
    {
     "data": {
      "application/vnd.jupyter.widget-view+json": {
       "model_id": "b6cf7d4db0be4bafb66deb4967920c0a",
       "version_major": 2,
       "version_minor": 0
      },
      "text/plain": [
       "Processing 2000s:   0%|          | 0/4 [00:00<?, ?it/s]"
      ]
     },
     "metadata": {},
     "output_type": "display_data"
    },
    {
     "data": {
      "application/vnd.jupyter.widget-view+json": {
       "model_id": "3784742bc764408d8211c84f8d3fb19d",
       "version_major": 2,
       "version_minor": 0
      },
      "text/plain": [
       "Processing 2010s:   0%|          | 0/4 [00:00<?, ?it/s]"
      ]
     },
     "metadata": {},
     "output_type": "display_data"
    },
    {
     "data": {
      "application/vnd.jupyter.widget-view+json": {
       "model_id": "0c6d24551372427baabc6f6a402361d8",
       "version_major": 2,
       "version_minor": 0
      },
      "text/plain": [
       "Processing 2020s:   0%|          | 0/4 [00:00<?, ?it/s]"
      ]
     },
     "metadata": {},
     "output_type": "display_data"
    },
    {
     "data": {
      "application/vnd.jupyter.widget-view+json": {
       "model_id": "393ec0c2b7ab45c6a6e298d7d7823f32",
       "version_major": 2,
       "version_minor": 0
      },
      "text/plain": [
       "Processing 2030s:   0%|          | 0/4 [00:00<?, ?it/s]"
      ]
     },
     "metadata": {},
     "output_type": "display_data"
    },
    {
     "data": {
      "application/vnd.jupyter.widget-view+json": {
       "model_id": "e9947246098b40e5ae3b08ec9da0d043",
       "version_major": 2,
       "version_minor": 0
      },
      "text/plain": [
       "Processing 2040s:   0%|          | 0/4 [00:00<?, ?it/s]"
      ]
     },
     "metadata": {},
     "output_type": "display_data"
    },
    {
     "data": {
      "application/vnd.jupyter.widget-view+json": {
       "model_id": "019054c8330845e99d17687d3b316021",
       "version_major": 2,
       "version_minor": 0
      },
      "text/plain": [
       "Processing 2050s:   0%|          | 0/4 [00:00<?, ?it/s]"
      ]
     },
     "metadata": {},
     "output_type": "display_data"
    },
    {
     "data": {
      "application/vnd.jupyter.widget-view+json": {
       "model_id": "d9c1c76736f2471ea955e717b96df5c8",
       "version_major": 2,
       "version_minor": 0
      },
      "text/plain": [
       "Processing 2060s:   0%|          | 0/4 [00:00<?, ?it/s]"
      ]
     },
     "metadata": {},
     "output_type": "display_data"
    },
    {
     "data": {
      "application/vnd.jupyter.widget-view+json": {
       "model_id": "69f50fd2baf64bb884477329302011c0",
       "version_major": 2,
       "version_minor": 0
      },
      "text/plain": [
       "Processing 2070s:   0%|          | 0/4 [00:00<?, ?it/s]"
      ]
     },
     "metadata": {},
     "output_type": "display_data"
    },
    {
     "data": {
      "application/vnd.jupyter.widget-view+json": {
       "model_id": "54754eb47a114b448ba9dfe25e8b75ec",
       "version_major": 2,
       "version_minor": 0
      },
      "text/plain": [
       "Processing 2080s:   0%|          | 0/4 [00:00<?, ?it/s]"
      ]
     },
     "metadata": {},
     "output_type": "display_data"
    },
    {
     "data": {
      "application/vnd.jupyter.widget-view+json": {
       "model_id": "af18ffd2184f4743947f4759691208c6",
       "version_major": 2,
       "version_minor": 0
      },
      "text/plain": [
       "Processing 2090s:   0%|          | 0/4 [00:00<?, ?it/s]"
      ]
     },
     "metadata": {},
     "output_type": "display_data"
    },
    {
     "data": {
      "application/vnd.jupyter.widget-view+json": {
       "model_id": "9cee22ec842842bd84d09c5c42fc528d",
       "version_major": 2,
       "version_minor": 0
      },
      "text/plain": [
       "Processing GFDL-ESM2M rcp45 data...:   0%|          | 0/15 [00:00<?, ?it/s]"
      ]
     },
     "metadata": {},
     "output_type": "display_data"
    },
    {
     "data": {
      "application/vnd.jupyter.widget-view+json": {
       "model_id": "4a8d0622d9ec40d6aac7a5ed64c6b9b5",
       "version_major": 2,
       "version_minor": 0
      },
      "text/plain": [
       "Processing 1950s:   0%|          | 0/4 [00:00<?, ?it/s]"
      ]
     },
     "metadata": {},
     "output_type": "display_data"
    },
    {
     "data": {
      "application/vnd.jupyter.widget-view+json": {
       "model_id": "062a84d373614a0cac3bf8f991f3bea2",
       "version_major": 2,
       "version_minor": 0
      },
      "text/plain": [
       "Processing 1960s:   0%|          | 0/4 [00:00<?, ?it/s]"
      ]
     },
     "metadata": {},
     "output_type": "display_data"
    },
    {
     "data": {
      "application/vnd.jupyter.widget-view+json": {
       "model_id": "925fb8914797469fb9261937ef7e6ab3",
       "version_major": 2,
       "version_minor": 0
      },
      "text/plain": [
       "Processing 1970s:   0%|          | 0/4 [00:00<?, ?it/s]"
      ]
     },
     "metadata": {},
     "output_type": "display_data"
    },
    {
     "data": {
      "application/vnd.jupyter.widget-view+json": {
       "model_id": "5330b158023c44fe84c8014ca25c9f12",
       "version_major": 2,
       "version_minor": 0
      },
      "text/plain": [
       "Processing 1980s:   0%|          | 0/4 [00:00<?, ?it/s]"
      ]
     },
     "metadata": {},
     "output_type": "display_data"
    },
    {
     "data": {
      "application/vnd.jupyter.widget-view+json": {
       "model_id": "438c6b17470d493a9598ca12819f991d",
       "version_major": 2,
       "version_minor": 0
      },
      "text/plain": [
       "Processing 1990s:   0%|          | 0/4 [00:00<?, ?it/s]"
      ]
     },
     "metadata": {},
     "output_type": "display_data"
    },
    {
     "data": {
      "application/vnd.jupyter.widget-view+json": {
       "model_id": "e89306a0231e49d4b900ac1d5b004269",
       "version_major": 2,
       "version_minor": 0
      },
      "text/plain": [
       "Processing 2000s:   0%|          | 0/4 [00:00<?, ?it/s]"
      ]
     },
     "metadata": {},
     "output_type": "display_data"
    },
    {
     "data": {
      "application/vnd.jupyter.widget-view+json": {
       "model_id": "38a1ce0409a646cfb6f032623612a27c",
       "version_major": 2,
       "version_minor": 0
      },
      "text/plain": [
       "Processing 2010s:   0%|          | 0/4 [00:00<?, ?it/s]"
      ]
     },
     "metadata": {},
     "output_type": "display_data"
    },
    {
     "data": {
      "application/vnd.jupyter.widget-view+json": {
       "model_id": "e29154c21f044aee9a91e41dfb75c046",
       "version_major": 2,
       "version_minor": 0
      },
      "text/plain": [
       "Processing 2020s:   0%|          | 0/4 [00:00<?, ?it/s]"
      ]
     },
     "metadata": {},
     "output_type": "display_data"
    },
    {
     "data": {
      "application/vnd.jupyter.widget-view+json": {
       "model_id": "d31ae67c84ae4f0d9c57c9d95e22e90c",
       "version_major": 2,
       "version_minor": 0
      },
      "text/plain": [
       "Processing 2030s:   0%|          | 0/4 [00:00<?, ?it/s]"
      ]
     },
     "metadata": {},
     "output_type": "display_data"
    },
    {
     "data": {
      "application/vnd.jupyter.widget-view+json": {
       "model_id": "369153b38912409788b586e6cc1c3bc5",
       "version_major": 2,
       "version_minor": 0
      },
      "text/plain": [
       "Processing 2040s:   0%|          | 0/4 [00:00<?, ?it/s]"
      ]
     },
     "metadata": {},
     "output_type": "display_data"
    },
    {
     "data": {
      "application/vnd.jupyter.widget-view+json": {
       "model_id": "256470785ed04fc9a8489eedba448506",
       "version_major": 2,
       "version_minor": 0
      },
      "text/plain": [
       "Processing 2050s:   0%|          | 0/4 [00:00<?, ?it/s]"
      ]
     },
     "metadata": {},
     "output_type": "display_data"
    },
    {
     "data": {
      "application/vnd.jupyter.widget-view+json": {
       "model_id": "994f5ce7d70c48de91c50e28106112bc",
       "version_major": 2,
       "version_minor": 0
      },
      "text/plain": [
       "Processing 2060s:   0%|          | 0/4 [00:00<?, ?it/s]"
      ]
     },
     "metadata": {},
     "output_type": "display_data"
    },
    {
     "data": {
      "application/vnd.jupyter.widget-view+json": {
       "model_id": "ee0051db9efa4bcdb21ca8d65938eced",
       "version_major": 2,
       "version_minor": 0
      },
      "text/plain": [
       "Processing 2070s:   0%|          | 0/4 [00:00<?, ?it/s]"
      ]
     },
     "metadata": {},
     "output_type": "display_data"
    },
    {
     "data": {
      "application/vnd.jupyter.widget-view+json": {
       "model_id": "7be385697f13417fbf0742c845bbbe41",
       "version_major": 2,
       "version_minor": 0
      },
      "text/plain": [
       "Processing 2080s:   0%|          | 0/4 [00:00<?, ?it/s]"
      ]
     },
     "metadata": {},
     "output_type": "display_data"
    },
    {
     "data": {
      "application/vnd.jupyter.widget-view+json": {
       "model_id": "74bac98ba39144688faaeea444aeab69",
       "version_major": 2,
       "version_minor": 0
      },
      "text/plain": [
       "Processing 2090s:   0%|          | 0/4 [00:00<?, ?it/s]"
      ]
     },
     "metadata": {},
     "output_type": "display_data"
    },
    {
     "data": {
      "application/vnd.jupyter.widget-view+json": {
       "model_id": "a615614fb85a46dfa8566050b2248c0a",
       "version_major": 2,
       "version_minor": 0
      },
      "text/plain": [
       "Processing GFDL-ESM2M rcp85 data...:   0%|          | 0/15 [00:00<?, ?it/s]"
      ]
     },
     "metadata": {},
     "output_type": "display_data"
    },
    {
     "data": {
      "application/vnd.jupyter.widget-view+json": {
       "model_id": "c8784d85eb924ab2a46b2c89fdba4ca8",
       "version_major": 2,
       "version_minor": 0
      },
      "text/plain": [
       "Processing 1950s:   0%|          | 0/4 [00:00<?, ?it/s]"
      ]
     },
     "metadata": {},
     "output_type": "display_data"
    },
    {
     "data": {
      "application/vnd.jupyter.widget-view+json": {
       "model_id": "cd065e9960ab473b93709de6b105f664",
       "version_major": 2,
       "version_minor": 0
      },
      "text/plain": [
       "Processing 1960s:   0%|          | 0/4 [00:00<?, ?it/s]"
      ]
     },
     "metadata": {},
     "output_type": "display_data"
    },
    {
     "data": {
      "application/vnd.jupyter.widget-view+json": {
       "model_id": "a1a9693c0250416faa3c96ae5f2147e0",
       "version_major": 2,
       "version_minor": 0
      },
      "text/plain": [
       "Processing 1970s:   0%|          | 0/4 [00:00<?, ?it/s]"
      ]
     },
     "metadata": {},
     "output_type": "display_data"
    },
    {
     "data": {
      "application/vnd.jupyter.widget-view+json": {
       "model_id": "ef6bd58c79e447ae80838658c37b83bd",
       "version_major": 2,
       "version_minor": 0
      },
      "text/plain": [
       "Processing 1980s:   0%|          | 0/4 [00:00<?, ?it/s]"
      ]
     },
     "metadata": {},
     "output_type": "display_data"
    },
    {
     "data": {
      "application/vnd.jupyter.widget-view+json": {
       "model_id": "2bae018c640d45789bf01ee2c64f2d97",
       "version_major": 2,
       "version_minor": 0
      },
      "text/plain": [
       "Processing 1990s:   0%|          | 0/4 [00:00<?, ?it/s]"
      ]
     },
     "metadata": {},
     "output_type": "display_data"
    },
    {
     "data": {
      "application/vnd.jupyter.widget-view+json": {
       "model_id": "eefff6d108bc4f0ab90735819f9ab337",
       "version_major": 2,
       "version_minor": 0
      },
      "text/plain": [
       "Processing 2000s:   0%|          | 0/4 [00:00<?, ?it/s]"
      ]
     },
     "metadata": {},
     "output_type": "display_data"
    },
    {
     "data": {
      "application/vnd.jupyter.widget-view+json": {
       "model_id": "5dc1e30e80fd4b649ed0d8ebe3f398a2",
       "version_major": 2,
       "version_minor": 0
      },
      "text/plain": [
       "Processing 2010s:   0%|          | 0/4 [00:00<?, ?it/s]"
      ]
     },
     "metadata": {},
     "output_type": "display_data"
    },
    {
     "data": {
      "application/vnd.jupyter.widget-view+json": {
       "model_id": "d6ee3755467b46b0befeab30919e7a68",
       "version_major": 2,
       "version_minor": 0
      },
      "text/plain": [
       "Processing 2020s:   0%|          | 0/4 [00:00<?, ?it/s]"
      ]
     },
     "metadata": {},
     "output_type": "display_data"
    },
    {
     "data": {
      "application/vnd.jupyter.widget-view+json": {
       "model_id": "8a5cbc1541d2485bb2b0745619a5649e",
       "version_major": 2,
       "version_minor": 0
      },
      "text/plain": [
       "Processing 2030s:   0%|          | 0/4 [00:00<?, ?it/s]"
      ]
     },
     "metadata": {},
     "output_type": "display_data"
    },
    {
     "data": {
      "application/vnd.jupyter.widget-view+json": {
       "model_id": "fd0366666869477e8f7f2ea61434232f",
       "version_major": 2,
       "version_minor": 0
      },
      "text/plain": [
       "Processing 2040s:   0%|          | 0/4 [00:00<?, ?it/s]"
      ]
     },
     "metadata": {},
     "output_type": "display_data"
    },
    {
     "data": {
      "application/vnd.jupyter.widget-view+json": {
       "model_id": "b0264e3f986e4638929f4873e1ea8e63",
       "version_major": 2,
       "version_minor": 0
      },
      "text/plain": [
       "Processing 2050s:   0%|          | 0/4 [00:00<?, ?it/s]"
      ]
     },
     "metadata": {},
     "output_type": "display_data"
    },
    {
     "data": {
      "application/vnd.jupyter.widget-view+json": {
       "model_id": "47afdbea9553476b8eccc40e9820099b",
       "version_major": 2,
       "version_minor": 0
      },
      "text/plain": [
       "Processing 2060s:   0%|          | 0/4 [00:00<?, ?it/s]"
      ]
     },
     "metadata": {},
     "output_type": "display_data"
    },
    {
     "data": {
      "application/vnd.jupyter.widget-view+json": {
       "model_id": "9c28f086f8674fd6aaf77359227de64f",
       "version_major": 2,
       "version_minor": 0
      },
      "text/plain": [
       "Processing 2070s:   0%|          | 0/4 [00:00<?, ?it/s]"
      ]
     },
     "metadata": {},
     "output_type": "display_data"
    },
    {
     "data": {
      "application/vnd.jupyter.widget-view+json": {
       "model_id": "1e90682055ce406ea96057037e4a134c",
       "version_major": 2,
       "version_minor": 0
      },
      "text/plain": [
       "Processing 2080s:   0%|          | 0/4 [00:00<?, ?it/s]"
      ]
     },
     "metadata": {},
     "output_type": "display_data"
    },
    {
     "data": {
      "application/vnd.jupyter.widget-view+json": {
       "model_id": "d4e51b62196045cd98ede8a34dc95268",
       "version_major": 2,
       "version_minor": 0
      },
      "text/plain": [
       "Processing 2090s:   0%|          | 0/4 [00:00<?, ?it/s]"
      ]
     },
     "metadata": {},
     "output_type": "display_data"
    },
    {
     "data": {
      "application/vnd.jupyter.widget-view+json": {
       "model_id": "c5ca124860804c0caedc99e8b0fb69fe",
       "version_major": 2,
       "version_minor": 0
      },
      "text/plain": [
       "Processing HadGEM2-ES rcp45 data...:   0%|          | 0/15 [00:00<?, ?it/s]"
      ]
     },
     "metadata": {},
     "output_type": "display_data"
    },
    {
     "data": {
      "application/vnd.jupyter.widget-view+json": {
       "model_id": "27eb57c077f54308a365f1bb32b22635",
       "version_major": 2,
       "version_minor": 0
      },
      "text/plain": [
       "Processing 1950s:   0%|          | 0/4 [00:00<?, ?it/s]"
      ]
     },
     "metadata": {},
     "output_type": "display_data"
    },
    {
     "data": {
      "application/vnd.jupyter.widget-view+json": {
       "model_id": "2e6e2ce9957f4e1d976cfa6eb18fd7c4",
       "version_major": 2,
       "version_minor": 0
      },
      "text/plain": [
       "Processing 1960s:   0%|          | 0/4 [00:00<?, ?it/s]"
      ]
     },
     "metadata": {},
     "output_type": "display_data"
    },
    {
     "data": {
      "application/vnd.jupyter.widget-view+json": {
       "model_id": "8432f35e54ef40c3a5c2fe4d77ea2788",
       "version_major": 2,
       "version_minor": 0
      },
      "text/plain": [
       "Processing 1970s:   0%|          | 0/4 [00:00<?, ?it/s]"
      ]
     },
     "metadata": {},
     "output_type": "display_data"
    },
    {
     "data": {
      "application/vnd.jupyter.widget-view+json": {
       "model_id": "8b841c80cc3247b7808a267eacf45185",
       "version_major": 2,
       "version_minor": 0
      },
      "text/plain": [
       "Processing 1980s:   0%|          | 0/4 [00:00<?, ?it/s]"
      ]
     },
     "metadata": {},
     "output_type": "display_data"
    },
    {
     "data": {
      "application/vnd.jupyter.widget-view+json": {
       "model_id": "5376062825b44aef9a906b648ba6d021",
       "version_major": 2,
       "version_minor": 0
      },
      "text/plain": [
       "Processing 1990s:   0%|          | 0/4 [00:00<?, ?it/s]"
      ]
     },
     "metadata": {},
     "output_type": "display_data"
    },
    {
     "data": {
      "application/vnd.jupyter.widget-view+json": {
       "model_id": "557e554b709c4b7a9dd9fae08ce4497a",
       "version_major": 2,
       "version_minor": 0
      },
      "text/plain": [
       "Processing 2000s:   0%|          | 0/4 [00:00<?, ?it/s]"
      ]
     },
     "metadata": {},
     "output_type": "display_data"
    },
    {
     "data": {
      "application/vnd.jupyter.widget-view+json": {
       "model_id": "b58a74703e874a6a946604435cb2c8f4",
       "version_major": 2,
       "version_minor": 0
      },
      "text/plain": [
       "Processing 2010s:   0%|          | 0/4 [00:00<?, ?it/s]"
      ]
     },
     "metadata": {},
     "output_type": "display_data"
    },
    {
     "data": {
      "application/vnd.jupyter.widget-view+json": {
       "model_id": "d08e501dbf39457883e7e788fba38c5f",
       "version_major": 2,
       "version_minor": 0
      },
      "text/plain": [
       "Processing 2020s:   0%|          | 0/4 [00:00<?, ?it/s]"
      ]
     },
     "metadata": {},
     "output_type": "display_data"
    },
    {
     "data": {
      "application/vnd.jupyter.widget-view+json": {
       "model_id": "215fe8a099f743c492b5f2d2afddd805",
       "version_major": 2,
       "version_minor": 0
      },
      "text/plain": [
       "Processing 2030s:   0%|          | 0/4 [00:00<?, ?it/s]"
      ]
     },
     "metadata": {},
     "output_type": "display_data"
    },
    {
     "data": {
      "application/vnd.jupyter.widget-view+json": {
       "model_id": "76e08db94b7444b4a0f70a00a18ae965",
       "version_major": 2,
       "version_minor": 0
      },
      "text/plain": [
       "Processing 2040s:   0%|          | 0/4 [00:00<?, ?it/s]"
      ]
     },
     "metadata": {},
     "output_type": "display_data"
    },
    {
     "data": {
      "application/vnd.jupyter.widget-view+json": {
       "model_id": "e50fdacb87da43e38aa632431f67e49e",
       "version_major": 2,
       "version_minor": 0
      },
      "text/plain": [
       "Processing 2050s:   0%|          | 0/4 [00:00<?, ?it/s]"
      ]
     },
     "metadata": {},
     "output_type": "display_data"
    },
    {
     "data": {
      "application/vnd.jupyter.widget-view+json": {
       "model_id": "4892ecef864f43fa9728238bb83b86bd",
       "version_major": 2,
       "version_minor": 0
      },
      "text/plain": [
       "Processing 2060s:   0%|          | 0/4 [00:00<?, ?it/s]"
      ]
     },
     "metadata": {},
     "output_type": "display_data"
    },
    {
     "data": {
      "application/vnd.jupyter.widget-view+json": {
       "model_id": "b2cc0771f53a44158f9fbf13e57c600a",
       "version_major": 2,
       "version_minor": 0
      },
      "text/plain": [
       "Processing 2070s:   0%|          | 0/4 [00:00<?, ?it/s]"
      ]
     },
     "metadata": {},
     "output_type": "display_data"
    },
    {
     "data": {
      "application/vnd.jupyter.widget-view+json": {
       "model_id": "67adcce6c42746ddbdc94b526601d46c",
       "version_major": 2,
       "version_minor": 0
      },
      "text/plain": [
       "Processing 2080s:   0%|          | 0/4 [00:00<?, ?it/s]"
      ]
     },
     "metadata": {},
     "output_type": "display_data"
    },
    {
     "data": {
      "application/vnd.jupyter.widget-view+json": {
       "model_id": "5829730c96dd4953a744750fae0d35b5",
       "version_major": 2,
       "version_minor": 0
      },
      "text/plain": [
       "Processing 2090s:   0%|          | 0/4 [00:00<?, ?it/s]"
      ]
     },
     "metadata": {},
     "output_type": "display_data"
    },
    {
     "data": {
      "application/vnd.jupyter.widget-view+json": {
       "model_id": "53b5c5d0dd5c4cc8aa17c949f52832e4",
       "version_major": 2,
       "version_minor": 0
      },
      "text/plain": [
       "Processing HadGEM2-ES rcp85 data...:   0%|          | 0/15 [00:00<?, ?it/s]"
      ]
     },
     "metadata": {},
     "output_type": "display_data"
    },
    {
     "data": {
      "application/vnd.jupyter.widget-view+json": {
       "model_id": "b3ef415d9b754a058e10220bb6e4c681",
       "version_major": 2,
       "version_minor": 0
      },
      "text/plain": [
       "Processing 1950s:   0%|          | 0/4 [00:00<?, ?it/s]"
      ]
     },
     "metadata": {},
     "output_type": "display_data"
    },
    {
     "data": {
      "application/vnd.jupyter.widget-view+json": {
       "model_id": "6b1f5b886c474bc2a5ef543a2517edd9",
       "version_major": 2,
       "version_minor": 0
      },
      "text/plain": [
       "Processing 1960s:   0%|          | 0/4 [00:00<?, ?it/s]"
      ]
     },
     "metadata": {},
     "output_type": "display_data"
    },
    {
     "data": {
      "application/vnd.jupyter.widget-view+json": {
       "model_id": "867b259989e247aa9b9ffded0712eb48",
       "version_major": 2,
       "version_minor": 0
      },
      "text/plain": [
       "Processing 1970s:   0%|          | 0/4 [00:00<?, ?it/s]"
      ]
     },
     "metadata": {},
     "output_type": "display_data"
    },
    {
     "data": {
      "application/vnd.jupyter.widget-view+json": {
       "model_id": "ebe77a3ae57b4c8aaa595b0d5333117c",
       "version_major": 2,
       "version_minor": 0
      },
      "text/plain": [
       "Processing 1980s:   0%|          | 0/4 [00:00<?, ?it/s]"
      ]
     },
     "metadata": {},
     "output_type": "display_data"
    },
    {
     "data": {
      "application/vnd.jupyter.widget-view+json": {
       "model_id": "e103a64cb47142b2bc9cccc306a87ab0",
       "version_major": 2,
       "version_minor": 0
      },
      "text/plain": [
       "Processing 1990s:   0%|          | 0/4 [00:00<?, ?it/s]"
      ]
     },
     "metadata": {},
     "output_type": "display_data"
    },
    {
     "data": {
      "application/vnd.jupyter.widget-view+json": {
       "model_id": "74a2481754c04b89a1567ce8c1e13bba",
       "version_major": 2,
       "version_minor": 0
      },
      "text/plain": [
       "Processing 2000s:   0%|          | 0/4 [00:00<?, ?it/s]"
      ]
     },
     "metadata": {},
     "output_type": "display_data"
    },
    {
     "data": {
      "application/vnd.jupyter.widget-view+json": {
       "model_id": "01a4d86223d44a068cd9531f45519fbc",
       "version_major": 2,
       "version_minor": 0
      },
      "text/plain": [
       "Processing 2010s:   0%|          | 0/4 [00:00<?, ?it/s]"
      ]
     },
     "metadata": {},
     "output_type": "display_data"
    },
    {
     "data": {
      "application/vnd.jupyter.widget-view+json": {
       "model_id": "1270cb01f1d24aeeb1b6fd5289f9290d",
       "version_major": 2,
       "version_minor": 0
      },
      "text/plain": [
       "Processing 2020s:   0%|          | 0/4 [00:00<?, ?it/s]"
      ]
     },
     "metadata": {},
     "output_type": "display_data"
    },
    {
     "data": {
      "application/vnd.jupyter.widget-view+json": {
       "model_id": "65bbafc51bde48c2af9f66f03ba969b6",
       "version_major": 2,
       "version_minor": 0
      },
      "text/plain": [
       "Processing 2030s:   0%|          | 0/4 [00:00<?, ?it/s]"
      ]
     },
     "metadata": {},
     "output_type": "display_data"
    },
    {
     "data": {
      "application/vnd.jupyter.widget-view+json": {
       "model_id": "684f6c71582345b2b2630285fd42c51d",
       "version_major": 2,
       "version_minor": 0
      },
      "text/plain": [
       "Processing 2040s:   0%|          | 0/4 [00:00<?, ?it/s]"
      ]
     },
     "metadata": {},
     "output_type": "display_data"
    },
    {
     "data": {
      "application/vnd.jupyter.widget-view+json": {
       "model_id": "4027f4ea75b841338a41dbbf5442bdd7",
       "version_major": 2,
       "version_minor": 0
      },
      "text/plain": [
       "Processing 2050s:   0%|          | 0/4 [00:00<?, ?it/s]"
      ]
     },
     "metadata": {},
     "output_type": "display_data"
    },
    {
     "data": {
      "application/vnd.jupyter.widget-view+json": {
       "model_id": "a112dd279b4947f68cd4f50618655659",
       "version_major": 2,
       "version_minor": 0
      },
      "text/plain": [
       "Processing 2060s:   0%|          | 0/4 [00:00<?, ?it/s]"
      ]
     },
     "metadata": {},
     "output_type": "display_data"
    },
    {
     "data": {
      "application/vnd.jupyter.widget-view+json": {
       "model_id": "a5524d00ef304acd9456f051ea9b80ff",
       "version_major": 2,
       "version_minor": 0
      },
      "text/plain": [
       "Processing 2070s:   0%|          | 0/4 [00:00<?, ?it/s]"
      ]
     },
     "metadata": {},
     "output_type": "display_data"
    },
    {
     "data": {
      "application/vnd.jupyter.widget-view+json": {
       "model_id": "ea2591f0047e434288f7413cbe2fd88c",
       "version_major": 2,
       "version_minor": 0
      },
      "text/plain": [
       "Processing 2080s:   0%|          | 0/4 [00:00<?, ?it/s]"
      ]
     },
     "metadata": {},
     "output_type": "display_data"
    },
    {
     "data": {
      "application/vnd.jupyter.widget-view+json": {
       "model_id": "b017a718086b49309a70aff6feb4f009",
       "version_major": 2,
       "version_minor": 0
      },
      "text/plain": [
       "Processing 2090s:   0%|          | 0/4 [00:00<?, ?it/s]"
      ]
     },
     "metadata": {},
     "output_type": "display_data"
    },
    {
     "data": {
      "application/vnd.jupyter.widget-view+json": {
       "model_id": "b1d0408f973d4f0788f20296ffe5ad13",
       "version_major": 2,
       "version_minor": 0
      },
      "text/plain": [
       "Processing inmcm4 rcp45 data...:   0%|          | 0/15 [00:00<?, ?it/s]"
      ]
     },
     "metadata": {},
     "output_type": "display_data"
    },
    {
     "data": {
      "application/vnd.jupyter.widget-view+json": {
       "model_id": "87fbf9f169254627a541f072582523e0",
       "version_major": 2,
       "version_minor": 0
      },
      "text/plain": [
       "Processing 1950s:   0%|          | 0/4 [00:00<?, ?it/s]"
      ]
     },
     "metadata": {},
     "output_type": "display_data"
    },
    {
     "data": {
      "application/vnd.jupyter.widget-view+json": {
       "model_id": "b349c2ecc55b4d83a84535ccae44a673",
       "version_major": 2,
       "version_minor": 0
      },
      "text/plain": [
       "Processing 1960s:   0%|          | 0/4 [00:00<?, ?it/s]"
      ]
     },
     "metadata": {},
     "output_type": "display_data"
    },
    {
     "data": {
      "application/vnd.jupyter.widget-view+json": {
       "model_id": "12be78193320465d9a0c793d9d2e5a55",
       "version_major": 2,
       "version_minor": 0
      },
      "text/plain": [
       "Processing 1970s:   0%|          | 0/4 [00:00<?, ?it/s]"
      ]
     },
     "metadata": {},
     "output_type": "display_data"
    },
    {
     "data": {
      "application/vnd.jupyter.widget-view+json": {
       "model_id": "6be21720a72d402f9a3672e02966750b",
       "version_major": 2,
       "version_minor": 0
      },
      "text/plain": [
       "Processing 1980s:   0%|          | 0/4 [00:00<?, ?it/s]"
      ]
     },
     "metadata": {},
     "output_type": "display_data"
    },
    {
     "data": {
      "application/vnd.jupyter.widget-view+json": {
       "model_id": "47b00f666a1e42eb88fa14e93db76567",
       "version_major": 2,
       "version_minor": 0
      },
      "text/plain": [
       "Processing 1990s:   0%|          | 0/4 [00:00<?, ?it/s]"
      ]
     },
     "metadata": {},
     "output_type": "display_data"
    },
    {
     "data": {
      "application/vnd.jupyter.widget-view+json": {
       "model_id": "ba34568b97764b8099b9afa06d0226e2",
       "version_major": 2,
       "version_minor": 0
      },
      "text/plain": [
       "Processing 2000s:   0%|          | 0/4 [00:00<?, ?it/s]"
      ]
     },
     "metadata": {},
     "output_type": "display_data"
    },
    {
     "data": {
      "application/vnd.jupyter.widget-view+json": {
       "model_id": "b900a018cd2847c7a587565f3764b158",
       "version_major": 2,
       "version_minor": 0
      },
      "text/plain": [
       "Processing 2010s:   0%|          | 0/4 [00:00<?, ?it/s]"
      ]
     },
     "metadata": {},
     "output_type": "display_data"
    },
    {
     "data": {
      "application/vnd.jupyter.widget-view+json": {
       "model_id": "8ae94a8f8cd3480ca1d83296e7e1424b",
       "version_major": 2,
       "version_minor": 0
      },
      "text/plain": [
       "Processing 2020s:   0%|          | 0/4 [00:00<?, ?it/s]"
      ]
     },
     "metadata": {},
     "output_type": "display_data"
    },
    {
     "data": {
      "application/vnd.jupyter.widget-view+json": {
       "model_id": "5ab665f7e1ef45a785e534da07996f70",
       "version_major": 2,
       "version_minor": 0
      },
      "text/plain": [
       "Processing 2030s:   0%|          | 0/4 [00:00<?, ?it/s]"
      ]
     },
     "metadata": {},
     "output_type": "display_data"
    },
    {
     "data": {
      "application/vnd.jupyter.widget-view+json": {
       "model_id": "fc96d2c6b86147bbae1ef0f7149207ac",
       "version_major": 2,
       "version_minor": 0
      },
      "text/plain": [
       "Processing 2040s:   0%|          | 0/4 [00:00<?, ?it/s]"
      ]
     },
     "metadata": {},
     "output_type": "display_data"
    },
    {
     "data": {
      "application/vnd.jupyter.widget-view+json": {
       "model_id": "c75e9aaaa9c84aebbd1f83226a877919",
       "version_major": 2,
       "version_minor": 0
      },
      "text/plain": [
       "Processing 2050s:   0%|          | 0/4 [00:00<?, ?it/s]"
      ]
     },
     "metadata": {},
     "output_type": "display_data"
    },
    {
     "data": {
      "application/vnd.jupyter.widget-view+json": {
       "model_id": "1dbb34980a854a69b0b7f17bbdae00f8",
       "version_major": 2,
       "version_minor": 0
      },
      "text/plain": [
       "Processing 2060s:   0%|          | 0/4 [00:00<?, ?it/s]"
      ]
     },
     "metadata": {},
     "output_type": "display_data"
    },
    {
     "data": {
      "application/vnd.jupyter.widget-view+json": {
       "model_id": "97bd332e5ba8410b9eea8aaa0bc1c9f8",
       "version_major": 2,
       "version_minor": 0
      },
      "text/plain": [
       "Processing 2070s:   0%|          | 0/4 [00:00<?, ?it/s]"
      ]
     },
     "metadata": {},
     "output_type": "display_data"
    },
    {
     "data": {
      "application/vnd.jupyter.widget-view+json": {
       "model_id": "bd09819398ad4bc393bf30bb9d2eb79e",
       "version_major": 2,
       "version_minor": 0
      },
      "text/plain": [
       "Processing 2080s:   0%|          | 0/4 [00:00<?, ?it/s]"
      ]
     },
     "metadata": {},
     "output_type": "display_data"
    },
    {
     "data": {
      "application/vnd.jupyter.widget-view+json": {
       "model_id": "f58d28d08ed34e4891ae18757c2bb823",
       "version_major": 2,
       "version_minor": 0
      },
      "text/plain": [
       "Processing 2090s:   0%|          | 0/4 [00:00<?, ?it/s]"
      ]
     },
     "metadata": {},
     "output_type": "display_data"
    },
    {
     "data": {
      "application/vnd.jupyter.widget-view+json": {
       "model_id": "209e5ade05dc410c9defa3196faf17ad",
       "version_major": 2,
       "version_minor": 0
      },
      "text/plain": [
       "Processing inmcm4 rcp85 data...:   0%|          | 0/15 [00:00<?, ?it/s]"
      ]
     },
     "metadata": {},
     "output_type": "display_data"
    },
    {
     "data": {
      "application/vnd.jupyter.widget-view+json": {
       "model_id": "05474f1f225149a884d71a2d76b7292b",
       "version_major": 2,
       "version_minor": 0
      },
      "text/plain": [
       "Processing 1950s:   0%|          | 0/4 [00:00<?, ?it/s]"
      ]
     },
     "metadata": {},
     "output_type": "display_data"
    },
    {
     "data": {
      "application/vnd.jupyter.widget-view+json": {
       "model_id": "816a0a84ac2649ca9c1c0e5b37deffb7",
       "version_major": 2,
       "version_minor": 0
      },
      "text/plain": [
       "Processing 1960s:   0%|          | 0/4 [00:00<?, ?it/s]"
      ]
     },
     "metadata": {},
     "output_type": "display_data"
    },
    {
     "data": {
      "application/vnd.jupyter.widget-view+json": {
       "model_id": "9f0de6c6a1794f42a49f87100d1f1a28",
       "version_major": 2,
       "version_minor": 0
      },
      "text/plain": [
       "Processing 1970s:   0%|          | 0/4 [00:00<?, ?it/s]"
      ]
     },
     "metadata": {},
     "output_type": "display_data"
    },
    {
     "data": {
      "application/vnd.jupyter.widget-view+json": {
       "model_id": "c7dd211f5f0948778c68d9f5188ffb2a",
       "version_major": 2,
       "version_minor": 0
      },
      "text/plain": [
       "Processing 1980s:   0%|          | 0/4 [00:00<?, ?it/s]"
      ]
     },
     "metadata": {},
     "output_type": "display_data"
    },
    {
     "data": {
      "application/vnd.jupyter.widget-view+json": {
       "model_id": "bc63710566564e8ba2a7a0b0c1c7397b",
       "version_major": 2,
       "version_minor": 0
      },
      "text/plain": [
       "Processing 1990s:   0%|          | 0/4 [00:00<?, ?it/s]"
      ]
     },
     "metadata": {},
     "output_type": "display_data"
    },
    {
     "data": {
      "application/vnd.jupyter.widget-view+json": {
       "model_id": "a454516b8fdf4becbaae775d52084bae",
       "version_major": 2,
       "version_minor": 0
      },
      "text/plain": [
       "Processing 2000s:   0%|          | 0/4 [00:00<?, ?it/s]"
      ]
     },
     "metadata": {},
     "output_type": "display_data"
    },
    {
     "data": {
      "application/vnd.jupyter.widget-view+json": {
       "model_id": "2eb0eade305e437daef0f827dcece2bb",
       "version_major": 2,
       "version_minor": 0
      },
      "text/plain": [
       "Processing 2010s:   0%|          | 0/4 [00:00<?, ?it/s]"
      ]
     },
     "metadata": {},
     "output_type": "display_data"
    },
    {
     "data": {
      "application/vnd.jupyter.widget-view+json": {
       "model_id": "cdece642375c478da466ca48045882f5",
       "version_major": 2,
       "version_minor": 0
      },
      "text/plain": [
       "Processing 2020s:   0%|          | 0/4 [00:00<?, ?it/s]"
      ]
     },
     "metadata": {},
     "output_type": "display_data"
    },
    {
     "data": {
      "application/vnd.jupyter.widget-view+json": {
       "model_id": "ebc1ccdee9ba47b589634cae225fa66f",
       "version_major": 2,
       "version_minor": 0
      },
      "text/plain": [
       "Processing 2030s:   0%|          | 0/4 [00:00<?, ?it/s]"
      ]
     },
     "metadata": {},
     "output_type": "display_data"
    },
    {
     "data": {
      "application/vnd.jupyter.widget-view+json": {
       "model_id": "376c36d344cc4a54845202ca907b5b06",
       "version_major": 2,
       "version_minor": 0
      },
      "text/plain": [
       "Processing 2040s:   0%|          | 0/4 [00:00<?, ?it/s]"
      ]
     },
     "metadata": {},
     "output_type": "display_data"
    },
    {
     "data": {
      "application/vnd.jupyter.widget-view+json": {
       "model_id": "887ec6cfba614377a6271dafcce7f5d1",
       "version_major": 2,
       "version_minor": 0
      },
      "text/plain": [
       "Processing 2050s:   0%|          | 0/4 [00:00<?, ?it/s]"
      ]
     },
     "metadata": {},
     "output_type": "display_data"
    },
    {
     "data": {
      "application/vnd.jupyter.widget-view+json": {
       "model_id": "bfdd3bd29b4342c9bccf292cc62de296",
       "version_major": 2,
       "version_minor": 0
      },
      "text/plain": [
       "Processing 2060s:   0%|          | 0/4 [00:00<?, ?it/s]"
      ]
     },
     "metadata": {},
     "output_type": "display_data"
    },
    {
     "data": {
      "application/vnd.jupyter.widget-view+json": {
       "model_id": "73b9f0cae1c840c19d42ccfff0c45528",
       "version_major": 2,
       "version_minor": 0
      },
      "text/plain": [
       "Processing 2070s:   0%|          | 0/4 [00:00<?, ?it/s]"
      ]
     },
     "metadata": {},
     "output_type": "display_data"
    },
    {
     "data": {
      "application/vnd.jupyter.widget-view+json": {
       "model_id": "80ddabfba62e4c27b1ffecfb3bebef2b",
       "version_major": 2,
       "version_minor": 0
      },
      "text/plain": [
       "Processing 2080s:   0%|          | 0/4 [00:00<?, ?it/s]"
      ]
     },
     "metadata": {},
     "output_type": "display_data"
    },
    {
     "data": {
      "application/vnd.jupyter.widget-view+json": {
       "model_id": "794f5739a7624947b2afe6e3b9887af7",
       "version_major": 2,
       "version_minor": 0
      },
      "text/plain": [
       "Processing 2090s:   0%|          | 0/4 [00:00<?, ?it/s]"
      ]
     },
     "metadata": {},
     "output_type": "display_data"
    },
    {
     "data": {
      "application/vnd.jupyter.widget-view+json": {
       "model_id": "0342cf047ef943b1bf710ab7d07c342e",
       "version_major": 2,
       "version_minor": 0
      },
      "text/plain": [
       "Processing MIROC5 rcp45 data...:   0%|          | 0/15 [00:00<?, ?it/s]"
      ]
     },
     "metadata": {},
     "output_type": "display_data"
    },
    {
     "data": {
      "application/vnd.jupyter.widget-view+json": {
       "model_id": "ec3d032b013b4333bd846c931f78c4fc",
       "version_major": 2,
       "version_minor": 0
      },
      "text/plain": [
       "Processing 1950s:   0%|          | 0/4 [00:00<?, ?it/s]"
      ]
     },
     "metadata": {},
     "output_type": "display_data"
    },
    {
     "data": {
      "application/vnd.jupyter.widget-view+json": {
       "model_id": "895deb0f6bb3426c8f049c3b5be438cb",
       "version_major": 2,
       "version_minor": 0
      },
      "text/plain": [
       "Processing 1960s:   0%|          | 0/4 [00:00<?, ?it/s]"
      ]
     },
     "metadata": {},
     "output_type": "display_data"
    },
    {
     "data": {
      "application/vnd.jupyter.widget-view+json": {
       "model_id": "1d8ec3c248e8437c82837e8da41c6a4e",
       "version_major": 2,
       "version_minor": 0
      },
      "text/plain": [
       "Processing 1970s:   0%|          | 0/4 [00:00<?, ?it/s]"
      ]
     },
     "metadata": {},
     "output_type": "display_data"
    },
    {
     "data": {
      "application/vnd.jupyter.widget-view+json": {
       "model_id": "125235d30e084675a58bf0a6356109c4",
       "version_major": 2,
       "version_minor": 0
      },
      "text/plain": [
       "Processing 1980s:   0%|          | 0/4 [00:00<?, ?it/s]"
      ]
     },
     "metadata": {},
     "output_type": "display_data"
    },
    {
     "data": {
      "application/vnd.jupyter.widget-view+json": {
       "model_id": "c34d457dacf24cd294ded9b6f20a9963",
       "version_major": 2,
       "version_minor": 0
      },
      "text/plain": [
       "Processing 1990s:   0%|          | 0/4 [00:00<?, ?it/s]"
      ]
     },
     "metadata": {},
     "output_type": "display_data"
    },
    {
     "data": {
      "application/vnd.jupyter.widget-view+json": {
       "model_id": "c21b9171a998463cb2c334018af20b41",
       "version_major": 2,
       "version_minor": 0
      },
      "text/plain": [
       "Processing 2000s:   0%|          | 0/4 [00:00<?, ?it/s]"
      ]
     },
     "metadata": {},
     "output_type": "display_data"
    },
    {
     "data": {
      "application/vnd.jupyter.widget-view+json": {
       "model_id": "cc16c6df96464003bc78936ec7cfe725",
       "version_major": 2,
       "version_minor": 0
      },
      "text/plain": [
       "Processing 2010s:   0%|          | 0/4 [00:00<?, ?it/s]"
      ]
     },
     "metadata": {},
     "output_type": "display_data"
    },
    {
     "data": {
      "application/vnd.jupyter.widget-view+json": {
       "model_id": "a38b44006a7f42af882a7d11c40f0d98",
       "version_major": 2,
       "version_minor": 0
      },
      "text/plain": [
       "Processing 2020s:   0%|          | 0/4 [00:00<?, ?it/s]"
      ]
     },
     "metadata": {},
     "output_type": "display_data"
    },
    {
     "data": {
      "application/vnd.jupyter.widget-view+json": {
       "model_id": "fa382a6c994440cd81b6814aecceb6dc",
       "version_major": 2,
       "version_minor": 0
      },
      "text/plain": [
       "Processing 2030s:   0%|          | 0/4 [00:00<?, ?it/s]"
      ]
     },
     "metadata": {},
     "output_type": "display_data"
    },
    {
     "data": {
      "application/vnd.jupyter.widget-view+json": {
       "model_id": "a845f8b419bf4a509682cbc7b512a839",
       "version_major": 2,
       "version_minor": 0
      },
      "text/plain": [
       "Processing 2040s:   0%|          | 0/4 [00:00<?, ?it/s]"
      ]
     },
     "metadata": {},
     "output_type": "display_data"
    },
    {
     "data": {
      "application/vnd.jupyter.widget-view+json": {
       "model_id": "a914f56dae26488985e6a4036b1d0c05",
       "version_major": 2,
       "version_minor": 0
      },
      "text/plain": [
       "Processing 2050s:   0%|          | 0/4 [00:00<?, ?it/s]"
      ]
     },
     "metadata": {},
     "output_type": "display_data"
    },
    {
     "data": {
      "application/vnd.jupyter.widget-view+json": {
       "model_id": "2aeea68d98954ce09cd91c0959759e71",
       "version_major": 2,
       "version_minor": 0
      },
      "text/plain": [
       "Processing 2060s:   0%|          | 0/4 [00:00<?, ?it/s]"
      ]
     },
     "metadata": {},
     "output_type": "display_data"
    },
    {
     "data": {
      "application/vnd.jupyter.widget-view+json": {
       "model_id": "5909a82493044d3fb97124ce4617f064",
       "version_major": 2,
       "version_minor": 0
      },
      "text/plain": [
       "Processing 2070s:   0%|          | 0/4 [00:00<?, ?it/s]"
      ]
     },
     "metadata": {},
     "output_type": "display_data"
    },
    {
     "data": {
      "application/vnd.jupyter.widget-view+json": {
       "model_id": "604a5ce5d79145028e3ecfcd2a19851c",
       "version_major": 2,
       "version_minor": 0
      },
      "text/plain": [
       "Processing 2080s:   0%|          | 0/4 [00:00<?, ?it/s]"
      ]
     },
     "metadata": {},
     "output_type": "display_data"
    },
    {
     "data": {
      "application/vnd.jupyter.widget-view+json": {
       "model_id": "30a86c3e17b54f5b83f1cb15b88d3151",
       "version_major": 2,
       "version_minor": 0
      },
      "text/plain": [
       "Processing 2090s:   0%|          | 0/4 [00:00<?, ?it/s]"
      ]
     },
     "metadata": {},
     "output_type": "display_data"
    },
    {
     "data": {
      "application/vnd.jupyter.widget-view+json": {
       "model_id": "4ee3c18cf89a47eeaa6c83394552e369",
       "version_major": 2,
       "version_minor": 0
      },
      "text/plain": [
       "Processing MIROC5 rcp85 data...:   0%|          | 0/15 [00:00<?, ?it/s]"
      ]
     },
     "metadata": {},
     "output_type": "display_data"
    },
    {
     "data": {
      "application/vnd.jupyter.widget-view+json": {
       "model_id": "ee1f04244755421693788201916c5b30",
       "version_major": 2,
       "version_minor": 0
      },
      "text/plain": [
       "Processing 1950s:   0%|          | 0/4 [00:00<?, ?it/s]"
      ]
     },
     "metadata": {},
     "output_type": "display_data"
    },
    {
     "data": {
      "application/vnd.jupyter.widget-view+json": {
       "model_id": "4f12b64c016042ec82b325649c803d9c",
       "version_major": 2,
       "version_minor": 0
      },
      "text/plain": [
       "Processing 1960s:   0%|          | 0/4 [00:00<?, ?it/s]"
      ]
     },
     "metadata": {},
     "output_type": "display_data"
    },
    {
     "data": {
      "application/vnd.jupyter.widget-view+json": {
       "model_id": "fd3e582b8bd54de7926e12c03c4da8fc",
       "version_major": 2,
       "version_minor": 0
      },
      "text/plain": [
       "Processing 1970s:   0%|          | 0/4 [00:00<?, ?it/s]"
      ]
     },
     "metadata": {},
     "output_type": "display_data"
    },
    {
     "data": {
      "application/vnd.jupyter.widget-view+json": {
       "model_id": "1035c9e456fc44708ceac0e6429c151f",
       "version_major": 2,
       "version_minor": 0
      },
      "text/plain": [
       "Processing 1980s:   0%|          | 0/4 [00:00<?, ?it/s]"
      ]
     },
     "metadata": {},
     "output_type": "display_data"
    },
    {
     "data": {
      "application/vnd.jupyter.widget-view+json": {
       "model_id": "1558488c5698427ea0f92cd2de52c3c5",
       "version_major": 2,
       "version_minor": 0
      },
      "text/plain": [
       "Processing 1990s:   0%|          | 0/4 [00:00<?, ?it/s]"
      ]
     },
     "metadata": {},
     "output_type": "display_data"
    },
    {
     "data": {
      "application/vnd.jupyter.widget-view+json": {
       "model_id": "c38aaf70090945abbfb87cd1300bfc21",
       "version_major": 2,
       "version_minor": 0
      },
      "text/plain": [
       "Processing 2000s:   0%|          | 0/4 [00:00<?, ?it/s]"
      ]
     },
     "metadata": {},
     "output_type": "display_data"
    },
    {
     "data": {
      "application/vnd.jupyter.widget-view+json": {
       "model_id": "8cbfb33d27a647178c366e0f603ca251",
       "version_major": 2,
       "version_minor": 0
      },
      "text/plain": [
       "Processing 2010s:   0%|          | 0/4 [00:00<?, ?it/s]"
      ]
     },
     "metadata": {},
     "output_type": "display_data"
    },
    {
     "data": {
      "application/vnd.jupyter.widget-view+json": {
       "model_id": "b02f0549904e4b85ba63b6bd491f3393",
       "version_major": 2,
       "version_minor": 0
      },
      "text/plain": [
       "Processing 2020s:   0%|          | 0/4 [00:00<?, ?it/s]"
      ]
     },
     "metadata": {},
     "output_type": "display_data"
    },
    {
     "data": {
      "application/vnd.jupyter.widget-view+json": {
       "model_id": "762f65966ab94036a72823dae0943051",
       "version_major": 2,
       "version_minor": 0
      },
      "text/plain": [
       "Processing 2030s:   0%|          | 0/4 [00:00<?, ?it/s]"
      ]
     },
     "metadata": {},
     "output_type": "display_data"
    },
    {
     "data": {
      "application/vnd.jupyter.widget-view+json": {
       "model_id": "5e96022de23841ac912154e8e7c3bdd1",
       "version_major": 2,
       "version_minor": 0
      },
      "text/plain": [
       "Processing 2040s:   0%|          | 0/4 [00:00<?, ?it/s]"
      ]
     },
     "metadata": {},
     "output_type": "display_data"
    },
    {
     "data": {
      "application/vnd.jupyter.widget-view+json": {
       "model_id": "5fb8167311b1483da408e28b1a6746c0",
       "version_major": 2,
       "version_minor": 0
      },
      "text/plain": [
       "Processing 2050s:   0%|          | 0/4 [00:00<?, ?it/s]"
      ]
     },
     "metadata": {},
     "output_type": "display_data"
    },
    {
     "data": {
      "application/vnd.jupyter.widget-view+json": {
       "model_id": "ad8dd569c9d64380a27ac285893c840a",
       "version_major": 2,
       "version_minor": 0
      },
      "text/plain": [
       "Processing 2060s:   0%|          | 0/4 [00:00<?, ?it/s]"
      ]
     },
     "metadata": {},
     "output_type": "display_data"
    },
    {
     "data": {
      "application/vnd.jupyter.widget-view+json": {
       "model_id": "e93ce30e7699406f8f4cfee424ad286a",
       "version_major": 2,
       "version_minor": 0
      },
      "text/plain": [
       "Processing 2070s:   0%|          | 0/4 [00:00<?, ?it/s]"
      ]
     },
     "metadata": {},
     "output_type": "display_data"
    },
    {
     "data": {
      "application/vnd.jupyter.widget-view+json": {
       "model_id": "f3df14a769064c1893a69aa7108d9102",
       "version_major": 2,
       "version_minor": 0
      },
      "text/plain": [
       "Processing 2080s:   0%|          | 0/4 [00:00<?, ?it/s]"
      ]
     },
     "metadata": {},
     "output_type": "display_data"
    },
    {
     "data": {
      "application/vnd.jupyter.widget-view+json": {
       "model_id": "446312da2b0641ea86dcb127f0415d61",
       "version_major": 2,
       "version_minor": 0
      },
      "text/plain": [
       "Processing 2090s:   0%|          | 0/4 [00:00<?, ?it/s]"
      ]
     },
     "metadata": {},
     "output_type": "display_data"
    },
    {
     "data": {
      "application/vnd.jupyter.widget-view+json": {
       "model_id": "9172220ada97406ea18c68c95f3437b5",
       "version_major": 2,
       "version_minor": 0
      },
      "text/plain": [
       "Processing MPI-ESM-MR rcp45 data...:   0%|          | 0/15 [00:00<?, ?it/s]"
      ]
     },
     "metadata": {},
     "output_type": "display_data"
    },
    {
     "data": {
      "application/vnd.jupyter.widget-view+json": {
       "model_id": "7f6ad9affbda4c18b70debd93f9aa48b",
       "version_major": 2,
       "version_minor": 0
      },
      "text/plain": [
       "Processing 1950s:   0%|          | 0/4 [00:00<?, ?it/s]"
      ]
     },
     "metadata": {},
     "output_type": "display_data"
    },
    {
     "data": {
      "application/vnd.jupyter.widget-view+json": {
       "model_id": "dfca450ac204470892c912aa88c74e4c",
       "version_major": 2,
       "version_minor": 0
      },
      "text/plain": [
       "Processing 1960s:   0%|          | 0/4 [00:00<?, ?it/s]"
      ]
     },
     "metadata": {},
     "output_type": "display_data"
    },
    {
     "data": {
      "application/vnd.jupyter.widget-view+json": {
       "model_id": "0232a571ba734f0cbf96b144a608da1c",
       "version_major": 2,
       "version_minor": 0
      },
      "text/plain": [
       "Processing 1970s:   0%|          | 0/4 [00:00<?, ?it/s]"
      ]
     },
     "metadata": {},
     "output_type": "display_data"
    },
    {
     "data": {
      "application/vnd.jupyter.widget-view+json": {
       "model_id": "4f687c6fbb224d70a3b34401ba595f62",
       "version_major": 2,
       "version_minor": 0
      },
      "text/plain": [
       "Processing 1980s:   0%|          | 0/4 [00:00<?, ?it/s]"
      ]
     },
     "metadata": {},
     "output_type": "display_data"
    },
    {
     "data": {
      "application/vnd.jupyter.widget-view+json": {
       "model_id": "d1f0f52f1a744530a6bffcd309c3031c",
       "version_major": 2,
       "version_minor": 0
      },
      "text/plain": [
       "Processing 1990s:   0%|          | 0/4 [00:00<?, ?it/s]"
      ]
     },
     "metadata": {},
     "output_type": "display_data"
    },
    {
     "data": {
      "application/vnd.jupyter.widget-view+json": {
       "model_id": "95401b963cd84695a614cab40e78fa9d",
       "version_major": 2,
       "version_minor": 0
      },
      "text/plain": [
       "Processing 2000s:   0%|          | 0/4 [00:00<?, ?it/s]"
      ]
     },
     "metadata": {},
     "output_type": "display_data"
    },
    {
     "data": {
      "application/vnd.jupyter.widget-view+json": {
       "model_id": "a37b0ceb080e4d5fb8ce84e656683bf1",
       "version_major": 2,
       "version_minor": 0
      },
      "text/plain": [
       "Processing 2010s:   0%|          | 0/4 [00:00<?, ?it/s]"
      ]
     },
     "metadata": {},
     "output_type": "display_data"
    },
    {
     "data": {
      "application/vnd.jupyter.widget-view+json": {
       "model_id": "0d4de4178f3d4a7e82be2ab99d34d27f",
       "version_major": 2,
       "version_minor": 0
      },
      "text/plain": [
       "Processing 2020s:   0%|          | 0/4 [00:00<?, ?it/s]"
      ]
     },
     "metadata": {},
     "output_type": "display_data"
    },
    {
     "data": {
      "application/vnd.jupyter.widget-view+json": {
       "model_id": "ec9dc9446fcf47f0bb00db8fda5bdec0",
       "version_major": 2,
       "version_minor": 0
      },
      "text/plain": [
       "Processing 2030s:   0%|          | 0/4 [00:00<?, ?it/s]"
      ]
     },
     "metadata": {},
     "output_type": "display_data"
    },
    {
     "data": {
      "application/vnd.jupyter.widget-view+json": {
       "model_id": "53bf92b4e2274c108d890474153770c1",
       "version_major": 2,
       "version_minor": 0
      },
      "text/plain": [
       "Processing 2040s:   0%|          | 0/4 [00:00<?, ?it/s]"
      ]
     },
     "metadata": {},
     "output_type": "display_data"
    },
    {
     "data": {
      "application/vnd.jupyter.widget-view+json": {
       "model_id": "70384b5cf751491cb87e6e12698fc9fe",
       "version_major": 2,
       "version_minor": 0
      },
      "text/plain": [
       "Processing 2050s:   0%|          | 0/4 [00:00<?, ?it/s]"
      ]
     },
     "metadata": {},
     "output_type": "display_data"
    },
    {
     "data": {
      "application/vnd.jupyter.widget-view+json": {
       "model_id": "b6e4fcf334804613b830bbc8d1297707",
       "version_major": 2,
       "version_minor": 0
      },
      "text/plain": [
       "Processing 2060s:   0%|          | 0/4 [00:00<?, ?it/s]"
      ]
     },
     "metadata": {},
     "output_type": "display_data"
    },
    {
     "data": {
      "application/vnd.jupyter.widget-view+json": {
       "model_id": "09b1fc23d3004e2781285bb1e74062f6",
       "version_major": 2,
       "version_minor": 0
      },
      "text/plain": [
       "Processing 2070s:   0%|          | 0/4 [00:00<?, ?it/s]"
      ]
     },
     "metadata": {},
     "output_type": "display_data"
    },
    {
     "data": {
      "application/vnd.jupyter.widget-view+json": {
       "model_id": "e58164ed00904c3cb4363b1ba06461cd",
       "version_major": 2,
       "version_minor": 0
      },
      "text/plain": [
       "Processing 2080s:   0%|          | 0/4 [00:00<?, ?it/s]"
      ]
     },
     "metadata": {},
     "output_type": "display_data"
    },
    {
     "data": {
      "application/vnd.jupyter.widget-view+json": {
       "model_id": "eafd6a9ff6ea4940ab7304f35b58ed76",
       "version_major": 2,
       "version_minor": 0
      },
      "text/plain": [
       "Processing 2090s:   0%|          | 0/4 [00:00<?, ?it/s]"
      ]
     },
     "metadata": {},
     "output_type": "display_data"
    },
    {
     "data": {
      "application/vnd.jupyter.widget-view+json": {
       "model_id": "4838b367ba024e89beaf7365584b158e",
       "version_major": 2,
       "version_minor": 0
      },
      "text/plain": [
       "Processing MPI-ESM-MR rcp85 data...:   0%|          | 0/15 [00:00<?, ?it/s]"
      ]
     },
     "metadata": {},
     "output_type": "display_data"
    },
    {
     "data": {
      "application/vnd.jupyter.widget-view+json": {
       "model_id": "dea5da361c52467ea84dde0c83a772c2",
       "version_major": 2,
       "version_minor": 0
      },
      "text/plain": [
       "Processing 1950s:   0%|          | 0/4 [00:00<?, ?it/s]"
      ]
     },
     "metadata": {},
     "output_type": "display_data"
    },
    {
     "data": {
      "application/vnd.jupyter.widget-view+json": {
       "model_id": "1d801aff7afe4b2693c0a9ad64745704",
       "version_major": 2,
       "version_minor": 0
      },
      "text/plain": [
       "Processing 1960s:   0%|          | 0/4 [00:00<?, ?it/s]"
      ]
     },
     "metadata": {},
     "output_type": "display_data"
    },
    {
     "data": {
      "application/vnd.jupyter.widget-view+json": {
       "model_id": "23d5a4da6a1e45f6acb472b44c7efb27",
       "version_major": 2,
       "version_minor": 0
      },
      "text/plain": [
       "Processing 1970s:   0%|          | 0/4 [00:00<?, ?it/s]"
      ]
     },
     "metadata": {},
     "output_type": "display_data"
    },
    {
     "data": {
      "application/vnd.jupyter.widget-view+json": {
       "model_id": "68dc1d2e5f0d424ea2cb5dfd40ccbbb9",
       "version_major": 2,
       "version_minor": 0
      },
      "text/plain": [
       "Processing 1980s:   0%|          | 0/4 [00:00<?, ?it/s]"
      ]
     },
     "metadata": {},
     "output_type": "display_data"
    },
    {
     "data": {
      "application/vnd.jupyter.widget-view+json": {
       "model_id": "789e558e75754a7abd95e1415f5adb47",
       "version_major": 2,
       "version_minor": 0
      },
      "text/plain": [
       "Processing 1990s:   0%|          | 0/4 [00:00<?, ?it/s]"
      ]
     },
     "metadata": {},
     "output_type": "display_data"
    },
    {
     "data": {
      "application/vnd.jupyter.widget-view+json": {
       "model_id": "e2434af46830447ca192825e2552e910",
       "version_major": 2,
       "version_minor": 0
      },
      "text/plain": [
       "Processing 2000s:   0%|          | 0/4 [00:00<?, ?it/s]"
      ]
     },
     "metadata": {},
     "output_type": "display_data"
    },
    {
     "data": {
      "application/vnd.jupyter.widget-view+json": {
       "model_id": "1daa32bfb2b14661aeacf164f9f946b7",
       "version_major": 2,
       "version_minor": 0
      },
      "text/plain": [
       "Processing 2010s:   0%|          | 0/4 [00:00<?, ?it/s]"
      ]
     },
     "metadata": {},
     "output_type": "display_data"
    },
    {
     "data": {
      "application/vnd.jupyter.widget-view+json": {
       "model_id": "ef133d95edba42cca6653aa9f78fa174",
       "version_major": 2,
       "version_minor": 0
      },
      "text/plain": [
       "Processing 2020s:   0%|          | 0/4 [00:00<?, ?it/s]"
      ]
     },
     "metadata": {},
     "output_type": "display_data"
    },
    {
     "data": {
      "application/vnd.jupyter.widget-view+json": {
       "model_id": "8f94cf69ce944e7195cdba52ac6c00fb",
       "version_major": 2,
       "version_minor": 0
      },
      "text/plain": [
       "Processing 2030s:   0%|          | 0/4 [00:00<?, ?it/s]"
      ]
     },
     "metadata": {},
     "output_type": "display_data"
    },
    {
     "data": {
      "application/vnd.jupyter.widget-view+json": {
       "model_id": "66e434d051b545dcacbf14ded5693b2a",
       "version_major": 2,
       "version_minor": 0
      },
      "text/plain": [
       "Processing 2040s:   0%|          | 0/4 [00:00<?, ?it/s]"
      ]
     },
     "metadata": {},
     "output_type": "display_data"
    },
    {
     "data": {
      "application/vnd.jupyter.widget-view+json": {
       "model_id": "b075fb0363414d5b8df656f779f7649a",
       "version_major": 2,
       "version_minor": 0
      },
      "text/plain": [
       "Processing 2050s:   0%|          | 0/4 [00:00<?, ?it/s]"
      ]
     },
     "metadata": {},
     "output_type": "display_data"
    },
    {
     "data": {
      "application/vnd.jupyter.widget-view+json": {
       "model_id": "4f6e31fdf98a4e0db5a3915fac320cb6",
       "version_major": 2,
       "version_minor": 0
      },
      "text/plain": [
       "Processing 2060s:   0%|          | 0/4 [00:00<?, ?it/s]"
      ]
     },
     "metadata": {},
     "output_type": "display_data"
    },
    {
     "data": {
      "application/vnd.jupyter.widget-view+json": {
       "model_id": "a6659e4d53ef445881f984ddd3129b1d",
       "version_major": 2,
       "version_minor": 0
      },
      "text/plain": [
       "Processing 2070s:   0%|          | 0/4 [00:00<?, ?it/s]"
      ]
     },
     "metadata": {},
     "output_type": "display_data"
    },
    {
     "data": {
      "application/vnd.jupyter.widget-view+json": {
       "model_id": "55cb7635eeac4c9eabc31dc602ce294b",
       "version_major": 2,
       "version_minor": 0
      },
      "text/plain": [
       "Processing 2080s:   0%|          | 0/4 [00:00<?, ?it/s]"
      ]
     },
     "metadata": {},
     "output_type": "display_data"
    },
    {
     "data": {
      "application/vnd.jupyter.widget-view+json": {
       "model_id": "b900ca5a2a68481ca0e589e4dd01b695",
       "version_major": 2,
       "version_minor": 0
      },
      "text/plain": [
       "Processing 2090s:   0%|          | 0/4 [00:00<?, ?it/s]"
      ]
     },
     "metadata": {},
     "output_type": "display_data"
    },
    {
     "data": {
      "application/vnd.jupyter.widget-view+json": {
       "model_id": "16e6ff22a16d456abefe19d9ffd3d214",
       "version_major": 2,
       "version_minor": 0
      },
      "text/plain": [
       "Processing MRI-CGCM3 rcp45 data...:   0%|          | 0/15 [00:00<?, ?it/s]"
      ]
     },
     "metadata": {},
     "output_type": "display_data"
    },
    {
     "data": {
      "application/vnd.jupyter.widget-view+json": {
       "model_id": "f9a2b7be77784821a2bc5071abba43cc",
       "version_major": 2,
       "version_minor": 0
      },
      "text/plain": [
       "Processing 1950s:   0%|          | 0/4 [00:00<?, ?it/s]"
      ]
     },
     "metadata": {},
     "output_type": "display_data"
    },
    {
     "data": {
      "application/vnd.jupyter.widget-view+json": {
       "model_id": "c7c7e6586dd64bd694a8685969518990",
       "version_major": 2,
       "version_minor": 0
      },
      "text/plain": [
       "Processing 1960s:   0%|          | 0/4 [00:00<?, ?it/s]"
      ]
     },
     "metadata": {},
     "output_type": "display_data"
    },
    {
     "data": {
      "application/vnd.jupyter.widget-view+json": {
       "model_id": "fa19893492db4b6e84f60b438a6e65f5",
       "version_major": 2,
       "version_minor": 0
      },
      "text/plain": [
       "Processing 1970s:   0%|          | 0/4 [00:00<?, ?it/s]"
      ]
     },
     "metadata": {},
     "output_type": "display_data"
    },
    {
     "data": {
      "application/vnd.jupyter.widget-view+json": {
       "model_id": "1f2912ba0ed44cbb9ec63719908897f3",
       "version_major": 2,
       "version_minor": 0
      },
      "text/plain": [
       "Processing 1980s:   0%|          | 0/4 [00:00<?, ?it/s]"
      ]
     },
     "metadata": {},
     "output_type": "display_data"
    },
    {
     "data": {
      "application/vnd.jupyter.widget-view+json": {
       "model_id": "e580118dfb9b4b2db1ff80c0f4593661",
       "version_major": 2,
       "version_minor": 0
      },
      "text/plain": [
       "Processing 1990s:   0%|          | 0/4 [00:00<?, ?it/s]"
      ]
     },
     "metadata": {},
     "output_type": "display_data"
    },
    {
     "data": {
      "application/vnd.jupyter.widget-view+json": {
       "model_id": "bdacdacc177542fdbeb09df613fd7e73",
       "version_major": 2,
       "version_minor": 0
      },
      "text/plain": [
       "Processing 2000s:   0%|          | 0/4 [00:00<?, ?it/s]"
      ]
     },
     "metadata": {},
     "output_type": "display_data"
    },
    {
     "data": {
      "application/vnd.jupyter.widget-view+json": {
       "model_id": "6092fa56f00e4085a7046f213de21d2b",
       "version_major": 2,
       "version_minor": 0
      },
      "text/plain": [
       "Processing 2010s:   0%|          | 0/4 [00:00<?, ?it/s]"
      ]
     },
     "metadata": {},
     "output_type": "display_data"
    },
    {
     "data": {
      "application/vnd.jupyter.widget-view+json": {
       "model_id": "85ccc26c29454267aa35fccc3bf4e7b8",
       "version_major": 2,
       "version_minor": 0
      },
      "text/plain": [
       "Processing 2020s:   0%|          | 0/4 [00:00<?, ?it/s]"
      ]
     },
     "metadata": {},
     "output_type": "display_data"
    },
    {
     "data": {
      "application/vnd.jupyter.widget-view+json": {
       "model_id": "a253239cafa249d18c34ae1e6c7a48d3",
       "version_major": 2,
       "version_minor": 0
      },
      "text/plain": [
       "Processing 2030s:   0%|          | 0/4 [00:00<?, ?it/s]"
      ]
     },
     "metadata": {},
     "output_type": "display_data"
    },
    {
     "data": {
      "application/vnd.jupyter.widget-view+json": {
       "model_id": "a38b71dd2d994ca0bee9c67f2527038f",
       "version_major": 2,
       "version_minor": 0
      },
      "text/plain": [
       "Processing 2040s:   0%|          | 0/4 [00:00<?, ?it/s]"
      ]
     },
     "metadata": {},
     "output_type": "display_data"
    },
    {
     "data": {
      "application/vnd.jupyter.widget-view+json": {
       "model_id": "22532d67ada943c09ada0225d7f8a8be",
       "version_major": 2,
       "version_minor": 0
      },
      "text/plain": [
       "Processing 2050s:   0%|          | 0/4 [00:00<?, ?it/s]"
      ]
     },
     "metadata": {},
     "output_type": "display_data"
    },
    {
     "data": {
      "application/vnd.jupyter.widget-view+json": {
       "model_id": "dfdc84e06e4e46faa2d0933f09da28b6",
       "version_major": 2,
       "version_minor": 0
      },
      "text/plain": [
       "Processing 2060s:   0%|          | 0/4 [00:00<?, ?it/s]"
      ]
     },
     "metadata": {},
     "output_type": "display_data"
    },
    {
     "data": {
      "application/vnd.jupyter.widget-view+json": {
       "model_id": "dfd6d7fc57ff4179a9d63671e2fa4deb",
       "version_major": 2,
       "version_minor": 0
      },
      "text/plain": [
       "Processing 2070s:   0%|          | 0/4 [00:00<?, ?it/s]"
      ]
     },
     "metadata": {},
     "output_type": "display_data"
    },
    {
     "data": {
      "application/vnd.jupyter.widget-view+json": {
       "model_id": "c2b564350a4b47f48f415e9315976a40",
       "version_major": 2,
       "version_minor": 0
      },
      "text/plain": [
       "Processing 2080s:   0%|          | 0/4 [00:00<?, ?it/s]"
      ]
     },
     "metadata": {},
     "output_type": "display_data"
    },
    {
     "data": {
      "application/vnd.jupyter.widget-view+json": {
       "model_id": "dbfa1c8cc44040b3b3d596c541e7b5ca",
       "version_major": 2,
       "version_minor": 0
      },
      "text/plain": [
       "Processing 2090s:   0%|          | 0/4 [00:00<?, ?it/s]"
      ]
     },
     "metadata": {},
     "output_type": "display_data"
    },
    {
     "data": {
      "application/vnd.jupyter.widget-view+json": {
       "model_id": "7b4b77d5a8c743f69e2252ab9abc3d3d",
       "version_major": 2,
       "version_minor": 0
      },
      "text/plain": [
       "Processing MRI-CGCM3 rcp85 data...:   0%|          | 0/15 [00:00<?, ?it/s]"
      ]
     },
     "metadata": {},
     "output_type": "display_data"
    },
    {
     "data": {
      "application/vnd.jupyter.widget-view+json": {
       "model_id": "7807394035e243fbae25acd7eb52a8b2",
       "version_major": 2,
       "version_minor": 0
      },
      "text/plain": [
       "Processing 1950s:   0%|          | 0/4 [00:00<?, ?it/s]"
      ]
     },
     "metadata": {},
     "output_type": "display_data"
    },
    {
     "data": {
      "application/vnd.jupyter.widget-view+json": {
       "model_id": "e8042d3b2eb24630807e70e5b15e1f0a",
       "version_major": 2,
       "version_minor": 0
      },
      "text/plain": [
       "Processing 1960s:   0%|          | 0/4 [00:00<?, ?it/s]"
      ]
     },
     "metadata": {},
     "output_type": "display_data"
    },
    {
     "data": {
      "application/vnd.jupyter.widget-view+json": {
       "model_id": "682a3d8183ee4f728f74e956d8ed7af3",
       "version_major": 2,
       "version_minor": 0
      },
      "text/plain": [
       "Processing 1970s:   0%|          | 0/4 [00:00<?, ?it/s]"
      ]
     },
     "metadata": {},
     "output_type": "display_data"
    },
    {
     "data": {
      "application/vnd.jupyter.widget-view+json": {
       "model_id": "5274eefa44ab48aeaa3f337ff689cc35",
       "version_major": 2,
       "version_minor": 0
      },
      "text/plain": [
       "Processing 1980s:   0%|          | 0/4 [00:00<?, ?it/s]"
      ]
     },
     "metadata": {},
     "output_type": "display_data"
    },
    {
     "data": {
      "application/vnd.jupyter.widget-view+json": {
       "model_id": "43c4641535f844bb91aba566b81421ec",
       "version_major": 2,
       "version_minor": 0
      },
      "text/plain": [
       "Processing 1990s:   0%|          | 0/4 [00:00<?, ?it/s]"
      ]
     },
     "metadata": {},
     "output_type": "display_data"
    },
    {
     "data": {
      "application/vnd.jupyter.widget-view+json": {
       "model_id": "c4508b10641a4c3ebcff9a6155d9a781",
       "version_major": 2,
       "version_minor": 0
      },
      "text/plain": [
       "Processing 2000s:   0%|          | 0/4 [00:00<?, ?it/s]"
      ]
     },
     "metadata": {},
     "output_type": "display_data"
    },
    {
     "data": {
      "application/vnd.jupyter.widget-view+json": {
       "model_id": "eda486177e1e4901b0af8740e733130e",
       "version_major": 2,
       "version_minor": 0
      },
      "text/plain": [
       "Processing 2010s:   0%|          | 0/4 [00:00<?, ?it/s]"
      ]
     },
     "metadata": {},
     "output_type": "display_data"
    },
    {
     "data": {
      "application/vnd.jupyter.widget-view+json": {
       "model_id": "f457cb32baf6421ea65573bb471da9ff",
       "version_major": 2,
       "version_minor": 0
      },
      "text/plain": [
       "Processing 2020s:   0%|          | 0/4 [00:00<?, ?it/s]"
      ]
     },
     "metadata": {},
     "output_type": "display_data"
    },
    {
     "data": {
      "application/vnd.jupyter.widget-view+json": {
       "model_id": "8370586aa3654cf6acc9daa042f4f6bf",
       "version_major": 2,
       "version_minor": 0
      },
      "text/plain": [
       "Processing 2030s:   0%|          | 0/4 [00:00<?, ?it/s]"
      ]
     },
     "metadata": {},
     "output_type": "display_data"
    },
    {
     "data": {
      "application/vnd.jupyter.widget-view+json": {
       "model_id": "b9df5691408c4cb5b86380af34ef7de2",
       "version_major": 2,
       "version_minor": 0
      },
      "text/plain": [
       "Processing 2040s:   0%|          | 0/4 [00:00<?, ?it/s]"
      ]
     },
     "metadata": {},
     "output_type": "display_data"
    },
    {
     "data": {
      "application/vnd.jupyter.widget-view+json": {
       "model_id": "465d22fe413846d780ef2828a052f457",
       "version_major": 2,
       "version_minor": 0
      },
      "text/plain": [
       "Processing 2050s:   0%|          | 0/4 [00:00<?, ?it/s]"
      ]
     },
     "metadata": {},
     "output_type": "display_data"
    },
    {
     "data": {
      "application/vnd.jupyter.widget-view+json": {
       "model_id": "b766b91fa08b456999c632bef51c7cd1",
       "version_major": 2,
       "version_minor": 0
      },
      "text/plain": [
       "Processing 2060s:   0%|          | 0/4 [00:00<?, ?it/s]"
      ]
     },
     "metadata": {},
     "output_type": "display_data"
    },
    {
     "data": {
      "application/vnd.jupyter.widget-view+json": {
       "model_id": "956b161fdbf04befb0efcec619338625",
       "version_major": 2,
       "version_minor": 0
      },
      "text/plain": [
       "Processing 2070s:   0%|          | 0/4 [00:00<?, ?it/s]"
      ]
     },
     "metadata": {},
     "output_type": "display_data"
    },
    {
     "data": {
      "application/vnd.jupyter.widget-view+json": {
       "model_id": "837aee4c820d4064981daf786e8d1267",
       "version_major": 2,
       "version_minor": 0
      },
      "text/plain": [
       "Processing 2080s:   0%|          | 0/4 [00:00<?, ?it/s]"
      ]
     },
     "metadata": {},
     "output_type": "display_data"
    },
    {
     "data": {
      "application/vnd.jupyter.widget-view+json": {
       "model_id": "906edde085c54a159c769f5a91f7f7eb",
       "version_major": 2,
       "version_minor": 0
      },
      "text/plain": [
       "Processing 2090s:   0%|          | 0/4 [00:00<?, ?it/s]"
      ]
     },
     "metadata": {},
     "output_type": "display_data"
    },
    {
     "name": "stdout",
     "output_type": "stream",
     "text": [
      "CPU times: user 33min 44s, sys: 2min 52s, total: 36min 36s\n",
      "Wall time: 49min 27s\n"
     ]
    }
   ],
   "source": [
    "%%time\n",
    "\n",
    "# start looping through model-scenarios here\n",
    "# but hardcode for testing\n",
    "# model = \"CCSM4\"\n",
    "# scenario = \"rcp85\"\n",
    "\n",
    "for model in models:\n",
    "    for scenario in scenarios:\n",
    "\n",
    "        ncube = mfload_all_netcdf_data(process_group_di[model][scenario])\n",
    "        projcube, wrf_raster_profile = project_datacube(ncube)\n",
    "\n",
    "        # change to source start and stop from config, so users could run \"just historical\" or something like that\n",
    "        # also change increment for 20 year summaries, climos, etc.\n",
    "\n",
    "        for decade_start in tqdm(range(1950, 2100, 10), desc=f\"Processing {model} {scenario} data...\"):\n",
    "\n",
    "        #for decade_start in tqdm(range(1950, 1960, 10), desc=f\"Processing {model} {scenario} data...\"):\n",
    "\n",
    "            decade_slice = slice_by_decade(projcube, decade_start)\n",
    "            for climvar in tqdm(variable_di[\"wf\"].keys(), desc=f\"Processing {decade_start}s\"):\n",
    "                decadal_means_of_monthly_summaries = compute_monthly_summaries(decade_slice, climvar)\n",
    "                for month in months:\n",
    "                    month_array = array_from_monthly_summary(decadal_means_of_monthly_summaries, climvar, month)\n",
    "\n",
    "                    output_filename = make_output_filename(climvar, model, scenario, month, decade_start)\n",
    "\n",
    "                    write_raster_to_disk(output_filename, wrf_raster_profile, month_array)\n",
    "\n",
    "            projcube.close()"
   ]
  },
  {
   "cell_type": "code",
   "execution_count": null,
   "id": "493e1384-3a84-4d51-8724-64921b4d34e7",
   "metadata": {},
   "outputs": [],
   "source": [
    "# see tbec repo for setting env vars for the input and output dirs\n",
    "# pipeline seems to be working, add loop to roll through model and scenarios\n",
    "# add notebook to reproject to 3338\n",
    "# contact NCAR about the missing data for the met files, and the extreme precip blob"
   ]
  },
  {
   "cell_type": "code",
   "execution_count": null,
   "id": "60d6e9f4-f0a0-4e5e-88d1-42487b0fa708",
   "metadata": {},
   "outputs": [],
   "source": []
  }
 ],
 "metadata": {
  "kernelspec": {
   "display_name": "Python 3 (ipykernel)",
   "language": "python",
   "name": "python3"
  },
  "language_info": {
   "codemirror_mode": {
    "name": "ipython",
    "version": 3
   },
   "file_extension": ".py",
   "mimetype": "text/x-python",
   "name": "python",
   "nbconvert_exporter": "python",
   "pygments_lexer": "ipython3",
   "version": "3.9.15"
  }
 },
 "nbformat": 4,
 "nbformat_minor": 5
}
