{
 "cells": [
  {
   "cell_type": "markdown",
   "id": "ee3d1b57-8ffa-4dfb-9df3-06e828b33626",
   "metadata": {
    "tags": []
   },
   "source": [
    "## `wf` (water flux) Variable Summaries\n",
    "\n",
    "This notebook will orchestrate the monthly decadal mean summaries of the following variables from the `wf` set of files:\n",
    "\n",
    "\n",
    "   - RUNOFF (surface runoff, mm per day)\n",
    "   - EVAP (actual evapotranspiration, mm per day)\n",
    "   - SNOW_MELT (snow melt, mm per day)\n",
    "   - GLACER_MELT (ice melt, mm per day)\n",
    "   \n",
    "All this notebook does is stage the files, set up a Dask client, and then iterate through all models, scenarios, decades, variables, and months to produce the summary GeoTIFFs."
   ]
  },
  {
   "cell_type": "code",
   "execution_count": 1,
   "id": "ab7cb53d-e58f-4dbb-9d8d-46c4d2478e79",
   "metadata": {},
   "outputs": [],
   "source": [
    "import os\n",
    "import xarray as xr\n",
    "import rasterio as rio\n",
    "import numpy as np\n",
    "import dask\n",
    "import dask.array as da\n",
    "from dask.distributed import Client\n",
    "from dask import delayed\n",
    "from pyproj import Proj, Transformer, CRS\n",
    "from tqdm.auto import tqdm\n",
    "from pathlib import Path\n",
    "from wrf import PolarStereographic\n",
    "\n",
    "# local\n",
    "from config import DATA_DIR, OUTPUT_DIR\n",
    "from config import models, scenarios, variable_di, precision_di, months, unit_di, summary_di, mo_names\n",
    "from compute_summaries import *"
   ]
  },
  {
   "cell_type": "code",
   "execution_count": 2,
   "id": "a5949597-5df2-4b6f-97e3-031f6cb80436",
   "metadata": {},
   "outputs": [],
   "source": [
    "var_set = \"wf\""
   ]
  },
  {
   "cell_type": "code",
   "execution_count": 3,
   "id": "e6fcd1a2-8862-4dc6-ab0e-520b88b89d5d",
   "metadata": {},
   "outputs": [],
   "source": [
    "paths = list(DATA_DIR.glob(f\"*{var_set}*.nc\"))\n",
    "assert len(paths) == 3000 # value learned from EDA notebook"
   ]
  },
  {
   "cell_type": "code",
   "execution_count": 4,
   "id": "3d48e6a1-bd77-4872-b498-98cd6ca563fe",
   "metadata": {},
   "outputs": [],
   "source": [
    "process_group_di = {}\n",
    "for model in models:\n",
    "    process_group_di[model] = {}\n",
    "    for scenario in scenarios:\n",
    "        process_group_di[model][scenario] = []\n",
    "\n",
    "for fp in paths:\n",
    "    fp_model = fp.name.split(\"_\")[0]\n",
    "    fp_scenario = fp.name.split(\"_\")[1]\n",
    "    process_group_di[fp_model][fp_scenario].append(fp)\n",
    "\n",
    "for model in models:\n",
    "    for scenario in scenarios:\n",
    "        assert len(process_group_di[model][scenario]) == 150 # value learned from EDA notebook"
   ]
  },
  {
   "cell_type": "code",
   "execution_count": 5,
   "id": "b69af84b-286d-4299-a84d-211fefdd5820",
   "metadata": {},
   "outputs": [
    {
     "data": {
      "text/html": [
       "<div>\n",
       "    <div style=\"width: 24px; height: 24px; background-color: #e1e1e1; border: 3px solid #9D9D9D; border-radius: 5px; position: absolute;\"> </div>\n",
       "    <div style=\"margin-left: 48px;\">\n",
       "        <h3 style=\"margin-bottom: 0px;\">Client</h3>\n",
       "        <p style=\"color: #9D9D9D; margin-bottom: 0px;\">Client-b36ee434-d251-11ed-a1c2-0025907c0d3c</p>\n",
       "        <table style=\"width: 100%; text-align: left;\">\n",
       "\n",
       "        <tr>\n",
       "        \n",
       "            <td style=\"text-align: left;\"><strong>Connection method:</strong> Cluster object</td>\n",
       "            <td style=\"text-align: left;\"><strong>Cluster type:</strong> distributed.LocalCluster</td>\n",
       "        \n",
       "        </tr>\n",
       "\n",
       "        \n",
       "            <tr>\n",
       "                <td style=\"text-align: left;\">\n",
       "                    <strong>Dashboard: </strong> <a href=\"http://127.0.0.1:8787/status\" target=\"_blank\">http://127.0.0.1:8787/status</a>\n",
       "                </td>\n",
       "                <td style=\"text-align: left;\"></td>\n",
       "            </tr>\n",
       "        \n",
       "\n",
       "        </table>\n",
       "\n",
       "        \n",
       "            <button style=\"margin-bottom: 12px;\" data-commandlinker-command=\"dask:populate-and-launch-layout\" data-commandlinker-args='{\"url\": \"http://127.0.0.1:8787/status\" }'>\n",
       "                Launch dashboard in JupyterLab\n",
       "            </button>\n",
       "        \n",
       "\n",
       "        \n",
       "            <details>\n",
       "            <summary style=\"margin-bottom: 20px;\"><h3 style=\"display: inline;\">Cluster Info</h3></summary>\n",
       "            <div class=\"jp-RenderedHTMLCommon jp-RenderedHTML jp-mod-trusted jp-OutputArea-output\">\n",
       "    <div style=\"width: 24px; height: 24px; background-color: #e1e1e1; border: 3px solid #9D9D9D; border-radius: 5px; position: absolute;\">\n",
       "    </div>\n",
       "    <div style=\"margin-left: 48px;\">\n",
       "        <h3 style=\"margin-bottom: 0px; margin-top: 0px;\">LocalCluster</h3>\n",
       "        <p style=\"color: #9D9D9D; margin-bottom: 0px;\">263be692</p>\n",
       "        <table style=\"width: 100%; text-align: left;\">\n",
       "            <tr>\n",
       "                <td style=\"text-align: left;\">\n",
       "                    <strong>Dashboard:</strong> <a href=\"http://127.0.0.1:8787/status\" target=\"_blank\">http://127.0.0.1:8787/status</a>\n",
       "                </td>\n",
       "                <td style=\"text-align: left;\">\n",
       "                    <strong>Workers:</strong> 8\n",
       "                </td>\n",
       "            </tr>\n",
       "            <tr>\n",
       "                <td style=\"text-align: left;\">\n",
       "                    <strong>Total threads:</strong> 32\n",
       "                </td>\n",
       "                <td style=\"text-align: left;\">\n",
       "                    <strong>Total memory:</strong> 251.72 GiB\n",
       "                </td>\n",
       "            </tr>\n",
       "            \n",
       "            <tr>\n",
       "    <td style=\"text-align: left;\"><strong>Status:</strong> running</td>\n",
       "    <td style=\"text-align: left;\"><strong>Using processes:</strong> True</td>\n",
       "</tr>\n",
       "\n",
       "            \n",
       "        </table>\n",
       "\n",
       "        <details>\n",
       "            <summary style=\"margin-bottom: 20px;\">\n",
       "                <h3 style=\"display: inline;\">Scheduler Info</h3>\n",
       "            </summary>\n",
       "\n",
       "            <div style=\"\">\n",
       "    <div>\n",
       "        <div style=\"width: 24px; height: 24px; background-color: #FFF7E5; border: 3px solid #FF6132; border-radius: 5px; position: absolute;\"> </div>\n",
       "        <div style=\"margin-left: 48px;\">\n",
       "            <h3 style=\"margin-bottom: 0px;\">Scheduler</h3>\n",
       "            <p style=\"color: #9D9D9D; margin-bottom: 0px;\">Scheduler-cfb9accb-0ab2-41b1-9755-10274a2b9d6c</p>\n",
       "            <table style=\"width: 100%; text-align: left;\">\n",
       "                <tr>\n",
       "                    <td style=\"text-align: left;\">\n",
       "                        <strong>Comm:</strong> tcp://127.0.0.1:43954\n",
       "                    </td>\n",
       "                    <td style=\"text-align: left;\">\n",
       "                        <strong>Workers:</strong> 8\n",
       "                    </td>\n",
       "                </tr>\n",
       "                <tr>\n",
       "                    <td style=\"text-align: left;\">\n",
       "                        <strong>Dashboard:</strong> <a href=\"http://127.0.0.1:8787/status\" target=\"_blank\">http://127.0.0.1:8787/status</a>\n",
       "                    </td>\n",
       "                    <td style=\"text-align: left;\">\n",
       "                        <strong>Total threads:</strong> 32\n",
       "                    </td>\n",
       "                </tr>\n",
       "                <tr>\n",
       "                    <td style=\"text-align: left;\">\n",
       "                        <strong>Started:</strong> Just now\n",
       "                    </td>\n",
       "                    <td style=\"text-align: left;\">\n",
       "                        <strong>Total memory:</strong> 251.72 GiB\n",
       "                    </td>\n",
       "                </tr>\n",
       "            </table>\n",
       "        </div>\n",
       "    </div>\n",
       "\n",
       "    <details style=\"margin-left: 48px;\">\n",
       "        <summary style=\"margin-bottom: 20px;\">\n",
       "            <h3 style=\"display: inline;\">Workers</h3>\n",
       "        </summary>\n",
       "\n",
       "        \n",
       "        <div style=\"margin-bottom: 20px;\">\n",
       "            <div style=\"width: 24px; height: 24px; background-color: #DBF5FF; border: 3px solid #4CC9FF; border-radius: 5px; position: absolute;\"> </div>\n",
       "            <div style=\"margin-left: 48px;\">\n",
       "            <details>\n",
       "                <summary>\n",
       "                    <h4 style=\"margin-bottom: 0px; display: inline;\">Worker: 0</h4>\n",
       "                </summary>\n",
       "                <table style=\"width: 100%; text-align: left;\">\n",
       "                    <tr>\n",
       "                        <td style=\"text-align: left;\">\n",
       "                            <strong>Comm: </strong> tcp://127.0.0.1:44501\n",
       "                        </td>\n",
       "                        <td style=\"text-align: left;\">\n",
       "                            <strong>Total threads: </strong> 4\n",
       "                        </td>\n",
       "                    </tr>\n",
       "                    <tr>\n",
       "                        <td style=\"text-align: left;\">\n",
       "                            <strong>Dashboard: </strong> <a href=\"http://127.0.0.1:46037/status\" target=\"_blank\">http://127.0.0.1:46037/status</a>\n",
       "                        </td>\n",
       "                        <td style=\"text-align: left;\">\n",
       "                            <strong>Memory: </strong> 31.46 GiB\n",
       "                        </td>\n",
       "                    </tr>\n",
       "                    <tr>\n",
       "                        <td style=\"text-align: left;\">\n",
       "                            <strong>Nanny: </strong> tcp://127.0.0.1:38585\n",
       "                        </td>\n",
       "                        <td style=\"text-align: left;\"></td>\n",
       "                    </tr>\n",
       "                    <tr>\n",
       "                        <td colspan=\"2\" style=\"text-align: left;\">\n",
       "                            <strong>Local directory: </strong> /tmp/dask-worker-space/worker-vadjwro0\n",
       "                        </td>\n",
       "                    </tr>\n",
       "\n",
       "                    \n",
       "\n",
       "                    \n",
       "\n",
       "                </table>\n",
       "            </details>\n",
       "            </div>\n",
       "        </div>\n",
       "        \n",
       "        <div style=\"margin-bottom: 20px;\">\n",
       "            <div style=\"width: 24px; height: 24px; background-color: #DBF5FF; border: 3px solid #4CC9FF; border-radius: 5px; position: absolute;\"> </div>\n",
       "            <div style=\"margin-left: 48px;\">\n",
       "            <details>\n",
       "                <summary>\n",
       "                    <h4 style=\"margin-bottom: 0px; display: inline;\">Worker: 1</h4>\n",
       "                </summary>\n",
       "                <table style=\"width: 100%; text-align: left;\">\n",
       "                    <tr>\n",
       "                        <td style=\"text-align: left;\">\n",
       "                            <strong>Comm: </strong> tcp://127.0.0.1:45777\n",
       "                        </td>\n",
       "                        <td style=\"text-align: left;\">\n",
       "                            <strong>Total threads: </strong> 4\n",
       "                        </td>\n",
       "                    </tr>\n",
       "                    <tr>\n",
       "                        <td style=\"text-align: left;\">\n",
       "                            <strong>Dashboard: </strong> <a href=\"http://127.0.0.1:45155/status\" target=\"_blank\">http://127.0.0.1:45155/status</a>\n",
       "                        </td>\n",
       "                        <td style=\"text-align: left;\">\n",
       "                            <strong>Memory: </strong> 31.46 GiB\n",
       "                        </td>\n",
       "                    </tr>\n",
       "                    <tr>\n",
       "                        <td style=\"text-align: left;\">\n",
       "                            <strong>Nanny: </strong> tcp://127.0.0.1:35766\n",
       "                        </td>\n",
       "                        <td style=\"text-align: left;\"></td>\n",
       "                    </tr>\n",
       "                    <tr>\n",
       "                        <td colspan=\"2\" style=\"text-align: left;\">\n",
       "                            <strong>Local directory: </strong> /tmp/dask-worker-space/worker-7itdohjj\n",
       "                        </td>\n",
       "                    </tr>\n",
       "\n",
       "                    \n",
       "\n",
       "                    \n",
       "\n",
       "                </table>\n",
       "            </details>\n",
       "            </div>\n",
       "        </div>\n",
       "        \n",
       "        <div style=\"margin-bottom: 20px;\">\n",
       "            <div style=\"width: 24px; height: 24px; background-color: #DBF5FF; border: 3px solid #4CC9FF; border-radius: 5px; position: absolute;\"> </div>\n",
       "            <div style=\"margin-left: 48px;\">\n",
       "            <details>\n",
       "                <summary>\n",
       "                    <h4 style=\"margin-bottom: 0px; display: inline;\">Worker: 2</h4>\n",
       "                </summary>\n",
       "                <table style=\"width: 100%; text-align: left;\">\n",
       "                    <tr>\n",
       "                        <td style=\"text-align: left;\">\n",
       "                            <strong>Comm: </strong> tcp://127.0.0.1:33330\n",
       "                        </td>\n",
       "                        <td style=\"text-align: left;\">\n",
       "                            <strong>Total threads: </strong> 4\n",
       "                        </td>\n",
       "                    </tr>\n",
       "                    <tr>\n",
       "                        <td style=\"text-align: left;\">\n",
       "                            <strong>Dashboard: </strong> <a href=\"http://127.0.0.1:41591/status\" target=\"_blank\">http://127.0.0.1:41591/status</a>\n",
       "                        </td>\n",
       "                        <td style=\"text-align: left;\">\n",
       "                            <strong>Memory: </strong> 31.46 GiB\n",
       "                        </td>\n",
       "                    </tr>\n",
       "                    <tr>\n",
       "                        <td style=\"text-align: left;\">\n",
       "                            <strong>Nanny: </strong> tcp://127.0.0.1:41865\n",
       "                        </td>\n",
       "                        <td style=\"text-align: left;\"></td>\n",
       "                    </tr>\n",
       "                    <tr>\n",
       "                        <td colspan=\"2\" style=\"text-align: left;\">\n",
       "                            <strong>Local directory: </strong> /tmp/dask-worker-space/worker-htpbu33d\n",
       "                        </td>\n",
       "                    </tr>\n",
       "\n",
       "                    \n",
       "\n",
       "                    \n",
       "\n",
       "                </table>\n",
       "            </details>\n",
       "            </div>\n",
       "        </div>\n",
       "        \n",
       "        <div style=\"margin-bottom: 20px;\">\n",
       "            <div style=\"width: 24px; height: 24px; background-color: #DBF5FF; border: 3px solid #4CC9FF; border-radius: 5px; position: absolute;\"> </div>\n",
       "            <div style=\"margin-left: 48px;\">\n",
       "            <details>\n",
       "                <summary>\n",
       "                    <h4 style=\"margin-bottom: 0px; display: inline;\">Worker: 3</h4>\n",
       "                </summary>\n",
       "                <table style=\"width: 100%; text-align: left;\">\n",
       "                    <tr>\n",
       "                        <td style=\"text-align: left;\">\n",
       "                            <strong>Comm: </strong> tcp://127.0.0.1:37961\n",
       "                        </td>\n",
       "                        <td style=\"text-align: left;\">\n",
       "                            <strong>Total threads: </strong> 4\n",
       "                        </td>\n",
       "                    </tr>\n",
       "                    <tr>\n",
       "                        <td style=\"text-align: left;\">\n",
       "                            <strong>Dashboard: </strong> <a href=\"http://127.0.0.1:35471/status\" target=\"_blank\">http://127.0.0.1:35471/status</a>\n",
       "                        </td>\n",
       "                        <td style=\"text-align: left;\">\n",
       "                            <strong>Memory: </strong> 31.46 GiB\n",
       "                        </td>\n",
       "                    </tr>\n",
       "                    <tr>\n",
       "                        <td style=\"text-align: left;\">\n",
       "                            <strong>Nanny: </strong> tcp://127.0.0.1:45067\n",
       "                        </td>\n",
       "                        <td style=\"text-align: left;\"></td>\n",
       "                    </tr>\n",
       "                    <tr>\n",
       "                        <td colspan=\"2\" style=\"text-align: left;\">\n",
       "                            <strong>Local directory: </strong> /tmp/dask-worker-space/worker-6kh3jlfs\n",
       "                        </td>\n",
       "                    </tr>\n",
       "\n",
       "                    \n",
       "\n",
       "                    \n",
       "\n",
       "                </table>\n",
       "            </details>\n",
       "            </div>\n",
       "        </div>\n",
       "        \n",
       "        <div style=\"margin-bottom: 20px;\">\n",
       "            <div style=\"width: 24px; height: 24px; background-color: #DBF5FF; border: 3px solid #4CC9FF; border-radius: 5px; position: absolute;\"> </div>\n",
       "            <div style=\"margin-left: 48px;\">\n",
       "            <details>\n",
       "                <summary>\n",
       "                    <h4 style=\"margin-bottom: 0px; display: inline;\">Worker: 4</h4>\n",
       "                </summary>\n",
       "                <table style=\"width: 100%; text-align: left;\">\n",
       "                    <tr>\n",
       "                        <td style=\"text-align: left;\">\n",
       "                            <strong>Comm: </strong> tcp://127.0.0.1:44829\n",
       "                        </td>\n",
       "                        <td style=\"text-align: left;\">\n",
       "                            <strong>Total threads: </strong> 4\n",
       "                        </td>\n",
       "                    </tr>\n",
       "                    <tr>\n",
       "                        <td style=\"text-align: left;\">\n",
       "                            <strong>Dashboard: </strong> <a href=\"http://127.0.0.1:40406/status\" target=\"_blank\">http://127.0.0.1:40406/status</a>\n",
       "                        </td>\n",
       "                        <td style=\"text-align: left;\">\n",
       "                            <strong>Memory: </strong> 31.46 GiB\n",
       "                        </td>\n",
       "                    </tr>\n",
       "                    <tr>\n",
       "                        <td style=\"text-align: left;\">\n",
       "                            <strong>Nanny: </strong> tcp://127.0.0.1:38419\n",
       "                        </td>\n",
       "                        <td style=\"text-align: left;\"></td>\n",
       "                    </tr>\n",
       "                    <tr>\n",
       "                        <td colspan=\"2\" style=\"text-align: left;\">\n",
       "                            <strong>Local directory: </strong> /tmp/dask-worker-space/worker-k8vh89ct\n",
       "                        </td>\n",
       "                    </tr>\n",
       "\n",
       "                    \n",
       "\n",
       "                    \n",
       "\n",
       "                </table>\n",
       "            </details>\n",
       "            </div>\n",
       "        </div>\n",
       "        \n",
       "        <div style=\"margin-bottom: 20px;\">\n",
       "            <div style=\"width: 24px; height: 24px; background-color: #DBF5FF; border: 3px solid #4CC9FF; border-radius: 5px; position: absolute;\"> </div>\n",
       "            <div style=\"margin-left: 48px;\">\n",
       "            <details>\n",
       "                <summary>\n",
       "                    <h4 style=\"margin-bottom: 0px; display: inline;\">Worker: 5</h4>\n",
       "                </summary>\n",
       "                <table style=\"width: 100%; text-align: left;\">\n",
       "                    <tr>\n",
       "                        <td style=\"text-align: left;\">\n",
       "                            <strong>Comm: </strong> tcp://127.0.0.1:34349\n",
       "                        </td>\n",
       "                        <td style=\"text-align: left;\">\n",
       "                            <strong>Total threads: </strong> 4\n",
       "                        </td>\n",
       "                    </tr>\n",
       "                    <tr>\n",
       "                        <td style=\"text-align: left;\">\n",
       "                            <strong>Dashboard: </strong> <a href=\"http://127.0.0.1:35534/status\" target=\"_blank\">http://127.0.0.1:35534/status</a>\n",
       "                        </td>\n",
       "                        <td style=\"text-align: left;\">\n",
       "                            <strong>Memory: </strong> 31.46 GiB\n",
       "                        </td>\n",
       "                    </tr>\n",
       "                    <tr>\n",
       "                        <td style=\"text-align: left;\">\n",
       "                            <strong>Nanny: </strong> tcp://127.0.0.1:35758\n",
       "                        </td>\n",
       "                        <td style=\"text-align: left;\"></td>\n",
       "                    </tr>\n",
       "                    <tr>\n",
       "                        <td colspan=\"2\" style=\"text-align: left;\">\n",
       "                            <strong>Local directory: </strong> /tmp/dask-worker-space/worker-jkyc8cxw\n",
       "                        </td>\n",
       "                    </tr>\n",
       "\n",
       "                    \n",
       "\n",
       "                    \n",
       "\n",
       "                </table>\n",
       "            </details>\n",
       "            </div>\n",
       "        </div>\n",
       "        \n",
       "        <div style=\"margin-bottom: 20px;\">\n",
       "            <div style=\"width: 24px; height: 24px; background-color: #DBF5FF; border: 3px solid #4CC9FF; border-radius: 5px; position: absolute;\"> </div>\n",
       "            <div style=\"margin-left: 48px;\">\n",
       "            <details>\n",
       "                <summary>\n",
       "                    <h4 style=\"margin-bottom: 0px; display: inline;\">Worker: 6</h4>\n",
       "                </summary>\n",
       "                <table style=\"width: 100%; text-align: left;\">\n",
       "                    <tr>\n",
       "                        <td style=\"text-align: left;\">\n",
       "                            <strong>Comm: </strong> tcp://127.0.0.1:37082\n",
       "                        </td>\n",
       "                        <td style=\"text-align: left;\">\n",
       "                            <strong>Total threads: </strong> 4\n",
       "                        </td>\n",
       "                    </tr>\n",
       "                    <tr>\n",
       "                        <td style=\"text-align: left;\">\n",
       "                            <strong>Dashboard: </strong> <a href=\"http://127.0.0.1:40997/status\" target=\"_blank\">http://127.0.0.1:40997/status</a>\n",
       "                        </td>\n",
       "                        <td style=\"text-align: left;\">\n",
       "                            <strong>Memory: </strong> 31.46 GiB\n",
       "                        </td>\n",
       "                    </tr>\n",
       "                    <tr>\n",
       "                        <td style=\"text-align: left;\">\n",
       "                            <strong>Nanny: </strong> tcp://127.0.0.1:44492\n",
       "                        </td>\n",
       "                        <td style=\"text-align: left;\"></td>\n",
       "                    </tr>\n",
       "                    <tr>\n",
       "                        <td colspan=\"2\" style=\"text-align: left;\">\n",
       "                            <strong>Local directory: </strong> /tmp/dask-worker-space/worker-5xb9fimf\n",
       "                        </td>\n",
       "                    </tr>\n",
       "\n",
       "                    \n",
       "\n",
       "                    \n",
       "\n",
       "                </table>\n",
       "            </details>\n",
       "            </div>\n",
       "        </div>\n",
       "        \n",
       "        <div style=\"margin-bottom: 20px;\">\n",
       "            <div style=\"width: 24px; height: 24px; background-color: #DBF5FF; border: 3px solid #4CC9FF; border-radius: 5px; position: absolute;\"> </div>\n",
       "            <div style=\"margin-left: 48px;\">\n",
       "            <details>\n",
       "                <summary>\n",
       "                    <h4 style=\"margin-bottom: 0px; display: inline;\">Worker: 7</h4>\n",
       "                </summary>\n",
       "                <table style=\"width: 100%; text-align: left;\">\n",
       "                    <tr>\n",
       "                        <td style=\"text-align: left;\">\n",
       "                            <strong>Comm: </strong> tcp://127.0.0.1:37697\n",
       "                        </td>\n",
       "                        <td style=\"text-align: left;\">\n",
       "                            <strong>Total threads: </strong> 4\n",
       "                        </td>\n",
       "                    </tr>\n",
       "                    <tr>\n",
       "                        <td style=\"text-align: left;\">\n",
       "                            <strong>Dashboard: </strong> <a href=\"http://127.0.0.1:44612/status\" target=\"_blank\">http://127.0.0.1:44612/status</a>\n",
       "                        </td>\n",
       "                        <td style=\"text-align: left;\">\n",
       "                            <strong>Memory: </strong> 31.46 GiB\n",
       "                        </td>\n",
       "                    </tr>\n",
       "                    <tr>\n",
       "                        <td style=\"text-align: left;\">\n",
       "                            <strong>Nanny: </strong> tcp://127.0.0.1:37646\n",
       "                        </td>\n",
       "                        <td style=\"text-align: left;\"></td>\n",
       "                    </tr>\n",
       "                    <tr>\n",
       "                        <td colspan=\"2\" style=\"text-align: left;\">\n",
       "                            <strong>Local directory: </strong> /tmp/dask-worker-space/worker-voinxe1_\n",
       "                        </td>\n",
       "                    </tr>\n",
       "\n",
       "                    \n",
       "\n",
       "                    \n",
       "\n",
       "                </table>\n",
       "            </details>\n",
       "            </div>\n",
       "        </div>\n",
       "        \n",
       "\n",
       "    </details>\n",
       "</div>\n",
       "\n",
       "        </details>\n",
       "    </div>\n",
       "</div>\n",
       "            </details>\n",
       "        \n",
       "\n",
       "    </div>\n",
       "</div>"
      ],
      "text/plain": [
       "<Client: 'tcp://127.0.0.1:43954' processes=8 threads=32, memory=251.72 GiB>"
      ]
     },
     "execution_count": 5,
     "metadata": {},
     "output_type": "execute_result"
    }
   ],
   "source": [
    "# create dask client\n",
    "client = Client()\n",
    "client"
   ]
  },
  {
   "cell_type": "code",
   "execution_count": 6,
   "id": "1419c04f-3250-4bd7-b74f-a16ddae61985",
   "metadata": {},
   "outputs": [
    {
     "data": {
      "application/vnd.jupyter.widget-view+json": {
       "model_id": "c7f8347a3e584272a6a253482a9ffaae",
       "version_major": 2,
       "version_minor": 0
      },
      "text/plain": [
       "Processing ACCESS1-3 rcp45 data...:   0%|          | 0/15 [00:00<?, ?it/s]"
      ]
     },
     "metadata": {},
     "output_type": "display_data"
    },
    {
     "data": {
      "application/vnd.jupyter.widget-view+json": {
       "model_id": "178e3320a7b9434fb46746e67c76a871",
       "version_major": 2,
       "version_minor": 0
      },
      "text/plain": [
       "Processing 1950s:   0%|          | 0/4 [00:00<?, ?it/s]"
      ]
     },
     "metadata": {},
     "output_type": "display_data"
    },
    {
     "data": {
      "application/vnd.jupyter.widget-view+json": {
       "model_id": "d77459a0a21f421ba89b317316faa11c",
       "version_major": 2,
       "version_minor": 0
      },
      "text/plain": [
       "Processing 1960s:   0%|          | 0/4 [00:00<?, ?it/s]"
      ]
     },
     "metadata": {},
     "output_type": "display_data"
    },
    {
     "data": {
      "application/vnd.jupyter.widget-view+json": {
       "model_id": "66350e5f0954403bb701b76df80dd8fd",
       "version_major": 2,
       "version_minor": 0
      },
      "text/plain": [
       "Processing 1970s:   0%|          | 0/4 [00:00<?, ?it/s]"
      ]
     },
     "metadata": {},
     "output_type": "display_data"
    },
    {
     "data": {
      "application/vnd.jupyter.widget-view+json": {
       "model_id": "7e7fd4f5a4654bcd9cb20c96dab4f6f3",
       "version_major": 2,
       "version_minor": 0
      },
      "text/plain": [
       "Processing 1980s:   0%|          | 0/4 [00:00<?, ?it/s]"
      ]
     },
     "metadata": {},
     "output_type": "display_data"
    },
    {
     "data": {
      "application/vnd.jupyter.widget-view+json": {
       "model_id": "59208f9c080946859f6bee2dbbe2720c",
       "version_major": 2,
       "version_minor": 0
      },
      "text/plain": [
       "Processing 1990s:   0%|          | 0/4 [00:00<?, ?it/s]"
      ]
     },
     "metadata": {},
     "output_type": "display_data"
    },
    {
     "data": {
      "application/vnd.jupyter.widget-view+json": {
       "model_id": "976d4a64752c4af6bbaf048481d2fabe",
       "version_major": 2,
       "version_minor": 0
      },
      "text/plain": [
       "Processing 2000s:   0%|          | 0/4 [00:00<?, ?it/s]"
      ]
     },
     "metadata": {},
     "output_type": "display_data"
    },
    {
     "data": {
      "application/vnd.jupyter.widget-view+json": {
       "model_id": "71cd0b0566db477cb796cc5ccc97ec5b",
       "version_major": 2,
       "version_minor": 0
      },
      "text/plain": [
       "Processing 2010s:   0%|          | 0/4 [00:00<?, ?it/s]"
      ]
     },
     "metadata": {},
     "output_type": "display_data"
    },
    {
     "data": {
      "application/vnd.jupyter.widget-view+json": {
       "model_id": "be19ecf4ed0b426996b58e06053e9f2e",
       "version_major": 2,
       "version_minor": 0
      },
      "text/plain": [
       "Processing 2020s:   0%|          | 0/4 [00:00<?, ?it/s]"
      ]
     },
     "metadata": {},
     "output_type": "display_data"
    },
    {
     "data": {
      "application/vnd.jupyter.widget-view+json": {
       "model_id": "11e2a482339a4fc08ebb534b22fc5368",
       "version_major": 2,
       "version_minor": 0
      },
      "text/plain": [
       "Processing 2030s:   0%|          | 0/4 [00:00<?, ?it/s]"
      ]
     },
     "metadata": {},
     "output_type": "display_data"
    },
    {
     "data": {
      "application/vnd.jupyter.widget-view+json": {
       "model_id": "044cad3f3626482285f9cf904785c2ff",
       "version_major": 2,
       "version_minor": 0
      },
      "text/plain": [
       "Processing 2040s:   0%|          | 0/4 [00:00<?, ?it/s]"
      ]
     },
     "metadata": {},
     "output_type": "display_data"
    },
    {
     "data": {
      "application/vnd.jupyter.widget-view+json": {
       "model_id": "73952f19d19047e08aae579afd9f5b61",
       "version_major": 2,
       "version_minor": 0
      },
      "text/plain": [
       "Processing 2050s:   0%|          | 0/4 [00:00<?, ?it/s]"
      ]
     },
     "metadata": {},
     "output_type": "display_data"
    },
    {
     "data": {
      "application/vnd.jupyter.widget-view+json": {
       "model_id": "55c6706c9bb74aed934aaf9948b1da8d",
       "version_major": 2,
       "version_minor": 0
      },
      "text/plain": [
       "Processing 2060s:   0%|          | 0/4 [00:00<?, ?it/s]"
      ]
     },
     "metadata": {},
     "output_type": "display_data"
    },
    {
     "data": {
      "application/vnd.jupyter.widget-view+json": {
       "model_id": "0f3c9aeaa50041df9456f642f9d91ef3",
       "version_major": 2,
       "version_minor": 0
      },
      "text/plain": [
       "Processing 2070s:   0%|          | 0/4 [00:00<?, ?it/s]"
      ]
     },
     "metadata": {},
     "output_type": "display_data"
    },
    {
     "data": {
      "application/vnd.jupyter.widget-view+json": {
       "model_id": "5e33225756df425e937f44cfd83be6ac",
       "version_major": 2,
       "version_minor": 0
      },
      "text/plain": [
       "Processing 2080s:   0%|          | 0/4 [00:00<?, ?it/s]"
      ]
     },
     "metadata": {},
     "output_type": "display_data"
    },
    {
     "data": {
      "application/vnd.jupyter.widget-view+json": {
       "model_id": "8c4da41c76cb4bbe9d8ac4b62bb50946",
       "version_major": 2,
       "version_minor": 0
      },
      "text/plain": [
       "Processing 2090s:   0%|          | 0/4 [00:00<?, ?it/s]"
      ]
     },
     "metadata": {},
     "output_type": "display_data"
    },
    {
     "data": {
      "application/vnd.jupyter.widget-view+json": {
       "model_id": "5a78caa59b094f23bcb5a472d05a70cd",
       "version_major": 2,
       "version_minor": 0
      },
      "text/plain": [
       "Processing ACCESS1-3 rcp85 data...:   0%|          | 0/15 [00:00<?, ?it/s]"
      ]
     },
     "metadata": {},
     "output_type": "display_data"
    },
    {
     "data": {
      "application/vnd.jupyter.widget-view+json": {
       "model_id": "5dc648116c1442bdaac2e795c1dbeb28",
       "version_major": 2,
       "version_minor": 0
      },
      "text/plain": [
       "Processing 1950s:   0%|          | 0/4 [00:00<?, ?it/s]"
      ]
     },
     "metadata": {},
     "output_type": "display_data"
    },
    {
     "data": {
      "application/vnd.jupyter.widget-view+json": {
       "model_id": "0eb5e9eb6b074ede8f2c6cc4e21ca8e0",
       "version_major": 2,
       "version_minor": 0
      },
      "text/plain": [
       "Processing 1960s:   0%|          | 0/4 [00:00<?, ?it/s]"
      ]
     },
     "metadata": {},
     "output_type": "display_data"
    },
    {
     "data": {
      "application/vnd.jupyter.widget-view+json": {
       "model_id": "06fa8c5fbd69438a8ece1e0e68af8174",
       "version_major": 2,
       "version_minor": 0
      },
      "text/plain": [
       "Processing 1970s:   0%|          | 0/4 [00:00<?, ?it/s]"
      ]
     },
     "metadata": {},
     "output_type": "display_data"
    },
    {
     "data": {
      "application/vnd.jupyter.widget-view+json": {
       "model_id": "82d2de96ecac483f8945ed90c823d47a",
       "version_major": 2,
       "version_minor": 0
      },
      "text/plain": [
       "Processing 1980s:   0%|          | 0/4 [00:00<?, ?it/s]"
      ]
     },
     "metadata": {},
     "output_type": "display_data"
    },
    {
     "data": {
      "application/vnd.jupyter.widget-view+json": {
       "model_id": "a3920436e1514267b3800ef39665e6c3",
       "version_major": 2,
       "version_minor": 0
      },
      "text/plain": [
       "Processing 1990s:   0%|          | 0/4 [00:00<?, ?it/s]"
      ]
     },
     "metadata": {},
     "output_type": "display_data"
    },
    {
     "data": {
      "application/vnd.jupyter.widget-view+json": {
       "model_id": "bf19f830122c48fc973e3b97a0c877a5",
       "version_major": 2,
       "version_minor": 0
      },
      "text/plain": [
       "Processing 2000s:   0%|          | 0/4 [00:00<?, ?it/s]"
      ]
     },
     "metadata": {},
     "output_type": "display_data"
    },
    {
     "data": {
      "application/vnd.jupyter.widget-view+json": {
       "model_id": "c6d2f66dbae54b4c8399ed894f023dbe",
       "version_major": 2,
       "version_minor": 0
      },
      "text/plain": [
       "Processing 2010s:   0%|          | 0/4 [00:00<?, ?it/s]"
      ]
     },
     "metadata": {},
     "output_type": "display_data"
    },
    {
     "data": {
      "application/vnd.jupyter.widget-view+json": {
       "model_id": "cc8cc8464ac447efaf7296af2fc632f9",
       "version_major": 2,
       "version_minor": 0
      },
      "text/plain": [
       "Processing 2020s:   0%|          | 0/4 [00:00<?, ?it/s]"
      ]
     },
     "metadata": {},
     "output_type": "display_data"
    },
    {
     "data": {
      "application/vnd.jupyter.widget-view+json": {
       "model_id": "c8351bf7abcf489d9cc25606a4235b5b",
       "version_major": 2,
       "version_minor": 0
      },
      "text/plain": [
       "Processing 2030s:   0%|          | 0/4 [00:00<?, ?it/s]"
      ]
     },
     "metadata": {},
     "output_type": "display_data"
    },
    {
     "data": {
      "application/vnd.jupyter.widget-view+json": {
       "model_id": "95970aad52144e30a4ce80b70fc96eda",
       "version_major": 2,
       "version_minor": 0
      },
      "text/plain": [
       "Processing 2040s:   0%|          | 0/4 [00:00<?, ?it/s]"
      ]
     },
     "metadata": {},
     "output_type": "display_data"
    },
    {
     "data": {
      "application/vnd.jupyter.widget-view+json": {
       "model_id": "0fea0cdbd2e34a0c98f5c72f20045a0f",
       "version_major": 2,
       "version_minor": 0
      },
      "text/plain": [
       "Processing 2050s:   0%|          | 0/4 [00:00<?, ?it/s]"
      ]
     },
     "metadata": {},
     "output_type": "display_data"
    },
    {
     "data": {
      "application/vnd.jupyter.widget-view+json": {
       "model_id": "14d1737a31f141568e725a6a85645a67",
       "version_major": 2,
       "version_minor": 0
      },
      "text/plain": [
       "Processing 2060s:   0%|          | 0/4 [00:00<?, ?it/s]"
      ]
     },
     "metadata": {},
     "output_type": "display_data"
    },
    {
     "data": {
      "application/vnd.jupyter.widget-view+json": {
       "model_id": "bc4f6a2d0615457fa92116c7497556ab",
       "version_major": 2,
       "version_minor": 0
      },
      "text/plain": [
       "Processing 2070s:   0%|          | 0/4 [00:00<?, ?it/s]"
      ]
     },
     "metadata": {},
     "output_type": "display_data"
    },
    {
     "data": {
      "application/vnd.jupyter.widget-view+json": {
       "model_id": "9a2ea481ba0e4af7a3ef170cad08e5f2",
       "version_major": 2,
       "version_minor": 0
      },
      "text/plain": [
       "Processing 2080s:   0%|          | 0/4 [00:00<?, ?it/s]"
      ]
     },
     "metadata": {},
     "output_type": "display_data"
    },
    {
     "data": {
      "application/vnd.jupyter.widget-view+json": {
       "model_id": "c20266f1e86a4a23821f3f71935fb51f",
       "version_major": 2,
       "version_minor": 0
      },
      "text/plain": [
       "Processing 2090s:   0%|          | 0/4 [00:00<?, ?it/s]"
      ]
     },
     "metadata": {},
     "output_type": "display_data"
    },
    {
     "data": {
      "application/vnd.jupyter.widget-view+json": {
       "model_id": "32084041422c45c78812441affc6d53a",
       "version_major": 2,
       "version_minor": 0
      },
      "text/plain": [
       "Processing CanESM2 rcp45 data...:   0%|          | 0/15 [00:00<?, ?it/s]"
      ]
     },
     "metadata": {},
     "output_type": "display_data"
    },
    {
     "data": {
      "application/vnd.jupyter.widget-view+json": {
       "model_id": "640e72918c3b4803b2e2225a11662d42",
       "version_major": 2,
       "version_minor": 0
      },
      "text/plain": [
       "Processing 1950s:   0%|          | 0/4 [00:00<?, ?it/s]"
      ]
     },
     "metadata": {},
     "output_type": "display_data"
    },
    {
     "data": {
      "application/vnd.jupyter.widget-view+json": {
       "model_id": "f161cfec558f424484c2481aed77bb23",
       "version_major": 2,
       "version_minor": 0
      },
      "text/plain": [
       "Processing 1960s:   0%|          | 0/4 [00:00<?, ?it/s]"
      ]
     },
     "metadata": {},
     "output_type": "display_data"
    },
    {
     "data": {
      "application/vnd.jupyter.widget-view+json": {
       "model_id": "deb259a46bc84246ad301b56c9ebb692",
       "version_major": 2,
       "version_minor": 0
      },
      "text/plain": [
       "Processing 1970s:   0%|          | 0/4 [00:00<?, ?it/s]"
      ]
     },
     "metadata": {},
     "output_type": "display_data"
    },
    {
     "data": {
      "application/vnd.jupyter.widget-view+json": {
       "model_id": "afe5410a656346679c9006ff430cf95b",
       "version_major": 2,
       "version_minor": 0
      },
      "text/plain": [
       "Processing 1980s:   0%|          | 0/4 [00:00<?, ?it/s]"
      ]
     },
     "metadata": {},
     "output_type": "display_data"
    },
    {
     "data": {
      "application/vnd.jupyter.widget-view+json": {
       "model_id": "2b310d0cc31f4c2fa49749cf610838f8",
       "version_major": 2,
       "version_minor": 0
      },
      "text/plain": [
       "Processing 1990s:   0%|          | 0/4 [00:00<?, ?it/s]"
      ]
     },
     "metadata": {},
     "output_type": "display_data"
    },
    {
     "data": {
      "application/vnd.jupyter.widget-view+json": {
       "model_id": "97c5f5c658284faba9998eba7d03b258",
       "version_major": 2,
       "version_minor": 0
      },
      "text/plain": [
       "Processing 2000s:   0%|          | 0/4 [00:00<?, ?it/s]"
      ]
     },
     "metadata": {},
     "output_type": "display_data"
    },
    {
     "data": {
      "application/vnd.jupyter.widget-view+json": {
       "model_id": "f5de6a20f3de42568c739c3d4678ec4e",
       "version_major": 2,
       "version_minor": 0
      },
      "text/plain": [
       "Processing 2010s:   0%|          | 0/4 [00:00<?, ?it/s]"
      ]
     },
     "metadata": {},
     "output_type": "display_data"
    },
    {
     "data": {
      "application/vnd.jupyter.widget-view+json": {
       "model_id": "c62ed5be0df248d1b213e34d59dd75bf",
       "version_major": 2,
       "version_minor": 0
      },
      "text/plain": [
       "Processing 2020s:   0%|          | 0/4 [00:00<?, ?it/s]"
      ]
     },
     "metadata": {},
     "output_type": "display_data"
    },
    {
     "data": {
      "application/vnd.jupyter.widget-view+json": {
       "model_id": "4de5086db4014d9f9e95812633a270c5",
       "version_major": 2,
       "version_minor": 0
      },
      "text/plain": [
       "Processing 2030s:   0%|          | 0/4 [00:00<?, ?it/s]"
      ]
     },
     "metadata": {},
     "output_type": "display_data"
    },
    {
     "data": {
      "application/vnd.jupyter.widget-view+json": {
       "model_id": "1aaaf83ec7094623a3d91fd03e012bd2",
       "version_major": 2,
       "version_minor": 0
      },
      "text/plain": [
       "Processing 2040s:   0%|          | 0/4 [00:00<?, ?it/s]"
      ]
     },
     "metadata": {},
     "output_type": "display_data"
    },
    {
     "data": {
      "application/vnd.jupyter.widget-view+json": {
       "model_id": "256169df0b244c8789e4062e7de8c822",
       "version_major": 2,
       "version_minor": 0
      },
      "text/plain": [
       "Processing 2050s:   0%|          | 0/4 [00:00<?, ?it/s]"
      ]
     },
     "metadata": {},
     "output_type": "display_data"
    },
    {
     "data": {
      "application/vnd.jupyter.widget-view+json": {
       "model_id": "34f3610620914581837bc394a2a83e88",
       "version_major": 2,
       "version_minor": 0
      },
      "text/plain": [
       "Processing 2060s:   0%|          | 0/4 [00:00<?, ?it/s]"
      ]
     },
     "metadata": {},
     "output_type": "display_data"
    },
    {
     "data": {
      "application/vnd.jupyter.widget-view+json": {
       "model_id": "ddc1676415db44cdb284ded7f39ed6f3",
       "version_major": 2,
       "version_minor": 0
      },
      "text/plain": [
       "Processing 2070s:   0%|          | 0/4 [00:00<?, ?it/s]"
      ]
     },
     "metadata": {},
     "output_type": "display_data"
    },
    {
     "data": {
      "application/vnd.jupyter.widget-view+json": {
       "model_id": "21a408869d0e4da695f9ddb602fa9cde",
       "version_major": 2,
       "version_minor": 0
      },
      "text/plain": [
       "Processing 2080s:   0%|          | 0/4 [00:00<?, ?it/s]"
      ]
     },
     "metadata": {},
     "output_type": "display_data"
    },
    {
     "data": {
      "application/vnd.jupyter.widget-view+json": {
       "model_id": "03fef290143144e2b5e01fc88de9a4e4",
       "version_major": 2,
       "version_minor": 0
      },
      "text/plain": [
       "Processing 2090s:   0%|          | 0/4 [00:00<?, ?it/s]"
      ]
     },
     "metadata": {},
     "output_type": "display_data"
    },
    {
     "data": {
      "application/vnd.jupyter.widget-view+json": {
       "model_id": "b39f57ada8f64e4a8d37c56a0e9dd6e7",
       "version_major": 2,
       "version_minor": 0
      },
      "text/plain": [
       "Processing CanESM2 rcp85 data...:   0%|          | 0/15 [00:00<?, ?it/s]"
      ]
     },
     "metadata": {},
     "output_type": "display_data"
    },
    {
     "data": {
      "application/vnd.jupyter.widget-view+json": {
       "model_id": "916e1d3a1ff2433f81461f9e783275a9",
       "version_major": 2,
       "version_minor": 0
      },
      "text/plain": [
       "Processing 1950s:   0%|          | 0/4 [00:00<?, ?it/s]"
      ]
     },
     "metadata": {},
     "output_type": "display_data"
    },
    {
     "data": {
      "application/vnd.jupyter.widget-view+json": {
       "model_id": "44b9ed183aed47f580f1e0e44de2246c",
       "version_major": 2,
       "version_minor": 0
      },
      "text/plain": [
       "Processing 1960s:   0%|          | 0/4 [00:00<?, ?it/s]"
      ]
     },
     "metadata": {},
     "output_type": "display_data"
    },
    {
     "data": {
      "application/vnd.jupyter.widget-view+json": {
       "model_id": "fb36f5c887f74daaa8dadeac89a637d9",
       "version_major": 2,
       "version_minor": 0
      },
      "text/plain": [
       "Processing 1970s:   0%|          | 0/4 [00:00<?, ?it/s]"
      ]
     },
     "metadata": {},
     "output_type": "display_data"
    },
    {
     "data": {
      "application/vnd.jupyter.widget-view+json": {
       "model_id": "e60e6985aee94d03a7764d12eef3f008",
       "version_major": 2,
       "version_minor": 0
      },
      "text/plain": [
       "Processing 1980s:   0%|          | 0/4 [00:00<?, ?it/s]"
      ]
     },
     "metadata": {},
     "output_type": "display_data"
    },
    {
     "data": {
      "application/vnd.jupyter.widget-view+json": {
       "model_id": "deebed7369aa46708733e79e632b9f42",
       "version_major": 2,
       "version_minor": 0
      },
      "text/plain": [
       "Processing 1990s:   0%|          | 0/4 [00:00<?, ?it/s]"
      ]
     },
     "metadata": {},
     "output_type": "display_data"
    },
    {
     "data": {
      "application/vnd.jupyter.widget-view+json": {
       "model_id": "446449efde734e13b04b06779679304d",
       "version_major": 2,
       "version_minor": 0
      },
      "text/plain": [
       "Processing 2000s:   0%|          | 0/4 [00:00<?, ?it/s]"
      ]
     },
     "metadata": {},
     "output_type": "display_data"
    },
    {
     "data": {
      "application/vnd.jupyter.widget-view+json": {
       "model_id": "eb349cc0a1f94659ad6b9e12f73c7ca0",
       "version_major": 2,
       "version_minor": 0
      },
      "text/plain": [
       "Processing 2010s:   0%|          | 0/4 [00:00<?, ?it/s]"
      ]
     },
     "metadata": {},
     "output_type": "display_data"
    },
    {
     "data": {
      "application/vnd.jupyter.widget-view+json": {
       "model_id": "8a9ec87f144a4054b836255951a0f8bf",
       "version_major": 2,
       "version_minor": 0
      },
      "text/plain": [
       "Processing 2020s:   0%|          | 0/4 [00:00<?, ?it/s]"
      ]
     },
     "metadata": {},
     "output_type": "display_data"
    },
    {
     "data": {
      "application/vnd.jupyter.widget-view+json": {
       "model_id": "78dd6c5ce44b4f6795b442aeaa5c2f3a",
       "version_major": 2,
       "version_minor": 0
      },
      "text/plain": [
       "Processing 2030s:   0%|          | 0/4 [00:00<?, ?it/s]"
      ]
     },
     "metadata": {},
     "output_type": "display_data"
    },
    {
     "data": {
      "application/vnd.jupyter.widget-view+json": {
       "model_id": "52da5bec85d34d999fb4ccfe133ae0c4",
       "version_major": 2,
       "version_minor": 0
      },
      "text/plain": [
       "Processing 2040s:   0%|          | 0/4 [00:00<?, ?it/s]"
      ]
     },
     "metadata": {},
     "output_type": "display_data"
    },
    {
     "data": {
      "application/vnd.jupyter.widget-view+json": {
       "model_id": "5e8db6a299bc4090b352ff4cad1061fb",
       "version_major": 2,
       "version_minor": 0
      },
      "text/plain": [
       "Processing 2050s:   0%|          | 0/4 [00:00<?, ?it/s]"
      ]
     },
     "metadata": {},
     "output_type": "display_data"
    },
    {
     "data": {
      "application/vnd.jupyter.widget-view+json": {
       "model_id": "764c10040df84e7dba27b23e45a89102",
       "version_major": 2,
       "version_minor": 0
      },
      "text/plain": [
       "Processing 2060s:   0%|          | 0/4 [00:00<?, ?it/s]"
      ]
     },
     "metadata": {},
     "output_type": "display_data"
    },
    {
     "data": {
      "application/vnd.jupyter.widget-view+json": {
       "model_id": "5c507f2966f448ab97451b8e5398537b",
       "version_major": 2,
       "version_minor": 0
      },
      "text/plain": [
       "Processing 2070s:   0%|          | 0/4 [00:00<?, ?it/s]"
      ]
     },
     "metadata": {},
     "output_type": "display_data"
    },
    {
     "data": {
      "application/vnd.jupyter.widget-view+json": {
       "model_id": "5eebb892718841deae3c8a9b79a88a2c",
       "version_major": 2,
       "version_minor": 0
      },
      "text/plain": [
       "Processing 2080s:   0%|          | 0/4 [00:00<?, ?it/s]"
      ]
     },
     "metadata": {},
     "output_type": "display_data"
    },
    {
     "data": {
      "application/vnd.jupyter.widget-view+json": {
       "model_id": "2ad606ed9903455d94d23fbe3e4205ee",
       "version_major": 2,
       "version_minor": 0
      },
      "text/plain": [
       "Processing 2090s:   0%|          | 0/4 [00:00<?, ?it/s]"
      ]
     },
     "metadata": {},
     "output_type": "display_data"
    },
    {
     "data": {
      "application/vnd.jupyter.widget-view+json": {
       "model_id": "3d6914be99d94892a4e296983e5ab4f0",
       "version_major": 2,
       "version_minor": 0
      },
      "text/plain": [
       "Processing CCSM4 rcp45 data...:   0%|          | 0/15 [00:00<?, ?it/s]"
      ]
     },
     "metadata": {},
     "output_type": "display_data"
    },
    {
     "data": {
      "application/vnd.jupyter.widget-view+json": {
       "model_id": "bd3b0723d9e541efb32a15bd4bc62eca",
       "version_major": 2,
       "version_minor": 0
      },
      "text/plain": [
       "Processing 1950s:   0%|          | 0/4 [00:00<?, ?it/s]"
      ]
     },
     "metadata": {},
     "output_type": "display_data"
    },
    {
     "data": {
      "application/vnd.jupyter.widget-view+json": {
       "model_id": "320d8a74bb3e4cf8bb6efa6db9f6c4c2",
       "version_major": 2,
       "version_minor": 0
      },
      "text/plain": [
       "Processing 1960s:   0%|          | 0/4 [00:00<?, ?it/s]"
      ]
     },
     "metadata": {},
     "output_type": "display_data"
    },
    {
     "data": {
      "application/vnd.jupyter.widget-view+json": {
       "model_id": "735d9330143e4f5f815809a40d608888",
       "version_major": 2,
       "version_minor": 0
      },
      "text/plain": [
       "Processing 1970s:   0%|          | 0/4 [00:00<?, ?it/s]"
      ]
     },
     "metadata": {},
     "output_type": "display_data"
    },
    {
     "data": {
      "application/vnd.jupyter.widget-view+json": {
       "model_id": "b7706071c3ec4911ad43425d7592663b",
       "version_major": 2,
       "version_minor": 0
      },
      "text/plain": [
       "Processing 1980s:   0%|          | 0/4 [00:00<?, ?it/s]"
      ]
     },
     "metadata": {},
     "output_type": "display_data"
    },
    {
     "data": {
      "application/vnd.jupyter.widget-view+json": {
       "model_id": "e9eb153a7e8d432ca90c887649ebac8d",
       "version_major": 2,
       "version_minor": 0
      },
      "text/plain": [
       "Processing 1990s:   0%|          | 0/4 [00:00<?, ?it/s]"
      ]
     },
     "metadata": {},
     "output_type": "display_data"
    },
    {
     "data": {
      "application/vnd.jupyter.widget-view+json": {
       "model_id": "e1fb41bec15e4cd8aedf529576a6f75f",
       "version_major": 2,
       "version_minor": 0
      },
      "text/plain": [
       "Processing 2000s:   0%|          | 0/4 [00:00<?, ?it/s]"
      ]
     },
     "metadata": {},
     "output_type": "display_data"
    },
    {
     "data": {
      "application/vnd.jupyter.widget-view+json": {
       "model_id": "2e990b4e9e09424aa9b33fb0d99ff9ec",
       "version_major": 2,
       "version_minor": 0
      },
      "text/plain": [
       "Processing 2010s:   0%|          | 0/4 [00:00<?, ?it/s]"
      ]
     },
     "metadata": {},
     "output_type": "display_data"
    },
    {
     "data": {
      "application/vnd.jupyter.widget-view+json": {
       "model_id": "881fc8513ac440feb76ef9160e7a09d6",
       "version_major": 2,
       "version_minor": 0
      },
      "text/plain": [
       "Processing 2020s:   0%|          | 0/4 [00:00<?, ?it/s]"
      ]
     },
     "metadata": {},
     "output_type": "display_data"
    },
    {
     "data": {
      "application/vnd.jupyter.widget-view+json": {
       "model_id": "053f3e9d13c64c02a994bfa8c215b0bd",
       "version_major": 2,
       "version_minor": 0
      },
      "text/plain": [
       "Processing 2030s:   0%|          | 0/4 [00:00<?, ?it/s]"
      ]
     },
     "metadata": {},
     "output_type": "display_data"
    },
    {
     "data": {
      "application/vnd.jupyter.widget-view+json": {
       "model_id": "12ec64ce66c3415fb9c7cf6f4b443575",
       "version_major": 2,
       "version_minor": 0
      },
      "text/plain": [
       "Processing 2040s:   0%|          | 0/4 [00:00<?, ?it/s]"
      ]
     },
     "metadata": {},
     "output_type": "display_data"
    },
    {
     "data": {
      "application/vnd.jupyter.widget-view+json": {
       "model_id": "c1d18639b5574f3d9b493d6869e65a7f",
       "version_major": 2,
       "version_minor": 0
      },
      "text/plain": [
       "Processing 2050s:   0%|          | 0/4 [00:00<?, ?it/s]"
      ]
     },
     "metadata": {},
     "output_type": "display_data"
    },
    {
     "data": {
      "application/vnd.jupyter.widget-view+json": {
       "model_id": "52a3a5d0f2fa47739b54cd1dd19850f5",
       "version_major": 2,
       "version_minor": 0
      },
      "text/plain": [
       "Processing 2060s:   0%|          | 0/4 [00:00<?, ?it/s]"
      ]
     },
     "metadata": {},
     "output_type": "display_data"
    },
    {
     "data": {
      "application/vnd.jupyter.widget-view+json": {
       "model_id": "bda9ee7131bd4a20bf2574d9298e2c50",
       "version_major": 2,
       "version_minor": 0
      },
      "text/plain": [
       "Processing 2070s:   0%|          | 0/4 [00:00<?, ?it/s]"
      ]
     },
     "metadata": {},
     "output_type": "display_data"
    },
    {
     "data": {
      "application/vnd.jupyter.widget-view+json": {
       "model_id": "d633711157d5451e85be1e63af36728d",
       "version_major": 2,
       "version_minor": 0
      },
      "text/plain": [
       "Processing 2080s:   0%|          | 0/4 [00:00<?, ?it/s]"
      ]
     },
     "metadata": {},
     "output_type": "display_data"
    },
    {
     "data": {
      "application/vnd.jupyter.widget-view+json": {
       "model_id": "248305ed450444daa05f1cdc770cfc58",
       "version_major": 2,
       "version_minor": 0
      },
      "text/plain": [
       "Processing 2090s:   0%|          | 0/4 [00:00<?, ?it/s]"
      ]
     },
     "metadata": {},
     "output_type": "display_data"
    },
    {
     "data": {
      "application/vnd.jupyter.widget-view+json": {
       "model_id": "1d46da4713614863839692daa7d4a2a5",
       "version_major": 2,
       "version_minor": 0
      },
      "text/plain": [
       "Processing CCSM4 rcp85 data...:   0%|          | 0/15 [00:00<?, ?it/s]"
      ]
     },
     "metadata": {},
     "output_type": "display_data"
    },
    {
     "data": {
      "application/vnd.jupyter.widget-view+json": {
       "model_id": "df5ea6119a154f46b227e0382ae2d35e",
       "version_major": 2,
       "version_minor": 0
      },
      "text/plain": [
       "Processing 1950s:   0%|          | 0/4 [00:00<?, ?it/s]"
      ]
     },
     "metadata": {},
     "output_type": "display_data"
    },
    {
     "data": {
      "application/vnd.jupyter.widget-view+json": {
       "model_id": "1ff22535c2be495a9a1efe7f6219e51c",
       "version_major": 2,
       "version_minor": 0
      },
      "text/plain": [
       "Processing 1960s:   0%|          | 0/4 [00:00<?, ?it/s]"
      ]
     },
     "metadata": {},
     "output_type": "display_data"
    },
    {
     "data": {
      "application/vnd.jupyter.widget-view+json": {
       "model_id": "984122f9bbbf4a59890d9c5764928218",
       "version_major": 2,
       "version_minor": 0
      },
      "text/plain": [
       "Processing 1970s:   0%|          | 0/4 [00:00<?, ?it/s]"
      ]
     },
     "metadata": {},
     "output_type": "display_data"
    },
    {
     "data": {
      "application/vnd.jupyter.widget-view+json": {
       "model_id": "68f714897fc24e168e713df12a9bfa7e",
       "version_major": 2,
       "version_minor": 0
      },
      "text/plain": [
       "Processing 1980s:   0%|          | 0/4 [00:00<?, ?it/s]"
      ]
     },
     "metadata": {},
     "output_type": "display_data"
    },
    {
     "data": {
      "application/vnd.jupyter.widget-view+json": {
       "model_id": "329a0577cadf4dcdbd062f4af4bc5462",
       "version_major": 2,
       "version_minor": 0
      },
      "text/plain": [
       "Processing 1990s:   0%|          | 0/4 [00:00<?, ?it/s]"
      ]
     },
     "metadata": {},
     "output_type": "display_data"
    },
    {
     "data": {
      "application/vnd.jupyter.widget-view+json": {
       "model_id": "3c0ea438f48c4888bc30e0a83d9fa236",
       "version_major": 2,
       "version_minor": 0
      },
      "text/plain": [
       "Processing 2000s:   0%|          | 0/4 [00:00<?, ?it/s]"
      ]
     },
     "metadata": {},
     "output_type": "display_data"
    },
    {
     "data": {
      "application/vnd.jupyter.widget-view+json": {
       "model_id": "60aeb350ddbb4eaab217563b78acad94",
       "version_major": 2,
       "version_minor": 0
      },
      "text/plain": [
       "Processing 2010s:   0%|          | 0/4 [00:00<?, ?it/s]"
      ]
     },
     "metadata": {},
     "output_type": "display_data"
    },
    {
     "data": {
      "application/vnd.jupyter.widget-view+json": {
       "model_id": "ff4582db9ed6400ca219e3e3c4501a21",
       "version_major": 2,
       "version_minor": 0
      },
      "text/plain": [
       "Processing 2020s:   0%|          | 0/4 [00:00<?, ?it/s]"
      ]
     },
     "metadata": {},
     "output_type": "display_data"
    },
    {
     "data": {
      "application/vnd.jupyter.widget-view+json": {
       "model_id": "3252c70558e244b2862d092a5f650049",
       "version_major": 2,
       "version_minor": 0
      },
      "text/plain": [
       "Processing 2030s:   0%|          | 0/4 [00:00<?, ?it/s]"
      ]
     },
     "metadata": {},
     "output_type": "display_data"
    },
    {
     "data": {
      "application/vnd.jupyter.widget-view+json": {
       "model_id": "7281ed8de59d4b32abca09d5468fa7e2",
       "version_major": 2,
       "version_minor": 0
      },
      "text/plain": [
       "Processing 2040s:   0%|          | 0/4 [00:00<?, ?it/s]"
      ]
     },
     "metadata": {},
     "output_type": "display_data"
    },
    {
     "data": {
      "application/vnd.jupyter.widget-view+json": {
       "model_id": "02073a3aaae8454a8ae362f1f6efa0b3",
       "version_major": 2,
       "version_minor": 0
      },
      "text/plain": [
       "Processing 2050s:   0%|          | 0/4 [00:00<?, ?it/s]"
      ]
     },
     "metadata": {},
     "output_type": "display_data"
    },
    {
     "data": {
      "application/vnd.jupyter.widget-view+json": {
       "model_id": "8aef3dd145234c3b9f70a93469fc246f",
       "version_major": 2,
       "version_minor": 0
      },
      "text/plain": [
       "Processing 2060s:   0%|          | 0/4 [00:00<?, ?it/s]"
      ]
     },
     "metadata": {},
     "output_type": "display_data"
    },
    {
     "data": {
      "application/vnd.jupyter.widget-view+json": {
       "model_id": "3effd434007a48008fcd9ff54931ed7d",
       "version_major": 2,
       "version_minor": 0
      },
      "text/plain": [
       "Processing 2070s:   0%|          | 0/4 [00:00<?, ?it/s]"
      ]
     },
     "metadata": {},
     "output_type": "display_data"
    },
    {
     "data": {
      "application/vnd.jupyter.widget-view+json": {
       "model_id": "c3b274aa7c0241de9da06b8b1c2e1ce3",
       "version_major": 2,
       "version_minor": 0
      },
      "text/plain": [
       "Processing 2080s:   0%|          | 0/4 [00:00<?, ?it/s]"
      ]
     },
     "metadata": {},
     "output_type": "display_data"
    },
    {
     "data": {
      "application/vnd.jupyter.widget-view+json": {
       "model_id": "310ce181fbe34a6fb913e8ae532ef647",
       "version_major": 2,
       "version_minor": 0
      },
      "text/plain": [
       "Processing 2090s:   0%|          | 0/4 [00:00<?, ?it/s]"
      ]
     },
     "metadata": {},
     "output_type": "display_data"
    },
    {
     "data": {
      "application/vnd.jupyter.widget-view+json": {
       "model_id": "98feefc9024240c4a0dfdaaabd2d59b2",
       "version_major": 2,
       "version_minor": 0
      },
      "text/plain": [
       "Processing CSIRO-Mk3-6-0 rcp45 data...:   0%|          | 0/15 [00:00<?, ?it/s]"
      ]
     },
     "metadata": {},
     "output_type": "display_data"
    },
    {
     "data": {
      "application/vnd.jupyter.widget-view+json": {
       "model_id": "701349949dc441b5b68e433c7429866a",
       "version_major": 2,
       "version_minor": 0
      },
      "text/plain": [
       "Processing 1950s:   0%|          | 0/4 [00:00<?, ?it/s]"
      ]
     },
     "metadata": {},
     "output_type": "display_data"
    },
    {
     "data": {
      "application/vnd.jupyter.widget-view+json": {
       "model_id": "1557014642104aa88becc0e46f7d19c5",
       "version_major": 2,
       "version_minor": 0
      },
      "text/plain": [
       "Processing 1960s:   0%|          | 0/4 [00:00<?, ?it/s]"
      ]
     },
     "metadata": {},
     "output_type": "display_data"
    },
    {
     "data": {
      "application/vnd.jupyter.widget-view+json": {
       "model_id": "0bd6fbfcb69b49b1913efd8f90c0c2ff",
       "version_major": 2,
       "version_minor": 0
      },
      "text/plain": [
       "Processing 1970s:   0%|          | 0/4 [00:00<?, ?it/s]"
      ]
     },
     "metadata": {},
     "output_type": "display_data"
    },
    {
     "data": {
      "application/vnd.jupyter.widget-view+json": {
       "model_id": "1dae7873717144249d268c71bdf59c7c",
       "version_major": 2,
       "version_minor": 0
      },
      "text/plain": [
       "Processing 1980s:   0%|          | 0/4 [00:00<?, ?it/s]"
      ]
     },
     "metadata": {},
     "output_type": "display_data"
    },
    {
     "data": {
      "application/vnd.jupyter.widget-view+json": {
       "model_id": "31a6646c284b4647a05de45bda1a5767",
       "version_major": 2,
       "version_minor": 0
      },
      "text/plain": [
       "Processing 1990s:   0%|          | 0/4 [00:00<?, ?it/s]"
      ]
     },
     "metadata": {},
     "output_type": "display_data"
    },
    {
     "data": {
      "application/vnd.jupyter.widget-view+json": {
       "model_id": "6248f1990e984b30879ed5bf3c06e1e8",
       "version_major": 2,
       "version_minor": 0
      },
      "text/plain": [
       "Processing 2000s:   0%|          | 0/4 [00:00<?, ?it/s]"
      ]
     },
     "metadata": {},
     "output_type": "display_data"
    },
    {
     "data": {
      "application/vnd.jupyter.widget-view+json": {
       "model_id": "06241f5bbb984bcb910328bc2912b47f",
       "version_major": 2,
       "version_minor": 0
      },
      "text/plain": [
       "Processing 2010s:   0%|          | 0/4 [00:00<?, ?it/s]"
      ]
     },
     "metadata": {},
     "output_type": "display_data"
    },
    {
     "data": {
      "application/vnd.jupyter.widget-view+json": {
       "model_id": "7694ec77045e45d69eb06e0a9f153020",
       "version_major": 2,
       "version_minor": 0
      },
      "text/plain": [
       "Processing 2020s:   0%|          | 0/4 [00:00<?, ?it/s]"
      ]
     },
     "metadata": {},
     "output_type": "display_data"
    },
    {
     "data": {
      "application/vnd.jupyter.widget-view+json": {
       "model_id": "726b80afa81a40b7b11ebdb8ca449b3f",
       "version_major": 2,
       "version_minor": 0
      },
      "text/plain": [
       "Processing 2030s:   0%|          | 0/4 [00:00<?, ?it/s]"
      ]
     },
     "metadata": {},
     "output_type": "display_data"
    },
    {
     "data": {
      "application/vnd.jupyter.widget-view+json": {
       "model_id": "934fc9b916a74b2cb640e643e9fd2bd9",
       "version_major": 2,
       "version_minor": 0
      },
      "text/plain": [
       "Processing 2040s:   0%|          | 0/4 [00:00<?, ?it/s]"
      ]
     },
     "metadata": {},
     "output_type": "display_data"
    },
    {
     "data": {
      "application/vnd.jupyter.widget-view+json": {
       "model_id": "97b27451ab714ebcb48c2040c587d82c",
       "version_major": 2,
       "version_minor": 0
      },
      "text/plain": [
       "Processing 2050s:   0%|          | 0/4 [00:00<?, ?it/s]"
      ]
     },
     "metadata": {},
     "output_type": "display_data"
    },
    {
     "data": {
      "application/vnd.jupyter.widget-view+json": {
       "model_id": "7284f39ec45c4765a7d9839518c78ba5",
       "version_major": 2,
       "version_minor": 0
      },
      "text/plain": [
       "Processing 2060s:   0%|          | 0/4 [00:00<?, ?it/s]"
      ]
     },
     "metadata": {},
     "output_type": "display_data"
    },
    {
     "data": {
      "application/vnd.jupyter.widget-view+json": {
       "model_id": "ee6c597ddad84ca7b58c0266b3386619",
       "version_major": 2,
       "version_minor": 0
      },
      "text/plain": [
       "Processing 2070s:   0%|          | 0/4 [00:00<?, ?it/s]"
      ]
     },
     "metadata": {},
     "output_type": "display_data"
    },
    {
     "data": {
      "application/vnd.jupyter.widget-view+json": {
       "model_id": "a1454a4783fd4c17a1e0e91947734b2c",
       "version_major": 2,
       "version_minor": 0
      },
      "text/plain": [
       "Processing 2080s:   0%|          | 0/4 [00:00<?, ?it/s]"
      ]
     },
     "metadata": {},
     "output_type": "display_data"
    },
    {
     "data": {
      "application/vnd.jupyter.widget-view+json": {
       "model_id": "8325ba58876442bfbcab1a0b017ab051",
       "version_major": 2,
       "version_minor": 0
      },
      "text/plain": [
       "Processing 2090s:   0%|          | 0/4 [00:00<?, ?it/s]"
      ]
     },
     "metadata": {},
     "output_type": "display_data"
    },
    {
     "data": {
      "application/vnd.jupyter.widget-view+json": {
       "model_id": "643743e901774bc48d331a712137e539",
       "version_major": 2,
       "version_minor": 0
      },
      "text/plain": [
       "Processing CSIRO-Mk3-6-0 rcp85 data...:   0%|          | 0/15 [00:00<?, ?it/s]"
      ]
     },
     "metadata": {},
     "output_type": "display_data"
    },
    {
     "data": {
      "application/vnd.jupyter.widget-view+json": {
       "model_id": "a57cc51d6f3a46c2a9201e8675e1393b",
       "version_major": 2,
       "version_minor": 0
      },
      "text/plain": [
       "Processing 1950s:   0%|          | 0/4 [00:00<?, ?it/s]"
      ]
     },
     "metadata": {},
     "output_type": "display_data"
    },
    {
     "data": {
      "application/vnd.jupyter.widget-view+json": {
       "model_id": "5849ef879b094809b984c52158d5d905",
       "version_major": 2,
       "version_minor": 0
      },
      "text/plain": [
       "Processing 1960s:   0%|          | 0/4 [00:00<?, ?it/s]"
      ]
     },
     "metadata": {},
     "output_type": "display_data"
    },
    {
     "data": {
      "application/vnd.jupyter.widget-view+json": {
       "model_id": "c5363f333f894e958afaccad38c9b65b",
       "version_major": 2,
       "version_minor": 0
      },
      "text/plain": [
       "Processing 1970s:   0%|          | 0/4 [00:00<?, ?it/s]"
      ]
     },
     "metadata": {},
     "output_type": "display_data"
    },
    {
     "data": {
      "application/vnd.jupyter.widget-view+json": {
       "model_id": "4b2ee8b252f445c98e9036898c35e67d",
       "version_major": 2,
       "version_minor": 0
      },
      "text/plain": [
       "Processing 1980s:   0%|          | 0/4 [00:00<?, ?it/s]"
      ]
     },
     "metadata": {},
     "output_type": "display_data"
    },
    {
     "data": {
      "application/vnd.jupyter.widget-view+json": {
       "model_id": "99a41457400e4597983dcceeb5299bc5",
       "version_major": 2,
       "version_minor": 0
      },
      "text/plain": [
       "Processing 1990s:   0%|          | 0/4 [00:00<?, ?it/s]"
      ]
     },
     "metadata": {},
     "output_type": "display_data"
    },
    {
     "data": {
      "application/vnd.jupyter.widget-view+json": {
       "model_id": "ce51236626fa40fbab46278fc854ea64",
       "version_major": 2,
       "version_minor": 0
      },
      "text/plain": [
       "Processing 2000s:   0%|          | 0/4 [00:00<?, ?it/s]"
      ]
     },
     "metadata": {},
     "output_type": "display_data"
    },
    {
     "data": {
      "application/vnd.jupyter.widget-view+json": {
       "model_id": "ddc35818efe949388338e7a6a2d68918",
       "version_major": 2,
       "version_minor": 0
      },
      "text/plain": [
       "Processing 2010s:   0%|          | 0/4 [00:00<?, ?it/s]"
      ]
     },
     "metadata": {},
     "output_type": "display_data"
    },
    {
     "data": {
      "application/vnd.jupyter.widget-view+json": {
       "model_id": "5fe6d8f6cbe24286bcfad493b26c1169",
       "version_major": 2,
       "version_minor": 0
      },
      "text/plain": [
       "Processing 2020s:   0%|          | 0/4 [00:00<?, ?it/s]"
      ]
     },
     "metadata": {},
     "output_type": "display_data"
    },
    {
     "data": {
      "application/vnd.jupyter.widget-view+json": {
       "model_id": "6373bf884f73484f8836dcaf40a2d122",
       "version_major": 2,
       "version_minor": 0
      },
      "text/plain": [
       "Processing 2030s:   0%|          | 0/4 [00:00<?, ?it/s]"
      ]
     },
     "metadata": {},
     "output_type": "display_data"
    },
    {
     "data": {
      "application/vnd.jupyter.widget-view+json": {
       "model_id": "f384a71ae7b74800b4687cef4cf87cf8",
       "version_major": 2,
       "version_minor": 0
      },
      "text/plain": [
       "Processing 2040s:   0%|          | 0/4 [00:00<?, ?it/s]"
      ]
     },
     "metadata": {},
     "output_type": "display_data"
    },
    {
     "data": {
      "application/vnd.jupyter.widget-view+json": {
       "model_id": "63f14d9ba1a2471ca5720fb58136f672",
       "version_major": 2,
       "version_minor": 0
      },
      "text/plain": [
       "Processing 2050s:   0%|          | 0/4 [00:00<?, ?it/s]"
      ]
     },
     "metadata": {},
     "output_type": "display_data"
    },
    {
     "data": {
      "application/vnd.jupyter.widget-view+json": {
       "model_id": "b479a582978447aba55030f50fe0532b",
       "version_major": 2,
       "version_minor": 0
      },
      "text/plain": [
       "Processing 2060s:   0%|          | 0/4 [00:00<?, ?it/s]"
      ]
     },
     "metadata": {},
     "output_type": "display_data"
    },
    {
     "data": {
      "application/vnd.jupyter.widget-view+json": {
       "model_id": "9f2c40416fab4425bf3db269cd1378ea",
       "version_major": 2,
       "version_minor": 0
      },
      "text/plain": [
       "Processing 2070s:   0%|          | 0/4 [00:00<?, ?it/s]"
      ]
     },
     "metadata": {},
     "output_type": "display_data"
    },
    {
     "data": {
      "application/vnd.jupyter.widget-view+json": {
       "model_id": "56d5aa4d42cc4f198ea8e9a932ad020f",
       "version_major": 2,
       "version_minor": 0
      },
      "text/plain": [
       "Processing 2080s:   0%|          | 0/4 [00:00<?, ?it/s]"
      ]
     },
     "metadata": {},
     "output_type": "display_data"
    },
    {
     "data": {
      "application/vnd.jupyter.widget-view+json": {
       "model_id": "05ec0e5673db41df9134e325c9eb71af",
       "version_major": 2,
       "version_minor": 0
      },
      "text/plain": [
       "Processing 2090s:   0%|          | 0/4 [00:00<?, ?it/s]"
      ]
     },
     "metadata": {},
     "output_type": "display_data"
    },
    {
     "data": {
      "application/vnd.jupyter.widget-view+json": {
       "model_id": "56543ffb4f7c4207b7ae8247f367fb3c",
       "version_major": 2,
       "version_minor": 0
      },
      "text/plain": [
       "Processing GFDL-ESM2M rcp45 data...:   0%|          | 0/15 [00:00<?, ?it/s]"
      ]
     },
     "metadata": {},
     "output_type": "display_data"
    },
    {
     "data": {
      "application/vnd.jupyter.widget-view+json": {
       "model_id": "d55c9d60909e4beca2ef7b72805f7a65",
       "version_major": 2,
       "version_minor": 0
      },
      "text/plain": [
       "Processing 1950s:   0%|          | 0/4 [00:00<?, ?it/s]"
      ]
     },
     "metadata": {},
     "output_type": "display_data"
    },
    {
     "data": {
      "application/vnd.jupyter.widget-view+json": {
       "model_id": "bf85fafd82054fbd9adef1212f3c0f5c",
       "version_major": 2,
       "version_minor": 0
      },
      "text/plain": [
       "Processing 1960s:   0%|          | 0/4 [00:00<?, ?it/s]"
      ]
     },
     "metadata": {},
     "output_type": "display_data"
    },
    {
     "data": {
      "application/vnd.jupyter.widget-view+json": {
       "model_id": "9dd412de95da494288cf262622ebfb12",
       "version_major": 2,
       "version_minor": 0
      },
      "text/plain": [
       "Processing 1970s:   0%|          | 0/4 [00:00<?, ?it/s]"
      ]
     },
     "metadata": {},
     "output_type": "display_data"
    },
    {
     "data": {
      "application/vnd.jupyter.widget-view+json": {
       "model_id": "510acd1921e94552b8464038eaaf0166",
       "version_major": 2,
       "version_minor": 0
      },
      "text/plain": [
       "Processing 1980s:   0%|          | 0/4 [00:00<?, ?it/s]"
      ]
     },
     "metadata": {},
     "output_type": "display_data"
    },
    {
     "data": {
      "application/vnd.jupyter.widget-view+json": {
       "model_id": "70a43c0dc5fb443fa58f3c808ca04a9e",
       "version_major": 2,
       "version_minor": 0
      },
      "text/plain": [
       "Processing 1990s:   0%|          | 0/4 [00:00<?, ?it/s]"
      ]
     },
     "metadata": {},
     "output_type": "display_data"
    },
    {
     "data": {
      "application/vnd.jupyter.widget-view+json": {
       "model_id": "018d917f354d4ee0a4e8b67d805c2438",
       "version_major": 2,
       "version_minor": 0
      },
      "text/plain": [
       "Processing 2000s:   0%|          | 0/4 [00:00<?, ?it/s]"
      ]
     },
     "metadata": {},
     "output_type": "display_data"
    },
    {
     "data": {
      "application/vnd.jupyter.widget-view+json": {
       "model_id": "ed516936b91a4c05bee7de8312d33031",
       "version_major": 2,
       "version_minor": 0
      },
      "text/plain": [
       "Processing 2010s:   0%|          | 0/4 [00:00<?, ?it/s]"
      ]
     },
     "metadata": {},
     "output_type": "display_data"
    },
    {
     "data": {
      "application/vnd.jupyter.widget-view+json": {
       "model_id": "8eeac41472e24fc9aa9d11ca84ba5a07",
       "version_major": 2,
       "version_minor": 0
      },
      "text/plain": [
       "Processing 2020s:   0%|          | 0/4 [00:00<?, ?it/s]"
      ]
     },
     "metadata": {},
     "output_type": "display_data"
    },
    {
     "data": {
      "application/vnd.jupyter.widget-view+json": {
       "model_id": "fa9d4753fb6943eea883b3a428fcbeff",
       "version_major": 2,
       "version_minor": 0
      },
      "text/plain": [
       "Processing 2030s:   0%|          | 0/4 [00:00<?, ?it/s]"
      ]
     },
     "metadata": {},
     "output_type": "display_data"
    },
    {
     "data": {
      "application/vnd.jupyter.widget-view+json": {
       "model_id": "9f2523ba02c4496c8af004cf7706689e",
       "version_major": 2,
       "version_minor": 0
      },
      "text/plain": [
       "Processing 2040s:   0%|          | 0/4 [00:00<?, ?it/s]"
      ]
     },
     "metadata": {},
     "output_type": "display_data"
    },
    {
     "data": {
      "application/vnd.jupyter.widget-view+json": {
       "model_id": "932ba801105b4ab2b7058f3e52588f8a",
       "version_major": 2,
       "version_minor": 0
      },
      "text/plain": [
       "Processing 2050s:   0%|          | 0/4 [00:00<?, ?it/s]"
      ]
     },
     "metadata": {},
     "output_type": "display_data"
    },
    {
     "data": {
      "application/vnd.jupyter.widget-view+json": {
       "model_id": "93ceb1211d394040bb524b0e71385efb",
       "version_major": 2,
       "version_minor": 0
      },
      "text/plain": [
       "Processing 2060s:   0%|          | 0/4 [00:00<?, ?it/s]"
      ]
     },
     "metadata": {},
     "output_type": "display_data"
    },
    {
     "data": {
      "application/vnd.jupyter.widget-view+json": {
       "model_id": "b7a40b7aabbd44d4a6fb82e6facd1bb7",
       "version_major": 2,
       "version_minor": 0
      },
      "text/plain": [
       "Processing 2070s:   0%|          | 0/4 [00:00<?, ?it/s]"
      ]
     },
     "metadata": {},
     "output_type": "display_data"
    },
    {
     "data": {
      "application/vnd.jupyter.widget-view+json": {
       "model_id": "50f1a05ea38e4f3487acf08a26471b7c",
       "version_major": 2,
       "version_minor": 0
      },
      "text/plain": [
       "Processing 2080s:   0%|          | 0/4 [00:00<?, ?it/s]"
      ]
     },
     "metadata": {},
     "output_type": "display_data"
    },
    {
     "data": {
      "application/vnd.jupyter.widget-view+json": {
       "model_id": "988dc359923247c1bbbfd8589fbe24d4",
       "version_major": 2,
       "version_minor": 0
      },
      "text/plain": [
       "Processing 2090s:   0%|          | 0/4 [00:00<?, ?it/s]"
      ]
     },
     "metadata": {},
     "output_type": "display_data"
    },
    {
     "data": {
      "application/vnd.jupyter.widget-view+json": {
       "model_id": "8c7acfe9f4f14d659ea11261f31e2c74",
       "version_major": 2,
       "version_minor": 0
      },
      "text/plain": [
       "Processing GFDL-ESM2M rcp85 data...:   0%|          | 0/15 [00:00<?, ?it/s]"
      ]
     },
     "metadata": {},
     "output_type": "display_data"
    },
    {
     "data": {
      "application/vnd.jupyter.widget-view+json": {
       "model_id": "795837411bd74a1d8edfaee5088dafa6",
       "version_major": 2,
       "version_minor": 0
      },
      "text/plain": [
       "Processing 1950s:   0%|          | 0/4 [00:00<?, ?it/s]"
      ]
     },
     "metadata": {},
     "output_type": "display_data"
    },
    {
     "data": {
      "application/vnd.jupyter.widget-view+json": {
       "model_id": "0d2c41d170434fff9865e4f12660ebaa",
       "version_major": 2,
       "version_minor": 0
      },
      "text/plain": [
       "Processing 1960s:   0%|          | 0/4 [00:00<?, ?it/s]"
      ]
     },
     "metadata": {},
     "output_type": "display_data"
    },
    {
     "data": {
      "application/vnd.jupyter.widget-view+json": {
       "model_id": "cf03be001bce457b996fbe1e1078479e",
       "version_major": 2,
       "version_minor": 0
      },
      "text/plain": [
       "Processing 1970s:   0%|          | 0/4 [00:00<?, ?it/s]"
      ]
     },
     "metadata": {},
     "output_type": "display_data"
    },
    {
     "data": {
      "application/vnd.jupyter.widget-view+json": {
       "model_id": "0689f30371494e7ead2848e1457874f6",
       "version_major": 2,
       "version_minor": 0
      },
      "text/plain": [
       "Processing 1980s:   0%|          | 0/4 [00:00<?, ?it/s]"
      ]
     },
     "metadata": {},
     "output_type": "display_data"
    },
    {
     "data": {
      "application/vnd.jupyter.widget-view+json": {
       "model_id": "f92bda1cb0c547578baa9c075aeb3348",
       "version_major": 2,
       "version_minor": 0
      },
      "text/plain": [
       "Processing 1990s:   0%|          | 0/4 [00:00<?, ?it/s]"
      ]
     },
     "metadata": {},
     "output_type": "display_data"
    },
    {
     "data": {
      "application/vnd.jupyter.widget-view+json": {
       "model_id": "7dd12868fde94788b5e934f1ee80e3b7",
       "version_major": 2,
       "version_minor": 0
      },
      "text/plain": [
       "Processing 2000s:   0%|          | 0/4 [00:00<?, ?it/s]"
      ]
     },
     "metadata": {},
     "output_type": "display_data"
    },
    {
     "data": {
      "application/vnd.jupyter.widget-view+json": {
       "model_id": "560514d0caad458692ba65332459af7a",
       "version_major": 2,
       "version_minor": 0
      },
      "text/plain": [
       "Processing 2010s:   0%|          | 0/4 [00:00<?, ?it/s]"
      ]
     },
     "metadata": {},
     "output_type": "display_data"
    },
    {
     "data": {
      "application/vnd.jupyter.widget-view+json": {
       "model_id": "2309c12247b94c63908a1844fbac2fb8",
       "version_major": 2,
       "version_minor": 0
      },
      "text/plain": [
       "Processing 2020s:   0%|          | 0/4 [00:00<?, ?it/s]"
      ]
     },
     "metadata": {},
     "output_type": "display_data"
    },
    {
     "data": {
      "application/vnd.jupyter.widget-view+json": {
       "model_id": "51998a28e9a94f8faf4f16c342d13cfe",
       "version_major": 2,
       "version_minor": 0
      },
      "text/plain": [
       "Processing 2030s:   0%|          | 0/4 [00:00<?, ?it/s]"
      ]
     },
     "metadata": {},
     "output_type": "display_data"
    },
    {
     "data": {
      "application/vnd.jupyter.widget-view+json": {
       "model_id": "ff7227914c0e41609bc25f3801372ce2",
       "version_major": 2,
       "version_minor": 0
      },
      "text/plain": [
       "Processing 2040s:   0%|          | 0/4 [00:00<?, ?it/s]"
      ]
     },
     "metadata": {},
     "output_type": "display_data"
    },
    {
     "data": {
      "application/vnd.jupyter.widget-view+json": {
       "model_id": "7c778c8222bb4ce9a3db48d789ac20a1",
       "version_major": 2,
       "version_minor": 0
      },
      "text/plain": [
       "Processing 2050s:   0%|          | 0/4 [00:00<?, ?it/s]"
      ]
     },
     "metadata": {},
     "output_type": "display_data"
    },
    {
     "data": {
      "application/vnd.jupyter.widget-view+json": {
       "model_id": "5feb1d856631409289fcd5d037a06586",
       "version_major": 2,
       "version_minor": 0
      },
      "text/plain": [
       "Processing 2060s:   0%|          | 0/4 [00:00<?, ?it/s]"
      ]
     },
     "metadata": {},
     "output_type": "display_data"
    },
    {
     "data": {
      "application/vnd.jupyter.widget-view+json": {
       "model_id": "5f68b79d276740d9be3fd5b36543e9fe",
       "version_major": 2,
       "version_minor": 0
      },
      "text/plain": [
       "Processing 2070s:   0%|          | 0/4 [00:00<?, ?it/s]"
      ]
     },
     "metadata": {},
     "output_type": "display_data"
    },
    {
     "data": {
      "application/vnd.jupyter.widget-view+json": {
       "model_id": "9d03781ec7e746e985b2c5e50430a4d4",
       "version_major": 2,
       "version_minor": 0
      },
      "text/plain": [
       "Processing 2080s:   0%|          | 0/4 [00:00<?, ?it/s]"
      ]
     },
     "metadata": {},
     "output_type": "display_data"
    },
    {
     "data": {
      "application/vnd.jupyter.widget-view+json": {
       "model_id": "1c5d2af318724fb480a661096810fa0c",
       "version_major": 2,
       "version_minor": 0
      },
      "text/plain": [
       "Processing 2090s:   0%|          | 0/4 [00:00<?, ?it/s]"
      ]
     },
     "metadata": {},
     "output_type": "display_data"
    },
    {
     "data": {
      "application/vnd.jupyter.widget-view+json": {
       "model_id": "203a6b77ebfb4ed0a56b238b6b040a27",
       "version_major": 2,
       "version_minor": 0
      },
      "text/plain": [
       "Processing HadGEM2-ES rcp45 data...:   0%|          | 0/15 [00:00<?, ?it/s]"
      ]
     },
     "metadata": {},
     "output_type": "display_data"
    },
    {
     "data": {
      "application/vnd.jupyter.widget-view+json": {
       "model_id": "8c31b42b329547f9a83d9100f685e18a",
       "version_major": 2,
       "version_minor": 0
      },
      "text/plain": [
       "Processing 1950s:   0%|          | 0/4 [00:00<?, ?it/s]"
      ]
     },
     "metadata": {},
     "output_type": "display_data"
    },
    {
     "data": {
      "application/vnd.jupyter.widget-view+json": {
       "model_id": "5da20e882e4247528f1400837c350b75",
       "version_major": 2,
       "version_minor": 0
      },
      "text/plain": [
       "Processing 1960s:   0%|          | 0/4 [00:00<?, ?it/s]"
      ]
     },
     "metadata": {},
     "output_type": "display_data"
    },
    {
     "data": {
      "application/vnd.jupyter.widget-view+json": {
       "model_id": "083b7096881a48af8a468614b4f02e29",
       "version_major": 2,
       "version_minor": 0
      },
      "text/plain": [
       "Processing 1970s:   0%|          | 0/4 [00:00<?, ?it/s]"
      ]
     },
     "metadata": {},
     "output_type": "display_data"
    },
    {
     "data": {
      "application/vnd.jupyter.widget-view+json": {
       "model_id": "5649fb390f4149499018f8bbd9a7e145",
       "version_major": 2,
       "version_minor": 0
      },
      "text/plain": [
       "Processing 1980s:   0%|          | 0/4 [00:00<?, ?it/s]"
      ]
     },
     "metadata": {},
     "output_type": "display_data"
    },
    {
     "data": {
      "application/vnd.jupyter.widget-view+json": {
       "model_id": "ee561e9366a944c091d5b266cfff09f8",
       "version_major": 2,
       "version_minor": 0
      },
      "text/plain": [
       "Processing 1990s:   0%|          | 0/4 [00:00<?, ?it/s]"
      ]
     },
     "metadata": {},
     "output_type": "display_data"
    },
    {
     "data": {
      "application/vnd.jupyter.widget-view+json": {
       "model_id": "7383f01b9cc54d8d981f0f2c52b246c9",
       "version_major": 2,
       "version_minor": 0
      },
      "text/plain": [
       "Processing 2000s:   0%|          | 0/4 [00:00<?, ?it/s]"
      ]
     },
     "metadata": {},
     "output_type": "display_data"
    },
    {
     "data": {
      "application/vnd.jupyter.widget-view+json": {
       "model_id": "349c80f2251a4e46b3f1ea379a066ddf",
       "version_major": 2,
       "version_minor": 0
      },
      "text/plain": [
       "Processing 2010s:   0%|          | 0/4 [00:00<?, ?it/s]"
      ]
     },
     "metadata": {},
     "output_type": "display_data"
    },
    {
     "data": {
      "application/vnd.jupyter.widget-view+json": {
       "model_id": "2cc7cd685bd94ab181d070add9308711",
       "version_major": 2,
       "version_minor": 0
      },
      "text/plain": [
       "Processing 2020s:   0%|          | 0/4 [00:00<?, ?it/s]"
      ]
     },
     "metadata": {},
     "output_type": "display_data"
    },
    {
     "data": {
      "application/vnd.jupyter.widget-view+json": {
       "model_id": "e29ae240452946c690de2c89fb14f493",
       "version_major": 2,
       "version_minor": 0
      },
      "text/plain": [
       "Processing 2030s:   0%|          | 0/4 [00:00<?, ?it/s]"
      ]
     },
     "metadata": {},
     "output_type": "display_data"
    },
    {
     "data": {
      "application/vnd.jupyter.widget-view+json": {
       "model_id": "4f6f88c9cd3a4411b7dd738c515d7b27",
       "version_major": 2,
       "version_minor": 0
      },
      "text/plain": [
       "Processing 2040s:   0%|          | 0/4 [00:00<?, ?it/s]"
      ]
     },
     "metadata": {},
     "output_type": "display_data"
    },
    {
     "data": {
      "application/vnd.jupyter.widget-view+json": {
       "model_id": "b4de170d9c134244ac6fa1a670353fa1",
       "version_major": 2,
       "version_minor": 0
      },
      "text/plain": [
       "Processing 2050s:   0%|          | 0/4 [00:00<?, ?it/s]"
      ]
     },
     "metadata": {},
     "output_type": "display_data"
    },
    {
     "data": {
      "application/vnd.jupyter.widget-view+json": {
       "model_id": "fbea92eaf228408da02098f793a280a5",
       "version_major": 2,
       "version_minor": 0
      },
      "text/plain": [
       "Processing 2060s:   0%|          | 0/4 [00:00<?, ?it/s]"
      ]
     },
     "metadata": {},
     "output_type": "display_data"
    },
    {
     "data": {
      "application/vnd.jupyter.widget-view+json": {
       "model_id": "3331e69472414c80b72abd1d4207cbe6",
       "version_major": 2,
       "version_minor": 0
      },
      "text/plain": [
       "Processing 2070s:   0%|          | 0/4 [00:00<?, ?it/s]"
      ]
     },
     "metadata": {},
     "output_type": "display_data"
    },
    {
     "data": {
      "application/vnd.jupyter.widget-view+json": {
       "model_id": "18fdb03e9829447da2afccc414874b13",
       "version_major": 2,
       "version_minor": 0
      },
      "text/plain": [
       "Processing 2080s:   0%|          | 0/4 [00:00<?, ?it/s]"
      ]
     },
     "metadata": {},
     "output_type": "display_data"
    },
    {
     "data": {
      "application/vnd.jupyter.widget-view+json": {
       "model_id": "bd937f9127df49ee9884a0c91ba4cfb3",
       "version_major": 2,
       "version_minor": 0
      },
      "text/plain": [
       "Processing 2090s:   0%|          | 0/4 [00:00<?, ?it/s]"
      ]
     },
     "metadata": {},
     "output_type": "display_data"
    },
    {
     "data": {
      "application/vnd.jupyter.widget-view+json": {
       "model_id": "c37f553593ec47118a0fca84904cbcc3",
       "version_major": 2,
       "version_minor": 0
      },
      "text/plain": [
       "Processing HadGEM2-ES rcp85 data...:   0%|          | 0/15 [00:00<?, ?it/s]"
      ]
     },
     "metadata": {},
     "output_type": "display_data"
    },
    {
     "data": {
      "application/vnd.jupyter.widget-view+json": {
       "model_id": "6a20acfc42964791b8427170d5347c78",
       "version_major": 2,
       "version_minor": 0
      },
      "text/plain": [
       "Processing 1950s:   0%|          | 0/4 [00:00<?, ?it/s]"
      ]
     },
     "metadata": {},
     "output_type": "display_data"
    },
    {
     "data": {
      "application/vnd.jupyter.widget-view+json": {
       "model_id": "47ebdf48b2e5406f93019940be4cbb5e",
       "version_major": 2,
       "version_minor": 0
      },
      "text/plain": [
       "Processing 1960s:   0%|          | 0/4 [00:00<?, ?it/s]"
      ]
     },
     "metadata": {},
     "output_type": "display_data"
    },
    {
     "data": {
      "application/vnd.jupyter.widget-view+json": {
       "model_id": "fb4a68912154484fb0150ebb95195466",
       "version_major": 2,
       "version_minor": 0
      },
      "text/plain": [
       "Processing 1970s:   0%|          | 0/4 [00:00<?, ?it/s]"
      ]
     },
     "metadata": {},
     "output_type": "display_data"
    },
    {
     "data": {
      "application/vnd.jupyter.widget-view+json": {
       "model_id": "4b5d4d4ceab14e66aaeb148791ccb9ea",
       "version_major": 2,
       "version_minor": 0
      },
      "text/plain": [
       "Processing 1980s:   0%|          | 0/4 [00:00<?, ?it/s]"
      ]
     },
     "metadata": {},
     "output_type": "display_data"
    },
    {
     "data": {
      "application/vnd.jupyter.widget-view+json": {
       "model_id": "84cf187a7a5e4283bb46ffaee0eb4449",
       "version_major": 2,
       "version_minor": 0
      },
      "text/plain": [
       "Processing 1990s:   0%|          | 0/4 [00:00<?, ?it/s]"
      ]
     },
     "metadata": {},
     "output_type": "display_data"
    },
    {
     "data": {
      "application/vnd.jupyter.widget-view+json": {
       "model_id": "92922e1e01c74a84a8b4828bbf0510b3",
       "version_major": 2,
       "version_minor": 0
      },
      "text/plain": [
       "Processing 2000s:   0%|          | 0/4 [00:00<?, ?it/s]"
      ]
     },
     "metadata": {},
     "output_type": "display_data"
    },
    {
     "data": {
      "application/vnd.jupyter.widget-view+json": {
       "model_id": "096edbc5f7a44584a250cf3beaca0ae7",
       "version_major": 2,
       "version_minor": 0
      },
      "text/plain": [
       "Processing 2010s:   0%|          | 0/4 [00:00<?, ?it/s]"
      ]
     },
     "metadata": {},
     "output_type": "display_data"
    },
    {
     "data": {
      "application/vnd.jupyter.widget-view+json": {
       "model_id": "ac157b9b1b964c6995d970cffaa56fad",
       "version_major": 2,
       "version_minor": 0
      },
      "text/plain": [
       "Processing 2020s:   0%|          | 0/4 [00:00<?, ?it/s]"
      ]
     },
     "metadata": {},
     "output_type": "display_data"
    },
    {
     "data": {
      "application/vnd.jupyter.widget-view+json": {
       "model_id": "6c14ad8259464c4fb5516c88f99c05e0",
       "version_major": 2,
       "version_minor": 0
      },
      "text/plain": [
       "Processing 2030s:   0%|          | 0/4 [00:00<?, ?it/s]"
      ]
     },
     "metadata": {},
     "output_type": "display_data"
    },
    {
     "data": {
      "application/vnd.jupyter.widget-view+json": {
       "model_id": "aa9c28ac03da4368afe733401c08ecbd",
       "version_major": 2,
       "version_minor": 0
      },
      "text/plain": [
       "Processing 2040s:   0%|          | 0/4 [00:00<?, ?it/s]"
      ]
     },
     "metadata": {},
     "output_type": "display_data"
    },
    {
     "data": {
      "application/vnd.jupyter.widget-view+json": {
       "model_id": "68683747b29e4085bd9717f7856bc077",
       "version_major": 2,
       "version_minor": 0
      },
      "text/plain": [
       "Processing 2050s:   0%|          | 0/4 [00:00<?, ?it/s]"
      ]
     },
     "metadata": {},
     "output_type": "display_data"
    },
    {
     "data": {
      "application/vnd.jupyter.widget-view+json": {
       "model_id": "a4b4deb94c47433a946090b69b297420",
       "version_major": 2,
       "version_minor": 0
      },
      "text/plain": [
       "Processing 2060s:   0%|          | 0/4 [00:00<?, ?it/s]"
      ]
     },
     "metadata": {},
     "output_type": "display_data"
    },
    {
     "data": {
      "application/vnd.jupyter.widget-view+json": {
       "model_id": "71044b6bbf7f4d558a44f004cda68e2e",
       "version_major": 2,
       "version_minor": 0
      },
      "text/plain": [
       "Processing 2070s:   0%|          | 0/4 [00:00<?, ?it/s]"
      ]
     },
     "metadata": {},
     "output_type": "display_data"
    },
    {
     "data": {
      "application/vnd.jupyter.widget-view+json": {
       "model_id": "ab408cfa3f82472ab3f2dec1398538a4",
       "version_major": 2,
       "version_minor": 0
      },
      "text/plain": [
       "Processing 2080s:   0%|          | 0/4 [00:00<?, ?it/s]"
      ]
     },
     "metadata": {},
     "output_type": "display_data"
    },
    {
     "data": {
      "application/vnd.jupyter.widget-view+json": {
       "model_id": "2224cb5bf6a04e62aac75eeb0d2b3312",
       "version_major": 2,
       "version_minor": 0
      },
      "text/plain": [
       "Processing 2090s:   0%|          | 0/4 [00:00<?, ?it/s]"
      ]
     },
     "metadata": {},
     "output_type": "display_data"
    },
    {
     "data": {
      "application/vnd.jupyter.widget-view+json": {
       "model_id": "af0e9df57b084a53bc1bec5555d55d78",
       "version_major": 2,
       "version_minor": 0
      },
      "text/plain": [
       "Processing inmcm4 rcp45 data...:   0%|          | 0/15 [00:00<?, ?it/s]"
      ]
     },
     "metadata": {},
     "output_type": "display_data"
    },
    {
     "data": {
      "application/vnd.jupyter.widget-view+json": {
       "model_id": "92c9f069083440559ee0756571d3cc0e",
       "version_major": 2,
       "version_minor": 0
      },
      "text/plain": [
       "Processing 1950s:   0%|          | 0/4 [00:00<?, ?it/s]"
      ]
     },
     "metadata": {},
     "output_type": "display_data"
    },
    {
     "data": {
      "application/vnd.jupyter.widget-view+json": {
       "model_id": "913e5b8d0f4b4758a5d20e4663bdcc44",
       "version_major": 2,
       "version_minor": 0
      },
      "text/plain": [
       "Processing 1960s:   0%|          | 0/4 [00:00<?, ?it/s]"
      ]
     },
     "metadata": {},
     "output_type": "display_data"
    },
    {
     "data": {
      "application/vnd.jupyter.widget-view+json": {
       "model_id": "d47934a40cc44f6fa8541bbc9ae889bf",
       "version_major": 2,
       "version_minor": 0
      },
      "text/plain": [
       "Processing 1970s:   0%|          | 0/4 [00:00<?, ?it/s]"
      ]
     },
     "metadata": {},
     "output_type": "display_data"
    },
    {
     "data": {
      "application/vnd.jupyter.widget-view+json": {
       "model_id": "dbf3ca6fffd94f7185850fe123d0b74f",
       "version_major": 2,
       "version_minor": 0
      },
      "text/plain": [
       "Processing 1980s:   0%|          | 0/4 [00:00<?, ?it/s]"
      ]
     },
     "metadata": {},
     "output_type": "display_data"
    },
    {
     "data": {
      "application/vnd.jupyter.widget-view+json": {
       "model_id": "962a22dce4d344f09f01e67fee2f5f52",
       "version_major": 2,
       "version_minor": 0
      },
      "text/plain": [
       "Processing 1990s:   0%|          | 0/4 [00:00<?, ?it/s]"
      ]
     },
     "metadata": {},
     "output_type": "display_data"
    },
    {
     "data": {
      "application/vnd.jupyter.widget-view+json": {
       "model_id": "d4378f26ab454d47ac0bd4dce7ed9527",
       "version_major": 2,
       "version_minor": 0
      },
      "text/plain": [
       "Processing 2000s:   0%|          | 0/4 [00:00<?, ?it/s]"
      ]
     },
     "metadata": {},
     "output_type": "display_data"
    },
    {
     "data": {
      "application/vnd.jupyter.widget-view+json": {
       "model_id": "314a969708f0498089a4b1f8a79fe5b3",
       "version_major": 2,
       "version_minor": 0
      },
      "text/plain": [
       "Processing 2010s:   0%|          | 0/4 [00:00<?, ?it/s]"
      ]
     },
     "metadata": {},
     "output_type": "display_data"
    },
    {
     "data": {
      "application/vnd.jupyter.widget-view+json": {
       "model_id": "6ac67c3d0d674ce797ae34db1a7bdc34",
       "version_major": 2,
       "version_minor": 0
      },
      "text/plain": [
       "Processing 2020s:   0%|          | 0/4 [00:00<?, ?it/s]"
      ]
     },
     "metadata": {},
     "output_type": "display_data"
    },
    {
     "data": {
      "application/vnd.jupyter.widget-view+json": {
       "model_id": "fa02439a4f5d4b34887324f32407e6a0",
       "version_major": 2,
       "version_minor": 0
      },
      "text/plain": [
       "Processing 2030s:   0%|          | 0/4 [00:00<?, ?it/s]"
      ]
     },
     "metadata": {},
     "output_type": "display_data"
    },
    {
     "data": {
      "application/vnd.jupyter.widget-view+json": {
       "model_id": "27b82f8cf6ab464e8f59a17e930f86b5",
       "version_major": 2,
       "version_minor": 0
      },
      "text/plain": [
       "Processing 2040s:   0%|          | 0/4 [00:00<?, ?it/s]"
      ]
     },
     "metadata": {},
     "output_type": "display_data"
    },
    {
     "data": {
      "application/vnd.jupyter.widget-view+json": {
       "model_id": "53dae3765ad84521bec0555e5e713fae",
       "version_major": 2,
       "version_minor": 0
      },
      "text/plain": [
       "Processing 2050s:   0%|          | 0/4 [00:00<?, ?it/s]"
      ]
     },
     "metadata": {},
     "output_type": "display_data"
    },
    {
     "data": {
      "application/vnd.jupyter.widget-view+json": {
       "model_id": "78a2004fcb544a189b3121b321609c30",
       "version_major": 2,
       "version_minor": 0
      },
      "text/plain": [
       "Processing 2060s:   0%|          | 0/4 [00:00<?, ?it/s]"
      ]
     },
     "metadata": {},
     "output_type": "display_data"
    },
    {
     "data": {
      "application/vnd.jupyter.widget-view+json": {
       "model_id": "314e0bd093b7479ab9b108d4420f5b8f",
       "version_major": 2,
       "version_minor": 0
      },
      "text/plain": [
       "Processing 2070s:   0%|          | 0/4 [00:00<?, ?it/s]"
      ]
     },
     "metadata": {},
     "output_type": "display_data"
    },
    {
     "data": {
      "application/vnd.jupyter.widget-view+json": {
       "model_id": "d426fdbe1fa24644bd5ed7c57102c707",
       "version_major": 2,
       "version_minor": 0
      },
      "text/plain": [
       "Processing 2080s:   0%|          | 0/4 [00:00<?, ?it/s]"
      ]
     },
     "metadata": {},
     "output_type": "display_data"
    },
    {
     "data": {
      "application/vnd.jupyter.widget-view+json": {
       "model_id": "d5e895accaaf4022b8339fba841b6c1a",
       "version_major": 2,
       "version_minor": 0
      },
      "text/plain": [
       "Processing 2090s:   0%|          | 0/4 [00:00<?, ?it/s]"
      ]
     },
     "metadata": {},
     "output_type": "display_data"
    },
    {
     "data": {
      "application/vnd.jupyter.widget-view+json": {
       "model_id": "a2f83055829341b1a6cec16d970d4f91",
       "version_major": 2,
       "version_minor": 0
      },
      "text/plain": [
       "Processing inmcm4 rcp85 data...:   0%|          | 0/15 [00:00<?, ?it/s]"
      ]
     },
     "metadata": {},
     "output_type": "display_data"
    },
    {
     "data": {
      "application/vnd.jupyter.widget-view+json": {
       "model_id": "3df7fe63960f416e8dde6bed66924441",
       "version_major": 2,
       "version_minor": 0
      },
      "text/plain": [
       "Processing 1950s:   0%|          | 0/4 [00:00<?, ?it/s]"
      ]
     },
     "metadata": {},
     "output_type": "display_data"
    },
    {
     "data": {
      "application/vnd.jupyter.widget-view+json": {
       "model_id": "e8f1c42f33904f72b772d9c49a9095b4",
       "version_major": 2,
       "version_minor": 0
      },
      "text/plain": [
       "Processing 1960s:   0%|          | 0/4 [00:00<?, ?it/s]"
      ]
     },
     "metadata": {},
     "output_type": "display_data"
    },
    {
     "data": {
      "application/vnd.jupyter.widget-view+json": {
       "model_id": "e676d1075a284a739592744aa28ea84d",
       "version_major": 2,
       "version_minor": 0
      },
      "text/plain": [
       "Processing 1970s:   0%|          | 0/4 [00:00<?, ?it/s]"
      ]
     },
     "metadata": {},
     "output_type": "display_data"
    },
    {
     "data": {
      "application/vnd.jupyter.widget-view+json": {
       "model_id": "a8124a809f7b40e4a34be2874589654d",
       "version_major": 2,
       "version_minor": 0
      },
      "text/plain": [
       "Processing 1980s:   0%|          | 0/4 [00:00<?, ?it/s]"
      ]
     },
     "metadata": {},
     "output_type": "display_data"
    },
    {
     "data": {
      "application/vnd.jupyter.widget-view+json": {
       "model_id": "0bcd12b3490d4c82b201525cb1713f69",
       "version_major": 2,
       "version_minor": 0
      },
      "text/plain": [
       "Processing 1990s:   0%|          | 0/4 [00:00<?, ?it/s]"
      ]
     },
     "metadata": {},
     "output_type": "display_data"
    },
    {
     "data": {
      "application/vnd.jupyter.widget-view+json": {
       "model_id": "c946e5ada93a44139550d3f52cfc6a92",
       "version_major": 2,
       "version_minor": 0
      },
      "text/plain": [
       "Processing 2000s:   0%|          | 0/4 [00:00<?, ?it/s]"
      ]
     },
     "metadata": {},
     "output_type": "display_data"
    },
    {
     "data": {
      "application/vnd.jupyter.widget-view+json": {
       "model_id": "5231fc5363ac4fc6ae9acb2e9abb60fc",
       "version_major": 2,
       "version_minor": 0
      },
      "text/plain": [
       "Processing 2010s:   0%|          | 0/4 [00:00<?, ?it/s]"
      ]
     },
     "metadata": {},
     "output_type": "display_data"
    },
    {
     "data": {
      "application/vnd.jupyter.widget-view+json": {
       "model_id": "3ed61fd9684949d2a8db5a9a05b3e6ba",
       "version_major": 2,
       "version_minor": 0
      },
      "text/plain": [
       "Processing 2020s:   0%|          | 0/4 [00:00<?, ?it/s]"
      ]
     },
     "metadata": {},
     "output_type": "display_data"
    },
    {
     "data": {
      "application/vnd.jupyter.widget-view+json": {
       "model_id": "08b537d5397742d8a2b4ff1c63d6447f",
       "version_major": 2,
       "version_minor": 0
      },
      "text/plain": [
       "Processing 2030s:   0%|          | 0/4 [00:00<?, ?it/s]"
      ]
     },
     "metadata": {},
     "output_type": "display_data"
    },
    {
     "data": {
      "application/vnd.jupyter.widget-view+json": {
       "model_id": "c09d35cdf84a493b90b96c44d86b56b4",
       "version_major": 2,
       "version_minor": 0
      },
      "text/plain": [
       "Processing 2040s:   0%|          | 0/4 [00:00<?, ?it/s]"
      ]
     },
     "metadata": {},
     "output_type": "display_data"
    },
    {
     "data": {
      "application/vnd.jupyter.widget-view+json": {
       "model_id": "1baf3c5c91444d49a33c55a63a7708d8",
       "version_major": 2,
       "version_minor": 0
      },
      "text/plain": [
       "Processing 2050s:   0%|          | 0/4 [00:00<?, ?it/s]"
      ]
     },
     "metadata": {},
     "output_type": "display_data"
    },
    {
     "data": {
      "application/vnd.jupyter.widget-view+json": {
       "model_id": "7c3f874ba0ef43a1adb677f56373c8f6",
       "version_major": 2,
       "version_minor": 0
      },
      "text/plain": [
       "Processing 2060s:   0%|          | 0/4 [00:00<?, ?it/s]"
      ]
     },
     "metadata": {},
     "output_type": "display_data"
    },
    {
     "data": {
      "application/vnd.jupyter.widget-view+json": {
       "model_id": "94534b31567d4f5cae67d98068dd5778",
       "version_major": 2,
       "version_minor": 0
      },
      "text/plain": [
       "Processing 2070s:   0%|          | 0/4 [00:00<?, ?it/s]"
      ]
     },
     "metadata": {},
     "output_type": "display_data"
    },
    {
     "data": {
      "application/vnd.jupyter.widget-view+json": {
       "model_id": "02ea1e5ed1bb4cf29c1137f65bad7355",
       "version_major": 2,
       "version_minor": 0
      },
      "text/plain": [
       "Processing 2080s:   0%|          | 0/4 [00:00<?, ?it/s]"
      ]
     },
     "metadata": {},
     "output_type": "display_data"
    },
    {
     "data": {
      "application/vnd.jupyter.widget-view+json": {
       "model_id": "9abfd6bd3d9446d79f8c7746da606bfc",
       "version_major": 2,
       "version_minor": 0
      },
      "text/plain": [
       "Processing 2090s:   0%|          | 0/4 [00:00<?, ?it/s]"
      ]
     },
     "metadata": {},
     "output_type": "display_data"
    },
    {
     "data": {
      "application/vnd.jupyter.widget-view+json": {
       "model_id": "65699b3bcfae440d986859cc70ff9bb0",
       "version_major": 2,
       "version_minor": 0
      },
      "text/plain": [
       "Processing MIROC5 rcp45 data...:   0%|          | 0/15 [00:00<?, ?it/s]"
      ]
     },
     "metadata": {},
     "output_type": "display_data"
    },
    {
     "data": {
      "application/vnd.jupyter.widget-view+json": {
       "model_id": "93245a06f20847389048650b4278d55c",
       "version_major": 2,
       "version_minor": 0
      },
      "text/plain": [
       "Processing 1950s:   0%|          | 0/4 [00:00<?, ?it/s]"
      ]
     },
     "metadata": {},
     "output_type": "display_data"
    },
    {
     "data": {
      "application/vnd.jupyter.widget-view+json": {
       "model_id": "364bc0abaa90446fb129d30a70d2320a",
       "version_major": 2,
       "version_minor": 0
      },
      "text/plain": [
       "Processing 1960s:   0%|          | 0/4 [00:00<?, ?it/s]"
      ]
     },
     "metadata": {},
     "output_type": "display_data"
    },
    {
     "data": {
      "application/vnd.jupyter.widget-view+json": {
       "model_id": "cbaf64ba0e384bc0a15a7e4c744171bf",
       "version_major": 2,
       "version_minor": 0
      },
      "text/plain": [
       "Processing 1970s:   0%|          | 0/4 [00:00<?, ?it/s]"
      ]
     },
     "metadata": {},
     "output_type": "display_data"
    },
    {
     "data": {
      "application/vnd.jupyter.widget-view+json": {
       "model_id": "0113969b402b4908a8a5d1eb60cd3329",
       "version_major": 2,
       "version_minor": 0
      },
      "text/plain": [
       "Processing 1980s:   0%|          | 0/4 [00:00<?, ?it/s]"
      ]
     },
     "metadata": {},
     "output_type": "display_data"
    },
    {
     "data": {
      "application/vnd.jupyter.widget-view+json": {
       "model_id": "7df3fe2729e94f4792c938d6e1a391c6",
       "version_major": 2,
       "version_minor": 0
      },
      "text/plain": [
       "Processing 1990s:   0%|          | 0/4 [00:00<?, ?it/s]"
      ]
     },
     "metadata": {},
     "output_type": "display_data"
    },
    {
     "data": {
      "application/vnd.jupyter.widget-view+json": {
       "model_id": "af054f4c02f348b9903c71d8479769bd",
       "version_major": 2,
       "version_minor": 0
      },
      "text/plain": [
       "Processing 2000s:   0%|          | 0/4 [00:00<?, ?it/s]"
      ]
     },
     "metadata": {},
     "output_type": "display_data"
    },
    {
     "data": {
      "application/vnd.jupyter.widget-view+json": {
       "model_id": "5fa4674adfd14dbeaf9ea7157ac07764",
       "version_major": 2,
       "version_minor": 0
      },
      "text/plain": [
       "Processing 2010s:   0%|          | 0/4 [00:00<?, ?it/s]"
      ]
     },
     "metadata": {},
     "output_type": "display_data"
    },
    {
     "data": {
      "application/vnd.jupyter.widget-view+json": {
       "model_id": "9554647cb6f64a6ebb4019efdcae19fb",
       "version_major": 2,
       "version_minor": 0
      },
      "text/plain": [
       "Processing 2020s:   0%|          | 0/4 [00:00<?, ?it/s]"
      ]
     },
     "metadata": {},
     "output_type": "display_data"
    },
    {
     "data": {
      "application/vnd.jupyter.widget-view+json": {
       "model_id": "6f620334cb54445fa24ef5b31b56de4e",
       "version_major": 2,
       "version_minor": 0
      },
      "text/plain": [
       "Processing 2030s:   0%|          | 0/4 [00:00<?, ?it/s]"
      ]
     },
     "metadata": {},
     "output_type": "display_data"
    },
    {
     "data": {
      "application/vnd.jupyter.widget-view+json": {
       "model_id": "866f2dc473eb4e00be20f1e67a18e994",
       "version_major": 2,
       "version_minor": 0
      },
      "text/plain": [
       "Processing 2040s:   0%|          | 0/4 [00:00<?, ?it/s]"
      ]
     },
     "metadata": {},
     "output_type": "display_data"
    },
    {
     "data": {
      "application/vnd.jupyter.widget-view+json": {
       "model_id": "f9b3e514d4bc40fc97964e389e9a15aa",
       "version_major": 2,
       "version_minor": 0
      },
      "text/plain": [
       "Processing 2050s:   0%|          | 0/4 [00:00<?, ?it/s]"
      ]
     },
     "metadata": {},
     "output_type": "display_data"
    },
    {
     "data": {
      "application/vnd.jupyter.widget-view+json": {
       "model_id": "9c7e9ab938cd492e9546b873ecb80c0b",
       "version_major": 2,
       "version_minor": 0
      },
      "text/plain": [
       "Processing 2060s:   0%|          | 0/4 [00:00<?, ?it/s]"
      ]
     },
     "metadata": {},
     "output_type": "display_data"
    },
    {
     "data": {
      "application/vnd.jupyter.widget-view+json": {
       "model_id": "2a49afe9e65c4f72969c76b4dd029cee",
       "version_major": 2,
       "version_minor": 0
      },
      "text/plain": [
       "Processing 2070s:   0%|          | 0/4 [00:00<?, ?it/s]"
      ]
     },
     "metadata": {},
     "output_type": "display_data"
    },
    {
     "data": {
      "application/vnd.jupyter.widget-view+json": {
       "model_id": "746e7a2b8de2498e848f58c5009af7f5",
       "version_major": 2,
       "version_minor": 0
      },
      "text/plain": [
       "Processing 2080s:   0%|          | 0/4 [00:00<?, ?it/s]"
      ]
     },
     "metadata": {},
     "output_type": "display_data"
    },
    {
     "data": {
      "application/vnd.jupyter.widget-view+json": {
       "model_id": "eff1493a640e4af38353a5031788ed18",
       "version_major": 2,
       "version_minor": 0
      },
      "text/plain": [
       "Processing 2090s:   0%|          | 0/4 [00:00<?, ?it/s]"
      ]
     },
     "metadata": {},
     "output_type": "display_data"
    },
    {
     "data": {
      "application/vnd.jupyter.widget-view+json": {
       "model_id": "1519d2b957ba4887b7ab047ba503114b",
       "version_major": 2,
       "version_minor": 0
      },
      "text/plain": [
       "Processing MIROC5 rcp85 data...:   0%|          | 0/15 [00:00<?, ?it/s]"
      ]
     },
     "metadata": {},
     "output_type": "display_data"
    },
    {
     "data": {
      "application/vnd.jupyter.widget-view+json": {
       "model_id": "c6788c83d44945d8837f3e6c3e8e3660",
       "version_major": 2,
       "version_minor": 0
      },
      "text/plain": [
       "Processing 1950s:   0%|          | 0/4 [00:00<?, ?it/s]"
      ]
     },
     "metadata": {},
     "output_type": "display_data"
    },
    {
     "data": {
      "application/vnd.jupyter.widget-view+json": {
       "model_id": "3a1a3e89ff53433cbf99bbbc7ca65810",
       "version_major": 2,
       "version_minor": 0
      },
      "text/plain": [
       "Processing 1960s:   0%|          | 0/4 [00:00<?, ?it/s]"
      ]
     },
     "metadata": {},
     "output_type": "display_data"
    },
    {
     "data": {
      "application/vnd.jupyter.widget-view+json": {
       "model_id": "3351b81707ab47ae90eddf6fb6d04184",
       "version_major": 2,
       "version_minor": 0
      },
      "text/plain": [
       "Processing 1970s:   0%|          | 0/4 [00:00<?, ?it/s]"
      ]
     },
     "metadata": {},
     "output_type": "display_data"
    },
    {
     "data": {
      "application/vnd.jupyter.widget-view+json": {
       "model_id": "59c0690d06cc4f4dbbc1980d77a0e738",
       "version_major": 2,
       "version_minor": 0
      },
      "text/plain": [
       "Processing 1980s:   0%|          | 0/4 [00:00<?, ?it/s]"
      ]
     },
     "metadata": {},
     "output_type": "display_data"
    },
    {
     "data": {
      "application/vnd.jupyter.widget-view+json": {
       "model_id": "6f37da2ad7384969bd664fa714ed9878",
       "version_major": 2,
       "version_minor": 0
      },
      "text/plain": [
       "Processing 1990s:   0%|          | 0/4 [00:00<?, ?it/s]"
      ]
     },
     "metadata": {},
     "output_type": "display_data"
    },
    {
     "data": {
      "application/vnd.jupyter.widget-view+json": {
       "model_id": "b326db7ac76b46278be7c5f34a6dae42",
       "version_major": 2,
       "version_minor": 0
      },
      "text/plain": [
       "Processing 2000s:   0%|          | 0/4 [00:00<?, ?it/s]"
      ]
     },
     "metadata": {},
     "output_type": "display_data"
    },
    {
     "data": {
      "application/vnd.jupyter.widget-view+json": {
       "model_id": "b971ce00d2674d848646810e4d29a3ad",
       "version_major": 2,
       "version_minor": 0
      },
      "text/plain": [
       "Processing 2010s:   0%|          | 0/4 [00:00<?, ?it/s]"
      ]
     },
     "metadata": {},
     "output_type": "display_data"
    },
    {
     "data": {
      "application/vnd.jupyter.widget-view+json": {
       "model_id": "399fff6634e7419e99b6ddba829011db",
       "version_major": 2,
       "version_minor": 0
      },
      "text/plain": [
       "Processing 2020s:   0%|          | 0/4 [00:00<?, ?it/s]"
      ]
     },
     "metadata": {},
     "output_type": "display_data"
    },
    {
     "data": {
      "application/vnd.jupyter.widget-view+json": {
       "model_id": "6d4e802f1211492b9eb3f0357fd2dad4",
       "version_major": 2,
       "version_minor": 0
      },
      "text/plain": [
       "Processing 2030s:   0%|          | 0/4 [00:00<?, ?it/s]"
      ]
     },
     "metadata": {},
     "output_type": "display_data"
    },
    {
     "data": {
      "application/vnd.jupyter.widget-view+json": {
       "model_id": "c807410677634875923e31e965c24ea9",
       "version_major": 2,
       "version_minor": 0
      },
      "text/plain": [
       "Processing 2040s:   0%|          | 0/4 [00:00<?, ?it/s]"
      ]
     },
     "metadata": {},
     "output_type": "display_data"
    },
    {
     "data": {
      "application/vnd.jupyter.widget-view+json": {
       "model_id": "59f104aebdff4f5faafb48cfb03d0f30",
       "version_major": 2,
       "version_minor": 0
      },
      "text/plain": [
       "Processing 2050s:   0%|          | 0/4 [00:00<?, ?it/s]"
      ]
     },
     "metadata": {},
     "output_type": "display_data"
    },
    {
     "data": {
      "application/vnd.jupyter.widget-view+json": {
       "model_id": "2c458366efa549259f549f450b5bda02",
       "version_major": 2,
       "version_minor": 0
      },
      "text/plain": [
       "Processing 2060s:   0%|          | 0/4 [00:00<?, ?it/s]"
      ]
     },
     "metadata": {},
     "output_type": "display_data"
    },
    {
     "data": {
      "application/vnd.jupyter.widget-view+json": {
       "model_id": "2978fbcc1b6848a8b7943c21d200317e",
       "version_major": 2,
       "version_minor": 0
      },
      "text/plain": [
       "Processing 2070s:   0%|          | 0/4 [00:00<?, ?it/s]"
      ]
     },
     "metadata": {},
     "output_type": "display_data"
    },
    {
     "data": {
      "application/vnd.jupyter.widget-view+json": {
       "model_id": "21f031dcd23e40d6ae8fa1eb5d5e8918",
       "version_major": 2,
       "version_minor": 0
      },
      "text/plain": [
       "Processing 2080s:   0%|          | 0/4 [00:00<?, ?it/s]"
      ]
     },
     "metadata": {},
     "output_type": "display_data"
    },
    {
     "data": {
      "application/vnd.jupyter.widget-view+json": {
       "model_id": "d62fe733cc0446a99468ce12813ef356",
       "version_major": 2,
       "version_minor": 0
      },
      "text/plain": [
       "Processing 2090s:   0%|          | 0/4 [00:00<?, ?it/s]"
      ]
     },
     "metadata": {},
     "output_type": "display_data"
    },
    {
     "data": {
      "application/vnd.jupyter.widget-view+json": {
       "model_id": "a710890850ef47f8a799b33b650830fd",
       "version_major": 2,
       "version_minor": 0
      },
      "text/plain": [
       "Processing MPI-ESM-MR rcp45 data...:   0%|          | 0/15 [00:00<?, ?it/s]"
      ]
     },
     "metadata": {},
     "output_type": "display_data"
    },
    {
     "data": {
      "application/vnd.jupyter.widget-view+json": {
       "model_id": "f6d4ab745350420eb628bbe0c1b55084",
       "version_major": 2,
       "version_minor": 0
      },
      "text/plain": [
       "Processing 1950s:   0%|          | 0/4 [00:00<?, ?it/s]"
      ]
     },
     "metadata": {},
     "output_type": "display_data"
    },
    {
     "data": {
      "application/vnd.jupyter.widget-view+json": {
       "model_id": "75eb6ff7694f4ab488103aac9a54640f",
       "version_major": 2,
       "version_minor": 0
      },
      "text/plain": [
       "Processing 1960s:   0%|          | 0/4 [00:00<?, ?it/s]"
      ]
     },
     "metadata": {},
     "output_type": "display_data"
    },
    {
     "data": {
      "application/vnd.jupyter.widget-view+json": {
       "model_id": "64ffbead709c4e74a226070f9fa10314",
       "version_major": 2,
       "version_minor": 0
      },
      "text/plain": [
       "Processing 1970s:   0%|          | 0/4 [00:00<?, ?it/s]"
      ]
     },
     "metadata": {},
     "output_type": "display_data"
    },
    {
     "data": {
      "application/vnd.jupyter.widget-view+json": {
       "model_id": "c8afb1a2849045d094568588a7c987b2",
       "version_major": 2,
       "version_minor": 0
      },
      "text/plain": [
       "Processing 1980s:   0%|          | 0/4 [00:00<?, ?it/s]"
      ]
     },
     "metadata": {},
     "output_type": "display_data"
    },
    {
     "data": {
      "application/vnd.jupyter.widget-view+json": {
       "model_id": "55c6bce8ecca4bf98459df0293b2863d",
       "version_major": 2,
       "version_minor": 0
      },
      "text/plain": [
       "Processing 1990s:   0%|          | 0/4 [00:00<?, ?it/s]"
      ]
     },
     "metadata": {},
     "output_type": "display_data"
    },
    {
     "data": {
      "application/vnd.jupyter.widget-view+json": {
       "model_id": "cfc96249389845a5b07d0bf2a020aa63",
       "version_major": 2,
       "version_minor": 0
      },
      "text/plain": [
       "Processing 2000s:   0%|          | 0/4 [00:00<?, ?it/s]"
      ]
     },
     "metadata": {},
     "output_type": "display_data"
    },
    {
     "data": {
      "application/vnd.jupyter.widget-view+json": {
       "model_id": "7bd156c89fe948d194e56d4ef020494a",
       "version_major": 2,
       "version_minor": 0
      },
      "text/plain": [
       "Processing 2010s:   0%|          | 0/4 [00:00<?, ?it/s]"
      ]
     },
     "metadata": {},
     "output_type": "display_data"
    },
    {
     "data": {
      "application/vnd.jupyter.widget-view+json": {
       "model_id": "c62f94dd04d2455793bfd14fc78ade6c",
       "version_major": 2,
       "version_minor": 0
      },
      "text/plain": [
       "Processing 2020s:   0%|          | 0/4 [00:00<?, ?it/s]"
      ]
     },
     "metadata": {},
     "output_type": "display_data"
    },
    {
     "data": {
      "application/vnd.jupyter.widget-view+json": {
       "model_id": "065557c7184f4a24acdc2a8c51432a0d",
       "version_major": 2,
       "version_minor": 0
      },
      "text/plain": [
       "Processing 2030s:   0%|          | 0/4 [00:00<?, ?it/s]"
      ]
     },
     "metadata": {},
     "output_type": "display_data"
    },
    {
     "data": {
      "application/vnd.jupyter.widget-view+json": {
       "model_id": "c92f6bfb03144937a536a591c61f1739",
       "version_major": 2,
       "version_minor": 0
      },
      "text/plain": [
       "Processing 2040s:   0%|          | 0/4 [00:00<?, ?it/s]"
      ]
     },
     "metadata": {},
     "output_type": "display_data"
    },
    {
     "data": {
      "application/vnd.jupyter.widget-view+json": {
       "model_id": "767b1af7125540c193b814e7d12708d5",
       "version_major": 2,
       "version_minor": 0
      },
      "text/plain": [
       "Processing 2050s:   0%|          | 0/4 [00:00<?, ?it/s]"
      ]
     },
     "metadata": {},
     "output_type": "display_data"
    },
    {
     "data": {
      "application/vnd.jupyter.widget-view+json": {
       "model_id": "7dcac2afac0d4fce88ccaae6b56282bd",
       "version_major": 2,
       "version_minor": 0
      },
      "text/plain": [
       "Processing 2060s:   0%|          | 0/4 [00:00<?, ?it/s]"
      ]
     },
     "metadata": {},
     "output_type": "display_data"
    },
    {
     "data": {
      "application/vnd.jupyter.widget-view+json": {
       "model_id": "e8219794e4ef4ff1a11393232d00ead8",
       "version_major": 2,
       "version_minor": 0
      },
      "text/plain": [
       "Processing 2070s:   0%|          | 0/4 [00:00<?, ?it/s]"
      ]
     },
     "metadata": {},
     "output_type": "display_data"
    },
    {
     "data": {
      "application/vnd.jupyter.widget-view+json": {
       "model_id": "ddf0cbf1e05e4ff7a8b5b2d03422a581",
       "version_major": 2,
       "version_minor": 0
      },
      "text/plain": [
       "Processing 2080s:   0%|          | 0/4 [00:00<?, ?it/s]"
      ]
     },
     "metadata": {},
     "output_type": "display_data"
    },
    {
     "data": {
      "application/vnd.jupyter.widget-view+json": {
       "model_id": "ce512baa63ed4493b7c226d49ba165bc",
       "version_major": 2,
       "version_minor": 0
      },
      "text/plain": [
       "Processing 2090s:   0%|          | 0/4 [00:00<?, ?it/s]"
      ]
     },
     "metadata": {},
     "output_type": "display_data"
    },
    {
     "data": {
      "application/vnd.jupyter.widget-view+json": {
       "model_id": "0cdac274c48747b7ab7f7cbbf00ce261",
       "version_major": 2,
       "version_minor": 0
      },
      "text/plain": [
       "Processing MPI-ESM-MR rcp85 data...:   0%|          | 0/15 [00:00<?, ?it/s]"
      ]
     },
     "metadata": {},
     "output_type": "display_data"
    },
    {
     "data": {
      "application/vnd.jupyter.widget-view+json": {
       "model_id": "88c6fefd2ffe43e984255bc2b1c88061",
       "version_major": 2,
       "version_minor": 0
      },
      "text/plain": [
       "Processing 1950s:   0%|          | 0/4 [00:00<?, ?it/s]"
      ]
     },
     "metadata": {},
     "output_type": "display_data"
    },
    {
     "data": {
      "application/vnd.jupyter.widget-view+json": {
       "model_id": "73b47b8502034d3bb20d35df88d28d23",
       "version_major": 2,
       "version_minor": 0
      },
      "text/plain": [
       "Processing 1960s:   0%|          | 0/4 [00:00<?, ?it/s]"
      ]
     },
     "metadata": {},
     "output_type": "display_data"
    },
    {
     "data": {
      "application/vnd.jupyter.widget-view+json": {
       "model_id": "6564d0ae66f74be3883b56952dc2f70c",
       "version_major": 2,
       "version_minor": 0
      },
      "text/plain": [
       "Processing 1970s:   0%|          | 0/4 [00:00<?, ?it/s]"
      ]
     },
     "metadata": {},
     "output_type": "display_data"
    },
    {
     "data": {
      "application/vnd.jupyter.widget-view+json": {
       "model_id": "85815358be8f426481f2b574adf19498",
       "version_major": 2,
       "version_minor": 0
      },
      "text/plain": [
       "Processing 1980s:   0%|          | 0/4 [00:00<?, ?it/s]"
      ]
     },
     "metadata": {},
     "output_type": "display_data"
    },
    {
     "data": {
      "application/vnd.jupyter.widget-view+json": {
       "model_id": "9c293cc0d8a94f06b63f2dc5e3638583",
       "version_major": 2,
       "version_minor": 0
      },
      "text/plain": [
       "Processing 1990s:   0%|          | 0/4 [00:00<?, ?it/s]"
      ]
     },
     "metadata": {},
     "output_type": "display_data"
    },
    {
     "data": {
      "application/vnd.jupyter.widget-view+json": {
       "model_id": "895a4f2a08a041f2928ee8c0b227897e",
       "version_major": 2,
       "version_minor": 0
      },
      "text/plain": [
       "Processing 2000s:   0%|          | 0/4 [00:00<?, ?it/s]"
      ]
     },
     "metadata": {},
     "output_type": "display_data"
    },
    {
     "data": {
      "application/vnd.jupyter.widget-view+json": {
       "model_id": "d7039f35d5da4ce08c32d88225a8e0fc",
       "version_major": 2,
       "version_minor": 0
      },
      "text/plain": [
       "Processing 2010s:   0%|          | 0/4 [00:00<?, ?it/s]"
      ]
     },
     "metadata": {},
     "output_type": "display_data"
    },
    {
     "data": {
      "application/vnd.jupyter.widget-view+json": {
       "model_id": "3132dd4487e540379caabf033400e7e2",
       "version_major": 2,
       "version_minor": 0
      },
      "text/plain": [
       "Processing 2020s:   0%|          | 0/4 [00:00<?, ?it/s]"
      ]
     },
     "metadata": {},
     "output_type": "display_data"
    },
    {
     "data": {
      "application/vnd.jupyter.widget-view+json": {
       "model_id": "2b35a5c373ba4fcfab159fdb5b7e9831",
       "version_major": 2,
       "version_minor": 0
      },
      "text/plain": [
       "Processing 2030s:   0%|          | 0/4 [00:00<?, ?it/s]"
      ]
     },
     "metadata": {},
     "output_type": "display_data"
    },
    {
     "data": {
      "application/vnd.jupyter.widget-view+json": {
       "model_id": "d61bc7ae0bd14957b5f38e1fed0d477a",
       "version_major": 2,
       "version_minor": 0
      },
      "text/plain": [
       "Processing 2040s:   0%|          | 0/4 [00:00<?, ?it/s]"
      ]
     },
     "metadata": {},
     "output_type": "display_data"
    },
    {
     "data": {
      "application/vnd.jupyter.widget-view+json": {
       "model_id": "0edc4260e9754f3d8f04582622cc0f1e",
       "version_major": 2,
       "version_minor": 0
      },
      "text/plain": [
       "Processing 2050s:   0%|          | 0/4 [00:00<?, ?it/s]"
      ]
     },
     "metadata": {},
     "output_type": "display_data"
    },
    {
     "data": {
      "application/vnd.jupyter.widget-view+json": {
       "model_id": "1eb7c7d222134d09a56e470048a6d9cd",
       "version_major": 2,
       "version_minor": 0
      },
      "text/plain": [
       "Processing 2060s:   0%|          | 0/4 [00:00<?, ?it/s]"
      ]
     },
     "metadata": {},
     "output_type": "display_data"
    },
    {
     "data": {
      "application/vnd.jupyter.widget-view+json": {
       "model_id": "e7130877d4194f418ca130f6648469fe",
       "version_major": 2,
       "version_minor": 0
      },
      "text/plain": [
       "Processing 2070s:   0%|          | 0/4 [00:00<?, ?it/s]"
      ]
     },
     "metadata": {},
     "output_type": "display_data"
    },
    {
     "data": {
      "application/vnd.jupyter.widget-view+json": {
       "model_id": "077373b693a342f0aaccfb01154b15d0",
       "version_major": 2,
       "version_minor": 0
      },
      "text/plain": [
       "Processing 2080s:   0%|          | 0/4 [00:00<?, ?it/s]"
      ]
     },
     "metadata": {},
     "output_type": "display_data"
    },
    {
     "data": {
      "application/vnd.jupyter.widget-view+json": {
       "model_id": "a372013456fb4330b88b46b4b1f2d096",
       "version_major": 2,
       "version_minor": 0
      },
      "text/plain": [
       "Processing 2090s:   0%|          | 0/4 [00:00<?, ?it/s]"
      ]
     },
     "metadata": {},
     "output_type": "display_data"
    },
    {
     "data": {
      "application/vnd.jupyter.widget-view+json": {
       "model_id": "743c3a876a234d6e80fe23e41ca9234a",
       "version_major": 2,
       "version_minor": 0
      },
      "text/plain": [
       "Processing MRI-CGCM3 rcp45 data...:   0%|          | 0/15 [00:00<?, ?it/s]"
      ]
     },
     "metadata": {},
     "output_type": "display_data"
    },
    {
     "data": {
      "application/vnd.jupyter.widget-view+json": {
       "model_id": "5123d0a2e79742e28036defe51361f42",
       "version_major": 2,
       "version_minor": 0
      },
      "text/plain": [
       "Processing 1950s:   0%|          | 0/4 [00:00<?, ?it/s]"
      ]
     },
     "metadata": {},
     "output_type": "display_data"
    },
    {
     "data": {
      "application/vnd.jupyter.widget-view+json": {
       "model_id": "2734cbc6bb9547e3826057de36fbeb40",
       "version_major": 2,
       "version_minor": 0
      },
      "text/plain": [
       "Processing 1960s:   0%|          | 0/4 [00:00<?, ?it/s]"
      ]
     },
     "metadata": {},
     "output_type": "display_data"
    },
    {
     "data": {
      "application/vnd.jupyter.widget-view+json": {
       "model_id": "ce33964a84474497b0eb9b005d85f63c",
       "version_major": 2,
       "version_minor": 0
      },
      "text/plain": [
       "Processing 1970s:   0%|          | 0/4 [00:00<?, ?it/s]"
      ]
     },
     "metadata": {},
     "output_type": "display_data"
    },
    {
     "data": {
      "application/vnd.jupyter.widget-view+json": {
       "model_id": "ae13529a12504da4811fc1d6cf564b0b",
       "version_major": 2,
       "version_minor": 0
      },
      "text/plain": [
       "Processing 1980s:   0%|          | 0/4 [00:00<?, ?it/s]"
      ]
     },
     "metadata": {},
     "output_type": "display_data"
    },
    {
     "data": {
      "application/vnd.jupyter.widget-view+json": {
       "model_id": "c5b0b5aa13dd4619a0bc7c4e894c028a",
       "version_major": 2,
       "version_minor": 0
      },
      "text/plain": [
       "Processing 1990s:   0%|          | 0/4 [00:00<?, ?it/s]"
      ]
     },
     "metadata": {},
     "output_type": "display_data"
    },
    {
     "data": {
      "application/vnd.jupyter.widget-view+json": {
       "model_id": "95075da4ebb94093b5fcb3f900e5e517",
       "version_major": 2,
       "version_minor": 0
      },
      "text/plain": [
       "Processing 2000s:   0%|          | 0/4 [00:00<?, ?it/s]"
      ]
     },
     "metadata": {},
     "output_type": "display_data"
    },
    {
     "data": {
      "application/vnd.jupyter.widget-view+json": {
       "model_id": "213f91a063de4cb6937ceb3b63ee0f33",
       "version_major": 2,
       "version_minor": 0
      },
      "text/plain": [
       "Processing 2010s:   0%|          | 0/4 [00:00<?, ?it/s]"
      ]
     },
     "metadata": {},
     "output_type": "display_data"
    },
    {
     "data": {
      "application/vnd.jupyter.widget-view+json": {
       "model_id": "f23d202b81724649a5546c5401b068d5",
       "version_major": 2,
       "version_minor": 0
      },
      "text/plain": [
       "Processing 2020s:   0%|          | 0/4 [00:00<?, ?it/s]"
      ]
     },
     "metadata": {},
     "output_type": "display_data"
    },
    {
     "data": {
      "application/vnd.jupyter.widget-view+json": {
       "model_id": "6f3a0fdfed4f4b44a4d5e351c742b3cc",
       "version_major": 2,
       "version_minor": 0
      },
      "text/plain": [
       "Processing 2030s:   0%|          | 0/4 [00:00<?, ?it/s]"
      ]
     },
     "metadata": {},
     "output_type": "display_data"
    },
    {
     "data": {
      "application/vnd.jupyter.widget-view+json": {
       "model_id": "65ad64eac69d4455bd46e79aa8ecb82f",
       "version_major": 2,
       "version_minor": 0
      },
      "text/plain": [
       "Processing 2040s:   0%|          | 0/4 [00:00<?, ?it/s]"
      ]
     },
     "metadata": {},
     "output_type": "display_data"
    },
    {
     "data": {
      "application/vnd.jupyter.widget-view+json": {
       "model_id": "d35258329a9d4286b78e88fcc9a8920d",
       "version_major": 2,
       "version_minor": 0
      },
      "text/plain": [
       "Processing 2050s:   0%|          | 0/4 [00:00<?, ?it/s]"
      ]
     },
     "metadata": {},
     "output_type": "display_data"
    },
    {
     "data": {
      "application/vnd.jupyter.widget-view+json": {
       "model_id": "ad0b44c47b624da4a1b50a5b096edac1",
       "version_major": 2,
       "version_minor": 0
      },
      "text/plain": [
       "Processing 2060s:   0%|          | 0/4 [00:00<?, ?it/s]"
      ]
     },
     "metadata": {},
     "output_type": "display_data"
    },
    {
     "data": {
      "application/vnd.jupyter.widget-view+json": {
       "model_id": "fcaac64406df406e81effc3628de7abd",
       "version_major": 2,
       "version_minor": 0
      },
      "text/plain": [
       "Processing 2070s:   0%|          | 0/4 [00:00<?, ?it/s]"
      ]
     },
     "metadata": {},
     "output_type": "display_data"
    },
    {
     "data": {
      "application/vnd.jupyter.widget-view+json": {
       "model_id": "c5c01bb9370d4d84aa39aff7c80c15e2",
       "version_major": 2,
       "version_minor": 0
      },
      "text/plain": [
       "Processing 2080s:   0%|          | 0/4 [00:00<?, ?it/s]"
      ]
     },
     "metadata": {},
     "output_type": "display_data"
    },
    {
     "data": {
      "application/vnd.jupyter.widget-view+json": {
       "model_id": "12ec58df3a204d7a94d976ddbf9655d2",
       "version_major": 2,
       "version_minor": 0
      },
      "text/plain": [
       "Processing 2090s:   0%|          | 0/4 [00:00<?, ?it/s]"
      ]
     },
     "metadata": {},
     "output_type": "display_data"
    },
    {
     "data": {
      "application/vnd.jupyter.widget-view+json": {
       "model_id": "bd94d2aa18ff46d8bb0c70c1662ed277",
       "version_major": 2,
       "version_minor": 0
      },
      "text/plain": [
       "Processing MRI-CGCM3 rcp85 data...:   0%|          | 0/15 [00:00<?, ?it/s]"
      ]
     },
     "metadata": {},
     "output_type": "display_data"
    },
    {
     "data": {
      "application/vnd.jupyter.widget-view+json": {
       "model_id": "e73e5499e97741cca9ef6483ec4c7b7e",
       "version_major": 2,
       "version_minor": 0
      },
      "text/plain": [
       "Processing 1950s:   0%|          | 0/4 [00:00<?, ?it/s]"
      ]
     },
     "metadata": {},
     "output_type": "display_data"
    },
    {
     "data": {
      "application/vnd.jupyter.widget-view+json": {
       "model_id": "7fb04894dc2d402a853f5c33aa91e744",
       "version_major": 2,
       "version_minor": 0
      },
      "text/plain": [
       "Processing 1960s:   0%|          | 0/4 [00:00<?, ?it/s]"
      ]
     },
     "metadata": {},
     "output_type": "display_data"
    },
    {
     "data": {
      "application/vnd.jupyter.widget-view+json": {
       "model_id": "570f99c524004e9688841308d42686e2",
       "version_major": 2,
       "version_minor": 0
      },
      "text/plain": [
       "Processing 1970s:   0%|          | 0/4 [00:00<?, ?it/s]"
      ]
     },
     "metadata": {},
     "output_type": "display_data"
    },
    {
     "data": {
      "application/vnd.jupyter.widget-view+json": {
       "model_id": "950089a00e244adf849c26c273158ddc",
       "version_major": 2,
       "version_minor": 0
      },
      "text/plain": [
       "Processing 1980s:   0%|          | 0/4 [00:00<?, ?it/s]"
      ]
     },
     "metadata": {},
     "output_type": "display_data"
    },
    {
     "data": {
      "application/vnd.jupyter.widget-view+json": {
       "model_id": "7a4165e59072460eb8a1b9f1e875db10",
       "version_major": 2,
       "version_minor": 0
      },
      "text/plain": [
       "Processing 1990s:   0%|          | 0/4 [00:00<?, ?it/s]"
      ]
     },
     "metadata": {},
     "output_type": "display_data"
    },
    {
     "data": {
      "application/vnd.jupyter.widget-view+json": {
       "model_id": "30783280528645308a93e44fb6241462",
       "version_major": 2,
       "version_minor": 0
      },
      "text/plain": [
       "Processing 2000s:   0%|          | 0/4 [00:00<?, ?it/s]"
      ]
     },
     "metadata": {},
     "output_type": "display_data"
    },
    {
     "data": {
      "application/vnd.jupyter.widget-view+json": {
       "model_id": "ba8bdf8693a44577a6b68ebf880203f9",
       "version_major": 2,
       "version_minor": 0
      },
      "text/plain": [
       "Processing 2010s:   0%|          | 0/4 [00:00<?, ?it/s]"
      ]
     },
     "metadata": {},
     "output_type": "display_data"
    },
    {
     "data": {
      "application/vnd.jupyter.widget-view+json": {
       "model_id": "0ab81e536703475b877f480969a9ba39",
       "version_major": 2,
       "version_minor": 0
      },
      "text/plain": [
       "Processing 2020s:   0%|          | 0/4 [00:00<?, ?it/s]"
      ]
     },
     "metadata": {},
     "output_type": "display_data"
    },
    {
     "data": {
      "application/vnd.jupyter.widget-view+json": {
       "model_id": "d45a3f95cf654a59ba679e9e337678bd",
       "version_major": 2,
       "version_minor": 0
      },
      "text/plain": [
       "Processing 2030s:   0%|          | 0/4 [00:00<?, ?it/s]"
      ]
     },
     "metadata": {},
     "output_type": "display_data"
    },
    {
     "data": {
      "application/vnd.jupyter.widget-view+json": {
       "model_id": "70ad7f795521437c8d2a4693b319e946",
       "version_major": 2,
       "version_minor": 0
      },
      "text/plain": [
       "Processing 2040s:   0%|          | 0/4 [00:00<?, ?it/s]"
      ]
     },
     "metadata": {},
     "output_type": "display_data"
    },
    {
     "data": {
      "application/vnd.jupyter.widget-view+json": {
       "model_id": "1e9a70729fc340099417fc6350a2552d",
       "version_major": 2,
       "version_minor": 0
      },
      "text/plain": [
       "Processing 2050s:   0%|          | 0/4 [00:00<?, ?it/s]"
      ]
     },
     "metadata": {},
     "output_type": "display_data"
    },
    {
     "data": {
      "application/vnd.jupyter.widget-view+json": {
       "model_id": "b43454cb915a48e680281749f3e24a19",
       "version_major": 2,
       "version_minor": 0
      },
      "text/plain": [
       "Processing 2060s:   0%|          | 0/4 [00:00<?, ?it/s]"
      ]
     },
     "metadata": {},
     "output_type": "display_data"
    },
    {
     "data": {
      "application/vnd.jupyter.widget-view+json": {
       "model_id": "0b1b3f7cf14d45e49c7d4d7cdc40cfc4",
       "version_major": 2,
       "version_minor": 0
      },
      "text/plain": [
       "Processing 2070s:   0%|          | 0/4 [00:00<?, ?it/s]"
      ]
     },
     "metadata": {},
     "output_type": "display_data"
    },
    {
     "data": {
      "application/vnd.jupyter.widget-view+json": {
       "model_id": "bdd243263b4b424f954b72c40933a2f2",
       "version_major": 2,
       "version_minor": 0
      },
      "text/plain": [
       "Processing 2080s:   0%|          | 0/4 [00:00<?, ?it/s]"
      ]
     },
     "metadata": {},
     "output_type": "display_data"
    },
    {
     "data": {
      "application/vnd.jupyter.widget-view+json": {
       "model_id": "4ffe176289eb4d47937ff1975dbb417b",
       "version_major": 2,
       "version_minor": 0
      },
      "text/plain": [
       "Processing 2090s:   0%|          | 0/4 [00:00<?, ?it/s]"
      ]
     },
     "metadata": {},
     "output_type": "display_data"
    },
    {
     "name": "stdout",
     "output_type": "stream",
     "text": [
      "CPU times: user 32min 8s, sys: 2min 37s, total: 34min 45s\n",
      "Wall time: 48min 43s\n"
     ]
    }
   ],
   "source": [
    "%%time\n",
    "\n",
    "for model in models:\n",
    "    for scenario in scenarios:\n",
    "\n",
    "        ncube = mfload_all_netcdf_data(process_group_di[model][scenario])\n",
    "        projcube, wrf_raster_profile = project_datacube(ncube)\n",
    "\n",
    "        # keeping this snippet for convenient testing - just process a single decade\n",
    "        #for decade_start in tqdm(range(1950, 1960, 10), desc=f\"Processing {model} {scenario} data...\"):\n",
    "        for decade_start in tqdm(range(1950, 2100, 10), desc=f\"Processing {model} {scenario} data...\"):\n",
    "            decade_slice = slice_by_decade(projcube, decade_start)\n",
    "            \n",
    "            for climvar in tqdm(variable_di[var_set].keys(), desc=f\"Processing {decade_start}s\"):\n",
    "                decadal_means_of_monthly_summaries = compute_monthly_summaries(decade_slice, var_set, climvar)\n",
    "                \n",
    "                for month in months:\n",
    "                    month_array = array_from_monthly_summary(decadal_means_of_monthly_summaries, climvar, month)\n",
    "                    output_filename = make_output_filename(climvar, model, scenario, month, decade_start)\n",
    "                    write_raster_to_disk(output_filename, wrf_raster_profile, month_array)\n",
    "\n",
    "        projcube.close()"
   ]
  },
  {
   "cell_type": "code",
   "execution_count": 7,
   "id": "493e1384-3a84-4d51-8724-64921b4d34e7",
   "metadata": {},
   "outputs": [],
   "source": [
    "client.close()"
   ]
  },
  {
   "cell_type": "code",
   "execution_count": null,
   "id": "60d6e9f4-f0a0-4e5e-88d1-42487b0fa708",
   "metadata": {},
   "outputs": [],
   "source": []
  }
 ],
 "metadata": {
  "kernelspec": {
   "display_name": "Python 3 (ipykernel)",
   "language": "python",
   "name": "python3"
  },
  "language_info": {
   "codemirror_mode": {
    "name": "ipython",
    "version": 3
   },
   "file_extension": ".py",
   "mimetype": "text/x-python",
   "name": "python",
   "nbconvert_exporter": "python",
   "pygments_lexer": "ipython3",
   "version": "3.9.15"
  }
 },
 "nbformat": 4,
 "nbformat_minor": 5
}
