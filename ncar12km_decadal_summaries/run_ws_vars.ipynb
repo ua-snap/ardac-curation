{
 "cells": [
  {
   "cell_type": "markdown",
   "id": "0fd3f293-a176-4960-8e43-672ee1374063",
   "metadata": {},
   "source": [
    "## `ws` (water state) Variable Summaries\n",
    "\n",
    "This notebook will orchestrate the monthly decadal mean summaries of the following variables from the `ws` set of files:\n",
    "\n",
    " - SWE (Snow water equivalent, mm)\n",
    " - IWE (Ice water equivalent, mm)\n",
    " - SM1 (Soil moisture layer1, mm)\n",
    " - SM2 (Soil moisture layer1, mm)\n",
    " - SM3 (Soil moisture layer3, mm)\n",
    "\n",
    "All this notebook does is stage the files, set up a Dask client, and then iterate through all models, scenarios, decades, variables, and months to produce the summary GeoTIFFs."
   ]
  },
  {
   "cell_type": "code",
   "execution_count": 8,
   "id": "ab7cb53d-e58f-4dbb-9d8d-46c4d2478e79",
   "metadata": {},
   "outputs": [],
   "source": [
    "import os\n",
    "import xarray as xr\n",
    "import rasterio as rio\n",
    "import numpy as np\n",
    "import dask\n",
    "import dask.array as da\n",
    "from dask.distributed import Client\n",
    "from dask import delayed\n",
    "from pyproj import Proj, Transformer, CRS\n",
    "from tqdm.auto import tqdm\n",
    "from pathlib import Path\n",
    "from wrf import PolarStereographic\n",
    "\n",
    "# local\n",
    "from config import DATA_DIR, OUTPUT_DIR\n",
    "from config import models, scenarios, variable_di, precision_di, months, unit_di, summary_di, mo_names\n",
    "from compute_summaries import *"
   ]
  },
  {
   "cell_type": "code",
   "execution_count": 9,
   "id": "8c2f3a6d-8f32-468d-9413-98a481ed3396",
   "metadata": {},
   "outputs": [],
   "source": [
    "var_set = \"ws\""
   ]
  },
  {
   "cell_type": "code",
   "execution_count": 10,
   "id": "e6fcd1a2-8862-4dc6-ab0e-520b88b89d5d",
   "metadata": {},
   "outputs": [],
   "source": [
    "paths = list(DATA_DIR.glob(f\"*{var_set}*.nc\"))\n",
    "assert len(paths) == 3000 # value learned from EDA notebook"
   ]
  },
  {
   "cell_type": "code",
   "execution_count": 11,
   "id": "3d48e6a1-bd77-4872-b498-98cd6ca563fe",
   "metadata": {},
   "outputs": [],
   "source": [
    "process_group_di = {}\n",
    "for model in models:\n",
    "    process_group_di[model] = {}\n",
    "    for scenario in scenarios:\n",
    "        process_group_di[model][scenario] = []\n",
    "\n",
    "for fp in paths:\n",
    "    fp_model = fp.name.split(\"_\")[0]\n",
    "    fp_scenario = fp.name.split(\"_\")[1]\n",
    "    process_group_di[fp_model][fp_scenario].append(fp)\n",
    "\n",
    "for model in models:\n",
    "    for scenario in scenarios:\n",
    "        assert len(process_group_di[model][scenario]) == 150 # value learned from EDA notebook"
   ]
  },
  {
   "cell_type": "code",
   "execution_count": 12,
   "id": "b69af84b-286d-4299-a84d-211fefdd5820",
   "metadata": {},
   "outputs": [
    {
     "data": {
      "text/html": [
       "<div>\n",
       "    <div style=\"width: 24px; height: 24px; background-color: #e1e1e1; border: 3px solid #9D9D9D; border-radius: 5px; position: absolute;\"> </div>\n",
       "    <div style=\"margin-left: 48px;\">\n",
       "        <h3 style=\"margin-bottom: 0px;\">Client</h3>\n",
       "        <p style=\"color: #9D9D9D; margin-bottom: 0px;\">Client-9e975aa4-d246-11ed-94fa-0025907c0d3c</p>\n",
       "        <table style=\"width: 100%; text-align: left;\">\n",
       "\n",
       "        <tr>\n",
       "        \n",
       "            <td style=\"text-align: left;\"><strong>Connection method:</strong> Cluster object</td>\n",
       "            <td style=\"text-align: left;\"><strong>Cluster type:</strong> distributed.LocalCluster</td>\n",
       "        \n",
       "        </tr>\n",
       "\n",
       "        \n",
       "            <tr>\n",
       "                <td style=\"text-align: left;\">\n",
       "                    <strong>Dashboard: </strong> <a href=\"http://127.0.0.1:8787/status\" target=\"_blank\">http://127.0.0.1:8787/status</a>\n",
       "                </td>\n",
       "                <td style=\"text-align: left;\"></td>\n",
       "            </tr>\n",
       "        \n",
       "\n",
       "        </table>\n",
       "\n",
       "        \n",
       "            <button style=\"margin-bottom: 12px;\" data-commandlinker-command=\"dask:populate-and-launch-layout\" data-commandlinker-args='{\"url\": \"http://127.0.0.1:8787/status\" }'>\n",
       "                Launch dashboard in JupyterLab\n",
       "            </button>\n",
       "        \n",
       "\n",
       "        \n",
       "            <details>\n",
       "            <summary style=\"margin-bottom: 20px;\"><h3 style=\"display: inline;\">Cluster Info</h3></summary>\n",
       "            <div class=\"jp-RenderedHTMLCommon jp-RenderedHTML jp-mod-trusted jp-OutputArea-output\">\n",
       "    <div style=\"width: 24px; height: 24px; background-color: #e1e1e1; border: 3px solid #9D9D9D; border-radius: 5px; position: absolute;\">\n",
       "    </div>\n",
       "    <div style=\"margin-left: 48px;\">\n",
       "        <h3 style=\"margin-bottom: 0px; margin-top: 0px;\">LocalCluster</h3>\n",
       "        <p style=\"color: #9D9D9D; margin-bottom: 0px;\">e3a4b784</p>\n",
       "        <table style=\"width: 100%; text-align: left;\">\n",
       "            <tr>\n",
       "                <td style=\"text-align: left;\">\n",
       "                    <strong>Dashboard:</strong> <a href=\"http://127.0.0.1:8787/status\" target=\"_blank\">http://127.0.0.1:8787/status</a>\n",
       "                </td>\n",
       "                <td style=\"text-align: left;\">\n",
       "                    <strong>Workers:</strong> 8\n",
       "                </td>\n",
       "            </tr>\n",
       "            <tr>\n",
       "                <td style=\"text-align: left;\">\n",
       "                    <strong>Total threads:</strong> 32\n",
       "                </td>\n",
       "                <td style=\"text-align: left;\">\n",
       "                    <strong>Total memory:</strong> 251.72 GiB\n",
       "                </td>\n",
       "            </tr>\n",
       "            \n",
       "            <tr>\n",
       "    <td style=\"text-align: left;\"><strong>Status:</strong> running</td>\n",
       "    <td style=\"text-align: left;\"><strong>Using processes:</strong> True</td>\n",
       "</tr>\n",
       "\n",
       "            \n",
       "        </table>\n",
       "\n",
       "        <details>\n",
       "            <summary style=\"margin-bottom: 20px;\">\n",
       "                <h3 style=\"display: inline;\">Scheduler Info</h3>\n",
       "            </summary>\n",
       "\n",
       "            <div style=\"\">\n",
       "    <div>\n",
       "        <div style=\"width: 24px; height: 24px; background-color: #FFF7E5; border: 3px solid #FF6132; border-radius: 5px; position: absolute;\"> </div>\n",
       "        <div style=\"margin-left: 48px;\">\n",
       "            <h3 style=\"margin-bottom: 0px;\">Scheduler</h3>\n",
       "            <p style=\"color: #9D9D9D; margin-bottom: 0px;\">Scheduler-6930b3e1-7620-4e97-aa6d-f70acf27e5a4</p>\n",
       "            <table style=\"width: 100%; text-align: left;\">\n",
       "                <tr>\n",
       "                    <td style=\"text-align: left;\">\n",
       "                        <strong>Comm:</strong> tcp://127.0.0.1:35393\n",
       "                    </td>\n",
       "                    <td style=\"text-align: left;\">\n",
       "                        <strong>Workers:</strong> 8\n",
       "                    </td>\n",
       "                </tr>\n",
       "                <tr>\n",
       "                    <td style=\"text-align: left;\">\n",
       "                        <strong>Dashboard:</strong> <a href=\"http://127.0.0.1:8787/status\" target=\"_blank\">http://127.0.0.1:8787/status</a>\n",
       "                    </td>\n",
       "                    <td style=\"text-align: left;\">\n",
       "                        <strong>Total threads:</strong> 32\n",
       "                    </td>\n",
       "                </tr>\n",
       "                <tr>\n",
       "                    <td style=\"text-align: left;\">\n",
       "                        <strong>Started:</strong> Just now\n",
       "                    </td>\n",
       "                    <td style=\"text-align: left;\">\n",
       "                        <strong>Total memory:</strong> 251.72 GiB\n",
       "                    </td>\n",
       "                </tr>\n",
       "            </table>\n",
       "        </div>\n",
       "    </div>\n",
       "\n",
       "    <details style=\"margin-left: 48px;\">\n",
       "        <summary style=\"margin-bottom: 20px;\">\n",
       "            <h3 style=\"display: inline;\">Workers</h3>\n",
       "        </summary>\n",
       "\n",
       "        \n",
       "        <div style=\"margin-bottom: 20px;\">\n",
       "            <div style=\"width: 24px; height: 24px; background-color: #DBF5FF; border: 3px solid #4CC9FF; border-radius: 5px; position: absolute;\"> </div>\n",
       "            <div style=\"margin-left: 48px;\">\n",
       "            <details>\n",
       "                <summary>\n",
       "                    <h4 style=\"margin-bottom: 0px; display: inline;\">Worker: 0</h4>\n",
       "                </summary>\n",
       "                <table style=\"width: 100%; text-align: left;\">\n",
       "                    <tr>\n",
       "                        <td style=\"text-align: left;\">\n",
       "                            <strong>Comm: </strong> tcp://127.0.0.1:32992\n",
       "                        </td>\n",
       "                        <td style=\"text-align: left;\">\n",
       "                            <strong>Total threads: </strong> 4\n",
       "                        </td>\n",
       "                    </tr>\n",
       "                    <tr>\n",
       "                        <td style=\"text-align: left;\">\n",
       "                            <strong>Dashboard: </strong> <a href=\"http://127.0.0.1:43527/status\" target=\"_blank\">http://127.0.0.1:43527/status</a>\n",
       "                        </td>\n",
       "                        <td style=\"text-align: left;\">\n",
       "                            <strong>Memory: </strong> 31.46 GiB\n",
       "                        </td>\n",
       "                    </tr>\n",
       "                    <tr>\n",
       "                        <td style=\"text-align: left;\">\n",
       "                            <strong>Nanny: </strong> tcp://127.0.0.1:42716\n",
       "                        </td>\n",
       "                        <td style=\"text-align: left;\"></td>\n",
       "                    </tr>\n",
       "                    <tr>\n",
       "                        <td colspan=\"2\" style=\"text-align: left;\">\n",
       "                            <strong>Local directory: </strong> /tmp/dask-worker-space/worker-b1b2f_7y\n",
       "                        </td>\n",
       "                    </tr>\n",
       "\n",
       "                    \n",
       "\n",
       "                    \n",
       "\n",
       "                </table>\n",
       "            </details>\n",
       "            </div>\n",
       "        </div>\n",
       "        \n",
       "        <div style=\"margin-bottom: 20px;\">\n",
       "            <div style=\"width: 24px; height: 24px; background-color: #DBF5FF; border: 3px solid #4CC9FF; border-radius: 5px; position: absolute;\"> </div>\n",
       "            <div style=\"margin-left: 48px;\">\n",
       "            <details>\n",
       "                <summary>\n",
       "                    <h4 style=\"margin-bottom: 0px; display: inline;\">Worker: 1</h4>\n",
       "                </summary>\n",
       "                <table style=\"width: 100%; text-align: left;\">\n",
       "                    <tr>\n",
       "                        <td style=\"text-align: left;\">\n",
       "                            <strong>Comm: </strong> tcp://127.0.0.1:42645\n",
       "                        </td>\n",
       "                        <td style=\"text-align: left;\">\n",
       "                            <strong>Total threads: </strong> 4\n",
       "                        </td>\n",
       "                    </tr>\n",
       "                    <tr>\n",
       "                        <td style=\"text-align: left;\">\n",
       "                            <strong>Dashboard: </strong> <a href=\"http://127.0.0.1:43513/status\" target=\"_blank\">http://127.0.0.1:43513/status</a>\n",
       "                        </td>\n",
       "                        <td style=\"text-align: left;\">\n",
       "                            <strong>Memory: </strong> 31.46 GiB\n",
       "                        </td>\n",
       "                    </tr>\n",
       "                    <tr>\n",
       "                        <td style=\"text-align: left;\">\n",
       "                            <strong>Nanny: </strong> tcp://127.0.0.1:36535\n",
       "                        </td>\n",
       "                        <td style=\"text-align: left;\"></td>\n",
       "                    </tr>\n",
       "                    <tr>\n",
       "                        <td colspan=\"2\" style=\"text-align: left;\">\n",
       "                            <strong>Local directory: </strong> /tmp/dask-worker-space/worker-pz_xfue9\n",
       "                        </td>\n",
       "                    </tr>\n",
       "\n",
       "                    \n",
       "\n",
       "                    \n",
       "\n",
       "                </table>\n",
       "            </details>\n",
       "            </div>\n",
       "        </div>\n",
       "        \n",
       "        <div style=\"margin-bottom: 20px;\">\n",
       "            <div style=\"width: 24px; height: 24px; background-color: #DBF5FF; border: 3px solid #4CC9FF; border-radius: 5px; position: absolute;\"> </div>\n",
       "            <div style=\"margin-left: 48px;\">\n",
       "            <details>\n",
       "                <summary>\n",
       "                    <h4 style=\"margin-bottom: 0px; display: inline;\">Worker: 2</h4>\n",
       "                </summary>\n",
       "                <table style=\"width: 100%; text-align: left;\">\n",
       "                    <tr>\n",
       "                        <td style=\"text-align: left;\">\n",
       "                            <strong>Comm: </strong> tcp://127.0.0.1:43503\n",
       "                        </td>\n",
       "                        <td style=\"text-align: left;\">\n",
       "                            <strong>Total threads: </strong> 4\n",
       "                        </td>\n",
       "                    </tr>\n",
       "                    <tr>\n",
       "                        <td style=\"text-align: left;\">\n",
       "                            <strong>Dashboard: </strong> <a href=\"http://127.0.0.1:40624/status\" target=\"_blank\">http://127.0.0.1:40624/status</a>\n",
       "                        </td>\n",
       "                        <td style=\"text-align: left;\">\n",
       "                            <strong>Memory: </strong> 31.46 GiB\n",
       "                        </td>\n",
       "                    </tr>\n",
       "                    <tr>\n",
       "                        <td style=\"text-align: left;\">\n",
       "                            <strong>Nanny: </strong> tcp://127.0.0.1:41677\n",
       "                        </td>\n",
       "                        <td style=\"text-align: left;\"></td>\n",
       "                    </tr>\n",
       "                    <tr>\n",
       "                        <td colspan=\"2\" style=\"text-align: left;\">\n",
       "                            <strong>Local directory: </strong> /tmp/dask-worker-space/worker-3wbuhnal\n",
       "                        </td>\n",
       "                    </tr>\n",
       "\n",
       "                    \n",
       "\n",
       "                    \n",
       "\n",
       "                </table>\n",
       "            </details>\n",
       "            </div>\n",
       "        </div>\n",
       "        \n",
       "        <div style=\"margin-bottom: 20px;\">\n",
       "            <div style=\"width: 24px; height: 24px; background-color: #DBF5FF; border: 3px solid #4CC9FF; border-radius: 5px; position: absolute;\"> </div>\n",
       "            <div style=\"margin-left: 48px;\">\n",
       "            <details>\n",
       "                <summary>\n",
       "                    <h4 style=\"margin-bottom: 0px; display: inline;\">Worker: 3</h4>\n",
       "                </summary>\n",
       "                <table style=\"width: 100%; text-align: left;\">\n",
       "                    <tr>\n",
       "                        <td style=\"text-align: left;\">\n",
       "                            <strong>Comm: </strong> tcp://127.0.0.1:41168\n",
       "                        </td>\n",
       "                        <td style=\"text-align: left;\">\n",
       "                            <strong>Total threads: </strong> 4\n",
       "                        </td>\n",
       "                    </tr>\n",
       "                    <tr>\n",
       "                        <td style=\"text-align: left;\">\n",
       "                            <strong>Dashboard: </strong> <a href=\"http://127.0.0.1:42092/status\" target=\"_blank\">http://127.0.0.1:42092/status</a>\n",
       "                        </td>\n",
       "                        <td style=\"text-align: left;\">\n",
       "                            <strong>Memory: </strong> 31.46 GiB\n",
       "                        </td>\n",
       "                    </tr>\n",
       "                    <tr>\n",
       "                        <td style=\"text-align: left;\">\n",
       "                            <strong>Nanny: </strong> tcp://127.0.0.1:40503\n",
       "                        </td>\n",
       "                        <td style=\"text-align: left;\"></td>\n",
       "                    </tr>\n",
       "                    <tr>\n",
       "                        <td colspan=\"2\" style=\"text-align: left;\">\n",
       "                            <strong>Local directory: </strong> /tmp/dask-worker-space/worker-8aal820k\n",
       "                        </td>\n",
       "                    </tr>\n",
       "\n",
       "                    \n",
       "\n",
       "                    \n",
       "\n",
       "                </table>\n",
       "            </details>\n",
       "            </div>\n",
       "        </div>\n",
       "        \n",
       "        <div style=\"margin-bottom: 20px;\">\n",
       "            <div style=\"width: 24px; height: 24px; background-color: #DBF5FF; border: 3px solid #4CC9FF; border-radius: 5px; position: absolute;\"> </div>\n",
       "            <div style=\"margin-left: 48px;\">\n",
       "            <details>\n",
       "                <summary>\n",
       "                    <h4 style=\"margin-bottom: 0px; display: inline;\">Worker: 4</h4>\n",
       "                </summary>\n",
       "                <table style=\"width: 100%; text-align: left;\">\n",
       "                    <tr>\n",
       "                        <td style=\"text-align: left;\">\n",
       "                            <strong>Comm: </strong> tcp://127.0.0.1:33366\n",
       "                        </td>\n",
       "                        <td style=\"text-align: left;\">\n",
       "                            <strong>Total threads: </strong> 4\n",
       "                        </td>\n",
       "                    </tr>\n",
       "                    <tr>\n",
       "                        <td style=\"text-align: left;\">\n",
       "                            <strong>Dashboard: </strong> <a href=\"http://127.0.0.1:44394/status\" target=\"_blank\">http://127.0.0.1:44394/status</a>\n",
       "                        </td>\n",
       "                        <td style=\"text-align: left;\">\n",
       "                            <strong>Memory: </strong> 31.46 GiB\n",
       "                        </td>\n",
       "                    </tr>\n",
       "                    <tr>\n",
       "                        <td style=\"text-align: left;\">\n",
       "                            <strong>Nanny: </strong> tcp://127.0.0.1:39103\n",
       "                        </td>\n",
       "                        <td style=\"text-align: left;\"></td>\n",
       "                    </tr>\n",
       "                    <tr>\n",
       "                        <td colspan=\"2\" style=\"text-align: left;\">\n",
       "                            <strong>Local directory: </strong> /tmp/dask-worker-space/worker-bbrfrkyp\n",
       "                        </td>\n",
       "                    </tr>\n",
       "\n",
       "                    \n",
       "\n",
       "                    \n",
       "\n",
       "                </table>\n",
       "            </details>\n",
       "            </div>\n",
       "        </div>\n",
       "        \n",
       "        <div style=\"margin-bottom: 20px;\">\n",
       "            <div style=\"width: 24px; height: 24px; background-color: #DBF5FF; border: 3px solid #4CC9FF; border-radius: 5px; position: absolute;\"> </div>\n",
       "            <div style=\"margin-left: 48px;\">\n",
       "            <details>\n",
       "                <summary>\n",
       "                    <h4 style=\"margin-bottom: 0px; display: inline;\">Worker: 5</h4>\n",
       "                </summary>\n",
       "                <table style=\"width: 100%; text-align: left;\">\n",
       "                    <tr>\n",
       "                        <td style=\"text-align: left;\">\n",
       "                            <strong>Comm: </strong> tcp://127.0.0.1:34343\n",
       "                        </td>\n",
       "                        <td style=\"text-align: left;\">\n",
       "                            <strong>Total threads: </strong> 4\n",
       "                        </td>\n",
       "                    </tr>\n",
       "                    <tr>\n",
       "                        <td style=\"text-align: left;\">\n",
       "                            <strong>Dashboard: </strong> <a href=\"http://127.0.0.1:44302/status\" target=\"_blank\">http://127.0.0.1:44302/status</a>\n",
       "                        </td>\n",
       "                        <td style=\"text-align: left;\">\n",
       "                            <strong>Memory: </strong> 31.46 GiB\n",
       "                        </td>\n",
       "                    </tr>\n",
       "                    <tr>\n",
       "                        <td style=\"text-align: left;\">\n",
       "                            <strong>Nanny: </strong> tcp://127.0.0.1:34137\n",
       "                        </td>\n",
       "                        <td style=\"text-align: left;\"></td>\n",
       "                    </tr>\n",
       "                    <tr>\n",
       "                        <td colspan=\"2\" style=\"text-align: left;\">\n",
       "                            <strong>Local directory: </strong> /tmp/dask-worker-space/worker-ihzj63hq\n",
       "                        </td>\n",
       "                    </tr>\n",
       "\n",
       "                    \n",
       "\n",
       "                    \n",
       "\n",
       "                </table>\n",
       "            </details>\n",
       "            </div>\n",
       "        </div>\n",
       "        \n",
       "        <div style=\"margin-bottom: 20px;\">\n",
       "            <div style=\"width: 24px; height: 24px; background-color: #DBF5FF; border: 3px solid #4CC9FF; border-radius: 5px; position: absolute;\"> </div>\n",
       "            <div style=\"margin-left: 48px;\">\n",
       "            <details>\n",
       "                <summary>\n",
       "                    <h4 style=\"margin-bottom: 0px; display: inline;\">Worker: 6</h4>\n",
       "                </summary>\n",
       "                <table style=\"width: 100%; text-align: left;\">\n",
       "                    <tr>\n",
       "                        <td style=\"text-align: left;\">\n",
       "                            <strong>Comm: </strong> tcp://127.0.0.1:44593\n",
       "                        </td>\n",
       "                        <td style=\"text-align: left;\">\n",
       "                            <strong>Total threads: </strong> 4\n",
       "                        </td>\n",
       "                    </tr>\n",
       "                    <tr>\n",
       "                        <td style=\"text-align: left;\">\n",
       "                            <strong>Dashboard: </strong> <a href=\"http://127.0.0.1:44497/status\" target=\"_blank\">http://127.0.0.1:44497/status</a>\n",
       "                        </td>\n",
       "                        <td style=\"text-align: left;\">\n",
       "                            <strong>Memory: </strong> 31.46 GiB\n",
       "                        </td>\n",
       "                    </tr>\n",
       "                    <tr>\n",
       "                        <td style=\"text-align: left;\">\n",
       "                            <strong>Nanny: </strong> tcp://127.0.0.1:38201\n",
       "                        </td>\n",
       "                        <td style=\"text-align: left;\"></td>\n",
       "                    </tr>\n",
       "                    <tr>\n",
       "                        <td colspan=\"2\" style=\"text-align: left;\">\n",
       "                            <strong>Local directory: </strong> /tmp/dask-worker-space/worker-_h3r7n7b\n",
       "                        </td>\n",
       "                    </tr>\n",
       "\n",
       "                    \n",
       "\n",
       "                    \n",
       "\n",
       "                </table>\n",
       "            </details>\n",
       "            </div>\n",
       "        </div>\n",
       "        \n",
       "        <div style=\"margin-bottom: 20px;\">\n",
       "            <div style=\"width: 24px; height: 24px; background-color: #DBF5FF; border: 3px solid #4CC9FF; border-radius: 5px; position: absolute;\"> </div>\n",
       "            <div style=\"margin-left: 48px;\">\n",
       "            <details>\n",
       "                <summary>\n",
       "                    <h4 style=\"margin-bottom: 0px; display: inline;\">Worker: 7</h4>\n",
       "                </summary>\n",
       "                <table style=\"width: 100%; text-align: left;\">\n",
       "                    <tr>\n",
       "                        <td style=\"text-align: left;\">\n",
       "                            <strong>Comm: </strong> tcp://127.0.0.1:41129\n",
       "                        </td>\n",
       "                        <td style=\"text-align: left;\">\n",
       "                            <strong>Total threads: </strong> 4\n",
       "                        </td>\n",
       "                    </tr>\n",
       "                    <tr>\n",
       "                        <td style=\"text-align: left;\">\n",
       "                            <strong>Dashboard: </strong> <a href=\"http://127.0.0.1:41625/status\" target=\"_blank\">http://127.0.0.1:41625/status</a>\n",
       "                        </td>\n",
       "                        <td style=\"text-align: left;\">\n",
       "                            <strong>Memory: </strong> 31.46 GiB\n",
       "                        </td>\n",
       "                    </tr>\n",
       "                    <tr>\n",
       "                        <td style=\"text-align: left;\">\n",
       "                            <strong>Nanny: </strong> tcp://127.0.0.1:42077\n",
       "                        </td>\n",
       "                        <td style=\"text-align: left;\"></td>\n",
       "                    </tr>\n",
       "                    <tr>\n",
       "                        <td colspan=\"2\" style=\"text-align: left;\">\n",
       "                            <strong>Local directory: </strong> /tmp/dask-worker-space/worker-c5badeit\n",
       "                        </td>\n",
       "                    </tr>\n",
       "\n",
       "                    \n",
       "\n",
       "                    \n",
       "\n",
       "                </table>\n",
       "            </details>\n",
       "            </div>\n",
       "        </div>\n",
       "        \n",
       "\n",
       "    </details>\n",
       "</div>\n",
       "\n",
       "        </details>\n",
       "    </div>\n",
       "</div>\n",
       "            </details>\n",
       "        \n",
       "\n",
       "    </div>\n",
       "</div>"
      ],
      "text/plain": [
       "<Client: 'tcp://127.0.0.1:35393' processes=8 threads=32, memory=251.72 GiB>"
      ]
     },
     "execution_count": 12,
     "metadata": {},
     "output_type": "execute_result"
    }
   ],
   "source": [
    "# create dask client\n",
    "client = Client()\n",
    "client"
   ]
  },
  {
   "cell_type": "code",
   "execution_count": 13,
   "id": "1419c04f-3250-4bd7-b74f-a16ddae61985",
   "metadata": {},
   "outputs": [
    {
     "data": {
      "application/vnd.jupyter.widget-view+json": {
       "model_id": "d65b14a31c064555a8f61537dcd15472",
       "version_major": 2,
       "version_minor": 0
      },
      "text/plain": [
       "Processing ACCESS1-3 rcp45 data...:   0%|          | 0/15 [00:00<?, ?it/s]"
      ]
     },
     "metadata": {},
     "output_type": "display_data"
    },
    {
     "data": {
      "application/vnd.jupyter.widget-view+json": {
       "model_id": "1dca7d0ba66f4832a4f94b4f274fa843",
       "version_major": 2,
       "version_minor": 0
      },
      "text/plain": [
       "Processing 1950s:   0%|          | 0/5 [00:00<?, ?it/s]"
      ]
     },
     "metadata": {},
     "output_type": "display_data"
    },
    {
     "data": {
      "application/vnd.jupyter.widget-view+json": {
       "model_id": "69dc53de842a4647a353e0572a8f20da",
       "version_major": 2,
       "version_minor": 0
      },
      "text/plain": [
       "Processing 1960s:   0%|          | 0/5 [00:00<?, ?it/s]"
      ]
     },
     "metadata": {},
     "output_type": "display_data"
    },
    {
     "data": {
      "application/vnd.jupyter.widget-view+json": {
       "model_id": "1908b00cfaa24592a15226f7ee82dc60",
       "version_major": 2,
       "version_minor": 0
      },
      "text/plain": [
       "Processing 1970s:   0%|          | 0/5 [00:00<?, ?it/s]"
      ]
     },
     "metadata": {},
     "output_type": "display_data"
    },
    {
     "data": {
      "application/vnd.jupyter.widget-view+json": {
       "model_id": "7f9dbb404e974ee7b931fb83505688b5",
       "version_major": 2,
       "version_minor": 0
      },
      "text/plain": [
       "Processing 1980s:   0%|          | 0/5 [00:00<?, ?it/s]"
      ]
     },
     "metadata": {},
     "output_type": "display_data"
    },
    {
     "data": {
      "application/vnd.jupyter.widget-view+json": {
       "model_id": "5eec8897d51647b0b73e4f990b7c396f",
       "version_major": 2,
       "version_minor": 0
      },
      "text/plain": [
       "Processing 1990s:   0%|          | 0/5 [00:00<?, ?it/s]"
      ]
     },
     "metadata": {},
     "output_type": "display_data"
    },
    {
     "data": {
      "application/vnd.jupyter.widget-view+json": {
       "model_id": "ab13e6f16039461785a433f8b19ea856",
       "version_major": 2,
       "version_minor": 0
      },
      "text/plain": [
       "Processing 2000s:   0%|          | 0/5 [00:00<?, ?it/s]"
      ]
     },
     "metadata": {},
     "output_type": "display_data"
    },
    {
     "data": {
      "application/vnd.jupyter.widget-view+json": {
       "model_id": "a4b6651c9e464777afe71e9510dad046",
       "version_major": 2,
       "version_minor": 0
      },
      "text/plain": [
       "Processing 2010s:   0%|          | 0/5 [00:00<?, ?it/s]"
      ]
     },
     "metadata": {},
     "output_type": "display_data"
    },
    {
     "data": {
      "application/vnd.jupyter.widget-view+json": {
       "model_id": "3b721b4d2b524662a57e8fc544781f5b",
       "version_major": 2,
       "version_minor": 0
      },
      "text/plain": [
       "Processing 2020s:   0%|          | 0/5 [00:00<?, ?it/s]"
      ]
     },
     "metadata": {},
     "output_type": "display_data"
    },
    {
     "data": {
      "application/vnd.jupyter.widget-view+json": {
       "model_id": "2bbbfc34ec5c484aa18ebb2ba3d28a74",
       "version_major": 2,
       "version_minor": 0
      },
      "text/plain": [
       "Processing 2030s:   0%|          | 0/5 [00:00<?, ?it/s]"
      ]
     },
     "metadata": {},
     "output_type": "display_data"
    },
    {
     "data": {
      "application/vnd.jupyter.widget-view+json": {
       "model_id": "6656e426f27b4de89d8a6f75a5f389e1",
       "version_major": 2,
       "version_minor": 0
      },
      "text/plain": [
       "Processing 2040s:   0%|          | 0/5 [00:00<?, ?it/s]"
      ]
     },
     "metadata": {},
     "output_type": "display_data"
    },
    {
     "data": {
      "application/vnd.jupyter.widget-view+json": {
       "model_id": "b4367e2dcff04169afe852fa9e22c805",
       "version_major": 2,
       "version_minor": 0
      },
      "text/plain": [
       "Processing 2050s:   0%|          | 0/5 [00:00<?, ?it/s]"
      ]
     },
     "metadata": {},
     "output_type": "display_data"
    },
    {
     "data": {
      "application/vnd.jupyter.widget-view+json": {
       "model_id": "823de08b556849b3b3f0521fa5141f6c",
       "version_major": 2,
       "version_minor": 0
      },
      "text/plain": [
       "Processing 2060s:   0%|          | 0/5 [00:00<?, ?it/s]"
      ]
     },
     "metadata": {},
     "output_type": "display_data"
    },
    {
     "data": {
      "application/vnd.jupyter.widget-view+json": {
       "model_id": "b60184707a4f46cf9a3aa1316c1d9a8b",
       "version_major": 2,
       "version_minor": 0
      },
      "text/plain": [
       "Processing 2070s:   0%|          | 0/5 [00:00<?, ?it/s]"
      ]
     },
     "metadata": {},
     "output_type": "display_data"
    },
    {
     "data": {
      "application/vnd.jupyter.widget-view+json": {
       "model_id": "70c1488215d8489591f9b5981a504f3c",
       "version_major": 2,
       "version_minor": 0
      },
      "text/plain": [
       "Processing 2080s:   0%|          | 0/5 [00:00<?, ?it/s]"
      ]
     },
     "metadata": {},
     "output_type": "display_data"
    },
    {
     "data": {
      "application/vnd.jupyter.widget-view+json": {
       "model_id": "0afe25c5f88940f4ad2b0b500ce01bce",
       "version_major": 2,
       "version_minor": 0
      },
      "text/plain": [
       "Processing 2090s:   0%|          | 0/5 [00:00<?, ?it/s]"
      ]
     },
     "metadata": {},
     "output_type": "display_data"
    },
    {
     "data": {
      "application/vnd.jupyter.widget-view+json": {
       "model_id": "b77ad8c1ac3b40488c32c33f90a8c4b5",
       "version_major": 2,
       "version_minor": 0
      },
      "text/plain": [
       "Processing ACCESS1-3 rcp85 data...:   0%|          | 0/15 [00:00<?, ?it/s]"
      ]
     },
     "metadata": {},
     "output_type": "display_data"
    },
    {
     "data": {
      "application/vnd.jupyter.widget-view+json": {
       "model_id": "ca2354ee234d46ccbe8377be1b5713da",
       "version_major": 2,
       "version_minor": 0
      },
      "text/plain": [
       "Processing 1950s:   0%|          | 0/5 [00:00<?, ?it/s]"
      ]
     },
     "metadata": {},
     "output_type": "display_data"
    },
    {
     "data": {
      "application/vnd.jupyter.widget-view+json": {
       "model_id": "ff9ca465c88c4d9688ebd4d5f1804717",
       "version_major": 2,
       "version_minor": 0
      },
      "text/plain": [
       "Processing 1960s:   0%|          | 0/5 [00:00<?, ?it/s]"
      ]
     },
     "metadata": {},
     "output_type": "display_data"
    },
    {
     "data": {
      "application/vnd.jupyter.widget-view+json": {
       "model_id": "cbf19992c7224f7a8207d9e976f25b43",
       "version_major": 2,
       "version_minor": 0
      },
      "text/plain": [
       "Processing 1970s:   0%|          | 0/5 [00:00<?, ?it/s]"
      ]
     },
     "metadata": {},
     "output_type": "display_data"
    },
    {
     "data": {
      "application/vnd.jupyter.widget-view+json": {
       "model_id": "6cb61a6aee244b10a05cbf7448275ca6",
       "version_major": 2,
       "version_minor": 0
      },
      "text/plain": [
       "Processing 1980s:   0%|          | 0/5 [00:00<?, ?it/s]"
      ]
     },
     "metadata": {},
     "output_type": "display_data"
    },
    {
     "data": {
      "application/vnd.jupyter.widget-view+json": {
       "model_id": "8beee3357d1446f3b04a04d1c7fa705e",
       "version_major": 2,
       "version_minor": 0
      },
      "text/plain": [
       "Processing 1990s:   0%|          | 0/5 [00:00<?, ?it/s]"
      ]
     },
     "metadata": {},
     "output_type": "display_data"
    },
    {
     "data": {
      "application/vnd.jupyter.widget-view+json": {
       "model_id": "fc4966a2f82f4b339a27244e43f94ca4",
       "version_major": 2,
       "version_minor": 0
      },
      "text/plain": [
       "Processing 2000s:   0%|          | 0/5 [00:00<?, ?it/s]"
      ]
     },
     "metadata": {},
     "output_type": "display_data"
    },
    {
     "data": {
      "application/vnd.jupyter.widget-view+json": {
       "model_id": "628ce36a9fd94feda14f596ad65d1a3c",
       "version_major": 2,
       "version_minor": 0
      },
      "text/plain": [
       "Processing 2010s:   0%|          | 0/5 [00:00<?, ?it/s]"
      ]
     },
     "metadata": {},
     "output_type": "display_data"
    },
    {
     "data": {
      "application/vnd.jupyter.widget-view+json": {
       "model_id": "64e69719d8514bfd821e912926a1c032",
       "version_major": 2,
       "version_minor": 0
      },
      "text/plain": [
       "Processing 2020s:   0%|          | 0/5 [00:00<?, ?it/s]"
      ]
     },
     "metadata": {},
     "output_type": "display_data"
    },
    {
     "data": {
      "application/vnd.jupyter.widget-view+json": {
       "model_id": "443c17b2ab6448b59f87bb66104bf7d0",
       "version_major": 2,
       "version_minor": 0
      },
      "text/plain": [
       "Processing 2030s:   0%|          | 0/5 [00:00<?, ?it/s]"
      ]
     },
     "metadata": {},
     "output_type": "display_data"
    },
    {
     "data": {
      "application/vnd.jupyter.widget-view+json": {
       "model_id": "4b1e30ac015d4978ac85b6446166e754",
       "version_major": 2,
       "version_minor": 0
      },
      "text/plain": [
       "Processing 2040s:   0%|          | 0/5 [00:00<?, ?it/s]"
      ]
     },
     "metadata": {},
     "output_type": "display_data"
    },
    {
     "data": {
      "application/vnd.jupyter.widget-view+json": {
       "model_id": "f4160077f1bd462f9ed7bd477c3a6e2e",
       "version_major": 2,
       "version_minor": 0
      },
      "text/plain": [
       "Processing 2050s:   0%|          | 0/5 [00:00<?, ?it/s]"
      ]
     },
     "metadata": {},
     "output_type": "display_data"
    },
    {
     "data": {
      "application/vnd.jupyter.widget-view+json": {
       "model_id": "fcd6f6ce0ae2403bae9fdc0ce404bee4",
       "version_major": 2,
       "version_minor": 0
      },
      "text/plain": [
       "Processing 2060s:   0%|          | 0/5 [00:00<?, ?it/s]"
      ]
     },
     "metadata": {},
     "output_type": "display_data"
    },
    {
     "data": {
      "application/vnd.jupyter.widget-view+json": {
       "model_id": "f3cd81e63c754865b7d3b8c4c5a2ce0f",
       "version_major": 2,
       "version_minor": 0
      },
      "text/plain": [
       "Processing 2070s:   0%|          | 0/5 [00:00<?, ?it/s]"
      ]
     },
     "metadata": {},
     "output_type": "display_data"
    },
    {
     "data": {
      "application/vnd.jupyter.widget-view+json": {
       "model_id": "6b65491f151e416086b126b86079d6dc",
       "version_major": 2,
       "version_minor": 0
      },
      "text/plain": [
       "Processing 2080s:   0%|          | 0/5 [00:00<?, ?it/s]"
      ]
     },
     "metadata": {},
     "output_type": "display_data"
    },
    {
     "data": {
      "application/vnd.jupyter.widget-view+json": {
       "model_id": "7b83bee6cd5b48ff9b9389ebf10823a0",
       "version_major": 2,
       "version_minor": 0
      },
      "text/plain": [
       "Processing 2090s:   0%|          | 0/5 [00:00<?, ?it/s]"
      ]
     },
     "metadata": {},
     "output_type": "display_data"
    },
    {
     "data": {
      "application/vnd.jupyter.widget-view+json": {
       "model_id": "275506fdbb8e415a92cf4a1b2e2735a0",
       "version_major": 2,
       "version_minor": 0
      },
      "text/plain": [
       "Processing CanESM2 rcp45 data...:   0%|          | 0/15 [00:00<?, ?it/s]"
      ]
     },
     "metadata": {},
     "output_type": "display_data"
    },
    {
     "data": {
      "application/vnd.jupyter.widget-view+json": {
       "model_id": "62d0e7234deb4ec0b9a8672f72f7d680",
       "version_major": 2,
       "version_minor": 0
      },
      "text/plain": [
       "Processing 1950s:   0%|          | 0/5 [00:00<?, ?it/s]"
      ]
     },
     "metadata": {},
     "output_type": "display_data"
    },
    {
     "data": {
      "application/vnd.jupyter.widget-view+json": {
       "model_id": "3ff36d701f0b40f59eba95bcd7992617",
       "version_major": 2,
       "version_minor": 0
      },
      "text/plain": [
       "Processing 1960s:   0%|          | 0/5 [00:00<?, ?it/s]"
      ]
     },
     "metadata": {},
     "output_type": "display_data"
    },
    {
     "data": {
      "application/vnd.jupyter.widget-view+json": {
       "model_id": "590f9301f08d42569c9f278cf7867298",
       "version_major": 2,
       "version_minor": 0
      },
      "text/plain": [
       "Processing 1970s:   0%|          | 0/5 [00:00<?, ?it/s]"
      ]
     },
     "metadata": {},
     "output_type": "display_data"
    },
    {
     "data": {
      "application/vnd.jupyter.widget-view+json": {
       "model_id": "ba1ace69f405409f9af23c8a58450cde",
       "version_major": 2,
       "version_minor": 0
      },
      "text/plain": [
       "Processing 1980s:   0%|          | 0/5 [00:00<?, ?it/s]"
      ]
     },
     "metadata": {},
     "output_type": "display_data"
    },
    {
     "data": {
      "application/vnd.jupyter.widget-view+json": {
       "model_id": "00f8e2e694b04ca78e94a7f535825420",
       "version_major": 2,
       "version_minor": 0
      },
      "text/plain": [
       "Processing 1990s:   0%|          | 0/5 [00:00<?, ?it/s]"
      ]
     },
     "metadata": {},
     "output_type": "display_data"
    },
    {
     "data": {
      "application/vnd.jupyter.widget-view+json": {
       "model_id": "88c602ded14e46eea619881377474da3",
       "version_major": 2,
       "version_minor": 0
      },
      "text/plain": [
       "Processing 2000s:   0%|          | 0/5 [00:00<?, ?it/s]"
      ]
     },
     "metadata": {},
     "output_type": "display_data"
    },
    {
     "data": {
      "application/vnd.jupyter.widget-view+json": {
       "model_id": "db22e1a2e10a4703986dc798f59ca263",
       "version_major": 2,
       "version_minor": 0
      },
      "text/plain": [
       "Processing 2010s:   0%|          | 0/5 [00:00<?, ?it/s]"
      ]
     },
     "metadata": {},
     "output_type": "display_data"
    },
    {
     "data": {
      "application/vnd.jupyter.widget-view+json": {
       "model_id": "b7a14271aabd4a46b3844df024a3d168",
       "version_major": 2,
       "version_minor": 0
      },
      "text/plain": [
       "Processing 2020s:   0%|          | 0/5 [00:00<?, ?it/s]"
      ]
     },
     "metadata": {},
     "output_type": "display_data"
    },
    {
     "data": {
      "application/vnd.jupyter.widget-view+json": {
       "model_id": "f241d4f6c95c445c95b9e66f5e9d4b8b",
       "version_major": 2,
       "version_minor": 0
      },
      "text/plain": [
       "Processing 2030s:   0%|          | 0/5 [00:00<?, ?it/s]"
      ]
     },
     "metadata": {},
     "output_type": "display_data"
    },
    {
     "data": {
      "application/vnd.jupyter.widget-view+json": {
       "model_id": "123fd434019f4e2e9d4a8358b32f7ba9",
       "version_major": 2,
       "version_minor": 0
      },
      "text/plain": [
       "Processing 2040s:   0%|          | 0/5 [00:00<?, ?it/s]"
      ]
     },
     "metadata": {},
     "output_type": "display_data"
    },
    {
     "data": {
      "application/vnd.jupyter.widget-view+json": {
       "model_id": "5ad6d9c21fe340969e41425b19f91398",
       "version_major": 2,
       "version_minor": 0
      },
      "text/plain": [
       "Processing 2050s:   0%|          | 0/5 [00:00<?, ?it/s]"
      ]
     },
     "metadata": {},
     "output_type": "display_data"
    },
    {
     "data": {
      "application/vnd.jupyter.widget-view+json": {
       "model_id": "d69744c653964270b4a328fdc0e18fb8",
       "version_major": 2,
       "version_minor": 0
      },
      "text/plain": [
       "Processing 2060s:   0%|          | 0/5 [00:00<?, ?it/s]"
      ]
     },
     "metadata": {},
     "output_type": "display_data"
    },
    {
     "data": {
      "application/vnd.jupyter.widget-view+json": {
       "model_id": "d14faa27b4be4706b078004697b281a6",
       "version_major": 2,
       "version_minor": 0
      },
      "text/plain": [
       "Processing 2070s:   0%|          | 0/5 [00:00<?, ?it/s]"
      ]
     },
     "metadata": {},
     "output_type": "display_data"
    },
    {
     "data": {
      "application/vnd.jupyter.widget-view+json": {
       "model_id": "6f8fbc9e263a4e6dbff7e4224508d2d1",
       "version_major": 2,
       "version_minor": 0
      },
      "text/plain": [
       "Processing 2080s:   0%|          | 0/5 [00:00<?, ?it/s]"
      ]
     },
     "metadata": {},
     "output_type": "display_data"
    },
    {
     "data": {
      "application/vnd.jupyter.widget-view+json": {
       "model_id": "76bca37024014659a23476bf414c53a6",
       "version_major": 2,
       "version_minor": 0
      },
      "text/plain": [
       "Processing 2090s:   0%|          | 0/5 [00:00<?, ?it/s]"
      ]
     },
     "metadata": {},
     "output_type": "display_data"
    },
    {
     "data": {
      "application/vnd.jupyter.widget-view+json": {
       "model_id": "7e1d0be73bc641d4826a909a661a6e7c",
       "version_major": 2,
       "version_minor": 0
      },
      "text/plain": [
       "Processing CanESM2 rcp85 data...:   0%|          | 0/15 [00:00<?, ?it/s]"
      ]
     },
     "metadata": {},
     "output_type": "display_data"
    },
    {
     "data": {
      "application/vnd.jupyter.widget-view+json": {
       "model_id": "dbff8fb73480450f8517135ed6394a52",
       "version_major": 2,
       "version_minor": 0
      },
      "text/plain": [
       "Processing 1950s:   0%|          | 0/5 [00:00<?, ?it/s]"
      ]
     },
     "metadata": {},
     "output_type": "display_data"
    },
    {
     "data": {
      "application/vnd.jupyter.widget-view+json": {
       "model_id": "185696611f894a08b33be90d7579a741",
       "version_major": 2,
       "version_minor": 0
      },
      "text/plain": [
       "Processing 1960s:   0%|          | 0/5 [00:00<?, ?it/s]"
      ]
     },
     "metadata": {},
     "output_type": "display_data"
    },
    {
     "data": {
      "application/vnd.jupyter.widget-view+json": {
       "model_id": "ea29dd9f5a2f4737abc021706105afec",
       "version_major": 2,
       "version_minor": 0
      },
      "text/plain": [
       "Processing 1970s:   0%|          | 0/5 [00:00<?, ?it/s]"
      ]
     },
     "metadata": {},
     "output_type": "display_data"
    },
    {
     "data": {
      "application/vnd.jupyter.widget-view+json": {
       "model_id": "8f6fef0e749c45c9bdefbedab5dae83e",
       "version_major": 2,
       "version_minor": 0
      },
      "text/plain": [
       "Processing 1980s:   0%|          | 0/5 [00:00<?, ?it/s]"
      ]
     },
     "metadata": {},
     "output_type": "display_data"
    },
    {
     "data": {
      "application/vnd.jupyter.widget-view+json": {
       "model_id": "7da41987552848f38c4d6df655680d29",
       "version_major": 2,
       "version_minor": 0
      },
      "text/plain": [
       "Processing 1990s:   0%|          | 0/5 [00:00<?, ?it/s]"
      ]
     },
     "metadata": {},
     "output_type": "display_data"
    },
    {
     "data": {
      "application/vnd.jupyter.widget-view+json": {
       "model_id": "e5bc72401f2e409190f093222ddb7ea1",
       "version_major": 2,
       "version_minor": 0
      },
      "text/plain": [
       "Processing 2000s:   0%|          | 0/5 [00:00<?, ?it/s]"
      ]
     },
     "metadata": {},
     "output_type": "display_data"
    },
    {
     "data": {
      "application/vnd.jupyter.widget-view+json": {
       "model_id": "d0a63be2f4d140c298ce160ada667f4f",
       "version_major": 2,
       "version_minor": 0
      },
      "text/plain": [
       "Processing 2010s:   0%|          | 0/5 [00:00<?, ?it/s]"
      ]
     },
     "metadata": {},
     "output_type": "display_data"
    },
    {
     "data": {
      "application/vnd.jupyter.widget-view+json": {
       "model_id": "146928a392374069855e9347293f8883",
       "version_major": 2,
       "version_minor": 0
      },
      "text/plain": [
       "Processing 2020s:   0%|          | 0/5 [00:00<?, ?it/s]"
      ]
     },
     "metadata": {},
     "output_type": "display_data"
    },
    {
     "data": {
      "application/vnd.jupyter.widget-view+json": {
       "model_id": "314dbe9b7c01419fb383364e509badd8",
       "version_major": 2,
       "version_minor": 0
      },
      "text/plain": [
       "Processing 2030s:   0%|          | 0/5 [00:00<?, ?it/s]"
      ]
     },
     "metadata": {},
     "output_type": "display_data"
    },
    {
     "data": {
      "application/vnd.jupyter.widget-view+json": {
       "model_id": "cb5eb02bdb0d4466997801e1cdae9bc5",
       "version_major": 2,
       "version_minor": 0
      },
      "text/plain": [
       "Processing 2040s:   0%|          | 0/5 [00:00<?, ?it/s]"
      ]
     },
     "metadata": {},
     "output_type": "display_data"
    },
    {
     "data": {
      "application/vnd.jupyter.widget-view+json": {
       "model_id": "53493f5430bd4565a163b91e5901e236",
       "version_major": 2,
       "version_minor": 0
      },
      "text/plain": [
       "Processing 2050s:   0%|          | 0/5 [00:00<?, ?it/s]"
      ]
     },
     "metadata": {},
     "output_type": "display_data"
    },
    {
     "data": {
      "application/vnd.jupyter.widget-view+json": {
       "model_id": "f99c67fd928d4c6da88a0a6e3e601b39",
       "version_major": 2,
       "version_minor": 0
      },
      "text/plain": [
       "Processing 2060s:   0%|          | 0/5 [00:00<?, ?it/s]"
      ]
     },
     "metadata": {},
     "output_type": "display_data"
    },
    {
     "data": {
      "application/vnd.jupyter.widget-view+json": {
       "model_id": "72c9b7df6c0248a9b5487c7b4ae647da",
       "version_major": 2,
       "version_minor": 0
      },
      "text/plain": [
       "Processing 2070s:   0%|          | 0/5 [00:00<?, ?it/s]"
      ]
     },
     "metadata": {},
     "output_type": "display_data"
    },
    {
     "data": {
      "application/vnd.jupyter.widget-view+json": {
       "model_id": "113eb5ba4ee34b6e937278f2cd4e1827",
       "version_major": 2,
       "version_minor": 0
      },
      "text/plain": [
       "Processing 2080s:   0%|          | 0/5 [00:00<?, ?it/s]"
      ]
     },
     "metadata": {},
     "output_type": "display_data"
    },
    {
     "data": {
      "application/vnd.jupyter.widget-view+json": {
       "model_id": "adc6bd517e684050b555ba35bf13e5a4",
       "version_major": 2,
       "version_minor": 0
      },
      "text/plain": [
       "Processing 2090s:   0%|          | 0/5 [00:00<?, ?it/s]"
      ]
     },
     "metadata": {},
     "output_type": "display_data"
    },
    {
     "data": {
      "application/vnd.jupyter.widget-view+json": {
       "model_id": "f0bd886fb79c4af0af8da143bde0e2c6",
       "version_major": 2,
       "version_minor": 0
      },
      "text/plain": [
       "Processing CCSM4 rcp45 data...:   0%|          | 0/15 [00:00<?, ?it/s]"
      ]
     },
     "metadata": {},
     "output_type": "display_data"
    },
    {
     "data": {
      "application/vnd.jupyter.widget-view+json": {
       "model_id": "5236c4ce2dbf4f02870119fe649bf944",
       "version_major": 2,
       "version_minor": 0
      },
      "text/plain": [
       "Processing 1950s:   0%|          | 0/5 [00:00<?, ?it/s]"
      ]
     },
     "metadata": {},
     "output_type": "display_data"
    },
    {
     "data": {
      "application/vnd.jupyter.widget-view+json": {
       "model_id": "7170f2eb751c49978773c191f2bc963b",
       "version_major": 2,
       "version_minor": 0
      },
      "text/plain": [
       "Processing 1960s:   0%|          | 0/5 [00:00<?, ?it/s]"
      ]
     },
     "metadata": {},
     "output_type": "display_data"
    },
    {
     "data": {
      "application/vnd.jupyter.widget-view+json": {
       "model_id": "7759ec84496a495786d159365a7e5d5c",
       "version_major": 2,
       "version_minor": 0
      },
      "text/plain": [
       "Processing 1970s:   0%|          | 0/5 [00:00<?, ?it/s]"
      ]
     },
     "metadata": {},
     "output_type": "display_data"
    },
    {
     "data": {
      "application/vnd.jupyter.widget-view+json": {
       "model_id": "357a16219aa9495bb855ead9d320ddc3",
       "version_major": 2,
       "version_minor": 0
      },
      "text/plain": [
       "Processing 1980s:   0%|          | 0/5 [00:00<?, ?it/s]"
      ]
     },
     "metadata": {},
     "output_type": "display_data"
    },
    {
     "data": {
      "application/vnd.jupyter.widget-view+json": {
       "model_id": "89f72630486f4c0abaf0616da6fb6d0a",
       "version_major": 2,
       "version_minor": 0
      },
      "text/plain": [
       "Processing 1990s:   0%|          | 0/5 [00:00<?, ?it/s]"
      ]
     },
     "metadata": {},
     "output_type": "display_data"
    },
    {
     "data": {
      "application/vnd.jupyter.widget-view+json": {
       "model_id": "0bb805a1ae194e14bcee90f2b15281cb",
       "version_major": 2,
       "version_minor": 0
      },
      "text/plain": [
       "Processing 2000s:   0%|          | 0/5 [00:00<?, ?it/s]"
      ]
     },
     "metadata": {},
     "output_type": "display_data"
    },
    {
     "data": {
      "application/vnd.jupyter.widget-view+json": {
       "model_id": "a39a4089ab7247a780ba4b6f8ebd9a9e",
       "version_major": 2,
       "version_minor": 0
      },
      "text/plain": [
       "Processing 2010s:   0%|          | 0/5 [00:00<?, ?it/s]"
      ]
     },
     "metadata": {},
     "output_type": "display_data"
    },
    {
     "data": {
      "application/vnd.jupyter.widget-view+json": {
       "model_id": "0256640f60a74fd9a0f480d2b1ac1bc5",
       "version_major": 2,
       "version_minor": 0
      },
      "text/plain": [
       "Processing 2020s:   0%|          | 0/5 [00:00<?, ?it/s]"
      ]
     },
     "metadata": {},
     "output_type": "display_data"
    },
    {
     "data": {
      "application/vnd.jupyter.widget-view+json": {
       "model_id": "532fdbbc1b9c4b63a7722f6ccf58095a",
       "version_major": 2,
       "version_minor": 0
      },
      "text/plain": [
       "Processing 2030s:   0%|          | 0/5 [00:00<?, ?it/s]"
      ]
     },
     "metadata": {},
     "output_type": "display_data"
    },
    {
     "data": {
      "application/vnd.jupyter.widget-view+json": {
       "model_id": "4be1f3db47564783b5e5bb62a1e02880",
       "version_major": 2,
       "version_minor": 0
      },
      "text/plain": [
       "Processing 2040s:   0%|          | 0/5 [00:00<?, ?it/s]"
      ]
     },
     "metadata": {},
     "output_type": "display_data"
    },
    {
     "data": {
      "application/vnd.jupyter.widget-view+json": {
       "model_id": "a38da5748e264b2f83934f1d1710884d",
       "version_major": 2,
       "version_minor": 0
      },
      "text/plain": [
       "Processing 2050s:   0%|          | 0/5 [00:00<?, ?it/s]"
      ]
     },
     "metadata": {},
     "output_type": "display_data"
    },
    {
     "data": {
      "application/vnd.jupyter.widget-view+json": {
       "model_id": "642d36f23b0c47eb94f058f57c7fc6cb",
       "version_major": 2,
       "version_minor": 0
      },
      "text/plain": [
       "Processing 2060s:   0%|          | 0/5 [00:00<?, ?it/s]"
      ]
     },
     "metadata": {},
     "output_type": "display_data"
    },
    {
     "data": {
      "application/vnd.jupyter.widget-view+json": {
       "model_id": "f66a9c36ac6f4ff8af629bed942562d3",
       "version_major": 2,
       "version_minor": 0
      },
      "text/plain": [
       "Processing 2070s:   0%|          | 0/5 [00:00<?, ?it/s]"
      ]
     },
     "metadata": {},
     "output_type": "display_data"
    },
    {
     "data": {
      "application/vnd.jupyter.widget-view+json": {
       "model_id": "8a629c09a9bc43dd9240e47015f795a7",
       "version_major": 2,
       "version_minor": 0
      },
      "text/plain": [
       "Processing 2080s:   0%|          | 0/5 [00:00<?, ?it/s]"
      ]
     },
     "metadata": {},
     "output_type": "display_data"
    },
    {
     "data": {
      "application/vnd.jupyter.widget-view+json": {
       "model_id": "46b7e89fbd3b4045bf23d715f4a753bc",
       "version_major": 2,
       "version_minor": 0
      },
      "text/plain": [
       "Processing 2090s:   0%|          | 0/5 [00:00<?, ?it/s]"
      ]
     },
     "metadata": {},
     "output_type": "display_data"
    },
    {
     "data": {
      "application/vnd.jupyter.widget-view+json": {
       "model_id": "6c7692ad13c94a12b3feae0abfdb691b",
       "version_major": 2,
       "version_minor": 0
      },
      "text/plain": [
       "Processing CCSM4 rcp85 data...:   0%|          | 0/15 [00:00<?, ?it/s]"
      ]
     },
     "metadata": {},
     "output_type": "display_data"
    },
    {
     "data": {
      "application/vnd.jupyter.widget-view+json": {
       "model_id": "45744366a5184657995ac563f3afea44",
       "version_major": 2,
       "version_minor": 0
      },
      "text/plain": [
       "Processing 1950s:   0%|          | 0/5 [00:00<?, ?it/s]"
      ]
     },
     "metadata": {},
     "output_type": "display_data"
    },
    {
     "data": {
      "application/vnd.jupyter.widget-view+json": {
       "model_id": "5984de6dbfcb4759aac3a5fd616fdd2e",
       "version_major": 2,
       "version_minor": 0
      },
      "text/plain": [
       "Processing 1960s:   0%|          | 0/5 [00:00<?, ?it/s]"
      ]
     },
     "metadata": {},
     "output_type": "display_data"
    },
    {
     "data": {
      "application/vnd.jupyter.widget-view+json": {
       "model_id": "a53ea821a85f43fd9ee0ec24c2ce003f",
       "version_major": 2,
       "version_minor": 0
      },
      "text/plain": [
       "Processing 1970s:   0%|          | 0/5 [00:00<?, ?it/s]"
      ]
     },
     "metadata": {},
     "output_type": "display_data"
    },
    {
     "data": {
      "application/vnd.jupyter.widget-view+json": {
       "model_id": "642cf633d62441cebcb4ffa0f2b6ad10",
       "version_major": 2,
       "version_minor": 0
      },
      "text/plain": [
       "Processing 1980s:   0%|          | 0/5 [00:00<?, ?it/s]"
      ]
     },
     "metadata": {},
     "output_type": "display_data"
    },
    {
     "data": {
      "application/vnd.jupyter.widget-view+json": {
       "model_id": "ff7e2ce2bb38450181c70af0ae6a0919",
       "version_major": 2,
       "version_minor": 0
      },
      "text/plain": [
       "Processing 1990s:   0%|          | 0/5 [00:00<?, ?it/s]"
      ]
     },
     "metadata": {},
     "output_type": "display_data"
    },
    {
     "data": {
      "application/vnd.jupyter.widget-view+json": {
       "model_id": "b926c5438a6a4800b1e78eb06933efc5",
       "version_major": 2,
       "version_minor": 0
      },
      "text/plain": [
       "Processing 2000s:   0%|          | 0/5 [00:00<?, ?it/s]"
      ]
     },
     "metadata": {},
     "output_type": "display_data"
    },
    {
     "data": {
      "application/vnd.jupyter.widget-view+json": {
       "model_id": "951b3086eed24c7481197e8b40e24050",
       "version_major": 2,
       "version_minor": 0
      },
      "text/plain": [
       "Processing 2010s:   0%|          | 0/5 [00:00<?, ?it/s]"
      ]
     },
     "metadata": {},
     "output_type": "display_data"
    },
    {
     "data": {
      "application/vnd.jupyter.widget-view+json": {
       "model_id": "d973f39857bf4ad78304c10b800d0522",
       "version_major": 2,
       "version_minor": 0
      },
      "text/plain": [
       "Processing 2020s:   0%|          | 0/5 [00:00<?, ?it/s]"
      ]
     },
     "metadata": {},
     "output_type": "display_data"
    },
    {
     "data": {
      "application/vnd.jupyter.widget-view+json": {
       "model_id": "6744caaf1e664566bd314248bdb3d372",
       "version_major": 2,
       "version_minor": 0
      },
      "text/plain": [
       "Processing 2030s:   0%|          | 0/5 [00:00<?, ?it/s]"
      ]
     },
     "metadata": {},
     "output_type": "display_data"
    },
    {
     "data": {
      "application/vnd.jupyter.widget-view+json": {
       "model_id": "355dbe8d1b4c4d969f0ab89d481e5874",
       "version_major": 2,
       "version_minor": 0
      },
      "text/plain": [
       "Processing 2040s:   0%|          | 0/5 [00:00<?, ?it/s]"
      ]
     },
     "metadata": {},
     "output_type": "display_data"
    },
    {
     "data": {
      "application/vnd.jupyter.widget-view+json": {
       "model_id": "786a7d6570ad4b17a46b983c92eaba8e",
       "version_major": 2,
       "version_minor": 0
      },
      "text/plain": [
       "Processing 2050s:   0%|          | 0/5 [00:00<?, ?it/s]"
      ]
     },
     "metadata": {},
     "output_type": "display_data"
    },
    {
     "data": {
      "application/vnd.jupyter.widget-view+json": {
       "model_id": "37624bb409e24613aaa84ae1949258ee",
       "version_major": 2,
       "version_minor": 0
      },
      "text/plain": [
       "Processing 2060s:   0%|          | 0/5 [00:00<?, ?it/s]"
      ]
     },
     "metadata": {},
     "output_type": "display_data"
    },
    {
     "data": {
      "application/vnd.jupyter.widget-view+json": {
       "model_id": "b9f5835af1be4ef68eb755e4b4152b29",
       "version_major": 2,
       "version_minor": 0
      },
      "text/plain": [
       "Processing 2070s:   0%|          | 0/5 [00:00<?, ?it/s]"
      ]
     },
     "metadata": {},
     "output_type": "display_data"
    },
    {
     "data": {
      "application/vnd.jupyter.widget-view+json": {
       "model_id": "5971cbbf891a49d18b6eb3cc5fc32191",
       "version_major": 2,
       "version_minor": 0
      },
      "text/plain": [
       "Processing 2080s:   0%|          | 0/5 [00:00<?, ?it/s]"
      ]
     },
     "metadata": {},
     "output_type": "display_data"
    },
    {
     "data": {
      "application/vnd.jupyter.widget-view+json": {
       "model_id": "3a7b5428e43842c6a0c5406041efd240",
       "version_major": 2,
       "version_minor": 0
      },
      "text/plain": [
       "Processing 2090s:   0%|          | 0/5 [00:00<?, ?it/s]"
      ]
     },
     "metadata": {},
     "output_type": "display_data"
    },
    {
     "data": {
      "application/vnd.jupyter.widget-view+json": {
       "model_id": "ba38ee439845433b87c9df2632f1da17",
       "version_major": 2,
       "version_minor": 0
      },
      "text/plain": [
       "Processing CSIRO-Mk3-6-0 rcp45 data...:   0%|          | 0/15 [00:00<?, ?it/s]"
      ]
     },
     "metadata": {},
     "output_type": "display_data"
    },
    {
     "data": {
      "application/vnd.jupyter.widget-view+json": {
       "model_id": "61f412f4bb7d4aa1afc407b84b6d366d",
       "version_major": 2,
       "version_minor": 0
      },
      "text/plain": [
       "Processing 1950s:   0%|          | 0/5 [00:00<?, ?it/s]"
      ]
     },
     "metadata": {},
     "output_type": "display_data"
    },
    {
     "data": {
      "application/vnd.jupyter.widget-view+json": {
       "model_id": "e51eeacd1335485383b4b075ecec7127",
       "version_major": 2,
       "version_minor": 0
      },
      "text/plain": [
       "Processing 1960s:   0%|          | 0/5 [00:00<?, ?it/s]"
      ]
     },
     "metadata": {},
     "output_type": "display_data"
    },
    {
     "data": {
      "application/vnd.jupyter.widget-view+json": {
       "model_id": "7afdb7beff244ae2890329da12a20fe5",
       "version_major": 2,
       "version_minor": 0
      },
      "text/plain": [
       "Processing 1970s:   0%|          | 0/5 [00:00<?, ?it/s]"
      ]
     },
     "metadata": {},
     "output_type": "display_data"
    },
    {
     "data": {
      "application/vnd.jupyter.widget-view+json": {
       "model_id": "39bbe59557904d0dbfa342021258377c",
       "version_major": 2,
       "version_minor": 0
      },
      "text/plain": [
       "Processing 1980s:   0%|          | 0/5 [00:00<?, ?it/s]"
      ]
     },
     "metadata": {},
     "output_type": "display_data"
    },
    {
     "data": {
      "application/vnd.jupyter.widget-view+json": {
       "model_id": "ff6b350ca1524f22a40153b8703aca74",
       "version_major": 2,
       "version_minor": 0
      },
      "text/plain": [
       "Processing 1990s:   0%|          | 0/5 [00:00<?, ?it/s]"
      ]
     },
     "metadata": {},
     "output_type": "display_data"
    },
    {
     "data": {
      "application/vnd.jupyter.widget-view+json": {
       "model_id": "0bfa50d382614909b8e57a8a4e66a8f1",
       "version_major": 2,
       "version_minor": 0
      },
      "text/plain": [
       "Processing 2000s:   0%|          | 0/5 [00:00<?, ?it/s]"
      ]
     },
     "metadata": {},
     "output_type": "display_data"
    },
    {
     "data": {
      "application/vnd.jupyter.widget-view+json": {
       "model_id": "b15a38013c124eeba04d2adfdbef2a02",
       "version_major": 2,
       "version_minor": 0
      },
      "text/plain": [
       "Processing 2010s:   0%|          | 0/5 [00:00<?, ?it/s]"
      ]
     },
     "metadata": {},
     "output_type": "display_data"
    },
    {
     "data": {
      "application/vnd.jupyter.widget-view+json": {
       "model_id": "45ea60530d6d425b8025415b8b1091fa",
       "version_major": 2,
       "version_minor": 0
      },
      "text/plain": [
       "Processing 2020s:   0%|          | 0/5 [00:00<?, ?it/s]"
      ]
     },
     "metadata": {},
     "output_type": "display_data"
    },
    {
     "data": {
      "application/vnd.jupyter.widget-view+json": {
       "model_id": "eded7e7ecdb94993b68e1692b24457b1",
       "version_major": 2,
       "version_minor": 0
      },
      "text/plain": [
       "Processing 2030s:   0%|          | 0/5 [00:00<?, ?it/s]"
      ]
     },
     "metadata": {},
     "output_type": "display_data"
    },
    {
     "data": {
      "application/vnd.jupyter.widget-view+json": {
       "model_id": "5c811bfd3c5743faa883987cf4d0b0be",
       "version_major": 2,
       "version_minor": 0
      },
      "text/plain": [
       "Processing 2040s:   0%|          | 0/5 [00:00<?, ?it/s]"
      ]
     },
     "metadata": {},
     "output_type": "display_data"
    },
    {
     "data": {
      "application/vnd.jupyter.widget-view+json": {
       "model_id": "c6251a0ad44f47c984ff987c811dce7c",
       "version_major": 2,
       "version_minor": 0
      },
      "text/plain": [
       "Processing 2050s:   0%|          | 0/5 [00:00<?, ?it/s]"
      ]
     },
     "metadata": {},
     "output_type": "display_data"
    },
    {
     "data": {
      "application/vnd.jupyter.widget-view+json": {
       "model_id": "766c334ee59b415f8724b642eb2b2163",
       "version_major": 2,
       "version_minor": 0
      },
      "text/plain": [
       "Processing 2060s:   0%|          | 0/5 [00:00<?, ?it/s]"
      ]
     },
     "metadata": {},
     "output_type": "display_data"
    },
    {
     "data": {
      "application/vnd.jupyter.widget-view+json": {
       "model_id": "21d0f049db36434abc65837161b9211b",
       "version_major": 2,
       "version_minor": 0
      },
      "text/plain": [
       "Processing 2070s:   0%|          | 0/5 [00:00<?, ?it/s]"
      ]
     },
     "metadata": {},
     "output_type": "display_data"
    },
    {
     "data": {
      "application/vnd.jupyter.widget-view+json": {
       "model_id": "e038940a1e914552a19a0ea7fe295598",
       "version_major": 2,
       "version_minor": 0
      },
      "text/plain": [
       "Processing 2080s:   0%|          | 0/5 [00:00<?, ?it/s]"
      ]
     },
     "metadata": {},
     "output_type": "display_data"
    },
    {
     "data": {
      "application/vnd.jupyter.widget-view+json": {
       "model_id": "b9299f155062478d94e8062e6454e5e9",
       "version_major": 2,
       "version_minor": 0
      },
      "text/plain": [
       "Processing 2090s:   0%|          | 0/5 [00:00<?, ?it/s]"
      ]
     },
     "metadata": {},
     "output_type": "display_data"
    },
    {
     "data": {
      "application/vnd.jupyter.widget-view+json": {
       "model_id": "9afd23e30f6a4e59a999b0a2bbaf1c66",
       "version_major": 2,
       "version_minor": 0
      },
      "text/plain": [
       "Processing CSIRO-Mk3-6-0 rcp85 data...:   0%|          | 0/15 [00:00<?, ?it/s]"
      ]
     },
     "metadata": {},
     "output_type": "display_data"
    },
    {
     "data": {
      "application/vnd.jupyter.widget-view+json": {
       "model_id": "757d7a5142d54847b8e2f34fdb3b446e",
       "version_major": 2,
       "version_minor": 0
      },
      "text/plain": [
       "Processing 1950s:   0%|          | 0/5 [00:00<?, ?it/s]"
      ]
     },
     "metadata": {},
     "output_type": "display_data"
    },
    {
     "data": {
      "application/vnd.jupyter.widget-view+json": {
       "model_id": "5a1b96dd33c94a3a98618bc8485f5f52",
       "version_major": 2,
       "version_minor": 0
      },
      "text/plain": [
       "Processing 1960s:   0%|          | 0/5 [00:00<?, ?it/s]"
      ]
     },
     "metadata": {},
     "output_type": "display_data"
    },
    {
     "data": {
      "application/vnd.jupyter.widget-view+json": {
       "model_id": "63d869b1b8cd4d2483e0cefe89599166",
       "version_major": 2,
       "version_minor": 0
      },
      "text/plain": [
       "Processing 1970s:   0%|          | 0/5 [00:00<?, ?it/s]"
      ]
     },
     "metadata": {},
     "output_type": "display_data"
    },
    {
     "data": {
      "application/vnd.jupyter.widget-view+json": {
       "model_id": "e722591aace5452d876ce936a28809f8",
       "version_major": 2,
       "version_minor": 0
      },
      "text/plain": [
       "Processing 1980s:   0%|          | 0/5 [00:00<?, ?it/s]"
      ]
     },
     "metadata": {},
     "output_type": "display_data"
    },
    {
     "data": {
      "application/vnd.jupyter.widget-view+json": {
       "model_id": "58479aeff9884d75a772cc4a060d8d09",
       "version_major": 2,
       "version_minor": 0
      },
      "text/plain": [
       "Processing 1990s:   0%|          | 0/5 [00:00<?, ?it/s]"
      ]
     },
     "metadata": {},
     "output_type": "display_data"
    },
    {
     "data": {
      "application/vnd.jupyter.widget-view+json": {
       "model_id": "6ad71395df9948e28cc98ed39a38aa56",
       "version_major": 2,
       "version_minor": 0
      },
      "text/plain": [
       "Processing 2000s:   0%|          | 0/5 [00:00<?, ?it/s]"
      ]
     },
     "metadata": {},
     "output_type": "display_data"
    },
    {
     "data": {
      "application/vnd.jupyter.widget-view+json": {
       "model_id": "e08e9bdcfe3146cfb104ccef0805d94b",
       "version_major": 2,
       "version_minor": 0
      },
      "text/plain": [
       "Processing 2010s:   0%|          | 0/5 [00:00<?, ?it/s]"
      ]
     },
     "metadata": {},
     "output_type": "display_data"
    },
    {
     "data": {
      "application/vnd.jupyter.widget-view+json": {
       "model_id": "754f73c2b38846028b2e48c25a31d959",
       "version_major": 2,
       "version_minor": 0
      },
      "text/plain": [
       "Processing 2020s:   0%|          | 0/5 [00:00<?, ?it/s]"
      ]
     },
     "metadata": {},
     "output_type": "display_data"
    },
    {
     "data": {
      "application/vnd.jupyter.widget-view+json": {
       "model_id": "71e7f28905a14c20941480562e01ce60",
       "version_major": 2,
       "version_minor": 0
      },
      "text/plain": [
       "Processing 2030s:   0%|          | 0/5 [00:00<?, ?it/s]"
      ]
     },
     "metadata": {},
     "output_type": "display_data"
    },
    {
     "data": {
      "application/vnd.jupyter.widget-view+json": {
       "model_id": "c5ef9bdae51049fe972fe7dee89df35b",
       "version_major": 2,
       "version_minor": 0
      },
      "text/plain": [
       "Processing 2040s:   0%|          | 0/5 [00:00<?, ?it/s]"
      ]
     },
     "metadata": {},
     "output_type": "display_data"
    },
    {
     "data": {
      "application/vnd.jupyter.widget-view+json": {
       "model_id": "57e9d4cc76134efdbd59864403bd5930",
       "version_major": 2,
       "version_minor": 0
      },
      "text/plain": [
       "Processing 2050s:   0%|          | 0/5 [00:00<?, ?it/s]"
      ]
     },
     "metadata": {},
     "output_type": "display_data"
    },
    {
     "data": {
      "application/vnd.jupyter.widget-view+json": {
       "model_id": "cb1df34c6bef45cd9521c4ba0d4cdba5",
       "version_major": 2,
       "version_minor": 0
      },
      "text/plain": [
       "Processing 2060s:   0%|          | 0/5 [00:00<?, ?it/s]"
      ]
     },
     "metadata": {},
     "output_type": "display_data"
    },
    {
     "data": {
      "application/vnd.jupyter.widget-view+json": {
       "model_id": "7e27f6b99d5d48fbb2a2585e13dd40a4",
       "version_major": 2,
       "version_minor": 0
      },
      "text/plain": [
       "Processing 2070s:   0%|          | 0/5 [00:00<?, ?it/s]"
      ]
     },
     "metadata": {},
     "output_type": "display_data"
    },
    {
     "data": {
      "application/vnd.jupyter.widget-view+json": {
       "model_id": "1c3b06c5dea84a75bf7026bd99c98250",
       "version_major": 2,
       "version_minor": 0
      },
      "text/plain": [
       "Processing 2080s:   0%|          | 0/5 [00:00<?, ?it/s]"
      ]
     },
     "metadata": {},
     "output_type": "display_data"
    },
    {
     "data": {
      "application/vnd.jupyter.widget-view+json": {
       "model_id": "dda1cf77eb3142c9aeb798d06131612f",
       "version_major": 2,
       "version_minor": 0
      },
      "text/plain": [
       "Processing 2090s:   0%|          | 0/5 [00:00<?, ?it/s]"
      ]
     },
     "metadata": {},
     "output_type": "display_data"
    },
    {
     "data": {
      "application/vnd.jupyter.widget-view+json": {
       "model_id": "21462ef2750546c496f1a78f89413fef",
       "version_major": 2,
       "version_minor": 0
      },
      "text/plain": [
       "Processing GFDL-ESM2M rcp45 data...:   0%|          | 0/15 [00:00<?, ?it/s]"
      ]
     },
     "metadata": {},
     "output_type": "display_data"
    },
    {
     "data": {
      "application/vnd.jupyter.widget-view+json": {
       "model_id": "9a892ccf972c4174bc08d39b0171aa25",
       "version_major": 2,
       "version_minor": 0
      },
      "text/plain": [
       "Processing 1950s:   0%|          | 0/5 [00:00<?, ?it/s]"
      ]
     },
     "metadata": {},
     "output_type": "display_data"
    },
    {
     "data": {
      "application/vnd.jupyter.widget-view+json": {
       "model_id": "95083bde50664297afc4be69ba675d68",
       "version_major": 2,
       "version_minor": 0
      },
      "text/plain": [
       "Processing 1960s:   0%|          | 0/5 [00:00<?, ?it/s]"
      ]
     },
     "metadata": {},
     "output_type": "display_data"
    },
    {
     "data": {
      "application/vnd.jupyter.widget-view+json": {
       "model_id": "eedb0395e62f4da58e58b22cf8ba0507",
       "version_major": 2,
       "version_minor": 0
      },
      "text/plain": [
       "Processing 1970s:   0%|          | 0/5 [00:00<?, ?it/s]"
      ]
     },
     "metadata": {},
     "output_type": "display_data"
    },
    {
     "data": {
      "application/vnd.jupyter.widget-view+json": {
       "model_id": "d3a2260c5f9c445197227eaf87cf4eea",
       "version_major": 2,
       "version_minor": 0
      },
      "text/plain": [
       "Processing 1980s:   0%|          | 0/5 [00:00<?, ?it/s]"
      ]
     },
     "metadata": {},
     "output_type": "display_data"
    },
    {
     "data": {
      "application/vnd.jupyter.widget-view+json": {
       "model_id": "593da76f354b41b18149af3709e42cab",
       "version_major": 2,
       "version_minor": 0
      },
      "text/plain": [
       "Processing 1990s:   0%|          | 0/5 [00:00<?, ?it/s]"
      ]
     },
     "metadata": {},
     "output_type": "display_data"
    },
    {
     "data": {
      "application/vnd.jupyter.widget-view+json": {
       "model_id": "dff47a66cd584aee994f6689002a1ae8",
       "version_major": 2,
       "version_minor": 0
      },
      "text/plain": [
       "Processing 2000s:   0%|          | 0/5 [00:00<?, ?it/s]"
      ]
     },
     "metadata": {},
     "output_type": "display_data"
    },
    {
     "data": {
      "application/vnd.jupyter.widget-view+json": {
       "model_id": "d060e4c5ae5348f399e4a3b3857fe234",
       "version_major": 2,
       "version_minor": 0
      },
      "text/plain": [
       "Processing 2010s:   0%|          | 0/5 [00:00<?, ?it/s]"
      ]
     },
     "metadata": {},
     "output_type": "display_data"
    },
    {
     "data": {
      "application/vnd.jupyter.widget-view+json": {
       "model_id": "3c0bd6e99bf24124906de5ba1f01e177",
       "version_major": 2,
       "version_minor": 0
      },
      "text/plain": [
       "Processing 2020s:   0%|          | 0/5 [00:00<?, ?it/s]"
      ]
     },
     "metadata": {},
     "output_type": "display_data"
    },
    {
     "data": {
      "application/vnd.jupyter.widget-view+json": {
       "model_id": "7d0bf212683d4f23b558f553723a4472",
       "version_major": 2,
       "version_minor": 0
      },
      "text/plain": [
       "Processing 2030s:   0%|          | 0/5 [00:00<?, ?it/s]"
      ]
     },
     "metadata": {},
     "output_type": "display_data"
    },
    {
     "data": {
      "application/vnd.jupyter.widget-view+json": {
       "model_id": "8fad9437cce3456181724b0a8b94d668",
       "version_major": 2,
       "version_minor": 0
      },
      "text/plain": [
       "Processing 2040s:   0%|          | 0/5 [00:00<?, ?it/s]"
      ]
     },
     "metadata": {},
     "output_type": "display_data"
    },
    {
     "data": {
      "application/vnd.jupyter.widget-view+json": {
       "model_id": "d4f22cc0c4cf496ca1761bd883d4ae63",
       "version_major": 2,
       "version_minor": 0
      },
      "text/plain": [
       "Processing 2050s:   0%|          | 0/5 [00:00<?, ?it/s]"
      ]
     },
     "metadata": {},
     "output_type": "display_data"
    },
    {
     "data": {
      "application/vnd.jupyter.widget-view+json": {
       "model_id": "2c4acceab67644a5aa2ddb621ed63999",
       "version_major": 2,
       "version_minor": 0
      },
      "text/plain": [
       "Processing 2060s:   0%|          | 0/5 [00:00<?, ?it/s]"
      ]
     },
     "metadata": {},
     "output_type": "display_data"
    },
    {
     "data": {
      "application/vnd.jupyter.widget-view+json": {
       "model_id": "1d62c41424614f2ea5b7a88e6661e31b",
       "version_major": 2,
       "version_minor": 0
      },
      "text/plain": [
       "Processing 2070s:   0%|          | 0/5 [00:00<?, ?it/s]"
      ]
     },
     "metadata": {},
     "output_type": "display_data"
    },
    {
     "data": {
      "application/vnd.jupyter.widget-view+json": {
       "model_id": "542908045287449f9745132fd8850d69",
       "version_major": 2,
       "version_minor": 0
      },
      "text/plain": [
       "Processing 2080s:   0%|          | 0/5 [00:00<?, ?it/s]"
      ]
     },
     "metadata": {},
     "output_type": "display_data"
    },
    {
     "data": {
      "application/vnd.jupyter.widget-view+json": {
       "model_id": "ca374edc39624c4baf3fefd1ab476166",
       "version_major": 2,
       "version_minor": 0
      },
      "text/plain": [
       "Processing 2090s:   0%|          | 0/5 [00:00<?, ?it/s]"
      ]
     },
     "metadata": {},
     "output_type": "display_data"
    },
    {
     "data": {
      "application/vnd.jupyter.widget-view+json": {
       "model_id": "dd6f9a547e484895a3de69b6714c9159",
       "version_major": 2,
       "version_minor": 0
      },
      "text/plain": [
       "Processing GFDL-ESM2M rcp85 data...:   0%|          | 0/15 [00:00<?, ?it/s]"
      ]
     },
     "metadata": {},
     "output_type": "display_data"
    },
    {
     "data": {
      "application/vnd.jupyter.widget-view+json": {
       "model_id": "559797da4701468eaf0c099554588a1e",
       "version_major": 2,
       "version_minor": 0
      },
      "text/plain": [
       "Processing 1950s:   0%|          | 0/5 [00:00<?, ?it/s]"
      ]
     },
     "metadata": {},
     "output_type": "display_data"
    },
    {
     "data": {
      "application/vnd.jupyter.widget-view+json": {
       "model_id": "b6862ea9874341838b631c77f48f79b5",
       "version_major": 2,
       "version_minor": 0
      },
      "text/plain": [
       "Processing 1960s:   0%|          | 0/5 [00:00<?, ?it/s]"
      ]
     },
     "metadata": {},
     "output_type": "display_data"
    },
    {
     "data": {
      "application/vnd.jupyter.widget-view+json": {
       "model_id": "d70334c0bf0348328aa5843f87f47b1e",
       "version_major": 2,
       "version_minor": 0
      },
      "text/plain": [
       "Processing 1970s:   0%|          | 0/5 [00:00<?, ?it/s]"
      ]
     },
     "metadata": {},
     "output_type": "display_data"
    },
    {
     "data": {
      "application/vnd.jupyter.widget-view+json": {
       "model_id": "39959e08f1da4e9c8988fcf5610c5e21",
       "version_major": 2,
       "version_minor": 0
      },
      "text/plain": [
       "Processing 1980s:   0%|          | 0/5 [00:00<?, ?it/s]"
      ]
     },
     "metadata": {},
     "output_type": "display_data"
    },
    {
     "data": {
      "application/vnd.jupyter.widget-view+json": {
       "model_id": "8ca1443eaacb490d89b74c3878817bb9",
       "version_major": 2,
       "version_minor": 0
      },
      "text/plain": [
       "Processing 1990s:   0%|          | 0/5 [00:00<?, ?it/s]"
      ]
     },
     "metadata": {},
     "output_type": "display_data"
    },
    {
     "data": {
      "application/vnd.jupyter.widget-view+json": {
       "model_id": "47fe2e9895014551945c52f1e0737dc3",
       "version_major": 2,
       "version_minor": 0
      },
      "text/plain": [
       "Processing 2000s:   0%|          | 0/5 [00:00<?, ?it/s]"
      ]
     },
     "metadata": {},
     "output_type": "display_data"
    },
    {
     "data": {
      "application/vnd.jupyter.widget-view+json": {
       "model_id": "c4214084d80641868f6ead137a92764e",
       "version_major": 2,
       "version_minor": 0
      },
      "text/plain": [
       "Processing 2010s:   0%|          | 0/5 [00:00<?, ?it/s]"
      ]
     },
     "metadata": {},
     "output_type": "display_data"
    },
    {
     "data": {
      "application/vnd.jupyter.widget-view+json": {
       "model_id": "e0b3bce406cc43aebaacaaa4986c0fd1",
       "version_major": 2,
       "version_minor": 0
      },
      "text/plain": [
       "Processing 2020s:   0%|          | 0/5 [00:00<?, ?it/s]"
      ]
     },
     "metadata": {},
     "output_type": "display_data"
    },
    {
     "data": {
      "application/vnd.jupyter.widget-view+json": {
       "model_id": "26f69f4fc718464b801b19cda401b298",
       "version_major": 2,
       "version_minor": 0
      },
      "text/plain": [
       "Processing 2030s:   0%|          | 0/5 [00:00<?, ?it/s]"
      ]
     },
     "metadata": {},
     "output_type": "display_data"
    },
    {
     "data": {
      "application/vnd.jupyter.widget-view+json": {
       "model_id": "6d45fd4338234862a63c80cccbd1bdeb",
       "version_major": 2,
       "version_minor": 0
      },
      "text/plain": [
       "Processing 2040s:   0%|          | 0/5 [00:00<?, ?it/s]"
      ]
     },
     "metadata": {},
     "output_type": "display_data"
    },
    {
     "data": {
      "application/vnd.jupyter.widget-view+json": {
       "model_id": "6327aee3946046429dff184d1267c9d6",
       "version_major": 2,
       "version_minor": 0
      },
      "text/plain": [
       "Processing 2050s:   0%|          | 0/5 [00:00<?, ?it/s]"
      ]
     },
     "metadata": {},
     "output_type": "display_data"
    },
    {
     "data": {
      "application/vnd.jupyter.widget-view+json": {
       "model_id": "b3477fe43f9c49f187c9bf449d93974c",
       "version_major": 2,
       "version_minor": 0
      },
      "text/plain": [
       "Processing 2060s:   0%|          | 0/5 [00:00<?, ?it/s]"
      ]
     },
     "metadata": {},
     "output_type": "display_data"
    },
    {
     "data": {
      "application/vnd.jupyter.widget-view+json": {
       "model_id": "9ff9bb5921f3473c9fd2e0e00da4f7fb",
       "version_major": 2,
       "version_minor": 0
      },
      "text/plain": [
       "Processing 2070s:   0%|          | 0/5 [00:00<?, ?it/s]"
      ]
     },
     "metadata": {},
     "output_type": "display_data"
    },
    {
     "data": {
      "application/vnd.jupyter.widget-view+json": {
       "model_id": "284275d7061a4ebb89b7d432baffda15",
       "version_major": 2,
       "version_minor": 0
      },
      "text/plain": [
       "Processing 2080s:   0%|          | 0/5 [00:00<?, ?it/s]"
      ]
     },
     "metadata": {},
     "output_type": "display_data"
    },
    {
     "data": {
      "application/vnd.jupyter.widget-view+json": {
       "model_id": "dfc48f19fc9f448c98e889cb5c20d279",
       "version_major": 2,
       "version_minor": 0
      },
      "text/plain": [
       "Processing 2090s:   0%|          | 0/5 [00:00<?, ?it/s]"
      ]
     },
     "metadata": {},
     "output_type": "display_data"
    },
    {
     "data": {
      "application/vnd.jupyter.widget-view+json": {
       "model_id": "2be8ab77073b46f8bc2fea42b41c45ea",
       "version_major": 2,
       "version_minor": 0
      },
      "text/plain": [
       "Processing HadGEM2-ES rcp45 data...:   0%|          | 0/15 [00:00<?, ?it/s]"
      ]
     },
     "metadata": {},
     "output_type": "display_data"
    },
    {
     "data": {
      "application/vnd.jupyter.widget-view+json": {
       "model_id": "d7d09d3285dd4136a746057001c95faa",
       "version_major": 2,
       "version_minor": 0
      },
      "text/plain": [
       "Processing 1950s:   0%|          | 0/5 [00:00<?, ?it/s]"
      ]
     },
     "metadata": {},
     "output_type": "display_data"
    },
    {
     "data": {
      "application/vnd.jupyter.widget-view+json": {
       "model_id": "06b6ea375b7b4e2ab5d377743c43d1d4",
       "version_major": 2,
       "version_minor": 0
      },
      "text/plain": [
       "Processing 1960s:   0%|          | 0/5 [00:00<?, ?it/s]"
      ]
     },
     "metadata": {},
     "output_type": "display_data"
    },
    {
     "data": {
      "application/vnd.jupyter.widget-view+json": {
       "model_id": "dcb0e399e4ab458c8e9ae2844a2553dc",
       "version_major": 2,
       "version_minor": 0
      },
      "text/plain": [
       "Processing 1970s:   0%|          | 0/5 [00:00<?, ?it/s]"
      ]
     },
     "metadata": {},
     "output_type": "display_data"
    },
    {
     "data": {
      "application/vnd.jupyter.widget-view+json": {
       "model_id": "cf6df497094049c983f3da7a7017f252",
       "version_major": 2,
       "version_minor": 0
      },
      "text/plain": [
       "Processing 1980s:   0%|          | 0/5 [00:00<?, ?it/s]"
      ]
     },
     "metadata": {},
     "output_type": "display_data"
    },
    {
     "data": {
      "application/vnd.jupyter.widget-view+json": {
       "model_id": "fddb7a184d92471691888dface7bb685",
       "version_major": 2,
       "version_minor": 0
      },
      "text/plain": [
       "Processing 1990s:   0%|          | 0/5 [00:00<?, ?it/s]"
      ]
     },
     "metadata": {},
     "output_type": "display_data"
    },
    {
     "data": {
      "application/vnd.jupyter.widget-view+json": {
       "model_id": "7e0424e30cd64e23b43fcc14ef58e62b",
       "version_major": 2,
       "version_minor": 0
      },
      "text/plain": [
       "Processing 2000s:   0%|          | 0/5 [00:00<?, ?it/s]"
      ]
     },
     "metadata": {},
     "output_type": "display_data"
    },
    {
     "data": {
      "application/vnd.jupyter.widget-view+json": {
       "model_id": "1541dfc69c964ce98ec7fee0ecb785b3",
       "version_major": 2,
       "version_minor": 0
      },
      "text/plain": [
       "Processing 2010s:   0%|          | 0/5 [00:00<?, ?it/s]"
      ]
     },
     "metadata": {},
     "output_type": "display_data"
    },
    {
     "data": {
      "application/vnd.jupyter.widget-view+json": {
       "model_id": "08b19b94df774b1c83ecfe814628e6ec",
       "version_major": 2,
       "version_minor": 0
      },
      "text/plain": [
       "Processing 2020s:   0%|          | 0/5 [00:00<?, ?it/s]"
      ]
     },
     "metadata": {},
     "output_type": "display_data"
    },
    {
     "data": {
      "application/vnd.jupyter.widget-view+json": {
       "model_id": "a1929dbfdc264940ac99250ee55f29a4",
       "version_major": 2,
       "version_minor": 0
      },
      "text/plain": [
       "Processing 2030s:   0%|          | 0/5 [00:00<?, ?it/s]"
      ]
     },
     "metadata": {},
     "output_type": "display_data"
    },
    {
     "data": {
      "application/vnd.jupyter.widget-view+json": {
       "model_id": "d4e57ef3908740b490dfdb3f42aa051f",
       "version_major": 2,
       "version_minor": 0
      },
      "text/plain": [
       "Processing 2040s:   0%|          | 0/5 [00:00<?, ?it/s]"
      ]
     },
     "metadata": {},
     "output_type": "display_data"
    },
    {
     "data": {
      "application/vnd.jupyter.widget-view+json": {
       "model_id": "6fe8a49c5cd94e8bb2a1a7accd4421cd",
       "version_major": 2,
       "version_minor": 0
      },
      "text/plain": [
       "Processing 2050s:   0%|          | 0/5 [00:00<?, ?it/s]"
      ]
     },
     "metadata": {},
     "output_type": "display_data"
    },
    {
     "data": {
      "application/vnd.jupyter.widget-view+json": {
       "model_id": "7447b05dbaad45a5b0d714e9dad4fd0a",
       "version_major": 2,
       "version_minor": 0
      },
      "text/plain": [
       "Processing 2060s:   0%|          | 0/5 [00:00<?, ?it/s]"
      ]
     },
     "metadata": {},
     "output_type": "display_data"
    },
    {
     "data": {
      "application/vnd.jupyter.widget-view+json": {
       "model_id": "fb9f3690780f4fb7a99d45f3c153f527",
       "version_major": 2,
       "version_minor": 0
      },
      "text/plain": [
       "Processing 2070s:   0%|          | 0/5 [00:00<?, ?it/s]"
      ]
     },
     "metadata": {},
     "output_type": "display_data"
    },
    {
     "data": {
      "application/vnd.jupyter.widget-view+json": {
       "model_id": "dd8a239bd2b24b379a2c2252d82bbe4d",
       "version_major": 2,
       "version_minor": 0
      },
      "text/plain": [
       "Processing 2080s:   0%|          | 0/5 [00:00<?, ?it/s]"
      ]
     },
     "metadata": {},
     "output_type": "display_data"
    },
    {
     "data": {
      "application/vnd.jupyter.widget-view+json": {
       "model_id": "07e7554a66ba4bf78f89a76bfe8f4415",
       "version_major": 2,
       "version_minor": 0
      },
      "text/plain": [
       "Processing 2090s:   0%|          | 0/5 [00:00<?, ?it/s]"
      ]
     },
     "metadata": {},
     "output_type": "display_data"
    },
    {
     "data": {
      "application/vnd.jupyter.widget-view+json": {
       "model_id": "472bfed4d71b49fda60bf138d7f22d27",
       "version_major": 2,
       "version_minor": 0
      },
      "text/plain": [
       "Processing HadGEM2-ES rcp85 data...:   0%|          | 0/15 [00:00<?, ?it/s]"
      ]
     },
     "metadata": {},
     "output_type": "display_data"
    },
    {
     "data": {
      "application/vnd.jupyter.widget-view+json": {
       "model_id": "beb1789bcf004392b724efaffa773da8",
       "version_major": 2,
       "version_minor": 0
      },
      "text/plain": [
       "Processing 1950s:   0%|          | 0/5 [00:00<?, ?it/s]"
      ]
     },
     "metadata": {},
     "output_type": "display_data"
    },
    {
     "data": {
      "application/vnd.jupyter.widget-view+json": {
       "model_id": "885628ba856645dab6c82dd72ca12e9a",
       "version_major": 2,
       "version_minor": 0
      },
      "text/plain": [
       "Processing 1960s:   0%|          | 0/5 [00:00<?, ?it/s]"
      ]
     },
     "metadata": {},
     "output_type": "display_data"
    },
    {
     "data": {
      "application/vnd.jupyter.widget-view+json": {
       "model_id": "58237bf9aebf4e44a6654341110d9376",
       "version_major": 2,
       "version_minor": 0
      },
      "text/plain": [
       "Processing 1970s:   0%|          | 0/5 [00:00<?, ?it/s]"
      ]
     },
     "metadata": {},
     "output_type": "display_data"
    },
    {
     "data": {
      "application/vnd.jupyter.widget-view+json": {
       "model_id": "20f84773e22642a6b6ff2e9296fa24d9",
       "version_major": 2,
       "version_minor": 0
      },
      "text/plain": [
       "Processing 1980s:   0%|          | 0/5 [00:00<?, ?it/s]"
      ]
     },
     "metadata": {},
     "output_type": "display_data"
    },
    {
     "data": {
      "application/vnd.jupyter.widget-view+json": {
       "model_id": "5487b006169740e9a7575755db48db78",
       "version_major": 2,
       "version_minor": 0
      },
      "text/plain": [
       "Processing 1990s:   0%|          | 0/5 [00:00<?, ?it/s]"
      ]
     },
     "metadata": {},
     "output_type": "display_data"
    },
    {
     "data": {
      "application/vnd.jupyter.widget-view+json": {
       "model_id": "9f2d4e8892f544558ba3be649b362e3f",
       "version_major": 2,
       "version_minor": 0
      },
      "text/plain": [
       "Processing 2000s:   0%|          | 0/5 [00:00<?, ?it/s]"
      ]
     },
     "metadata": {},
     "output_type": "display_data"
    },
    {
     "data": {
      "application/vnd.jupyter.widget-view+json": {
       "model_id": "4bb5238513c341e9a0f6b556cdc21641",
       "version_major": 2,
       "version_minor": 0
      },
      "text/plain": [
       "Processing 2010s:   0%|          | 0/5 [00:00<?, ?it/s]"
      ]
     },
     "metadata": {},
     "output_type": "display_data"
    },
    {
     "data": {
      "application/vnd.jupyter.widget-view+json": {
       "model_id": "2cb6628761b94f89b97a8d8bfa9a6e33",
       "version_major": 2,
       "version_minor": 0
      },
      "text/plain": [
       "Processing 2020s:   0%|          | 0/5 [00:00<?, ?it/s]"
      ]
     },
     "metadata": {},
     "output_type": "display_data"
    },
    {
     "data": {
      "application/vnd.jupyter.widget-view+json": {
       "model_id": "3417e21038d44f9d89dd249bad69620c",
       "version_major": 2,
       "version_minor": 0
      },
      "text/plain": [
       "Processing 2030s:   0%|          | 0/5 [00:00<?, ?it/s]"
      ]
     },
     "metadata": {},
     "output_type": "display_data"
    },
    {
     "data": {
      "application/vnd.jupyter.widget-view+json": {
       "model_id": "f8461c730b234f79bf6024d7d733f91e",
       "version_major": 2,
       "version_minor": 0
      },
      "text/plain": [
       "Processing 2040s:   0%|          | 0/5 [00:00<?, ?it/s]"
      ]
     },
     "metadata": {},
     "output_type": "display_data"
    },
    {
     "data": {
      "application/vnd.jupyter.widget-view+json": {
       "model_id": "66f0f114b59e40c984a9a9bcf681d5c9",
       "version_major": 2,
       "version_minor": 0
      },
      "text/plain": [
       "Processing 2050s:   0%|          | 0/5 [00:00<?, ?it/s]"
      ]
     },
     "metadata": {},
     "output_type": "display_data"
    },
    {
     "data": {
      "application/vnd.jupyter.widget-view+json": {
       "model_id": "ceb81bbb7e6047af9839602e5e5240fa",
       "version_major": 2,
       "version_minor": 0
      },
      "text/plain": [
       "Processing 2060s:   0%|          | 0/5 [00:00<?, ?it/s]"
      ]
     },
     "metadata": {},
     "output_type": "display_data"
    },
    {
     "data": {
      "application/vnd.jupyter.widget-view+json": {
       "model_id": "3bb961e8ee0f4026bdb3c3e3ea78fd6a",
       "version_major": 2,
       "version_minor": 0
      },
      "text/plain": [
       "Processing 2070s:   0%|          | 0/5 [00:00<?, ?it/s]"
      ]
     },
     "metadata": {},
     "output_type": "display_data"
    },
    {
     "data": {
      "application/vnd.jupyter.widget-view+json": {
       "model_id": "98e720e17a664869be44b89b47e67d69",
       "version_major": 2,
       "version_minor": 0
      },
      "text/plain": [
       "Processing 2080s:   0%|          | 0/5 [00:00<?, ?it/s]"
      ]
     },
     "metadata": {},
     "output_type": "display_data"
    },
    {
     "data": {
      "application/vnd.jupyter.widget-view+json": {
       "model_id": "20db44d3694947da919696393777bf50",
       "version_major": 2,
       "version_minor": 0
      },
      "text/plain": [
       "Processing 2090s:   0%|          | 0/5 [00:00<?, ?it/s]"
      ]
     },
     "metadata": {},
     "output_type": "display_data"
    },
    {
     "data": {
      "application/vnd.jupyter.widget-view+json": {
       "model_id": "a9bd96a392624e4f862da85167223bc5",
       "version_major": 2,
       "version_minor": 0
      },
      "text/plain": [
       "Processing inmcm4 rcp45 data...:   0%|          | 0/15 [00:00<?, ?it/s]"
      ]
     },
     "metadata": {},
     "output_type": "display_data"
    },
    {
     "data": {
      "application/vnd.jupyter.widget-view+json": {
       "model_id": "bb077d0d6dfa43d79ad203be756df24e",
       "version_major": 2,
       "version_minor": 0
      },
      "text/plain": [
       "Processing 1950s:   0%|          | 0/5 [00:00<?, ?it/s]"
      ]
     },
     "metadata": {},
     "output_type": "display_data"
    },
    {
     "data": {
      "application/vnd.jupyter.widget-view+json": {
       "model_id": "06d6460608db4d0aa59e634914c4201f",
       "version_major": 2,
       "version_minor": 0
      },
      "text/plain": [
       "Processing 1960s:   0%|          | 0/5 [00:00<?, ?it/s]"
      ]
     },
     "metadata": {},
     "output_type": "display_data"
    },
    {
     "data": {
      "application/vnd.jupyter.widget-view+json": {
       "model_id": "7ff58bee760f4a458e71c4a0aae49c8e",
       "version_major": 2,
       "version_minor": 0
      },
      "text/plain": [
       "Processing 1970s:   0%|          | 0/5 [00:00<?, ?it/s]"
      ]
     },
     "metadata": {},
     "output_type": "display_data"
    },
    {
     "data": {
      "application/vnd.jupyter.widget-view+json": {
       "model_id": "82aa2254d47a4ff186c238f7974a6d49",
       "version_major": 2,
       "version_minor": 0
      },
      "text/plain": [
       "Processing 1980s:   0%|          | 0/5 [00:00<?, ?it/s]"
      ]
     },
     "metadata": {},
     "output_type": "display_data"
    },
    {
     "data": {
      "application/vnd.jupyter.widget-view+json": {
       "model_id": "b0023a54c92243f49e320d508dcbd201",
       "version_major": 2,
       "version_minor": 0
      },
      "text/plain": [
       "Processing 1990s:   0%|          | 0/5 [00:00<?, ?it/s]"
      ]
     },
     "metadata": {},
     "output_type": "display_data"
    },
    {
     "data": {
      "application/vnd.jupyter.widget-view+json": {
       "model_id": "e32be7b3fa404adeb64e3cc6d0588df9",
       "version_major": 2,
       "version_minor": 0
      },
      "text/plain": [
       "Processing 2000s:   0%|          | 0/5 [00:00<?, ?it/s]"
      ]
     },
     "metadata": {},
     "output_type": "display_data"
    },
    {
     "data": {
      "application/vnd.jupyter.widget-view+json": {
       "model_id": "675acb65348e4d99a6069f03c715af6c",
       "version_major": 2,
       "version_minor": 0
      },
      "text/plain": [
       "Processing 2010s:   0%|          | 0/5 [00:00<?, ?it/s]"
      ]
     },
     "metadata": {},
     "output_type": "display_data"
    },
    {
     "data": {
      "application/vnd.jupyter.widget-view+json": {
       "model_id": "2b2b1a2effc24cca958663a28d17c4af",
       "version_major": 2,
       "version_minor": 0
      },
      "text/plain": [
       "Processing 2020s:   0%|          | 0/5 [00:00<?, ?it/s]"
      ]
     },
     "metadata": {},
     "output_type": "display_data"
    },
    {
     "data": {
      "application/vnd.jupyter.widget-view+json": {
       "model_id": "a7a4cc9b0dac4b20b72da762c61b6749",
       "version_major": 2,
       "version_minor": 0
      },
      "text/plain": [
       "Processing 2030s:   0%|          | 0/5 [00:00<?, ?it/s]"
      ]
     },
     "metadata": {},
     "output_type": "display_data"
    },
    {
     "data": {
      "application/vnd.jupyter.widget-view+json": {
       "model_id": "3f286365595e48d6a62dc244c582efb2",
       "version_major": 2,
       "version_minor": 0
      },
      "text/plain": [
       "Processing 2040s:   0%|          | 0/5 [00:00<?, ?it/s]"
      ]
     },
     "metadata": {},
     "output_type": "display_data"
    },
    {
     "data": {
      "application/vnd.jupyter.widget-view+json": {
       "model_id": "c523b8be4bab4ccbb786e6141b49da7a",
       "version_major": 2,
       "version_minor": 0
      },
      "text/plain": [
       "Processing 2050s:   0%|          | 0/5 [00:00<?, ?it/s]"
      ]
     },
     "metadata": {},
     "output_type": "display_data"
    },
    {
     "data": {
      "application/vnd.jupyter.widget-view+json": {
       "model_id": "003a7ea0fd5e4d2d99fd53aab6812d2f",
       "version_major": 2,
       "version_minor": 0
      },
      "text/plain": [
       "Processing 2060s:   0%|          | 0/5 [00:00<?, ?it/s]"
      ]
     },
     "metadata": {},
     "output_type": "display_data"
    },
    {
     "data": {
      "application/vnd.jupyter.widget-view+json": {
       "model_id": "b911bf0561ea465f87fd22bc5f14e664",
       "version_major": 2,
       "version_minor": 0
      },
      "text/plain": [
       "Processing 2070s:   0%|          | 0/5 [00:00<?, ?it/s]"
      ]
     },
     "metadata": {},
     "output_type": "display_data"
    },
    {
     "data": {
      "application/vnd.jupyter.widget-view+json": {
       "model_id": "0631be68449b4128a32249c7cd3556a5",
       "version_major": 2,
       "version_minor": 0
      },
      "text/plain": [
       "Processing 2080s:   0%|          | 0/5 [00:00<?, ?it/s]"
      ]
     },
     "metadata": {},
     "output_type": "display_data"
    },
    {
     "data": {
      "application/vnd.jupyter.widget-view+json": {
       "model_id": "ef97553f47514c94bfb016319eeade19",
       "version_major": 2,
       "version_minor": 0
      },
      "text/plain": [
       "Processing 2090s:   0%|          | 0/5 [00:00<?, ?it/s]"
      ]
     },
     "metadata": {},
     "output_type": "display_data"
    },
    {
     "data": {
      "application/vnd.jupyter.widget-view+json": {
       "model_id": "ea4572f0d0ae4dbbafb1e57636a75e06",
       "version_major": 2,
       "version_minor": 0
      },
      "text/plain": [
       "Processing inmcm4 rcp85 data...:   0%|          | 0/15 [00:00<?, ?it/s]"
      ]
     },
     "metadata": {},
     "output_type": "display_data"
    },
    {
     "data": {
      "application/vnd.jupyter.widget-view+json": {
       "model_id": "e527c4a85a4e4e39b3f9079523f0f263",
       "version_major": 2,
       "version_minor": 0
      },
      "text/plain": [
       "Processing 1950s:   0%|          | 0/5 [00:00<?, ?it/s]"
      ]
     },
     "metadata": {},
     "output_type": "display_data"
    },
    {
     "data": {
      "application/vnd.jupyter.widget-view+json": {
       "model_id": "3f05033baa2c4914b5accc048cf4553f",
       "version_major": 2,
       "version_minor": 0
      },
      "text/plain": [
       "Processing 1960s:   0%|          | 0/5 [00:00<?, ?it/s]"
      ]
     },
     "metadata": {},
     "output_type": "display_data"
    },
    {
     "data": {
      "application/vnd.jupyter.widget-view+json": {
       "model_id": "67865f33cdf341c28b8261eb26ca0e12",
       "version_major": 2,
       "version_minor": 0
      },
      "text/plain": [
       "Processing 1970s:   0%|          | 0/5 [00:00<?, ?it/s]"
      ]
     },
     "metadata": {},
     "output_type": "display_data"
    },
    {
     "data": {
      "application/vnd.jupyter.widget-view+json": {
       "model_id": "f9c8efc2923f4a8fa273f96f57c281b2",
       "version_major": 2,
       "version_minor": 0
      },
      "text/plain": [
       "Processing 1980s:   0%|          | 0/5 [00:00<?, ?it/s]"
      ]
     },
     "metadata": {},
     "output_type": "display_data"
    },
    {
     "data": {
      "application/vnd.jupyter.widget-view+json": {
       "model_id": "b0944d7dc7b14bf980f745697176de51",
       "version_major": 2,
       "version_minor": 0
      },
      "text/plain": [
       "Processing 1990s:   0%|          | 0/5 [00:00<?, ?it/s]"
      ]
     },
     "metadata": {},
     "output_type": "display_data"
    },
    {
     "data": {
      "application/vnd.jupyter.widget-view+json": {
       "model_id": "5dfc767712f7412cbc886062398deacb",
       "version_major": 2,
       "version_minor": 0
      },
      "text/plain": [
       "Processing 2000s:   0%|          | 0/5 [00:00<?, ?it/s]"
      ]
     },
     "metadata": {},
     "output_type": "display_data"
    },
    {
     "data": {
      "application/vnd.jupyter.widget-view+json": {
       "model_id": "7db49663b9c4492a8fba361c17ed62a5",
       "version_major": 2,
       "version_minor": 0
      },
      "text/plain": [
       "Processing 2010s:   0%|          | 0/5 [00:00<?, ?it/s]"
      ]
     },
     "metadata": {},
     "output_type": "display_data"
    },
    {
     "data": {
      "application/vnd.jupyter.widget-view+json": {
       "model_id": "108eb7b9fb334a5ab0185add5b215c8f",
       "version_major": 2,
       "version_minor": 0
      },
      "text/plain": [
       "Processing 2020s:   0%|          | 0/5 [00:00<?, ?it/s]"
      ]
     },
     "metadata": {},
     "output_type": "display_data"
    },
    {
     "data": {
      "application/vnd.jupyter.widget-view+json": {
       "model_id": "3028b90f94d64d22ad37908d3c8a1132",
       "version_major": 2,
       "version_minor": 0
      },
      "text/plain": [
       "Processing 2030s:   0%|          | 0/5 [00:00<?, ?it/s]"
      ]
     },
     "metadata": {},
     "output_type": "display_data"
    },
    {
     "data": {
      "application/vnd.jupyter.widget-view+json": {
       "model_id": "33dbfb9695264b2c8a7c5e8d7d132dc2",
       "version_major": 2,
       "version_minor": 0
      },
      "text/plain": [
       "Processing 2040s:   0%|          | 0/5 [00:00<?, ?it/s]"
      ]
     },
     "metadata": {},
     "output_type": "display_data"
    },
    {
     "data": {
      "application/vnd.jupyter.widget-view+json": {
       "model_id": "4418fceed0db4b73a54cc274a8d90f84",
       "version_major": 2,
       "version_minor": 0
      },
      "text/plain": [
       "Processing 2050s:   0%|          | 0/5 [00:00<?, ?it/s]"
      ]
     },
     "metadata": {},
     "output_type": "display_data"
    },
    {
     "data": {
      "application/vnd.jupyter.widget-view+json": {
       "model_id": "6d80fe0b2f2e41fcbedf6a6fb44049f7",
       "version_major": 2,
       "version_minor": 0
      },
      "text/plain": [
       "Processing 2060s:   0%|          | 0/5 [00:00<?, ?it/s]"
      ]
     },
     "metadata": {},
     "output_type": "display_data"
    },
    {
     "data": {
      "application/vnd.jupyter.widget-view+json": {
       "model_id": "d373beea2a5640ed897d53ce01469ce5",
       "version_major": 2,
       "version_minor": 0
      },
      "text/plain": [
       "Processing 2070s:   0%|          | 0/5 [00:00<?, ?it/s]"
      ]
     },
     "metadata": {},
     "output_type": "display_data"
    },
    {
     "data": {
      "application/vnd.jupyter.widget-view+json": {
       "model_id": "1279c5825b024789bbead1e8cc77b45f",
       "version_major": 2,
       "version_minor": 0
      },
      "text/plain": [
       "Processing 2080s:   0%|          | 0/5 [00:00<?, ?it/s]"
      ]
     },
     "metadata": {},
     "output_type": "display_data"
    },
    {
     "data": {
      "application/vnd.jupyter.widget-view+json": {
       "model_id": "e5f91e6e327c48e791607c0f20500d18",
       "version_major": 2,
       "version_minor": 0
      },
      "text/plain": [
       "Processing 2090s:   0%|          | 0/5 [00:00<?, ?it/s]"
      ]
     },
     "metadata": {},
     "output_type": "display_data"
    },
    {
     "data": {
      "application/vnd.jupyter.widget-view+json": {
       "model_id": "b9a3ee06f50c4c5abeb34df925c9c9fe",
       "version_major": 2,
       "version_minor": 0
      },
      "text/plain": [
       "Processing MIROC5 rcp45 data...:   0%|          | 0/15 [00:00<?, ?it/s]"
      ]
     },
     "metadata": {},
     "output_type": "display_data"
    },
    {
     "data": {
      "application/vnd.jupyter.widget-view+json": {
       "model_id": "8e9730a0d9f04303adac9f73acd879fc",
       "version_major": 2,
       "version_minor": 0
      },
      "text/plain": [
       "Processing 1950s:   0%|          | 0/5 [00:00<?, ?it/s]"
      ]
     },
     "metadata": {},
     "output_type": "display_data"
    },
    {
     "data": {
      "application/vnd.jupyter.widget-view+json": {
       "model_id": "2925c2d990c44b889605034c2c98361d",
       "version_major": 2,
       "version_minor": 0
      },
      "text/plain": [
       "Processing 1960s:   0%|          | 0/5 [00:00<?, ?it/s]"
      ]
     },
     "metadata": {},
     "output_type": "display_data"
    },
    {
     "data": {
      "application/vnd.jupyter.widget-view+json": {
       "model_id": "5733cf51432a401b9101b7d4cfbf378f",
       "version_major": 2,
       "version_minor": 0
      },
      "text/plain": [
       "Processing 1970s:   0%|          | 0/5 [00:00<?, ?it/s]"
      ]
     },
     "metadata": {},
     "output_type": "display_data"
    },
    {
     "data": {
      "application/vnd.jupyter.widget-view+json": {
       "model_id": "c92040a1312e4c89b24bac35364eea79",
       "version_major": 2,
       "version_minor": 0
      },
      "text/plain": [
       "Processing 1980s:   0%|          | 0/5 [00:00<?, ?it/s]"
      ]
     },
     "metadata": {},
     "output_type": "display_data"
    },
    {
     "data": {
      "application/vnd.jupyter.widget-view+json": {
       "model_id": "4c6a8e12b62a47d483a40d6083568e8e",
       "version_major": 2,
       "version_minor": 0
      },
      "text/plain": [
       "Processing 1990s:   0%|          | 0/5 [00:00<?, ?it/s]"
      ]
     },
     "metadata": {},
     "output_type": "display_data"
    },
    {
     "data": {
      "application/vnd.jupyter.widget-view+json": {
       "model_id": "4aa5fb36c23544b185054eea0e53b24c",
       "version_major": 2,
       "version_minor": 0
      },
      "text/plain": [
       "Processing 2000s:   0%|          | 0/5 [00:00<?, ?it/s]"
      ]
     },
     "metadata": {},
     "output_type": "display_data"
    },
    {
     "data": {
      "application/vnd.jupyter.widget-view+json": {
       "model_id": "69069a38837e49c6af12f08b2c273058",
       "version_major": 2,
       "version_minor": 0
      },
      "text/plain": [
       "Processing 2010s:   0%|          | 0/5 [00:00<?, ?it/s]"
      ]
     },
     "metadata": {},
     "output_type": "display_data"
    },
    {
     "data": {
      "application/vnd.jupyter.widget-view+json": {
       "model_id": "7888b89ae6724484bb87edf0eba14ec6",
       "version_major": 2,
       "version_minor": 0
      },
      "text/plain": [
       "Processing 2020s:   0%|          | 0/5 [00:00<?, ?it/s]"
      ]
     },
     "metadata": {},
     "output_type": "display_data"
    },
    {
     "data": {
      "application/vnd.jupyter.widget-view+json": {
       "model_id": "2ecb977db24d41f1bbc82fd871ec9368",
       "version_major": 2,
       "version_minor": 0
      },
      "text/plain": [
       "Processing 2030s:   0%|          | 0/5 [00:00<?, ?it/s]"
      ]
     },
     "metadata": {},
     "output_type": "display_data"
    },
    {
     "data": {
      "application/vnd.jupyter.widget-view+json": {
       "model_id": "48fe2d8c440443d7952b633dba0a35eb",
       "version_major": 2,
       "version_minor": 0
      },
      "text/plain": [
       "Processing 2040s:   0%|          | 0/5 [00:00<?, ?it/s]"
      ]
     },
     "metadata": {},
     "output_type": "display_data"
    },
    {
     "data": {
      "application/vnd.jupyter.widget-view+json": {
       "model_id": "54917d6230b44f55b91be72290e0b7f3",
       "version_major": 2,
       "version_minor": 0
      },
      "text/plain": [
       "Processing 2050s:   0%|          | 0/5 [00:00<?, ?it/s]"
      ]
     },
     "metadata": {},
     "output_type": "display_data"
    },
    {
     "data": {
      "application/vnd.jupyter.widget-view+json": {
       "model_id": "b7e045c8d9d2426ba4fb090d266a538e",
       "version_major": 2,
       "version_minor": 0
      },
      "text/plain": [
       "Processing 2060s:   0%|          | 0/5 [00:00<?, ?it/s]"
      ]
     },
     "metadata": {},
     "output_type": "display_data"
    },
    {
     "data": {
      "application/vnd.jupyter.widget-view+json": {
       "model_id": "dc133b40639649089924652820f5abf0",
       "version_major": 2,
       "version_minor": 0
      },
      "text/plain": [
       "Processing 2070s:   0%|          | 0/5 [00:00<?, ?it/s]"
      ]
     },
     "metadata": {},
     "output_type": "display_data"
    },
    {
     "data": {
      "application/vnd.jupyter.widget-view+json": {
       "model_id": "948380b3846d416b94988c40a34fab3f",
       "version_major": 2,
       "version_minor": 0
      },
      "text/plain": [
       "Processing 2080s:   0%|          | 0/5 [00:00<?, ?it/s]"
      ]
     },
     "metadata": {},
     "output_type": "display_data"
    },
    {
     "data": {
      "application/vnd.jupyter.widget-view+json": {
       "model_id": "68f9dbaf59034b4aa1809817269257d6",
       "version_major": 2,
       "version_minor": 0
      },
      "text/plain": [
       "Processing 2090s:   0%|          | 0/5 [00:00<?, ?it/s]"
      ]
     },
     "metadata": {},
     "output_type": "display_data"
    },
    {
     "data": {
      "application/vnd.jupyter.widget-view+json": {
       "model_id": "e47c4e60288c4510a683a769742c1baa",
       "version_major": 2,
       "version_minor": 0
      },
      "text/plain": [
       "Processing MIROC5 rcp85 data...:   0%|          | 0/15 [00:00<?, ?it/s]"
      ]
     },
     "metadata": {},
     "output_type": "display_data"
    },
    {
     "data": {
      "application/vnd.jupyter.widget-view+json": {
       "model_id": "8abb8d02cb6544e8b593da0f0f535e78",
       "version_major": 2,
       "version_minor": 0
      },
      "text/plain": [
       "Processing 1950s:   0%|          | 0/5 [00:00<?, ?it/s]"
      ]
     },
     "metadata": {},
     "output_type": "display_data"
    },
    {
     "data": {
      "application/vnd.jupyter.widget-view+json": {
       "model_id": "10797d9f33b449a9b60e21f08fda8cf5",
       "version_major": 2,
       "version_minor": 0
      },
      "text/plain": [
       "Processing 1960s:   0%|          | 0/5 [00:00<?, ?it/s]"
      ]
     },
     "metadata": {},
     "output_type": "display_data"
    },
    {
     "data": {
      "application/vnd.jupyter.widget-view+json": {
       "model_id": "e7ad1f8d7b444c5481172255bce30ef8",
       "version_major": 2,
       "version_minor": 0
      },
      "text/plain": [
       "Processing 1970s:   0%|          | 0/5 [00:00<?, ?it/s]"
      ]
     },
     "metadata": {},
     "output_type": "display_data"
    },
    {
     "data": {
      "application/vnd.jupyter.widget-view+json": {
       "model_id": "733b4facbafc4054af6982d9d2d9bcf7",
       "version_major": 2,
       "version_minor": 0
      },
      "text/plain": [
       "Processing 1980s:   0%|          | 0/5 [00:00<?, ?it/s]"
      ]
     },
     "metadata": {},
     "output_type": "display_data"
    },
    {
     "data": {
      "application/vnd.jupyter.widget-view+json": {
       "model_id": "1e5e9affd1c94a79857ba29dff6528b2",
       "version_major": 2,
       "version_minor": 0
      },
      "text/plain": [
       "Processing 1990s:   0%|          | 0/5 [00:00<?, ?it/s]"
      ]
     },
     "metadata": {},
     "output_type": "display_data"
    },
    {
     "data": {
      "application/vnd.jupyter.widget-view+json": {
       "model_id": "a40cf8efe162467e91b184297a92128f",
       "version_major": 2,
       "version_minor": 0
      },
      "text/plain": [
       "Processing 2000s:   0%|          | 0/5 [00:00<?, ?it/s]"
      ]
     },
     "metadata": {},
     "output_type": "display_data"
    },
    {
     "data": {
      "application/vnd.jupyter.widget-view+json": {
       "model_id": "2c4bbbd061f3487fb8215669215ce887",
       "version_major": 2,
       "version_minor": 0
      },
      "text/plain": [
       "Processing 2010s:   0%|          | 0/5 [00:00<?, ?it/s]"
      ]
     },
     "metadata": {},
     "output_type": "display_data"
    },
    {
     "data": {
      "application/vnd.jupyter.widget-view+json": {
       "model_id": "9990684845374e37834046c4cf337114",
       "version_major": 2,
       "version_minor": 0
      },
      "text/plain": [
       "Processing 2020s:   0%|          | 0/5 [00:00<?, ?it/s]"
      ]
     },
     "metadata": {},
     "output_type": "display_data"
    },
    {
     "data": {
      "application/vnd.jupyter.widget-view+json": {
       "model_id": "d01159600bf54125b6e9e60c896d8461",
       "version_major": 2,
       "version_minor": 0
      },
      "text/plain": [
       "Processing 2030s:   0%|          | 0/5 [00:00<?, ?it/s]"
      ]
     },
     "metadata": {},
     "output_type": "display_data"
    },
    {
     "data": {
      "application/vnd.jupyter.widget-view+json": {
       "model_id": "37f56f5ad4da48fc80348971fe33a4de",
       "version_major": 2,
       "version_minor": 0
      },
      "text/plain": [
       "Processing 2040s:   0%|          | 0/5 [00:00<?, ?it/s]"
      ]
     },
     "metadata": {},
     "output_type": "display_data"
    },
    {
     "data": {
      "application/vnd.jupyter.widget-view+json": {
       "model_id": "31e3e555e86d4122a5e908a508e6fbcd",
       "version_major": 2,
       "version_minor": 0
      },
      "text/plain": [
       "Processing 2050s:   0%|          | 0/5 [00:00<?, ?it/s]"
      ]
     },
     "metadata": {},
     "output_type": "display_data"
    },
    {
     "data": {
      "application/vnd.jupyter.widget-view+json": {
       "model_id": "1bd40be1f90546699a87dabfdf92c5b3",
       "version_major": 2,
       "version_minor": 0
      },
      "text/plain": [
       "Processing 2060s:   0%|          | 0/5 [00:00<?, ?it/s]"
      ]
     },
     "metadata": {},
     "output_type": "display_data"
    },
    {
     "data": {
      "application/vnd.jupyter.widget-view+json": {
       "model_id": "b73742f77b164e329569e5336b6d48b3",
       "version_major": 2,
       "version_minor": 0
      },
      "text/plain": [
       "Processing 2070s:   0%|          | 0/5 [00:00<?, ?it/s]"
      ]
     },
     "metadata": {},
     "output_type": "display_data"
    },
    {
     "data": {
      "application/vnd.jupyter.widget-view+json": {
       "model_id": "fbbdd943bf7a4425b3a5164623c91516",
       "version_major": 2,
       "version_minor": 0
      },
      "text/plain": [
       "Processing 2080s:   0%|          | 0/5 [00:00<?, ?it/s]"
      ]
     },
     "metadata": {},
     "output_type": "display_data"
    },
    {
     "data": {
      "application/vnd.jupyter.widget-view+json": {
       "model_id": "026cafcd33ff4de7b9d6173a4a59da64",
       "version_major": 2,
       "version_minor": 0
      },
      "text/plain": [
       "Processing 2090s:   0%|          | 0/5 [00:00<?, ?it/s]"
      ]
     },
     "metadata": {},
     "output_type": "display_data"
    },
    {
     "data": {
      "application/vnd.jupyter.widget-view+json": {
       "model_id": "b40fa902bfed49b5aff75dc8dd233c6b",
       "version_major": 2,
       "version_minor": 0
      },
      "text/plain": [
       "Processing MPI-ESM-MR rcp45 data...:   0%|          | 0/15 [00:00<?, ?it/s]"
      ]
     },
     "metadata": {},
     "output_type": "display_data"
    },
    {
     "data": {
      "application/vnd.jupyter.widget-view+json": {
       "model_id": "eaf881dc9cdb4c9d9822451221f9eb53",
       "version_major": 2,
       "version_minor": 0
      },
      "text/plain": [
       "Processing 1950s:   0%|          | 0/5 [00:00<?, ?it/s]"
      ]
     },
     "metadata": {},
     "output_type": "display_data"
    },
    {
     "data": {
      "application/vnd.jupyter.widget-view+json": {
       "model_id": "bcd904fb3b7b47b6bc60a748d56c10ae",
       "version_major": 2,
       "version_minor": 0
      },
      "text/plain": [
       "Processing 1960s:   0%|          | 0/5 [00:00<?, ?it/s]"
      ]
     },
     "metadata": {},
     "output_type": "display_data"
    },
    {
     "data": {
      "application/vnd.jupyter.widget-view+json": {
       "model_id": "1b44352d0adb4bb6b9f0d6a96ea05fb9",
       "version_major": 2,
       "version_minor": 0
      },
      "text/plain": [
       "Processing 1970s:   0%|          | 0/5 [00:00<?, ?it/s]"
      ]
     },
     "metadata": {},
     "output_type": "display_data"
    },
    {
     "data": {
      "application/vnd.jupyter.widget-view+json": {
       "model_id": "660d1afa9ac64b949602872199a833c0",
       "version_major": 2,
       "version_minor": 0
      },
      "text/plain": [
       "Processing 1980s:   0%|          | 0/5 [00:00<?, ?it/s]"
      ]
     },
     "metadata": {},
     "output_type": "display_data"
    },
    {
     "data": {
      "application/vnd.jupyter.widget-view+json": {
       "model_id": "4ef1226bf2ab4cfc937e403b969211f7",
       "version_major": 2,
       "version_minor": 0
      },
      "text/plain": [
       "Processing 1990s:   0%|          | 0/5 [00:00<?, ?it/s]"
      ]
     },
     "metadata": {},
     "output_type": "display_data"
    },
    {
     "data": {
      "application/vnd.jupyter.widget-view+json": {
       "model_id": "abfda02763d24ea0853a14548eb6bb3a",
       "version_major": 2,
       "version_minor": 0
      },
      "text/plain": [
       "Processing 2000s:   0%|          | 0/5 [00:00<?, ?it/s]"
      ]
     },
     "metadata": {},
     "output_type": "display_data"
    },
    {
     "data": {
      "application/vnd.jupyter.widget-view+json": {
       "model_id": "d6f4cfad0d894c76bebb07493db050fa",
       "version_major": 2,
       "version_minor": 0
      },
      "text/plain": [
       "Processing 2010s:   0%|          | 0/5 [00:00<?, ?it/s]"
      ]
     },
     "metadata": {},
     "output_type": "display_data"
    },
    {
     "data": {
      "application/vnd.jupyter.widget-view+json": {
       "model_id": "c1f491324182495480bc13770a0f846b",
       "version_major": 2,
       "version_minor": 0
      },
      "text/plain": [
       "Processing 2020s:   0%|          | 0/5 [00:00<?, ?it/s]"
      ]
     },
     "metadata": {},
     "output_type": "display_data"
    },
    {
     "data": {
      "application/vnd.jupyter.widget-view+json": {
       "model_id": "c8693a3132864e72abb53017b876fd4f",
       "version_major": 2,
       "version_minor": 0
      },
      "text/plain": [
       "Processing 2030s:   0%|          | 0/5 [00:00<?, ?it/s]"
      ]
     },
     "metadata": {},
     "output_type": "display_data"
    },
    {
     "data": {
      "application/vnd.jupyter.widget-view+json": {
       "model_id": "78007d8b7cba4bb0b76c18ba340cf7d6",
       "version_major": 2,
       "version_minor": 0
      },
      "text/plain": [
       "Processing 2040s:   0%|          | 0/5 [00:00<?, ?it/s]"
      ]
     },
     "metadata": {},
     "output_type": "display_data"
    },
    {
     "data": {
      "application/vnd.jupyter.widget-view+json": {
       "model_id": "90246907cf7b41618c060c263710c02b",
       "version_major": 2,
       "version_minor": 0
      },
      "text/plain": [
       "Processing 2050s:   0%|          | 0/5 [00:00<?, ?it/s]"
      ]
     },
     "metadata": {},
     "output_type": "display_data"
    },
    {
     "data": {
      "application/vnd.jupyter.widget-view+json": {
       "model_id": "2301531bcd0b457ca875196cfc9b8b86",
       "version_major": 2,
       "version_minor": 0
      },
      "text/plain": [
       "Processing 2060s:   0%|          | 0/5 [00:00<?, ?it/s]"
      ]
     },
     "metadata": {},
     "output_type": "display_data"
    },
    {
     "data": {
      "application/vnd.jupyter.widget-view+json": {
       "model_id": "feddb0b007a0428294bf0b7f0ad0e8a6",
       "version_major": 2,
       "version_minor": 0
      },
      "text/plain": [
       "Processing 2070s:   0%|          | 0/5 [00:00<?, ?it/s]"
      ]
     },
     "metadata": {},
     "output_type": "display_data"
    },
    {
     "data": {
      "application/vnd.jupyter.widget-view+json": {
       "model_id": "fe93b7c8ef0f4084aaa685f9a58418ec",
       "version_major": 2,
       "version_minor": 0
      },
      "text/plain": [
       "Processing 2080s:   0%|          | 0/5 [00:00<?, ?it/s]"
      ]
     },
     "metadata": {},
     "output_type": "display_data"
    },
    {
     "data": {
      "application/vnd.jupyter.widget-view+json": {
       "model_id": "c9ff79f4fc3a4a88958c8512f76e57a0",
       "version_major": 2,
       "version_minor": 0
      },
      "text/plain": [
       "Processing 2090s:   0%|          | 0/5 [00:00<?, ?it/s]"
      ]
     },
     "metadata": {},
     "output_type": "display_data"
    },
    {
     "data": {
      "application/vnd.jupyter.widget-view+json": {
       "model_id": "6dfb1c00bbed4780a74dec87884c1c5e",
       "version_major": 2,
       "version_minor": 0
      },
      "text/plain": [
       "Processing MPI-ESM-MR rcp85 data...:   0%|          | 0/15 [00:00<?, ?it/s]"
      ]
     },
     "metadata": {},
     "output_type": "display_data"
    },
    {
     "data": {
      "application/vnd.jupyter.widget-view+json": {
       "model_id": "89d03d0926c349bfa42c3ff44e39f208",
       "version_major": 2,
       "version_minor": 0
      },
      "text/plain": [
       "Processing 1950s:   0%|          | 0/5 [00:00<?, ?it/s]"
      ]
     },
     "metadata": {},
     "output_type": "display_data"
    },
    {
     "data": {
      "application/vnd.jupyter.widget-view+json": {
       "model_id": "f276fd6a097749a8b086103e3a9de2f7",
       "version_major": 2,
       "version_minor": 0
      },
      "text/plain": [
       "Processing 1960s:   0%|          | 0/5 [00:00<?, ?it/s]"
      ]
     },
     "metadata": {},
     "output_type": "display_data"
    },
    {
     "data": {
      "application/vnd.jupyter.widget-view+json": {
       "model_id": "35043754955344ca9f9643270add2f93",
       "version_major": 2,
       "version_minor": 0
      },
      "text/plain": [
       "Processing 1970s:   0%|          | 0/5 [00:00<?, ?it/s]"
      ]
     },
     "metadata": {},
     "output_type": "display_data"
    },
    {
     "data": {
      "application/vnd.jupyter.widget-view+json": {
       "model_id": "ab4108ae4810490583d5ad424b31b49c",
       "version_major": 2,
       "version_minor": 0
      },
      "text/plain": [
       "Processing 1980s:   0%|          | 0/5 [00:00<?, ?it/s]"
      ]
     },
     "metadata": {},
     "output_type": "display_data"
    },
    {
     "data": {
      "application/vnd.jupyter.widget-view+json": {
       "model_id": "0b1443678cac4bd8b415dec2f6e5170a",
       "version_major": 2,
       "version_minor": 0
      },
      "text/plain": [
       "Processing 1990s:   0%|          | 0/5 [00:00<?, ?it/s]"
      ]
     },
     "metadata": {},
     "output_type": "display_data"
    },
    {
     "data": {
      "application/vnd.jupyter.widget-view+json": {
       "model_id": "f02c7153888446508abce41ac7404467",
       "version_major": 2,
       "version_minor": 0
      },
      "text/plain": [
       "Processing 2000s:   0%|          | 0/5 [00:00<?, ?it/s]"
      ]
     },
     "metadata": {},
     "output_type": "display_data"
    },
    {
     "data": {
      "application/vnd.jupyter.widget-view+json": {
       "model_id": "1680473171df43df9b8681395f15cabf",
       "version_major": 2,
       "version_minor": 0
      },
      "text/plain": [
       "Processing 2010s:   0%|          | 0/5 [00:00<?, ?it/s]"
      ]
     },
     "metadata": {},
     "output_type": "display_data"
    },
    {
     "data": {
      "application/vnd.jupyter.widget-view+json": {
       "model_id": "4ea82d525f344fd49acff2f5eff33a0d",
       "version_major": 2,
       "version_minor": 0
      },
      "text/plain": [
       "Processing 2020s:   0%|          | 0/5 [00:00<?, ?it/s]"
      ]
     },
     "metadata": {},
     "output_type": "display_data"
    },
    {
     "data": {
      "application/vnd.jupyter.widget-view+json": {
       "model_id": "a7c02f5c4b1c461c811403b0965e8f9d",
       "version_major": 2,
       "version_minor": 0
      },
      "text/plain": [
       "Processing 2030s:   0%|          | 0/5 [00:00<?, ?it/s]"
      ]
     },
     "metadata": {},
     "output_type": "display_data"
    },
    {
     "data": {
      "application/vnd.jupyter.widget-view+json": {
       "model_id": "537f75e7dbe84ed49b4b237c01f765d6",
       "version_major": 2,
       "version_minor": 0
      },
      "text/plain": [
       "Processing 2040s:   0%|          | 0/5 [00:00<?, ?it/s]"
      ]
     },
     "metadata": {},
     "output_type": "display_data"
    },
    {
     "data": {
      "application/vnd.jupyter.widget-view+json": {
       "model_id": "4081c08280554ac1864ebbf8eb5d40f2",
       "version_major": 2,
       "version_minor": 0
      },
      "text/plain": [
       "Processing 2050s:   0%|          | 0/5 [00:00<?, ?it/s]"
      ]
     },
     "metadata": {},
     "output_type": "display_data"
    },
    {
     "data": {
      "application/vnd.jupyter.widget-view+json": {
       "model_id": "03c629d52d74453c8794d051dca85d04",
       "version_major": 2,
       "version_minor": 0
      },
      "text/plain": [
       "Processing 2060s:   0%|          | 0/5 [00:00<?, ?it/s]"
      ]
     },
     "metadata": {},
     "output_type": "display_data"
    },
    {
     "data": {
      "application/vnd.jupyter.widget-view+json": {
       "model_id": "d3a399feaff1435b9d10cd2267789622",
       "version_major": 2,
       "version_minor": 0
      },
      "text/plain": [
       "Processing 2070s:   0%|          | 0/5 [00:00<?, ?it/s]"
      ]
     },
     "metadata": {},
     "output_type": "display_data"
    },
    {
     "data": {
      "application/vnd.jupyter.widget-view+json": {
       "model_id": "0b9b79ea71734ecb9722a9073838d459",
       "version_major": 2,
       "version_minor": 0
      },
      "text/plain": [
       "Processing 2080s:   0%|          | 0/5 [00:00<?, ?it/s]"
      ]
     },
     "metadata": {},
     "output_type": "display_data"
    },
    {
     "data": {
      "application/vnd.jupyter.widget-view+json": {
       "model_id": "6104df8c9e304955b4f0a0d5210cfe25",
       "version_major": 2,
       "version_minor": 0
      },
      "text/plain": [
       "Processing 2090s:   0%|          | 0/5 [00:00<?, ?it/s]"
      ]
     },
     "metadata": {},
     "output_type": "display_data"
    },
    {
     "data": {
      "application/vnd.jupyter.widget-view+json": {
       "model_id": "c2af15a7cfe74ae483261a54d6b35ff9",
       "version_major": 2,
       "version_minor": 0
      },
      "text/plain": [
       "Processing MRI-CGCM3 rcp45 data...:   0%|          | 0/15 [00:00<?, ?it/s]"
      ]
     },
     "metadata": {},
     "output_type": "display_data"
    },
    {
     "data": {
      "application/vnd.jupyter.widget-view+json": {
       "model_id": "e967a1a7df0540d5ac977fccf168e2da",
       "version_major": 2,
       "version_minor": 0
      },
      "text/plain": [
       "Processing 1950s:   0%|          | 0/5 [00:00<?, ?it/s]"
      ]
     },
     "metadata": {},
     "output_type": "display_data"
    },
    {
     "data": {
      "application/vnd.jupyter.widget-view+json": {
       "model_id": "4d599458e44e4e16a774c90f29e67b3e",
       "version_major": 2,
       "version_minor": 0
      },
      "text/plain": [
       "Processing 1960s:   0%|          | 0/5 [00:00<?, ?it/s]"
      ]
     },
     "metadata": {},
     "output_type": "display_data"
    },
    {
     "data": {
      "application/vnd.jupyter.widget-view+json": {
       "model_id": "edb588a497a5408984a7e2b5bf91fb33",
       "version_major": 2,
       "version_minor": 0
      },
      "text/plain": [
       "Processing 1970s:   0%|          | 0/5 [00:00<?, ?it/s]"
      ]
     },
     "metadata": {},
     "output_type": "display_data"
    },
    {
     "data": {
      "application/vnd.jupyter.widget-view+json": {
       "model_id": "1da574f8e2e544369c92c127bd939a00",
       "version_major": 2,
       "version_minor": 0
      },
      "text/plain": [
       "Processing 1980s:   0%|          | 0/5 [00:00<?, ?it/s]"
      ]
     },
     "metadata": {},
     "output_type": "display_data"
    },
    {
     "data": {
      "application/vnd.jupyter.widget-view+json": {
       "model_id": "c5089ab4f473459abd1abe1d931368e6",
       "version_major": 2,
       "version_minor": 0
      },
      "text/plain": [
       "Processing 1990s:   0%|          | 0/5 [00:00<?, ?it/s]"
      ]
     },
     "metadata": {},
     "output_type": "display_data"
    },
    {
     "data": {
      "application/vnd.jupyter.widget-view+json": {
       "model_id": "527e7f641bfb412f88baf486718a1562",
       "version_major": 2,
       "version_minor": 0
      },
      "text/plain": [
       "Processing 2000s:   0%|          | 0/5 [00:00<?, ?it/s]"
      ]
     },
     "metadata": {},
     "output_type": "display_data"
    },
    {
     "data": {
      "application/vnd.jupyter.widget-view+json": {
       "model_id": "8b790c2ec0de442db748680ed00d0711",
       "version_major": 2,
       "version_minor": 0
      },
      "text/plain": [
       "Processing 2010s:   0%|          | 0/5 [00:00<?, ?it/s]"
      ]
     },
     "metadata": {},
     "output_type": "display_data"
    },
    {
     "data": {
      "application/vnd.jupyter.widget-view+json": {
       "model_id": "5a01397609f54cf1b94d84aae5a49905",
       "version_major": 2,
       "version_minor": 0
      },
      "text/plain": [
       "Processing 2020s:   0%|          | 0/5 [00:00<?, ?it/s]"
      ]
     },
     "metadata": {},
     "output_type": "display_data"
    },
    {
     "data": {
      "application/vnd.jupyter.widget-view+json": {
       "model_id": "7312f35591664c8d98c1d3710857c74d",
       "version_major": 2,
       "version_minor": 0
      },
      "text/plain": [
       "Processing 2030s:   0%|          | 0/5 [00:00<?, ?it/s]"
      ]
     },
     "metadata": {},
     "output_type": "display_data"
    },
    {
     "data": {
      "application/vnd.jupyter.widget-view+json": {
       "model_id": "9ff6e4d8743f4933b2d98cc389229e80",
       "version_major": 2,
       "version_minor": 0
      },
      "text/plain": [
       "Processing 2040s:   0%|          | 0/5 [00:00<?, ?it/s]"
      ]
     },
     "metadata": {},
     "output_type": "display_data"
    },
    {
     "data": {
      "application/vnd.jupyter.widget-view+json": {
       "model_id": "62eff40563324d9f98a660a2d1589975",
       "version_major": 2,
       "version_minor": 0
      },
      "text/plain": [
       "Processing 2050s:   0%|          | 0/5 [00:00<?, ?it/s]"
      ]
     },
     "metadata": {},
     "output_type": "display_data"
    },
    {
     "data": {
      "application/vnd.jupyter.widget-view+json": {
       "model_id": "c6cbaddc31d84d6aa11285d71625f6a5",
       "version_major": 2,
       "version_minor": 0
      },
      "text/plain": [
       "Processing 2060s:   0%|          | 0/5 [00:00<?, ?it/s]"
      ]
     },
     "metadata": {},
     "output_type": "display_data"
    },
    {
     "data": {
      "application/vnd.jupyter.widget-view+json": {
       "model_id": "d2406ced83f946a183c2956ce32fa348",
       "version_major": 2,
       "version_minor": 0
      },
      "text/plain": [
       "Processing 2070s:   0%|          | 0/5 [00:00<?, ?it/s]"
      ]
     },
     "metadata": {},
     "output_type": "display_data"
    },
    {
     "data": {
      "application/vnd.jupyter.widget-view+json": {
       "model_id": "22d3e12a71314aff833d9f35551e78da",
       "version_major": 2,
       "version_minor": 0
      },
      "text/plain": [
       "Processing 2080s:   0%|          | 0/5 [00:00<?, ?it/s]"
      ]
     },
     "metadata": {},
     "output_type": "display_data"
    },
    {
     "data": {
      "application/vnd.jupyter.widget-view+json": {
       "model_id": "eb9d184a84c142f68219a594fb6220a8",
       "version_major": 2,
       "version_minor": 0
      },
      "text/plain": [
       "Processing 2090s:   0%|          | 0/5 [00:00<?, ?it/s]"
      ]
     },
     "metadata": {},
     "output_type": "display_data"
    },
    {
     "data": {
      "application/vnd.jupyter.widget-view+json": {
       "model_id": "a3fc3a2e0fa349eaa708a7a01a316770",
       "version_major": 2,
       "version_minor": 0
      },
      "text/plain": [
       "Processing MRI-CGCM3 rcp85 data...:   0%|          | 0/15 [00:00<?, ?it/s]"
      ]
     },
     "metadata": {},
     "output_type": "display_data"
    },
    {
     "data": {
      "application/vnd.jupyter.widget-view+json": {
       "model_id": "7b76b76dcd944d879bbe89dbd9fff14c",
       "version_major": 2,
       "version_minor": 0
      },
      "text/plain": [
       "Processing 1950s:   0%|          | 0/5 [00:00<?, ?it/s]"
      ]
     },
     "metadata": {},
     "output_type": "display_data"
    },
    {
     "data": {
      "application/vnd.jupyter.widget-view+json": {
       "model_id": "a0112e73acd7442f8d661eb6437f3b32",
       "version_major": 2,
       "version_minor": 0
      },
      "text/plain": [
       "Processing 1960s:   0%|          | 0/5 [00:00<?, ?it/s]"
      ]
     },
     "metadata": {},
     "output_type": "display_data"
    },
    {
     "data": {
      "application/vnd.jupyter.widget-view+json": {
       "model_id": "41c248f0ac094e60a0cfd0ba4e8a0cf2",
       "version_major": 2,
       "version_minor": 0
      },
      "text/plain": [
       "Processing 1970s:   0%|          | 0/5 [00:00<?, ?it/s]"
      ]
     },
     "metadata": {},
     "output_type": "display_data"
    },
    {
     "data": {
      "application/vnd.jupyter.widget-view+json": {
       "model_id": "872215d5fcd0446f8334f8e67df162b1",
       "version_major": 2,
       "version_minor": 0
      },
      "text/plain": [
       "Processing 1980s:   0%|          | 0/5 [00:00<?, ?it/s]"
      ]
     },
     "metadata": {},
     "output_type": "display_data"
    },
    {
     "data": {
      "application/vnd.jupyter.widget-view+json": {
       "model_id": "dc6b9b344cc94001a33b8cfc3b3a9cbf",
       "version_major": 2,
       "version_minor": 0
      },
      "text/plain": [
       "Processing 1990s:   0%|          | 0/5 [00:00<?, ?it/s]"
      ]
     },
     "metadata": {},
     "output_type": "display_data"
    },
    {
     "data": {
      "application/vnd.jupyter.widget-view+json": {
       "model_id": "f36d0ed21a154406add4c75c5297a3d3",
       "version_major": 2,
       "version_minor": 0
      },
      "text/plain": [
       "Processing 2000s:   0%|          | 0/5 [00:00<?, ?it/s]"
      ]
     },
     "metadata": {},
     "output_type": "display_data"
    },
    {
     "data": {
      "application/vnd.jupyter.widget-view+json": {
       "model_id": "a4eb7d92274a4740af5602bb495e9ff8",
       "version_major": 2,
       "version_minor": 0
      },
      "text/plain": [
       "Processing 2010s:   0%|          | 0/5 [00:00<?, ?it/s]"
      ]
     },
     "metadata": {},
     "output_type": "display_data"
    },
    {
     "data": {
      "application/vnd.jupyter.widget-view+json": {
       "model_id": "52f97f22b3f8496a8252f97a4f78020d",
       "version_major": 2,
       "version_minor": 0
      },
      "text/plain": [
       "Processing 2020s:   0%|          | 0/5 [00:00<?, ?it/s]"
      ]
     },
     "metadata": {},
     "output_type": "display_data"
    },
    {
     "data": {
      "application/vnd.jupyter.widget-view+json": {
       "model_id": "3610306f333d4148bd2ad3a4abf2a3dd",
       "version_major": 2,
       "version_minor": 0
      },
      "text/plain": [
       "Processing 2030s:   0%|          | 0/5 [00:00<?, ?it/s]"
      ]
     },
     "metadata": {},
     "output_type": "display_data"
    },
    {
     "data": {
      "application/vnd.jupyter.widget-view+json": {
       "model_id": "95b2105b6754435884584bfbcbf5dee6",
       "version_major": 2,
       "version_minor": 0
      },
      "text/plain": [
       "Processing 2040s:   0%|          | 0/5 [00:00<?, ?it/s]"
      ]
     },
     "metadata": {},
     "output_type": "display_data"
    },
    {
     "data": {
      "application/vnd.jupyter.widget-view+json": {
       "model_id": "f80a6dc813974297952c72e5aa592cff",
       "version_major": 2,
       "version_minor": 0
      },
      "text/plain": [
       "Processing 2050s:   0%|          | 0/5 [00:00<?, ?it/s]"
      ]
     },
     "metadata": {},
     "output_type": "display_data"
    },
    {
     "data": {
      "application/vnd.jupyter.widget-view+json": {
       "model_id": "b6f2d60d560542c78e0a53f1b0ac44e3",
       "version_major": 2,
       "version_minor": 0
      },
      "text/plain": [
       "Processing 2060s:   0%|          | 0/5 [00:00<?, ?it/s]"
      ]
     },
     "metadata": {},
     "output_type": "display_data"
    },
    {
     "data": {
      "application/vnd.jupyter.widget-view+json": {
       "model_id": "09872200e4e64e65b433711620f21c26",
       "version_major": 2,
       "version_minor": 0
      },
      "text/plain": [
       "Processing 2070s:   0%|          | 0/5 [00:00<?, ?it/s]"
      ]
     },
     "metadata": {},
     "output_type": "display_data"
    },
    {
     "data": {
      "application/vnd.jupyter.widget-view+json": {
       "model_id": "7f1c8c761471417b90e45fee9aaf6603",
       "version_major": 2,
       "version_minor": 0
      },
      "text/plain": [
       "Processing 2080s:   0%|          | 0/5 [00:00<?, ?it/s]"
      ]
     },
     "metadata": {},
     "output_type": "display_data"
    },
    {
     "data": {
      "application/vnd.jupyter.widget-view+json": {
       "model_id": "5e277d4e44384b70b068914d9ab5a8fd",
       "version_major": 2,
       "version_minor": 0
      },
      "text/plain": [
       "Processing 2090s:   0%|          | 0/5 [00:00<?, ?it/s]"
      ]
     },
     "metadata": {},
     "output_type": "display_data"
    },
    {
     "name": "stdout",
     "output_type": "stream",
     "text": [
      "CPU times: user 44min 1s, sys: 3min 49s, total: 47min 50s\n",
      "Wall time: 1h 3min 59s\n"
     ]
    }
   ],
   "source": [
    "%%time\n",
    "\n",
    "for model in models:\n",
    "    for scenario in scenarios:\n",
    "\n",
    "        ncube = mfload_all_netcdf_data(process_group_di[model][scenario])\n",
    "        projcube, wrf_raster_profile = project_datacube(ncube)\n",
    "\n",
    "        # keeping this snippet for convenient testing - just process a single decade\n",
    "        # for decade_start in tqdm(range(1950, 1960, 10), desc=f\"Processing {model} {scenario} data...\"):\n",
    "        for decade_start in tqdm(range(1950, 2100, 10), desc=f\"Processing {model} {scenario} data...\"):\n",
    "            decade_slice = slice_by_decade(projcube, decade_start)\n",
    "            \n",
    "            for climvar in tqdm(variable_di[var_set].keys(), desc=f\"Processing {decade_start}s\"):\n",
    "                decadal_means_of_monthly_summaries = compute_monthly_summaries(decade_slice, var_set, climvar)\n",
    "                \n",
    "                for month in months:\n",
    "                    month_array = array_from_monthly_summary(decadal_means_of_monthly_summaries, climvar, month)\n",
    "                    output_filename = make_output_filename(climvar, model, scenario, month, decade_start)\n",
    "                    write_raster_to_disk(output_filename, wrf_raster_profile, month_array)\n",
    "\n",
    "        projcube.close()"
   ]
  },
  {
   "cell_type": "code",
   "execution_count": 14,
   "id": "493e1384-3a84-4d51-8724-64921b4d34e7",
   "metadata": {},
   "outputs": [],
   "source": [
    "client.close()"
   ]
  },
  {
   "cell_type": "code",
   "execution_count": null,
   "id": "ef8bf61c-695e-44d5-a966-50528a6b904e",
   "metadata": {},
   "outputs": [],
   "source": []
  }
 ],
 "metadata": {
  "kernelspec": {
   "display_name": "Python 3 (ipykernel)",
   "language": "python",
   "name": "python3"
  },
  "language_info": {
   "codemirror_mode": {
    "name": "ipython",
    "version": 3
   },
   "file_extension": ".py",
   "mimetype": "text/x-python",
   "name": "python",
   "nbconvert_exporter": "python",
   "pygments_lexer": "ipython3",
   "version": "3.9.15"
  }
 },
 "nbformat": 4,
 "nbformat_minor": 5
}
