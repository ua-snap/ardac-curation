{
 "cells": [
  {
   "cell_type": "markdown",
   "id": "0fd3f293-a176-4960-8e43-672ee1374063",
   "metadata": {},
   "source": [
    "## `met` (near surface meteorology) Variable Summaries\n",
    "\n",
    "This notebook will orchestrate the monthly decadal mean summaries of the following variables from the `met` set of files:\n",
    "\n",
    "\n",
    "All this notebook does is stage the files, set up a Dask client, and then iterate through all models, scenarios, decades, variables, and months to produce the summary GeoTIFFs."
   ]
  },
  {
   "cell_type": "code",
   "execution_count": 1,
   "id": "ab7cb53d-e58f-4dbb-9d8d-46c4d2478e79",
   "metadata": {},
   "outputs": [],
   "source": [
    "import os\n",
    "import xarray as xr\n",
    "import rasterio as rio\n",
    "import numpy as np\n",
    "import dask\n",
    "import dask.array as da\n",
    "from dask.distributed import Client\n",
    "from dask import delayed\n",
    "from tqdm.auto import tqdm\n",
    "from pathlib import Path\n",
    "\n",
    "# local\n",
    "from config import DATA_DIR, OUTPUT_DIR\n",
    "from config import models, scenarios, variable_di, precision_di, months, unit_di, summary_di, mo_names\n",
    "from compute_summaries import *"
   ]
  },
  {
   "cell_type": "code",
   "execution_count": 2,
   "id": "8c2f3a6d-8f32-468d-9413-98a481ed3396",
   "metadata": {},
   "outputs": [],
   "source": [
    "var_set = \"met\""
   ]
  },
  {
   "cell_type": "markdown",
   "id": "d8175e57-0663-491e-8a35-280dfe322632",
   "metadata": {},
   "source": [
    "We know from the EDA that HadGEM2-ES_rcp45_BCSD_met_2005.nc and HadGEM2-ES_rcp85_BCSD_met_2005.nc are missing some data for December. Let's just skip the HadGEM2-ES model for now."
   ]
  },
  {
   "cell_type": "code",
   "execution_count": 3,
   "id": "106222cf-aa11-4a05-b84f-d1ee34151fe8",
   "metadata": {},
   "outputs": [
    {
     "data": {
      "text/plain": [
       "['ACCESS1-3',\n",
       " 'CanESM2',\n",
       " 'CCSM4',\n",
       " 'CSIRO-Mk3-6-0',\n",
       " 'GFDL-ESM2M',\n",
       " 'HadGEM2-ES',\n",
       " 'inmcm4',\n",
       " 'MIROC5',\n",
       " 'MPI-ESM-MR',\n",
       " 'MRI-CGCM3']"
      ]
     },
     "execution_count": 3,
     "metadata": {},
     "output_type": "execute_result"
    }
   ],
   "source": [
    "models"
   ]
  },
  {
   "cell_type": "code",
   "execution_count": 4,
   "id": "e3ccfa41-1340-453e-a1b9-5941e6a15bdb",
   "metadata": {},
   "outputs": [
    {
     "data": {
      "text/plain": [
       "['ACCESS1-3',\n",
       " 'CanESM2',\n",
       " 'CCSM4',\n",
       " 'CSIRO-Mk3-6-0',\n",
       " 'GFDL-ESM2M',\n",
       " 'inmcm4',\n",
       " 'MIROC5',\n",
       " 'MPI-ESM-MR',\n",
       " 'MRI-CGCM3']"
      ]
     },
     "execution_count": 4,
     "metadata": {},
     "output_type": "execute_result"
    }
   ],
   "source": [
    "models.remove(\"HadGEM2-ES\")\n",
    "models"
   ]
  },
  {
   "cell_type": "code",
   "execution_count": 5,
   "id": "e6fcd1a2-8862-4dc6-ab0e-520b88b89d5d",
   "metadata": {},
   "outputs": [],
   "source": [
    "paths = list(DATA_DIR.glob(f\"*{var_set}*.nc\"))\n",
    "paths = [x for x in paths if \"HadGEM2-ES\" not in x.name.split(\"_\")] \n",
    "assert len(paths) == 3000 - 300 # value learned from EDA notebook"
   ]
  },
  {
   "cell_type": "code",
   "execution_count": 6,
   "id": "3d48e6a1-bd77-4872-b498-98cd6ca563fe",
   "metadata": {},
   "outputs": [],
   "source": [
    "process_group_di = {}\n",
    "for model in models:\n",
    "    process_group_di[model] = {}\n",
    "    for scenario in scenarios:\n",
    "        process_group_di[model][scenario] = []\n",
    "\n",
    "for fp in paths:\n",
    "    fp_model = fp.name.split(\"_\")[0]\n",
    "    fp_scenario = fp.name.split(\"_\")[1]\n",
    "    process_group_di[fp_model][fp_scenario].append(fp)\n",
    "\n",
    "for model in models:\n",
    "    for scenario in scenarios:\n",
    "        assert len(process_group_di[model][scenario]) == 150 # value learned from EDA notebook"
   ]
  },
  {
   "cell_type": "code",
   "execution_count": 7,
   "id": "b69af84b-286d-4299-a84d-211fefdd5820",
   "metadata": {},
   "outputs": [
    {
     "data": {
      "text/html": [
       "<div>\n",
       "    <div style=\"width: 24px; height: 24px; background-color: #e1e1e1; border: 3px solid #9D9D9D; border-radius: 5px; position: absolute;\"> </div>\n",
       "    <div style=\"margin-left: 48px;\">\n",
       "        <h3 style=\"margin-bottom: 0px;\">Client</h3>\n",
       "        <p style=\"color: #9D9D9D; margin-bottom: 0px;\">Client-47468145-d259-11ed-a730-0025907c0d3c</p>\n",
       "        <table style=\"width: 100%; text-align: left;\">\n",
       "\n",
       "        <tr>\n",
       "        \n",
       "            <td style=\"text-align: left;\"><strong>Connection method:</strong> Cluster object</td>\n",
       "            <td style=\"text-align: left;\"><strong>Cluster type:</strong> distributed.LocalCluster</td>\n",
       "        \n",
       "        </tr>\n",
       "\n",
       "        \n",
       "            <tr>\n",
       "                <td style=\"text-align: left;\">\n",
       "                    <strong>Dashboard: </strong> <a href=\"http://127.0.0.1:8787/status\" target=\"_blank\">http://127.0.0.1:8787/status</a>\n",
       "                </td>\n",
       "                <td style=\"text-align: left;\"></td>\n",
       "            </tr>\n",
       "        \n",
       "\n",
       "        </table>\n",
       "\n",
       "        \n",
       "            <button style=\"margin-bottom: 12px;\" data-commandlinker-command=\"dask:populate-and-launch-layout\" data-commandlinker-args='{\"url\": \"http://127.0.0.1:8787/status\" }'>\n",
       "                Launch dashboard in JupyterLab\n",
       "            </button>\n",
       "        \n",
       "\n",
       "        \n",
       "            <details>\n",
       "            <summary style=\"margin-bottom: 20px;\"><h3 style=\"display: inline;\">Cluster Info</h3></summary>\n",
       "            <div class=\"jp-RenderedHTMLCommon jp-RenderedHTML jp-mod-trusted jp-OutputArea-output\">\n",
       "    <div style=\"width: 24px; height: 24px; background-color: #e1e1e1; border: 3px solid #9D9D9D; border-radius: 5px; position: absolute;\">\n",
       "    </div>\n",
       "    <div style=\"margin-left: 48px;\">\n",
       "        <h3 style=\"margin-bottom: 0px; margin-top: 0px;\">LocalCluster</h3>\n",
       "        <p style=\"color: #9D9D9D; margin-bottom: 0px;\">7fa95d50</p>\n",
       "        <table style=\"width: 100%; text-align: left;\">\n",
       "            <tr>\n",
       "                <td style=\"text-align: left;\">\n",
       "                    <strong>Dashboard:</strong> <a href=\"http://127.0.0.1:8787/status\" target=\"_blank\">http://127.0.0.1:8787/status</a>\n",
       "                </td>\n",
       "                <td style=\"text-align: left;\">\n",
       "                    <strong>Workers:</strong> 8\n",
       "                </td>\n",
       "            </tr>\n",
       "            <tr>\n",
       "                <td style=\"text-align: left;\">\n",
       "                    <strong>Total threads:</strong> 32\n",
       "                </td>\n",
       "                <td style=\"text-align: left;\">\n",
       "                    <strong>Total memory:</strong> 251.72 GiB\n",
       "                </td>\n",
       "            </tr>\n",
       "            \n",
       "            <tr>\n",
       "    <td style=\"text-align: left;\"><strong>Status:</strong> running</td>\n",
       "    <td style=\"text-align: left;\"><strong>Using processes:</strong> True</td>\n",
       "</tr>\n",
       "\n",
       "            \n",
       "        </table>\n",
       "\n",
       "        <details>\n",
       "            <summary style=\"margin-bottom: 20px;\">\n",
       "                <h3 style=\"display: inline;\">Scheduler Info</h3>\n",
       "            </summary>\n",
       "\n",
       "            <div style=\"\">\n",
       "    <div>\n",
       "        <div style=\"width: 24px; height: 24px; background-color: #FFF7E5; border: 3px solid #FF6132; border-radius: 5px; position: absolute;\"> </div>\n",
       "        <div style=\"margin-left: 48px;\">\n",
       "            <h3 style=\"margin-bottom: 0px;\">Scheduler</h3>\n",
       "            <p style=\"color: #9D9D9D; margin-bottom: 0px;\">Scheduler-63190239-8711-4834-b394-ea1841482efd</p>\n",
       "            <table style=\"width: 100%; text-align: left;\">\n",
       "                <tr>\n",
       "                    <td style=\"text-align: left;\">\n",
       "                        <strong>Comm:</strong> tcp://127.0.0.1:37335\n",
       "                    </td>\n",
       "                    <td style=\"text-align: left;\">\n",
       "                        <strong>Workers:</strong> 8\n",
       "                    </td>\n",
       "                </tr>\n",
       "                <tr>\n",
       "                    <td style=\"text-align: left;\">\n",
       "                        <strong>Dashboard:</strong> <a href=\"http://127.0.0.1:8787/status\" target=\"_blank\">http://127.0.0.1:8787/status</a>\n",
       "                    </td>\n",
       "                    <td style=\"text-align: left;\">\n",
       "                        <strong>Total threads:</strong> 32\n",
       "                    </td>\n",
       "                </tr>\n",
       "                <tr>\n",
       "                    <td style=\"text-align: left;\">\n",
       "                        <strong>Started:</strong> Just now\n",
       "                    </td>\n",
       "                    <td style=\"text-align: left;\">\n",
       "                        <strong>Total memory:</strong> 251.72 GiB\n",
       "                    </td>\n",
       "                </tr>\n",
       "            </table>\n",
       "        </div>\n",
       "    </div>\n",
       "\n",
       "    <details style=\"margin-left: 48px;\">\n",
       "        <summary style=\"margin-bottom: 20px;\">\n",
       "            <h3 style=\"display: inline;\">Workers</h3>\n",
       "        </summary>\n",
       "\n",
       "        \n",
       "        <div style=\"margin-bottom: 20px;\">\n",
       "            <div style=\"width: 24px; height: 24px; background-color: #DBF5FF; border: 3px solid #4CC9FF; border-radius: 5px; position: absolute;\"> </div>\n",
       "            <div style=\"margin-left: 48px;\">\n",
       "            <details>\n",
       "                <summary>\n",
       "                    <h4 style=\"margin-bottom: 0px; display: inline;\">Worker: 0</h4>\n",
       "                </summary>\n",
       "                <table style=\"width: 100%; text-align: left;\">\n",
       "                    <tr>\n",
       "                        <td style=\"text-align: left;\">\n",
       "                            <strong>Comm: </strong> tcp://127.0.0.1:35243\n",
       "                        </td>\n",
       "                        <td style=\"text-align: left;\">\n",
       "                            <strong>Total threads: </strong> 4\n",
       "                        </td>\n",
       "                    </tr>\n",
       "                    <tr>\n",
       "                        <td style=\"text-align: left;\">\n",
       "                            <strong>Dashboard: </strong> <a href=\"http://127.0.0.1:36620/status\" target=\"_blank\">http://127.0.0.1:36620/status</a>\n",
       "                        </td>\n",
       "                        <td style=\"text-align: left;\">\n",
       "                            <strong>Memory: </strong> 31.46 GiB\n",
       "                        </td>\n",
       "                    </tr>\n",
       "                    <tr>\n",
       "                        <td style=\"text-align: left;\">\n",
       "                            <strong>Nanny: </strong> tcp://127.0.0.1:33596\n",
       "                        </td>\n",
       "                        <td style=\"text-align: left;\"></td>\n",
       "                    </tr>\n",
       "                    <tr>\n",
       "                        <td colspan=\"2\" style=\"text-align: left;\">\n",
       "                            <strong>Local directory: </strong> /tmp/dask-worker-space/worker-pyq30x4h\n",
       "                        </td>\n",
       "                    </tr>\n",
       "\n",
       "                    \n",
       "\n",
       "                    \n",
       "\n",
       "                </table>\n",
       "            </details>\n",
       "            </div>\n",
       "        </div>\n",
       "        \n",
       "        <div style=\"margin-bottom: 20px;\">\n",
       "            <div style=\"width: 24px; height: 24px; background-color: #DBF5FF; border: 3px solid #4CC9FF; border-radius: 5px; position: absolute;\"> </div>\n",
       "            <div style=\"margin-left: 48px;\">\n",
       "            <details>\n",
       "                <summary>\n",
       "                    <h4 style=\"margin-bottom: 0px; display: inline;\">Worker: 1</h4>\n",
       "                </summary>\n",
       "                <table style=\"width: 100%; text-align: left;\">\n",
       "                    <tr>\n",
       "                        <td style=\"text-align: left;\">\n",
       "                            <strong>Comm: </strong> tcp://127.0.0.1:45346\n",
       "                        </td>\n",
       "                        <td style=\"text-align: left;\">\n",
       "                            <strong>Total threads: </strong> 4\n",
       "                        </td>\n",
       "                    </tr>\n",
       "                    <tr>\n",
       "                        <td style=\"text-align: left;\">\n",
       "                            <strong>Dashboard: </strong> <a href=\"http://127.0.0.1:39640/status\" target=\"_blank\">http://127.0.0.1:39640/status</a>\n",
       "                        </td>\n",
       "                        <td style=\"text-align: left;\">\n",
       "                            <strong>Memory: </strong> 31.46 GiB\n",
       "                        </td>\n",
       "                    </tr>\n",
       "                    <tr>\n",
       "                        <td style=\"text-align: left;\">\n",
       "                            <strong>Nanny: </strong> tcp://127.0.0.1:45324\n",
       "                        </td>\n",
       "                        <td style=\"text-align: left;\"></td>\n",
       "                    </tr>\n",
       "                    <tr>\n",
       "                        <td colspan=\"2\" style=\"text-align: left;\">\n",
       "                            <strong>Local directory: </strong> /tmp/dask-worker-space/worker-epk5ciup\n",
       "                        </td>\n",
       "                    </tr>\n",
       "\n",
       "                    \n",
       "\n",
       "                    \n",
       "\n",
       "                </table>\n",
       "            </details>\n",
       "            </div>\n",
       "        </div>\n",
       "        \n",
       "        <div style=\"margin-bottom: 20px;\">\n",
       "            <div style=\"width: 24px; height: 24px; background-color: #DBF5FF; border: 3px solid #4CC9FF; border-radius: 5px; position: absolute;\"> </div>\n",
       "            <div style=\"margin-left: 48px;\">\n",
       "            <details>\n",
       "                <summary>\n",
       "                    <h4 style=\"margin-bottom: 0px; display: inline;\">Worker: 2</h4>\n",
       "                </summary>\n",
       "                <table style=\"width: 100%; text-align: left;\">\n",
       "                    <tr>\n",
       "                        <td style=\"text-align: left;\">\n",
       "                            <strong>Comm: </strong> tcp://127.0.0.1:42404\n",
       "                        </td>\n",
       "                        <td style=\"text-align: left;\">\n",
       "                            <strong>Total threads: </strong> 4\n",
       "                        </td>\n",
       "                    </tr>\n",
       "                    <tr>\n",
       "                        <td style=\"text-align: left;\">\n",
       "                            <strong>Dashboard: </strong> <a href=\"http://127.0.0.1:37187/status\" target=\"_blank\">http://127.0.0.1:37187/status</a>\n",
       "                        </td>\n",
       "                        <td style=\"text-align: left;\">\n",
       "                            <strong>Memory: </strong> 31.46 GiB\n",
       "                        </td>\n",
       "                    </tr>\n",
       "                    <tr>\n",
       "                        <td style=\"text-align: left;\">\n",
       "                            <strong>Nanny: </strong> tcp://127.0.0.1:37292\n",
       "                        </td>\n",
       "                        <td style=\"text-align: left;\"></td>\n",
       "                    </tr>\n",
       "                    <tr>\n",
       "                        <td colspan=\"2\" style=\"text-align: left;\">\n",
       "                            <strong>Local directory: </strong> /tmp/dask-worker-space/worker-0s9_s48j\n",
       "                        </td>\n",
       "                    </tr>\n",
       "\n",
       "                    \n",
       "\n",
       "                    \n",
       "\n",
       "                </table>\n",
       "            </details>\n",
       "            </div>\n",
       "        </div>\n",
       "        \n",
       "        <div style=\"margin-bottom: 20px;\">\n",
       "            <div style=\"width: 24px; height: 24px; background-color: #DBF5FF; border: 3px solid #4CC9FF; border-radius: 5px; position: absolute;\"> </div>\n",
       "            <div style=\"margin-left: 48px;\">\n",
       "            <details>\n",
       "                <summary>\n",
       "                    <h4 style=\"margin-bottom: 0px; display: inline;\">Worker: 3</h4>\n",
       "                </summary>\n",
       "                <table style=\"width: 100%; text-align: left;\">\n",
       "                    <tr>\n",
       "                        <td style=\"text-align: left;\">\n",
       "                            <strong>Comm: </strong> tcp://127.0.0.1:32909\n",
       "                        </td>\n",
       "                        <td style=\"text-align: left;\">\n",
       "                            <strong>Total threads: </strong> 4\n",
       "                        </td>\n",
       "                    </tr>\n",
       "                    <tr>\n",
       "                        <td style=\"text-align: left;\">\n",
       "                            <strong>Dashboard: </strong> <a href=\"http://127.0.0.1:34381/status\" target=\"_blank\">http://127.0.0.1:34381/status</a>\n",
       "                        </td>\n",
       "                        <td style=\"text-align: left;\">\n",
       "                            <strong>Memory: </strong> 31.46 GiB\n",
       "                        </td>\n",
       "                    </tr>\n",
       "                    <tr>\n",
       "                        <td style=\"text-align: left;\">\n",
       "                            <strong>Nanny: </strong> tcp://127.0.0.1:35465\n",
       "                        </td>\n",
       "                        <td style=\"text-align: left;\"></td>\n",
       "                    </tr>\n",
       "                    <tr>\n",
       "                        <td colspan=\"2\" style=\"text-align: left;\">\n",
       "                            <strong>Local directory: </strong> /tmp/dask-worker-space/worker-xk8xh3es\n",
       "                        </td>\n",
       "                    </tr>\n",
       "\n",
       "                    \n",
       "\n",
       "                    \n",
       "\n",
       "                </table>\n",
       "            </details>\n",
       "            </div>\n",
       "        </div>\n",
       "        \n",
       "        <div style=\"margin-bottom: 20px;\">\n",
       "            <div style=\"width: 24px; height: 24px; background-color: #DBF5FF; border: 3px solid #4CC9FF; border-radius: 5px; position: absolute;\"> </div>\n",
       "            <div style=\"margin-left: 48px;\">\n",
       "            <details>\n",
       "                <summary>\n",
       "                    <h4 style=\"margin-bottom: 0px; display: inline;\">Worker: 4</h4>\n",
       "                </summary>\n",
       "                <table style=\"width: 100%; text-align: left;\">\n",
       "                    <tr>\n",
       "                        <td style=\"text-align: left;\">\n",
       "                            <strong>Comm: </strong> tcp://127.0.0.1:33850\n",
       "                        </td>\n",
       "                        <td style=\"text-align: left;\">\n",
       "                            <strong>Total threads: </strong> 4\n",
       "                        </td>\n",
       "                    </tr>\n",
       "                    <tr>\n",
       "                        <td style=\"text-align: left;\">\n",
       "                            <strong>Dashboard: </strong> <a href=\"http://127.0.0.1:45103/status\" target=\"_blank\">http://127.0.0.1:45103/status</a>\n",
       "                        </td>\n",
       "                        <td style=\"text-align: left;\">\n",
       "                            <strong>Memory: </strong> 31.46 GiB\n",
       "                        </td>\n",
       "                    </tr>\n",
       "                    <tr>\n",
       "                        <td style=\"text-align: left;\">\n",
       "                            <strong>Nanny: </strong> tcp://127.0.0.1:41655\n",
       "                        </td>\n",
       "                        <td style=\"text-align: left;\"></td>\n",
       "                    </tr>\n",
       "                    <tr>\n",
       "                        <td colspan=\"2\" style=\"text-align: left;\">\n",
       "                            <strong>Local directory: </strong> /tmp/dask-worker-space/worker-zxubawl3\n",
       "                        </td>\n",
       "                    </tr>\n",
       "\n",
       "                    \n",
       "\n",
       "                    \n",
       "\n",
       "                </table>\n",
       "            </details>\n",
       "            </div>\n",
       "        </div>\n",
       "        \n",
       "        <div style=\"margin-bottom: 20px;\">\n",
       "            <div style=\"width: 24px; height: 24px; background-color: #DBF5FF; border: 3px solid #4CC9FF; border-radius: 5px; position: absolute;\"> </div>\n",
       "            <div style=\"margin-left: 48px;\">\n",
       "            <details>\n",
       "                <summary>\n",
       "                    <h4 style=\"margin-bottom: 0px; display: inline;\">Worker: 5</h4>\n",
       "                </summary>\n",
       "                <table style=\"width: 100%; text-align: left;\">\n",
       "                    <tr>\n",
       "                        <td style=\"text-align: left;\">\n",
       "                            <strong>Comm: </strong> tcp://127.0.0.1:44263\n",
       "                        </td>\n",
       "                        <td style=\"text-align: left;\">\n",
       "                            <strong>Total threads: </strong> 4\n",
       "                        </td>\n",
       "                    </tr>\n",
       "                    <tr>\n",
       "                        <td style=\"text-align: left;\">\n",
       "                            <strong>Dashboard: </strong> <a href=\"http://127.0.0.1:43601/status\" target=\"_blank\">http://127.0.0.1:43601/status</a>\n",
       "                        </td>\n",
       "                        <td style=\"text-align: left;\">\n",
       "                            <strong>Memory: </strong> 31.46 GiB\n",
       "                        </td>\n",
       "                    </tr>\n",
       "                    <tr>\n",
       "                        <td style=\"text-align: left;\">\n",
       "                            <strong>Nanny: </strong> tcp://127.0.0.1:38907\n",
       "                        </td>\n",
       "                        <td style=\"text-align: left;\"></td>\n",
       "                    </tr>\n",
       "                    <tr>\n",
       "                        <td colspan=\"2\" style=\"text-align: left;\">\n",
       "                            <strong>Local directory: </strong> /tmp/dask-worker-space/worker-qflgy9to\n",
       "                        </td>\n",
       "                    </tr>\n",
       "\n",
       "                    \n",
       "\n",
       "                    \n",
       "\n",
       "                </table>\n",
       "            </details>\n",
       "            </div>\n",
       "        </div>\n",
       "        \n",
       "        <div style=\"margin-bottom: 20px;\">\n",
       "            <div style=\"width: 24px; height: 24px; background-color: #DBF5FF; border: 3px solid #4CC9FF; border-radius: 5px; position: absolute;\"> </div>\n",
       "            <div style=\"margin-left: 48px;\">\n",
       "            <details>\n",
       "                <summary>\n",
       "                    <h4 style=\"margin-bottom: 0px; display: inline;\">Worker: 6</h4>\n",
       "                </summary>\n",
       "                <table style=\"width: 100%; text-align: left;\">\n",
       "                    <tr>\n",
       "                        <td style=\"text-align: left;\">\n",
       "                            <strong>Comm: </strong> tcp://127.0.0.1:46182\n",
       "                        </td>\n",
       "                        <td style=\"text-align: left;\">\n",
       "                            <strong>Total threads: </strong> 4\n",
       "                        </td>\n",
       "                    </tr>\n",
       "                    <tr>\n",
       "                        <td style=\"text-align: left;\">\n",
       "                            <strong>Dashboard: </strong> <a href=\"http://127.0.0.1:42605/status\" target=\"_blank\">http://127.0.0.1:42605/status</a>\n",
       "                        </td>\n",
       "                        <td style=\"text-align: left;\">\n",
       "                            <strong>Memory: </strong> 31.46 GiB\n",
       "                        </td>\n",
       "                    </tr>\n",
       "                    <tr>\n",
       "                        <td style=\"text-align: left;\">\n",
       "                            <strong>Nanny: </strong> tcp://127.0.0.1:44208\n",
       "                        </td>\n",
       "                        <td style=\"text-align: left;\"></td>\n",
       "                    </tr>\n",
       "                    <tr>\n",
       "                        <td colspan=\"2\" style=\"text-align: left;\">\n",
       "                            <strong>Local directory: </strong> /tmp/dask-worker-space/worker-surmq_m9\n",
       "                        </td>\n",
       "                    </tr>\n",
       "\n",
       "                    \n",
       "\n",
       "                    \n",
       "\n",
       "                </table>\n",
       "            </details>\n",
       "            </div>\n",
       "        </div>\n",
       "        \n",
       "        <div style=\"margin-bottom: 20px;\">\n",
       "            <div style=\"width: 24px; height: 24px; background-color: #DBF5FF; border: 3px solid #4CC9FF; border-radius: 5px; position: absolute;\"> </div>\n",
       "            <div style=\"margin-left: 48px;\">\n",
       "            <details>\n",
       "                <summary>\n",
       "                    <h4 style=\"margin-bottom: 0px; display: inline;\">Worker: 7</h4>\n",
       "                </summary>\n",
       "                <table style=\"width: 100%; text-align: left;\">\n",
       "                    <tr>\n",
       "                        <td style=\"text-align: left;\">\n",
       "                            <strong>Comm: </strong> tcp://127.0.0.1:36515\n",
       "                        </td>\n",
       "                        <td style=\"text-align: left;\">\n",
       "                            <strong>Total threads: </strong> 4\n",
       "                        </td>\n",
       "                    </tr>\n",
       "                    <tr>\n",
       "                        <td style=\"text-align: left;\">\n",
       "                            <strong>Dashboard: </strong> <a href=\"http://127.0.0.1:43860/status\" target=\"_blank\">http://127.0.0.1:43860/status</a>\n",
       "                        </td>\n",
       "                        <td style=\"text-align: left;\">\n",
       "                            <strong>Memory: </strong> 31.46 GiB\n",
       "                        </td>\n",
       "                    </tr>\n",
       "                    <tr>\n",
       "                        <td style=\"text-align: left;\">\n",
       "                            <strong>Nanny: </strong> tcp://127.0.0.1:39780\n",
       "                        </td>\n",
       "                        <td style=\"text-align: left;\"></td>\n",
       "                    </tr>\n",
       "                    <tr>\n",
       "                        <td colspan=\"2\" style=\"text-align: left;\">\n",
       "                            <strong>Local directory: </strong> /tmp/dask-worker-space/worker-y5i9i1md\n",
       "                        </td>\n",
       "                    </tr>\n",
       "\n",
       "                    \n",
       "\n",
       "                    \n",
       "\n",
       "                </table>\n",
       "            </details>\n",
       "            </div>\n",
       "        </div>\n",
       "        \n",
       "\n",
       "    </details>\n",
       "</div>\n",
       "\n",
       "        </details>\n",
       "    </div>\n",
       "</div>\n",
       "            </details>\n",
       "        \n",
       "\n",
       "    </div>\n",
       "</div>"
      ],
      "text/plain": [
       "<Client: 'tcp://127.0.0.1:37335' processes=8 threads=32, memory=251.72 GiB>"
      ]
     },
     "execution_count": 7,
     "metadata": {},
     "output_type": "execute_result"
    }
   ],
   "source": [
    "# create dask client\n",
    "client = Client()\n",
    "client"
   ]
  },
  {
   "cell_type": "code",
   "execution_count": 8,
   "id": "1419c04f-3250-4bd7-b74f-a16ddae61985",
   "metadata": {},
   "outputs": [
    {
     "data": {
      "application/vnd.jupyter.widget-view+json": {
       "model_id": "1947d1ed46ac454897b1bc912291be2a",
       "version_major": 2,
       "version_minor": 0
      },
      "text/plain": [
       "Processing ACCESS1-3 rcp45 data...:   0%|          | 0/15 [00:00<?, ?it/s]"
      ]
     },
     "metadata": {},
     "output_type": "display_data"
    },
    {
     "data": {
      "application/vnd.jupyter.widget-view+json": {
       "model_id": "b5d5fef4a8ed488db2925a97f524fbbe",
       "version_major": 2,
       "version_minor": 0
      },
      "text/plain": [
       "Processing 1950s:   0%|          | 0/3 [00:00<?, ?it/s]"
      ]
     },
     "metadata": {},
     "output_type": "display_data"
    },
    {
     "data": {
      "application/vnd.jupyter.widget-view+json": {
       "model_id": "bff05087bd4640528a4015e34a37f6de",
       "version_major": 2,
       "version_minor": 0
      },
      "text/plain": [
       "Processing 1960s:   0%|          | 0/3 [00:00<?, ?it/s]"
      ]
     },
     "metadata": {},
     "output_type": "display_data"
    },
    {
     "data": {
      "application/vnd.jupyter.widget-view+json": {
       "model_id": "226090e7971543c3b2eee31df022871e",
       "version_major": 2,
       "version_minor": 0
      },
      "text/plain": [
       "Processing 1970s:   0%|          | 0/3 [00:00<?, ?it/s]"
      ]
     },
     "metadata": {},
     "output_type": "display_data"
    },
    {
     "data": {
      "application/vnd.jupyter.widget-view+json": {
       "model_id": "94046107caad411981ecedb612639214",
       "version_major": 2,
       "version_minor": 0
      },
      "text/plain": [
       "Processing 1980s:   0%|          | 0/3 [00:00<?, ?it/s]"
      ]
     },
     "metadata": {},
     "output_type": "display_data"
    },
    {
     "data": {
      "application/vnd.jupyter.widget-view+json": {
       "model_id": "308e8f738aa94710afedff8cb920d19b",
       "version_major": 2,
       "version_minor": 0
      },
      "text/plain": [
       "Processing 1990s:   0%|          | 0/3 [00:00<?, ?it/s]"
      ]
     },
     "metadata": {},
     "output_type": "display_data"
    },
    {
     "data": {
      "application/vnd.jupyter.widget-view+json": {
       "model_id": "0dad6d7867884797afe1e1456f9eaa29",
       "version_major": 2,
       "version_minor": 0
      },
      "text/plain": [
       "Processing 2000s:   0%|          | 0/3 [00:00<?, ?it/s]"
      ]
     },
     "metadata": {},
     "output_type": "display_data"
    },
    {
     "data": {
      "application/vnd.jupyter.widget-view+json": {
       "model_id": "1151e57cb0144025bdadcf571cbdd8f9",
       "version_major": 2,
       "version_minor": 0
      },
      "text/plain": [
       "Processing 2010s:   0%|          | 0/3 [00:00<?, ?it/s]"
      ]
     },
     "metadata": {},
     "output_type": "display_data"
    },
    {
     "data": {
      "application/vnd.jupyter.widget-view+json": {
       "model_id": "dcfc07d399404a4e9f644994ed441f85",
       "version_major": 2,
       "version_minor": 0
      },
      "text/plain": [
       "Processing 2020s:   0%|          | 0/3 [00:00<?, ?it/s]"
      ]
     },
     "metadata": {},
     "output_type": "display_data"
    },
    {
     "data": {
      "application/vnd.jupyter.widget-view+json": {
       "model_id": "6b619a6f5d2847b68b3cec8fd2436cf4",
       "version_major": 2,
       "version_minor": 0
      },
      "text/plain": [
       "Processing 2030s:   0%|          | 0/3 [00:00<?, ?it/s]"
      ]
     },
     "metadata": {},
     "output_type": "display_data"
    },
    {
     "data": {
      "application/vnd.jupyter.widget-view+json": {
       "model_id": "6c0bef0900444c59933805b39d898b17",
       "version_major": 2,
       "version_minor": 0
      },
      "text/plain": [
       "Processing 2040s:   0%|          | 0/3 [00:00<?, ?it/s]"
      ]
     },
     "metadata": {},
     "output_type": "display_data"
    },
    {
     "data": {
      "application/vnd.jupyter.widget-view+json": {
       "model_id": "99fc3a995a8c437083d32b251c2218f8",
       "version_major": 2,
       "version_minor": 0
      },
      "text/plain": [
       "Processing 2050s:   0%|          | 0/3 [00:00<?, ?it/s]"
      ]
     },
     "metadata": {},
     "output_type": "display_data"
    },
    {
     "data": {
      "application/vnd.jupyter.widget-view+json": {
       "model_id": "6248eeaefd6040d5801d83c6b1c53ebd",
       "version_major": 2,
       "version_minor": 0
      },
      "text/plain": [
       "Processing 2060s:   0%|          | 0/3 [00:00<?, ?it/s]"
      ]
     },
     "metadata": {},
     "output_type": "display_data"
    },
    {
     "data": {
      "application/vnd.jupyter.widget-view+json": {
       "model_id": "d8c1fbfb831e47c492c079fff1430f12",
       "version_major": 2,
       "version_minor": 0
      },
      "text/plain": [
       "Processing 2070s:   0%|          | 0/3 [00:00<?, ?it/s]"
      ]
     },
     "metadata": {},
     "output_type": "display_data"
    },
    {
     "data": {
      "application/vnd.jupyter.widget-view+json": {
       "model_id": "c780970039764c7f9747fb2dbc5bdcf4",
       "version_major": 2,
       "version_minor": 0
      },
      "text/plain": [
       "Processing 2080s:   0%|          | 0/3 [00:00<?, ?it/s]"
      ]
     },
     "metadata": {},
     "output_type": "display_data"
    },
    {
     "data": {
      "application/vnd.jupyter.widget-view+json": {
       "model_id": "8719f80f2978463a903616017335b089",
       "version_major": 2,
       "version_minor": 0
      },
      "text/plain": [
       "Processing 2090s:   0%|          | 0/3 [00:00<?, ?it/s]"
      ]
     },
     "metadata": {},
     "output_type": "display_data"
    },
    {
     "data": {
      "application/vnd.jupyter.widget-view+json": {
       "model_id": "867635bb37704ce5bd1c032c60cfe853",
       "version_major": 2,
       "version_minor": 0
      },
      "text/plain": [
       "Processing ACCESS1-3 rcp85 data...:   0%|          | 0/15 [00:00<?, ?it/s]"
      ]
     },
     "metadata": {},
     "output_type": "display_data"
    },
    {
     "data": {
      "application/vnd.jupyter.widget-view+json": {
       "model_id": "d82e55cd6a104bb9afcd4ea581cce419",
       "version_major": 2,
       "version_minor": 0
      },
      "text/plain": [
       "Processing 1950s:   0%|          | 0/3 [00:00<?, ?it/s]"
      ]
     },
     "metadata": {},
     "output_type": "display_data"
    },
    {
     "data": {
      "application/vnd.jupyter.widget-view+json": {
       "model_id": "90e7a7a576f54deabb6e506aa1e7a31c",
       "version_major": 2,
       "version_minor": 0
      },
      "text/plain": [
       "Processing 1960s:   0%|          | 0/3 [00:00<?, ?it/s]"
      ]
     },
     "metadata": {},
     "output_type": "display_data"
    },
    {
     "data": {
      "application/vnd.jupyter.widget-view+json": {
       "model_id": "a741a02d31c34066bf60b22419ac819b",
       "version_major": 2,
       "version_minor": 0
      },
      "text/plain": [
       "Processing 1970s:   0%|          | 0/3 [00:00<?, ?it/s]"
      ]
     },
     "metadata": {},
     "output_type": "display_data"
    },
    {
     "data": {
      "application/vnd.jupyter.widget-view+json": {
       "model_id": "0e473ab55a52428786fe6a7bad0f3546",
       "version_major": 2,
       "version_minor": 0
      },
      "text/plain": [
       "Processing 1980s:   0%|          | 0/3 [00:00<?, ?it/s]"
      ]
     },
     "metadata": {},
     "output_type": "display_data"
    },
    {
     "data": {
      "application/vnd.jupyter.widget-view+json": {
       "model_id": "f4db73dda0e649eb842e89e3e249ef83",
       "version_major": 2,
       "version_minor": 0
      },
      "text/plain": [
       "Processing 1990s:   0%|          | 0/3 [00:00<?, ?it/s]"
      ]
     },
     "metadata": {},
     "output_type": "display_data"
    },
    {
     "data": {
      "application/vnd.jupyter.widget-view+json": {
       "model_id": "39ada2101c674092beb0c8a6ec509ca1",
       "version_major": 2,
       "version_minor": 0
      },
      "text/plain": [
       "Processing 2000s:   0%|          | 0/3 [00:00<?, ?it/s]"
      ]
     },
     "metadata": {},
     "output_type": "display_data"
    },
    {
     "data": {
      "application/vnd.jupyter.widget-view+json": {
       "model_id": "13d71b56384049c8bba7d302f2d7f1a4",
       "version_major": 2,
       "version_minor": 0
      },
      "text/plain": [
       "Processing 2010s:   0%|          | 0/3 [00:00<?, ?it/s]"
      ]
     },
     "metadata": {},
     "output_type": "display_data"
    },
    {
     "data": {
      "application/vnd.jupyter.widget-view+json": {
       "model_id": "1883378378b44308855f832a2ebc0f63",
       "version_major": 2,
       "version_minor": 0
      },
      "text/plain": [
       "Processing 2020s:   0%|          | 0/3 [00:00<?, ?it/s]"
      ]
     },
     "metadata": {},
     "output_type": "display_data"
    },
    {
     "data": {
      "application/vnd.jupyter.widget-view+json": {
       "model_id": "ade98bbd93b94620a4e0970284346ba9",
       "version_major": 2,
       "version_minor": 0
      },
      "text/plain": [
       "Processing 2030s:   0%|          | 0/3 [00:00<?, ?it/s]"
      ]
     },
     "metadata": {},
     "output_type": "display_data"
    },
    {
     "data": {
      "application/vnd.jupyter.widget-view+json": {
       "model_id": "0c05a5a4506740368290ba4a1f98e1c0",
       "version_major": 2,
       "version_minor": 0
      },
      "text/plain": [
       "Processing 2040s:   0%|          | 0/3 [00:00<?, ?it/s]"
      ]
     },
     "metadata": {},
     "output_type": "display_data"
    },
    {
     "data": {
      "application/vnd.jupyter.widget-view+json": {
       "model_id": "bb7f9cb70cd14c6b99a0ae46f6b33fb0",
       "version_major": 2,
       "version_minor": 0
      },
      "text/plain": [
       "Processing 2050s:   0%|          | 0/3 [00:00<?, ?it/s]"
      ]
     },
     "metadata": {},
     "output_type": "display_data"
    },
    {
     "data": {
      "application/vnd.jupyter.widget-view+json": {
       "model_id": "d8013ad1adf4439ba17491049cf9cb37",
       "version_major": 2,
       "version_minor": 0
      },
      "text/plain": [
       "Processing 2060s:   0%|          | 0/3 [00:00<?, ?it/s]"
      ]
     },
     "metadata": {},
     "output_type": "display_data"
    },
    {
     "data": {
      "application/vnd.jupyter.widget-view+json": {
       "model_id": "faffabb38af7402d81b3824b8508db80",
       "version_major": 2,
       "version_minor": 0
      },
      "text/plain": [
       "Processing 2070s:   0%|          | 0/3 [00:00<?, ?it/s]"
      ]
     },
     "metadata": {},
     "output_type": "display_data"
    },
    {
     "data": {
      "application/vnd.jupyter.widget-view+json": {
       "model_id": "33c9cd2b7c324d78a1d209be4a7d8397",
       "version_major": 2,
       "version_minor": 0
      },
      "text/plain": [
       "Processing 2080s:   0%|          | 0/3 [00:00<?, ?it/s]"
      ]
     },
     "metadata": {},
     "output_type": "display_data"
    },
    {
     "data": {
      "application/vnd.jupyter.widget-view+json": {
       "model_id": "0e4dea99dbab46dfacf463dca3b82f5f",
       "version_major": 2,
       "version_minor": 0
      },
      "text/plain": [
       "Processing 2090s:   0%|          | 0/3 [00:00<?, ?it/s]"
      ]
     },
     "metadata": {},
     "output_type": "display_data"
    },
    {
     "data": {
      "application/vnd.jupyter.widget-view+json": {
       "model_id": "211b380e33824908a673e2f8ce714b94",
       "version_major": 2,
       "version_minor": 0
      },
      "text/plain": [
       "Processing CanESM2 rcp45 data...:   0%|          | 0/15 [00:00<?, ?it/s]"
      ]
     },
     "metadata": {},
     "output_type": "display_data"
    },
    {
     "data": {
      "application/vnd.jupyter.widget-view+json": {
       "model_id": "801511942c2048d6b3411772fc3e1cf8",
       "version_major": 2,
       "version_minor": 0
      },
      "text/plain": [
       "Processing 1950s:   0%|          | 0/3 [00:00<?, ?it/s]"
      ]
     },
     "metadata": {},
     "output_type": "display_data"
    },
    {
     "data": {
      "application/vnd.jupyter.widget-view+json": {
       "model_id": "120c660b0b654adf9d692a60af6ea23a",
       "version_major": 2,
       "version_minor": 0
      },
      "text/plain": [
       "Processing 1960s:   0%|          | 0/3 [00:00<?, ?it/s]"
      ]
     },
     "metadata": {},
     "output_type": "display_data"
    },
    {
     "data": {
      "application/vnd.jupyter.widget-view+json": {
       "model_id": "07d991a90e1a4135bc13f99e8c94b2a9",
       "version_major": 2,
       "version_minor": 0
      },
      "text/plain": [
       "Processing 1970s:   0%|          | 0/3 [00:00<?, ?it/s]"
      ]
     },
     "metadata": {},
     "output_type": "display_data"
    },
    {
     "data": {
      "application/vnd.jupyter.widget-view+json": {
       "model_id": "13b098b2a4ce4243b0afad7ca6bc43d7",
       "version_major": 2,
       "version_minor": 0
      },
      "text/plain": [
       "Processing 1980s:   0%|          | 0/3 [00:00<?, ?it/s]"
      ]
     },
     "metadata": {},
     "output_type": "display_data"
    },
    {
     "data": {
      "application/vnd.jupyter.widget-view+json": {
       "model_id": "985757c1f8564acca4b2ededb2c21765",
       "version_major": 2,
       "version_minor": 0
      },
      "text/plain": [
       "Processing 1990s:   0%|          | 0/3 [00:00<?, ?it/s]"
      ]
     },
     "metadata": {},
     "output_type": "display_data"
    },
    {
     "data": {
      "application/vnd.jupyter.widget-view+json": {
       "model_id": "c27e526ff743432cbb60d9c7df74f447",
       "version_major": 2,
       "version_minor": 0
      },
      "text/plain": [
       "Processing 2000s:   0%|          | 0/3 [00:00<?, ?it/s]"
      ]
     },
     "metadata": {},
     "output_type": "display_data"
    },
    {
     "data": {
      "application/vnd.jupyter.widget-view+json": {
       "model_id": "2c7a077fe456426f8d111f9c2b84142c",
       "version_major": 2,
       "version_minor": 0
      },
      "text/plain": [
       "Processing 2010s:   0%|          | 0/3 [00:00<?, ?it/s]"
      ]
     },
     "metadata": {},
     "output_type": "display_data"
    },
    {
     "data": {
      "application/vnd.jupyter.widget-view+json": {
       "model_id": "62e0d7f7e2694e11bc0103acc8bb26f5",
       "version_major": 2,
       "version_minor": 0
      },
      "text/plain": [
       "Processing 2020s:   0%|          | 0/3 [00:00<?, ?it/s]"
      ]
     },
     "metadata": {},
     "output_type": "display_data"
    },
    {
     "data": {
      "application/vnd.jupyter.widget-view+json": {
       "model_id": "65a45d674f8543d9ba34b996fc5ae310",
       "version_major": 2,
       "version_minor": 0
      },
      "text/plain": [
       "Processing 2030s:   0%|          | 0/3 [00:00<?, ?it/s]"
      ]
     },
     "metadata": {},
     "output_type": "display_data"
    },
    {
     "data": {
      "application/vnd.jupyter.widget-view+json": {
       "model_id": "ef5887957b784e799b71aa992f40bf03",
       "version_major": 2,
       "version_minor": 0
      },
      "text/plain": [
       "Processing 2040s:   0%|          | 0/3 [00:00<?, ?it/s]"
      ]
     },
     "metadata": {},
     "output_type": "display_data"
    },
    {
     "data": {
      "application/vnd.jupyter.widget-view+json": {
       "model_id": "a7e7d6bd3e4e41359244091acaee4996",
       "version_major": 2,
       "version_minor": 0
      },
      "text/plain": [
       "Processing 2050s:   0%|          | 0/3 [00:00<?, ?it/s]"
      ]
     },
     "metadata": {},
     "output_type": "display_data"
    },
    {
     "data": {
      "application/vnd.jupyter.widget-view+json": {
       "model_id": "9052a0fed81a44ceac87db5c2da68d0b",
       "version_major": 2,
       "version_minor": 0
      },
      "text/plain": [
       "Processing 2060s:   0%|          | 0/3 [00:00<?, ?it/s]"
      ]
     },
     "metadata": {},
     "output_type": "display_data"
    },
    {
     "data": {
      "application/vnd.jupyter.widget-view+json": {
       "model_id": "88e338bf8e4c454ba3dbba82305d9f69",
       "version_major": 2,
       "version_minor": 0
      },
      "text/plain": [
       "Processing 2070s:   0%|          | 0/3 [00:00<?, ?it/s]"
      ]
     },
     "metadata": {},
     "output_type": "display_data"
    },
    {
     "data": {
      "application/vnd.jupyter.widget-view+json": {
       "model_id": "fd11cf3e90e94a8bb36986070b48249a",
       "version_major": 2,
       "version_minor": 0
      },
      "text/plain": [
       "Processing 2080s:   0%|          | 0/3 [00:00<?, ?it/s]"
      ]
     },
     "metadata": {},
     "output_type": "display_data"
    },
    {
     "data": {
      "application/vnd.jupyter.widget-view+json": {
       "model_id": "2df72906e1af4bba90323b139c7a9160",
       "version_major": 2,
       "version_minor": 0
      },
      "text/plain": [
       "Processing 2090s:   0%|          | 0/3 [00:00<?, ?it/s]"
      ]
     },
     "metadata": {},
     "output_type": "display_data"
    },
    {
     "data": {
      "application/vnd.jupyter.widget-view+json": {
       "model_id": "873dc2b59233400283c7590a4fc2f4d9",
       "version_major": 2,
       "version_minor": 0
      },
      "text/plain": [
       "Processing CanESM2 rcp85 data...:   0%|          | 0/15 [00:00<?, ?it/s]"
      ]
     },
     "metadata": {},
     "output_type": "display_data"
    },
    {
     "data": {
      "application/vnd.jupyter.widget-view+json": {
       "model_id": "6fcc587ef057485ca48bb2ed2b253daf",
       "version_major": 2,
       "version_minor": 0
      },
      "text/plain": [
       "Processing 1950s:   0%|          | 0/3 [00:00<?, ?it/s]"
      ]
     },
     "metadata": {},
     "output_type": "display_data"
    },
    {
     "data": {
      "application/vnd.jupyter.widget-view+json": {
       "model_id": "5212718cbf3e4c4b932b6647a9f951a2",
       "version_major": 2,
       "version_minor": 0
      },
      "text/plain": [
       "Processing 1960s:   0%|          | 0/3 [00:00<?, ?it/s]"
      ]
     },
     "metadata": {},
     "output_type": "display_data"
    },
    {
     "data": {
      "application/vnd.jupyter.widget-view+json": {
       "model_id": "79d717a699564d4495d0774f96280cc0",
       "version_major": 2,
       "version_minor": 0
      },
      "text/plain": [
       "Processing 1970s:   0%|          | 0/3 [00:00<?, ?it/s]"
      ]
     },
     "metadata": {},
     "output_type": "display_data"
    },
    {
     "data": {
      "application/vnd.jupyter.widget-view+json": {
       "model_id": "e4348cdeb5ce40099d180826d78f9546",
       "version_major": 2,
       "version_minor": 0
      },
      "text/plain": [
       "Processing 1980s:   0%|          | 0/3 [00:00<?, ?it/s]"
      ]
     },
     "metadata": {},
     "output_type": "display_data"
    },
    {
     "data": {
      "application/vnd.jupyter.widget-view+json": {
       "model_id": "ee369260086541fd8502f4b5629740fe",
       "version_major": 2,
       "version_minor": 0
      },
      "text/plain": [
       "Processing 1990s:   0%|          | 0/3 [00:00<?, ?it/s]"
      ]
     },
     "metadata": {},
     "output_type": "display_data"
    },
    {
     "data": {
      "application/vnd.jupyter.widget-view+json": {
       "model_id": "652733ee302545bb9cfa070fb417af7e",
       "version_major": 2,
       "version_minor": 0
      },
      "text/plain": [
       "Processing 2000s:   0%|          | 0/3 [00:00<?, ?it/s]"
      ]
     },
     "metadata": {},
     "output_type": "display_data"
    },
    {
     "data": {
      "application/vnd.jupyter.widget-view+json": {
       "model_id": "d23cef332b0c408f82da54554f76f627",
       "version_major": 2,
       "version_minor": 0
      },
      "text/plain": [
       "Processing 2010s:   0%|          | 0/3 [00:00<?, ?it/s]"
      ]
     },
     "metadata": {},
     "output_type": "display_data"
    },
    {
     "data": {
      "application/vnd.jupyter.widget-view+json": {
       "model_id": "f798fc015dfb491c847d82ac7acb4b76",
       "version_major": 2,
       "version_minor": 0
      },
      "text/plain": [
       "Processing 2020s:   0%|          | 0/3 [00:00<?, ?it/s]"
      ]
     },
     "metadata": {},
     "output_type": "display_data"
    },
    {
     "data": {
      "application/vnd.jupyter.widget-view+json": {
       "model_id": "d7ab4fad65934734b72c50feedacb3ad",
       "version_major": 2,
       "version_minor": 0
      },
      "text/plain": [
       "Processing 2030s:   0%|          | 0/3 [00:00<?, ?it/s]"
      ]
     },
     "metadata": {},
     "output_type": "display_data"
    },
    {
     "data": {
      "application/vnd.jupyter.widget-view+json": {
       "model_id": "dfc9bb31d72b4efc91846bf9b68e0c25",
       "version_major": 2,
       "version_minor": 0
      },
      "text/plain": [
       "Processing 2040s:   0%|          | 0/3 [00:00<?, ?it/s]"
      ]
     },
     "metadata": {},
     "output_type": "display_data"
    },
    {
     "data": {
      "application/vnd.jupyter.widget-view+json": {
       "model_id": "99b2a9ab5d0a4e60b2f25161703437af",
       "version_major": 2,
       "version_minor": 0
      },
      "text/plain": [
       "Processing 2050s:   0%|          | 0/3 [00:00<?, ?it/s]"
      ]
     },
     "metadata": {},
     "output_type": "display_data"
    },
    {
     "data": {
      "application/vnd.jupyter.widget-view+json": {
       "model_id": "d14ced0217aa442e833779bdedd40655",
       "version_major": 2,
       "version_minor": 0
      },
      "text/plain": [
       "Processing 2060s:   0%|          | 0/3 [00:00<?, ?it/s]"
      ]
     },
     "metadata": {},
     "output_type": "display_data"
    },
    {
     "data": {
      "application/vnd.jupyter.widget-view+json": {
       "model_id": "a8ea105960154a21a7d1728525b0ae95",
       "version_major": 2,
       "version_minor": 0
      },
      "text/plain": [
       "Processing 2070s:   0%|          | 0/3 [00:00<?, ?it/s]"
      ]
     },
     "metadata": {},
     "output_type": "display_data"
    },
    {
     "data": {
      "application/vnd.jupyter.widget-view+json": {
       "model_id": "547e40ae0cee492db9acb5273b18b15f",
       "version_major": 2,
       "version_minor": 0
      },
      "text/plain": [
       "Processing 2080s:   0%|          | 0/3 [00:00<?, ?it/s]"
      ]
     },
     "metadata": {},
     "output_type": "display_data"
    },
    {
     "data": {
      "application/vnd.jupyter.widget-view+json": {
       "model_id": "7f0f7d0cb5fd4139969bb8f9e720b58f",
       "version_major": 2,
       "version_minor": 0
      },
      "text/plain": [
       "Processing 2090s:   0%|          | 0/3 [00:00<?, ?it/s]"
      ]
     },
     "metadata": {},
     "output_type": "display_data"
    },
    {
     "data": {
      "application/vnd.jupyter.widget-view+json": {
       "model_id": "ad47ab68fdd343ddac4e7b524ca9e9f0",
       "version_major": 2,
       "version_minor": 0
      },
      "text/plain": [
       "Processing CCSM4 rcp45 data...:   0%|          | 0/15 [00:00<?, ?it/s]"
      ]
     },
     "metadata": {},
     "output_type": "display_data"
    },
    {
     "data": {
      "application/vnd.jupyter.widget-view+json": {
       "model_id": "cb1a6ccd6d9949fb91339d21567dde66",
       "version_major": 2,
       "version_minor": 0
      },
      "text/plain": [
       "Processing 1950s:   0%|          | 0/3 [00:00<?, ?it/s]"
      ]
     },
     "metadata": {},
     "output_type": "display_data"
    },
    {
     "data": {
      "application/vnd.jupyter.widget-view+json": {
       "model_id": "08c66106646f436eab095f99b4193886",
       "version_major": 2,
       "version_minor": 0
      },
      "text/plain": [
       "Processing 1960s:   0%|          | 0/3 [00:00<?, ?it/s]"
      ]
     },
     "metadata": {},
     "output_type": "display_data"
    },
    {
     "data": {
      "application/vnd.jupyter.widget-view+json": {
       "model_id": "b294cda397ab4b6ab78687fe9b0b6d43",
       "version_major": 2,
       "version_minor": 0
      },
      "text/plain": [
       "Processing 1970s:   0%|          | 0/3 [00:00<?, ?it/s]"
      ]
     },
     "metadata": {},
     "output_type": "display_data"
    },
    {
     "data": {
      "application/vnd.jupyter.widget-view+json": {
       "model_id": "7f5acf19e60744ad9f04e84cb82736c8",
       "version_major": 2,
       "version_minor": 0
      },
      "text/plain": [
       "Processing 1980s:   0%|          | 0/3 [00:00<?, ?it/s]"
      ]
     },
     "metadata": {},
     "output_type": "display_data"
    },
    {
     "data": {
      "application/vnd.jupyter.widget-view+json": {
       "model_id": "048bd6e88fd54abdbbabe354b8d46750",
       "version_major": 2,
       "version_minor": 0
      },
      "text/plain": [
       "Processing 1990s:   0%|          | 0/3 [00:00<?, ?it/s]"
      ]
     },
     "metadata": {},
     "output_type": "display_data"
    },
    {
     "data": {
      "application/vnd.jupyter.widget-view+json": {
       "model_id": "9f8ab34b031c4dd9bb5dc1354fecaf85",
       "version_major": 2,
       "version_minor": 0
      },
      "text/plain": [
       "Processing 2000s:   0%|          | 0/3 [00:00<?, ?it/s]"
      ]
     },
     "metadata": {},
     "output_type": "display_data"
    },
    {
     "data": {
      "application/vnd.jupyter.widget-view+json": {
       "model_id": "5eb1cd9a605c4555a242f9374b70d207",
       "version_major": 2,
       "version_minor": 0
      },
      "text/plain": [
       "Processing 2010s:   0%|          | 0/3 [00:00<?, ?it/s]"
      ]
     },
     "metadata": {},
     "output_type": "display_data"
    },
    {
     "data": {
      "application/vnd.jupyter.widget-view+json": {
       "model_id": "f6aca505f2b44e13ac137f6ed6cfd6b3",
       "version_major": 2,
       "version_minor": 0
      },
      "text/plain": [
       "Processing 2020s:   0%|          | 0/3 [00:00<?, ?it/s]"
      ]
     },
     "metadata": {},
     "output_type": "display_data"
    },
    {
     "data": {
      "application/vnd.jupyter.widget-view+json": {
       "model_id": "5b9d2c63579645faa539fd887aab693b",
       "version_major": 2,
       "version_minor": 0
      },
      "text/plain": [
       "Processing 2030s:   0%|          | 0/3 [00:00<?, ?it/s]"
      ]
     },
     "metadata": {},
     "output_type": "display_data"
    },
    {
     "data": {
      "application/vnd.jupyter.widget-view+json": {
       "model_id": "0b98a68fcce3470f9f9f02e43fd373a9",
       "version_major": 2,
       "version_minor": 0
      },
      "text/plain": [
       "Processing 2040s:   0%|          | 0/3 [00:00<?, ?it/s]"
      ]
     },
     "metadata": {},
     "output_type": "display_data"
    },
    {
     "data": {
      "application/vnd.jupyter.widget-view+json": {
       "model_id": "2bf30ba3c69e4111abba68c812f8cfc9",
       "version_major": 2,
       "version_minor": 0
      },
      "text/plain": [
       "Processing 2050s:   0%|          | 0/3 [00:00<?, ?it/s]"
      ]
     },
     "metadata": {},
     "output_type": "display_data"
    },
    {
     "data": {
      "application/vnd.jupyter.widget-view+json": {
       "model_id": "85eb2ca006ab442c8b6ae955e6ea01dd",
       "version_major": 2,
       "version_minor": 0
      },
      "text/plain": [
       "Processing 2060s:   0%|          | 0/3 [00:00<?, ?it/s]"
      ]
     },
     "metadata": {},
     "output_type": "display_data"
    },
    {
     "data": {
      "application/vnd.jupyter.widget-view+json": {
       "model_id": "68b27d00bab844b78224e297ea16447d",
       "version_major": 2,
       "version_minor": 0
      },
      "text/plain": [
       "Processing 2070s:   0%|          | 0/3 [00:00<?, ?it/s]"
      ]
     },
     "metadata": {},
     "output_type": "display_data"
    },
    {
     "data": {
      "application/vnd.jupyter.widget-view+json": {
       "model_id": "6bca59343a6447e8b19a10b69e277a78",
       "version_major": 2,
       "version_minor": 0
      },
      "text/plain": [
       "Processing 2080s:   0%|          | 0/3 [00:00<?, ?it/s]"
      ]
     },
     "metadata": {},
     "output_type": "display_data"
    },
    {
     "data": {
      "application/vnd.jupyter.widget-view+json": {
       "model_id": "d7caa3c198d14ff19ebe91c7f198620f",
       "version_major": 2,
       "version_minor": 0
      },
      "text/plain": [
       "Processing 2090s:   0%|          | 0/3 [00:00<?, ?it/s]"
      ]
     },
     "metadata": {},
     "output_type": "display_data"
    },
    {
     "data": {
      "application/vnd.jupyter.widget-view+json": {
       "model_id": "d453ae77793740be82fa52658b80f8d7",
       "version_major": 2,
       "version_minor": 0
      },
      "text/plain": [
       "Processing CCSM4 rcp85 data...:   0%|          | 0/15 [00:00<?, ?it/s]"
      ]
     },
     "metadata": {},
     "output_type": "display_data"
    },
    {
     "data": {
      "application/vnd.jupyter.widget-view+json": {
       "model_id": "61bd69dd17454e6dad71b814f332d3d5",
       "version_major": 2,
       "version_minor": 0
      },
      "text/plain": [
       "Processing 1950s:   0%|          | 0/3 [00:00<?, ?it/s]"
      ]
     },
     "metadata": {},
     "output_type": "display_data"
    },
    {
     "data": {
      "application/vnd.jupyter.widget-view+json": {
       "model_id": "33fe39ddb9e04dd296264d9c297541df",
       "version_major": 2,
       "version_minor": 0
      },
      "text/plain": [
       "Processing 1960s:   0%|          | 0/3 [00:00<?, ?it/s]"
      ]
     },
     "metadata": {},
     "output_type": "display_data"
    },
    {
     "data": {
      "application/vnd.jupyter.widget-view+json": {
       "model_id": "2f9208539ca64bbba4f2f9e310382826",
       "version_major": 2,
       "version_minor": 0
      },
      "text/plain": [
       "Processing 1970s:   0%|          | 0/3 [00:00<?, ?it/s]"
      ]
     },
     "metadata": {},
     "output_type": "display_data"
    },
    {
     "data": {
      "application/vnd.jupyter.widget-view+json": {
       "model_id": "14bd8cfef1aa402ebacff08dc4bc16f4",
       "version_major": 2,
       "version_minor": 0
      },
      "text/plain": [
       "Processing 1980s:   0%|          | 0/3 [00:00<?, ?it/s]"
      ]
     },
     "metadata": {},
     "output_type": "display_data"
    },
    {
     "data": {
      "application/vnd.jupyter.widget-view+json": {
       "model_id": "da6146d52414478e8857a1c1ae3937fa",
       "version_major": 2,
       "version_minor": 0
      },
      "text/plain": [
       "Processing 1990s:   0%|          | 0/3 [00:00<?, ?it/s]"
      ]
     },
     "metadata": {},
     "output_type": "display_data"
    },
    {
     "data": {
      "application/vnd.jupyter.widget-view+json": {
       "model_id": "22bfcd19119f45359a12e54af40e1329",
       "version_major": 2,
       "version_minor": 0
      },
      "text/plain": [
       "Processing 2000s:   0%|          | 0/3 [00:00<?, ?it/s]"
      ]
     },
     "metadata": {},
     "output_type": "display_data"
    },
    {
     "data": {
      "application/vnd.jupyter.widget-view+json": {
       "model_id": "a6aaaba214fd4f81982ba562103d95e1",
       "version_major": 2,
       "version_minor": 0
      },
      "text/plain": [
       "Processing 2010s:   0%|          | 0/3 [00:00<?, ?it/s]"
      ]
     },
     "metadata": {},
     "output_type": "display_data"
    },
    {
     "data": {
      "application/vnd.jupyter.widget-view+json": {
       "model_id": "fa957dc354bb479fb4dffdb383855637",
       "version_major": 2,
       "version_minor": 0
      },
      "text/plain": [
       "Processing 2020s:   0%|          | 0/3 [00:00<?, ?it/s]"
      ]
     },
     "metadata": {},
     "output_type": "display_data"
    },
    {
     "data": {
      "application/vnd.jupyter.widget-view+json": {
       "model_id": "1f94a2f0aecb4835aae6ac33e0fc6fdd",
       "version_major": 2,
       "version_minor": 0
      },
      "text/plain": [
       "Processing 2030s:   0%|          | 0/3 [00:00<?, ?it/s]"
      ]
     },
     "metadata": {},
     "output_type": "display_data"
    },
    {
     "data": {
      "application/vnd.jupyter.widget-view+json": {
       "model_id": "7f35b799a4c246819488d15fe5b41170",
       "version_major": 2,
       "version_minor": 0
      },
      "text/plain": [
       "Processing 2040s:   0%|          | 0/3 [00:00<?, ?it/s]"
      ]
     },
     "metadata": {},
     "output_type": "display_data"
    },
    {
     "data": {
      "application/vnd.jupyter.widget-view+json": {
       "model_id": "4a9cd8afd8974b20a9e9f5c1479470bf",
       "version_major": 2,
       "version_minor": 0
      },
      "text/plain": [
       "Processing 2050s:   0%|          | 0/3 [00:00<?, ?it/s]"
      ]
     },
     "metadata": {},
     "output_type": "display_data"
    },
    {
     "data": {
      "application/vnd.jupyter.widget-view+json": {
       "model_id": "434e27953db94afd815827611b01641e",
       "version_major": 2,
       "version_minor": 0
      },
      "text/plain": [
       "Processing 2060s:   0%|          | 0/3 [00:00<?, ?it/s]"
      ]
     },
     "metadata": {},
     "output_type": "display_data"
    },
    {
     "data": {
      "application/vnd.jupyter.widget-view+json": {
       "model_id": "36d267406593402591162db7e2197aa2",
       "version_major": 2,
       "version_minor": 0
      },
      "text/plain": [
       "Processing 2070s:   0%|          | 0/3 [00:00<?, ?it/s]"
      ]
     },
     "metadata": {},
     "output_type": "display_data"
    },
    {
     "data": {
      "application/vnd.jupyter.widget-view+json": {
       "model_id": "1a15abd487a34eb9b19e42347dc26c0b",
       "version_major": 2,
       "version_minor": 0
      },
      "text/plain": [
       "Processing 2080s:   0%|          | 0/3 [00:00<?, ?it/s]"
      ]
     },
     "metadata": {},
     "output_type": "display_data"
    },
    {
     "data": {
      "application/vnd.jupyter.widget-view+json": {
       "model_id": "c0c4e825eac3474c9121dc6ad62a7886",
       "version_major": 2,
       "version_minor": 0
      },
      "text/plain": [
       "Processing 2090s:   0%|          | 0/3 [00:00<?, ?it/s]"
      ]
     },
     "metadata": {},
     "output_type": "display_data"
    },
    {
     "data": {
      "application/vnd.jupyter.widget-view+json": {
       "model_id": "8d4a4466d4564d5890fff3dd383267bf",
       "version_major": 2,
       "version_minor": 0
      },
      "text/plain": [
       "Processing CSIRO-Mk3-6-0 rcp45 data...:   0%|          | 0/15 [00:00<?, ?it/s]"
      ]
     },
     "metadata": {},
     "output_type": "display_data"
    },
    {
     "data": {
      "application/vnd.jupyter.widget-view+json": {
       "model_id": "baa33d624f874d7fa2db1e133b22deeb",
       "version_major": 2,
       "version_minor": 0
      },
      "text/plain": [
       "Processing 1950s:   0%|          | 0/3 [00:00<?, ?it/s]"
      ]
     },
     "metadata": {},
     "output_type": "display_data"
    },
    {
     "data": {
      "application/vnd.jupyter.widget-view+json": {
       "model_id": "47c0d87c22d04ed3a634a4d980d83c88",
       "version_major": 2,
       "version_minor": 0
      },
      "text/plain": [
       "Processing 1960s:   0%|          | 0/3 [00:00<?, ?it/s]"
      ]
     },
     "metadata": {},
     "output_type": "display_data"
    },
    {
     "data": {
      "application/vnd.jupyter.widget-view+json": {
       "model_id": "75d7eeddbe804eb69f2c5ae2007b1339",
       "version_major": 2,
       "version_minor": 0
      },
      "text/plain": [
       "Processing 1970s:   0%|          | 0/3 [00:00<?, ?it/s]"
      ]
     },
     "metadata": {},
     "output_type": "display_data"
    },
    {
     "data": {
      "application/vnd.jupyter.widget-view+json": {
       "model_id": "684a139e0c114959be68a595f2e827b9",
       "version_major": 2,
       "version_minor": 0
      },
      "text/plain": [
       "Processing 1980s:   0%|          | 0/3 [00:00<?, ?it/s]"
      ]
     },
     "metadata": {},
     "output_type": "display_data"
    },
    {
     "data": {
      "application/vnd.jupyter.widget-view+json": {
       "model_id": "3f53e98453c74760a1ebfab11a0b4cf5",
       "version_major": 2,
       "version_minor": 0
      },
      "text/plain": [
       "Processing 1990s:   0%|          | 0/3 [00:00<?, ?it/s]"
      ]
     },
     "metadata": {},
     "output_type": "display_data"
    },
    {
     "data": {
      "application/vnd.jupyter.widget-view+json": {
       "model_id": "8a24c03dd3dc4192a210de36e7cfd8e7",
       "version_major": 2,
       "version_minor": 0
      },
      "text/plain": [
       "Processing 2000s:   0%|          | 0/3 [00:00<?, ?it/s]"
      ]
     },
     "metadata": {},
     "output_type": "display_data"
    },
    {
     "data": {
      "application/vnd.jupyter.widget-view+json": {
       "model_id": "85cf0b84905f438eb2f8368668e588ea",
       "version_major": 2,
       "version_minor": 0
      },
      "text/plain": [
       "Processing 2010s:   0%|          | 0/3 [00:00<?, ?it/s]"
      ]
     },
     "metadata": {},
     "output_type": "display_data"
    },
    {
     "data": {
      "application/vnd.jupyter.widget-view+json": {
       "model_id": "518acfb05c6046788739c711e04c3495",
       "version_major": 2,
       "version_minor": 0
      },
      "text/plain": [
       "Processing 2020s:   0%|          | 0/3 [00:00<?, ?it/s]"
      ]
     },
     "metadata": {},
     "output_type": "display_data"
    },
    {
     "data": {
      "application/vnd.jupyter.widget-view+json": {
       "model_id": "e3f8d63b44c043acb9057863cf9915a1",
       "version_major": 2,
       "version_minor": 0
      },
      "text/plain": [
       "Processing 2030s:   0%|          | 0/3 [00:00<?, ?it/s]"
      ]
     },
     "metadata": {},
     "output_type": "display_data"
    },
    {
     "data": {
      "application/vnd.jupyter.widget-view+json": {
       "model_id": "0f326aef669340c790ada4bb811ef89e",
       "version_major": 2,
       "version_minor": 0
      },
      "text/plain": [
       "Processing 2040s:   0%|          | 0/3 [00:00<?, ?it/s]"
      ]
     },
     "metadata": {},
     "output_type": "display_data"
    },
    {
     "data": {
      "application/vnd.jupyter.widget-view+json": {
       "model_id": "99771785a3c8467aba230266cd67c5c0",
       "version_major": 2,
       "version_minor": 0
      },
      "text/plain": [
       "Processing 2050s:   0%|          | 0/3 [00:00<?, ?it/s]"
      ]
     },
     "metadata": {},
     "output_type": "display_data"
    },
    {
     "data": {
      "application/vnd.jupyter.widget-view+json": {
       "model_id": "73225eb810394fb9a8539d98ede3da30",
       "version_major": 2,
       "version_minor": 0
      },
      "text/plain": [
       "Processing 2060s:   0%|          | 0/3 [00:00<?, ?it/s]"
      ]
     },
     "metadata": {},
     "output_type": "display_data"
    },
    {
     "data": {
      "application/vnd.jupyter.widget-view+json": {
       "model_id": "6db93dd10ed140f4a675cc69ed6a1a94",
       "version_major": 2,
       "version_minor": 0
      },
      "text/plain": [
       "Processing 2070s:   0%|          | 0/3 [00:00<?, ?it/s]"
      ]
     },
     "metadata": {},
     "output_type": "display_data"
    },
    {
     "data": {
      "application/vnd.jupyter.widget-view+json": {
       "model_id": "cb955831b7394869910f7f612b319f57",
       "version_major": 2,
       "version_minor": 0
      },
      "text/plain": [
       "Processing 2080s:   0%|          | 0/3 [00:00<?, ?it/s]"
      ]
     },
     "metadata": {},
     "output_type": "display_data"
    },
    {
     "data": {
      "application/vnd.jupyter.widget-view+json": {
       "model_id": "e96d9797d91943aaab6595387d0ab483",
       "version_major": 2,
       "version_minor": 0
      },
      "text/plain": [
       "Processing 2090s:   0%|          | 0/3 [00:00<?, ?it/s]"
      ]
     },
     "metadata": {},
     "output_type": "display_data"
    },
    {
     "data": {
      "application/vnd.jupyter.widget-view+json": {
       "model_id": "816b48c50fa444359ca0c2f034d23bb1",
       "version_major": 2,
       "version_minor": 0
      },
      "text/plain": [
       "Processing CSIRO-Mk3-6-0 rcp85 data...:   0%|          | 0/15 [00:00<?, ?it/s]"
      ]
     },
     "metadata": {},
     "output_type": "display_data"
    },
    {
     "data": {
      "application/vnd.jupyter.widget-view+json": {
       "model_id": "5220d67e8c9c44cc81888751a3b05ad3",
       "version_major": 2,
       "version_minor": 0
      },
      "text/plain": [
       "Processing 1950s:   0%|          | 0/3 [00:00<?, ?it/s]"
      ]
     },
     "metadata": {},
     "output_type": "display_data"
    },
    {
     "data": {
      "application/vnd.jupyter.widget-view+json": {
       "model_id": "eda0b99b66da451ca2b8c841721c7d5d",
       "version_major": 2,
       "version_minor": 0
      },
      "text/plain": [
       "Processing 1960s:   0%|          | 0/3 [00:00<?, ?it/s]"
      ]
     },
     "metadata": {},
     "output_type": "display_data"
    },
    {
     "data": {
      "application/vnd.jupyter.widget-view+json": {
       "model_id": "4e46bdf811e941b1b318c248eb696c45",
       "version_major": 2,
       "version_minor": 0
      },
      "text/plain": [
       "Processing 1970s:   0%|          | 0/3 [00:00<?, ?it/s]"
      ]
     },
     "metadata": {},
     "output_type": "display_data"
    },
    {
     "data": {
      "application/vnd.jupyter.widget-view+json": {
       "model_id": "7e5b549873984a51858e4b9c23de0a72",
       "version_major": 2,
       "version_minor": 0
      },
      "text/plain": [
       "Processing 1980s:   0%|          | 0/3 [00:00<?, ?it/s]"
      ]
     },
     "metadata": {},
     "output_type": "display_data"
    },
    {
     "data": {
      "application/vnd.jupyter.widget-view+json": {
       "model_id": "c277901652ca499481354c157e276a5e",
       "version_major": 2,
       "version_minor": 0
      },
      "text/plain": [
       "Processing 1990s:   0%|          | 0/3 [00:00<?, ?it/s]"
      ]
     },
     "metadata": {},
     "output_type": "display_data"
    },
    {
     "data": {
      "application/vnd.jupyter.widget-view+json": {
       "model_id": "b6a28c073f834d10817b66cf881adbd8",
       "version_major": 2,
       "version_minor": 0
      },
      "text/plain": [
       "Processing 2000s:   0%|          | 0/3 [00:00<?, ?it/s]"
      ]
     },
     "metadata": {},
     "output_type": "display_data"
    },
    {
     "data": {
      "application/vnd.jupyter.widget-view+json": {
       "model_id": "66f5462946194f2493931158570c25bb",
       "version_major": 2,
       "version_minor": 0
      },
      "text/plain": [
       "Processing 2010s:   0%|          | 0/3 [00:00<?, ?it/s]"
      ]
     },
     "metadata": {},
     "output_type": "display_data"
    },
    {
     "data": {
      "application/vnd.jupyter.widget-view+json": {
       "model_id": "38b16ac7d2c84981b0d91a4a2cf27276",
       "version_major": 2,
       "version_minor": 0
      },
      "text/plain": [
       "Processing 2020s:   0%|          | 0/3 [00:00<?, ?it/s]"
      ]
     },
     "metadata": {},
     "output_type": "display_data"
    },
    {
     "data": {
      "application/vnd.jupyter.widget-view+json": {
       "model_id": "075d549fa3e14e259c6ab713105090a8",
       "version_major": 2,
       "version_minor": 0
      },
      "text/plain": [
       "Processing 2030s:   0%|          | 0/3 [00:00<?, ?it/s]"
      ]
     },
     "metadata": {},
     "output_type": "display_data"
    },
    {
     "data": {
      "application/vnd.jupyter.widget-view+json": {
       "model_id": "0415bbf0b02b40f28bfe440a75dce788",
       "version_major": 2,
       "version_minor": 0
      },
      "text/plain": [
       "Processing 2040s:   0%|          | 0/3 [00:00<?, ?it/s]"
      ]
     },
     "metadata": {},
     "output_type": "display_data"
    },
    {
     "data": {
      "application/vnd.jupyter.widget-view+json": {
       "model_id": "ddde1f282c074f3e8ad2a2204af0e8c6",
       "version_major": 2,
       "version_minor": 0
      },
      "text/plain": [
       "Processing 2050s:   0%|          | 0/3 [00:00<?, ?it/s]"
      ]
     },
     "metadata": {},
     "output_type": "display_data"
    },
    {
     "data": {
      "application/vnd.jupyter.widget-view+json": {
       "model_id": "d8f8950809c24b178659e564e91916c2",
       "version_major": 2,
       "version_minor": 0
      },
      "text/plain": [
       "Processing 2060s:   0%|          | 0/3 [00:00<?, ?it/s]"
      ]
     },
     "metadata": {},
     "output_type": "display_data"
    },
    {
     "data": {
      "application/vnd.jupyter.widget-view+json": {
       "model_id": "37857c03ccc1432688d30d56e0904972",
       "version_major": 2,
       "version_minor": 0
      },
      "text/plain": [
       "Processing 2070s:   0%|          | 0/3 [00:00<?, ?it/s]"
      ]
     },
     "metadata": {},
     "output_type": "display_data"
    },
    {
     "data": {
      "application/vnd.jupyter.widget-view+json": {
       "model_id": "5ddf102c379c4b238e0059f840780dbe",
       "version_major": 2,
       "version_minor": 0
      },
      "text/plain": [
       "Processing 2080s:   0%|          | 0/3 [00:00<?, ?it/s]"
      ]
     },
     "metadata": {},
     "output_type": "display_data"
    },
    {
     "data": {
      "application/vnd.jupyter.widget-view+json": {
       "model_id": "03c6bea0ea1b433295b37bed6def564e",
       "version_major": 2,
       "version_minor": 0
      },
      "text/plain": [
       "Processing 2090s:   0%|          | 0/3 [00:00<?, ?it/s]"
      ]
     },
     "metadata": {},
     "output_type": "display_data"
    },
    {
     "data": {
      "application/vnd.jupyter.widget-view+json": {
       "model_id": "4b90bd5442b148ab9b5ccd2e1994b6c9",
       "version_major": 2,
       "version_minor": 0
      },
      "text/plain": [
       "Processing GFDL-ESM2M rcp45 data...:   0%|          | 0/15 [00:00<?, ?it/s]"
      ]
     },
     "metadata": {},
     "output_type": "display_data"
    },
    {
     "data": {
      "application/vnd.jupyter.widget-view+json": {
       "model_id": "5a1755f13df24e68aa1a3f1ea298484b",
       "version_major": 2,
       "version_minor": 0
      },
      "text/plain": [
       "Processing 1950s:   0%|          | 0/3 [00:00<?, ?it/s]"
      ]
     },
     "metadata": {},
     "output_type": "display_data"
    },
    {
     "data": {
      "application/vnd.jupyter.widget-view+json": {
       "model_id": "e281a5a3d5004657a3f9b066c9fb2588",
       "version_major": 2,
       "version_minor": 0
      },
      "text/plain": [
       "Processing 1960s:   0%|          | 0/3 [00:00<?, ?it/s]"
      ]
     },
     "metadata": {},
     "output_type": "display_data"
    },
    {
     "data": {
      "application/vnd.jupyter.widget-view+json": {
       "model_id": "57b479985fa6444ca5a418df45846654",
       "version_major": 2,
       "version_minor": 0
      },
      "text/plain": [
       "Processing 1970s:   0%|          | 0/3 [00:00<?, ?it/s]"
      ]
     },
     "metadata": {},
     "output_type": "display_data"
    },
    {
     "data": {
      "application/vnd.jupyter.widget-view+json": {
       "model_id": "5406799e7f3448ee9f3de3cd8fa92cab",
       "version_major": 2,
       "version_minor": 0
      },
      "text/plain": [
       "Processing 1980s:   0%|          | 0/3 [00:00<?, ?it/s]"
      ]
     },
     "metadata": {},
     "output_type": "display_data"
    },
    {
     "data": {
      "application/vnd.jupyter.widget-view+json": {
       "model_id": "acfac79d10cf42f3b384231f1c6438f3",
       "version_major": 2,
       "version_minor": 0
      },
      "text/plain": [
       "Processing 1990s:   0%|          | 0/3 [00:00<?, ?it/s]"
      ]
     },
     "metadata": {},
     "output_type": "display_data"
    },
    {
     "data": {
      "application/vnd.jupyter.widget-view+json": {
       "model_id": "6fc1966dc046498d95faf2cb55fef8a8",
       "version_major": 2,
       "version_minor": 0
      },
      "text/plain": [
       "Processing 2000s:   0%|          | 0/3 [00:00<?, ?it/s]"
      ]
     },
     "metadata": {},
     "output_type": "display_data"
    },
    {
     "data": {
      "application/vnd.jupyter.widget-view+json": {
       "model_id": "c54eaeb2bc4043ddaa3f9667570fab28",
       "version_major": 2,
       "version_minor": 0
      },
      "text/plain": [
       "Processing 2010s:   0%|          | 0/3 [00:00<?, ?it/s]"
      ]
     },
     "metadata": {},
     "output_type": "display_data"
    },
    {
     "data": {
      "application/vnd.jupyter.widget-view+json": {
       "model_id": "e1c53f336e4a446b945c06a95b81473b",
       "version_major": 2,
       "version_minor": 0
      },
      "text/plain": [
       "Processing 2020s:   0%|          | 0/3 [00:00<?, ?it/s]"
      ]
     },
     "metadata": {},
     "output_type": "display_data"
    },
    {
     "data": {
      "application/vnd.jupyter.widget-view+json": {
       "model_id": "9346266f84cd44f9b2a37ed7d1f649cc",
       "version_major": 2,
       "version_minor": 0
      },
      "text/plain": [
       "Processing 2030s:   0%|          | 0/3 [00:00<?, ?it/s]"
      ]
     },
     "metadata": {},
     "output_type": "display_data"
    },
    {
     "data": {
      "application/vnd.jupyter.widget-view+json": {
       "model_id": "b26ccd4fbe134fa8838a6685c0986fb3",
       "version_major": 2,
       "version_minor": 0
      },
      "text/plain": [
       "Processing 2040s:   0%|          | 0/3 [00:00<?, ?it/s]"
      ]
     },
     "metadata": {},
     "output_type": "display_data"
    },
    {
     "data": {
      "application/vnd.jupyter.widget-view+json": {
       "model_id": "eebac605181343ef877b40e3e412d59c",
       "version_major": 2,
       "version_minor": 0
      },
      "text/plain": [
       "Processing 2050s:   0%|          | 0/3 [00:00<?, ?it/s]"
      ]
     },
     "metadata": {},
     "output_type": "display_data"
    },
    {
     "data": {
      "application/vnd.jupyter.widget-view+json": {
       "model_id": "7e991ce1458f401682be562211fe1c31",
       "version_major": 2,
       "version_minor": 0
      },
      "text/plain": [
       "Processing 2060s:   0%|          | 0/3 [00:00<?, ?it/s]"
      ]
     },
     "metadata": {},
     "output_type": "display_data"
    },
    {
     "data": {
      "application/vnd.jupyter.widget-view+json": {
       "model_id": "932e15bce58c492aad85009d724d39ec",
       "version_major": 2,
       "version_minor": 0
      },
      "text/plain": [
       "Processing 2070s:   0%|          | 0/3 [00:00<?, ?it/s]"
      ]
     },
     "metadata": {},
     "output_type": "display_data"
    },
    {
     "data": {
      "application/vnd.jupyter.widget-view+json": {
       "model_id": "32ace1ab2b794c9189957c4f92f5324c",
       "version_major": 2,
       "version_minor": 0
      },
      "text/plain": [
       "Processing 2080s:   0%|          | 0/3 [00:00<?, ?it/s]"
      ]
     },
     "metadata": {},
     "output_type": "display_data"
    },
    {
     "data": {
      "application/vnd.jupyter.widget-view+json": {
       "model_id": "55e815036b924be793ab06afe925678d",
       "version_major": 2,
       "version_minor": 0
      },
      "text/plain": [
       "Processing 2090s:   0%|          | 0/3 [00:00<?, ?it/s]"
      ]
     },
     "metadata": {},
     "output_type": "display_data"
    },
    {
     "data": {
      "application/vnd.jupyter.widget-view+json": {
       "model_id": "399fb703e2c84ca282026d160ee2c97e",
       "version_major": 2,
       "version_minor": 0
      },
      "text/plain": [
       "Processing GFDL-ESM2M rcp85 data...:   0%|          | 0/15 [00:00<?, ?it/s]"
      ]
     },
     "metadata": {},
     "output_type": "display_data"
    },
    {
     "data": {
      "application/vnd.jupyter.widget-view+json": {
       "model_id": "d7cb4f1104a249a9bd4fb1ebd2c6cc2d",
       "version_major": 2,
       "version_minor": 0
      },
      "text/plain": [
       "Processing 1950s:   0%|          | 0/3 [00:00<?, ?it/s]"
      ]
     },
     "metadata": {},
     "output_type": "display_data"
    },
    {
     "data": {
      "application/vnd.jupyter.widget-view+json": {
       "model_id": "2f53d45612e144a5bf4796de4c458240",
       "version_major": 2,
       "version_minor": 0
      },
      "text/plain": [
       "Processing 1960s:   0%|          | 0/3 [00:00<?, ?it/s]"
      ]
     },
     "metadata": {},
     "output_type": "display_data"
    },
    {
     "data": {
      "application/vnd.jupyter.widget-view+json": {
       "model_id": "1fad228561f647a193822a79fe78b5db",
       "version_major": 2,
       "version_minor": 0
      },
      "text/plain": [
       "Processing 1970s:   0%|          | 0/3 [00:00<?, ?it/s]"
      ]
     },
     "metadata": {},
     "output_type": "display_data"
    },
    {
     "data": {
      "application/vnd.jupyter.widget-view+json": {
       "model_id": "cbe9f9cb72b94f0e969830f5b60b3b7f",
       "version_major": 2,
       "version_minor": 0
      },
      "text/plain": [
       "Processing 1980s:   0%|          | 0/3 [00:00<?, ?it/s]"
      ]
     },
     "metadata": {},
     "output_type": "display_data"
    },
    {
     "data": {
      "application/vnd.jupyter.widget-view+json": {
       "model_id": "5e57e3634cb9477c8a29cbf201330fbb",
       "version_major": 2,
       "version_minor": 0
      },
      "text/plain": [
       "Processing 1990s:   0%|          | 0/3 [00:00<?, ?it/s]"
      ]
     },
     "metadata": {},
     "output_type": "display_data"
    },
    {
     "data": {
      "application/vnd.jupyter.widget-view+json": {
       "model_id": "c4d197f7fa704fd19d2c830e86b5bcfb",
       "version_major": 2,
       "version_minor": 0
      },
      "text/plain": [
       "Processing 2000s:   0%|          | 0/3 [00:00<?, ?it/s]"
      ]
     },
     "metadata": {},
     "output_type": "display_data"
    },
    {
     "data": {
      "application/vnd.jupyter.widget-view+json": {
       "model_id": "69477a345f944a39bf46f27230a2d2b2",
       "version_major": 2,
       "version_minor": 0
      },
      "text/plain": [
       "Processing 2010s:   0%|          | 0/3 [00:00<?, ?it/s]"
      ]
     },
     "metadata": {},
     "output_type": "display_data"
    },
    {
     "data": {
      "application/vnd.jupyter.widget-view+json": {
       "model_id": "bd4184ed537a4acead48fad8d85af280",
       "version_major": 2,
       "version_minor": 0
      },
      "text/plain": [
       "Processing 2020s:   0%|          | 0/3 [00:00<?, ?it/s]"
      ]
     },
     "metadata": {},
     "output_type": "display_data"
    },
    {
     "data": {
      "application/vnd.jupyter.widget-view+json": {
       "model_id": "03435da46b50458fa46fdfa1d5b67648",
       "version_major": 2,
       "version_minor": 0
      },
      "text/plain": [
       "Processing 2030s:   0%|          | 0/3 [00:00<?, ?it/s]"
      ]
     },
     "metadata": {},
     "output_type": "display_data"
    },
    {
     "data": {
      "application/vnd.jupyter.widget-view+json": {
       "model_id": "b0319e3ecbed42ca9dacba59a1bc6bc1",
       "version_major": 2,
       "version_minor": 0
      },
      "text/plain": [
       "Processing 2040s:   0%|          | 0/3 [00:00<?, ?it/s]"
      ]
     },
     "metadata": {},
     "output_type": "display_data"
    },
    {
     "data": {
      "application/vnd.jupyter.widget-view+json": {
       "model_id": "187c1a0922b4411b8071aafbaecc48b5",
       "version_major": 2,
       "version_minor": 0
      },
      "text/plain": [
       "Processing 2050s:   0%|          | 0/3 [00:00<?, ?it/s]"
      ]
     },
     "metadata": {},
     "output_type": "display_data"
    },
    {
     "data": {
      "application/vnd.jupyter.widget-view+json": {
       "model_id": "ccde732d45af414ba9a571a72d8a7cdf",
       "version_major": 2,
       "version_minor": 0
      },
      "text/plain": [
       "Processing 2060s:   0%|          | 0/3 [00:00<?, ?it/s]"
      ]
     },
     "metadata": {},
     "output_type": "display_data"
    },
    {
     "data": {
      "application/vnd.jupyter.widget-view+json": {
       "model_id": "82dde29f3b0c458a8e47730b005970f1",
       "version_major": 2,
       "version_minor": 0
      },
      "text/plain": [
       "Processing 2070s:   0%|          | 0/3 [00:00<?, ?it/s]"
      ]
     },
     "metadata": {},
     "output_type": "display_data"
    },
    {
     "data": {
      "application/vnd.jupyter.widget-view+json": {
       "model_id": "a910dad93a054c0b8006773ad0b0cc25",
       "version_major": 2,
       "version_minor": 0
      },
      "text/plain": [
       "Processing 2080s:   0%|          | 0/3 [00:00<?, ?it/s]"
      ]
     },
     "metadata": {},
     "output_type": "display_data"
    },
    {
     "data": {
      "application/vnd.jupyter.widget-view+json": {
       "model_id": "a46e7016d65649bd8562890361cf8c21",
       "version_major": 2,
       "version_minor": 0
      },
      "text/plain": [
       "Processing 2090s:   0%|          | 0/3 [00:00<?, ?it/s]"
      ]
     },
     "metadata": {},
     "output_type": "display_data"
    },
    {
     "data": {
      "application/vnd.jupyter.widget-view+json": {
       "model_id": "6c154d69bb4f4ba89fd890d07d89b7de",
       "version_major": 2,
       "version_minor": 0
      },
      "text/plain": [
       "Processing inmcm4 rcp45 data...:   0%|          | 0/15 [00:00<?, ?it/s]"
      ]
     },
     "metadata": {},
     "output_type": "display_data"
    },
    {
     "data": {
      "application/vnd.jupyter.widget-view+json": {
       "model_id": "fc97283293ff44af9b65a5bca6318da8",
       "version_major": 2,
       "version_minor": 0
      },
      "text/plain": [
       "Processing 1950s:   0%|          | 0/3 [00:00<?, ?it/s]"
      ]
     },
     "metadata": {},
     "output_type": "display_data"
    },
    {
     "data": {
      "application/vnd.jupyter.widget-view+json": {
       "model_id": "0de71e9835034a868665ae7a819ecf77",
       "version_major": 2,
       "version_minor": 0
      },
      "text/plain": [
       "Processing 1960s:   0%|          | 0/3 [00:00<?, ?it/s]"
      ]
     },
     "metadata": {},
     "output_type": "display_data"
    },
    {
     "data": {
      "application/vnd.jupyter.widget-view+json": {
       "model_id": "49f6e49a9f3d4675a9e44344ad941657",
       "version_major": 2,
       "version_minor": 0
      },
      "text/plain": [
       "Processing 1970s:   0%|          | 0/3 [00:00<?, ?it/s]"
      ]
     },
     "metadata": {},
     "output_type": "display_data"
    },
    {
     "data": {
      "application/vnd.jupyter.widget-view+json": {
       "model_id": "7fe962d93f2d42f7ab8f3007b3dacac9",
       "version_major": 2,
       "version_minor": 0
      },
      "text/plain": [
       "Processing 1980s:   0%|          | 0/3 [00:00<?, ?it/s]"
      ]
     },
     "metadata": {},
     "output_type": "display_data"
    },
    {
     "data": {
      "application/vnd.jupyter.widget-view+json": {
       "model_id": "1d0aa21f7fa24be5a5ff45cb1a5a0b6d",
       "version_major": 2,
       "version_minor": 0
      },
      "text/plain": [
       "Processing 1990s:   0%|          | 0/3 [00:00<?, ?it/s]"
      ]
     },
     "metadata": {},
     "output_type": "display_data"
    },
    {
     "data": {
      "application/vnd.jupyter.widget-view+json": {
       "model_id": "944afb609fe345f49915c70e217d0ec8",
       "version_major": 2,
       "version_minor": 0
      },
      "text/plain": [
       "Processing 2000s:   0%|          | 0/3 [00:00<?, ?it/s]"
      ]
     },
     "metadata": {},
     "output_type": "display_data"
    },
    {
     "data": {
      "application/vnd.jupyter.widget-view+json": {
       "model_id": "52b3a94442054ea6b4ff6dfdb7acd3b6",
       "version_major": 2,
       "version_minor": 0
      },
      "text/plain": [
       "Processing 2010s:   0%|          | 0/3 [00:00<?, ?it/s]"
      ]
     },
     "metadata": {},
     "output_type": "display_data"
    },
    {
     "data": {
      "application/vnd.jupyter.widget-view+json": {
       "model_id": "a80d6e396a984689af4c02237cdcbc84",
       "version_major": 2,
       "version_minor": 0
      },
      "text/plain": [
       "Processing 2020s:   0%|          | 0/3 [00:00<?, ?it/s]"
      ]
     },
     "metadata": {},
     "output_type": "display_data"
    },
    {
     "data": {
      "application/vnd.jupyter.widget-view+json": {
       "model_id": "ddb4098e5ddd40e69a77d5ef918fe944",
       "version_major": 2,
       "version_minor": 0
      },
      "text/plain": [
       "Processing 2030s:   0%|          | 0/3 [00:00<?, ?it/s]"
      ]
     },
     "metadata": {},
     "output_type": "display_data"
    },
    {
     "data": {
      "application/vnd.jupyter.widget-view+json": {
       "model_id": "0fef06f2077e44898d4dfc3fb892bf69",
       "version_major": 2,
       "version_minor": 0
      },
      "text/plain": [
       "Processing 2040s:   0%|          | 0/3 [00:00<?, ?it/s]"
      ]
     },
     "metadata": {},
     "output_type": "display_data"
    },
    {
     "data": {
      "application/vnd.jupyter.widget-view+json": {
       "model_id": "785f95224e8c4429a8d49d5ac2b761ed",
       "version_major": 2,
       "version_minor": 0
      },
      "text/plain": [
       "Processing 2050s:   0%|          | 0/3 [00:00<?, ?it/s]"
      ]
     },
     "metadata": {},
     "output_type": "display_data"
    },
    {
     "data": {
      "application/vnd.jupyter.widget-view+json": {
       "model_id": "d8a68739a63249d8a3fabb791d6a449b",
       "version_major": 2,
       "version_minor": 0
      },
      "text/plain": [
       "Processing 2060s:   0%|          | 0/3 [00:00<?, ?it/s]"
      ]
     },
     "metadata": {},
     "output_type": "display_data"
    },
    {
     "data": {
      "application/vnd.jupyter.widget-view+json": {
       "model_id": "2163a25fd6684a6fa91c8f8d304ad441",
       "version_major": 2,
       "version_minor": 0
      },
      "text/plain": [
       "Processing 2070s:   0%|          | 0/3 [00:00<?, ?it/s]"
      ]
     },
     "metadata": {},
     "output_type": "display_data"
    },
    {
     "data": {
      "application/vnd.jupyter.widget-view+json": {
       "model_id": "fc473737e4f6465fb0769a41814114c0",
       "version_major": 2,
       "version_minor": 0
      },
      "text/plain": [
       "Processing 2080s:   0%|          | 0/3 [00:00<?, ?it/s]"
      ]
     },
     "metadata": {},
     "output_type": "display_data"
    },
    {
     "data": {
      "application/vnd.jupyter.widget-view+json": {
       "model_id": "75a1b847a3ee4fd3933934269a6bd343",
       "version_major": 2,
       "version_minor": 0
      },
      "text/plain": [
       "Processing 2090s:   0%|          | 0/3 [00:00<?, ?it/s]"
      ]
     },
     "metadata": {},
     "output_type": "display_data"
    },
    {
     "data": {
      "application/vnd.jupyter.widget-view+json": {
       "model_id": "c1d241843ef24d05a7e8fbffb8dfbd30",
       "version_major": 2,
       "version_minor": 0
      },
      "text/plain": [
       "Processing inmcm4 rcp85 data...:   0%|          | 0/15 [00:00<?, ?it/s]"
      ]
     },
     "metadata": {},
     "output_type": "display_data"
    },
    {
     "data": {
      "application/vnd.jupyter.widget-view+json": {
       "model_id": "e313de2f6cf249beb9ad12a5c255737d",
       "version_major": 2,
       "version_minor": 0
      },
      "text/plain": [
       "Processing 1950s:   0%|          | 0/3 [00:00<?, ?it/s]"
      ]
     },
     "metadata": {},
     "output_type": "display_data"
    },
    {
     "data": {
      "application/vnd.jupyter.widget-view+json": {
       "model_id": "fe3fdd0345d44376ae9eea97c9e91be1",
       "version_major": 2,
       "version_minor": 0
      },
      "text/plain": [
       "Processing 1960s:   0%|          | 0/3 [00:00<?, ?it/s]"
      ]
     },
     "metadata": {},
     "output_type": "display_data"
    },
    {
     "data": {
      "application/vnd.jupyter.widget-view+json": {
       "model_id": "e38f2e396d574cd797b5e8a480f8a396",
       "version_major": 2,
       "version_minor": 0
      },
      "text/plain": [
       "Processing 1970s:   0%|          | 0/3 [00:00<?, ?it/s]"
      ]
     },
     "metadata": {},
     "output_type": "display_data"
    },
    {
     "data": {
      "application/vnd.jupyter.widget-view+json": {
       "model_id": "fddbdd6ebc8b4920b1de7b1208805a73",
       "version_major": 2,
       "version_minor": 0
      },
      "text/plain": [
       "Processing 1980s:   0%|          | 0/3 [00:00<?, ?it/s]"
      ]
     },
     "metadata": {},
     "output_type": "display_data"
    },
    {
     "data": {
      "application/vnd.jupyter.widget-view+json": {
       "model_id": "ae3da4f385994690a138d0f111b39abe",
       "version_major": 2,
       "version_minor": 0
      },
      "text/plain": [
       "Processing 1990s:   0%|          | 0/3 [00:00<?, ?it/s]"
      ]
     },
     "metadata": {},
     "output_type": "display_data"
    },
    {
     "data": {
      "application/vnd.jupyter.widget-view+json": {
       "model_id": "844e79332a7347e4a857bba2f669cf5e",
       "version_major": 2,
       "version_minor": 0
      },
      "text/plain": [
       "Processing 2000s:   0%|          | 0/3 [00:00<?, ?it/s]"
      ]
     },
     "metadata": {},
     "output_type": "display_data"
    },
    {
     "data": {
      "application/vnd.jupyter.widget-view+json": {
       "model_id": "fe8a0c373c23466ea7136c044ccbb005",
       "version_major": 2,
       "version_minor": 0
      },
      "text/plain": [
       "Processing 2010s:   0%|          | 0/3 [00:00<?, ?it/s]"
      ]
     },
     "metadata": {},
     "output_type": "display_data"
    },
    {
     "data": {
      "application/vnd.jupyter.widget-view+json": {
       "model_id": "bed76eacfeaa40b489edb76047aa2cc7",
       "version_major": 2,
       "version_minor": 0
      },
      "text/plain": [
       "Processing 2020s:   0%|          | 0/3 [00:00<?, ?it/s]"
      ]
     },
     "metadata": {},
     "output_type": "display_data"
    },
    {
     "data": {
      "application/vnd.jupyter.widget-view+json": {
       "model_id": "87186e5f529d46b782fb668fba07ebb5",
       "version_major": 2,
       "version_minor": 0
      },
      "text/plain": [
       "Processing 2030s:   0%|          | 0/3 [00:00<?, ?it/s]"
      ]
     },
     "metadata": {},
     "output_type": "display_data"
    },
    {
     "data": {
      "application/vnd.jupyter.widget-view+json": {
       "model_id": "0a2a7264538e4a83a8ed2cf58bbd9d3c",
       "version_major": 2,
       "version_minor": 0
      },
      "text/plain": [
       "Processing 2040s:   0%|          | 0/3 [00:00<?, ?it/s]"
      ]
     },
     "metadata": {},
     "output_type": "display_data"
    },
    {
     "data": {
      "application/vnd.jupyter.widget-view+json": {
       "model_id": "83bcd9fe8f9741579a8ce4ec9ad761de",
       "version_major": 2,
       "version_minor": 0
      },
      "text/plain": [
       "Processing 2050s:   0%|          | 0/3 [00:00<?, ?it/s]"
      ]
     },
     "metadata": {},
     "output_type": "display_data"
    },
    {
     "data": {
      "application/vnd.jupyter.widget-view+json": {
       "model_id": "30ed81b2ebb6484e9491d03b1f358124",
       "version_major": 2,
       "version_minor": 0
      },
      "text/plain": [
       "Processing 2060s:   0%|          | 0/3 [00:00<?, ?it/s]"
      ]
     },
     "metadata": {},
     "output_type": "display_data"
    },
    {
     "data": {
      "application/vnd.jupyter.widget-view+json": {
       "model_id": "dbfc5199e1984ab7bcde426860e569c4",
       "version_major": 2,
       "version_minor": 0
      },
      "text/plain": [
       "Processing 2070s:   0%|          | 0/3 [00:00<?, ?it/s]"
      ]
     },
     "metadata": {},
     "output_type": "display_data"
    },
    {
     "data": {
      "application/vnd.jupyter.widget-view+json": {
       "model_id": "e60bd8ebd609424abdce17d4759bd997",
       "version_major": 2,
       "version_minor": 0
      },
      "text/plain": [
       "Processing 2080s:   0%|          | 0/3 [00:00<?, ?it/s]"
      ]
     },
     "metadata": {},
     "output_type": "display_data"
    },
    {
     "data": {
      "application/vnd.jupyter.widget-view+json": {
       "model_id": "797345ee06db44249abf4c6978055610",
       "version_major": 2,
       "version_minor": 0
      },
      "text/plain": [
       "Processing 2090s:   0%|          | 0/3 [00:00<?, ?it/s]"
      ]
     },
     "metadata": {},
     "output_type": "display_data"
    },
    {
     "data": {
      "application/vnd.jupyter.widget-view+json": {
       "model_id": "a4a3872eae184a199d15cd147f510855",
       "version_major": 2,
       "version_minor": 0
      },
      "text/plain": [
       "Processing MIROC5 rcp45 data...:   0%|          | 0/15 [00:00<?, ?it/s]"
      ]
     },
     "metadata": {},
     "output_type": "display_data"
    },
    {
     "data": {
      "application/vnd.jupyter.widget-view+json": {
       "model_id": "29c602f7a3264e8a88f189bef2ed032e",
       "version_major": 2,
       "version_minor": 0
      },
      "text/plain": [
       "Processing 1950s:   0%|          | 0/3 [00:00<?, ?it/s]"
      ]
     },
     "metadata": {},
     "output_type": "display_data"
    },
    {
     "data": {
      "application/vnd.jupyter.widget-view+json": {
       "model_id": "4babbddad44545e2a9dfa4843e12b058",
       "version_major": 2,
       "version_minor": 0
      },
      "text/plain": [
       "Processing 1960s:   0%|          | 0/3 [00:00<?, ?it/s]"
      ]
     },
     "metadata": {},
     "output_type": "display_data"
    },
    {
     "data": {
      "application/vnd.jupyter.widget-view+json": {
       "model_id": "474070f9424c4182aaf5ae6eacf40ccb",
       "version_major": 2,
       "version_minor": 0
      },
      "text/plain": [
       "Processing 1970s:   0%|          | 0/3 [00:00<?, ?it/s]"
      ]
     },
     "metadata": {},
     "output_type": "display_data"
    },
    {
     "data": {
      "application/vnd.jupyter.widget-view+json": {
       "model_id": "62812b6dd14e4b3083306b1b80a83d96",
       "version_major": 2,
       "version_minor": 0
      },
      "text/plain": [
       "Processing 1980s:   0%|          | 0/3 [00:00<?, ?it/s]"
      ]
     },
     "metadata": {},
     "output_type": "display_data"
    },
    {
     "data": {
      "application/vnd.jupyter.widget-view+json": {
       "model_id": "7145a1b166b5432d8985d27ee0a42dbb",
       "version_major": 2,
       "version_minor": 0
      },
      "text/plain": [
       "Processing 1990s:   0%|          | 0/3 [00:00<?, ?it/s]"
      ]
     },
     "metadata": {},
     "output_type": "display_data"
    },
    {
     "data": {
      "application/vnd.jupyter.widget-view+json": {
       "model_id": "06bc732ba9114e7d85b8b21bb7d81b89",
       "version_major": 2,
       "version_minor": 0
      },
      "text/plain": [
       "Processing 2000s:   0%|          | 0/3 [00:00<?, ?it/s]"
      ]
     },
     "metadata": {},
     "output_type": "display_data"
    },
    {
     "data": {
      "application/vnd.jupyter.widget-view+json": {
       "model_id": "cb3373de005f41bc863e4e2d79605804",
       "version_major": 2,
       "version_minor": 0
      },
      "text/plain": [
       "Processing 2010s:   0%|          | 0/3 [00:00<?, ?it/s]"
      ]
     },
     "metadata": {},
     "output_type": "display_data"
    },
    {
     "data": {
      "application/vnd.jupyter.widget-view+json": {
       "model_id": "3c16af6640534cba891491516c9bea75",
       "version_major": 2,
       "version_minor": 0
      },
      "text/plain": [
       "Processing 2020s:   0%|          | 0/3 [00:00<?, ?it/s]"
      ]
     },
     "metadata": {},
     "output_type": "display_data"
    },
    {
     "data": {
      "application/vnd.jupyter.widget-view+json": {
       "model_id": "f32ecc9f9ada4b0f824a04317bd2041d",
       "version_major": 2,
       "version_minor": 0
      },
      "text/plain": [
       "Processing 2030s:   0%|          | 0/3 [00:00<?, ?it/s]"
      ]
     },
     "metadata": {},
     "output_type": "display_data"
    },
    {
     "data": {
      "application/vnd.jupyter.widget-view+json": {
       "model_id": "a5f9ab5fc18348e6a81d5928c161d5cc",
       "version_major": 2,
       "version_minor": 0
      },
      "text/plain": [
       "Processing 2040s:   0%|          | 0/3 [00:00<?, ?it/s]"
      ]
     },
     "metadata": {},
     "output_type": "display_data"
    },
    {
     "data": {
      "application/vnd.jupyter.widget-view+json": {
       "model_id": "e2e6478d53124e0eaef402b5ff2b708f",
       "version_major": 2,
       "version_minor": 0
      },
      "text/plain": [
       "Processing 2050s:   0%|          | 0/3 [00:00<?, ?it/s]"
      ]
     },
     "metadata": {},
     "output_type": "display_data"
    },
    {
     "data": {
      "application/vnd.jupyter.widget-view+json": {
       "model_id": "145579c0d1d44ca4a139bfd5d99d74c8",
       "version_major": 2,
       "version_minor": 0
      },
      "text/plain": [
       "Processing 2060s:   0%|          | 0/3 [00:00<?, ?it/s]"
      ]
     },
     "metadata": {},
     "output_type": "display_data"
    },
    {
     "data": {
      "application/vnd.jupyter.widget-view+json": {
       "model_id": "b7a8d54ef02640aab21097ee72f1df91",
       "version_major": 2,
       "version_minor": 0
      },
      "text/plain": [
       "Processing 2070s:   0%|          | 0/3 [00:00<?, ?it/s]"
      ]
     },
     "metadata": {},
     "output_type": "display_data"
    },
    {
     "data": {
      "application/vnd.jupyter.widget-view+json": {
       "model_id": "2a7e5c6553ef40aa9c0282d93ee4e49b",
       "version_major": 2,
       "version_minor": 0
      },
      "text/plain": [
       "Processing 2080s:   0%|          | 0/3 [00:00<?, ?it/s]"
      ]
     },
     "metadata": {},
     "output_type": "display_data"
    },
    {
     "data": {
      "application/vnd.jupyter.widget-view+json": {
       "model_id": "5122e90601c8406ba498c5a4117fe7e7",
       "version_major": 2,
       "version_minor": 0
      },
      "text/plain": [
       "Processing 2090s:   0%|          | 0/3 [00:00<?, ?it/s]"
      ]
     },
     "metadata": {},
     "output_type": "display_data"
    },
    {
     "data": {
      "application/vnd.jupyter.widget-view+json": {
       "model_id": "1638c5fb088f473c83662d670ef1b419",
       "version_major": 2,
       "version_minor": 0
      },
      "text/plain": [
       "Processing MIROC5 rcp85 data...:   0%|          | 0/15 [00:00<?, ?it/s]"
      ]
     },
     "metadata": {},
     "output_type": "display_data"
    },
    {
     "data": {
      "application/vnd.jupyter.widget-view+json": {
       "model_id": "a74a3d9c508b40f09649ffdbce5dee9c",
       "version_major": 2,
       "version_minor": 0
      },
      "text/plain": [
       "Processing 1950s:   0%|          | 0/3 [00:00<?, ?it/s]"
      ]
     },
     "metadata": {},
     "output_type": "display_data"
    },
    {
     "data": {
      "application/vnd.jupyter.widget-view+json": {
       "model_id": "d3410dd5b7a94428ae2ec82f1b53388a",
       "version_major": 2,
       "version_minor": 0
      },
      "text/plain": [
       "Processing 1960s:   0%|          | 0/3 [00:00<?, ?it/s]"
      ]
     },
     "metadata": {},
     "output_type": "display_data"
    },
    {
     "data": {
      "application/vnd.jupyter.widget-view+json": {
       "model_id": "b90fda6cc55e45a78a303c62457de73b",
       "version_major": 2,
       "version_minor": 0
      },
      "text/plain": [
       "Processing 1970s:   0%|          | 0/3 [00:00<?, ?it/s]"
      ]
     },
     "metadata": {},
     "output_type": "display_data"
    },
    {
     "data": {
      "application/vnd.jupyter.widget-view+json": {
       "model_id": "aaa7409a2a5e44738eb6f3c50b737021",
       "version_major": 2,
       "version_minor": 0
      },
      "text/plain": [
       "Processing 1980s:   0%|          | 0/3 [00:00<?, ?it/s]"
      ]
     },
     "metadata": {},
     "output_type": "display_data"
    },
    {
     "data": {
      "application/vnd.jupyter.widget-view+json": {
       "model_id": "ab92009043204d2f8403d1685200c1a9",
       "version_major": 2,
       "version_minor": 0
      },
      "text/plain": [
       "Processing 1990s:   0%|          | 0/3 [00:00<?, ?it/s]"
      ]
     },
     "metadata": {},
     "output_type": "display_data"
    },
    {
     "data": {
      "application/vnd.jupyter.widget-view+json": {
       "model_id": "6c82bad692964cf2aec38ec8b19cc253",
       "version_major": 2,
       "version_minor": 0
      },
      "text/plain": [
       "Processing 2000s:   0%|          | 0/3 [00:00<?, ?it/s]"
      ]
     },
     "metadata": {},
     "output_type": "display_data"
    },
    {
     "data": {
      "application/vnd.jupyter.widget-view+json": {
       "model_id": "5bc7997030044bd5837e30c61fc28aa4",
       "version_major": 2,
       "version_minor": 0
      },
      "text/plain": [
       "Processing 2010s:   0%|          | 0/3 [00:00<?, ?it/s]"
      ]
     },
     "metadata": {},
     "output_type": "display_data"
    },
    {
     "data": {
      "application/vnd.jupyter.widget-view+json": {
       "model_id": "80aca815b39a46af9086fcf3ffdf75af",
       "version_major": 2,
       "version_minor": 0
      },
      "text/plain": [
       "Processing 2020s:   0%|          | 0/3 [00:00<?, ?it/s]"
      ]
     },
     "metadata": {},
     "output_type": "display_data"
    },
    {
     "data": {
      "application/vnd.jupyter.widget-view+json": {
       "model_id": "44a938c396fc41d2865183dbe5ea902a",
       "version_major": 2,
       "version_minor": 0
      },
      "text/plain": [
       "Processing 2030s:   0%|          | 0/3 [00:00<?, ?it/s]"
      ]
     },
     "metadata": {},
     "output_type": "display_data"
    },
    {
     "data": {
      "application/vnd.jupyter.widget-view+json": {
       "model_id": "f81f78e15f514ae4a3319aceae35c3d3",
       "version_major": 2,
       "version_minor": 0
      },
      "text/plain": [
       "Processing 2040s:   0%|          | 0/3 [00:00<?, ?it/s]"
      ]
     },
     "metadata": {},
     "output_type": "display_data"
    },
    {
     "data": {
      "application/vnd.jupyter.widget-view+json": {
       "model_id": "0ef75a552b674d28946d5f98b2d89f9d",
       "version_major": 2,
       "version_minor": 0
      },
      "text/plain": [
       "Processing 2050s:   0%|          | 0/3 [00:00<?, ?it/s]"
      ]
     },
     "metadata": {},
     "output_type": "display_data"
    },
    {
     "data": {
      "application/vnd.jupyter.widget-view+json": {
       "model_id": "9be267c5f63348cf89b70f21db576a68",
       "version_major": 2,
       "version_minor": 0
      },
      "text/plain": [
       "Processing 2060s:   0%|          | 0/3 [00:00<?, ?it/s]"
      ]
     },
     "metadata": {},
     "output_type": "display_data"
    },
    {
     "data": {
      "application/vnd.jupyter.widget-view+json": {
       "model_id": "1f9f0bfe89cc4b43990ec0f4f1d043b5",
       "version_major": 2,
       "version_minor": 0
      },
      "text/plain": [
       "Processing 2070s:   0%|          | 0/3 [00:00<?, ?it/s]"
      ]
     },
     "metadata": {},
     "output_type": "display_data"
    },
    {
     "data": {
      "application/vnd.jupyter.widget-view+json": {
       "model_id": "bd10f3acd5e9416a8b5244910ce91b39",
       "version_major": 2,
       "version_minor": 0
      },
      "text/plain": [
       "Processing 2080s:   0%|          | 0/3 [00:00<?, ?it/s]"
      ]
     },
     "metadata": {},
     "output_type": "display_data"
    },
    {
     "data": {
      "application/vnd.jupyter.widget-view+json": {
       "model_id": "0fe814171004408bb096473898d49096",
       "version_major": 2,
       "version_minor": 0
      },
      "text/plain": [
       "Processing 2090s:   0%|          | 0/3 [00:00<?, ?it/s]"
      ]
     },
     "metadata": {},
     "output_type": "display_data"
    },
    {
     "data": {
      "application/vnd.jupyter.widget-view+json": {
       "model_id": "355e2c9967dd4aa58fd16ffbe8156759",
       "version_major": 2,
       "version_minor": 0
      },
      "text/plain": [
       "Processing MPI-ESM-MR rcp45 data...:   0%|          | 0/15 [00:00<?, ?it/s]"
      ]
     },
     "metadata": {},
     "output_type": "display_data"
    },
    {
     "data": {
      "application/vnd.jupyter.widget-view+json": {
       "model_id": "55833230a76747c58ea9ee34afad7b83",
       "version_major": 2,
       "version_minor": 0
      },
      "text/plain": [
       "Processing 1950s:   0%|          | 0/3 [00:00<?, ?it/s]"
      ]
     },
     "metadata": {},
     "output_type": "display_data"
    },
    {
     "data": {
      "application/vnd.jupyter.widget-view+json": {
       "model_id": "c4a83c6459734559ba12ed897bfedf26",
       "version_major": 2,
       "version_minor": 0
      },
      "text/plain": [
       "Processing 1960s:   0%|          | 0/3 [00:00<?, ?it/s]"
      ]
     },
     "metadata": {},
     "output_type": "display_data"
    },
    {
     "data": {
      "application/vnd.jupyter.widget-view+json": {
       "model_id": "6cdfbd5fc301420ea88e924ab65a98d0",
       "version_major": 2,
       "version_minor": 0
      },
      "text/plain": [
       "Processing 1970s:   0%|          | 0/3 [00:00<?, ?it/s]"
      ]
     },
     "metadata": {},
     "output_type": "display_data"
    },
    {
     "data": {
      "application/vnd.jupyter.widget-view+json": {
       "model_id": "78362004aae644c0b1d1eda5ebc516af",
       "version_major": 2,
       "version_minor": 0
      },
      "text/plain": [
       "Processing 1980s:   0%|          | 0/3 [00:00<?, ?it/s]"
      ]
     },
     "metadata": {},
     "output_type": "display_data"
    },
    {
     "data": {
      "application/vnd.jupyter.widget-view+json": {
       "model_id": "d71a1ecd18f142249e259e428ca441a9",
       "version_major": 2,
       "version_minor": 0
      },
      "text/plain": [
       "Processing 1990s:   0%|          | 0/3 [00:00<?, ?it/s]"
      ]
     },
     "metadata": {},
     "output_type": "display_data"
    },
    {
     "data": {
      "application/vnd.jupyter.widget-view+json": {
       "model_id": "fa0512903c3149fbbadfb5228ce3b2ef",
       "version_major": 2,
       "version_minor": 0
      },
      "text/plain": [
       "Processing 2000s:   0%|          | 0/3 [00:00<?, ?it/s]"
      ]
     },
     "metadata": {},
     "output_type": "display_data"
    },
    {
     "data": {
      "application/vnd.jupyter.widget-view+json": {
       "model_id": "5092ddc0c808438dbfec8fded9f7a423",
       "version_major": 2,
       "version_minor": 0
      },
      "text/plain": [
       "Processing 2010s:   0%|          | 0/3 [00:00<?, ?it/s]"
      ]
     },
     "metadata": {},
     "output_type": "display_data"
    },
    {
     "data": {
      "application/vnd.jupyter.widget-view+json": {
       "model_id": "e3d3c20fe8f74a2ba0ff0553615e7b5b",
       "version_major": 2,
       "version_minor": 0
      },
      "text/plain": [
       "Processing 2020s:   0%|          | 0/3 [00:00<?, ?it/s]"
      ]
     },
     "metadata": {},
     "output_type": "display_data"
    },
    {
     "data": {
      "application/vnd.jupyter.widget-view+json": {
       "model_id": "579a002e138d48bd8cc6ac751fd533c5",
       "version_major": 2,
       "version_minor": 0
      },
      "text/plain": [
       "Processing 2030s:   0%|          | 0/3 [00:00<?, ?it/s]"
      ]
     },
     "metadata": {},
     "output_type": "display_data"
    },
    {
     "data": {
      "application/vnd.jupyter.widget-view+json": {
       "model_id": "5110b96ef3f04674bed615bbe3920d7b",
       "version_major": 2,
       "version_minor": 0
      },
      "text/plain": [
       "Processing 2040s:   0%|          | 0/3 [00:00<?, ?it/s]"
      ]
     },
     "metadata": {},
     "output_type": "display_data"
    },
    {
     "data": {
      "application/vnd.jupyter.widget-view+json": {
       "model_id": "1de4faa725264900a1cbe96724c0859e",
       "version_major": 2,
       "version_minor": 0
      },
      "text/plain": [
       "Processing 2050s:   0%|          | 0/3 [00:00<?, ?it/s]"
      ]
     },
     "metadata": {},
     "output_type": "display_data"
    },
    {
     "data": {
      "application/vnd.jupyter.widget-view+json": {
       "model_id": "1bc4442e3fdb4748b53302acc1b27ef6",
       "version_major": 2,
       "version_minor": 0
      },
      "text/plain": [
       "Processing 2060s:   0%|          | 0/3 [00:00<?, ?it/s]"
      ]
     },
     "metadata": {},
     "output_type": "display_data"
    },
    {
     "data": {
      "application/vnd.jupyter.widget-view+json": {
       "model_id": "c6c3d984046e4e0e94136797f6580d09",
       "version_major": 2,
       "version_minor": 0
      },
      "text/plain": [
       "Processing 2070s:   0%|          | 0/3 [00:00<?, ?it/s]"
      ]
     },
     "metadata": {},
     "output_type": "display_data"
    },
    {
     "data": {
      "application/vnd.jupyter.widget-view+json": {
       "model_id": "d08526515036497aa93dc0edbd5debd3",
       "version_major": 2,
       "version_minor": 0
      },
      "text/plain": [
       "Processing 2080s:   0%|          | 0/3 [00:00<?, ?it/s]"
      ]
     },
     "metadata": {},
     "output_type": "display_data"
    },
    {
     "data": {
      "application/vnd.jupyter.widget-view+json": {
       "model_id": "0138fa19580340a1b526cb52e2660a43",
       "version_major": 2,
       "version_minor": 0
      },
      "text/plain": [
       "Processing 2090s:   0%|          | 0/3 [00:00<?, ?it/s]"
      ]
     },
     "metadata": {},
     "output_type": "display_data"
    },
    {
     "data": {
      "application/vnd.jupyter.widget-view+json": {
       "model_id": "0492963c02d645fcaa934ca68da96676",
       "version_major": 2,
       "version_minor": 0
      },
      "text/plain": [
       "Processing MPI-ESM-MR rcp85 data...:   0%|          | 0/15 [00:00<?, ?it/s]"
      ]
     },
     "metadata": {},
     "output_type": "display_data"
    },
    {
     "data": {
      "application/vnd.jupyter.widget-view+json": {
       "model_id": "3377577d5a094f51bb39daf841d8682d",
       "version_major": 2,
       "version_minor": 0
      },
      "text/plain": [
       "Processing 1950s:   0%|          | 0/3 [00:00<?, ?it/s]"
      ]
     },
     "metadata": {},
     "output_type": "display_data"
    },
    {
     "data": {
      "application/vnd.jupyter.widget-view+json": {
       "model_id": "14d9aeb9321b44b6ab518f87fa489d4d",
       "version_major": 2,
       "version_minor": 0
      },
      "text/plain": [
       "Processing 1960s:   0%|          | 0/3 [00:00<?, ?it/s]"
      ]
     },
     "metadata": {},
     "output_type": "display_data"
    },
    {
     "data": {
      "application/vnd.jupyter.widget-view+json": {
       "model_id": "4703c68a27ee427ca2131bb519716ecb",
       "version_major": 2,
       "version_minor": 0
      },
      "text/plain": [
       "Processing 1970s:   0%|          | 0/3 [00:00<?, ?it/s]"
      ]
     },
     "metadata": {},
     "output_type": "display_data"
    },
    {
     "data": {
      "application/vnd.jupyter.widget-view+json": {
       "model_id": "16dcfc26f4c34c778d0bc52989ea1094",
       "version_major": 2,
       "version_minor": 0
      },
      "text/plain": [
       "Processing 1980s:   0%|          | 0/3 [00:00<?, ?it/s]"
      ]
     },
     "metadata": {},
     "output_type": "display_data"
    },
    {
     "data": {
      "application/vnd.jupyter.widget-view+json": {
       "model_id": "160bfb513cee45258e74b1a0683fb0de",
       "version_major": 2,
       "version_minor": 0
      },
      "text/plain": [
       "Processing 1990s:   0%|          | 0/3 [00:00<?, ?it/s]"
      ]
     },
     "metadata": {},
     "output_type": "display_data"
    },
    {
     "data": {
      "application/vnd.jupyter.widget-view+json": {
       "model_id": "61f9d44bb994407bba50e42908e99bc7",
       "version_major": 2,
       "version_minor": 0
      },
      "text/plain": [
       "Processing 2000s:   0%|          | 0/3 [00:00<?, ?it/s]"
      ]
     },
     "metadata": {},
     "output_type": "display_data"
    },
    {
     "data": {
      "application/vnd.jupyter.widget-view+json": {
       "model_id": "f720b12db2d1406f95e2a12bd991374f",
       "version_major": 2,
       "version_minor": 0
      },
      "text/plain": [
       "Processing 2010s:   0%|          | 0/3 [00:00<?, ?it/s]"
      ]
     },
     "metadata": {},
     "output_type": "display_data"
    },
    {
     "data": {
      "application/vnd.jupyter.widget-view+json": {
       "model_id": "b39d583960304dd8aaf9230088692117",
       "version_major": 2,
       "version_minor": 0
      },
      "text/plain": [
       "Processing 2020s:   0%|          | 0/3 [00:00<?, ?it/s]"
      ]
     },
     "metadata": {},
     "output_type": "display_data"
    },
    {
     "data": {
      "application/vnd.jupyter.widget-view+json": {
       "model_id": "18ce89bb98334350a7c80d77c081dad0",
       "version_major": 2,
       "version_minor": 0
      },
      "text/plain": [
       "Processing 2030s:   0%|          | 0/3 [00:00<?, ?it/s]"
      ]
     },
     "metadata": {},
     "output_type": "display_data"
    },
    {
     "data": {
      "application/vnd.jupyter.widget-view+json": {
       "model_id": "f68311b1992245aaa98bbe88bc1a04bb",
       "version_major": 2,
       "version_minor": 0
      },
      "text/plain": [
       "Processing 2040s:   0%|          | 0/3 [00:00<?, ?it/s]"
      ]
     },
     "metadata": {},
     "output_type": "display_data"
    },
    {
     "data": {
      "application/vnd.jupyter.widget-view+json": {
       "model_id": "a85f17308b1743ab80c7ee66b11a7485",
       "version_major": 2,
       "version_minor": 0
      },
      "text/plain": [
       "Processing 2050s:   0%|          | 0/3 [00:00<?, ?it/s]"
      ]
     },
     "metadata": {},
     "output_type": "display_data"
    },
    {
     "data": {
      "application/vnd.jupyter.widget-view+json": {
       "model_id": "83f5d96fb77a4ac29089327345043e3e",
       "version_major": 2,
       "version_minor": 0
      },
      "text/plain": [
       "Processing 2060s:   0%|          | 0/3 [00:00<?, ?it/s]"
      ]
     },
     "metadata": {},
     "output_type": "display_data"
    },
    {
     "data": {
      "application/vnd.jupyter.widget-view+json": {
       "model_id": "0a3db6a9bbf84c528dae00e94e4f29f6",
       "version_major": 2,
       "version_minor": 0
      },
      "text/plain": [
       "Processing 2070s:   0%|          | 0/3 [00:00<?, ?it/s]"
      ]
     },
     "metadata": {},
     "output_type": "display_data"
    },
    {
     "data": {
      "application/vnd.jupyter.widget-view+json": {
       "model_id": "c10063e1c2c0469885c338a363f47790",
       "version_major": 2,
       "version_minor": 0
      },
      "text/plain": [
       "Processing 2080s:   0%|          | 0/3 [00:00<?, ?it/s]"
      ]
     },
     "metadata": {},
     "output_type": "display_data"
    },
    {
     "data": {
      "application/vnd.jupyter.widget-view+json": {
       "model_id": "4ccdc90b3b7f4a82b1ee408f057fc0fb",
       "version_major": 2,
       "version_minor": 0
      },
      "text/plain": [
       "Processing 2090s:   0%|          | 0/3 [00:00<?, ?it/s]"
      ]
     },
     "metadata": {},
     "output_type": "display_data"
    },
    {
     "data": {
      "application/vnd.jupyter.widget-view+json": {
       "model_id": "31596bc883cf4a56aa2356c5942987bb",
       "version_major": 2,
       "version_minor": 0
      },
      "text/plain": [
       "Processing MRI-CGCM3 rcp45 data...:   0%|          | 0/15 [00:00<?, ?it/s]"
      ]
     },
     "metadata": {},
     "output_type": "display_data"
    },
    {
     "data": {
      "application/vnd.jupyter.widget-view+json": {
       "model_id": "59ab2bb6a7004a1e9e303ea0dbabbed9",
       "version_major": 2,
       "version_minor": 0
      },
      "text/plain": [
       "Processing 1950s:   0%|          | 0/3 [00:00<?, ?it/s]"
      ]
     },
     "metadata": {},
     "output_type": "display_data"
    },
    {
     "data": {
      "application/vnd.jupyter.widget-view+json": {
       "model_id": "5c8457a13d5a4d83ace6cd579edd4cc2",
       "version_major": 2,
       "version_minor": 0
      },
      "text/plain": [
       "Processing 1960s:   0%|          | 0/3 [00:00<?, ?it/s]"
      ]
     },
     "metadata": {},
     "output_type": "display_data"
    },
    {
     "data": {
      "application/vnd.jupyter.widget-view+json": {
       "model_id": "1b3a2fb28f5542cf99661975c1d1676a",
       "version_major": 2,
       "version_minor": 0
      },
      "text/plain": [
       "Processing 1970s:   0%|          | 0/3 [00:00<?, ?it/s]"
      ]
     },
     "metadata": {},
     "output_type": "display_data"
    },
    {
     "data": {
      "application/vnd.jupyter.widget-view+json": {
       "model_id": "4e23aca2475e46ed8c15d9c269a822eb",
       "version_major": 2,
       "version_minor": 0
      },
      "text/plain": [
       "Processing 1980s:   0%|          | 0/3 [00:00<?, ?it/s]"
      ]
     },
     "metadata": {},
     "output_type": "display_data"
    },
    {
     "data": {
      "application/vnd.jupyter.widget-view+json": {
       "model_id": "edd9e99e453848f3a278749774548bfd",
       "version_major": 2,
       "version_minor": 0
      },
      "text/plain": [
       "Processing 1990s:   0%|          | 0/3 [00:00<?, ?it/s]"
      ]
     },
     "metadata": {},
     "output_type": "display_data"
    },
    {
     "data": {
      "application/vnd.jupyter.widget-view+json": {
       "model_id": "064e20868d914fcd82f7a2b79720581c",
       "version_major": 2,
       "version_minor": 0
      },
      "text/plain": [
       "Processing 2000s:   0%|          | 0/3 [00:00<?, ?it/s]"
      ]
     },
     "metadata": {},
     "output_type": "display_data"
    },
    {
     "data": {
      "application/vnd.jupyter.widget-view+json": {
       "model_id": "e7bda8a0406945ddb0a45954f9c103fe",
       "version_major": 2,
       "version_minor": 0
      },
      "text/plain": [
       "Processing 2010s:   0%|          | 0/3 [00:00<?, ?it/s]"
      ]
     },
     "metadata": {},
     "output_type": "display_data"
    },
    {
     "data": {
      "application/vnd.jupyter.widget-view+json": {
       "model_id": "42f60b0313c24ab19d9c794316afeba2",
       "version_major": 2,
       "version_minor": 0
      },
      "text/plain": [
       "Processing 2020s:   0%|          | 0/3 [00:00<?, ?it/s]"
      ]
     },
     "metadata": {},
     "output_type": "display_data"
    },
    {
     "data": {
      "application/vnd.jupyter.widget-view+json": {
       "model_id": "8d16b628eaab4774b6e30af2d191fc4f",
       "version_major": 2,
       "version_minor": 0
      },
      "text/plain": [
       "Processing 2030s:   0%|          | 0/3 [00:00<?, ?it/s]"
      ]
     },
     "metadata": {},
     "output_type": "display_data"
    },
    {
     "data": {
      "application/vnd.jupyter.widget-view+json": {
       "model_id": "2a68f462f0ce428f958b8af541feca69",
       "version_major": 2,
       "version_minor": 0
      },
      "text/plain": [
       "Processing 2040s:   0%|          | 0/3 [00:00<?, ?it/s]"
      ]
     },
     "metadata": {},
     "output_type": "display_data"
    },
    {
     "data": {
      "application/vnd.jupyter.widget-view+json": {
       "model_id": "0b00cb6477924ae2adb41cfab0e96d81",
       "version_major": 2,
       "version_minor": 0
      },
      "text/plain": [
       "Processing 2050s:   0%|          | 0/3 [00:00<?, ?it/s]"
      ]
     },
     "metadata": {},
     "output_type": "display_data"
    },
    {
     "data": {
      "application/vnd.jupyter.widget-view+json": {
       "model_id": "7f8ff2db31fd443bb93624e1eb5054c0",
       "version_major": 2,
       "version_minor": 0
      },
      "text/plain": [
       "Processing 2060s:   0%|          | 0/3 [00:00<?, ?it/s]"
      ]
     },
     "metadata": {},
     "output_type": "display_data"
    },
    {
     "data": {
      "application/vnd.jupyter.widget-view+json": {
       "model_id": "eab8ad5fe0e244268db6449063c8e767",
       "version_major": 2,
       "version_minor": 0
      },
      "text/plain": [
       "Processing 2070s:   0%|          | 0/3 [00:00<?, ?it/s]"
      ]
     },
     "metadata": {},
     "output_type": "display_data"
    },
    {
     "data": {
      "application/vnd.jupyter.widget-view+json": {
       "model_id": "a64d1b5e4d6744f4bcd6e1f92836543d",
       "version_major": 2,
       "version_minor": 0
      },
      "text/plain": [
       "Processing 2080s:   0%|          | 0/3 [00:00<?, ?it/s]"
      ]
     },
     "metadata": {},
     "output_type": "display_data"
    },
    {
     "data": {
      "application/vnd.jupyter.widget-view+json": {
       "model_id": "68695fd278224073bf51cd7cd8e44dcd",
       "version_major": 2,
       "version_minor": 0
      },
      "text/plain": [
       "Processing 2090s:   0%|          | 0/3 [00:00<?, ?it/s]"
      ]
     },
     "metadata": {},
     "output_type": "display_data"
    },
    {
     "data": {
      "application/vnd.jupyter.widget-view+json": {
       "model_id": "6b1868fcba0a4cf49d03664a032127cf",
       "version_major": 2,
       "version_minor": 0
      },
      "text/plain": [
       "Processing MRI-CGCM3 rcp85 data...:   0%|          | 0/15 [00:00<?, ?it/s]"
      ]
     },
     "metadata": {},
     "output_type": "display_data"
    },
    {
     "data": {
      "application/vnd.jupyter.widget-view+json": {
       "model_id": "f1665f7084a1415cb538b5093acf9a39",
       "version_major": 2,
       "version_minor": 0
      },
      "text/plain": [
       "Processing 1950s:   0%|          | 0/3 [00:00<?, ?it/s]"
      ]
     },
     "metadata": {},
     "output_type": "display_data"
    },
    {
     "data": {
      "application/vnd.jupyter.widget-view+json": {
       "model_id": "bb5a6f8b15eb46a9a1d35bbe8ce93df2",
       "version_major": 2,
       "version_minor": 0
      },
      "text/plain": [
       "Processing 1960s:   0%|          | 0/3 [00:00<?, ?it/s]"
      ]
     },
     "metadata": {},
     "output_type": "display_data"
    },
    {
     "data": {
      "application/vnd.jupyter.widget-view+json": {
       "model_id": "1263029690b240fb9eaa9a12d76f08f5",
       "version_major": 2,
       "version_minor": 0
      },
      "text/plain": [
       "Processing 1970s:   0%|          | 0/3 [00:00<?, ?it/s]"
      ]
     },
     "metadata": {},
     "output_type": "display_data"
    },
    {
     "data": {
      "application/vnd.jupyter.widget-view+json": {
       "model_id": "cd03ae5fb9a94652bcc58e719e242cd9",
       "version_major": 2,
       "version_minor": 0
      },
      "text/plain": [
       "Processing 1980s:   0%|          | 0/3 [00:00<?, ?it/s]"
      ]
     },
     "metadata": {},
     "output_type": "display_data"
    },
    {
     "data": {
      "application/vnd.jupyter.widget-view+json": {
       "model_id": "423127a1342b4a22be48973c1e3814d7",
       "version_major": 2,
       "version_minor": 0
      },
      "text/plain": [
       "Processing 1990s:   0%|          | 0/3 [00:00<?, ?it/s]"
      ]
     },
     "metadata": {},
     "output_type": "display_data"
    },
    {
     "data": {
      "application/vnd.jupyter.widget-view+json": {
       "model_id": "f686468f0eda4c6c9cc5ac9df3b232dd",
       "version_major": 2,
       "version_minor": 0
      },
      "text/plain": [
       "Processing 2000s:   0%|          | 0/3 [00:00<?, ?it/s]"
      ]
     },
     "metadata": {},
     "output_type": "display_data"
    },
    {
     "data": {
      "application/vnd.jupyter.widget-view+json": {
       "model_id": "e520f6828bb0459e9335c44c290b4f85",
       "version_major": 2,
       "version_minor": 0
      },
      "text/plain": [
       "Processing 2010s:   0%|          | 0/3 [00:00<?, ?it/s]"
      ]
     },
     "metadata": {},
     "output_type": "display_data"
    },
    {
     "data": {
      "application/vnd.jupyter.widget-view+json": {
       "model_id": "aa5b0db9e9da40de873392915b39ab46",
       "version_major": 2,
       "version_minor": 0
      },
      "text/plain": [
       "Processing 2020s:   0%|          | 0/3 [00:00<?, ?it/s]"
      ]
     },
     "metadata": {},
     "output_type": "display_data"
    },
    {
     "data": {
      "application/vnd.jupyter.widget-view+json": {
       "model_id": "1ebf64d8cae74d7981bf772d61a1dd0b",
       "version_major": 2,
       "version_minor": 0
      },
      "text/plain": [
       "Processing 2030s:   0%|          | 0/3 [00:00<?, ?it/s]"
      ]
     },
     "metadata": {},
     "output_type": "display_data"
    },
    {
     "data": {
      "application/vnd.jupyter.widget-view+json": {
       "model_id": "3482122ee6a140fe9acf99aff89dde0d",
       "version_major": 2,
       "version_minor": 0
      },
      "text/plain": [
       "Processing 2040s:   0%|          | 0/3 [00:00<?, ?it/s]"
      ]
     },
     "metadata": {},
     "output_type": "display_data"
    },
    {
     "data": {
      "application/vnd.jupyter.widget-view+json": {
       "model_id": "bb9eb6d4ad594fe2989b1be6bc6dffd5",
       "version_major": 2,
       "version_minor": 0
      },
      "text/plain": [
       "Processing 2050s:   0%|          | 0/3 [00:00<?, ?it/s]"
      ]
     },
     "metadata": {},
     "output_type": "display_data"
    },
    {
     "data": {
      "application/vnd.jupyter.widget-view+json": {
       "model_id": "6b3ff3f8fbbf400ba863cf44ff315a7a",
       "version_major": 2,
       "version_minor": 0
      },
      "text/plain": [
       "Processing 2060s:   0%|          | 0/3 [00:00<?, ?it/s]"
      ]
     },
     "metadata": {},
     "output_type": "display_data"
    },
    {
     "data": {
      "application/vnd.jupyter.widget-view+json": {
       "model_id": "f7cce820e7e842b095cc8ff9970103a4",
       "version_major": 2,
       "version_minor": 0
      },
      "text/plain": [
       "Processing 2070s:   0%|          | 0/3 [00:00<?, ?it/s]"
      ]
     },
     "metadata": {},
     "output_type": "display_data"
    },
    {
     "data": {
      "application/vnd.jupyter.widget-view+json": {
       "model_id": "d0cc35df70be45bd9becb1b7312c4ba7",
       "version_major": 2,
       "version_minor": 0
      },
      "text/plain": [
       "Processing 2080s:   0%|          | 0/3 [00:00<?, ?it/s]"
      ]
     },
     "metadata": {},
     "output_type": "display_data"
    },
    {
     "data": {
      "application/vnd.jupyter.widget-view+json": {
       "model_id": "6b3f9086997f4f428b155cc9e429895d",
       "version_major": 2,
       "version_minor": 0
      },
      "text/plain": [
       "Processing 2090s:   0%|          | 0/3 [00:00<?, ?it/s]"
      ]
     },
     "metadata": {},
     "output_type": "display_data"
    },
    {
     "name": "stdout",
     "output_type": "stream",
     "text": [
      "CPU times: user 40min 26s, sys: 2min 48s, total: 43min 14s\n",
      "Wall time: 1h 3min 31s\n"
     ]
    }
   ],
   "source": [
    "%%time\n",
    "\n",
    "for model in models:\n",
    "    for scenario in scenarios:\n",
    "\n",
    "        ncube = mfload_all_netcdf_data(process_group_di[model][scenario])\n",
    "        projcube, wrf_raster_profile = project_datacube(ncube)\n",
    "\n",
    "        # keeping this snippet for convenient testing - just process a single decade\n",
    "        # for decade_start in tqdm(range(1950, 1960, 10), desc=f\"Processing {model} {scenario} data...\"):\n",
    "        for decade_start in tqdm(range(1950, 2100, 10), desc=f\"Processing {model} {scenario} data...\"):\n",
    "            decade_slice = slice_by_decade(projcube, decade_start)\n",
    "            \n",
    "            for climvar in tqdm(variable_di[var_set].keys(), desc=f\"Processing {decade_start}s\"):\n",
    "                decadal_means_of_monthly_summaries = compute_monthly_summaries(decade_slice, var_set, climvar)\n",
    "                \n",
    "                for month in months:\n",
    "                    month_array = array_from_monthly_summary(decadal_means_of_monthly_summaries, climvar, month)\n",
    "                    output_filename = make_output_filename(climvar, model, scenario, month, decade_start)\n",
    "                    write_raster_to_disk(output_filename, wrf_raster_profile, month_array)\n",
    "\n",
    "        projcube.close()"
   ]
  },
  {
   "cell_type": "code",
   "execution_count": null,
   "id": "493e1384-3a84-4d51-8724-64921b4d34e7",
   "metadata": {},
   "outputs": [],
   "source": [
    "client.close()"
   ]
  },
  {
   "cell_type": "code",
   "execution_count": null,
   "id": "a2070d85-012a-407a-a520-4ee25f92c6d9",
   "metadata": {},
   "outputs": [],
   "source": []
  }
 ],
 "metadata": {
  "kernelspec": {
   "display_name": "Python 3 (ipykernel)",
   "language": "python",
   "name": "python3"
  },
  "language_info": {
   "codemirror_mode": {
    "name": "ipython",
    "version": 3
   },
   "file_extension": ".py",
   "mimetype": "text/x-python",
   "name": "python",
   "nbconvert_exporter": "python",
   "pygments_lexer": "ipython3",
   "version": "3.9.15"
  }
 },
 "nbformat": 4,
 "nbformat_minor": 5
}
