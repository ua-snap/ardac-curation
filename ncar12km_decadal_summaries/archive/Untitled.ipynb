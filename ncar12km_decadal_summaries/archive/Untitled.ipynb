{
 "cells": [
  {
   "cell_type": "code",
   "execution_count": null,
   "id": "4d451b39-a1d9-4866-ba92-69a6a2e201d6",
   "metadata": {},
   "outputs": [],
   "source": []
  },
  {
   "cell_type": "code",
   "execution_count": null,
   "id": "7406e3f6-2bfe-46fc-8930-4ef651f4b502",
   "metadata": {},
   "outputs": [],
   "source": [
    "import subprocess\n",
    "\n",
    "# Replace \"/path/to/directory\" with the actual path to the directory containing the GeoTIFF files\n",
    "path_to_directory = \"/path/to/directory\"\n",
    "\n",
    "# Command to run the bash script with the path to directory argument\n",
    "command = f\"bash /path/to/script.sh {path_to_directory}\"\n",
    "\n",
    "# Run the command and capture the output\n",
    "output = subprocess.check_output(command, shell=True)\n",
    "\n",
    "# Print the output\n",
    "print(output.decode())\n"
   ]
  },
  {
   "cell_type": "code",
   "execution_count": null,
   "id": "614b253d-11b9-4bb0-a26c-3d1fe8b7930a",
   "metadata": {},
   "outputs": [],
   "source": []
  }
 ],
 "metadata": {
  "kernelspec": {
   "display_name": "",
   "name": ""
  },
  "language_info": {
   "name": ""
  }
 },
 "nbformat": 4,
 "nbformat_minor": 5
}
