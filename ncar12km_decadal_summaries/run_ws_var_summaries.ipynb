{
 "cells": [
  {
   "cell_type": "code",
   "execution_count": 1,
   "id": "ab7cb53d-e58f-4dbb-9d8d-46c4d2478e79",
   "metadata": {},
   "outputs": [],
   "source": [
    "import os\n",
    "import xarray as xr\n",
    "import rasterio as rio\n",
    "import numpy as np\n",
    "import dask\n",
    "import dask.array as da\n",
    "from dask.distributed import Client\n",
    "from dask import delayed\n",
    "from pyproj import Proj, Transformer, CRS\n",
    "from tqdm.auto import tqdm\n",
    "from pathlib import Path\n",
    "from wrf import PolarStereographic\n",
    "\n",
    "# local\n",
    "from config import models, scenarios, variable_di, precision_di, months, unit_di, summary_di, mo_names\n"
   ]
  },
  {
   "cell_type": "code",
   "execution_count": 2,
   "id": "9ce4cb2c-2dde-4868-9b03-81e12339eeda",
   "metadata": {},
   "outputs": [],
   "source": [
    "\n",
    "# Move the below block to config and let ist source the env var\n",
    "DATA_DIR = Path(os.getenv(\"DATA_DIR\") or \"/atlas_scratch/cparr4/ncar_replacement_data\")\n",
    "DATA_DIR.mkdir(exist_ok=True, parents=True)\n",
    "\n",
    "OUTPUT_DIR = Path(os.getenv(\"OUTPUT_DIR\") or \"/atlas_scratch/cparr4/AK_NCAR_12km_decadal_means_of_monthly_summaries\")\n",
    "OUTPUT_DIR.mkdir(exist_ok=True, parents=True)\n",
    "\n"
   ]
  },
  {
   "cell_type": "code",
   "execution_count": 3,
   "id": "e6fcd1a2-8862-4dc6-ab0e-520b88b89d5d",
   "metadata": {},
   "outputs": [],
   "source": [
    "paths = list(DATA_DIR.glob(\"*ws*.nc\"))\n",
    "assert len(paths) == 3000 # value learned from EDA notebook"
   ]
  },
  {
   "cell_type": "code",
   "execution_count": 4,
   "id": "3d48e6a1-bd77-4872-b498-98cd6ca563fe",
   "metadata": {},
   "outputs": [],
   "source": [
    "process_group_di = {}\n",
    "for model in models:\n",
    "    process_group_di[model] = {}\n",
    "    for scenario in scenarios:\n",
    "        process_group_di[model][scenario] = []\n",
    "\n",
    "for fp in paths:\n",
    "    fp_model = fp.name.split(\"_\")[0]\n",
    "    fp_scenario = fp.name.split(\"_\")[1]\n",
    "    process_group_di[fp_model][fp_scenario].append(fp)\n",
    "\n",
    "for model in models:\n",
    "    for scenario in scenarios:\n",
    "        assert len(process_group_di[model][scenario]) == 150"
   ]
  },
  {
   "cell_type": "code",
   "execution_count": 5,
   "id": "ab201586-76fb-4e77-a8db-c3bd85a7e755",
   "metadata": {},
   "outputs": [],
   "source": [
    "def mfload_all_netcdf_data(paths):\n",
    "    with xr.open_mfdataset(paths, combine=\"nested\", concat_dim=[\"time\"]) as datacube:\n",
    "        return datacube"
   ]
  },
  {
   "cell_type": "code",
   "execution_count": 6,
   "id": "95236110-9284-4d92-93c0-749d4d046449",
   "metadata": {},
   "outputs": [],
   "source": [
    "def project_datacube(datacube):\n",
    "    \n",
    "    wrf_proj_str = PolarStereographic(**{\"TRUELAT1\": 64, \"STAND_LON\": -150}).proj4()\n",
    "    wrf_proj = Proj(wrf_proj_str)\n",
    "    wgs_proj = Proj(proj='latlong', datum='WGS84')\n",
    "    \n",
    "    transformer = Transformer.from_proj(wgs_proj, wrf_proj)\n",
    "    e, n = transformer.transform(-150, 64)\n",
    "    # Grid parameters\n",
    "    dx, dy = 12000, 12000\n",
    "    ny, nx = datacube.longitude.shape[1:]\n",
    "    \n",
    "    # Down left corner of the domain\n",
    "    x0 = -(nx-1) / 2. * dx + e\n",
    "    y0 = -(ny-1) / 2. * dy + n\n",
    "    # 2d grid\n",
    "    x = np.arange(nx) * dx + x0\n",
    "    y = np.arange(ny) * dy + y0\n",
    "    \n",
    "    projected_datacube = datacube.assign_coords({\"y\": (\"y\", y), \"x\": (\"x\", x)})\n",
    "    \n",
    "    # Output geotiff creation profile params  \n",
    "    width = datacube.x.shape[0]\n",
    "    height = datacube.y.shape[0]\n",
    "    \n",
    "    # west and north\n",
    "    west = x0 - dx / 2\n",
    "    north = y[-1] + dy / 2\n",
    "    out_transform = rio.transform.from_origin(west, north, dx, dy)\n",
    "    \n",
    "    wrf_raster_profile = {\n",
    "        \"driver\": \"GTiff\",\n",
    "        \"crs\": CRS.from_proj4(wrf_proj_str),\n",
    "        \"transform\": out_transform,\n",
    "        \"width\": width,\n",
    "        \"height\": height,\n",
    "        \"count\": 1,\n",
    "        \"dtype\": np.float32,\n",
    "        \"nodata\": -9999,\n",
    "        \"tiled\": False,\n",
    "        \"compress\": \"lzw\",\n",
    "        \"interleave\": \"band\",\n",
    "    }\n",
    "    \n",
    "    datacube.close()\n",
    "    \n",
    "    return projected_datacube, wrf_raster_profile"
   ]
  },
  {
   "cell_type": "code",
   "execution_count": 7,
   "id": "b19c6c7f-0268-4e32-9cf8-989b033b2f11",
   "metadata": {},
   "outputs": [],
   "source": [
    "def list_years_in_decade(start_year):\n",
    "    \"\"\"\n",
    "    Given a starting year, return a list of ten consecutive years representing a decade.\n",
    "\n",
    "    Args:\n",
    "        start_year (int): Starting year of the decade.\n",
    "\n",
    "    Returns:\n",
    "        list: A list of ten consecutive years.\n",
    "    \"\"\"\n",
    "    return list(range(start_year, start_year + 10))\n",
    "\n",
    "\n",
    "def slice_by_decade(datacube, decade_start_year):\n",
    "    \"\"\"\n",
    "    Given a xarray datacube and a starting year, slice the datacube to select only\n",
    "    the data from the decade corresponding to the starting year.\n",
    "\n",
    "    Args:\n",
    "        datacube (xarray.Dataset): A xarray datacube containing time series data.\n",
    "        decade_start_year (int): Starting year of the decade to be sliced.\n",
    "\n",
    "    Returns:\n",
    "        xarray.Dataset: A sliced xarray datacube containing only the data from the\n",
    "        specified decade.\n",
    "    \"\"\"\n",
    "    years = list_years_in_decade(decade_start_year)\n",
    "    decade_slice = datacube.isel(time=datacube.time.dt.year.isin(years))\n",
    "    return decade_slice"
   ]
  },
  {
   "cell_type": "code",
   "execution_count": 8,
   "id": "594da05e-7332-4123-af87-7ac681413ae7",
   "metadata": {},
   "outputs": [],
   "source": [
    "def compute_monthly_summaries(decade_slice, climvar):\n",
    "    \n",
    "    summary_func = variable_di[\"ws\"][climvar]\n",
    "    out = (\n",
    "        decade_slice[climvar]\n",
    "        .resample(time=\"1M\")\n",
    "        .reduce(summary_func)\n",
    "        .groupby(\"time.month\")\n",
    "        .reduce(np.mean)  # decadal summary is always a mean\n",
    "    )\n",
    "    dec_mean_monthly_summary = out.compute()\n",
    "    return dec_mean_monthly_summary\n"
   ]
  },
  {
   "cell_type": "code",
   "execution_count": 9,
   "id": "611cc236-7b02-4bc0-90e1-ba5651f0aedf",
   "metadata": {},
   "outputs": [],
   "source": [
    "def array_from_monthly_summary(dec_mean_monthly_summary, climvar, month):\n",
    "    \n",
    "    # we lose the orientation from xr and it flips upside down\n",
    "    data = np.flipud(dec_mean_monthly_summary.sel(month=month).data)\n",
    "    # round to sensible precision levels\n",
    "    data = data.round(precision_di[climvar])\n",
    "    # set nodata values to -9999\n",
    "    data = np.nan_to_num(data, nan=-9999.0)\n",
    "    return data"
   ]
  },
  {
   "cell_type": "code",
   "execution_count": 10,
   "id": "ab9e05e6-21f4-41bc-a40e-1209b9d1b31a",
   "metadata": {},
   "outputs": [],
   "source": [
    "def make_output_filename(climvar, model, scenario, month, start_year):\n",
    "    \n",
    "    units = unit_di[climvar]\n",
    "    mo_summary_func = summary_di[climvar]\n",
    "    out_filename = f\"{climvar.lower()}_{units}_{model}_{scenario}_{mo_names[month]}_{mo_summary_func}_{start_year}-{start_year + 10}_mean.tif\"\n",
    "    return out_filename\n"
   ]
  },
  {
   "cell_type": "code",
   "execution_count": 11,
   "id": "6fc5e7e3-01c9-4b93-bae0-0b7060d68418",
   "metadata": {},
   "outputs": [],
   "source": [
    "def write_raster_to_disk(out_filename, raster_profile, raster_data):\n",
    "    with rio.open(\n",
    "        OUTPUT_DIR / out_filename, \"w\", **raster_profile\n",
    "    ) as dst:\n",
    "        dst.write(raster_data, 1)"
   ]
  },
  {
   "cell_type": "code",
   "execution_count": 12,
   "id": "b69af84b-286d-4299-a84d-211fefdd5820",
   "metadata": {},
   "outputs": [
    {
     "data": {
      "text/html": [
       "<div>\n",
       "    <div style=\"width: 24px; height: 24px; background-color: #e1e1e1; border: 3px solid #9D9D9D; border-radius: 5px; position: absolute;\"> </div>\n",
       "    <div style=\"margin-left: 48px;\">\n",
       "        <h3 style=\"margin-bottom: 0px;\">Client</h3>\n",
       "        <p style=\"color: #9D9D9D; margin-bottom: 0px;\">Client-a47d7666-ce80-11ed-9bc0-0025907c0d3c</p>\n",
       "        <table style=\"width: 100%; text-align: left;\">\n",
       "\n",
       "        <tr>\n",
       "        \n",
       "            <td style=\"text-align: left;\"><strong>Connection method:</strong> Cluster object</td>\n",
       "            <td style=\"text-align: left;\"><strong>Cluster type:</strong> distributed.LocalCluster</td>\n",
       "        \n",
       "        </tr>\n",
       "\n",
       "        \n",
       "            <tr>\n",
       "                <td style=\"text-align: left;\">\n",
       "                    <strong>Dashboard: </strong> <a href=\"http://127.0.0.1:8787/status\" target=\"_blank\">http://127.0.0.1:8787/status</a>\n",
       "                </td>\n",
       "                <td style=\"text-align: left;\"></td>\n",
       "            </tr>\n",
       "        \n",
       "\n",
       "        </table>\n",
       "\n",
       "        \n",
       "            <button style=\"margin-bottom: 12px;\" data-commandlinker-command=\"dask:populate-and-launch-layout\" data-commandlinker-args='{\"url\": \"http://127.0.0.1:8787/status\" }'>\n",
       "                Launch dashboard in JupyterLab\n",
       "            </button>\n",
       "        \n",
       "\n",
       "        \n",
       "            <details>\n",
       "            <summary style=\"margin-bottom: 20px;\"><h3 style=\"display: inline;\">Cluster Info</h3></summary>\n",
       "            <div class=\"jp-RenderedHTMLCommon jp-RenderedHTML jp-mod-trusted jp-OutputArea-output\">\n",
       "    <div style=\"width: 24px; height: 24px; background-color: #e1e1e1; border: 3px solid #9D9D9D; border-radius: 5px; position: absolute;\">\n",
       "    </div>\n",
       "    <div style=\"margin-left: 48px;\">\n",
       "        <h3 style=\"margin-bottom: 0px; margin-top: 0px;\">LocalCluster</h3>\n",
       "        <p style=\"color: #9D9D9D; margin-bottom: 0px;\">4e4f2eee</p>\n",
       "        <table style=\"width: 100%; text-align: left;\">\n",
       "            <tr>\n",
       "                <td style=\"text-align: left;\">\n",
       "                    <strong>Dashboard:</strong> <a href=\"http://127.0.0.1:8787/status\" target=\"_blank\">http://127.0.0.1:8787/status</a>\n",
       "                </td>\n",
       "                <td style=\"text-align: left;\">\n",
       "                    <strong>Workers:</strong> 8\n",
       "                </td>\n",
       "            </tr>\n",
       "            <tr>\n",
       "                <td style=\"text-align: left;\">\n",
       "                    <strong>Total threads:</strong> 32\n",
       "                </td>\n",
       "                <td style=\"text-align: left;\">\n",
       "                    <strong>Total memory:</strong> 251.72 GiB\n",
       "                </td>\n",
       "            </tr>\n",
       "            \n",
       "            <tr>\n",
       "    <td style=\"text-align: left;\"><strong>Status:</strong> running</td>\n",
       "    <td style=\"text-align: left;\"><strong>Using processes:</strong> True</td>\n",
       "</tr>\n",
       "\n",
       "            \n",
       "        </table>\n",
       "\n",
       "        <details>\n",
       "            <summary style=\"margin-bottom: 20px;\">\n",
       "                <h3 style=\"display: inline;\">Scheduler Info</h3>\n",
       "            </summary>\n",
       "\n",
       "            <div style=\"\">\n",
       "    <div>\n",
       "        <div style=\"width: 24px; height: 24px; background-color: #FFF7E5; border: 3px solid #FF6132; border-radius: 5px; position: absolute;\"> </div>\n",
       "        <div style=\"margin-left: 48px;\">\n",
       "            <h3 style=\"margin-bottom: 0px;\">Scheduler</h3>\n",
       "            <p style=\"color: #9D9D9D; margin-bottom: 0px;\">Scheduler-7d761b5c-be13-4e6a-a664-25640d83b418</p>\n",
       "            <table style=\"width: 100%; text-align: left;\">\n",
       "                <tr>\n",
       "                    <td style=\"text-align: left;\">\n",
       "                        <strong>Comm:</strong> tcp://127.0.0.1:33263\n",
       "                    </td>\n",
       "                    <td style=\"text-align: left;\">\n",
       "                        <strong>Workers:</strong> 8\n",
       "                    </td>\n",
       "                </tr>\n",
       "                <tr>\n",
       "                    <td style=\"text-align: left;\">\n",
       "                        <strong>Dashboard:</strong> <a href=\"http://127.0.0.1:8787/status\" target=\"_blank\">http://127.0.0.1:8787/status</a>\n",
       "                    </td>\n",
       "                    <td style=\"text-align: left;\">\n",
       "                        <strong>Total threads:</strong> 32\n",
       "                    </td>\n",
       "                </tr>\n",
       "                <tr>\n",
       "                    <td style=\"text-align: left;\">\n",
       "                        <strong>Started:</strong> Just now\n",
       "                    </td>\n",
       "                    <td style=\"text-align: left;\">\n",
       "                        <strong>Total memory:</strong> 251.72 GiB\n",
       "                    </td>\n",
       "                </tr>\n",
       "            </table>\n",
       "        </div>\n",
       "    </div>\n",
       "\n",
       "    <details style=\"margin-left: 48px;\">\n",
       "        <summary style=\"margin-bottom: 20px;\">\n",
       "            <h3 style=\"display: inline;\">Workers</h3>\n",
       "        </summary>\n",
       "\n",
       "        \n",
       "        <div style=\"margin-bottom: 20px;\">\n",
       "            <div style=\"width: 24px; height: 24px; background-color: #DBF5FF; border: 3px solid #4CC9FF; border-radius: 5px; position: absolute;\"> </div>\n",
       "            <div style=\"margin-left: 48px;\">\n",
       "            <details>\n",
       "                <summary>\n",
       "                    <h4 style=\"margin-bottom: 0px; display: inline;\">Worker: 0</h4>\n",
       "                </summary>\n",
       "                <table style=\"width: 100%; text-align: left;\">\n",
       "                    <tr>\n",
       "                        <td style=\"text-align: left;\">\n",
       "                            <strong>Comm: </strong> tcp://127.0.0.1:42445\n",
       "                        </td>\n",
       "                        <td style=\"text-align: left;\">\n",
       "                            <strong>Total threads: </strong> 4\n",
       "                        </td>\n",
       "                    </tr>\n",
       "                    <tr>\n",
       "                        <td style=\"text-align: left;\">\n",
       "                            <strong>Dashboard: </strong> <a href=\"http://127.0.0.1:40084/status\" target=\"_blank\">http://127.0.0.1:40084/status</a>\n",
       "                        </td>\n",
       "                        <td style=\"text-align: left;\">\n",
       "                            <strong>Memory: </strong> 31.46 GiB\n",
       "                        </td>\n",
       "                    </tr>\n",
       "                    <tr>\n",
       "                        <td style=\"text-align: left;\">\n",
       "                            <strong>Nanny: </strong> tcp://127.0.0.1:41243\n",
       "                        </td>\n",
       "                        <td style=\"text-align: left;\"></td>\n",
       "                    </tr>\n",
       "                    <tr>\n",
       "                        <td colspan=\"2\" style=\"text-align: left;\">\n",
       "                            <strong>Local directory: </strong> /tmp/dask-worker-space/worker-38q_u8fi\n",
       "                        </td>\n",
       "                    </tr>\n",
       "\n",
       "                    \n",
       "\n",
       "                    \n",
       "\n",
       "                </table>\n",
       "            </details>\n",
       "            </div>\n",
       "        </div>\n",
       "        \n",
       "        <div style=\"margin-bottom: 20px;\">\n",
       "            <div style=\"width: 24px; height: 24px; background-color: #DBF5FF; border: 3px solid #4CC9FF; border-radius: 5px; position: absolute;\"> </div>\n",
       "            <div style=\"margin-left: 48px;\">\n",
       "            <details>\n",
       "                <summary>\n",
       "                    <h4 style=\"margin-bottom: 0px; display: inline;\">Worker: 1</h4>\n",
       "                </summary>\n",
       "                <table style=\"width: 100%; text-align: left;\">\n",
       "                    <tr>\n",
       "                        <td style=\"text-align: left;\">\n",
       "                            <strong>Comm: </strong> tcp://127.0.0.1:34195\n",
       "                        </td>\n",
       "                        <td style=\"text-align: left;\">\n",
       "                            <strong>Total threads: </strong> 4\n",
       "                        </td>\n",
       "                    </tr>\n",
       "                    <tr>\n",
       "                        <td style=\"text-align: left;\">\n",
       "                            <strong>Dashboard: </strong> <a href=\"http://127.0.0.1:36021/status\" target=\"_blank\">http://127.0.0.1:36021/status</a>\n",
       "                        </td>\n",
       "                        <td style=\"text-align: left;\">\n",
       "                            <strong>Memory: </strong> 31.46 GiB\n",
       "                        </td>\n",
       "                    </tr>\n",
       "                    <tr>\n",
       "                        <td style=\"text-align: left;\">\n",
       "                            <strong>Nanny: </strong> tcp://127.0.0.1:38213\n",
       "                        </td>\n",
       "                        <td style=\"text-align: left;\"></td>\n",
       "                    </tr>\n",
       "                    <tr>\n",
       "                        <td colspan=\"2\" style=\"text-align: left;\">\n",
       "                            <strong>Local directory: </strong> /tmp/dask-worker-space/worker-pkle2q1m\n",
       "                        </td>\n",
       "                    </tr>\n",
       "\n",
       "                    \n",
       "\n",
       "                    \n",
       "\n",
       "                </table>\n",
       "            </details>\n",
       "            </div>\n",
       "        </div>\n",
       "        \n",
       "        <div style=\"margin-bottom: 20px;\">\n",
       "            <div style=\"width: 24px; height: 24px; background-color: #DBF5FF; border: 3px solid #4CC9FF; border-radius: 5px; position: absolute;\"> </div>\n",
       "            <div style=\"margin-left: 48px;\">\n",
       "            <details>\n",
       "                <summary>\n",
       "                    <h4 style=\"margin-bottom: 0px; display: inline;\">Worker: 2</h4>\n",
       "                </summary>\n",
       "                <table style=\"width: 100%; text-align: left;\">\n",
       "                    <tr>\n",
       "                        <td style=\"text-align: left;\">\n",
       "                            <strong>Comm: </strong> tcp://127.0.0.1:42692\n",
       "                        </td>\n",
       "                        <td style=\"text-align: left;\">\n",
       "                            <strong>Total threads: </strong> 4\n",
       "                        </td>\n",
       "                    </tr>\n",
       "                    <tr>\n",
       "                        <td style=\"text-align: left;\">\n",
       "                            <strong>Dashboard: </strong> <a href=\"http://127.0.0.1:35896/status\" target=\"_blank\">http://127.0.0.1:35896/status</a>\n",
       "                        </td>\n",
       "                        <td style=\"text-align: left;\">\n",
       "                            <strong>Memory: </strong> 31.46 GiB\n",
       "                        </td>\n",
       "                    </tr>\n",
       "                    <tr>\n",
       "                        <td style=\"text-align: left;\">\n",
       "                            <strong>Nanny: </strong> tcp://127.0.0.1:46143\n",
       "                        </td>\n",
       "                        <td style=\"text-align: left;\"></td>\n",
       "                    </tr>\n",
       "                    <tr>\n",
       "                        <td colspan=\"2\" style=\"text-align: left;\">\n",
       "                            <strong>Local directory: </strong> /tmp/dask-worker-space/worker-my8f415w\n",
       "                        </td>\n",
       "                    </tr>\n",
       "\n",
       "                    \n",
       "\n",
       "                    \n",
       "\n",
       "                </table>\n",
       "            </details>\n",
       "            </div>\n",
       "        </div>\n",
       "        \n",
       "        <div style=\"margin-bottom: 20px;\">\n",
       "            <div style=\"width: 24px; height: 24px; background-color: #DBF5FF; border: 3px solid #4CC9FF; border-radius: 5px; position: absolute;\"> </div>\n",
       "            <div style=\"margin-left: 48px;\">\n",
       "            <details>\n",
       "                <summary>\n",
       "                    <h4 style=\"margin-bottom: 0px; display: inline;\">Worker: 3</h4>\n",
       "                </summary>\n",
       "                <table style=\"width: 100%; text-align: left;\">\n",
       "                    <tr>\n",
       "                        <td style=\"text-align: left;\">\n",
       "                            <strong>Comm: </strong> tcp://127.0.0.1:37747\n",
       "                        </td>\n",
       "                        <td style=\"text-align: left;\">\n",
       "                            <strong>Total threads: </strong> 4\n",
       "                        </td>\n",
       "                    </tr>\n",
       "                    <tr>\n",
       "                        <td style=\"text-align: left;\">\n",
       "                            <strong>Dashboard: </strong> <a href=\"http://127.0.0.1:34181/status\" target=\"_blank\">http://127.0.0.1:34181/status</a>\n",
       "                        </td>\n",
       "                        <td style=\"text-align: left;\">\n",
       "                            <strong>Memory: </strong> 31.46 GiB\n",
       "                        </td>\n",
       "                    </tr>\n",
       "                    <tr>\n",
       "                        <td style=\"text-align: left;\">\n",
       "                            <strong>Nanny: </strong> tcp://127.0.0.1:40626\n",
       "                        </td>\n",
       "                        <td style=\"text-align: left;\"></td>\n",
       "                    </tr>\n",
       "                    <tr>\n",
       "                        <td colspan=\"2\" style=\"text-align: left;\">\n",
       "                            <strong>Local directory: </strong> /tmp/dask-worker-space/worker-sky8ibc5\n",
       "                        </td>\n",
       "                    </tr>\n",
       "\n",
       "                    \n",
       "\n",
       "                    \n",
       "\n",
       "                </table>\n",
       "            </details>\n",
       "            </div>\n",
       "        </div>\n",
       "        \n",
       "        <div style=\"margin-bottom: 20px;\">\n",
       "            <div style=\"width: 24px; height: 24px; background-color: #DBF5FF; border: 3px solid #4CC9FF; border-radius: 5px; position: absolute;\"> </div>\n",
       "            <div style=\"margin-left: 48px;\">\n",
       "            <details>\n",
       "                <summary>\n",
       "                    <h4 style=\"margin-bottom: 0px; display: inline;\">Worker: 4</h4>\n",
       "                </summary>\n",
       "                <table style=\"width: 100%; text-align: left;\">\n",
       "                    <tr>\n",
       "                        <td style=\"text-align: left;\">\n",
       "                            <strong>Comm: </strong> tcp://127.0.0.1:36187\n",
       "                        </td>\n",
       "                        <td style=\"text-align: left;\">\n",
       "                            <strong>Total threads: </strong> 4\n",
       "                        </td>\n",
       "                    </tr>\n",
       "                    <tr>\n",
       "                        <td style=\"text-align: left;\">\n",
       "                            <strong>Dashboard: </strong> <a href=\"http://127.0.0.1:39951/status\" target=\"_blank\">http://127.0.0.1:39951/status</a>\n",
       "                        </td>\n",
       "                        <td style=\"text-align: left;\">\n",
       "                            <strong>Memory: </strong> 31.46 GiB\n",
       "                        </td>\n",
       "                    </tr>\n",
       "                    <tr>\n",
       "                        <td style=\"text-align: left;\">\n",
       "                            <strong>Nanny: </strong> tcp://127.0.0.1:38520\n",
       "                        </td>\n",
       "                        <td style=\"text-align: left;\"></td>\n",
       "                    </tr>\n",
       "                    <tr>\n",
       "                        <td colspan=\"2\" style=\"text-align: left;\">\n",
       "                            <strong>Local directory: </strong> /tmp/dask-worker-space/worker-6rjdycw4\n",
       "                        </td>\n",
       "                    </tr>\n",
       "\n",
       "                    \n",
       "\n",
       "                    \n",
       "\n",
       "                </table>\n",
       "            </details>\n",
       "            </div>\n",
       "        </div>\n",
       "        \n",
       "        <div style=\"margin-bottom: 20px;\">\n",
       "            <div style=\"width: 24px; height: 24px; background-color: #DBF5FF; border: 3px solid #4CC9FF; border-radius: 5px; position: absolute;\"> </div>\n",
       "            <div style=\"margin-left: 48px;\">\n",
       "            <details>\n",
       "                <summary>\n",
       "                    <h4 style=\"margin-bottom: 0px; display: inline;\">Worker: 5</h4>\n",
       "                </summary>\n",
       "                <table style=\"width: 100%; text-align: left;\">\n",
       "                    <tr>\n",
       "                        <td style=\"text-align: left;\">\n",
       "                            <strong>Comm: </strong> tcp://127.0.0.1:36535\n",
       "                        </td>\n",
       "                        <td style=\"text-align: left;\">\n",
       "                            <strong>Total threads: </strong> 4\n",
       "                        </td>\n",
       "                    </tr>\n",
       "                    <tr>\n",
       "                        <td style=\"text-align: left;\">\n",
       "                            <strong>Dashboard: </strong> <a href=\"http://127.0.0.1:43138/status\" target=\"_blank\">http://127.0.0.1:43138/status</a>\n",
       "                        </td>\n",
       "                        <td style=\"text-align: left;\">\n",
       "                            <strong>Memory: </strong> 31.46 GiB\n",
       "                        </td>\n",
       "                    </tr>\n",
       "                    <tr>\n",
       "                        <td style=\"text-align: left;\">\n",
       "                            <strong>Nanny: </strong> tcp://127.0.0.1:38115\n",
       "                        </td>\n",
       "                        <td style=\"text-align: left;\"></td>\n",
       "                    </tr>\n",
       "                    <tr>\n",
       "                        <td colspan=\"2\" style=\"text-align: left;\">\n",
       "                            <strong>Local directory: </strong> /tmp/dask-worker-space/worker-btjwz3m4\n",
       "                        </td>\n",
       "                    </tr>\n",
       "\n",
       "                    \n",
       "\n",
       "                    \n",
       "\n",
       "                </table>\n",
       "            </details>\n",
       "            </div>\n",
       "        </div>\n",
       "        \n",
       "        <div style=\"margin-bottom: 20px;\">\n",
       "            <div style=\"width: 24px; height: 24px; background-color: #DBF5FF; border: 3px solid #4CC9FF; border-radius: 5px; position: absolute;\"> </div>\n",
       "            <div style=\"margin-left: 48px;\">\n",
       "            <details>\n",
       "                <summary>\n",
       "                    <h4 style=\"margin-bottom: 0px; display: inline;\">Worker: 6</h4>\n",
       "                </summary>\n",
       "                <table style=\"width: 100%; text-align: left;\">\n",
       "                    <tr>\n",
       "                        <td style=\"text-align: left;\">\n",
       "                            <strong>Comm: </strong> tcp://127.0.0.1:37002\n",
       "                        </td>\n",
       "                        <td style=\"text-align: left;\">\n",
       "                            <strong>Total threads: </strong> 4\n",
       "                        </td>\n",
       "                    </tr>\n",
       "                    <tr>\n",
       "                        <td style=\"text-align: left;\">\n",
       "                            <strong>Dashboard: </strong> <a href=\"http://127.0.0.1:45854/status\" target=\"_blank\">http://127.0.0.1:45854/status</a>\n",
       "                        </td>\n",
       "                        <td style=\"text-align: left;\">\n",
       "                            <strong>Memory: </strong> 31.46 GiB\n",
       "                        </td>\n",
       "                    </tr>\n",
       "                    <tr>\n",
       "                        <td style=\"text-align: left;\">\n",
       "                            <strong>Nanny: </strong> tcp://127.0.0.1:36081\n",
       "                        </td>\n",
       "                        <td style=\"text-align: left;\"></td>\n",
       "                    </tr>\n",
       "                    <tr>\n",
       "                        <td colspan=\"2\" style=\"text-align: left;\">\n",
       "                            <strong>Local directory: </strong> /tmp/dask-worker-space/worker-vambt6ed\n",
       "                        </td>\n",
       "                    </tr>\n",
       "\n",
       "                    \n",
       "\n",
       "                    \n",
       "\n",
       "                </table>\n",
       "            </details>\n",
       "            </div>\n",
       "        </div>\n",
       "        \n",
       "        <div style=\"margin-bottom: 20px;\">\n",
       "            <div style=\"width: 24px; height: 24px; background-color: #DBF5FF; border: 3px solid #4CC9FF; border-radius: 5px; position: absolute;\"> </div>\n",
       "            <div style=\"margin-left: 48px;\">\n",
       "            <details>\n",
       "                <summary>\n",
       "                    <h4 style=\"margin-bottom: 0px; display: inline;\">Worker: 7</h4>\n",
       "                </summary>\n",
       "                <table style=\"width: 100%; text-align: left;\">\n",
       "                    <tr>\n",
       "                        <td style=\"text-align: left;\">\n",
       "                            <strong>Comm: </strong> tcp://127.0.0.1:36156\n",
       "                        </td>\n",
       "                        <td style=\"text-align: left;\">\n",
       "                            <strong>Total threads: </strong> 4\n",
       "                        </td>\n",
       "                    </tr>\n",
       "                    <tr>\n",
       "                        <td style=\"text-align: left;\">\n",
       "                            <strong>Dashboard: </strong> <a href=\"http://127.0.0.1:34708/status\" target=\"_blank\">http://127.0.0.1:34708/status</a>\n",
       "                        </td>\n",
       "                        <td style=\"text-align: left;\">\n",
       "                            <strong>Memory: </strong> 31.46 GiB\n",
       "                        </td>\n",
       "                    </tr>\n",
       "                    <tr>\n",
       "                        <td style=\"text-align: left;\">\n",
       "                            <strong>Nanny: </strong> tcp://127.0.0.1:41620\n",
       "                        </td>\n",
       "                        <td style=\"text-align: left;\"></td>\n",
       "                    </tr>\n",
       "                    <tr>\n",
       "                        <td colspan=\"2\" style=\"text-align: left;\">\n",
       "                            <strong>Local directory: </strong> /tmp/dask-worker-space/worker-4a_51mzt\n",
       "                        </td>\n",
       "                    </tr>\n",
       "\n",
       "                    \n",
       "\n",
       "                    \n",
       "\n",
       "                </table>\n",
       "            </details>\n",
       "            </div>\n",
       "        </div>\n",
       "        \n",
       "\n",
       "    </details>\n",
       "</div>\n",
       "\n",
       "        </details>\n",
       "    </div>\n",
       "</div>\n",
       "            </details>\n",
       "        \n",
       "\n",
       "    </div>\n",
       "</div>"
      ],
      "text/plain": [
       "<Client: 'tcp://127.0.0.1:33263' processes=8 threads=32, memory=251.72 GiB>"
      ]
     },
     "execution_count": 12,
     "metadata": {},
     "output_type": "execute_result"
    }
   ],
   "source": [
    "# create dask client\n",
    "client = Client()\n",
    "client"
   ]
  },
  {
   "cell_type": "code",
   "execution_count": 12,
   "id": "1419c04f-3250-4bd7-b74f-a16ddae61985",
   "metadata": {},
   "outputs": [
    {
     "data": {
      "application/vnd.jupyter.widget-view+json": {
       "model_id": "2df082dff25e41b9950d42f8b00470d3",
       "version_major": 2,
       "version_minor": 0
      },
      "text/plain": [
       "Processing ACCESS1-3 rcp45 data...:   0%|          | 0/15 [00:00<?, ?it/s]"
      ]
     },
     "metadata": {},
     "output_type": "display_data"
    },
    {
     "data": {
      "application/vnd.jupyter.widget-view+json": {
       "model_id": "0d0044c5514948dba4c9a4800fce0a27",
       "version_major": 2,
       "version_minor": 0
      },
      "text/plain": [
       "Processing 1950s:   0%|          | 0/5 [00:00<?, ?it/s]"
      ]
     },
     "metadata": {},
     "output_type": "display_data"
    },
    {
     "data": {
      "application/vnd.jupyter.widget-view+json": {
       "model_id": "8646b660e46f43db825c4a55cc678fa0",
       "version_major": 2,
       "version_minor": 0
      },
      "text/plain": [
       "Processing 1960s:   0%|          | 0/5 [00:00<?, ?it/s]"
      ]
     },
     "metadata": {},
     "output_type": "display_data"
    },
    {
     "data": {
      "application/vnd.jupyter.widget-view+json": {
       "model_id": "09c6c0c14f924c6384548e1053fc145e",
       "version_major": 2,
       "version_minor": 0
      },
      "text/plain": [
       "Processing 1970s:   0%|          | 0/5 [00:00<?, ?it/s]"
      ]
     },
     "metadata": {},
     "output_type": "display_data"
    },
    {
     "data": {
      "application/vnd.jupyter.widget-view+json": {
       "model_id": "ae69f6677dcc48cb901f9ccbd7bb2708",
       "version_major": 2,
       "version_minor": 0
      },
      "text/plain": [
       "Processing 1980s:   0%|          | 0/5 [00:00<?, ?it/s]"
      ]
     },
     "metadata": {},
     "output_type": "display_data"
    },
    {
     "data": {
      "application/vnd.jupyter.widget-view+json": {
       "model_id": "10bebdb6ade14d128417cdd5c5186d9e",
       "version_major": 2,
       "version_minor": 0
      },
      "text/plain": [
       "Processing 1990s:   0%|          | 0/5 [00:00<?, ?it/s]"
      ]
     },
     "metadata": {},
     "output_type": "display_data"
    },
    {
     "data": {
      "application/vnd.jupyter.widget-view+json": {
       "model_id": "0e11585d6344465a88aea6b8df72ad90",
       "version_major": 2,
       "version_minor": 0
      },
      "text/plain": [
       "Processing 2000s:   0%|          | 0/5 [00:00<?, ?it/s]"
      ]
     },
     "metadata": {},
     "output_type": "display_data"
    },
    {
     "data": {
      "application/vnd.jupyter.widget-view+json": {
       "model_id": "16e7a9ee9bfc4d829ca06ced7c64febe",
       "version_major": 2,
       "version_minor": 0
      },
      "text/plain": [
       "Processing 2010s:   0%|          | 0/5 [00:00<?, ?it/s]"
      ]
     },
     "metadata": {},
     "output_type": "display_data"
    },
    {
     "data": {
      "application/vnd.jupyter.widget-view+json": {
       "model_id": "de56051d94704595b0dbee43b263fb4c",
       "version_major": 2,
       "version_minor": 0
      },
      "text/plain": [
       "Processing 2020s:   0%|          | 0/5 [00:00<?, ?it/s]"
      ]
     },
     "metadata": {},
     "output_type": "display_data"
    },
    {
     "data": {
      "application/vnd.jupyter.widget-view+json": {
       "model_id": "732c4341eee04e69888fa824223299e1",
       "version_major": 2,
       "version_minor": 0
      },
      "text/plain": [
       "Processing 2030s:   0%|          | 0/5 [00:00<?, ?it/s]"
      ]
     },
     "metadata": {},
     "output_type": "display_data"
    },
    {
     "data": {
      "application/vnd.jupyter.widget-view+json": {
       "model_id": "01d334d758b3401e8c24bd4ba7b70b1c",
       "version_major": 2,
       "version_minor": 0
      },
      "text/plain": [
       "Processing 2040s:   0%|          | 0/5 [00:00<?, ?it/s]"
      ]
     },
     "metadata": {},
     "output_type": "display_data"
    },
    {
     "data": {
      "application/vnd.jupyter.widget-view+json": {
       "model_id": "13b0b524769046938c39c89ebc6ac370",
       "version_major": 2,
       "version_minor": 0
      },
      "text/plain": [
       "Processing 2050s:   0%|          | 0/5 [00:00<?, ?it/s]"
      ]
     },
     "metadata": {},
     "output_type": "display_data"
    },
    {
     "data": {
      "application/vnd.jupyter.widget-view+json": {
       "model_id": "7570358895404971b524fef3e1f08a74",
       "version_major": 2,
       "version_minor": 0
      },
      "text/plain": [
       "Processing 2060s:   0%|          | 0/5 [00:00<?, ?it/s]"
      ]
     },
     "metadata": {},
     "output_type": "display_data"
    },
    {
     "data": {
      "application/vnd.jupyter.widget-view+json": {
       "model_id": "1809865e551643d181f339b25afcdd81",
       "version_major": 2,
       "version_minor": 0
      },
      "text/plain": [
       "Processing 2070s:   0%|          | 0/5 [00:00<?, ?it/s]"
      ]
     },
     "metadata": {},
     "output_type": "display_data"
    },
    {
     "data": {
      "application/vnd.jupyter.widget-view+json": {
       "model_id": "67f5c5ba9b1c4ea987e293f4c1ad77f4",
       "version_major": 2,
       "version_minor": 0
      },
      "text/plain": [
       "Processing 2080s:   0%|          | 0/5 [00:00<?, ?it/s]"
      ]
     },
     "metadata": {},
     "output_type": "display_data"
    },
    {
     "data": {
      "application/vnd.jupyter.widget-view+json": {
       "model_id": "835dfb423674427eb5b12d63abbcb61d",
       "version_major": 2,
       "version_minor": 0
      },
      "text/plain": [
       "Processing 2090s:   0%|          | 0/5 [00:00<?, ?it/s]"
      ]
     },
     "metadata": {},
     "output_type": "display_data"
    },
    {
     "data": {
      "application/vnd.jupyter.widget-view+json": {
       "model_id": "3f3a3c82a28342f8946c4873da8b04e7",
       "version_major": 2,
       "version_minor": 0
      },
      "text/plain": [
       "Processing ACCESS1-3 rcp85 data...:   0%|          | 0/15 [00:00<?, ?it/s]"
      ]
     },
     "metadata": {},
     "output_type": "display_data"
    },
    {
     "data": {
      "application/vnd.jupyter.widget-view+json": {
       "model_id": "9cd7c57c4da94af683a02a7dbbfc55be",
       "version_major": 2,
       "version_minor": 0
      },
      "text/plain": [
       "Processing 1950s:   0%|          | 0/5 [00:00<?, ?it/s]"
      ]
     },
     "metadata": {},
     "output_type": "display_data"
    },
    {
     "data": {
      "application/vnd.jupyter.widget-view+json": {
       "model_id": "718937b1f9b64faa88965ab77d3cf400",
       "version_major": 2,
       "version_minor": 0
      },
      "text/plain": [
       "Processing 1960s:   0%|          | 0/5 [00:00<?, ?it/s]"
      ]
     },
     "metadata": {},
     "output_type": "display_data"
    },
    {
     "data": {
      "application/vnd.jupyter.widget-view+json": {
       "model_id": "59d7b4ff9c2a452d89f4df220a0dd768",
       "version_major": 2,
       "version_minor": 0
      },
      "text/plain": [
       "Processing 1970s:   0%|          | 0/5 [00:00<?, ?it/s]"
      ]
     },
     "metadata": {},
     "output_type": "display_data"
    },
    {
     "data": {
      "application/vnd.jupyter.widget-view+json": {
       "model_id": "d67c088f5b0f4307bbbe3434038ba5cd",
       "version_major": 2,
       "version_minor": 0
      },
      "text/plain": [
       "Processing 1980s:   0%|          | 0/5 [00:00<?, ?it/s]"
      ]
     },
     "metadata": {},
     "output_type": "display_data"
    },
    {
     "data": {
      "application/vnd.jupyter.widget-view+json": {
       "model_id": "2cf0ce9de9dc41f0bf8bea0f49c648d7",
       "version_major": 2,
       "version_minor": 0
      },
      "text/plain": [
       "Processing 1990s:   0%|          | 0/5 [00:00<?, ?it/s]"
      ]
     },
     "metadata": {},
     "output_type": "display_data"
    },
    {
     "data": {
      "application/vnd.jupyter.widget-view+json": {
       "model_id": "583291deb6314765a2a24396610d5bb7",
       "version_major": 2,
       "version_minor": 0
      },
      "text/plain": [
       "Processing 2000s:   0%|          | 0/5 [00:00<?, ?it/s]"
      ]
     },
     "metadata": {},
     "output_type": "display_data"
    },
    {
     "data": {
      "application/vnd.jupyter.widget-view+json": {
       "model_id": "375d64ccc6444151aa3ffaaeb0d4eaea",
       "version_major": 2,
       "version_minor": 0
      },
      "text/plain": [
       "Processing 2010s:   0%|          | 0/5 [00:00<?, ?it/s]"
      ]
     },
     "metadata": {},
     "output_type": "display_data"
    },
    {
     "data": {
      "application/vnd.jupyter.widget-view+json": {
       "model_id": "db7476577a1441d4a530c6f81aea3f04",
       "version_major": 2,
       "version_minor": 0
      },
      "text/plain": [
       "Processing 2020s:   0%|          | 0/5 [00:00<?, ?it/s]"
      ]
     },
     "metadata": {},
     "output_type": "display_data"
    },
    {
     "data": {
      "application/vnd.jupyter.widget-view+json": {
       "model_id": "de89f7a273924a9f993d2b72bed50eb0",
       "version_major": 2,
       "version_minor": 0
      },
      "text/plain": [
       "Processing 2030s:   0%|          | 0/5 [00:00<?, ?it/s]"
      ]
     },
     "metadata": {},
     "output_type": "display_data"
    },
    {
     "data": {
      "application/vnd.jupyter.widget-view+json": {
       "model_id": "b0c5e8a5454246e1be40236dca40886e",
       "version_major": 2,
       "version_minor": 0
      },
      "text/plain": [
       "Processing 2040s:   0%|          | 0/5 [00:00<?, ?it/s]"
      ]
     },
     "metadata": {},
     "output_type": "display_data"
    },
    {
     "data": {
      "application/vnd.jupyter.widget-view+json": {
       "model_id": "9a5061ef3baa4efe9a9b237e545ad317",
       "version_major": 2,
       "version_minor": 0
      },
      "text/plain": [
       "Processing 2050s:   0%|          | 0/5 [00:00<?, ?it/s]"
      ]
     },
     "metadata": {},
     "output_type": "display_data"
    },
    {
     "data": {
      "application/vnd.jupyter.widget-view+json": {
       "model_id": "e5b01aaa71374eb283116b9255e41d6e",
       "version_major": 2,
       "version_minor": 0
      },
      "text/plain": [
       "Processing 2060s:   0%|          | 0/5 [00:00<?, ?it/s]"
      ]
     },
     "metadata": {},
     "output_type": "display_data"
    },
    {
     "data": {
      "application/vnd.jupyter.widget-view+json": {
       "model_id": "5a2f9795f8194e6cb38afbc1717d5ff8",
       "version_major": 2,
       "version_minor": 0
      },
      "text/plain": [
       "Processing 2070s:   0%|          | 0/5 [00:00<?, ?it/s]"
      ]
     },
     "metadata": {},
     "output_type": "display_data"
    },
    {
     "data": {
      "application/vnd.jupyter.widget-view+json": {
       "model_id": "41865edde9014f7a944f7f7ada96cc3a",
       "version_major": 2,
       "version_minor": 0
      },
      "text/plain": [
       "Processing 2080s:   0%|          | 0/5 [00:00<?, ?it/s]"
      ]
     },
     "metadata": {},
     "output_type": "display_data"
    },
    {
     "data": {
      "application/vnd.jupyter.widget-view+json": {
       "model_id": "0f4a22dc8ccd478787ff3b39188c9dd9",
       "version_major": 2,
       "version_minor": 0
      },
      "text/plain": [
       "Processing 2090s:   0%|          | 0/5 [00:00<?, ?it/s]"
      ]
     },
     "metadata": {},
     "output_type": "display_data"
    },
    {
     "data": {
      "application/vnd.jupyter.widget-view+json": {
       "model_id": "dcc6b12360d9470cb80cfa15d4937611",
       "version_major": 2,
       "version_minor": 0
      },
      "text/plain": [
       "Processing CanESM2 rcp45 data...:   0%|          | 0/15 [00:00<?, ?it/s]"
      ]
     },
     "metadata": {},
     "output_type": "display_data"
    },
    {
     "data": {
      "application/vnd.jupyter.widget-view+json": {
       "model_id": "995afe8fe66040dd9cfdf1affca38638",
       "version_major": 2,
       "version_minor": 0
      },
      "text/plain": [
       "Processing 1950s:   0%|          | 0/5 [00:00<?, ?it/s]"
      ]
     },
     "metadata": {},
     "output_type": "display_data"
    },
    {
     "data": {
      "application/vnd.jupyter.widget-view+json": {
       "model_id": "a7bc63c86e8b4748b98cb9007e11357f",
       "version_major": 2,
       "version_minor": 0
      },
      "text/plain": [
       "Processing 1960s:   0%|          | 0/5 [00:00<?, ?it/s]"
      ]
     },
     "metadata": {},
     "output_type": "display_data"
    },
    {
     "data": {
      "application/vnd.jupyter.widget-view+json": {
       "model_id": "fbfbe936b9e14bf288674492d7b3b632",
       "version_major": 2,
       "version_minor": 0
      },
      "text/plain": [
       "Processing 1970s:   0%|          | 0/5 [00:00<?, ?it/s]"
      ]
     },
     "metadata": {},
     "output_type": "display_data"
    },
    {
     "data": {
      "application/vnd.jupyter.widget-view+json": {
       "model_id": "947823fc81d94367b49b6f8c511c4647",
       "version_major": 2,
       "version_minor": 0
      },
      "text/plain": [
       "Processing 1980s:   0%|          | 0/5 [00:00<?, ?it/s]"
      ]
     },
     "metadata": {},
     "output_type": "display_data"
    },
    {
     "data": {
      "application/vnd.jupyter.widget-view+json": {
       "model_id": "96b2e8e4d34d405dae992223e46ad3fa",
       "version_major": 2,
       "version_minor": 0
      },
      "text/plain": [
       "Processing 1990s:   0%|          | 0/5 [00:00<?, ?it/s]"
      ]
     },
     "metadata": {},
     "output_type": "display_data"
    },
    {
     "data": {
      "application/vnd.jupyter.widget-view+json": {
       "model_id": "8261cb650d594bf4923eba30be3a1dcb",
       "version_major": 2,
       "version_minor": 0
      },
      "text/plain": [
       "Processing 2000s:   0%|          | 0/5 [00:00<?, ?it/s]"
      ]
     },
     "metadata": {},
     "output_type": "display_data"
    },
    {
     "data": {
      "application/vnd.jupyter.widget-view+json": {
       "model_id": "ff70ea1e18724261a4291318711323e8",
       "version_major": 2,
       "version_minor": 0
      },
      "text/plain": [
       "Processing 2010s:   0%|          | 0/5 [00:00<?, ?it/s]"
      ]
     },
     "metadata": {},
     "output_type": "display_data"
    },
    {
     "data": {
      "application/vnd.jupyter.widget-view+json": {
       "model_id": "f05b182137af45978318c2f8db8d22cf",
       "version_major": 2,
       "version_minor": 0
      },
      "text/plain": [
       "Processing 2020s:   0%|          | 0/5 [00:00<?, ?it/s]"
      ]
     },
     "metadata": {},
     "output_type": "display_data"
    },
    {
     "data": {
      "application/vnd.jupyter.widget-view+json": {
       "model_id": "ac1fac8b8ddc4bdb9ff0ff3df60924d7",
       "version_major": 2,
       "version_minor": 0
      },
      "text/plain": [
       "Processing 2030s:   0%|          | 0/5 [00:00<?, ?it/s]"
      ]
     },
     "metadata": {},
     "output_type": "display_data"
    },
    {
     "data": {
      "application/vnd.jupyter.widget-view+json": {
       "model_id": "65f70d37d9a54a5389a8de67c15f1e29",
       "version_major": 2,
       "version_minor": 0
      },
      "text/plain": [
       "Processing 2040s:   0%|          | 0/5 [00:00<?, ?it/s]"
      ]
     },
     "metadata": {},
     "output_type": "display_data"
    },
    {
     "data": {
      "application/vnd.jupyter.widget-view+json": {
       "model_id": "eff55f48d2b04eb6b4135b2546d44b8d",
       "version_major": 2,
       "version_minor": 0
      },
      "text/plain": [
       "Processing 2050s:   0%|          | 0/5 [00:00<?, ?it/s]"
      ]
     },
     "metadata": {},
     "output_type": "display_data"
    },
    {
     "data": {
      "application/vnd.jupyter.widget-view+json": {
       "model_id": "90ff8cd27cdd4c808e352a30669e0b2b",
       "version_major": 2,
       "version_minor": 0
      },
      "text/plain": [
       "Processing 2060s:   0%|          | 0/5 [00:00<?, ?it/s]"
      ]
     },
     "metadata": {},
     "output_type": "display_data"
    },
    {
     "data": {
      "application/vnd.jupyter.widget-view+json": {
       "model_id": "dadd4f6190884251b55812e493061eaf",
       "version_major": 2,
       "version_minor": 0
      },
      "text/plain": [
       "Processing 2070s:   0%|          | 0/5 [00:00<?, ?it/s]"
      ]
     },
     "metadata": {},
     "output_type": "display_data"
    },
    {
     "data": {
      "application/vnd.jupyter.widget-view+json": {
       "model_id": "4ece8f6b0a8742f9b5d2f155d734f5a6",
       "version_major": 2,
       "version_minor": 0
      },
      "text/plain": [
       "Processing 2080s:   0%|          | 0/5 [00:00<?, ?it/s]"
      ]
     },
     "metadata": {},
     "output_type": "display_data"
    },
    {
     "data": {
      "application/vnd.jupyter.widget-view+json": {
       "model_id": "6699dac385674f0fa2366610e442e6ec",
       "version_major": 2,
       "version_minor": 0
      },
      "text/plain": [
       "Processing 2090s:   0%|          | 0/5 [00:00<?, ?it/s]"
      ]
     },
     "metadata": {},
     "output_type": "display_data"
    },
    {
     "data": {
      "application/vnd.jupyter.widget-view+json": {
       "model_id": "05b04190737f41fd9316fb08445ac15b",
       "version_major": 2,
       "version_minor": 0
      },
      "text/plain": [
       "Processing CanESM2 rcp85 data...:   0%|          | 0/15 [00:00<?, ?it/s]"
      ]
     },
     "metadata": {},
     "output_type": "display_data"
    },
    {
     "data": {
      "application/vnd.jupyter.widget-view+json": {
       "model_id": "c3c089b61fe2427bb77a9617c77a1bcb",
       "version_major": 2,
       "version_minor": 0
      },
      "text/plain": [
       "Processing 1950s:   0%|          | 0/5 [00:00<?, ?it/s]"
      ]
     },
     "metadata": {},
     "output_type": "display_data"
    },
    {
     "data": {
      "application/vnd.jupyter.widget-view+json": {
       "model_id": "b68317de9ed146eeac6c9f357e8d4de4",
       "version_major": 2,
       "version_minor": 0
      },
      "text/plain": [
       "Processing 1960s:   0%|          | 0/5 [00:00<?, ?it/s]"
      ]
     },
     "metadata": {},
     "output_type": "display_data"
    },
    {
     "data": {
      "application/vnd.jupyter.widget-view+json": {
       "model_id": "6b3d8eb304dc4b37a2040048d335efae",
       "version_major": 2,
       "version_minor": 0
      },
      "text/plain": [
       "Processing 1970s:   0%|          | 0/5 [00:00<?, ?it/s]"
      ]
     },
     "metadata": {},
     "output_type": "display_data"
    },
    {
     "data": {
      "application/vnd.jupyter.widget-view+json": {
       "model_id": "192248888fa04a65b048341f97574f25",
       "version_major": 2,
       "version_minor": 0
      },
      "text/plain": [
       "Processing 1980s:   0%|          | 0/5 [00:00<?, ?it/s]"
      ]
     },
     "metadata": {},
     "output_type": "display_data"
    },
    {
     "data": {
      "application/vnd.jupyter.widget-view+json": {
       "model_id": "fb797586391040af912455ddd9c5bb1c",
       "version_major": 2,
       "version_minor": 0
      },
      "text/plain": [
       "Processing 1990s:   0%|          | 0/5 [00:00<?, ?it/s]"
      ]
     },
     "metadata": {},
     "output_type": "display_data"
    },
    {
     "data": {
      "application/vnd.jupyter.widget-view+json": {
       "model_id": "07bbde73ff594314894d59f9b0732512",
       "version_major": 2,
       "version_minor": 0
      },
      "text/plain": [
       "Processing 2000s:   0%|          | 0/5 [00:00<?, ?it/s]"
      ]
     },
     "metadata": {},
     "output_type": "display_data"
    },
    {
     "data": {
      "application/vnd.jupyter.widget-view+json": {
       "model_id": "ec1021daf8874d3081fa86bcab4e29c0",
       "version_major": 2,
       "version_minor": 0
      },
      "text/plain": [
       "Processing 2010s:   0%|          | 0/5 [00:00<?, ?it/s]"
      ]
     },
     "metadata": {},
     "output_type": "display_data"
    },
    {
     "data": {
      "application/vnd.jupyter.widget-view+json": {
       "model_id": "078dd9ea3a2440ebbc11e2951ff56b5f",
       "version_major": 2,
       "version_minor": 0
      },
      "text/plain": [
       "Processing 2020s:   0%|          | 0/5 [00:00<?, ?it/s]"
      ]
     },
     "metadata": {},
     "output_type": "display_data"
    },
    {
     "data": {
      "application/vnd.jupyter.widget-view+json": {
       "model_id": "84c7691627784c1ea3c4df9895ebb43b",
       "version_major": 2,
       "version_minor": 0
      },
      "text/plain": [
       "Processing 2030s:   0%|          | 0/5 [00:00<?, ?it/s]"
      ]
     },
     "metadata": {},
     "output_type": "display_data"
    },
    {
     "data": {
      "application/vnd.jupyter.widget-view+json": {
       "model_id": "55b78748f7784513bbb74e86bc29b59c",
       "version_major": 2,
       "version_minor": 0
      },
      "text/plain": [
       "Processing 2040s:   0%|          | 0/5 [00:00<?, ?it/s]"
      ]
     },
     "metadata": {},
     "output_type": "display_data"
    },
    {
     "data": {
      "application/vnd.jupyter.widget-view+json": {
       "model_id": "b5569b0007d74185835dd9385002a368",
       "version_major": 2,
       "version_minor": 0
      },
      "text/plain": [
       "Processing 2050s:   0%|          | 0/5 [00:00<?, ?it/s]"
      ]
     },
     "metadata": {},
     "output_type": "display_data"
    },
    {
     "data": {
      "application/vnd.jupyter.widget-view+json": {
       "model_id": "d26b86c24a3f4494b9baf1ef212772de",
       "version_major": 2,
       "version_minor": 0
      },
      "text/plain": [
       "Processing 2060s:   0%|          | 0/5 [00:00<?, ?it/s]"
      ]
     },
     "metadata": {},
     "output_type": "display_data"
    },
    {
     "data": {
      "application/vnd.jupyter.widget-view+json": {
       "model_id": "8d98c2f3be234f3ab2ffaaad819406e3",
       "version_major": 2,
       "version_minor": 0
      },
      "text/plain": [
       "Processing 2070s:   0%|          | 0/5 [00:00<?, ?it/s]"
      ]
     },
     "metadata": {},
     "output_type": "display_data"
    },
    {
     "data": {
      "application/vnd.jupyter.widget-view+json": {
       "model_id": "f8a9718d8e4d4788a989a45e57707a46",
       "version_major": 2,
       "version_minor": 0
      },
      "text/plain": [
       "Processing 2080s:   0%|          | 0/5 [00:00<?, ?it/s]"
      ]
     },
     "metadata": {},
     "output_type": "display_data"
    },
    {
     "data": {
      "application/vnd.jupyter.widget-view+json": {
       "model_id": "de83ac448f8a4c82bf1491dd3d20a37b",
       "version_major": 2,
       "version_minor": 0
      },
      "text/plain": [
       "Processing 2090s:   0%|          | 0/5 [00:00<?, ?it/s]"
      ]
     },
     "metadata": {},
     "output_type": "display_data"
    },
    {
     "data": {
      "application/vnd.jupyter.widget-view+json": {
       "model_id": "999aa98ba26a43d9b058b64b389354d5",
       "version_major": 2,
       "version_minor": 0
      },
      "text/plain": [
       "Processing CCSM4 rcp45 data...:   0%|          | 0/15 [00:00<?, ?it/s]"
      ]
     },
     "metadata": {},
     "output_type": "display_data"
    },
    {
     "data": {
      "application/vnd.jupyter.widget-view+json": {
       "model_id": "6416d304c44e436989fe90b9dbfcbaab",
       "version_major": 2,
       "version_minor": 0
      },
      "text/plain": [
       "Processing 1950s:   0%|          | 0/5 [00:00<?, ?it/s]"
      ]
     },
     "metadata": {},
     "output_type": "display_data"
    },
    {
     "data": {
      "application/vnd.jupyter.widget-view+json": {
       "model_id": "caf08484099c43c3882c66fb7f44e6ce",
       "version_major": 2,
       "version_minor": 0
      },
      "text/plain": [
       "Processing 1960s:   0%|          | 0/5 [00:00<?, ?it/s]"
      ]
     },
     "metadata": {},
     "output_type": "display_data"
    },
    {
     "data": {
      "application/vnd.jupyter.widget-view+json": {
       "model_id": "38b072c70ece4b0a899d01ab8cfa25a7",
       "version_major": 2,
       "version_minor": 0
      },
      "text/plain": [
       "Processing 1970s:   0%|          | 0/5 [00:00<?, ?it/s]"
      ]
     },
     "metadata": {},
     "output_type": "display_data"
    },
    {
     "data": {
      "application/vnd.jupyter.widget-view+json": {
       "model_id": "2f7ee7fdebb04d2c97620aaa5ab26594",
       "version_major": 2,
       "version_minor": 0
      },
      "text/plain": [
       "Processing 1980s:   0%|          | 0/5 [00:00<?, ?it/s]"
      ]
     },
     "metadata": {},
     "output_type": "display_data"
    },
    {
     "data": {
      "application/vnd.jupyter.widget-view+json": {
       "model_id": "19cd886bcee640f69e917279c3d4e8cd",
       "version_major": 2,
       "version_minor": 0
      },
      "text/plain": [
       "Processing 1990s:   0%|          | 0/5 [00:00<?, ?it/s]"
      ]
     },
     "metadata": {},
     "output_type": "display_data"
    },
    {
     "data": {
      "application/vnd.jupyter.widget-view+json": {
       "model_id": "0e688ea5d4ab4b0584c0e3e6d23fcf15",
       "version_major": 2,
       "version_minor": 0
      },
      "text/plain": [
       "Processing 2000s:   0%|          | 0/5 [00:00<?, ?it/s]"
      ]
     },
     "metadata": {},
     "output_type": "display_data"
    },
    {
     "data": {
      "application/vnd.jupyter.widget-view+json": {
       "model_id": "beae8df638914f22a17c8279c538cfbf",
       "version_major": 2,
       "version_minor": 0
      },
      "text/plain": [
       "Processing 2010s:   0%|          | 0/5 [00:00<?, ?it/s]"
      ]
     },
     "metadata": {},
     "output_type": "display_data"
    },
    {
     "data": {
      "application/vnd.jupyter.widget-view+json": {
       "model_id": "f042aa1eac3a4eeeb12d3e15902d752b",
       "version_major": 2,
       "version_minor": 0
      },
      "text/plain": [
       "Processing 2020s:   0%|          | 0/5 [00:00<?, ?it/s]"
      ]
     },
     "metadata": {},
     "output_type": "display_data"
    },
    {
     "data": {
      "application/vnd.jupyter.widget-view+json": {
       "model_id": "6fb53f55032d40b993a2425a2dbebc56",
       "version_major": 2,
       "version_minor": 0
      },
      "text/plain": [
       "Processing 2030s:   0%|          | 0/5 [00:00<?, ?it/s]"
      ]
     },
     "metadata": {},
     "output_type": "display_data"
    },
    {
     "data": {
      "application/vnd.jupyter.widget-view+json": {
       "model_id": "5759e959a1c14fa1b3d2f612c9639efe",
       "version_major": 2,
       "version_minor": 0
      },
      "text/plain": [
       "Processing 2040s:   0%|          | 0/5 [00:00<?, ?it/s]"
      ]
     },
     "metadata": {},
     "output_type": "display_data"
    },
    {
     "data": {
      "application/vnd.jupyter.widget-view+json": {
       "model_id": "aeb292c7599d4eee84bf5db4efbf2608",
       "version_major": 2,
       "version_minor": 0
      },
      "text/plain": [
       "Processing 2050s:   0%|          | 0/5 [00:00<?, ?it/s]"
      ]
     },
     "metadata": {},
     "output_type": "display_data"
    },
    {
     "data": {
      "application/vnd.jupyter.widget-view+json": {
       "model_id": "938d5e3030a44db9845cd7541bada4f2",
       "version_major": 2,
       "version_minor": 0
      },
      "text/plain": [
       "Processing 2060s:   0%|          | 0/5 [00:00<?, ?it/s]"
      ]
     },
     "metadata": {},
     "output_type": "display_data"
    },
    {
     "data": {
      "application/vnd.jupyter.widget-view+json": {
       "model_id": "bae5c40946fe445b91229050e6138d6d",
       "version_major": 2,
       "version_minor": 0
      },
      "text/plain": [
       "Processing 2070s:   0%|          | 0/5 [00:00<?, ?it/s]"
      ]
     },
     "metadata": {},
     "output_type": "display_data"
    },
    {
     "data": {
      "application/vnd.jupyter.widget-view+json": {
       "model_id": "8c1dece33931481f9ac456a4956bd285",
       "version_major": 2,
       "version_minor": 0
      },
      "text/plain": [
       "Processing 2080s:   0%|          | 0/5 [00:00<?, ?it/s]"
      ]
     },
     "metadata": {},
     "output_type": "display_data"
    },
    {
     "data": {
      "application/vnd.jupyter.widget-view+json": {
       "model_id": "2889d3015f984881928b84484be5d433",
       "version_major": 2,
       "version_minor": 0
      },
      "text/plain": [
       "Processing 2090s:   0%|          | 0/5 [00:00<?, ?it/s]"
      ]
     },
     "metadata": {},
     "output_type": "display_data"
    },
    {
     "data": {
      "application/vnd.jupyter.widget-view+json": {
       "model_id": "d922aee2d6f74a3483865d1ee1eb7652",
       "version_major": 2,
       "version_minor": 0
      },
      "text/plain": [
       "Processing CCSM4 rcp85 data...:   0%|          | 0/15 [00:00<?, ?it/s]"
      ]
     },
     "metadata": {},
     "output_type": "display_data"
    },
    {
     "data": {
      "application/vnd.jupyter.widget-view+json": {
       "model_id": "0fd3960233f84264bd6751008e2c0ec3",
       "version_major": 2,
       "version_minor": 0
      },
      "text/plain": [
       "Processing 1950s:   0%|          | 0/5 [00:00<?, ?it/s]"
      ]
     },
     "metadata": {},
     "output_type": "display_data"
    },
    {
     "data": {
      "application/vnd.jupyter.widget-view+json": {
       "model_id": "1d8fc6b9f4f74da28077d3cf58907911",
       "version_major": 2,
       "version_minor": 0
      },
      "text/plain": [
       "Processing 1960s:   0%|          | 0/5 [00:00<?, ?it/s]"
      ]
     },
     "metadata": {},
     "output_type": "display_data"
    },
    {
     "data": {
      "application/vnd.jupyter.widget-view+json": {
       "model_id": "e545fc5cdbcb40268465923ddcfb46ce",
       "version_major": 2,
       "version_minor": 0
      },
      "text/plain": [
       "Processing 1970s:   0%|          | 0/5 [00:00<?, ?it/s]"
      ]
     },
     "metadata": {},
     "output_type": "display_data"
    },
    {
     "data": {
      "application/vnd.jupyter.widget-view+json": {
       "model_id": "7d87ad4128c4450687bb0015a7ff5f81",
       "version_major": 2,
       "version_minor": 0
      },
      "text/plain": [
       "Processing 1980s:   0%|          | 0/5 [00:00<?, ?it/s]"
      ]
     },
     "metadata": {},
     "output_type": "display_data"
    },
    {
     "data": {
      "application/vnd.jupyter.widget-view+json": {
       "model_id": "9dd86b4c8f564892b14769062f1eb714",
       "version_major": 2,
       "version_minor": 0
      },
      "text/plain": [
       "Processing 1990s:   0%|          | 0/5 [00:00<?, ?it/s]"
      ]
     },
     "metadata": {},
     "output_type": "display_data"
    },
    {
     "data": {
      "application/vnd.jupyter.widget-view+json": {
       "model_id": "cef295392c5340d8befe10899f96b9e7",
       "version_major": 2,
       "version_minor": 0
      },
      "text/plain": [
       "Processing 2000s:   0%|          | 0/5 [00:00<?, ?it/s]"
      ]
     },
     "metadata": {},
     "output_type": "display_data"
    },
    {
     "data": {
      "application/vnd.jupyter.widget-view+json": {
       "model_id": "580dba039954436599c437a79141179b",
       "version_major": 2,
       "version_minor": 0
      },
      "text/plain": [
       "Processing 2010s:   0%|          | 0/5 [00:00<?, ?it/s]"
      ]
     },
     "metadata": {},
     "output_type": "display_data"
    },
    {
     "data": {
      "application/vnd.jupyter.widget-view+json": {
       "model_id": "c8b500b01fce42f1b376469ea4c2cb45",
       "version_major": 2,
       "version_minor": 0
      },
      "text/plain": [
       "Processing 2020s:   0%|          | 0/5 [00:00<?, ?it/s]"
      ]
     },
     "metadata": {},
     "output_type": "display_data"
    },
    {
     "data": {
      "application/vnd.jupyter.widget-view+json": {
       "model_id": "180a05aa99104b58bde1e7c8aa1bee71",
       "version_major": 2,
       "version_minor": 0
      },
      "text/plain": [
       "Processing 2030s:   0%|          | 0/5 [00:00<?, ?it/s]"
      ]
     },
     "metadata": {},
     "output_type": "display_data"
    },
    {
     "data": {
      "application/vnd.jupyter.widget-view+json": {
       "model_id": "96f1dc6336e34104bb05e6d8a46400ad",
       "version_major": 2,
       "version_minor": 0
      },
      "text/plain": [
       "Processing 2040s:   0%|          | 0/5 [00:00<?, ?it/s]"
      ]
     },
     "metadata": {},
     "output_type": "display_data"
    },
    {
     "data": {
      "application/vnd.jupyter.widget-view+json": {
       "model_id": "c7c3cd377ba24106afe36598b8eed983",
       "version_major": 2,
       "version_minor": 0
      },
      "text/plain": [
       "Processing 2050s:   0%|          | 0/5 [00:00<?, ?it/s]"
      ]
     },
     "metadata": {},
     "output_type": "display_data"
    },
    {
     "data": {
      "application/vnd.jupyter.widget-view+json": {
       "model_id": "e22e68be57b64282b77150b8bf0dd3cd",
       "version_major": 2,
       "version_minor": 0
      },
      "text/plain": [
       "Processing 2060s:   0%|          | 0/5 [00:00<?, ?it/s]"
      ]
     },
     "metadata": {},
     "output_type": "display_data"
    },
    {
     "data": {
      "application/vnd.jupyter.widget-view+json": {
       "model_id": "d679feeb7afc4f99867b2eb67ea9f8b7",
       "version_major": 2,
       "version_minor": 0
      },
      "text/plain": [
       "Processing 2070s:   0%|          | 0/5 [00:00<?, ?it/s]"
      ]
     },
     "metadata": {},
     "output_type": "display_data"
    },
    {
     "data": {
      "application/vnd.jupyter.widget-view+json": {
       "model_id": "3428374cc1614697b67f0395dbf3c441",
       "version_major": 2,
       "version_minor": 0
      },
      "text/plain": [
       "Processing 2080s:   0%|          | 0/5 [00:00<?, ?it/s]"
      ]
     },
     "metadata": {},
     "output_type": "display_data"
    },
    {
     "data": {
      "application/vnd.jupyter.widget-view+json": {
       "model_id": "c9ef9f19e28246a4bcd846b15b53d8b8",
       "version_major": 2,
       "version_minor": 0
      },
      "text/plain": [
       "Processing 2090s:   0%|          | 0/5 [00:00<?, ?it/s]"
      ]
     },
     "metadata": {},
     "output_type": "display_data"
    },
    {
     "data": {
      "application/vnd.jupyter.widget-view+json": {
       "model_id": "b05ba3657e504e04819aa14cf8681bec",
       "version_major": 2,
       "version_minor": 0
      },
      "text/plain": [
       "Processing CSIRO-Mk3-6-0 rcp45 data...:   0%|          | 0/15 [00:00<?, ?it/s]"
      ]
     },
     "metadata": {},
     "output_type": "display_data"
    },
    {
     "data": {
      "application/vnd.jupyter.widget-view+json": {
       "model_id": "b7b5edce76c24ad78e7625a991d771fd",
       "version_major": 2,
       "version_minor": 0
      },
      "text/plain": [
       "Processing 1950s:   0%|          | 0/5 [00:00<?, ?it/s]"
      ]
     },
     "metadata": {},
     "output_type": "display_data"
    },
    {
     "data": {
      "application/vnd.jupyter.widget-view+json": {
       "model_id": "5af08c479a424f378c72c4292240deca",
       "version_major": 2,
       "version_minor": 0
      },
      "text/plain": [
       "Processing 1960s:   0%|          | 0/5 [00:00<?, ?it/s]"
      ]
     },
     "metadata": {},
     "output_type": "display_data"
    },
    {
     "data": {
      "application/vnd.jupyter.widget-view+json": {
       "model_id": "828629b5756141c88d3591bcc3a14d78",
       "version_major": 2,
       "version_minor": 0
      },
      "text/plain": [
       "Processing 1970s:   0%|          | 0/5 [00:00<?, ?it/s]"
      ]
     },
     "metadata": {},
     "output_type": "display_data"
    },
    {
     "data": {
      "application/vnd.jupyter.widget-view+json": {
       "model_id": "99a8d4e1f9644796b9c6925c673df96e",
       "version_major": 2,
       "version_minor": 0
      },
      "text/plain": [
       "Processing 1980s:   0%|          | 0/5 [00:00<?, ?it/s]"
      ]
     },
     "metadata": {},
     "output_type": "display_data"
    },
    {
     "data": {
      "application/vnd.jupyter.widget-view+json": {
       "model_id": "9b7846375239454cb67fb9169edf1891",
       "version_major": 2,
       "version_minor": 0
      },
      "text/plain": [
       "Processing 1990s:   0%|          | 0/5 [00:00<?, ?it/s]"
      ]
     },
     "metadata": {},
     "output_type": "display_data"
    },
    {
     "data": {
      "application/vnd.jupyter.widget-view+json": {
       "model_id": "2781fdfa065c42ee9d74d53e911abc31",
       "version_major": 2,
       "version_minor": 0
      },
      "text/plain": [
       "Processing 2000s:   0%|          | 0/5 [00:00<?, ?it/s]"
      ]
     },
     "metadata": {},
     "output_type": "display_data"
    },
    {
     "data": {
      "application/vnd.jupyter.widget-view+json": {
       "model_id": "e2066b01ffcd4d34998ffee007e615dd",
       "version_major": 2,
       "version_minor": 0
      },
      "text/plain": [
       "Processing 2010s:   0%|          | 0/5 [00:00<?, ?it/s]"
      ]
     },
     "metadata": {},
     "output_type": "display_data"
    },
    {
     "data": {
      "application/vnd.jupyter.widget-view+json": {
       "model_id": "bd5483eef60f4559bb46f7719de1550d",
       "version_major": 2,
       "version_minor": 0
      },
      "text/plain": [
       "Processing 2020s:   0%|          | 0/5 [00:00<?, ?it/s]"
      ]
     },
     "metadata": {},
     "output_type": "display_data"
    },
    {
     "data": {
      "application/vnd.jupyter.widget-view+json": {
       "model_id": "2273c3500da34a1dac74a4abb5583366",
       "version_major": 2,
       "version_minor": 0
      },
      "text/plain": [
       "Processing 2030s:   0%|          | 0/5 [00:00<?, ?it/s]"
      ]
     },
     "metadata": {},
     "output_type": "display_data"
    },
    {
     "data": {
      "application/vnd.jupyter.widget-view+json": {
       "model_id": "97dd727e9d9f479fabcc3ba99cdb58e2",
       "version_major": 2,
       "version_minor": 0
      },
      "text/plain": [
       "Processing 2040s:   0%|          | 0/5 [00:00<?, ?it/s]"
      ]
     },
     "metadata": {},
     "output_type": "display_data"
    },
    {
     "data": {
      "application/vnd.jupyter.widget-view+json": {
       "model_id": "6ece6c8854f043d7893808c7ceec7d2b",
       "version_major": 2,
       "version_minor": 0
      },
      "text/plain": [
       "Processing 2050s:   0%|          | 0/5 [00:00<?, ?it/s]"
      ]
     },
     "metadata": {},
     "output_type": "display_data"
    },
    {
     "data": {
      "application/vnd.jupyter.widget-view+json": {
       "model_id": "17714096c3ce491cae0e310c2684377a",
       "version_major": 2,
       "version_minor": 0
      },
      "text/plain": [
       "Processing 2060s:   0%|          | 0/5 [00:00<?, ?it/s]"
      ]
     },
     "metadata": {},
     "output_type": "display_data"
    },
    {
     "data": {
      "application/vnd.jupyter.widget-view+json": {
       "model_id": "57db57702af5446f94894a76a40adabc",
       "version_major": 2,
       "version_minor": 0
      },
      "text/plain": [
       "Processing 2070s:   0%|          | 0/5 [00:00<?, ?it/s]"
      ]
     },
     "metadata": {},
     "output_type": "display_data"
    },
    {
     "data": {
      "application/vnd.jupyter.widget-view+json": {
       "model_id": "9a57b176d5e14d9ea590b8deb63d81ca",
       "version_major": 2,
       "version_minor": 0
      },
      "text/plain": [
       "Processing 2080s:   0%|          | 0/5 [00:00<?, ?it/s]"
      ]
     },
     "metadata": {},
     "output_type": "display_data"
    },
    {
     "data": {
      "application/vnd.jupyter.widget-view+json": {
       "model_id": "4a23a0125cca46b5b0181ec00a4997a9",
       "version_major": 2,
       "version_minor": 0
      },
      "text/plain": [
       "Processing 2090s:   0%|          | 0/5 [00:00<?, ?it/s]"
      ]
     },
     "metadata": {},
     "output_type": "display_data"
    },
    {
     "data": {
      "application/vnd.jupyter.widget-view+json": {
       "model_id": "af3ddd2537f94ae4a7b96698031f1d97",
       "version_major": 2,
       "version_minor": 0
      },
      "text/plain": [
       "Processing CSIRO-Mk3-6-0 rcp85 data...:   0%|          | 0/15 [00:00<?, ?it/s]"
      ]
     },
     "metadata": {},
     "output_type": "display_data"
    },
    {
     "data": {
      "application/vnd.jupyter.widget-view+json": {
       "model_id": "b347492ed8554194bb5305835f796a52",
       "version_major": 2,
       "version_minor": 0
      },
      "text/plain": [
       "Processing 1950s:   0%|          | 0/5 [00:00<?, ?it/s]"
      ]
     },
     "metadata": {},
     "output_type": "display_data"
    },
    {
     "data": {
      "application/vnd.jupyter.widget-view+json": {
       "model_id": "2d69786bdbf34b6791dc4eff3947cb7a",
       "version_major": 2,
       "version_minor": 0
      },
      "text/plain": [
       "Processing 1960s:   0%|          | 0/5 [00:00<?, ?it/s]"
      ]
     },
     "metadata": {},
     "output_type": "display_data"
    },
    {
     "data": {
      "application/vnd.jupyter.widget-view+json": {
       "model_id": "ef8abc58e9024fd48a2a85f40176ea59",
       "version_major": 2,
       "version_minor": 0
      },
      "text/plain": [
       "Processing 1970s:   0%|          | 0/5 [00:00<?, ?it/s]"
      ]
     },
     "metadata": {},
     "output_type": "display_data"
    },
    {
     "data": {
      "application/vnd.jupyter.widget-view+json": {
       "model_id": "9cfe208ec7d646f38834f19ed25cd450",
       "version_major": 2,
       "version_minor": 0
      },
      "text/plain": [
       "Processing 1980s:   0%|          | 0/5 [00:00<?, ?it/s]"
      ]
     },
     "metadata": {},
     "output_type": "display_data"
    },
    {
     "data": {
      "application/vnd.jupyter.widget-view+json": {
       "model_id": "cb90d2d5b2fe45df8645c7d569cd0530",
       "version_major": 2,
       "version_minor": 0
      },
      "text/plain": [
       "Processing 1990s:   0%|          | 0/5 [00:00<?, ?it/s]"
      ]
     },
     "metadata": {},
     "output_type": "display_data"
    },
    {
     "data": {
      "application/vnd.jupyter.widget-view+json": {
       "model_id": "f56251cbc47c4789bc20d90e8f364ab4",
       "version_major": 2,
       "version_minor": 0
      },
      "text/plain": [
       "Processing 2000s:   0%|          | 0/5 [00:00<?, ?it/s]"
      ]
     },
     "metadata": {},
     "output_type": "display_data"
    },
    {
     "data": {
      "application/vnd.jupyter.widget-view+json": {
       "model_id": "e3004dc1d66d4e82958221db9b3836e8",
       "version_major": 2,
       "version_minor": 0
      },
      "text/plain": [
       "Processing 2010s:   0%|          | 0/5 [00:00<?, ?it/s]"
      ]
     },
     "metadata": {},
     "output_type": "display_data"
    },
    {
     "data": {
      "application/vnd.jupyter.widget-view+json": {
       "model_id": "1018f3d9187143ebba825398db75e20e",
       "version_major": 2,
       "version_minor": 0
      },
      "text/plain": [
       "Processing 2020s:   0%|          | 0/5 [00:00<?, ?it/s]"
      ]
     },
     "metadata": {},
     "output_type": "display_data"
    },
    {
     "data": {
      "application/vnd.jupyter.widget-view+json": {
       "model_id": "a04bc232f55d43308b6c72d787be8e70",
       "version_major": 2,
       "version_minor": 0
      },
      "text/plain": [
       "Processing 2030s:   0%|          | 0/5 [00:00<?, ?it/s]"
      ]
     },
     "metadata": {},
     "output_type": "display_data"
    },
    {
     "data": {
      "application/vnd.jupyter.widget-view+json": {
       "model_id": "8228c92c46434b3a88210bae5e1d4daa",
       "version_major": 2,
       "version_minor": 0
      },
      "text/plain": [
       "Processing 2040s:   0%|          | 0/5 [00:00<?, ?it/s]"
      ]
     },
     "metadata": {},
     "output_type": "display_data"
    },
    {
     "data": {
      "application/vnd.jupyter.widget-view+json": {
       "model_id": "6918d5c728b24320b521500e2d244928",
       "version_major": 2,
       "version_minor": 0
      },
      "text/plain": [
       "Processing 2050s:   0%|          | 0/5 [00:00<?, ?it/s]"
      ]
     },
     "metadata": {},
     "output_type": "display_data"
    },
    {
     "data": {
      "application/vnd.jupyter.widget-view+json": {
       "model_id": "668dff06f0c044d8a573178041e5ea7e",
       "version_major": 2,
       "version_minor": 0
      },
      "text/plain": [
       "Processing 2060s:   0%|          | 0/5 [00:00<?, ?it/s]"
      ]
     },
     "metadata": {},
     "output_type": "display_data"
    },
    {
     "data": {
      "application/vnd.jupyter.widget-view+json": {
       "model_id": "b0167d418a804a86a689d0521613fa10",
       "version_major": 2,
       "version_minor": 0
      },
      "text/plain": [
       "Processing 2070s:   0%|          | 0/5 [00:00<?, ?it/s]"
      ]
     },
     "metadata": {},
     "output_type": "display_data"
    },
    {
     "data": {
      "application/vnd.jupyter.widget-view+json": {
       "model_id": "5ef99c5a9d1f47088fb7496fbfae3ea8",
       "version_major": 2,
       "version_minor": 0
      },
      "text/plain": [
       "Processing 2080s:   0%|          | 0/5 [00:00<?, ?it/s]"
      ]
     },
     "metadata": {},
     "output_type": "display_data"
    },
    {
     "data": {
      "application/vnd.jupyter.widget-view+json": {
       "model_id": "7e2a2b30b20142e4b52017ea6e165e1c",
       "version_major": 2,
       "version_minor": 0
      },
      "text/plain": [
       "Processing 2090s:   0%|          | 0/5 [00:00<?, ?it/s]"
      ]
     },
     "metadata": {},
     "output_type": "display_data"
    },
    {
     "data": {
      "application/vnd.jupyter.widget-view+json": {
       "model_id": "cf825253f0314905bfbe8b2be298fd64",
       "version_major": 2,
       "version_minor": 0
      },
      "text/plain": [
       "Processing GFDL-ESM2M rcp45 data...:   0%|          | 0/15 [00:00<?, ?it/s]"
      ]
     },
     "metadata": {},
     "output_type": "display_data"
    },
    {
     "data": {
      "application/vnd.jupyter.widget-view+json": {
       "model_id": "79a38e38586e43298a52f2a11fdfa4b3",
       "version_major": 2,
       "version_minor": 0
      },
      "text/plain": [
       "Processing 1950s:   0%|          | 0/5 [00:00<?, ?it/s]"
      ]
     },
     "metadata": {},
     "output_type": "display_data"
    },
    {
     "data": {
      "application/vnd.jupyter.widget-view+json": {
       "model_id": "a409c405f8e247afb9dbc86cad6be689",
       "version_major": 2,
       "version_minor": 0
      },
      "text/plain": [
       "Processing 1960s:   0%|          | 0/5 [00:00<?, ?it/s]"
      ]
     },
     "metadata": {},
     "output_type": "display_data"
    },
    {
     "data": {
      "application/vnd.jupyter.widget-view+json": {
       "model_id": "aa2bebd2879d4fa49bf9c18283a0a954",
       "version_major": 2,
       "version_minor": 0
      },
      "text/plain": [
       "Processing 1970s:   0%|          | 0/5 [00:00<?, ?it/s]"
      ]
     },
     "metadata": {},
     "output_type": "display_data"
    },
    {
     "data": {
      "application/vnd.jupyter.widget-view+json": {
       "model_id": "cc31797864dd4b13970e6cbe87490a64",
       "version_major": 2,
       "version_minor": 0
      },
      "text/plain": [
       "Processing 1980s:   0%|          | 0/5 [00:00<?, ?it/s]"
      ]
     },
     "metadata": {},
     "output_type": "display_data"
    },
    {
     "data": {
      "application/vnd.jupyter.widget-view+json": {
       "model_id": "8cf2d77860144399ba43dd5355f50fdf",
       "version_major": 2,
       "version_minor": 0
      },
      "text/plain": [
       "Processing 1990s:   0%|          | 0/5 [00:00<?, ?it/s]"
      ]
     },
     "metadata": {},
     "output_type": "display_data"
    },
    {
     "data": {
      "application/vnd.jupyter.widget-view+json": {
       "model_id": "bd57aa80b97f44e29d41c8fbf23cabfc",
       "version_major": 2,
       "version_minor": 0
      },
      "text/plain": [
       "Processing 2000s:   0%|          | 0/5 [00:00<?, ?it/s]"
      ]
     },
     "metadata": {},
     "output_type": "display_data"
    },
    {
     "data": {
      "application/vnd.jupyter.widget-view+json": {
       "model_id": "4769e662db20424592b102dfe03a80fd",
       "version_major": 2,
       "version_minor": 0
      },
      "text/plain": [
       "Processing 2010s:   0%|          | 0/5 [00:00<?, ?it/s]"
      ]
     },
     "metadata": {},
     "output_type": "display_data"
    },
    {
     "data": {
      "application/vnd.jupyter.widget-view+json": {
       "model_id": "5545600796eb420f9aeeb0e7b006665e",
       "version_major": 2,
       "version_minor": 0
      },
      "text/plain": [
       "Processing 2020s:   0%|          | 0/5 [00:00<?, ?it/s]"
      ]
     },
     "metadata": {},
     "output_type": "display_data"
    },
    {
     "data": {
      "application/vnd.jupyter.widget-view+json": {
       "model_id": "4b5c5392b2534e9797793a2ead75e08c",
       "version_major": 2,
       "version_minor": 0
      },
      "text/plain": [
       "Processing 2030s:   0%|          | 0/5 [00:00<?, ?it/s]"
      ]
     },
     "metadata": {},
     "output_type": "display_data"
    },
    {
     "data": {
      "application/vnd.jupyter.widget-view+json": {
       "model_id": "85a3983fe1b4414e9bed495caf152bfa",
       "version_major": 2,
       "version_minor": 0
      },
      "text/plain": [
       "Processing 2040s:   0%|          | 0/5 [00:00<?, ?it/s]"
      ]
     },
     "metadata": {},
     "output_type": "display_data"
    },
    {
     "data": {
      "application/vnd.jupyter.widget-view+json": {
       "model_id": "36edb18d352b482280328869dc18f03f",
       "version_major": 2,
       "version_minor": 0
      },
      "text/plain": [
       "Processing 2050s:   0%|          | 0/5 [00:00<?, ?it/s]"
      ]
     },
     "metadata": {},
     "output_type": "display_data"
    },
    {
     "data": {
      "application/vnd.jupyter.widget-view+json": {
       "model_id": "dbec130946dc469e8c4bb764aa232112",
       "version_major": 2,
       "version_minor": 0
      },
      "text/plain": [
       "Processing 2060s:   0%|          | 0/5 [00:00<?, ?it/s]"
      ]
     },
     "metadata": {},
     "output_type": "display_data"
    },
    {
     "data": {
      "application/vnd.jupyter.widget-view+json": {
       "model_id": "4c2166874e6e4c3d88486ee9a456be04",
       "version_major": 2,
       "version_minor": 0
      },
      "text/plain": [
       "Processing 2070s:   0%|          | 0/5 [00:00<?, ?it/s]"
      ]
     },
     "metadata": {},
     "output_type": "display_data"
    },
    {
     "data": {
      "application/vnd.jupyter.widget-view+json": {
       "model_id": "8c7f340f511a4edeac42e748b8d4a4d0",
       "version_major": 2,
       "version_minor": 0
      },
      "text/plain": [
       "Processing 2080s:   0%|          | 0/5 [00:00<?, ?it/s]"
      ]
     },
     "metadata": {},
     "output_type": "display_data"
    },
    {
     "data": {
      "application/vnd.jupyter.widget-view+json": {
       "model_id": "526ad33492bc4b77b2a506989f0ccfe3",
       "version_major": 2,
       "version_minor": 0
      },
      "text/plain": [
       "Processing 2090s:   0%|          | 0/5 [00:00<?, ?it/s]"
      ]
     },
     "metadata": {},
     "output_type": "display_data"
    },
    {
     "data": {
      "application/vnd.jupyter.widget-view+json": {
       "model_id": "cc79ea76d7604a9887ca726cc6b6d537",
       "version_major": 2,
       "version_minor": 0
      },
      "text/plain": [
       "Processing GFDL-ESM2M rcp85 data...:   0%|          | 0/15 [00:00<?, ?it/s]"
      ]
     },
     "metadata": {},
     "output_type": "display_data"
    },
    {
     "data": {
      "application/vnd.jupyter.widget-view+json": {
       "model_id": "dce3bfd608e24b6898284fbdff622b52",
       "version_major": 2,
       "version_minor": 0
      },
      "text/plain": [
       "Processing 1950s:   0%|          | 0/5 [00:00<?, ?it/s]"
      ]
     },
     "metadata": {},
     "output_type": "display_data"
    },
    {
     "data": {
      "application/vnd.jupyter.widget-view+json": {
       "model_id": "de182ce719f243188d5efedb68a474b7",
       "version_major": 2,
       "version_minor": 0
      },
      "text/plain": [
       "Processing 1960s:   0%|          | 0/5 [00:00<?, ?it/s]"
      ]
     },
     "metadata": {},
     "output_type": "display_data"
    },
    {
     "data": {
      "application/vnd.jupyter.widget-view+json": {
       "model_id": "7b1d2f04f5404fc390e9290a67878040",
       "version_major": 2,
       "version_minor": 0
      },
      "text/plain": [
       "Processing 1970s:   0%|          | 0/5 [00:00<?, ?it/s]"
      ]
     },
     "metadata": {},
     "output_type": "display_data"
    },
    {
     "data": {
      "application/vnd.jupyter.widget-view+json": {
       "model_id": "3187132d57234d5d908b255764798b9a",
       "version_major": 2,
       "version_minor": 0
      },
      "text/plain": [
       "Processing 1980s:   0%|          | 0/5 [00:00<?, ?it/s]"
      ]
     },
     "metadata": {},
     "output_type": "display_data"
    },
    {
     "data": {
      "application/vnd.jupyter.widget-view+json": {
       "model_id": "757619255b9946d09d8d88e094bc80d4",
       "version_major": 2,
       "version_minor": 0
      },
      "text/plain": [
       "Processing 1990s:   0%|          | 0/5 [00:00<?, ?it/s]"
      ]
     },
     "metadata": {},
     "output_type": "display_data"
    },
    {
     "data": {
      "application/vnd.jupyter.widget-view+json": {
       "model_id": "65148e1dc8424f9ca676c95764d2f6f2",
       "version_major": 2,
       "version_minor": 0
      },
      "text/plain": [
       "Processing 2000s:   0%|          | 0/5 [00:00<?, ?it/s]"
      ]
     },
     "metadata": {},
     "output_type": "display_data"
    },
    {
     "data": {
      "application/vnd.jupyter.widget-view+json": {
       "model_id": "8c2c1ad4346043758c3c20657abdbb09",
       "version_major": 2,
       "version_minor": 0
      },
      "text/plain": [
       "Processing 2010s:   0%|          | 0/5 [00:00<?, ?it/s]"
      ]
     },
     "metadata": {},
     "output_type": "display_data"
    },
    {
     "data": {
      "application/vnd.jupyter.widget-view+json": {
       "model_id": "27610d49636949e69c6ad587be1c37f1",
       "version_major": 2,
       "version_minor": 0
      },
      "text/plain": [
       "Processing 2020s:   0%|          | 0/5 [00:00<?, ?it/s]"
      ]
     },
     "metadata": {},
     "output_type": "display_data"
    },
    {
     "data": {
      "application/vnd.jupyter.widget-view+json": {
       "model_id": "f01adbb149cb47f1ae3ca925bb0cfe2b",
       "version_major": 2,
       "version_minor": 0
      },
      "text/plain": [
       "Processing 2030s:   0%|          | 0/5 [00:00<?, ?it/s]"
      ]
     },
     "metadata": {},
     "output_type": "display_data"
    },
    {
     "data": {
      "application/vnd.jupyter.widget-view+json": {
       "model_id": "a7047d2faf154faea05b0794d9bce624",
       "version_major": 2,
       "version_minor": 0
      },
      "text/plain": [
       "Processing 2040s:   0%|          | 0/5 [00:00<?, ?it/s]"
      ]
     },
     "metadata": {},
     "output_type": "display_data"
    },
    {
     "data": {
      "application/vnd.jupyter.widget-view+json": {
       "model_id": "ad0c6513c02d446e909c49487da30946",
       "version_major": 2,
       "version_minor": 0
      },
      "text/plain": [
       "Processing 2050s:   0%|          | 0/5 [00:00<?, ?it/s]"
      ]
     },
     "metadata": {},
     "output_type": "display_data"
    },
    {
     "data": {
      "application/vnd.jupyter.widget-view+json": {
       "model_id": "84c6236288824414b595ea50cf263042",
       "version_major": 2,
       "version_minor": 0
      },
      "text/plain": [
       "Processing 2060s:   0%|          | 0/5 [00:00<?, ?it/s]"
      ]
     },
     "metadata": {},
     "output_type": "display_data"
    },
    {
     "data": {
      "application/vnd.jupyter.widget-view+json": {
       "model_id": "5f047c15032f41b7b690805ed1a071b6",
       "version_major": 2,
       "version_minor": 0
      },
      "text/plain": [
       "Processing 2070s:   0%|          | 0/5 [00:00<?, ?it/s]"
      ]
     },
     "metadata": {},
     "output_type": "display_data"
    },
    {
     "data": {
      "application/vnd.jupyter.widget-view+json": {
       "model_id": "4235118eb33244948beb2a25b915c886",
       "version_major": 2,
       "version_minor": 0
      },
      "text/plain": [
       "Processing 2080s:   0%|          | 0/5 [00:00<?, ?it/s]"
      ]
     },
     "metadata": {},
     "output_type": "display_data"
    },
    {
     "data": {
      "application/vnd.jupyter.widget-view+json": {
       "model_id": "e19608e7e2c44fc09178c2d2524b1a24",
       "version_major": 2,
       "version_minor": 0
      },
      "text/plain": [
       "Processing 2090s:   0%|          | 0/5 [00:00<?, ?it/s]"
      ]
     },
     "metadata": {},
     "output_type": "display_data"
    },
    {
     "data": {
      "application/vnd.jupyter.widget-view+json": {
       "model_id": "1351d6b2131544da9b9c5efd0179fccc",
       "version_major": 2,
       "version_minor": 0
      },
      "text/plain": [
       "Processing HadGEM2-ES rcp45 data...:   0%|          | 0/15 [00:00<?, ?it/s]"
      ]
     },
     "metadata": {},
     "output_type": "display_data"
    },
    {
     "data": {
      "application/vnd.jupyter.widget-view+json": {
       "model_id": "3f9ce18502284a1c93b2d920cb68fadf",
       "version_major": 2,
       "version_minor": 0
      },
      "text/plain": [
       "Processing 1950s:   0%|          | 0/5 [00:00<?, ?it/s]"
      ]
     },
     "metadata": {},
     "output_type": "display_data"
    },
    {
     "data": {
      "application/vnd.jupyter.widget-view+json": {
       "model_id": "2e6abf638d404fc1a4c026c6b18be9c2",
       "version_major": 2,
       "version_minor": 0
      },
      "text/plain": [
       "Processing 1960s:   0%|          | 0/5 [00:00<?, ?it/s]"
      ]
     },
     "metadata": {},
     "output_type": "display_data"
    },
    {
     "data": {
      "application/vnd.jupyter.widget-view+json": {
       "model_id": "29390a3be22d4e479394abf0a3c6fe10",
       "version_major": 2,
       "version_minor": 0
      },
      "text/plain": [
       "Processing 1970s:   0%|          | 0/5 [00:00<?, ?it/s]"
      ]
     },
     "metadata": {},
     "output_type": "display_data"
    },
    {
     "data": {
      "application/vnd.jupyter.widget-view+json": {
       "model_id": "54108f84707a439185fd9ac2d80fc72d",
       "version_major": 2,
       "version_minor": 0
      },
      "text/plain": [
       "Processing 1980s:   0%|          | 0/5 [00:00<?, ?it/s]"
      ]
     },
     "metadata": {},
     "output_type": "display_data"
    },
    {
     "data": {
      "application/vnd.jupyter.widget-view+json": {
       "model_id": "56bb92155e1f4285b4eed2463fef6a32",
       "version_major": 2,
       "version_minor": 0
      },
      "text/plain": [
       "Processing 1990s:   0%|          | 0/5 [00:00<?, ?it/s]"
      ]
     },
     "metadata": {},
     "output_type": "display_data"
    },
    {
     "data": {
      "application/vnd.jupyter.widget-view+json": {
       "model_id": "04dc6df4da9f428ab379e66277160824",
       "version_major": 2,
       "version_minor": 0
      },
      "text/plain": [
       "Processing 2000s:   0%|          | 0/5 [00:00<?, ?it/s]"
      ]
     },
     "metadata": {},
     "output_type": "display_data"
    },
    {
     "data": {
      "application/vnd.jupyter.widget-view+json": {
       "model_id": "72b805e275e04441a946e0ccd01a8801",
       "version_major": 2,
       "version_minor": 0
      },
      "text/plain": [
       "Processing 2010s:   0%|          | 0/5 [00:00<?, ?it/s]"
      ]
     },
     "metadata": {},
     "output_type": "display_data"
    },
    {
     "data": {
      "application/vnd.jupyter.widget-view+json": {
       "model_id": "0f7ce6b23d9b44a5a0e491ed853990fc",
       "version_major": 2,
       "version_minor": 0
      },
      "text/plain": [
       "Processing 2020s:   0%|          | 0/5 [00:00<?, ?it/s]"
      ]
     },
     "metadata": {},
     "output_type": "display_data"
    },
    {
     "data": {
      "application/vnd.jupyter.widget-view+json": {
       "model_id": "1c15d51845ca4923aede8643332c9ece",
       "version_major": 2,
       "version_minor": 0
      },
      "text/plain": [
       "Processing 2030s:   0%|          | 0/5 [00:00<?, ?it/s]"
      ]
     },
     "metadata": {},
     "output_type": "display_data"
    },
    {
     "data": {
      "application/vnd.jupyter.widget-view+json": {
       "model_id": "a560ea54dfe34c6fab9b69097bb28c62",
       "version_major": 2,
       "version_minor": 0
      },
      "text/plain": [
       "Processing 2040s:   0%|          | 0/5 [00:00<?, ?it/s]"
      ]
     },
     "metadata": {},
     "output_type": "display_data"
    },
    {
     "data": {
      "application/vnd.jupyter.widget-view+json": {
       "model_id": "41e9ee9e715e4052ac2e77eefa8bde73",
       "version_major": 2,
       "version_minor": 0
      },
      "text/plain": [
       "Processing 2050s:   0%|          | 0/5 [00:00<?, ?it/s]"
      ]
     },
     "metadata": {},
     "output_type": "display_data"
    },
    {
     "data": {
      "application/vnd.jupyter.widget-view+json": {
       "model_id": "b05efb5c32624d2696ed0748f56eee2a",
       "version_major": 2,
       "version_minor": 0
      },
      "text/plain": [
       "Processing 2060s:   0%|          | 0/5 [00:00<?, ?it/s]"
      ]
     },
     "metadata": {},
     "output_type": "display_data"
    },
    {
     "data": {
      "application/vnd.jupyter.widget-view+json": {
       "model_id": "89ce4c64bbe948edafc28ceaf63a8166",
       "version_major": 2,
       "version_minor": 0
      },
      "text/plain": [
       "Processing 2070s:   0%|          | 0/5 [00:00<?, ?it/s]"
      ]
     },
     "metadata": {},
     "output_type": "display_data"
    },
    {
     "data": {
      "application/vnd.jupyter.widget-view+json": {
       "model_id": "638da4f09fe747a7b2ae746c2a6cecb4",
       "version_major": 2,
       "version_minor": 0
      },
      "text/plain": [
       "Processing 2080s:   0%|          | 0/5 [00:00<?, ?it/s]"
      ]
     },
     "metadata": {},
     "output_type": "display_data"
    },
    {
     "data": {
      "application/vnd.jupyter.widget-view+json": {
       "model_id": "15dd250a16524b65b9f7e4199321e646",
       "version_major": 2,
       "version_minor": 0
      },
      "text/plain": [
       "Processing 2090s:   0%|          | 0/5 [00:00<?, ?it/s]"
      ]
     },
     "metadata": {},
     "output_type": "display_data"
    },
    {
     "data": {
      "application/vnd.jupyter.widget-view+json": {
       "model_id": "03d30f1f84144824877847707e9b699a",
       "version_major": 2,
       "version_minor": 0
      },
      "text/plain": [
       "Processing HadGEM2-ES rcp85 data...:   0%|          | 0/15 [00:00<?, ?it/s]"
      ]
     },
     "metadata": {},
     "output_type": "display_data"
    },
    {
     "data": {
      "application/vnd.jupyter.widget-view+json": {
       "model_id": "38b5abf131d346dabda7d273bcccb4f2",
       "version_major": 2,
       "version_minor": 0
      },
      "text/plain": [
       "Processing 1950s:   0%|          | 0/5 [00:00<?, ?it/s]"
      ]
     },
     "metadata": {},
     "output_type": "display_data"
    },
    {
     "data": {
      "application/vnd.jupyter.widget-view+json": {
       "model_id": "388a839d023640c0a0eec14f5ad6d0b1",
       "version_major": 2,
       "version_minor": 0
      },
      "text/plain": [
       "Processing 1960s:   0%|          | 0/5 [00:00<?, ?it/s]"
      ]
     },
     "metadata": {},
     "output_type": "display_data"
    },
    {
     "data": {
      "application/vnd.jupyter.widget-view+json": {
       "model_id": "4d346f3d1b3d46d9833f40d7c2ba3c82",
       "version_major": 2,
       "version_minor": 0
      },
      "text/plain": [
       "Processing 1970s:   0%|          | 0/5 [00:00<?, ?it/s]"
      ]
     },
     "metadata": {},
     "output_type": "display_data"
    },
    {
     "data": {
      "application/vnd.jupyter.widget-view+json": {
       "model_id": "f51819bd8c694fcb84a1fb19ecc1b386",
       "version_major": 2,
       "version_minor": 0
      },
      "text/plain": [
       "Processing 1980s:   0%|          | 0/5 [00:00<?, ?it/s]"
      ]
     },
     "metadata": {},
     "output_type": "display_data"
    },
    {
     "data": {
      "application/vnd.jupyter.widget-view+json": {
       "model_id": "dd0724a801be46dd84e133eb0f0861fd",
       "version_major": 2,
       "version_minor": 0
      },
      "text/plain": [
       "Processing 1990s:   0%|          | 0/5 [00:00<?, ?it/s]"
      ]
     },
     "metadata": {},
     "output_type": "display_data"
    },
    {
     "data": {
      "application/vnd.jupyter.widget-view+json": {
       "model_id": "b07a6d96572b447d9f8b31f4d63540db",
       "version_major": 2,
       "version_minor": 0
      },
      "text/plain": [
       "Processing 2000s:   0%|          | 0/5 [00:00<?, ?it/s]"
      ]
     },
     "metadata": {},
     "output_type": "display_data"
    },
    {
     "data": {
      "application/vnd.jupyter.widget-view+json": {
       "model_id": "f804643d80694e3a9bacf67cae3a9094",
       "version_major": 2,
       "version_minor": 0
      },
      "text/plain": [
       "Processing 2010s:   0%|          | 0/5 [00:00<?, ?it/s]"
      ]
     },
     "metadata": {},
     "output_type": "display_data"
    },
    {
     "data": {
      "application/vnd.jupyter.widget-view+json": {
       "model_id": "449846eb692b4461bf30a67fb3f58344",
       "version_major": 2,
       "version_minor": 0
      },
      "text/plain": [
       "Processing 2020s:   0%|          | 0/5 [00:00<?, ?it/s]"
      ]
     },
     "metadata": {},
     "output_type": "display_data"
    },
    {
     "data": {
      "application/vnd.jupyter.widget-view+json": {
       "model_id": "b364d9464c6a4b27bdb9ab3dfe227c5f",
       "version_major": 2,
       "version_minor": 0
      },
      "text/plain": [
       "Processing 2030s:   0%|          | 0/5 [00:00<?, ?it/s]"
      ]
     },
     "metadata": {},
     "output_type": "display_data"
    },
    {
     "data": {
      "application/vnd.jupyter.widget-view+json": {
       "model_id": "3609ae1e5c954604af4ec30b9b66835d",
       "version_major": 2,
       "version_minor": 0
      },
      "text/plain": [
       "Processing 2040s:   0%|          | 0/5 [00:00<?, ?it/s]"
      ]
     },
     "metadata": {},
     "output_type": "display_data"
    },
    {
     "data": {
      "application/vnd.jupyter.widget-view+json": {
       "model_id": "2b0039deba6c46e2a63b174998d08729",
       "version_major": 2,
       "version_minor": 0
      },
      "text/plain": [
       "Processing 2050s:   0%|          | 0/5 [00:00<?, ?it/s]"
      ]
     },
     "metadata": {},
     "output_type": "display_data"
    },
    {
     "data": {
      "application/vnd.jupyter.widget-view+json": {
       "model_id": "b407b938018f4991a2706b36a6faad96",
       "version_major": 2,
       "version_minor": 0
      },
      "text/plain": [
       "Processing 2060s:   0%|          | 0/5 [00:00<?, ?it/s]"
      ]
     },
     "metadata": {},
     "output_type": "display_data"
    },
    {
     "data": {
      "application/vnd.jupyter.widget-view+json": {
       "model_id": "c1bcd2e6c19f44d8a84466752823c93c",
       "version_major": 2,
       "version_minor": 0
      },
      "text/plain": [
       "Processing 2070s:   0%|          | 0/5 [00:00<?, ?it/s]"
      ]
     },
     "metadata": {},
     "output_type": "display_data"
    },
    {
     "data": {
      "application/vnd.jupyter.widget-view+json": {
       "model_id": "ca179ce2de9d40349cc4081b670e6a5a",
       "version_major": 2,
       "version_minor": 0
      },
      "text/plain": [
       "Processing 2080s:   0%|          | 0/5 [00:00<?, ?it/s]"
      ]
     },
     "metadata": {},
     "output_type": "display_data"
    },
    {
     "data": {
      "application/vnd.jupyter.widget-view+json": {
       "model_id": "b55168b25547428b9753a3e1ae83b6be",
       "version_major": 2,
       "version_minor": 0
      },
      "text/plain": [
       "Processing 2090s:   0%|          | 0/5 [00:00<?, ?it/s]"
      ]
     },
     "metadata": {},
     "output_type": "display_data"
    },
    {
     "data": {
      "application/vnd.jupyter.widget-view+json": {
       "model_id": "076420c3715e4cd6b1ce2a6c72b637d5",
       "version_major": 2,
       "version_minor": 0
      },
      "text/plain": [
       "Processing inmcm4 rcp45 data...:   0%|          | 0/15 [00:00<?, ?it/s]"
      ]
     },
     "metadata": {},
     "output_type": "display_data"
    },
    {
     "data": {
      "application/vnd.jupyter.widget-view+json": {
       "model_id": "069de718a3c64fd588ec13834f58b919",
       "version_major": 2,
       "version_minor": 0
      },
      "text/plain": [
       "Processing 1950s:   0%|          | 0/5 [00:00<?, ?it/s]"
      ]
     },
     "metadata": {},
     "output_type": "display_data"
    },
    {
     "data": {
      "application/vnd.jupyter.widget-view+json": {
       "model_id": "76f334aae65443e1b21eddd2717ab715",
       "version_major": 2,
       "version_minor": 0
      },
      "text/plain": [
       "Processing 1960s:   0%|          | 0/5 [00:00<?, ?it/s]"
      ]
     },
     "metadata": {},
     "output_type": "display_data"
    },
    {
     "data": {
      "application/vnd.jupyter.widget-view+json": {
       "model_id": "e860ed20c4c04e239b933248fb30114e",
       "version_major": 2,
       "version_minor": 0
      },
      "text/plain": [
       "Processing 1970s:   0%|          | 0/5 [00:00<?, ?it/s]"
      ]
     },
     "metadata": {},
     "output_type": "display_data"
    },
    {
     "data": {
      "application/vnd.jupyter.widget-view+json": {
       "model_id": "c5b235ff2edd41e0b37cd922462354b8",
       "version_major": 2,
       "version_minor": 0
      },
      "text/plain": [
       "Processing 1980s:   0%|          | 0/5 [00:00<?, ?it/s]"
      ]
     },
     "metadata": {},
     "output_type": "display_data"
    },
    {
     "data": {
      "application/vnd.jupyter.widget-view+json": {
       "model_id": "b6c21972ea364b3ebf2434a4dd38a13a",
       "version_major": 2,
       "version_minor": 0
      },
      "text/plain": [
       "Processing 1990s:   0%|          | 0/5 [00:00<?, ?it/s]"
      ]
     },
     "metadata": {},
     "output_type": "display_data"
    },
    {
     "data": {
      "application/vnd.jupyter.widget-view+json": {
       "model_id": "3d59a455b11c49d4b036a73d7c8f5786",
       "version_major": 2,
       "version_minor": 0
      },
      "text/plain": [
       "Processing 2000s:   0%|          | 0/5 [00:00<?, ?it/s]"
      ]
     },
     "metadata": {},
     "output_type": "display_data"
    },
    {
     "data": {
      "application/vnd.jupyter.widget-view+json": {
       "model_id": "4ff581f7d49946379b25e49371a90c0d",
       "version_major": 2,
       "version_minor": 0
      },
      "text/plain": [
       "Processing 2010s:   0%|          | 0/5 [00:00<?, ?it/s]"
      ]
     },
     "metadata": {},
     "output_type": "display_data"
    },
    {
     "data": {
      "application/vnd.jupyter.widget-view+json": {
       "model_id": "0d26a1d24cbd435da1dc54ec62ff1700",
       "version_major": 2,
       "version_minor": 0
      },
      "text/plain": [
       "Processing 2020s:   0%|          | 0/5 [00:00<?, ?it/s]"
      ]
     },
     "metadata": {},
     "output_type": "display_data"
    },
    {
     "data": {
      "application/vnd.jupyter.widget-view+json": {
       "model_id": "cd0976103731462db59ee737a81f51ef",
       "version_major": 2,
       "version_minor": 0
      },
      "text/plain": [
       "Processing 2030s:   0%|          | 0/5 [00:00<?, ?it/s]"
      ]
     },
     "metadata": {},
     "output_type": "display_data"
    },
    {
     "data": {
      "application/vnd.jupyter.widget-view+json": {
       "model_id": "92ef943874b740589f32fd3019b83587",
       "version_major": 2,
       "version_minor": 0
      },
      "text/plain": [
       "Processing 2040s:   0%|          | 0/5 [00:00<?, ?it/s]"
      ]
     },
     "metadata": {},
     "output_type": "display_data"
    },
    {
     "data": {
      "application/vnd.jupyter.widget-view+json": {
       "model_id": "95f7143ecf1b4b75bac1f6c83418458a",
       "version_major": 2,
       "version_minor": 0
      },
      "text/plain": [
       "Processing 2050s:   0%|          | 0/5 [00:00<?, ?it/s]"
      ]
     },
     "metadata": {},
     "output_type": "display_data"
    },
    {
     "data": {
      "application/vnd.jupyter.widget-view+json": {
       "model_id": "7862cf84a30849208c6df39643913fb8",
       "version_major": 2,
       "version_minor": 0
      },
      "text/plain": [
       "Processing 2060s:   0%|          | 0/5 [00:00<?, ?it/s]"
      ]
     },
     "metadata": {},
     "output_type": "display_data"
    },
    {
     "data": {
      "application/vnd.jupyter.widget-view+json": {
       "model_id": "07ae32f633f943339e971c3c17d9b389",
       "version_major": 2,
       "version_minor": 0
      },
      "text/plain": [
       "Processing 2070s:   0%|          | 0/5 [00:00<?, ?it/s]"
      ]
     },
     "metadata": {},
     "output_type": "display_data"
    },
    {
     "data": {
      "application/vnd.jupyter.widget-view+json": {
       "model_id": "cb2cfc6ecc7145f3b0f3ed2b7c519f62",
       "version_major": 2,
       "version_minor": 0
      },
      "text/plain": [
       "Processing 2080s:   0%|          | 0/5 [00:00<?, ?it/s]"
      ]
     },
     "metadata": {},
     "output_type": "display_data"
    },
    {
     "data": {
      "application/vnd.jupyter.widget-view+json": {
       "model_id": "ed5d6e3a077f442a943a59e7c1ef0989",
       "version_major": 2,
       "version_minor": 0
      },
      "text/plain": [
       "Processing 2090s:   0%|          | 0/5 [00:00<?, ?it/s]"
      ]
     },
     "metadata": {},
     "output_type": "display_data"
    },
    {
     "data": {
      "application/vnd.jupyter.widget-view+json": {
       "model_id": "79c89b179e7340058ca1c437398b257f",
       "version_major": 2,
       "version_minor": 0
      },
      "text/plain": [
       "Processing inmcm4 rcp85 data...:   0%|          | 0/15 [00:00<?, ?it/s]"
      ]
     },
     "metadata": {},
     "output_type": "display_data"
    },
    {
     "data": {
      "application/vnd.jupyter.widget-view+json": {
       "model_id": "172c8f5fa6ef484e97cb7a7efe6b2321",
       "version_major": 2,
       "version_minor": 0
      },
      "text/plain": [
       "Processing 1950s:   0%|          | 0/5 [00:00<?, ?it/s]"
      ]
     },
     "metadata": {},
     "output_type": "display_data"
    },
    {
     "data": {
      "application/vnd.jupyter.widget-view+json": {
       "model_id": "43f892371a764e70a115d4e8c78b056b",
       "version_major": 2,
       "version_minor": 0
      },
      "text/plain": [
       "Processing 1960s:   0%|          | 0/5 [00:00<?, ?it/s]"
      ]
     },
     "metadata": {},
     "output_type": "display_data"
    },
    {
     "data": {
      "application/vnd.jupyter.widget-view+json": {
       "model_id": "cb4f575ecd704de6a39762c2f836068d",
       "version_major": 2,
       "version_minor": 0
      },
      "text/plain": [
       "Processing 1970s:   0%|          | 0/5 [00:00<?, ?it/s]"
      ]
     },
     "metadata": {},
     "output_type": "display_data"
    },
    {
     "data": {
      "application/vnd.jupyter.widget-view+json": {
       "model_id": "bde130b5453a437f839e3d3b296d3ca0",
       "version_major": 2,
       "version_minor": 0
      },
      "text/plain": [
       "Processing 1980s:   0%|          | 0/5 [00:00<?, ?it/s]"
      ]
     },
     "metadata": {},
     "output_type": "display_data"
    },
    {
     "data": {
      "application/vnd.jupyter.widget-view+json": {
       "model_id": "a05c8a3d010d46bcbee4aa32e5fa66f3",
       "version_major": 2,
       "version_minor": 0
      },
      "text/plain": [
       "Processing 1990s:   0%|          | 0/5 [00:00<?, ?it/s]"
      ]
     },
     "metadata": {},
     "output_type": "display_data"
    },
    {
     "data": {
      "application/vnd.jupyter.widget-view+json": {
       "model_id": "0030608531e44ba6a8a6548bfb517233",
       "version_major": 2,
       "version_minor": 0
      },
      "text/plain": [
       "Processing 2000s:   0%|          | 0/5 [00:00<?, ?it/s]"
      ]
     },
     "metadata": {},
     "output_type": "display_data"
    },
    {
     "data": {
      "application/vnd.jupyter.widget-view+json": {
       "model_id": "9ae35c9ce9f040a69ec1b8201c4aa907",
       "version_major": 2,
       "version_minor": 0
      },
      "text/plain": [
       "Processing 2010s:   0%|          | 0/5 [00:00<?, ?it/s]"
      ]
     },
     "metadata": {},
     "output_type": "display_data"
    },
    {
     "data": {
      "application/vnd.jupyter.widget-view+json": {
       "model_id": "a6c9e57468ed4d0bb97c176202fa8fb6",
       "version_major": 2,
       "version_minor": 0
      },
      "text/plain": [
       "Processing 2020s:   0%|          | 0/5 [00:00<?, ?it/s]"
      ]
     },
     "metadata": {},
     "output_type": "display_data"
    },
    {
     "data": {
      "application/vnd.jupyter.widget-view+json": {
       "model_id": "ea61abdf29a6482d852863395f9c7e27",
       "version_major": 2,
       "version_minor": 0
      },
      "text/plain": [
       "Processing 2030s:   0%|          | 0/5 [00:00<?, ?it/s]"
      ]
     },
     "metadata": {},
     "output_type": "display_data"
    },
    {
     "data": {
      "application/vnd.jupyter.widget-view+json": {
       "model_id": "46c52477390b46c0b58ec210d3ccc24e",
       "version_major": 2,
       "version_minor": 0
      },
      "text/plain": [
       "Processing 2040s:   0%|          | 0/5 [00:00<?, ?it/s]"
      ]
     },
     "metadata": {},
     "output_type": "display_data"
    },
    {
     "data": {
      "application/vnd.jupyter.widget-view+json": {
       "model_id": "68beab7996524d508ae7d3bc4399666b",
       "version_major": 2,
       "version_minor": 0
      },
      "text/plain": [
       "Processing 2050s:   0%|          | 0/5 [00:00<?, ?it/s]"
      ]
     },
     "metadata": {},
     "output_type": "display_data"
    },
    {
     "data": {
      "application/vnd.jupyter.widget-view+json": {
       "model_id": "5df7dcfcba674972a3bd8a85f7199f8d",
       "version_major": 2,
       "version_minor": 0
      },
      "text/plain": [
       "Processing 2060s:   0%|          | 0/5 [00:00<?, ?it/s]"
      ]
     },
     "metadata": {},
     "output_type": "display_data"
    },
    {
     "data": {
      "application/vnd.jupyter.widget-view+json": {
       "model_id": "096e29c27d5c49f98f1199f94173d3b9",
       "version_major": 2,
       "version_minor": 0
      },
      "text/plain": [
       "Processing 2070s:   0%|          | 0/5 [00:00<?, ?it/s]"
      ]
     },
     "metadata": {},
     "output_type": "display_data"
    },
    {
     "data": {
      "application/vnd.jupyter.widget-view+json": {
       "model_id": "6e67f2175a724efea7d75855420c47b1",
       "version_major": 2,
       "version_minor": 0
      },
      "text/plain": [
       "Processing 2080s:   0%|          | 0/5 [00:00<?, ?it/s]"
      ]
     },
     "metadata": {},
     "output_type": "display_data"
    },
    {
     "data": {
      "application/vnd.jupyter.widget-view+json": {
       "model_id": "16eb30fa262741b4bbebc0ca487ac0d3",
       "version_major": 2,
       "version_minor": 0
      },
      "text/plain": [
       "Processing 2090s:   0%|          | 0/5 [00:00<?, ?it/s]"
      ]
     },
     "metadata": {},
     "output_type": "display_data"
    },
    {
     "data": {
      "application/vnd.jupyter.widget-view+json": {
       "model_id": "4b32155168b34211be33a11143d58242",
       "version_major": 2,
       "version_minor": 0
      },
      "text/plain": [
       "Processing MIROC5 rcp45 data...:   0%|          | 0/15 [00:00<?, ?it/s]"
      ]
     },
     "metadata": {},
     "output_type": "display_data"
    },
    {
     "data": {
      "application/vnd.jupyter.widget-view+json": {
       "model_id": "e69b4acf3a674ac5a824968eec40e6a3",
       "version_major": 2,
       "version_minor": 0
      },
      "text/plain": [
       "Processing 1950s:   0%|          | 0/5 [00:00<?, ?it/s]"
      ]
     },
     "metadata": {},
     "output_type": "display_data"
    },
    {
     "data": {
      "application/vnd.jupyter.widget-view+json": {
       "model_id": "6634f4c185a549a187f4bf49ac5766b7",
       "version_major": 2,
       "version_minor": 0
      },
      "text/plain": [
       "Processing 1960s:   0%|          | 0/5 [00:00<?, ?it/s]"
      ]
     },
     "metadata": {},
     "output_type": "display_data"
    },
    {
     "data": {
      "application/vnd.jupyter.widget-view+json": {
       "model_id": "4ca4c5f5a7ec4d4d8a4a49c64703bb01",
       "version_major": 2,
       "version_minor": 0
      },
      "text/plain": [
       "Processing 1970s:   0%|          | 0/5 [00:00<?, ?it/s]"
      ]
     },
     "metadata": {},
     "output_type": "display_data"
    },
    {
     "data": {
      "application/vnd.jupyter.widget-view+json": {
       "model_id": "938ab51e2f0147ab9d083d5aedaee089",
       "version_major": 2,
       "version_minor": 0
      },
      "text/plain": [
       "Processing 1980s:   0%|          | 0/5 [00:00<?, ?it/s]"
      ]
     },
     "metadata": {},
     "output_type": "display_data"
    },
    {
     "data": {
      "application/vnd.jupyter.widget-view+json": {
       "model_id": "1106f871594544fa9ebe2f82f62f5c40",
       "version_major": 2,
       "version_minor": 0
      },
      "text/plain": [
       "Processing 1990s:   0%|          | 0/5 [00:00<?, ?it/s]"
      ]
     },
     "metadata": {},
     "output_type": "display_data"
    },
    {
     "data": {
      "application/vnd.jupyter.widget-view+json": {
       "model_id": "84462d54cbe141c3a1e0097d7ddf04d6",
       "version_major": 2,
       "version_minor": 0
      },
      "text/plain": [
       "Processing 2000s:   0%|          | 0/5 [00:00<?, ?it/s]"
      ]
     },
     "metadata": {},
     "output_type": "display_data"
    },
    {
     "data": {
      "application/vnd.jupyter.widget-view+json": {
       "model_id": "005612139ef8456b9d8dc0e9bfd49c0c",
       "version_major": 2,
       "version_minor": 0
      },
      "text/plain": [
       "Processing 2010s:   0%|          | 0/5 [00:00<?, ?it/s]"
      ]
     },
     "metadata": {},
     "output_type": "display_data"
    },
    {
     "data": {
      "application/vnd.jupyter.widget-view+json": {
       "model_id": "01ca3074fd6b498a91503a123ce88c9f",
       "version_major": 2,
       "version_minor": 0
      },
      "text/plain": [
       "Processing 2020s:   0%|          | 0/5 [00:00<?, ?it/s]"
      ]
     },
     "metadata": {},
     "output_type": "display_data"
    },
    {
     "data": {
      "application/vnd.jupyter.widget-view+json": {
       "model_id": "4636356f6023410ba6f9b8341d92ebfa",
       "version_major": 2,
       "version_minor": 0
      },
      "text/plain": [
       "Processing 2030s:   0%|          | 0/5 [00:00<?, ?it/s]"
      ]
     },
     "metadata": {},
     "output_type": "display_data"
    },
    {
     "data": {
      "application/vnd.jupyter.widget-view+json": {
       "model_id": "7c0f7b889c734eb78b2423fbcf2f10a5",
       "version_major": 2,
       "version_minor": 0
      },
      "text/plain": [
       "Processing 2040s:   0%|          | 0/5 [00:00<?, ?it/s]"
      ]
     },
     "metadata": {},
     "output_type": "display_data"
    },
    {
     "data": {
      "application/vnd.jupyter.widget-view+json": {
       "model_id": "c7945ff12d9a4ba8925e4210e3f00426",
       "version_major": 2,
       "version_minor": 0
      },
      "text/plain": [
       "Processing 2050s:   0%|          | 0/5 [00:00<?, ?it/s]"
      ]
     },
     "metadata": {},
     "output_type": "display_data"
    },
    {
     "data": {
      "application/vnd.jupyter.widget-view+json": {
       "model_id": "a1d38d8a32794b6782e756945666b1a6",
       "version_major": 2,
       "version_minor": 0
      },
      "text/plain": [
       "Processing 2060s:   0%|          | 0/5 [00:00<?, ?it/s]"
      ]
     },
     "metadata": {},
     "output_type": "display_data"
    },
    {
     "data": {
      "application/vnd.jupyter.widget-view+json": {
       "model_id": "1f259f960a954b8691b1bd1974c9003d",
       "version_major": 2,
       "version_minor": 0
      },
      "text/plain": [
       "Processing 2070s:   0%|          | 0/5 [00:00<?, ?it/s]"
      ]
     },
     "metadata": {},
     "output_type": "display_data"
    },
    {
     "data": {
      "application/vnd.jupyter.widget-view+json": {
       "model_id": "129293fa9a904504875378e791bd6423",
       "version_major": 2,
       "version_minor": 0
      },
      "text/plain": [
       "Processing 2080s:   0%|          | 0/5 [00:00<?, ?it/s]"
      ]
     },
     "metadata": {},
     "output_type": "display_data"
    },
    {
     "data": {
      "application/vnd.jupyter.widget-view+json": {
       "model_id": "7c16dc7f38c446e2ac46367f52088bc2",
       "version_major": 2,
       "version_minor": 0
      },
      "text/plain": [
       "Processing 2090s:   0%|          | 0/5 [00:00<?, ?it/s]"
      ]
     },
     "metadata": {},
     "output_type": "display_data"
    },
    {
     "data": {
      "application/vnd.jupyter.widget-view+json": {
       "model_id": "6e4d20a9370b41bf94c6ed3cf606e13d",
       "version_major": 2,
       "version_minor": 0
      },
      "text/plain": [
       "Processing MIROC5 rcp85 data...:   0%|          | 0/15 [00:00<?, ?it/s]"
      ]
     },
     "metadata": {},
     "output_type": "display_data"
    },
    {
     "data": {
      "application/vnd.jupyter.widget-view+json": {
       "model_id": "6f293086fdb241e79f51489f71b1efea",
       "version_major": 2,
       "version_minor": 0
      },
      "text/plain": [
       "Processing 1950s:   0%|          | 0/5 [00:00<?, ?it/s]"
      ]
     },
     "metadata": {},
     "output_type": "display_data"
    },
    {
     "data": {
      "application/vnd.jupyter.widget-view+json": {
       "model_id": "35885ad5cdc54790b742b59f67af02e0",
       "version_major": 2,
       "version_minor": 0
      },
      "text/plain": [
       "Processing 1960s:   0%|          | 0/5 [00:00<?, ?it/s]"
      ]
     },
     "metadata": {},
     "output_type": "display_data"
    },
    {
     "data": {
      "application/vnd.jupyter.widget-view+json": {
       "model_id": "5e0a5e628ace4a6782d591eb5409cba1",
       "version_major": 2,
       "version_minor": 0
      },
      "text/plain": [
       "Processing 1970s:   0%|          | 0/5 [00:00<?, ?it/s]"
      ]
     },
     "metadata": {},
     "output_type": "display_data"
    },
    {
     "data": {
      "application/vnd.jupyter.widget-view+json": {
       "model_id": "da7a5a0ecd24412e8905e9fe25e7353d",
       "version_major": 2,
       "version_minor": 0
      },
      "text/plain": [
       "Processing 1980s:   0%|          | 0/5 [00:00<?, ?it/s]"
      ]
     },
     "metadata": {},
     "output_type": "display_data"
    },
    {
     "data": {
      "application/vnd.jupyter.widget-view+json": {
       "model_id": "90143baba40f442db4489b80762292ee",
       "version_major": 2,
       "version_minor": 0
      },
      "text/plain": [
       "Processing 1990s:   0%|          | 0/5 [00:00<?, ?it/s]"
      ]
     },
     "metadata": {},
     "output_type": "display_data"
    },
    {
     "data": {
      "application/vnd.jupyter.widget-view+json": {
       "model_id": "cd3cd186a4a74dc9a03b946e6cdaa1ae",
       "version_major": 2,
       "version_minor": 0
      },
      "text/plain": [
       "Processing 2000s:   0%|          | 0/5 [00:00<?, ?it/s]"
      ]
     },
     "metadata": {},
     "output_type": "display_data"
    },
    {
     "data": {
      "application/vnd.jupyter.widget-view+json": {
       "model_id": "10ede14c5b804b63b51d10d456cd69a8",
       "version_major": 2,
       "version_minor": 0
      },
      "text/plain": [
       "Processing 2010s:   0%|          | 0/5 [00:00<?, ?it/s]"
      ]
     },
     "metadata": {},
     "output_type": "display_data"
    },
    {
     "data": {
      "application/vnd.jupyter.widget-view+json": {
       "model_id": "d14fd9407b7e45c28f41a7346eaa3cbd",
       "version_major": 2,
       "version_minor": 0
      },
      "text/plain": [
       "Processing 2020s:   0%|          | 0/5 [00:00<?, ?it/s]"
      ]
     },
     "metadata": {},
     "output_type": "display_data"
    },
    {
     "data": {
      "application/vnd.jupyter.widget-view+json": {
       "model_id": "6578e414ea5f4259933b3cdbc70ab4a1",
       "version_major": 2,
       "version_minor": 0
      },
      "text/plain": [
       "Processing 2030s:   0%|          | 0/5 [00:00<?, ?it/s]"
      ]
     },
     "metadata": {},
     "output_type": "display_data"
    },
    {
     "data": {
      "application/vnd.jupyter.widget-view+json": {
       "model_id": "39d37470e036409d9d94feb7ef834bd0",
       "version_major": 2,
       "version_minor": 0
      },
      "text/plain": [
       "Processing 2040s:   0%|          | 0/5 [00:00<?, ?it/s]"
      ]
     },
     "metadata": {},
     "output_type": "display_data"
    },
    {
     "data": {
      "application/vnd.jupyter.widget-view+json": {
       "model_id": "bd63e763a4cb423f895c1ffa6f700a58",
       "version_major": 2,
       "version_minor": 0
      },
      "text/plain": [
       "Processing 2050s:   0%|          | 0/5 [00:00<?, ?it/s]"
      ]
     },
     "metadata": {},
     "output_type": "display_data"
    },
    {
     "data": {
      "application/vnd.jupyter.widget-view+json": {
       "model_id": "c3c5cb5536b84058a808e48316c94750",
       "version_major": 2,
       "version_minor": 0
      },
      "text/plain": [
       "Processing 2060s:   0%|          | 0/5 [00:00<?, ?it/s]"
      ]
     },
     "metadata": {},
     "output_type": "display_data"
    },
    {
     "data": {
      "application/vnd.jupyter.widget-view+json": {
       "model_id": "4288a30c3322487889699290347d0d5f",
       "version_major": 2,
       "version_minor": 0
      },
      "text/plain": [
       "Processing 2070s:   0%|          | 0/5 [00:00<?, ?it/s]"
      ]
     },
     "metadata": {},
     "output_type": "display_data"
    },
    {
     "data": {
      "application/vnd.jupyter.widget-view+json": {
       "model_id": "d8c090f4ab53423bbd42832284780c72",
       "version_major": 2,
       "version_minor": 0
      },
      "text/plain": [
       "Processing 2080s:   0%|          | 0/5 [00:00<?, ?it/s]"
      ]
     },
     "metadata": {},
     "output_type": "display_data"
    },
    {
     "data": {
      "application/vnd.jupyter.widget-view+json": {
       "model_id": "ed670d586e4d413e8311a3a6cedb84f7",
       "version_major": 2,
       "version_minor": 0
      },
      "text/plain": [
       "Processing 2090s:   0%|          | 0/5 [00:00<?, ?it/s]"
      ]
     },
     "metadata": {},
     "output_type": "display_data"
    },
    {
     "data": {
      "application/vnd.jupyter.widget-view+json": {
       "model_id": "bc566b78c4fe435b84bf31a5983ef7f7",
       "version_major": 2,
       "version_minor": 0
      },
      "text/plain": [
       "Processing MPI-ESM-MR rcp45 data...:   0%|          | 0/15 [00:00<?, ?it/s]"
      ]
     },
     "metadata": {},
     "output_type": "display_data"
    },
    {
     "data": {
      "application/vnd.jupyter.widget-view+json": {
       "model_id": "760e8ff0288143b89c040c3ea86c9f75",
       "version_major": 2,
       "version_minor": 0
      },
      "text/plain": [
       "Processing 1950s:   0%|          | 0/5 [00:00<?, ?it/s]"
      ]
     },
     "metadata": {},
     "output_type": "display_data"
    },
    {
     "data": {
      "application/vnd.jupyter.widget-view+json": {
       "model_id": "b81aba8d7a6d49f1a2613cf8a18eec24",
       "version_major": 2,
       "version_minor": 0
      },
      "text/plain": [
       "Processing 1960s:   0%|          | 0/5 [00:00<?, ?it/s]"
      ]
     },
     "metadata": {},
     "output_type": "display_data"
    },
    {
     "data": {
      "application/vnd.jupyter.widget-view+json": {
       "model_id": "36b712740636423dafbabca10425fc53",
       "version_major": 2,
       "version_minor": 0
      },
      "text/plain": [
       "Processing 1970s:   0%|          | 0/5 [00:00<?, ?it/s]"
      ]
     },
     "metadata": {},
     "output_type": "display_data"
    },
    {
     "data": {
      "application/vnd.jupyter.widget-view+json": {
       "model_id": "78a585a3cb294c8b97bee6e6ec239d44",
       "version_major": 2,
       "version_minor": 0
      },
      "text/plain": [
       "Processing 1980s:   0%|          | 0/5 [00:00<?, ?it/s]"
      ]
     },
     "metadata": {},
     "output_type": "display_data"
    },
    {
     "data": {
      "application/vnd.jupyter.widget-view+json": {
       "model_id": "1fe6b5c9ba054d21a1946fc116e8517c",
       "version_major": 2,
       "version_minor": 0
      },
      "text/plain": [
       "Processing 1990s:   0%|          | 0/5 [00:00<?, ?it/s]"
      ]
     },
     "metadata": {},
     "output_type": "display_data"
    },
    {
     "data": {
      "application/vnd.jupyter.widget-view+json": {
       "model_id": "84dc379102e14d2a9b151caaadbe51aa",
       "version_major": 2,
       "version_minor": 0
      },
      "text/plain": [
       "Processing 2000s:   0%|          | 0/5 [00:00<?, ?it/s]"
      ]
     },
     "metadata": {},
     "output_type": "display_data"
    },
    {
     "data": {
      "application/vnd.jupyter.widget-view+json": {
       "model_id": "48faf3d692274900a7d636d30656f155",
       "version_major": 2,
       "version_minor": 0
      },
      "text/plain": [
       "Processing 2010s:   0%|          | 0/5 [00:00<?, ?it/s]"
      ]
     },
     "metadata": {},
     "output_type": "display_data"
    },
    {
     "data": {
      "application/vnd.jupyter.widget-view+json": {
       "model_id": "e32b9f0fff0d4dc295afb9fa47d136fa",
       "version_major": 2,
       "version_minor": 0
      },
      "text/plain": [
       "Processing 2020s:   0%|          | 0/5 [00:00<?, ?it/s]"
      ]
     },
     "metadata": {},
     "output_type": "display_data"
    },
    {
     "data": {
      "application/vnd.jupyter.widget-view+json": {
       "model_id": "433b21994f3944a699e210d6f06590a1",
       "version_major": 2,
       "version_minor": 0
      },
      "text/plain": [
       "Processing 2030s:   0%|          | 0/5 [00:00<?, ?it/s]"
      ]
     },
     "metadata": {},
     "output_type": "display_data"
    },
    {
     "data": {
      "application/vnd.jupyter.widget-view+json": {
       "model_id": "12bb2979a0854de1bd658239ada5ddca",
       "version_major": 2,
       "version_minor": 0
      },
      "text/plain": [
       "Processing 2040s:   0%|          | 0/5 [00:00<?, ?it/s]"
      ]
     },
     "metadata": {},
     "output_type": "display_data"
    },
    {
     "data": {
      "application/vnd.jupyter.widget-view+json": {
       "model_id": "ffaec934c51a4d12bc4f5967afbae21b",
       "version_major": 2,
       "version_minor": 0
      },
      "text/plain": [
       "Processing 2050s:   0%|          | 0/5 [00:00<?, ?it/s]"
      ]
     },
     "metadata": {},
     "output_type": "display_data"
    },
    {
     "data": {
      "application/vnd.jupyter.widget-view+json": {
       "model_id": "5ce59386fadc454e870fc1d2927e2751",
       "version_major": 2,
       "version_minor": 0
      },
      "text/plain": [
       "Processing 2060s:   0%|          | 0/5 [00:00<?, ?it/s]"
      ]
     },
     "metadata": {},
     "output_type": "display_data"
    },
    {
     "data": {
      "application/vnd.jupyter.widget-view+json": {
       "model_id": "a555d4e698f84f08a650568e56b6537e",
       "version_major": 2,
       "version_minor": 0
      },
      "text/plain": [
       "Processing 2070s:   0%|          | 0/5 [00:00<?, ?it/s]"
      ]
     },
     "metadata": {},
     "output_type": "display_data"
    },
    {
     "data": {
      "application/vnd.jupyter.widget-view+json": {
       "model_id": "aea9a52f76e14e26a62e31e4d1d43efd",
       "version_major": 2,
       "version_minor": 0
      },
      "text/plain": [
       "Processing 2080s:   0%|          | 0/5 [00:00<?, ?it/s]"
      ]
     },
     "metadata": {},
     "output_type": "display_data"
    },
    {
     "data": {
      "application/vnd.jupyter.widget-view+json": {
       "model_id": "e47f06b7e74542d9b7a4a4b4d56809da",
       "version_major": 2,
       "version_minor": 0
      },
      "text/plain": [
       "Processing 2090s:   0%|          | 0/5 [00:00<?, ?it/s]"
      ]
     },
     "metadata": {},
     "output_type": "display_data"
    },
    {
     "data": {
      "application/vnd.jupyter.widget-view+json": {
       "model_id": "0ce7a256d04c4e658464f0c24a3b0a3f",
       "version_major": 2,
       "version_minor": 0
      },
      "text/plain": [
       "Processing MPI-ESM-MR rcp85 data...:   0%|          | 0/15 [00:00<?, ?it/s]"
      ]
     },
     "metadata": {},
     "output_type": "display_data"
    },
    {
     "data": {
      "application/vnd.jupyter.widget-view+json": {
       "model_id": "af3f942264f04bf685732f55d2dc379f",
       "version_major": 2,
       "version_minor": 0
      },
      "text/plain": [
       "Processing 1950s:   0%|          | 0/5 [00:00<?, ?it/s]"
      ]
     },
     "metadata": {},
     "output_type": "display_data"
    },
    {
     "data": {
      "application/vnd.jupyter.widget-view+json": {
       "model_id": "ee784771294847c482c4383eebfb1d6e",
       "version_major": 2,
       "version_minor": 0
      },
      "text/plain": [
       "Processing 1960s:   0%|          | 0/5 [00:00<?, ?it/s]"
      ]
     },
     "metadata": {},
     "output_type": "display_data"
    },
    {
     "data": {
      "application/vnd.jupyter.widget-view+json": {
       "model_id": "bc5c2ca766a24583a1ccef42c0d05566",
       "version_major": 2,
       "version_minor": 0
      },
      "text/plain": [
       "Processing 1970s:   0%|          | 0/5 [00:00<?, ?it/s]"
      ]
     },
     "metadata": {},
     "output_type": "display_data"
    },
    {
     "data": {
      "application/vnd.jupyter.widget-view+json": {
       "model_id": "1ad589bf599f46588f2d745ef2d7a5b3",
       "version_major": 2,
       "version_minor": 0
      },
      "text/plain": [
       "Processing 1980s:   0%|          | 0/5 [00:00<?, ?it/s]"
      ]
     },
     "metadata": {},
     "output_type": "display_data"
    },
    {
     "data": {
      "application/vnd.jupyter.widget-view+json": {
       "model_id": "3d6b31e2f5a94ea7a1101de5d1456ed5",
       "version_major": 2,
       "version_minor": 0
      },
      "text/plain": [
       "Processing 1990s:   0%|          | 0/5 [00:00<?, ?it/s]"
      ]
     },
     "metadata": {},
     "output_type": "display_data"
    },
    {
     "data": {
      "application/vnd.jupyter.widget-view+json": {
       "model_id": "51102e8abc5c4ef7a9e509c96b117ffe",
       "version_major": 2,
       "version_minor": 0
      },
      "text/plain": [
       "Processing 2000s:   0%|          | 0/5 [00:00<?, ?it/s]"
      ]
     },
     "metadata": {},
     "output_type": "display_data"
    },
    {
     "data": {
      "application/vnd.jupyter.widget-view+json": {
       "model_id": "1bf6f2ac7aaf48fa883dbc31d50b2430",
       "version_major": 2,
       "version_minor": 0
      },
      "text/plain": [
       "Processing 2010s:   0%|          | 0/5 [00:00<?, ?it/s]"
      ]
     },
     "metadata": {},
     "output_type": "display_data"
    },
    {
     "data": {
      "application/vnd.jupyter.widget-view+json": {
       "model_id": "6bfd2e8e08e040c4a49b3eeaf32663f7",
       "version_major": 2,
       "version_minor": 0
      },
      "text/plain": [
       "Processing 2020s:   0%|          | 0/5 [00:00<?, ?it/s]"
      ]
     },
     "metadata": {},
     "output_type": "display_data"
    },
    {
     "data": {
      "application/vnd.jupyter.widget-view+json": {
       "model_id": "13b46cf94bb944ed8daa4c8d6b49c745",
       "version_major": 2,
       "version_minor": 0
      },
      "text/plain": [
       "Processing 2030s:   0%|          | 0/5 [00:00<?, ?it/s]"
      ]
     },
     "metadata": {},
     "output_type": "display_data"
    },
    {
     "data": {
      "application/vnd.jupyter.widget-view+json": {
       "model_id": "b39b34b696ca48a5bdf79ac8fc67bb98",
       "version_major": 2,
       "version_minor": 0
      },
      "text/plain": [
       "Processing 2040s:   0%|          | 0/5 [00:00<?, ?it/s]"
      ]
     },
     "metadata": {},
     "output_type": "display_data"
    },
    {
     "data": {
      "application/vnd.jupyter.widget-view+json": {
       "model_id": "47e0a5b2fa704bf9b92abb0575880228",
       "version_major": 2,
       "version_minor": 0
      },
      "text/plain": [
       "Processing 2050s:   0%|          | 0/5 [00:00<?, ?it/s]"
      ]
     },
     "metadata": {},
     "output_type": "display_data"
    },
    {
     "data": {
      "application/vnd.jupyter.widget-view+json": {
       "model_id": "c9541d1f17a242089f3d799488d14080",
       "version_major": 2,
       "version_minor": 0
      },
      "text/plain": [
       "Processing 2060s:   0%|          | 0/5 [00:00<?, ?it/s]"
      ]
     },
     "metadata": {},
     "output_type": "display_data"
    },
    {
     "data": {
      "application/vnd.jupyter.widget-view+json": {
       "model_id": "27a502456ba14d23b49205d9e30fde51",
       "version_major": 2,
       "version_minor": 0
      },
      "text/plain": [
       "Processing 2070s:   0%|          | 0/5 [00:00<?, ?it/s]"
      ]
     },
     "metadata": {},
     "output_type": "display_data"
    },
    {
     "data": {
      "application/vnd.jupyter.widget-view+json": {
       "model_id": "4ed6d76ff7dd491bbe07bef1bd41b9bf",
       "version_major": 2,
       "version_minor": 0
      },
      "text/plain": [
       "Processing 2080s:   0%|          | 0/5 [00:00<?, ?it/s]"
      ]
     },
     "metadata": {},
     "output_type": "display_data"
    },
    {
     "data": {
      "application/vnd.jupyter.widget-view+json": {
       "model_id": "f273eb3065da456cbb438d2769048808",
       "version_major": 2,
       "version_minor": 0
      },
      "text/plain": [
       "Processing 2090s:   0%|          | 0/5 [00:00<?, ?it/s]"
      ]
     },
     "metadata": {},
     "output_type": "display_data"
    },
    {
     "data": {
      "application/vnd.jupyter.widget-view+json": {
       "model_id": "66f7816c7d784431a95f146518753dcf",
       "version_major": 2,
       "version_minor": 0
      },
      "text/plain": [
       "Processing MRI-CGCM3 rcp45 data...:   0%|          | 0/15 [00:00<?, ?it/s]"
      ]
     },
     "metadata": {},
     "output_type": "display_data"
    },
    {
     "data": {
      "application/vnd.jupyter.widget-view+json": {
       "model_id": "1e796b0b27604a58b7e27038c7ef5b60",
       "version_major": 2,
       "version_minor": 0
      },
      "text/plain": [
       "Processing 1950s:   0%|          | 0/5 [00:00<?, ?it/s]"
      ]
     },
     "metadata": {},
     "output_type": "display_data"
    },
    {
     "data": {
      "application/vnd.jupyter.widget-view+json": {
       "model_id": "5bb201807480456697f83497052ec7e2",
       "version_major": 2,
       "version_minor": 0
      },
      "text/plain": [
       "Processing 1960s:   0%|          | 0/5 [00:00<?, ?it/s]"
      ]
     },
     "metadata": {},
     "output_type": "display_data"
    },
    {
     "data": {
      "application/vnd.jupyter.widget-view+json": {
       "model_id": "a6d195f5d5f341ffa79ef0e2f3ecab32",
       "version_major": 2,
       "version_minor": 0
      },
      "text/plain": [
       "Processing 1970s:   0%|          | 0/5 [00:00<?, ?it/s]"
      ]
     },
     "metadata": {},
     "output_type": "display_data"
    },
    {
     "data": {
      "application/vnd.jupyter.widget-view+json": {
       "model_id": "206867a8531e4114b59ccf2431240edf",
       "version_major": 2,
       "version_minor": 0
      },
      "text/plain": [
       "Processing 1980s:   0%|          | 0/5 [00:00<?, ?it/s]"
      ]
     },
     "metadata": {},
     "output_type": "display_data"
    },
    {
     "data": {
      "application/vnd.jupyter.widget-view+json": {
       "model_id": "1d48a1cfa10f48a6abde04c4e5033677",
       "version_major": 2,
       "version_minor": 0
      },
      "text/plain": [
       "Processing 1990s:   0%|          | 0/5 [00:00<?, ?it/s]"
      ]
     },
     "metadata": {},
     "output_type": "display_data"
    },
    {
     "data": {
      "application/vnd.jupyter.widget-view+json": {
       "model_id": "7f2fed2fae2d4ba0a470a727de31d4da",
       "version_major": 2,
       "version_minor": 0
      },
      "text/plain": [
       "Processing 2000s:   0%|          | 0/5 [00:00<?, ?it/s]"
      ]
     },
     "metadata": {},
     "output_type": "display_data"
    },
    {
     "data": {
      "application/vnd.jupyter.widget-view+json": {
       "model_id": "cb209742b7474841ba8de18edb1bb280",
       "version_major": 2,
       "version_minor": 0
      },
      "text/plain": [
       "Processing 2010s:   0%|          | 0/5 [00:00<?, ?it/s]"
      ]
     },
     "metadata": {},
     "output_type": "display_data"
    },
    {
     "data": {
      "application/vnd.jupyter.widget-view+json": {
       "model_id": "9a293674e93542258f388d86c2fd63cd",
       "version_major": 2,
       "version_minor": 0
      },
      "text/plain": [
       "Processing 2020s:   0%|          | 0/5 [00:00<?, ?it/s]"
      ]
     },
     "metadata": {},
     "output_type": "display_data"
    },
    {
     "data": {
      "application/vnd.jupyter.widget-view+json": {
       "model_id": "1c59753bc206433daa2f93015ff0bc1c",
       "version_major": 2,
       "version_minor": 0
      },
      "text/plain": [
       "Processing 2030s:   0%|          | 0/5 [00:00<?, ?it/s]"
      ]
     },
     "metadata": {},
     "output_type": "display_data"
    },
    {
     "data": {
      "application/vnd.jupyter.widget-view+json": {
       "model_id": "34bac39c803c40d39c29f708e224944a",
       "version_major": 2,
       "version_minor": 0
      },
      "text/plain": [
       "Processing 2040s:   0%|          | 0/5 [00:00<?, ?it/s]"
      ]
     },
     "metadata": {},
     "output_type": "display_data"
    },
    {
     "data": {
      "application/vnd.jupyter.widget-view+json": {
       "model_id": "27055d89f4c747a6afd78e1edab7c741",
       "version_major": 2,
       "version_minor": 0
      },
      "text/plain": [
       "Processing 2050s:   0%|          | 0/5 [00:00<?, ?it/s]"
      ]
     },
     "metadata": {},
     "output_type": "display_data"
    },
    {
     "data": {
      "application/vnd.jupyter.widget-view+json": {
       "model_id": "dfbac10231724047810a8b5ed0d73a2d",
       "version_major": 2,
       "version_minor": 0
      },
      "text/plain": [
       "Processing 2060s:   0%|          | 0/5 [00:00<?, ?it/s]"
      ]
     },
     "metadata": {},
     "output_type": "display_data"
    },
    {
     "data": {
      "application/vnd.jupyter.widget-view+json": {
       "model_id": "39ed8fff03404c3aa5804e795535f30e",
       "version_major": 2,
       "version_minor": 0
      },
      "text/plain": [
       "Processing 2070s:   0%|          | 0/5 [00:00<?, ?it/s]"
      ]
     },
     "metadata": {},
     "output_type": "display_data"
    },
    {
     "data": {
      "application/vnd.jupyter.widget-view+json": {
       "model_id": "36d2eee8b0ad48a2adc4d1c98dfd4ea1",
       "version_major": 2,
       "version_minor": 0
      },
      "text/plain": [
       "Processing 2080s:   0%|          | 0/5 [00:00<?, ?it/s]"
      ]
     },
     "metadata": {},
     "output_type": "display_data"
    },
    {
     "data": {
      "application/vnd.jupyter.widget-view+json": {
       "model_id": "d14aed1ac9eb49ae8c0c19b29d8a2aa9",
       "version_major": 2,
       "version_minor": 0
      },
      "text/plain": [
       "Processing 2090s:   0%|          | 0/5 [00:00<?, ?it/s]"
      ]
     },
     "metadata": {},
     "output_type": "display_data"
    },
    {
     "data": {
      "application/vnd.jupyter.widget-view+json": {
       "model_id": "003d8d9884ab409db96176e8a857a79e",
       "version_major": 2,
       "version_minor": 0
      },
      "text/plain": [
       "Processing MRI-CGCM3 rcp85 data...:   0%|          | 0/15 [00:00<?, ?it/s]"
      ]
     },
     "metadata": {},
     "output_type": "display_data"
    },
    {
     "data": {
      "application/vnd.jupyter.widget-view+json": {
       "model_id": "89f98327991f46dba2d9487bf45f7b4b",
       "version_major": 2,
       "version_minor": 0
      },
      "text/plain": [
       "Processing 1950s:   0%|          | 0/5 [00:00<?, ?it/s]"
      ]
     },
     "metadata": {},
     "output_type": "display_data"
    },
    {
     "data": {
      "application/vnd.jupyter.widget-view+json": {
       "model_id": "97ccf0d459ce4342b293466affcecd6a",
       "version_major": 2,
       "version_minor": 0
      },
      "text/plain": [
       "Processing 1960s:   0%|          | 0/5 [00:00<?, ?it/s]"
      ]
     },
     "metadata": {},
     "output_type": "display_data"
    },
    {
     "data": {
      "application/vnd.jupyter.widget-view+json": {
       "model_id": "84c6b50c5df444ea9b53bced319886f5",
       "version_major": 2,
       "version_minor": 0
      },
      "text/plain": [
       "Processing 1970s:   0%|          | 0/5 [00:00<?, ?it/s]"
      ]
     },
     "metadata": {},
     "output_type": "display_data"
    },
    {
     "data": {
      "application/vnd.jupyter.widget-view+json": {
       "model_id": "7e6e2f6b4ef1430ab4985da685f61c95",
       "version_major": 2,
       "version_minor": 0
      },
      "text/plain": [
       "Processing 1980s:   0%|          | 0/5 [00:00<?, ?it/s]"
      ]
     },
     "metadata": {},
     "output_type": "display_data"
    },
    {
     "data": {
      "application/vnd.jupyter.widget-view+json": {
       "model_id": "3d3b0ec166e84689be64ac136c8c35bd",
       "version_major": 2,
       "version_minor": 0
      },
      "text/plain": [
       "Processing 1990s:   0%|          | 0/5 [00:00<?, ?it/s]"
      ]
     },
     "metadata": {},
     "output_type": "display_data"
    },
    {
     "data": {
      "application/vnd.jupyter.widget-view+json": {
       "model_id": "2993f601a3074918a29a86c341ab450f",
       "version_major": 2,
       "version_minor": 0
      },
      "text/plain": [
       "Processing 2000s:   0%|          | 0/5 [00:00<?, ?it/s]"
      ]
     },
     "metadata": {},
     "output_type": "display_data"
    },
    {
     "data": {
      "application/vnd.jupyter.widget-view+json": {
       "model_id": "214cbcb630024a289649e088d25cf7cd",
       "version_major": 2,
       "version_minor": 0
      },
      "text/plain": [
       "Processing 2010s:   0%|          | 0/5 [00:00<?, ?it/s]"
      ]
     },
     "metadata": {},
     "output_type": "display_data"
    },
    {
     "data": {
      "application/vnd.jupyter.widget-view+json": {
       "model_id": "1ba8e95f5a6941ea923091fa0494ea62",
       "version_major": 2,
       "version_minor": 0
      },
      "text/plain": [
       "Processing 2020s:   0%|          | 0/5 [00:00<?, ?it/s]"
      ]
     },
     "metadata": {},
     "output_type": "display_data"
    },
    {
     "data": {
      "application/vnd.jupyter.widget-view+json": {
       "model_id": "c8c432e5405e4ef9bd718783ed8f0852",
       "version_major": 2,
       "version_minor": 0
      },
      "text/plain": [
       "Processing 2030s:   0%|          | 0/5 [00:00<?, ?it/s]"
      ]
     },
     "metadata": {},
     "output_type": "display_data"
    },
    {
     "data": {
      "application/vnd.jupyter.widget-view+json": {
       "model_id": "7a54651061d74cccb7d1e23b0f291004",
       "version_major": 2,
       "version_minor": 0
      },
      "text/plain": [
       "Processing 2040s:   0%|          | 0/5 [00:00<?, ?it/s]"
      ]
     },
     "metadata": {},
     "output_type": "display_data"
    },
    {
     "data": {
      "application/vnd.jupyter.widget-view+json": {
       "model_id": "4a0f1594e480495187e9cbc2e1fcca18",
       "version_major": 2,
       "version_minor": 0
      },
      "text/plain": [
       "Processing 2050s:   0%|          | 0/5 [00:00<?, ?it/s]"
      ]
     },
     "metadata": {},
     "output_type": "display_data"
    },
    {
     "data": {
      "application/vnd.jupyter.widget-view+json": {
       "model_id": "bdcc6bec45044e9e80e622807cf9cb3b",
       "version_major": 2,
       "version_minor": 0
      },
      "text/plain": [
       "Processing 2060s:   0%|          | 0/5 [00:00<?, ?it/s]"
      ]
     },
     "metadata": {},
     "output_type": "display_data"
    },
    {
     "data": {
      "application/vnd.jupyter.widget-view+json": {
       "model_id": "8d945c3a5a67456fa6dbbe49c37bf22c",
       "version_major": 2,
       "version_minor": 0
      },
      "text/plain": [
       "Processing 2070s:   0%|          | 0/5 [00:00<?, ?it/s]"
      ]
     },
     "metadata": {},
     "output_type": "display_data"
    },
    {
     "data": {
      "application/vnd.jupyter.widget-view+json": {
       "model_id": "6e7f0f5d66674ef5b2d9885e37121a4f",
       "version_major": 2,
       "version_minor": 0
      },
      "text/plain": [
       "Processing 2080s:   0%|          | 0/5 [00:00<?, ?it/s]"
      ]
     },
     "metadata": {},
     "output_type": "display_data"
    },
    {
     "data": {
      "application/vnd.jupyter.widget-view+json": {
       "model_id": "30c1fd9816b348daba68699e90156c24",
       "version_major": 2,
       "version_minor": 0
      },
      "text/plain": [
       "Processing 2090s:   0%|          | 0/5 [00:00<?, ?it/s]"
      ]
     },
     "metadata": {},
     "output_type": "display_data"
    },
    {
     "name": "stdout",
     "output_type": "stream",
     "text": [
      "CPU times: user 2h 33min 48s, sys: 21min 45s, total: 2h 55min 34s\n",
      "Wall time: 2h 3min 9s\n"
     ]
    }
   ],
   "source": [
    "%%time\n",
    "\n",
    "for model in models:\n",
    "    for scenario in scenarios:\n",
    "        ncube = mfload_all_netcdf_data(process_group_di[model][scenario])\n",
    "        projcube, wrf_raster_profile = project_datacube(ncube)\n",
    "\n",
    "        # change to source start and stop from config, so users could run \"just historical\" or something like that\n",
    "        # also change increment for 20 year summaries, climos, etc.\n",
    "\n",
    "        for decade_start in tqdm(range(1950, 2100, 10), desc=f\"Processing {model} {scenario} data...\"):\n",
    "            decade_slice = slice_by_decade(projcube, decade_start)\n",
    "            \n",
    "            for climvar in tqdm(variable_di[\"ws\"].keys(), desc=f\"Processing {decade_start}s\"):\n",
    "                decadal_means_of_monthly_summaries = compute_monthly_summaries(decade_slice, climvar)\n",
    "                \n",
    "                for month in months:\n",
    "                    month_array = array_from_monthly_summary(decadal_means_of_monthly_summaries, climvar, month)\n",
    "                    output_filename = make_output_filename(climvar, model, scenario, month, decade_start)\n",
    "                    write_raster_to_disk(output_filename, wrf_raster_profile, month_array)\n",
    "\n",
    "            projcube.close()"
   ]
  },
  {
   "cell_type": "code",
   "execution_count": null,
   "id": "493e1384-3a84-4d51-8724-64921b4d34e7",
   "metadata": {},
   "outputs": [],
   "source": [
    "# see tbec repo for setting env vars for the input and output dirs\n",
    "# pipeline seems to be working, add loop to roll through model and scenarios\n",
    "# add notebook to reproject to 3338\n",
    "# contact NCAR about the missing data for the met files, and the extreme precip blob"
   ]
  },
  {
   "cell_type": "code",
   "execution_count": null,
   "id": "60d6e9f4-f0a0-4e5e-88d1-42487b0fa708",
   "metadata": {},
   "outputs": [],
   "source": []
  }
 ],
 "metadata": {
  "kernelspec": {
   "display_name": "Python 3 (ipykernel)",
   "language": "python",
   "name": "python3"
  },
  "language_info": {
   "codemirror_mode": {
    "name": "ipython",
    "version": 3
   },
   "file_extension": ".py",
   "mimetype": "text/x-python",
   "name": "python",
   "nbconvert_exporter": "python",
   "pygments_lexer": "ipython3",
   "version": "3.9.15"
  }
 },
 "nbformat": 4,
 "nbformat_minor": 5
}
