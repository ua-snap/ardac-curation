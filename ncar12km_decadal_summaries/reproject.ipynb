{
 "cells": [
  {
   "cell_type": "markdown",
   "id": "f0556183-0547-4fb8-b3bd-da7252f5ae96",
   "metadata": {},
   "source": [
    "# Reprojecting to EPSG 3338\n",
    "\n",
    "The purpose of this notebook is reproject output GeoTIFFs to EPSG:3338 - and the reason this is split out into a separate notebook is because different resampling techniques could have a significant impact on how variables like air temperature or snow melt for example, would represent variation in elevation where intra-grid and inter-grid cell elevation variance is high.\n",
    "\n",
    "Typically when resampling we use the nearest neighbor method - this is computationally cheap and nearest neighbor is the typical default for most libraries and programs that we use. The temperature value assigned to each output cell will be the same as the temperature value at the center of the corresponding input cell. Nearest neighbor can be a conservative choice because there will be no values in the resampled dataset that do not exist in the source dataset - which is important if you are dealing with measurements. But most of our data are not measurements, so are we tied to nearest neighbor?\n",
    "\n",
    "Bilinear or cubic resampling will use the temperature values of the neighboring input cells and basically compute some kind of weighted value based on the distance between each input cell and the center of the output cell. This means that the output raster might better capture the temperature variation associated with changes in elevation within and around each input grid cell. However that kind of resampling can introduce smoothing and interpolation artifacts.\n",
    "\n",
    "Consider some experimentation with `gdalwarp`. There are some interesting differences in the variable values for locations like Juneau, where there are drastic changes in elevation over short distances.\n",
    "\n",
    "### Juneau (12 km resolution) CCSM4 RCP 8.5: 2080-2090 Average May total snow melt (mm)\n",
    " - Nearest Neighbor: 0 mm\n",
    " - Median: 0 mm\n",
    " - Mean: 190 mm\n",
    " - Bilinear: 193 mm\n",
    " - Cubic: 229 mm\n",
    " \n",
    "Another point to consider is that summarizing data by HUC-12s, rather than discrete points, is one way to buffer against the impact of the elevation assigned by the source model to a specific grid cell.\n",
    "\n",
    "However, unless we hear otherwise from the downscaling group, or perhaps Jeremy L., the the move is to stick with nearest neighbor.\n",
    "\n",
    "Right now we have files named things like `runoff_mm_inmcm4_rcp85_aug_total_2060-2070_mean.tif` - let's reproject these to EPSG 3338 and append 3338 on the end of the filename.\n",
    "\n",
    "The current snapshot of the `gdalinfo` command looks like this example:\n",
    "\n",
    "```sh\n",
    "Driver: GTiff/GeoTIFF\n",
    "Files: glacier_melt_mm_CSIRO-Mk3-6-0_rcp45_jun_total_2040-2050_mean.tif\n",
    "Size is 299, 209\n",
    "Coordinate System is:\n",
    "PROJCS[\"unknown\",\n",
    "    GEOGCS[\"unknown\",\n",
    "        DATUM[\"unknown\",\n",
    "            SPHEROID[\"unknown\",6370000,0]],\n",
    "        PRIMEM[\"Greenwich\",0],\n",
    "        UNIT[\"degree\",0.0174532925199433]],\n",
    "    PROJECTION[\"Polar_Stereographic\"],\n",
    "    PARAMETER[\"latitude_of_origin\",64],\n",
    "    PARAMETER[\"central_meridian\",-150],\n",
    "    PARAMETER[\"scale_factor\",1],\n",
    "    PARAMETER[\"false_easting\",0],\n",
    "    PARAMETER[\"false_northing\",0],\n",
    "    UNIT[\"metre\",1,\n",
    "        AUTHORITY[\"EPSG\",\"9001\"]]]\n",
    "Origin = (-1794000.000000000000000,-1538424.205046423245221)\n",
    "Pixel Size = (12000.000000000000000,-12000.000000000000000)\n",
    "Metadata:\n",
    "  AREA_OR_POINT=Area\n",
    "Image Structure Metadata:\n",
    "  COMPRESSION=LZW\n",
    "  INTERLEAVE=BAND\n",
    "Corner Coordinates:\n",
    "Upper Left  (-1794000.000,-1538424.205) (160d36'51.70\"E, 67d53'18.86\"N)\n",
    "Lower Left  (-1794000.000,-4046424.205) (173d54'37.13\"W, 49d47'59.23\"N)\n",
    "Upper Right ( 1794000.000,-1538424.205) (100d36'51.70\"W, 67d53'18.86\"N)\n",
    "Lower Right ( 1794000.000,-4046424.205) (126d 5'22.87\"W, 49d47'59.23\"N)\n",
    "Center      (       0.000,-2792424.205) (150d 0' 0.00\"W, 64d 0' 0.00\"N)\n",
    "Band 1 Block=299x6 Type=Float32, ColorInterp=Gray\n",
    "  NoData Value=-9999\n",
    "```"
   ]
  },
  {
   "cell_type": "markdown",
   "id": "cca54d06-87c3-45c2-bd21-4a85cbfd3302",
   "metadata": {},
   "source": [
    "This GDAL incantation will reproject all the GEOTIFFS in a folder:\n",
    "\n",
    "```sh\n",
    "find . -name \"*.tif\" -exec gdalwarp -t_srs EPSG:3338 -tap -tr 12000 12000 -multi -wo NUM_THREADS=32 {} ./wf_geotiffs_3338/{} \\;\n",
    "```"
   ]
  },
  {
   "cell_type": "code",
   "execution_count": null,
   "id": "c8d6a6d4-1a41-4c40-85de-3972b391f398",
   "metadata": {},
   "outputs": [],
   "source": [
    "from pathlib import Path\n",
    "import os\n",
    "\n",
    "OUTPUT_DIR = Path(os.getenv(\"OUTPUT_DIR\"))\n",
    "paths = list(OUTPUT_DIR.glob(\"*.tif\"))\n",
    "assert len(paths) == 14400"
   ]
  },
  {
   "cell_type": "code",
   "execution_count": null,
   "id": "f2c82339-908a-40f4-8d63-62574b9aff13",
   "metadata": {},
   "outputs": [],
   "source": [
    "import dask\n",
    "import dask.distributed as dd\n",
    "import rasterio\n",
    "from rasterio.warp import calculate_default_transform, reproject, Resampling\n",
    "from rasterio.transform import from_origin\n",
    "\n",
    "# Create a Dask client"
   ]
  },
  {
   "cell_type": "code",
   "execution_count": null,
   "id": "6cf6b9ac-8c42-43da-9dcf-2a7fbebc2f54",
   "metadata": {},
   "outputs": [],
   "source": [
    "client = dd.Client()\n"
   ]
  },
  {
   "cell_type": "code",
   "execution_count": null,
   "id": "7f79a894-af3f-44ba-a752-dd0403c6e93c",
   "metadata": {},
   "outputs": [],
   "source": [
    "\n",
    "\n",
    "# Define the function to reproject a single raster file\n",
    "def reproject_raster(file):\n",
    "    # Open the input raster\n",
    "    with rasterio.open(file) as src:\n",
    "        # Define the output CRS and transform\n",
    "        dst_crs = 'EPSG:3338'\n",
    "        transform, width, height = calculate_default_transform(src.crs, dst_crs, src.width, src.height, *src.bounds)\n",
    "\n",
    "        # Define the output file name\n",
    "        out_file = OUTPUT_DIR / \"cog\" / file.name\n",
    "\n",
    "        # Define the output raster profile\n",
    "        out_profile = src.profile.copy()\n",
    "        out_profile.update({\n",
    "            'crs': dst_crs,\n",
    "            'transform': transform,\n",
    "            'width': width,\n",
    "            'height': height,\n",
    "            'compress': 'deflate',\n",
    "            'predictor': 2,\n",
    "            'tiled': True,\n",
    "            'blockxsize': 512,\n",
    "            'blockysize': 512\n",
    "        })\n",
    "\n",
    "        # Create the output raster\n",
    "        with rasterio.open(out_file, 'w', **out_profile) as dst:\n",
    "            # Reproject the input raster to the output CRS\n",
    "            reproject(\n",
    "                source=rasterio.band(src, 1),\n",
    "                destination=rasterio.band(dst, 1),\n",
    "                src_transform=src.transform,\n",
    "                src_crs=src.crs,\n",
    "                dst_transform=transform,\n",
    "                dst_crs=dst_crs,\n",
    "                num_threads=1 # Set to 1 to avoid issues with Dask\n",
    "            )\n",
    "\n"
   ]
  },
  {
   "cell_type": "code",
   "execution_count": null,
   "id": "23ae868f-9ef4-416c-b789-7b536d24d12a",
   "metadata": {},
   "outputs": [],
   "source": [
    "\n",
    "# Use Dask to parallelize the processing of the input raster files\n",
    "dask.compute(*[dask.delayed(reproject_raster)(f) for f in paths])\n"
   ]
  },
  {
   "cell_type": "code",
   "execution_count": null,
   "id": "c3dd9803-9868-4e97-a269-86b1f06aa47e",
   "metadata": {},
   "outputs": [],
   "source": []
  }
 ],
 "metadata": {
  "kernelspec": {
   "display_name": "Python 3 (ipykernel)",
   "language": "python",
   "name": "python3"
  },
  "language_info": {
   "codemirror_mode": {
    "name": "ipython",
    "version": 3
   },
   "file_extension": ".py",
   "mimetype": "text/x-python",
   "name": "python",
   "nbconvert_exporter": "python",
   "pygments_lexer": "ipython3",
   "version": "3.9.15"
  }
 },
 "nbformat": 4,
 "nbformat_minor": 5
}
