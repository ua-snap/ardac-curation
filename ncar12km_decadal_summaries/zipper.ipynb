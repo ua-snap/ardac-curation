{
 "cells": [
  {
   "cell_type": "markdown",
   "id": "47404174-9ef5-4fa9-abef-7a311bfa06d2",
   "metadata": {},
   "source": [
    "# Zip It\n",
    "The sole purpose of this notebook is to zip up the geotiffs on a per-variable basis. Zipping with Python is slow in my experience, so we'll just let the Python config handle the source and destination directories, and spawn the subprocess call to the `zipit.sh` script. See that script for details."
   ]
  },
  {
   "cell_type": "code",
   "execution_count": 1,
   "id": "7406e3f6-2bfe-46fc-8930-4ef651f4b502",
   "metadata": {},
   "outputs": [],
   "source": [
    "import subprocess\n",
    "from config import reprojected_dir, zip_dir"
   ]
  },
  {
   "cell_type": "code",
   "execution_count": 2,
   "id": "7949e420-a11d-4259-b477-cdab65d72d81",
   "metadata": {},
   "outputs": [
    {
     "data": {
      "text/plain": [
       "PosixPath('/atlas_scratch/cparr4/AK_NCAR_12km_decadal_means_of_monthly_summaries/reprojected_geotiffs')"
      ]
     },
     "execution_count": 2,
     "metadata": {},
     "output_type": "execute_result"
    }
   ],
   "source": [
    "reprojected_dir"
   ]
  },
  {
   "cell_type": "code",
   "execution_count": 3,
   "id": "005c846e-1ced-48b6-b0e3-e8d881431323",
   "metadata": {},
   "outputs": [
    {
     "data": {
      "text/plain": [
       "PosixPath('/atlas_scratch/cparr4/AK_NCAR_12km_decadal_means_of_monthly_summaries/zipped')"
      ]
     },
     "execution_count": 3,
     "metadata": {},
     "output_type": "execute_result"
    }
   ],
   "source": [
    "zip_dir"
   ]
  },
  {
   "cell_type": "code",
   "execution_count": 4,
   "id": "614b253d-11b9-4bb0-a26c-3d1fe8b7930a",
   "metadata": {},
   "outputs": [],
   "source": [
    "command = f\"bash ./zipit.sh {reprojected_dir} {zip_dir}\"\n",
    "\n",
    "output = subprocess.check_output(command, shell=True)"
   ]
  },
  {
   "cell_type": "code",
   "execution_count": 5,
   "id": "3d2d71be-5b62-40d1-beba-043705826087",
   "metadata": {},
   "outputs": [
    {
     "data": {
      "text/plain": [
       "[PosixPath('/atlas_scratch/cparr4/AK_NCAR_12km_decadal_means_of_monthly_summaries/zipped/glacier_melt.zip'),\n",
       " PosixPath('/atlas_scratch/cparr4/AK_NCAR_12km_decadal_means_of_monthly_summaries/zipped/runoff.zip'),\n",
       " PosixPath('/atlas_scratch/cparr4/AK_NCAR_12km_decadal_means_of_monthly_summaries/zipped/tmin.zip'),\n",
       " PosixPath('/atlas_scratch/cparr4/AK_NCAR_12km_decadal_means_of_monthly_summaries/zipped/tmax.zip'),\n",
       " PosixPath('/atlas_scratch/cparr4/AK_NCAR_12km_decadal_means_of_monthly_summaries/zipped/sm1.zip'),\n",
       " PosixPath('/atlas_scratch/cparr4/AK_NCAR_12km_decadal_means_of_monthly_summaries/zipped/sm2.zip'),\n",
       " PosixPath('/atlas_scratch/cparr4/AK_NCAR_12km_decadal_means_of_monthly_summaries/zipped/sm3.zip'),\n",
       " PosixPath('/atlas_scratch/cparr4/AK_NCAR_12km_decadal_means_of_monthly_summaries/zipped/iwe.zip'),\n",
       " PosixPath('/atlas_scratch/cparr4/AK_NCAR_12km_decadal_means_of_monthly_summaries/zipped/swe.zip'),\n",
       " PosixPath('/atlas_scratch/cparr4/AK_NCAR_12km_decadal_means_of_monthly_summaries/zipped/pcp.zip'),\n",
       " PosixPath('/atlas_scratch/cparr4/AK_NCAR_12km_decadal_means_of_monthly_summaries/zipped/snow_melt.zip'),\n",
       " PosixPath('/atlas_scratch/cparr4/AK_NCAR_12km_decadal_means_of_monthly_summaries/zipped/evap.zip')]"
      ]
     },
     "execution_count": 5,
     "metadata": {},
     "output_type": "execute_result"
    }
   ],
   "source": [
    "# did we zip 'em all?\n",
    "zips = list(zip_dir.glob(\"*.zip\"))\n",
    "zips"
   ]
  },
  {
   "cell_type": "code",
   "execution_count": 6,
   "id": "c143c48f-3579-45ad-b10d-16ba7bb847e3",
   "metadata": {},
   "outputs": [],
   "source": [
    "from config import summary_di\n",
    "assert len(zips) == len(list(summary_di.keys()))"
   ]
  },
  {
   "cell_type": "code",
   "execution_count": null,
   "id": "7a1d35fc-84c2-4ed8-a285-9d0fc2869d2f",
   "metadata": {},
   "outputs": [],
   "source": []
  }
 ],
 "metadata": {
  "kernelspec": {
   "display_name": "Python 3 (ipykernel)",
   "language": "python",
   "name": "python3"
  },
  "language_info": {
   "codemirror_mode": {
    "name": "ipython",
    "version": 3
   },
   "file_extension": ".py",
   "mimetype": "text/x-python",
   "name": "python",
   "nbconvert_exporter": "python",
   "pygments_lexer": "ipython3",
   "version": "3.9.15"
  }
 },
 "nbformat": 4,
 "nbformat_minor": 5
}
