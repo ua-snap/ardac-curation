{
 "cells": [
  {
   "cell_type": "markdown",
   "id": "580ce04e-eabe-4eaa-af53-3c49fb0ba6d9",
   "metadata": {},
   "source": [
    "# EDA: GIPL IEM Edition\n",
    "\n",
    "The purpose of this notebook is to exmaine the most recent set of GIPL model outputs provided to SNAP by Dr. Sergey Marchenko. At a high-level we already know that this set of GIPL outputs has a few distinguishing features including:\n",
    "\n",
    " - Spatial extent over the entire Integrated Ecosystem Model (IEM) project domain. This includes portions of Western Canada.\n",
    " - Inlcudes monthly data rather than just annual summaries.\n",
    " - Inlcudes model outputs driven by two climate models and two emissions scenarios.\n",
    " - Includes a \"historical modeled\" baseline set of outputs forced by CRU TS (1901-2015).\n",
    " - The permafrost variables are expected, except that for some variations the ground temperature at 4 m depth (`magt_4m`) is missing. For example, the CRU TS data do not have `magt4m`.\n",
    " \n",
    "The projected data span years 2006 through 2100. The spatial resolution of the source dataset is 1 km<sup>2</sup>."
   ]
  },
  {
   "cell_type": "markdown",
   "id": "50b35dba-17df-4dca-bbb1-748d4a87bb03",
   "metadata": {},
   "source": [
    "## Decompress Source Dataset: Unzip to Flat\n",
    "\n",
    "The source dataset has bit of an inconsistent structure. Each model-scenario (or historical) set of outputs has a directory that contains one .zip file per variable for the annual data. But - while some of the monthly data have the same structure, some have monthly subdirectories as well. The key thing here is to just verify that we extracted everything we thought we would, and to tag each extracted file with the parent directory to be clear about what directory each file came from. We can clean up those filenames later. To add zest, some of the monthly data also use numerals to indicate the month (like `01`) and some use the abbreviation (`Jan`). There is also a fun mix of hyphens and underescores in the filenames, as well as various upper vs. lower case siutations. Some filenames have leading underscores as well which is a bit odd.\n",
    "\n",
    "In general, a flat data structure where the filenames can be parsed is a little easier to work with in my opinion. We'll try to accomplish that here. The fastest and most portable way this seems to be a shell script. We can spawn these processes from this notebook, and handle the monthly and annual data separately to keep this simple. We'll also separate out the decompression of the flat and nested monthly data, because the nested data may need to be renamed to deconflict filenames. The source dataset is 174 GB compressed, so this could take a bit because we'll end up with over ten thousand of GeoTIFFs."
   ]
  },
  {
   "cell_type": "code",
   "execution_count": 49,
   "id": "68e193f0-9b37-4234-ac5f-910f4ea3188c",
   "metadata": {},
   "outputs": [],
   "source": [
    "import subprocess\n",
    "import re\n",
    "from pathlib import Path\n",
    "\n",
    "import numpy as np\n",
    "import pandas as pd\n",
    "\n",
    "from config import SOURCE_DIR, TARGET_DIR, extracted_annual_dir, extracted_monthly_dir, mo_names, months"
   ]
  },
  {
   "cell_type": "code",
   "execution_count": 2,
   "id": "4cc8abec-0d45-45b8-b694-fa25befb961c",
   "metadata": {},
   "outputs": [],
   "source": [
    "UNZIP = False\n",
    "if UNZIP:\n",
    "    %%time\n",
    "    command = f\"bash ./annual_unzipit.sh {SOURCE_DIR} {extracted_annual_dir}\"\n",
    "    output = subprocess.check_output(command, shell=True)\n",
    "    print(output.decode())"
   ]
  },
  {
   "cell_type": "code",
   "execution_count": 3,
   "id": "d4ec92ef-2cd6-46d5-8894-f5991b0e1582",
   "metadata": {},
   "outputs": [],
   "source": [
    "UNZIP = False\n",
    "if UNZIP:\n",
    "    %%time\n",
    "    command = f\"bash ./monthly_nested_unzipit.sh {SOURCE_DIR} {extracted_monthly_dir}\"\n",
    "    output = subprocess.check_output(command, shell=True)\n",
    "    print(output.decode())"
   ]
  },
  {
   "cell_type": "code",
   "execution_count": 4,
   "id": "f17cfdb5-5931-425f-a037-3e7b8c30b15c",
   "metadata": {},
   "outputs": [],
   "source": [
    "UNZIP = False\n",
    "if UNZIP:\n",
    "    %%time\n",
    "    command = f\"bash ./monthly_flat_unzipit.sh {extracted_monthly_dir}\"\n",
    "    output = subprocess.check_output(command, shell=True)\n",
    "    print(output.decode())"
   ]
  },
  {
   "cell_type": "markdown",
   "id": "0f0021e4-2026-47fa-b1b1-1a3c325e1e1a",
   "metadata": {},
   "source": [
    "## Examine Annual Data\n",
    "\n",
    "Now that everything has been extracted we should verify some basic expectations about the annual dataset.\n",
    "\n",
    " - For the historical CRU baseline data, there should be 115 years of data across 9 variables. However, it looks like year 1901 is missing the talik variable. It is possible that this particular variable requires initialization from the previous year's data, which would explain why it does not exist for the first year of the historical time series.\n",
    " - We would expect each model-scenario combination to have the same number of files: same variables for the same time series.\n",
    " "
   ]
  },
  {
   "cell_type": "code",
   "execution_count": 5,
   "id": "3edb4ab5-ef4a-448f-bc5a-2c87d4bf134a",
   "metadata": {},
   "outputs": [
    {
     "name": "stdout",
     "output_type": "stream",
     "text": [
      "Notice that there is no talik variable for the 1901 data:\n",
      "gipl2_1km_CRU_TS4.0_magt_0.5m_1901.tif\n",
      "gipl2_1km_CRU_TS4.0_magt_1m_1901.tif\n",
      "gipl2_1km_CRU_TS4.0_magt_2m_1901.tif\n",
      "gipl2_1km_CRU_TS4.0_magt_3m_1901.tif\n",
      "gipl2_1km_CRU_TS4.0_magt_5m_1901.tif\n",
      "gipl2_1km_CRU_TS4.0_pfBase_1901.tif\n",
      "gipl2_1km_CRU_TS4.0_pfTop_1901.tif\n",
      "gipl2_1km_CRU_TS4.0_Surf_1901.tif\n"
     ]
    }
   ],
   "source": [
    "# check historical CRU\n",
    "annual_cru = [x for x in extracted_annual_dir.glob(\"*CRU*.tif\")]\n",
    "cru_1901 = [x for x in extracted_annual_dir.glob(\"*1901.tif\")]\n",
    "\n",
    "print(\"Notice that there is no talik variable for the 1901 data:\")\n",
    "for f in [x.name for x in cru_1901]:\n",
    "    print(f)\n",
    "\n",
    "assert len(annual_cru) == 115 * 9 - 1"
   ]
  },
  {
   "cell_type": "code",
   "execution_count": 6,
   "id": "a919dc24-904f-44f6-8c6f-d1f245751d3c",
   "metadata": {},
   "outputs": [],
   "source": [
    "# check projected and chunk up the data by model and scenario\n",
    "annual_projected = [x for x in extracted_annual_dir.glob(\"**/*\") if not \"CRU\" in x.name]\n",
    "\n",
    "rcp45_fps = [x for x in annual_projected if \"rcp45\" in x.name.lower()]\n",
    "rcp85_fps = [x for x in annual_projected if \"rcp85\" in x.name.lower()]\n",
    "\n",
    "mri_rcp45_fps = [x for x in rcp45_fps if \"mri\" in x.name.lower()]\n",
    "ncar_rcp45_fps = [x for x in rcp45_fps if \"ncar\" in x.name.lower()]\n",
    "\n",
    "mri_rcp85_fps = [x for x in rcp85_fps if \"mri\" in x.name.lower()]\n",
    "ncar_rcp85_fps = [x for x in rcp85_fps if \"ncar\" in x.name.lower()]"
   ]
  },
  {
   "cell_type": "code",
   "execution_count": 7,
   "id": "b0d0af3b-30fb-48b7-b8a8-83935696fca1",
   "metadata": {},
   "outputs": [
    {
     "data": {
      "text/plain": [
       "array([2006, 2007, 2008, 2009, 2010, 2011, 2012, 2013, 2014, 2015, 2016,\n",
       "       2017, 2018, 2019, 2020, 2021, 2022, 2023, 2024, 2025, 2026, 2027,\n",
       "       2028, 2029, 2030, 2031, 2032, 2033, 2034, 2035, 2036, 2037, 2038,\n",
       "       2039, 2040, 2041, 2042, 2043, 2044, 2045, 2046, 2047, 2048, 2049,\n",
       "       2050, 2051, 2052, 2053, 2054, 2055, 2056, 2057, 2058, 2059, 2060,\n",
       "       2061, 2062, 2063, 2064, 2065, 2066, 2067, 2068, 2069, 2070, 2071,\n",
       "       2072, 2073, 2074, 2075, 2076, 2077, 2078, 2079, 2080, 2081, 2082,\n",
       "       2083, 2084, 2085, 2086, 2087, 2088, 2089, 2090, 2091, 2092, 2093,\n",
       "       2094, 2095, 2096, 2097, 2098, 2099, 2100])"
      ]
     },
     "execution_count": 7,
     "metadata": {},
     "output_type": "execute_result"
    }
   ],
   "source": [
    "proj_years = np.array(range(2006, 2101))\n",
    "proj_years"
   ]
  },
  {
   "cell_type": "markdown",
   "id": "cfdbe04f-bc83-4d63-b345-0d2d1e4f6357",
   "metadata": {},
   "source": [
    "Validate that for each model-scenario the dataset is constant over the time series, and that all years are represented."
   ]
  },
  {
   "cell_type": "code",
   "execution_count": 8,
   "id": "cc2c4011-57b9-4b26-b560-81002402b29b",
   "metadata": {},
   "outputs": [
    {
     "data": {
      "text/plain": [
       "(array(['2006', '2007', '2008', '2009', '2010', '2011', '2012', '2013',\n",
       "        '2014', '2015', '2016', '2017', '2018', '2019', '2020', '2021',\n",
       "        '2022', '2023', '2024', '2025', '2026', '2027', '2028', '2029',\n",
       "        '2030', '2031', '2032', '2033', '2034', '2035', '2036', '2037',\n",
       "        '2038', '2039', '2040', '2041', '2042', '2043', '2044', '2045',\n",
       "        '2046', '2047', '2048', '2049', '2050', '2051', '2052', '2053',\n",
       "        '2054', '2055', '2056', '2057', '2058', '2059', '2060', '2061',\n",
       "        '2062', '2063', '2064', '2065', '2066', '2067', '2068', '2069',\n",
       "        '2070', '2071', '2072', '2073', '2074', '2075', '2076', '2077',\n",
       "        '2078', '2079', '2080', '2081', '2082', '2083', '2084', '2085',\n",
       "        '2086', '2087', '2088', '2089', '2090', '2091', '2092', '2093',\n",
       "        '2094', '2095', '2096', '2097', '2098', '2099', '2100'],\n",
       "       dtype='<U4'),\n",
       " array([9, 9, 9, 9, 9, 9, 9, 9, 9, 9, 9, 9, 9, 9, 9, 9, 9, 9, 9, 9, 9, 9,\n",
       "        9, 9, 9, 9, 9, 9, 9, 9, 9, 9, 9, 9, 9, 9, 9, 9, 9, 9, 9, 9, 9, 9,\n",
       "        9, 9, 9, 9, 9, 9, 9, 9, 9, 9, 9, 9, 9, 9, 9, 9, 9, 9, 9, 9, 9, 9,\n",
       "        9, 9, 9, 9, 9, 9, 9, 9, 9, 9, 9, 9, 9, 9, 9, 9, 9, 9, 9, 9, 9, 9,\n",
       "        9, 9, 9, 9, 9, 9, 9]))"
      ]
     },
     "execution_count": 8,
     "metadata": {},
     "output_type": "execute_result"
    }
   ],
   "source": [
    "mri_rcp85_years = [x.name.split(\"_\")[-1][:-4] for x in mri_rcp85_fps]\n",
    "mri_rcp85_year_count = np.unique(mri_rcp85_years, return_counts=True)\n",
    "assert (mri_rcp85_year_count[0].astype(int) - proj_years).all() == 0\n",
    "mri_rcp85_year_count"
   ]
  },
  {
   "cell_type": "markdown",
   "id": "fc782091-e105-469b-8ec9-b0ea9bf9ce4d",
   "metadata": {},
   "source": [
    "Interpret the above like this: MRI-CGCM3 RCP 8.5 has 9 files for each year of the time series."
   ]
  },
  {
   "cell_type": "code",
   "execution_count": 9,
   "id": "640af1c3-04bd-4dcd-8f0c-084b9e4029b5",
   "metadata": {},
   "outputs": [
    {
     "data": {
      "text/plain": [
       "(array(['2006', '2007', '2008', '2009', '2010', '2011', '2012', '2013',\n",
       "        '2014', '2015', '2016', '2017', '2018', '2019', '2020', '2021',\n",
       "        '2022', '2023', '2024', '2025', '2026', '2027', '2028', '2029',\n",
       "        '2030', '2031', '2032', '2033', '2034', '2035', '2036', '2037',\n",
       "        '2038', '2039', '2040', '2041', '2042', '2043', '2044', '2045',\n",
       "        '2046', '2047', '2048', '2049', '2050', '2051', '2052', '2053',\n",
       "        '2054', '2055', '2056', '2057', '2058', '2059', '2060', '2061',\n",
       "        '2062', '2063', '2064', '2065', '2066', '2067', '2068', '2069',\n",
       "        '2070', '2071', '2072', '2073', '2074', '2075', '2076', '2077',\n",
       "        '2078', '2079', '2080', '2081', '2082', '2083', '2084', '2085',\n",
       "        '2086', '2087', '2088', '2089', '2090', '2091', '2092', '2093',\n",
       "        '2094', '2095', '2096', '2097', '2098', '2099', '2100'],\n",
       "       dtype='<U4'),\n",
       " array([10, 10, 10, 10, 10, 10, 10, 10, 10, 10, 10, 10, 10, 10, 10, 10, 10,\n",
       "        10, 10, 10, 10, 10, 10, 10, 10, 10, 10, 10, 10, 10, 10, 10, 10, 10,\n",
       "        10, 10, 10, 10, 10, 10, 10, 10, 10, 10, 10, 10, 10, 10, 10, 10, 10,\n",
       "        10, 10, 10, 10, 10, 10, 10, 10, 10, 10, 10, 10, 10, 10, 10, 10, 10,\n",
       "        10, 10, 10, 10, 10, 10, 10, 10, 10, 10, 10, 10, 10, 10, 10, 10, 10,\n",
       "        10, 10, 10, 10, 10, 10, 10, 10, 10, 10]))"
      ]
     },
     "execution_count": 9,
     "metadata": {},
     "output_type": "execute_result"
    }
   ],
   "source": [
    "ncar_rcp85_years = [x.name.split(\"_\")[-1][:-4] for x in ncar_rcp85_fps]\n",
    "ncar_rcp85_year_count = np.unique(ncar_rcp85_years, return_counts=True)\n",
    "assert (ncar_rcp85_year_count[0].astype(int) - proj_years).all() == 0\n",
    "ncar_rcp85_year_count"
   ]
  },
  {
   "cell_type": "markdown",
   "id": "d25e69f2-074a-463b-a688-928e9b060069",
   "metadata": {},
   "source": [
    "Well, we can see now that the NCAR RCP 8.5 has one more file for each year of the time series. Let's look at the variables next."
   ]
  },
  {
   "cell_type": "code",
   "execution_count": 10,
   "id": "4ae60ed6-425a-4e0f-bdee-32febbe91c6f",
   "metadata": {},
   "outputs": [
    {
     "data": {
      "text/plain": [
       "(array(['0.5m', '1m', '2m', '3m', '5m', 'ALT', 'Surf', 'Talik', 'pfBase'],\n",
       "       dtype='<U6'),\n",
       " array([95, 95, 95, 95, 95, 95, 95, 95, 95]))"
      ]
     },
     "execution_count": 10,
     "metadata": {},
     "output_type": "execute_result"
    }
   ],
   "source": [
    "mri_rcp85_vars = [x.name.split(\"_\")[-2] for x in mri_rcp85_fps]\n",
    "np.unique(mri_rcp85_vars, return_counts=True)"
   ]
  },
  {
   "cell_type": "code",
   "execution_count": 11,
   "id": "fed7d42e-b5f9-4586-aed0-773168cb3db7",
   "metadata": {},
   "outputs": [
    {
     "data": {
      "text/plain": [
       "(array(['0.5m', '1m', '2m', '3m', '4m', '5m', 'Surf', 'Talik', 'pfBase',\n",
       "        'pfTop'], dtype='<U6'),\n",
       " array([95, 95, 95, 95, 95, 95, 95, 95, 95, 95]))"
      ]
     },
     "execution_count": 11,
     "metadata": {},
     "output_type": "execute_result"
    }
   ],
   "source": [
    "ncar_rcp85_vars = [x.name.split(\"_\")[-2] for x in ncar_rcp85_fps]\n",
    "np.unique(ncar_rcp85_vars, return_counts=True)"
   ]
  },
  {
   "cell_type": "code",
   "execution_count": 12,
   "id": "793bf84c-c566-4766-84c4-553045551f18",
   "metadata": {},
   "outputs": [
    {
     "data": {
      "text/plain": [
       "{'4m', 'pfTop'}"
      ]
     },
     "execution_count": 12,
     "metadata": {},
     "output_type": "execute_result"
    }
   ],
   "source": [
    "set(ncar_rcp85_vars) - set(mri_rcp85_vars)"
   ]
  },
  {
   "cell_type": "code",
   "execution_count": 13,
   "id": "3f2e2436-d0a7-4bf4-b082-b7b5224f2d2e",
   "metadata": {},
   "outputs": [
    {
     "data": {
      "text/plain": [
       "{'ALT'}"
      ]
     },
     "execution_count": 13,
     "metadata": {},
     "output_type": "execute_result"
    }
   ],
   "source": [
    "set(mri_rcp85_vars) - set(ncar_rcp85_vars)"
   ]
  },
  {
   "cell_type": "markdown",
   "id": "20bc1977-7ded-4b3e-a134-ca1716a70921",
   "metadata": {},
   "source": [
    "Well that explains that - the NCAR data have two variables that the MRI data lack: Mean Annual Ground Temperature (MAGT) at 4 m depth and Permafrost Top (pfTop), but the MRI data then have one variable that that the NCAR data lack: Active Layer Thickness (ALT). Let's try the same analysis for the RCP 4.5 versions of these two models."
   ]
  },
  {
   "cell_type": "code",
   "execution_count": 14,
   "id": "e73735e4-5ab0-46f6-ae25-bc06d451d08c",
   "metadata": {},
   "outputs": [
    {
     "data": {
      "text/plain": [
       "(array(['2006', '2007', '2008', '2009', '2010', '2011', '2012', '2013',\n",
       "        '2014', '2015', '2016', '2017', '2018', '2019', '2020', '2021',\n",
       "        '2022', '2023', '2024', '2025', '2026', '2027', '2028', '2029',\n",
       "        '2030', '2031', '2032', '2033', '2034', '2035', '2036', '2037',\n",
       "        '2038', '2039', '2040', '2041', '2042', '2043', '2044', '2045',\n",
       "        '2046', '2047', '2048', '2049', '2050', '2051', '2052', '2053',\n",
       "        '2054', '2055', '2056', '2057', '2058', '2059', '2060', '2061',\n",
       "        '2062', '2063', '2064', '2065', '2066', '2067', '2068', '2069',\n",
       "        '2070', '2071', '2072', '2073', '2074', '2075', '2076', '2077',\n",
       "        '2078', '2079', '2080', '2081', '2082', '2083', '2084', '2085',\n",
       "        '2086', '2087', '2088', '2089', '2090', '2091', '2092', '2093',\n",
       "        '2094', '2095', '2096', '2097', '2098', '2099', '2100'],\n",
       "       dtype='<U4'),\n",
       " array([10, 10, 10, 10, 10, 10, 10, 10, 10, 10, 10, 10, 10, 10, 10, 10, 10,\n",
       "        10, 10, 10, 10, 10, 10, 10, 10, 10, 10, 10, 10, 10, 10, 10, 10, 10,\n",
       "        10, 10, 10, 10, 10, 10, 10, 10, 10, 10, 10, 10, 10, 10, 10, 10, 10,\n",
       "        10, 10, 10, 10, 10, 10, 10, 10, 10, 10, 10, 10, 10, 10, 10, 10, 10,\n",
       "        10, 10, 10, 10, 10, 10, 10, 10, 10, 10, 10, 10, 10, 10, 10, 10, 10,\n",
       "        10, 10, 10, 10, 10, 10, 10, 10, 10, 10]))"
      ]
     },
     "execution_count": 14,
     "metadata": {},
     "output_type": "execute_result"
    }
   ],
   "source": [
    "mri_rcp45_years = [x.name.split(\"_\")[-1][:-4] for x in mri_rcp45_fps]\n",
    "mri_rcp45_year_count = np.unique(mri_rcp45_years, return_counts=True)\n",
    "assert (mri_rcp45_year_count[0].astype(int) - proj_years).all() == 0\n",
    "mri_rcp45_year_count"
   ]
  },
  {
   "cell_type": "code",
   "execution_count": 15,
   "id": "869c32ef-70bf-440c-a5a3-3c135594c76a",
   "metadata": {},
   "outputs": [
    {
     "ename": "ValueError",
     "evalue": "operands could not be broadcast together with shapes (121,) (95,) ",
     "output_type": "error",
     "traceback": [
      "\u001b[0;31m---------------------------------------------------------------------------\u001b[0m",
      "\u001b[0;31mValueError\u001b[0m                                Traceback (most recent call last)",
      "Cell \u001b[0;32mIn[15], line 3\u001b[0m\n\u001b[1;32m      1\u001b[0m ncar_rcp45_years \u001b[38;5;241m=\u001b[39m [x\u001b[38;5;241m.\u001b[39mname\u001b[38;5;241m.\u001b[39msplit(\u001b[38;5;124m\"\u001b[39m\u001b[38;5;124m_\u001b[39m\u001b[38;5;124m\"\u001b[39m)[\u001b[38;5;241m-\u001b[39m\u001b[38;5;241m1\u001b[39m][:\u001b[38;5;241m-\u001b[39m\u001b[38;5;241m4\u001b[39m] \u001b[38;5;28;01mfor\u001b[39;00m x \u001b[38;5;129;01min\u001b[39;00m ncar_rcp45_fps]\n\u001b[1;32m      2\u001b[0m ncar_rcp45_year_count \u001b[38;5;241m=\u001b[39m np\u001b[38;5;241m.\u001b[39munique(ncar_rcp45_years, return_counts\u001b[38;5;241m=\u001b[39m\u001b[38;5;28;01mTrue\u001b[39;00m)\n\u001b[0;32m----> 3\u001b[0m \u001b[38;5;28;01massert\u001b[39;00m (\u001b[43mncar_rcp45_year_count\u001b[49m\u001b[43m[\u001b[49m\u001b[38;5;241;43m0\u001b[39;49m\u001b[43m]\u001b[49m\u001b[38;5;241;43m.\u001b[39;49m\u001b[43mastype\u001b[49m\u001b[43m(\u001b[49m\u001b[38;5;28;43mint\u001b[39;49m\u001b[43m)\u001b[49m\u001b[43m \u001b[49m\u001b[38;5;241;43m-\u001b[39;49m\u001b[43m \u001b[49m\u001b[43mproj_years\u001b[49m)\u001b[38;5;241m.\u001b[39mall() \u001b[38;5;241m==\u001b[39m \u001b[38;5;241m0\u001b[39m\n",
      "\u001b[0;31mValueError\u001b[0m: operands could not be broadcast together with shapes (121,) (95,) "
     ]
    }
   ],
   "source": [
    "ncar_rcp45_years = [x.name.split(\"_\")[-1][:-4] for x in ncar_rcp45_fps]\n",
    "ncar_rcp45_year_count = np.unique(ncar_rcp45_years, return_counts=True)\n",
    "assert (ncar_rcp45_year_count[0].astype(int) - proj_years).all() == 0"
   ]
  },
  {
   "cell_type": "markdown",
   "id": "80dce0c2-d250-4457-b58b-ec52dc8ee777",
   "metadata": {},
   "source": [
    "Uh oh."
   ]
  },
  {
   "cell_type": "code",
   "execution_count": 16,
   "id": "d88e8792-ecf9-4b79-997a-c6d50dbf95b4",
   "metadata": {},
   "outputs": [
    {
     "data": {
      "text/plain": [
       "(array(['1981', '1982', '1983', '1984', '1985', '1986', '1987', '1988',\n",
       "        '1989', '1990', '1991', '1992', '1993', '1994', '1995', '1996',\n",
       "        '1997', '1998', '1999', '2000', '2001', '2002', '2003', '2004',\n",
       "        '2005', '2006', '2007', '2008', '2009', '2010', '2011', '2012',\n",
       "        '2013', '2014', '2015', '2016', '2017', '2018', '2019', '2020',\n",
       "        '2021', '2022', '2023', '2024', '2025', '2026', '2027', '2028',\n",
       "        '2029', '2030', '2031', '2032', '2033', '2034', '2035', '2036',\n",
       "        '2037', '2038', '2039', '2040', '2041', '2042', '2043', '2044',\n",
       "        '2045', '2046', '2047', '2048', '2049', '2050', '2051', '2052',\n",
       "        '2053', '2054', '2055', '2056', '2057', '2058', '2059', '2060',\n",
       "        '2061', '2062', '2063', '2064', '2065', '2066', '2067', '2068',\n",
       "        '2069', '2070', '2071', '2072', '2073', '2074', '2075', '2076',\n",
       "        '2077', '2078', '2079', '2080', '2081', '2082', '2083', '2084',\n",
       "        '2085', '2086', '2087', '2088', '2089', '2090', '2091', '2092',\n",
       "        '2093', '2094', '2095', '2096', '2097', '2098', '2099', '2100',\n",
       "        '2101'], dtype='<U4'),\n",
       " array([10, 10, 10, 10, 10, 10, 10, 10, 10, 10, 10, 10, 10, 10, 10, 10, 10,\n",
       "        10, 10, 10, 10, 10, 10, 10, 10, 10, 10, 10, 10, 10, 10, 10, 10, 10,\n",
       "        10, 10, 10, 10, 10, 10, 10, 10, 10, 10, 10, 10, 10, 10, 10, 10, 10,\n",
       "        10, 10, 10, 10, 10, 10, 10, 10, 10, 10, 10, 10, 10, 10, 10, 10, 10,\n",
       "        10, 10, 10, 10, 10, 10, 10, 10, 10, 10, 10, 10, 10, 10, 10, 10, 10,\n",
       "        10, 10, 10, 10, 10, 10, 10, 10, 10, 10, 10, 10, 10, 10, 10, 10, 10,\n",
       "        10, 10, 10, 10, 10, 10, 10, 10, 10, 10, 10, 10, 10, 10, 10, 10, 10,\n",
       "        10,  6]))"
      ]
     },
     "execution_count": 16,
     "metadata": {},
     "output_type": "execute_result"
    }
   ],
   "source": [
    "ncar_rcp45_year_count"
   ]
  },
  {
   "cell_type": "markdown",
   "id": "c311dfe3-812d-47d8-ad24-dfa21b107855",
   "metadata": {},
   "source": [
    "Wow so this is definitely not expected - the NCAR-CCSM4 data for RCP 4.5 seems to go back to the 1980s? But then the time series extends to 2101?"
   ]
  },
  {
   "cell_type": "code",
   "execution_count": 17,
   "id": "9ec38e58-11ac-4c18-941a-7bc9bba60235",
   "metadata": {},
   "outputs": [
    {
     "data": {
      "text/plain": [
       "{'1981',\n",
       " '1982',\n",
       " '1983',\n",
       " '1984',\n",
       " '1985',\n",
       " '1986',\n",
       " '1987',\n",
       " '1988',\n",
       " '1989',\n",
       " '1990',\n",
       " '1991',\n",
       " '1992',\n",
       " '1993',\n",
       " '1994',\n",
       " '1995',\n",
       " '1996',\n",
       " '1997',\n",
       " '1998',\n",
       " '1999',\n",
       " '2000',\n",
       " '2001',\n",
       " '2002',\n",
       " '2003',\n",
       " '2004',\n",
       " '2005',\n",
       " '2101'}"
      ]
     },
     "execution_count": 17,
     "metadata": {},
     "output_type": "execute_result"
    }
   ],
   "source": [
    "set(np.unique(ncar_rcp45_years)) - set(np.unique(mri_rcp45_years))"
   ]
  },
  {
   "cell_type": "code",
   "execution_count": 18,
   "id": "938c8840-94ec-4eed-b573-14ef3071f1f3",
   "metadata": {},
   "outputs": [
    {
     "data": {
      "text/plain": [
       "set()"
      ]
     },
     "execution_count": 18,
     "metadata": {},
     "output_type": "execute_result"
    }
   ],
   "source": [
    "set(np.unique(mri_rcp45_years)) - set(np.unique(ncar_rcp45_years)) "
   ]
  },
  {
   "cell_type": "markdown",
   "id": "7a874fd8-31cf-4fdc-a62f-9be3c6060918",
   "metadata": {},
   "source": [
    "Alright well it seems that there are just bonus years in the NCAR-CCSM4 RCP 4.5 dataset? We'll want to confirm that these are not needed, but this isn't a dealbreaker because we can just omit the extra years when building a coverage. Let's look at the RCP 4.5 variables next."
   ]
  },
  {
   "cell_type": "code",
   "execution_count": 19,
   "id": "a9c2faf7-6339-4807-8658-21579a04e003",
   "metadata": {},
   "outputs": [
    {
     "data": {
      "text/plain": [
       "(array(['0.5m', '1m', '2m', '3m', '4m', '5m', 'Surf', 'Talik', 'pfBase',\n",
       "        'pfTop'], dtype='<U6'),\n",
       " array([95, 95, 95, 95, 95, 95, 95, 95, 95, 95]))"
      ]
     },
     "execution_count": 19,
     "metadata": {},
     "output_type": "execute_result"
    }
   ],
   "source": [
    "mri_rcp45_vars = [x.name.split(\"_\")[-2] for x in mri_rcp45_fps]\n",
    "np.unique(mri_rcp45_vars, return_counts=True)"
   ]
  },
  {
   "cell_type": "code",
   "execution_count": 20,
   "id": "bdc72ce1-3524-40a5-9b78-6baaddeda5ef",
   "metadata": {},
   "outputs": [
    {
     "data": {
      "text/plain": [
       "(array(['0.5m', '1m', '2m', '3m', '4m', '5m', 'Surf', 'Talik', 'pfBase',\n",
       "        'pfTop'], dtype='<U6'),\n",
       " array([121, 121, 121, 121, 121, 121, 120, 120, 120, 120]))"
      ]
     },
     "execution_count": 20,
     "metadata": {},
     "output_type": "execute_result"
    }
   ],
   "source": [
    "ncar_rcp45_vars = [x.name.split(\"_\")[-2] for x in ncar_rcp45_fps]\n",
    "np.unique(ncar_rcp45_vars, return_counts=True)"
   ]
  },
  {
   "cell_type": "code",
   "execution_count": 21,
   "id": "4f53fa72-39d2-4338-8b20-c0ed62990f38",
   "metadata": {},
   "outputs": [
    {
     "data": {
      "text/plain": [
       "set()"
      ]
     },
     "execution_count": 21,
     "metadata": {},
     "output_type": "execute_result"
    }
   ],
   "source": [
    "set(ncar_rcp45_vars) - set(mri_rcp45_vars)"
   ]
  },
  {
   "cell_type": "code",
   "execution_count": 22,
   "id": "3aec6cd0-2c39-4e63-aade-bd7936eb3625",
   "metadata": {},
   "outputs": [
    {
     "data": {
      "text/plain": [
       "set()"
      ]
     },
     "execution_count": 22,
     "metadata": {},
     "output_type": "execute_result"
    }
   ],
   "source": [
    "set(mri_rcp45_vars) - set(ncar_rcp45_vars)"
   ]
  },
  {
   "cell_type": "markdown",
   "id": "4dbe9149-e939-451a-ad46-262e6d31d835",
   "metadata": {},
   "source": [
    "Variables are consistent between these two cases - that is good. Notice that `pfTop` and `magt` at 4 m are present, but `ALT` is not. I'm guessing the \"correct\" variable set is the former. Now we can check not just between models, but between scenarios as well."
   ]
  },
  {
   "cell_type": "code",
   "execution_count": 23,
   "id": "e9b63443-977b-42e6-9f0f-ee2d343ded16",
   "metadata": {},
   "outputs": [
    {
     "data": {
      "text/plain": [
       "{'ALT'}"
      ]
     },
     "execution_count": 23,
     "metadata": {},
     "output_type": "execute_result"
    }
   ],
   "source": [
    "set(mri_rcp85_vars) - set(mri_rcp45_vars)"
   ]
  },
  {
   "cell_type": "code",
   "execution_count": 24,
   "id": "ceadcdb8-2a0d-411a-8db4-185c9e4caac1",
   "metadata": {},
   "outputs": [
    {
     "data": {
      "text/plain": [
       "{'4m', 'pfTop'}"
      ]
     },
     "execution_count": 24,
     "metadata": {},
     "output_type": "execute_result"
    }
   ],
   "source": [
    "set(mri_rcp45_vars) - set(mri_rcp85_vars)"
   ]
  },
  {
   "cell_type": "code",
   "execution_count": 25,
   "id": "8d847c04-9324-43c0-9b4c-0467dd5e6a55",
   "metadata": {},
   "outputs": [
    {
     "data": {
      "text/plain": [
       "set()"
      ]
     },
     "execution_count": 25,
     "metadata": {},
     "output_type": "execute_result"
    }
   ],
   "source": [
    "set(ncar_rcp85_vars) - set(ncar_rcp45_vars)"
   ]
  },
  {
   "cell_type": "code",
   "execution_count": 26,
   "id": "0fcb488b-f2f1-4f56-af95-3210d23665ae",
   "metadata": {},
   "outputs": [
    {
     "data": {
      "text/plain": [
       "set()"
      ]
     },
     "execution_count": 26,
     "metadata": {},
     "output_type": "execute_result"
    }
   ],
   "source": [
    "set(ncar_rcp45_vars) - set(ncar_rcp85_vars)"
   ]
  },
  {
   "cell_type": "markdown",
   "id": "0e33149c-938a-4c5a-ae07-4f95cd8943fb",
   "metadata": {},
   "source": [
    "That makes sense - we have the anomalous `ALT` appearance, but otherwise the variables are consistent."
   ]
  },
  {
   "cell_type": "markdown",
   "id": "39594572-4b8e-4837-9909-1dce5ba6c76e",
   "metadata": {},
   "source": [
    "**So, to document some inconsistencies in the annual dataset:**\n",
    "\n",
    "- Why do the CRU TS 4.0 outputs for 1901 not have a Talik variable?\n",
    "- Why is the entire CRU TS series missing data for MAGT @ 4m depth?\n",
    "- The NCAR RCP 8.5 data have two variables that the MRI-CGCM3 RCP 8.5 do not: Mean Annual Ground Temperature at 4 m depth and Permafrost Top (pfTop). However, the MRI-CGCM3 RCP 8.5 data have one variable that that the NCAR-CCSM4 RCP 8.5 data lack: Active Layer Thickness (ALT). No other model-scenario combinations have ALT, so can we assume that intended \"correct\" variable set excludes ALT and includes MAGT 4m and pfTop?\n",
    "- The NCAR-CCSM4 RCP 4.5 data go back to the 1980s and also contain output for the year 2101. All other model-scenario time series run 2006-2100."
   ]
  },
  {
   "cell_type": "markdown",
   "id": "9907d858-1b87-47fa-9d82-82aabee41bb5",
   "metadata": {},
   "source": [
    "## Examine Monthly Data\n",
    "\n",
    "Our basic expectations about the monthly dataset are basically the same as for the annual data.\n",
    "\n",
    "- But we've got a monthly frequency so we'd expect each month has the same amount of data.\n",
    "- Recall there is no historical CRU baseline for the monthly data\n",
    "- We would expect each model-scenario combination to have the same number of files: same variables for the same time series.\n",
    " "
   ]
  },
  {
   "cell_type": "code",
   "execution_count": 27,
   "id": "043ebedd-6456-47f4-a2dd-d621d09f28fb",
   "metadata": {},
   "outputs": [],
   "source": [
    "monthly_projected = [x for x in extracted_monthly_dir.rglob(\"*.tif\")]\n",
    "\n",
    "mo_rcp45_fps = [x for x in monthly_projected if \"rcp45\" in x.name.lower()]\n",
    "mo_rcp85_fps = [x for x in monthly_projected if \"rcp85\" in x.name.lower()]"
   ]
  },
  {
   "cell_type": "code",
   "execution_count": 28,
   "id": "61a1e6ea-6e4d-499d-9313-9fbe498b88e8",
   "metadata": {},
   "outputs": [
    {
     "data": {
      "text/plain": [
       "36155"
      ]
     },
     "execution_count": 28,
     "metadata": {},
     "output_type": "execute_result"
    }
   ],
   "source": [
    "len(monthly_projected)"
   ]
  },
  {
   "cell_type": "code",
   "execution_count": 29,
   "id": "0d0d3290-85c5-45a6-a314-4bf5fbda5cdd",
   "metadata": {},
   "outputs": [
    {
     "data": {
      "text/plain": [
       "18161"
      ]
     },
     "execution_count": 29,
     "metadata": {},
     "output_type": "execute_result"
    }
   ],
   "source": [
    "len(mo_rcp85_fps)"
   ]
  },
  {
   "cell_type": "code",
   "execution_count": 30,
   "id": "3d3851f0-691f-479a-a8fc-9a4ef876be2b",
   "metadata": {},
   "outputs": [
    {
     "data": {
      "text/plain": [
       "17994"
      ]
     },
     "execution_count": 30,
     "metadata": {},
     "output_type": "execute_result"
    }
   ],
   "source": [
    "len(mo_rcp45_fps)"
   ]
  },
  {
   "cell_type": "code",
   "execution_count": 31,
   "id": "e503d9e8-c1ee-4c74-ab5d-04ccd0d395fc",
   "metadata": {},
   "outputs": [],
   "source": [
    "# ensure we are parsing the scenario correctly\n",
    "assert len(mo_rcp85_fps) + len(mo_rcp45_fps) == len(monthly_projected)"
   ]
  },
  {
   "cell_type": "markdown",
   "id": "bef85b60-3b7a-4f58-ad1a-b92938107956",
   "metadata": {},
   "source": [
    "Well we can immediately see that there are more files for RCP 8.5 than RCP 4.5 - we'd expect those two to have the same number of files. Let's take a closer look at the RCP 8.5 data."
   ]
  },
  {
   "cell_type": "code",
   "execution_count": 32,
   "id": "1a7309f2-bf0c-42fd-8ea6-a381a945687f",
   "metadata": {},
   "outputs": [],
   "source": [
    "mo_mri_rcp85_fps = [x for x in mo_rcp85_fps if \"mri\" in x.name.lower()]\n",
    "mo_ncar_rcp85_fps = [x for x in mo_rcp85_fps if \"ncar\" in x.name.lower()]"
   ]
  },
  {
   "cell_type": "code",
   "execution_count": 33,
   "id": "8902404d-0a4a-414a-982f-7e73fdb9a126",
   "metadata": {},
   "outputs": [
    {
     "data": {
      "text/plain": [
       "9033"
      ]
     },
     "execution_count": 33,
     "metadata": {},
     "output_type": "execute_result"
    }
   ],
   "source": [
    "len(mo_mri_rcp85_fps)"
   ]
  },
  {
   "cell_type": "code",
   "execution_count": 34,
   "id": "3356148b-06c6-4cc2-94e8-82e894933ecf",
   "metadata": {},
   "outputs": [
    {
     "data": {
      "text/plain": [
       "9128"
      ]
     },
     "execution_count": 34,
     "metadata": {},
     "output_type": "execute_result"
    }
   ],
   "source": [
    "len(mo_ncar_rcp85_fps)"
   ]
  },
  {
   "cell_type": "code",
   "execution_count": 35,
   "id": "5ebe1386-fa40-4a3a-9af5-e8ac774ad73d",
   "metadata": {},
   "outputs": [],
   "source": [
    "# ensure we are parsing the model correctly for the RCP 8.5 data\n",
    "assert len(mo_mri_rcp85_fps) + len(mo_ncar_rcp85_fps) == len(mo_rcp85_fps)"
   ]
  },
  {
   "cell_type": "code",
   "execution_count": 36,
   "id": "f7dfeea0-a720-4d03-bd6e-5baddac26de5",
   "metadata": {},
   "outputs": [
    {
     "data": {
      "text/plain": [
       "95"
      ]
     },
     "execution_count": 36,
     "metadata": {},
     "output_type": "execute_result"
    }
   ],
   "source": [
    "len(mo_ncar_rcp85_fps) - len(mo_mri_rcp85_fps)"
   ]
  },
  {
   "cell_type": "markdown",
   "id": "3bf1dd9a-e28f-447e-ae43-4330ee3d3143",
   "metadata": {},
   "source": [
    "OK so even within the RCP 8.5 data, it seems like MRI-CGCM3 is missing some data compared to NCAR-CCSM4. 95 is the numbers of years in the time series, so it is likely that MRI-CGCM3 is missing a variable."
   ]
  },
  {
   "cell_type": "code",
   "execution_count": 37,
   "id": "62461d6b-b28a-494e-a05b-51544cb166bc",
   "metadata": {},
   "outputs": [],
   "source": [
    "mo_mri_rcp45_fps = [x for x in mo_rcp45_fps if \"mri\" in x.name.lower()]\n",
    "mo_ncar_rcp45_fps = [x for x in mo_rcp45_fps if \"ncar\" in x.name.lower()]"
   ]
  },
  {
   "cell_type": "code",
   "execution_count": 38,
   "id": "a8325e5a-3c2b-4a89-8159-18d5ac496733",
   "metadata": {},
   "outputs": [
    {
     "data": {
      "text/plain": [
       "8884"
      ]
     },
     "execution_count": 38,
     "metadata": {},
     "output_type": "execute_result"
    }
   ],
   "source": [
    "len(mo_mri_rcp45_fps)"
   ]
  },
  {
   "cell_type": "code",
   "execution_count": 39,
   "id": "44ffd477-f322-4f5f-aa7b-6ac686da2def",
   "metadata": {},
   "outputs": [
    {
     "data": {
      "text/plain": [
       "9110"
      ]
     },
     "execution_count": 39,
     "metadata": {},
     "output_type": "execute_result"
    }
   ],
   "source": [
    "len(mo_ncar_rcp45_fps)"
   ]
  },
  {
   "cell_type": "code",
   "execution_count": 40,
   "id": "d5a2c2ce-7a24-4f9b-865c-7f2a5d72dd93",
   "metadata": {},
   "outputs": [],
   "source": [
    "# ensure we are parsing the model correctly for the RCP 4.5 data\n",
    "assert len(mo_mri_rcp45_fps) + len(mo_ncar_rcp45_fps) == len(mo_rcp45_fps)"
   ]
  },
  {
   "cell_type": "code",
   "execution_count": 41,
   "id": "26ceb8a8-eddd-40ec-a213-c5eab2eb1f22",
   "metadata": {},
   "outputs": [
    {
     "data": {
      "text/plain": [
       "226"
      ]
     },
     "execution_count": 41,
     "metadata": {},
     "output_type": "execute_result"
    }
   ],
   "source": [
    "len(mo_ncar_rcp45_fps) - len(mo_mri_rcp45_fps)"
   ]
  },
  {
   "cell_type": "markdown",
   "id": "9fbaf60f-889f-48e2-94ed-a9e1e6742f44",
   "metadata": {},
   "source": [
    "Same pattern for the RCP 4.5 data, but different numbers and a different delta between the two. Let's try to break down this data on a monthly basis."
   ]
  },
  {
   "cell_type": "code",
   "execution_count": 42,
   "id": "c5de5a97-a493-44ea-9edc-60087d623b87",
   "metadata": {},
   "outputs": [
    {
     "data": {
      "text/plain": [
       "{'01': 'jan',\n",
       " '02': 'feb',\n",
       " '03': 'mar',\n",
       " '04': 'apr',\n",
       " '05': 'may',\n",
       " '06': 'jun',\n",
       " '07': 'jul',\n",
       " '08': 'aug',\n",
       " '09': 'sep',\n",
       " '10': 'oct',\n",
       " '11': 'nov',\n",
       " '12': 'dec'}"
      ]
     },
     "execution_count": 42,
     "metadata": {},
     "output_type": "execute_result"
    }
   ],
   "source": [
    "month_dict = {}\n",
    "\n",
    "for month_num in months:\n",
    "\n",
    "    month_abbr = mo_names[month_num]\n",
    "\n",
    "    # format the month numeral with leading zeroes where needed\n",
    "    month_str = f'{month_num:02}'\n",
    "\n",
    "    month_dict[month_str] = month_abbr\n",
    "\n",
    "month_dict"
   ]
  },
  {
   "cell_type": "code",
   "execution_count": 43,
   "id": "a955dad6-e29b-42f2-a32f-83149d05d830",
   "metadata": {},
   "outputs": [],
   "source": [
    "def parse_month_abbr(filename):\n",
    "    match = re.search(r'jan|feb|mar|apr|may|jun|jul|aug|sep|oct|nov|dec', filename, re.IGNORECASE)\n",
    "    if match:\n",
    "        return match.group().lower()\n",
    "    else:\n",
    "        return None"
   ]
  },
  {
   "cell_type": "code",
   "execution_count": 44,
   "id": "221d7600-35b9-4c7a-883f-2e5ab01cf7db",
   "metadata": {},
   "outputs": [],
   "source": [
    "def parse_month_numeral(file_name):\n",
    "    # Define a regular expression to match the month numeral\n",
    "    pattern = r'(?:^|_)(\\d{2})(?:_|$)'\n",
    "    \n",
    "    # Use the re.search() function to find the month numeral in the file name\n",
    "    match = re.search(pattern, file_name)\n",
    "    \n",
    "    # Return the month numeral if found, or None otherwise\n",
    "    return match.group(1) if match else None\n"
   ]
  },
  {
   "cell_type": "code",
   "execution_count": 45,
   "id": "bfde38c8-158d-4187-935b-f637bd599945",
   "metadata": {},
   "outputs": [],
   "source": [
    "file_di = {}\n",
    "\n",
    "file_di[\"NCAR-CCSM4 RCP 8.5\"] = {}\n",
    "file_di[\"MRI-CGCM3 RCP 8.5\"] = {}\n",
    "file_di[\"NCAR-CCSM4 RCP 4.5\"] = {}\n",
    "file_di[\"MRI-CGCM3 RCP 4.5\"] = {}\n",
    "\n",
    "\n",
    "file_di[\"NCAR-CCSM4 RCP 8.5\"][\"files\"] = mo_ncar_rcp85_fps\n",
    "file_di[\"MRI-CGCM3 RCP 8.5\"][\"files\"] = mo_mri_rcp85_fps\n",
    "file_di[\"NCAR-CCSM4 RCP 4.5\"][\"files\"] = mo_ncar_rcp45_fps\n",
    "file_di[\"MRI-CGCM3 RCP 4.5\"][\"files\"] = mo_mri_rcp45_fps\n",
    "\n",
    "for model_scenario in file_di.keys():\n",
    "    file_di[model_scenario][\"no_month_parsed\"] = []\n",
    "    for month in mo_names[1:]:\n",
    "        file_di[model_scenario][f\"{month}_files\"] = []"
   ]
  },
  {
   "cell_type": "code",
   "execution_count": 46,
   "id": "ebe15850-4139-4c81-9666-e93911adbb14",
   "metadata": {},
   "outputs": [],
   "source": [
    "for model_scenario in file_di.keys():\n",
    "    for fp in file_di[model_scenario][\"files\"]:\n",
    "        mo_abbr = parse_month_abbr(fp.name)\n",
    "        if mo_abbr is not None:\n",
    "            file_di[model_scenario][f\"{mo_abbr}_files\"].append(fp)\n",
    "        elif mo_abbr is None:\n",
    "            mo_num = parse_month_numeral(fp.name)\n",
    "            if mo_num is not None:\n",
    "                file_di[model_scenario][f\"{month_dict[mo_num]}_files\"].append(fp)\n",
    "            else:\n",
    "                file_di[model_scenario][\"no_month_parsed\"].append(fp)"
   ]
  },
  {
   "cell_type": "code",
   "execution_count": 48,
   "id": "6eb31aad-b4e7-4fa0-8362-01c9f726e2ee",
   "metadata": {},
   "outputs": [
    {
     "name": "stdout",
     "output_type": "stream",
     "text": [
      "[]\n",
      "['gipl2_IEM_Domain_1km_MRI-CGCM3-RCP85_mmgt_pfTop_2006.tif', 'gipl2_IEM_Domain_1km_MRI-CGCM3-RCP85_mmgt_pfTop_2007.tif', 'gipl2_IEM_Domain_1km_MRI-CGCM3-RCP85_mmgt_pfTop_2008.tif', 'gipl2_IEM_Domain_1km_MRI-CGCM3-RCP85_mmgt_pfTop_2009.tif', 'gipl2_IEM_Domain_1km_MRI-CGCM3-RCP85_mmgt_pfTop_2010.tif', 'gipl2_IEM_Domain_1km_MRI-CGCM3-RCP85_mmgt_pfTop_2011.tif', 'gipl2_IEM_Domain_1km_MRI-CGCM3-RCP85_mmgt_pfTop_2012.tif', 'gipl2_IEM_Domain_1km_MRI-CGCM3-RCP85_mmgt_pfTop_2013.tif', 'gipl2_IEM_Domain_1km_MRI-CGCM3-RCP85_mmgt_pfTop_2014.tif', 'gipl2_IEM_Domain_1km_MRI-CGCM3-RCP85_mmgt_pfTop_2015.tif', 'gipl2_IEM_Domain_1km_MRI-CGCM3-RCP85_mmgt_pfTop_2016.tif', 'gipl2_IEM_Domain_1km_MRI-CGCM3-RCP85_mmgt_pfTop_2017.tif', 'gipl2_IEM_Domain_1km_MRI-CGCM3-RCP85_mmgt_pfTop_2018.tif', 'gipl2_IEM_Domain_1km_MRI-CGCM3-RCP85_mmgt_pfTop_2019.tif', 'gipl2_IEM_Domain_1km_MRI-CGCM3-RCP85_mmgt_pfTop_2020.tif', 'gipl2_IEM_Domain_1km_MRI-CGCM3-RCP85_mmgt_pfTop_2021.tif', 'gipl2_IEM_Domain_1km_MRI-CGCM3-RCP85_mmgt_pfTop_2022.tif', 'gipl2_IEM_Domain_1km_MRI-CGCM3-RCP85_mmgt_pfTop_2023.tif', 'gipl2_IEM_Domain_1km_MRI-CGCM3-RCP85_mmgt_pfTop_2024.tif', 'gipl2_IEM_Domain_1km_MRI-CGCM3-RCP85_mmgt_pfTop_2025.tif', 'gipl2_IEM_Domain_1km_MRI-CGCM3-RCP85_mmgt_pfTop_2026.tif', 'gipl2_IEM_Domain_1km_MRI-CGCM3-RCP85_mmgt_pfTop_2027.tif', 'gipl2_IEM_Domain_1km_MRI-CGCM3-RCP85_mmgt_pfTop_2028.tif', 'gipl2_IEM_Domain_1km_MRI-CGCM3-RCP85_mmgt_pfTop_2029.tif', 'gipl2_IEM_Domain_1km_MRI-CGCM3-RCP85_mmgt_pfTop_2030.tif', 'gipl2_IEM_Domain_1km_MRI-CGCM3-RCP85_mmgt_pfTop_2031.tif', 'gipl2_IEM_Domain_1km_MRI-CGCM3-RCP85_mmgt_pfTop_2032.tif', 'gipl2_IEM_Domain_1km_MRI-CGCM3-RCP85_mmgt_pfTop_2033.tif', 'gipl2_IEM_Domain_1km_MRI-CGCM3-RCP85_mmgt_pfTop_2034.tif', 'gipl2_IEM_Domain_1km_MRI-CGCM3-RCP85_mmgt_pfTop_2035.tif', 'gipl2_IEM_Domain_1km_MRI-CGCM3-RCP85_mmgt_pfTop_2036.tif', 'gipl2_IEM_Domain_1km_MRI-CGCM3-RCP85_mmgt_pfTop_2037.tif', 'gipl2_IEM_Domain_1km_MRI-CGCM3-RCP85_mmgt_pfTop_2038.tif', 'gipl2_IEM_Domain_1km_MRI-CGCM3-RCP85_mmgt_pfTop_2039.tif', 'gipl2_IEM_Domain_1km_MRI-CGCM3-RCP85_mmgt_pfTop_2040.tif', 'gipl2_IEM_Domain_1km_MRI-CGCM3-RCP85_mmgt_pfTop_2041.tif', 'gipl2_IEM_Domain_1km_MRI-CGCM3-RCP85_mmgt_pfTop_2042.tif', 'gipl2_IEM_Domain_1km_MRI-CGCM3-RCP85_mmgt_pfTop_2043.tif', 'gipl2_IEM_Domain_1km_MRI-CGCM3-RCP85_mmgt_pfTop_2044.tif', 'gipl2_IEM_Domain_1km_MRI-CGCM3-RCP85_mmgt_pfTop_2045.tif', 'gipl2_IEM_Domain_1km_MRI-CGCM3-RCP85_mmgt_pfTop_2046.tif', 'gipl2_IEM_Domain_1km_MRI-CGCM3-RCP85_mmgt_pfTop_2047.tif', 'gipl2_IEM_Domain_1km_MRI-CGCM3-RCP85_mmgt_pfTop_2048.tif', 'gipl2_IEM_Domain_1km_MRI-CGCM3-RCP85_mmgt_pfTop_2049.tif', 'gipl2_IEM_Domain_1km_MRI-CGCM3-RCP85_mmgt_pfTop_2050.tif', 'gipl2_IEM_Domain_1km_MRI-CGCM3-RCP85_mmgt_pfTop_2051.tif', 'gipl2_IEM_Domain_1km_MRI-CGCM3-RCP85_mmgt_pfTop_2052.tif', 'gipl2_IEM_Domain_1km_MRI-CGCM3-RCP85_mmgt_pfTop_2053.tif', 'gipl2_IEM_Domain_1km_MRI-CGCM3-RCP85_mmgt_pfTop_2054.tif', 'gipl2_IEM_Domain_1km_MRI-CGCM3-RCP85_mmgt_pfTop_2055.tif', 'gipl2_IEM_Domain_1km_MRI-CGCM3-RCP85_mmgt_pfTop_2056.tif', 'gipl2_IEM_Domain_1km_MRI-CGCM3-RCP85_mmgt_pfTop_2057.tif', 'gipl2_IEM_Domain_1km_MRI-CGCM3-RCP85_mmgt_pfTop_2058.tif', 'gipl2_IEM_Domain_1km_MRI-CGCM3-RCP85_mmgt_pfTop_2059.tif', 'gipl2_IEM_Domain_1km_MRI-CGCM3-RCP85_mmgt_pfTop_2060.tif', 'gipl2_IEM_Domain_1km_MRI-CGCM3-RCP85_mmgt_pfTop_2061.tif', 'gipl2_IEM_Domain_1km_MRI-CGCM3-RCP85_mmgt_pfTop_2062.tif', 'gipl2_IEM_Domain_1km_MRI-CGCM3-RCP85_mmgt_pfTop_2063.tif', 'gipl2_IEM_Domain_1km_MRI-CGCM3-RCP85_mmgt_pfTop_2064.tif', 'gipl2_IEM_Domain_1km_MRI-CGCM3-RCP85_mmgt_pfTop_2065.tif', 'gipl2_IEM_Domain_1km_MRI-CGCM3-RCP85_mmgt_pfTop_2066.tif', 'gipl2_IEM_Domain_1km_MRI-CGCM3-RCP85_mmgt_pfTop_2067.tif', 'gipl2_IEM_Domain_1km_MRI-CGCM3-RCP85_mmgt_pfTop_2068.tif', 'gipl2_IEM_Domain_1km_MRI-CGCM3-RCP85_mmgt_pfTop_2069.tif', 'gipl2_IEM_Domain_1km_MRI-CGCM3-RCP85_mmgt_pfTop_2070.tif', 'gipl2_IEM_Domain_1km_MRI-CGCM3-RCP85_mmgt_pfTop_2071.tif', 'gipl2_IEM_Domain_1km_MRI-CGCM3-RCP85_mmgt_pfTop_2072.tif', 'gipl2_IEM_Domain_1km_MRI-CGCM3-RCP85_mmgt_pfTop_2073.tif', 'gipl2_IEM_Domain_1km_MRI-CGCM3-RCP85_mmgt_pfTop_2074.tif', 'gipl2_IEM_Domain_1km_MRI-CGCM3-RCP85_mmgt_pfTop_2075.tif', 'gipl2_IEM_Domain_1km_MRI-CGCM3-RCP85_mmgt_pfTop_2076.tif', 'gipl2_IEM_Domain_1km_MRI-CGCM3-RCP85_mmgt_pfTop_2077.tif', 'gipl2_IEM_Domain_1km_MRI-CGCM3-RCP85_mmgt_pfTop_2078.tif', 'gipl2_IEM_Domain_1km_MRI-CGCM3-RCP85_mmgt_pfTop_2079.tif', 'gipl2_IEM_Domain_1km_MRI-CGCM3-RCP85_mmgt_pfTop_2080.tif', 'gipl2_IEM_Domain_1km_MRI-CGCM3-RCP85_mmgt_pfTop_2081.tif', 'gipl2_IEM_Domain_1km_MRI-CGCM3-RCP85_mmgt_pfTop_2082.tif', 'gipl2_IEM_Domain_1km_MRI-CGCM3-RCP85_mmgt_pfTop_2083.tif', 'gipl2_IEM_Domain_1km_MRI-CGCM3-RCP85_mmgt_pfTop_2084.tif', 'gipl2_IEM_Domain_1km_MRI-CGCM3-RCP85_mmgt_pfTop_2085.tif', 'gipl2_IEM_Domain_1km_MRI-CGCM3-RCP85_mmgt_pfTop_2086.tif', 'gipl2_IEM_Domain_1km_MRI-CGCM3-RCP85_mmgt_pfTop_2087.tif', 'gipl2_IEM_Domain_1km_MRI-CGCM3-RCP85_mmgt_pfTop_2088.tif', 'gipl2_IEM_Domain_1km_MRI-CGCM3-RCP85_mmgt_pfTop_2089.tif', 'gipl2_IEM_Domain_1km_MRI-CGCM3-RCP85_mmgt_pfTop_2090.tif', 'gipl2_IEM_Domain_1km_MRI-CGCM3-RCP85_mmgt_pfTop_2091.tif', 'gipl2_IEM_Domain_1km_MRI-CGCM3-RCP85_mmgt_pfTop_2092.tif', 'gipl2_IEM_Domain_1km_MRI-CGCM3-RCP85_mmgt_pfTop_2093.tif', 'gipl2_IEM_Domain_1km_MRI-CGCM3-RCP85_mmgt_pfTop_2094.tif', 'gipl2_IEM_Domain_1km_MRI-CGCM3-RCP85_mmgt_pfTop_2095.tif', 'gipl2_IEM_Domain_1km_MRI-CGCM3-RCP85_mmgt_pfTop_2096.tif', 'gipl2_IEM_Domain_1km_MRI-CGCM3-RCP85_mmgt_pfTop_2097.tif', 'gipl2_IEM_Domain_1km_MRI-CGCM3-RCP85_mmgt_pfTop_2098.tif', 'gipl2_IEM_Domain_1km_MRI-CGCM3-RCP85_mmgt_pfTop_2099.tif', 'gipl2_IEM_Domain_1km_MRI-CGCM3-RCP85_mmgt_pfTop_2100.tif']\n",
      "[]\n",
      "[]\n"
     ]
    }
   ],
   "source": [
    "for model_scenario in file_di.keys():\n",
    "    print([x.name for x in file_di[model_scenario][\"no_month_parsed\"]])"
   ]
  },
  {
   "cell_type": "markdown",
   "id": "6cacb5d4-c322-458b-9b9a-34bb80fbde83",
   "metadata": {},
   "source": [
    "So these files are a mystery - there is no month information (and these were orginally zipped by variable, not by month), and the variable name scheme is conflicting as well with both `mmgt` and `pfTop` in the filename. We can take a peek at one file at least."
   ]
  },
  {
   "cell_type": "code",
   "execution_count": 51,
   "id": "a53ee11d-c858-4d7e-8ebf-f80485e4f1a0",
   "metadata": {},
   "outputs": [
    {
     "name": "stdout",
     "output_type": "stream",
     "text": [
      "Driver: GTiff/GeoTIFF\n",
      "Files: /atlas_scratch/cparr4/GIPL_IEM/extracted_monthly/gipl2_IEM_Domain_1km_MRI-CGCM3-RCP85_mmgt_pfTop_2006.tif\n",
      "Size is 2560, 1861\n",
      "Coordinate System is:\n",
      "PROJCRS[\"NAD_1983_Albers\",\n",
      "    BASEGEOGCRS[\"NAD83\",\n",
      "        DATUM[\"North American Datum 1983\",\n",
      "            ELLIPSOID[\"GRS 1980\",6378137,298.257222101004,\n",
      "                LENGTHUNIT[\"metre\",1]]],\n",
      "        PRIMEM[\"Greenwich\",0,\n",
      "            ANGLEUNIT[\"degree\",0.0174532925199433]],\n",
      "        ID[\"EPSG\",4269]],\n",
      "    CONVERSION[\"Albers Equal Area\",\n",
      "        METHOD[\"Albers Equal Area\",\n",
      "            ID[\"EPSG\",9822]],\n",
      "        PARAMETER[\"Latitude of false origin\",50,\n",
      "            ANGLEUNIT[\"degree\",0.0174532925199433],\n",
      "            ID[\"EPSG\",8821]],\n",
      "        PARAMETER[\"Longitude of false origin\",-154,\n",
      "            ANGLEUNIT[\"degree\",0.0174532925199433],\n",
      "            ID[\"EPSG\",8822]],\n",
      "        PARAMETER[\"Latitude of 1st standard parallel\",55,\n",
      "            ANGLEUNIT[\"degree\",0.0174532925199433],\n",
      "            ID[\"EPSG\",8823]],\n",
      "        PARAMETER[\"Latitude of 2nd standard parallel\",65,\n",
      "            ANGLEUNIT[\"degree\",0.0174532925199433],\n",
      "            ID[\"EPSG\",8824]],\n",
      "        PARAMETER[\"Easting at false origin\",0,\n",
      "            LENGTHUNIT[\"metre\",1],\n",
      "            ID[\"EPSG\",8826]],\n",
      "        PARAMETER[\"Northing at false origin\",0,\n",
      "            LENGTHUNIT[\"metre\",1],\n",
      "            ID[\"EPSG\",8827]]],\n",
      "    CS[Cartesian,2],\n",
      "        AXIS[\"easting\",east,\n",
      "            ORDER[1],\n",
      "            LENGTHUNIT[\"metre\",1,\n",
      "                ID[\"EPSG\",9001]]],\n",
      "        AXIS[\"northing\",north,\n",
      "            ORDER[2],\n",
      "            LENGTHUNIT[\"metre\",1,\n",
      "                ID[\"EPSG\",9001]]]]\n",
      "Data axis to CRS axis mapping: 1,2\n",
      "Origin = (-738286.416599999996834,2378458.068400000222027)\n",
      "Pixel Size = (1000.000000000000000,-1000.000000000000000)\n",
      "Metadata:\n",
      "  AREA_OR_POINT=Area\n",
      "Image Structure Metadata:\n",
      "  INTERLEAVE=BAND\n",
      "Corner Coordinates:\n",
      "Upper Left  ( -738286.417, 2378458.068) (173d37'20.11\"W, 70d23'57.61\"N)\n",
      "Lower Left  ( -738286.417,  517458.068) (165d19'37.20\"W, 54d 6'11.40\"N)\n",
      "Upper Right ( 1821713.583, 2378458.068) (111d13'12.14\"W, 65d53'35.03\"N)\n",
      "Lower Right ( 1821713.583,  517458.068) (127d18'44.63\"W, 51d19'34.08\"N)\n",
      "Center      (  541713.583, 1447958.068) (143d22'19.44\"W, 62d36'47.03\"N)\n",
      "Band 1 Block=128x128 Type=Float32, ColorInterp=Gray\n",
      "  Min=0.000 Max=19.835 \n",
      "  Minimum=0.000, Maximum=19.835, Mean=1.743, StdDev=1.146\n",
      "  NoData Value=-3.4028234663852886e+38\n",
      "  Metadata:\n",
      "    STATISTICS_COVARIANCES=1.313355251522678\n",
      "    STATISTICS_MAXIMUM=19.834999084473\n",
      "    STATISTICS_MEAN=1.7431778329612\n",
      "    STATISTICS_MINIMUM=0\n",
      "    STATISTICS_SKIPFACTORX=1\n",
      "    STATISTICS_SKIPFACTORY=1\n",
      "    STATISTICS_STDDEV=1.1460171253182\n",
      "\n"
     ]
    }
   ],
   "source": [
    "# call gdalinfo and capture the output\n",
    "gdalinfo_output = subprocess.check_output([\"gdalinfo\", file_di[\"MRI-CGCM3 RCP 8.5\"][\"no_month_parsed\"][0]])\n",
    "print(gdalinfo_output.decode())"
   ]
  },
  {
   "cell_type": "markdown",
   "id": "ec40bde5-c54e-4464-af5c-60dc1273df5c",
   "metadata": {},
   "source": [
    "Still no clues as to what month these data represent, but judging from the statistics fields this is the `pfTop` variable because the minimum value is zero, and not any mean monthly ground temperature (`mmgt`). "
   ]
  },
  {
   "cell_type": "code",
   "execution_count": 57,
   "id": "dc4ba70d-5ddf-4b02-b371-874a89bb3eed",
   "metadata": {},
   "outputs": [],
   "source": [
    "for model_scenario in file_di.keys():\n",
    "    file_di[model_scenario][\"no_month_count\"] = len(file_di[model_scenario][\"no_month_parsed\"])\n",
    "    for month in mo_names[1:]:\n",
    "        file_di[model_scenario][f\"{month}_count\"] = len(file_di[model_scenario][f\"{month}_files\"])"
   ]
  },
  {
   "cell_type": "code",
   "execution_count": 59,
   "id": "8ff97dbd-93e0-45dd-a983-ea286bf67659",
   "metadata": {},
   "outputs": [
    {
     "data": {
      "text/html": [
       "<div>\n",
       "<style scoped>\n",
       "    .dataframe tbody tr th:only-of-type {\n",
       "        vertical-align: middle;\n",
       "    }\n",
       "\n",
       "    .dataframe tbody tr th {\n",
       "        vertical-align: top;\n",
       "    }\n",
       "\n",
       "    .dataframe thead th {\n",
       "        text-align: right;\n",
       "    }\n",
       "</style>\n",
       "<table border=\"1\" class=\"dataframe\">\n",
       "  <thead>\n",
       "    <tr style=\"text-align: right;\">\n",
       "      <th></th>\n",
       "      <th>NCAR-CCSM4 RCP 8.5</th>\n",
       "      <th>MRI-CGCM3 RCP 8.5</th>\n",
       "      <th>NCAR-CCSM4 RCP 4.5</th>\n",
       "      <th>MRI-CGCM3 RCP 4.5</th>\n",
       "    </tr>\n",
       "  </thead>\n",
       "  <tbody>\n",
       "    <tr>\n",
       "      <th>jan_count</th>\n",
       "      <td>760</td>\n",
       "      <td>760</td>\n",
       "      <td>758</td>\n",
       "      <td>95</td>\n",
       "    </tr>\n",
       "    <tr>\n",
       "      <th>feb_count</th>\n",
       "      <td>760</td>\n",
       "      <td>760</td>\n",
       "      <td>760</td>\n",
       "      <td>760</td>\n",
       "    </tr>\n",
       "    <tr>\n",
       "      <th>mar_count</th>\n",
       "      <td>760</td>\n",
       "      <td>761</td>\n",
       "      <td>760</td>\n",
       "      <td>760</td>\n",
       "    </tr>\n",
       "    <tr>\n",
       "      <th>apr_count</th>\n",
       "      <td>760</td>\n",
       "      <td>760</td>\n",
       "      <td>759</td>\n",
       "      <td>760</td>\n",
       "    </tr>\n",
       "    <tr>\n",
       "      <th>may_count</th>\n",
       "      <td>760</td>\n",
       "      <td>760</td>\n",
       "      <td>759</td>\n",
       "      <td>760</td>\n",
       "    </tr>\n",
       "    <tr>\n",
       "      <th>jun_count</th>\n",
       "      <td>760</td>\n",
       "      <td>760</td>\n",
       "      <td>757</td>\n",
       "      <td>760</td>\n",
       "    </tr>\n",
       "    <tr>\n",
       "      <th>jul_count</th>\n",
       "      <td>760</td>\n",
       "      <td>760</td>\n",
       "      <td>760</td>\n",
       "      <td>760</td>\n",
       "    </tr>\n",
       "    <tr>\n",
       "      <th>aug_count</th>\n",
       "      <td>760</td>\n",
       "      <td>760</td>\n",
       "      <td>760</td>\n",
       "      <td>1177</td>\n",
       "    </tr>\n",
       "    <tr>\n",
       "      <th>sep_count</th>\n",
       "      <td>760</td>\n",
       "      <td>760</td>\n",
       "      <td>760</td>\n",
       "      <td>760</td>\n",
       "    </tr>\n",
       "    <tr>\n",
       "      <th>oct_count</th>\n",
       "      <td>768</td>\n",
       "      <td>665</td>\n",
       "      <td>759</td>\n",
       "      <td>772</td>\n",
       "    </tr>\n",
       "    <tr>\n",
       "      <th>nov_count</th>\n",
       "      <td>760</td>\n",
       "      <td>760</td>\n",
       "      <td>759</td>\n",
       "      <td>760</td>\n",
       "    </tr>\n",
       "    <tr>\n",
       "      <th>dec_count</th>\n",
       "      <td>760</td>\n",
       "      <td>672</td>\n",
       "      <td>759</td>\n",
       "      <td>760</td>\n",
       "    </tr>\n",
       "    <tr>\n",
       "      <th>no_month_count</th>\n",
       "      <td>0</td>\n",
       "      <td>95</td>\n",
       "      <td>0</td>\n",
       "      <td>0</td>\n",
       "    </tr>\n",
       "  </tbody>\n",
       "</table>\n",
       "</div>"
      ],
      "text/plain": [
       "               NCAR-CCSM4 RCP 8.5 MRI-CGCM3 RCP 8.5 NCAR-CCSM4 RCP 4.5  \\\n",
       "jan_count                     760               760                758   \n",
       "feb_count                     760               760                760   \n",
       "mar_count                     760               761                760   \n",
       "apr_count                     760               760                759   \n",
       "may_count                     760               760                759   \n",
       "jun_count                     760               760                757   \n",
       "jul_count                     760               760                760   \n",
       "aug_count                     760               760                760   \n",
       "sep_count                     760               760                760   \n",
       "oct_count                     768               665                759   \n",
       "nov_count                     760               760                759   \n",
       "dec_count                     760               672                759   \n",
       "no_month_count                  0                95                  0   \n",
       "\n",
       "               MRI-CGCM3 RCP 4.5  \n",
       "jan_count                     95  \n",
       "feb_count                    760  \n",
       "mar_count                    760  \n",
       "apr_count                    760  \n",
       "may_count                    760  \n",
       "jun_count                    760  \n",
       "jul_count                    760  \n",
       "aug_count                   1177  \n",
       "sep_count                    760  \n",
       "oct_count                    772  \n",
       "nov_count                    760  \n",
       "dec_count                    760  \n",
       "no_month_count                 0  "
      ]
     },
     "execution_count": 59,
     "metadata": {},
     "output_type": "execute_result"
    }
   ],
   "source": [
    "df = pd.DataFrame.from_dict(file_di)[-13:]\n",
    "df"
   ]
  },
  {
   "cell_type": "markdown",
   "id": "8bdf99e7-3129-4b25-83e9-f9bb0a5d8bb1",
   "metadata": {},
   "source": [
    "Huh, well I think we just need to go through these and find out why we have such differences across the months and models and scenarios. It seems like the most consistent \"standard\" here is 760 files per month per model-scenario. So, we'd expect 8 variables for each month for each year, for the 95 years in the time series."
   ]
  },
  {
   "cell_type": "code",
   "execution_count": 60,
   "id": "2246cb30-bc97-4082-b064-f42e9ca91d50",
   "metadata": {},
   "outputs": [
    {
     "data": {
      "text/plain": [
       "95.0"
      ]
     },
     "execution_count": 60,
     "metadata": {},
     "output_type": "execute_result"
    }
   ],
   "source": [
    "760 / 8"
   ]
  },
  {
   "cell_type": "markdown",
   "id": "80d81fa4-a95c-4a43-bf88-c726da5a6a1b",
   "metadata": {},
   "source": [
    "We'll create a reference based on this so we can take a closer look at each case that does not match this standard."
   ]
  },
  {
   "cell_type": "code",
   "execution_count": 61,
   "id": "23905fb3-f936-4dc9-a903-72ed96c94586",
   "metadata": {},
   "outputs": [
    {
     "name": "stdout",
     "output_type": "stream",
     "text": [
      "oct (array(['2005', '2006', '2007', '2008', '2009', '2010', '2011', '2012',\n",
      "       '2013', '2014', '2015', '2016', '2017', '2018', '2019', '2020',\n",
      "       '2021', '2022', '2023', '2024', '2025', '2026', '2027', '2028',\n",
      "       '2029', '2030', '2031', '2032', '2033', '2034', '2035', '2036',\n",
      "       '2037', '2038', '2039', '2040', '2041', '2042', '2043', '2044',\n",
      "       '2045', '2046', '2047', '2048', '2049', '2050', '2051', '2052',\n",
      "       '2053', '2054', '2055', '2056', '2057', '2058', '2059', '2060',\n",
      "       '2061', '2062', '2063', '2064', '2065', '2066', '2067', '2068',\n",
      "       '2069', '2070', '2071', '2072', '2073', '2074', '2075', '2076',\n",
      "       '2077', '2078', '2079', '2080', '2081', '2082', '2083', '2084',\n",
      "       '2085', '2086', '2087', '2088', '2089', '2090', '2091', '2092',\n",
      "       '2093', '2094', '2095', '2096', '2097', '2098', '2099', '2100'],\n",
      "      dtype='<U4'), array([8, 8, 8, 8, 8, 8, 8, 8, 8, 8, 8, 8, 8, 8, 8, 8, 8, 8, 8, 8, 8, 8,\n",
      "       8, 8, 8, 8, 8, 8, 8, 8, 8, 8, 8, 8, 8, 8, 8, 8, 8, 8, 8, 8, 8, 8,\n",
      "       8, 8, 8, 8, 8, 8, 8, 8, 8, 8, 8, 8, 8, 8, 8, 8, 8, 8, 8, 8, 8, 8,\n",
      "       8, 8, 8, 8, 8, 8, 8, 8, 8, 8, 8, 8, 8, 8, 8, 8, 8, 8, 8, 8, 8, 8,\n",
      "       8, 8, 8, 8, 8, 8, 8, 8]))\n"
     ]
    }
   ],
   "source": [
    "for mo in mo_names[1:]:\n",
    "    mo_years = [x.name.split(\"_\")[-1][:-4] for x in file_di[\"NCAR-CCSM4 RCP 8.5\"][f\"{mo}_files\"]]\n",
    "    mo_year_count = np.unique(mo_years, return_counts=True)\n",
    "    if mo_year_count[0].size != 95:\n",
    "        print(mo, mo_year_count)"
   ]
  },
  {
   "cell_type": "markdown",
   "id": "2e720df6-a926-4aec-b16c-66340ae9776c",
   "metadata": {},
   "source": [
    "So the NCAR-CCSM4 RCP 8.5 data look OK, except the month of October has data for 2005. We'll note that for sure, but otherwise it could just be omitted when building a coverage. We can see the MRI-CGCM3 RCP 8.5 data is a little less consistent, so we'll look at that next."
   ]
  },
  {
   "cell_type": "code",
   "execution_count": 62,
   "id": "21fc5fdd-384a-47bd-9461-0d63e2cb0857",
   "metadata": {},
   "outputs": [
    {
     "name": "stdout",
     "output_type": "stream",
     "text": [
      "mar (array(['2006', '2007', '2008', '2009', '2010', '2011', '2012', '2013',\n",
      "       '2014', '2015', '2016', '2017', '2018', '2019', '2020', '2021',\n",
      "       '2022', '2023', '2024', '2025', '2026', '2027', '2028', '2029',\n",
      "       '2030', '2031', '2032', '2033', '2034', '2035', '2036', '2037',\n",
      "       '2038', '2039', '2040', '2041', '2042', '2043', '2044', '2045',\n",
      "       '2046', '2047', '2048', '2049', '2050', '2051', '2052', '2053',\n",
      "       '2054', '2055', '2056', '2057', '2058', '2059', '2060', '2061',\n",
      "       '2062', '2063', '2064', '2065', '2066', '2067', '2068', '2069',\n",
      "       '2070', '2071', '2072', '2073', '2074', '2075', '2076', '2077',\n",
      "       '2078', '2079', '2080', '2081', '2082', '2083', '2084', '2085',\n",
      "       '2086', '2087', '2088', '2089', '2090', '2091', '2092', '2093',\n",
      "       '2094', '2095', '2096', '2097', '2098', '2099', '2100', '2101'],\n",
      "      dtype='<U4'), array([8, 8, 8, 8, 8, 8, 8, 8, 8, 8, 8, 8, 8, 8, 8, 8, 8, 8, 8, 8, 8, 8,\n",
      "       8, 8, 8, 8, 8, 8, 8, 8, 8, 8, 8, 8, 8, 8, 8, 8, 8, 8, 8, 8, 8, 8,\n",
      "       8, 8, 8, 8, 8, 8, 8, 8, 8, 8, 8, 8, 8, 8, 8, 8, 8, 8, 8, 8, 8, 8,\n",
      "       8, 8, 8, 8, 8, 8, 8, 8, 8, 8, 8, 8, 8, 8, 8, 8, 8, 8, 8, 8, 8, 8,\n",
      "       8, 8, 8, 8, 8, 8, 8, 1]))\n",
      "dec (array(['2005', '2006', '2007', '2008', '2009', '2010', '2011', '2012',\n",
      "       '2013', '2014', '2015', '2016', '2017', '2018', '2019', '2020',\n",
      "       '2021', '2022', '2023', '2024', '2025', '2026', '2027', '2028',\n",
      "       '2029', '2030', '2031', '2032', '2033', '2034', '2035', '2036',\n",
      "       '2037', '2038', '2039', '2040', '2041', '2042', '2043', '2044',\n",
      "       '2045', '2046', '2047', '2048', '2049', '2050', '2051', '2052',\n",
      "       '2053', '2054', '2055', '2056', '2057', '2058', '2059', '2060',\n",
      "       '2061', '2062', '2063', '2064', '2065', '2066', '2067', '2068',\n",
      "       '2069', '2070', '2071', '2072', '2073', '2074', '2075', '2076',\n",
      "       '2077', '2078', '2079', '2080', '2081', '2082', '2083', '2084',\n",
      "       '2085', '2086', '2087', '2088', '2089', '2090', '2091', '2092',\n",
      "       '2093', '2094', '2095', '2096', '2097', '2098', '2099', '2100'],\n",
      "      dtype='<U4'), array([7, 7, 7, 7, 7, 7, 7, 7, 7, 7, 7, 7, 7, 7, 7, 7, 7, 7, 7, 7, 7, 7,\n",
      "       7, 7, 7, 7, 7, 7, 7, 7, 7, 7, 7, 7, 7, 7, 7, 7, 7, 7, 7, 7, 7, 7,\n",
      "       7, 7, 7, 7, 7, 7, 7, 7, 7, 7, 7, 7, 7, 7, 7, 7, 7, 7, 7, 7, 7, 7,\n",
      "       7, 7, 7, 7, 7, 7, 7, 7, 7, 7, 7, 7, 7, 7, 7, 7, 7, 7, 7, 7, 7, 7,\n",
      "       7, 7, 7, 7, 7, 7, 7, 7]))\n"
     ]
    }
   ],
   "source": [
    "for mo in mo_names[1:]:\n",
    "    mo_years = [x.name.split(\"_\")[-1][:-4] for x in file_di[\"MRI-CGCM3 RCP 8.5\"][f\"{mo}_files\"]]\n",
    "    mo_year_count = np.unique(mo_years, return_counts=True)\n",
    "    if mo_year_count[0].size != 95:\n",
    "        print(mo, mo_year_count)"
   ]
  },
  {
   "cell_type": "code",
   "execution_count": 63,
   "id": "f3643491-feaf-40e4-bef1-186915e4ec17",
   "metadata": {},
   "outputs": [
    {
     "data": {
      "text/plain": [
       "[]"
      ]
     },
     "execution_count": 63,
     "metadata": {},
     "output_type": "execute_result"
    }
   ],
   "source": [
    "[x.name for x in file_di[\"MRI-CGCM3 RCP 8.5\"][\"dec_files\"] if 'pftop' in x.name.lower()]"
   ]
  },
  {
   "cell_type": "markdown",
   "id": "94570343-db13-411d-b954-7a28a221623a",
   "metadata": {},
   "source": [
    "MRI-CGCM3 RCP 8.5 March has 1 variable for 2101 - we could just omit that. But December is missing the permafrost top variable for all years, but does have 7 variables for 2005. What about October?"
   ]
  },
  {
   "cell_type": "code",
   "execution_count": 64,
   "id": "7db5fabf-17e8-4fbc-9b36-7d2543a7ace0",
   "metadata": {},
   "outputs": [
    {
     "data": {
      "text/plain": [
       "[]"
      ]
     },
     "execution_count": 64,
     "metadata": {},
     "output_type": "execute_result"
    }
   ],
   "source": [
    "[x.name for x in file_di[\"MRI-CGCM3 RCP 8.5\"][\"oct_files\"] if 'pftop' in x.name.lower()]"
   ]
  },
  {
   "cell_type": "code",
   "execution_count": 65,
   "id": "90332ebf-db73-43b8-9109-ead2f943aebf",
   "metadata": {},
   "outputs": [
    {
     "data": {
      "text/plain": [
       "95"
      ]
     },
     "execution_count": 65,
     "metadata": {},
     "output_type": "execute_result"
    }
   ],
   "source": [
    "760 - file_di[\"MRI-CGCM3 RCP 8.5\"][\"oct_count\"]"
   ]
  },
  {
   "cell_type": "markdown",
   "id": "972643ad-31d2-486c-afec-2946faeaffd3",
   "metadata": {},
   "source": [
    "MRI-CGCM3 RCP 8.5 October is missing  `pftop` for all years (2006-2100). Next we'll look at NCAR-CCSM4 RCP 4.5. We can see from the table that all the anomalous monthly file counts are less than the 760 benchmark, so maybe these are missing `pftop` or missing years as well."
   ]
  },
  {
   "cell_type": "code",
   "execution_count": 66,
   "id": "d8529f16-8a83-4c62-9a6e-c171a873abe8",
   "metadata": {},
   "outputs": [
    {
     "name": "stdout",
     "output_type": "stream",
     "text": [
      "jan\n",
      "apr\n",
      "may\n",
      "jun\n",
      "oct\n",
      "nov\n",
      "dec\n"
     ]
    }
   ],
   "source": [
    "for mo in mo_names[1:]:\n",
    "    mo_years = [x.name.split(\"_\")[-1][:-4] for x in file_di[\"NCAR-CCSM4 RCP 4.5\"][f\"{mo}_files\"]]\n",
    "    mo_year_count = np.unique(mo_years, return_counts=True)\n",
    "    if mo_year_count[0].size != 95:\n",
    "        print(\"Strange number of years:\")\n",
    "        print(mo, mo_year_count)\n",
    "    if mo_year_count[1].min() != 8:\n",
    "        print(mo)"
   ]
  },
  {
   "cell_type": "markdown",
   "id": "3106f9fe-1bcc-491a-b9c9-6eae2d178cf8",
   "metadata": {},
   "source": [
    "So the year sequence is in fine (2006-2100), but the above months are missing variables."
   ]
  },
  {
   "cell_type": "code",
   "execution_count": 67,
   "id": "1bc3afca-3895-4030-89bc-1ee4b11ee9b3",
   "metadata": {},
   "outputs": [
    {
     "name": "stdout",
     "output_type": "stream",
     "text": [
      "\n",
      "jan is missing 1 variables for 2011:\n",
      "list of current jan 2011 files:\n",
      "['nad83_mmgt_Jan_0.5m_', 'nad83_mmgt_Jan_1m_', 'nad83_mmgt_Jan_2m_', 'nad83_mmgt_Jan_3m_', 'nad83_mmgt_Jan_5m_', 'nad83_mmgt_Jan_pfTop_', 'nad83_mmgt_Jan_Surf_']\n",
      "\n",
      "jan is missing 1 variables for 2042:\n",
      "list of current jan 2042 files:\n",
      "['nad83_mmgt_Jan_1m_', 'nad83_mmgt_Jan_2m_', 'nad83_mmgt_Jan_3m_', 'nad83_mmgt_Jan_4m_', 'nad83_mmgt_Jan_5m_', 'nad83_mmgt_Jan_pfTop_', 'nad83_mmgt_Jan_Surf_']\n",
      "\n",
      "apr is missing 1 variables for 2044:\n",
      "list of current apr 2044 files:\n",
      "['nad83_mmgt_Apr_0.5m_', 'nad83_mmgt_Apr_1m_', 'nad83_mmgt_Apr_2m_', 'nad83_mmgt_Apr_3m_', 'nad83_mmgt_Apr_4m_', 'nad83_mmgt_Apr_5m_', 'nad83_mmgt_Apr_pfTop_']\n",
      "\n",
      "may is missing 1 variables for 2006:\n",
      "list of current may 2006 files:\n",
      "['nad83_mmgt_May_1m_', 'nad83_mmgt_May_0.5m_', 'nad83_mmgt_May_2m_', 'nad83_mmgt_May_3m_', 'nad83_mmgt_May_4m_', 'nad83_mmgt_May_pfTop_', 'nad83_mmgt_May_Surf_']\n",
      "\n",
      "jun is missing 1 variables for 2038:\n",
      "list of current jun 2038 files:\n",
      "['nad83_mmgt_Jun_0.5m_', 'nad83_mmgt_Jun_1m_', 'nad83_mmgt_Jun_2m_', 'nad83_mmgt_Jun_3m_', 'nad83_mmgt_Jun_4m_', 'nad83_mmgt_Jun_5m_', 'nad83_mmgt_Jun_pfTop_']\n",
      "\n",
      "jun is missing 1 variables for 2072:\n",
      "list of current jun 2072 files:\n",
      "['nad83_mmgt_Jun_0.5m_', 'nad83_mmgt_Jun_1m_', 'nad83_mmgt_Jun_2m_', 'nad83_mmgt_Jun_4m_', 'nad83_mmgt_Jun_5m_', 'nad83_mmgt_Jun_pfTop_', 'nad83_mmgt_Jun_Surf_']\n",
      "\n",
      "jun is missing 1 variables for 2094:\n",
      "list of current jun 2094 files:\n",
      "['nad83_mmgt_Jun_0.5m_', 'nad83_mmgt_Jun_1m_', 'nad83_mmgt_Jun_3m_', 'nad83_mmgt_Jun_4m_', 'nad83_mmgt_Jun_5m_', 'nad83_mmgt_Jun_pfTop_', 'nad83_mmgt_Jun_Surf_']\n",
      "\n",
      "oct is missing 1 variables for 2064:\n",
      "list of current oct 2064 files:\n",
      "['nad83_mmgt_Oct_0.5m_', 'nad83_mmgt_Oct_1m_', 'nad83_mmgt_Oct_3m_', 'nad83_mmgt_Oct_4m_', 'nad83_mmgt_Oct_5m_', 'nad83_mmgt_Oct_pfTop_', 'nad83_mmgt_Oct_Surf_']\n",
      "\n",
      "nov is missing 1 variables for 2060:\n",
      "list of current nov 2060 files:\n",
      "['nad83_mmgt_Nov_0.5m_', 'nad83_mmgt_Nov_1m_', 'nad83_mmgt_Nov_2m_', 'nad83_mmgt_Nov_3m_', 'nad83_mmgt_Nov_5m_', 'nad83_mmgt_Nov_pfTop_', 'nad83_mmgt_Nov_Surf_']\n",
      "\n",
      "dec is missing 1 variables for 2006:\n",
      "list of current dec 2006 files:\n",
      "['nad83_mmgt_Dec_0.5m_', 'nad83_mmgt_Dec_1m_', 'nad83_mmgt_Dec_2m_', 'nad83_mmgt_Dec_3m_', 'nad83_mmgt_Dec_4m_', 'nad83_mmgt_Dec_5m_', 'nad83_mmgt_Dec_pfTop_']\n"
     ]
    }
   ],
   "source": [
    "for mo in mo_names[1:]:\n",
    "    mo_years = [x.name.split(\"_\")[-1][:-4] for x in file_di[\"NCAR-CCSM4 RCP 4.5\"][f\"{mo}_files\"]]\n",
    "    mo_year_count = np.unique(mo_years, return_counts=True)\n",
    "    for yr, ct in zip(list(mo_year_count[0]), list(mo_year_count[1])):\n",
    "        if ct !=8:\n",
    "            print(f\"\\n{mo} is missing {8 - ct} variables for {yr}:\")\n",
    "            print(f\"list of current {mo} {yr} files:\")\n",
    "            # arbitary clipping to make this output more legible\n",
    "            print([x.name[42:-8] for x in file_di[\"NCAR-CCSM4 RCP 4.5\"][f\"{mo}_files\"] if yr in x.name])"
   ]
  },
  {
   "cell_type": "markdown",
   "id": "13995177-09da-44d3-9cdd-7bbc759bead6",
   "metadata": {},
   "source": [
    "Alright, so for NCAR-CCSM4 RCP 4.5:\n",
    " - January 2011 is missing MMGT 4 m.\n",
    " - January 2042 is missing MMGT 0.5 m.\n",
    " - April 2044 is missing MMGT Surface.\n",
    " - May 2006 is missing MMGT 0.5 m.\n",
    " - June 2038 is missing MMGT Surface.\n",
    " - June 2072 is missing MMGT 3 m.\n",
    " - June 2094 is missing MMGT 2 m.\n",
    " - October 2064 is missing MMGT 2 m.\n",
    " - November 2060 is missing MMGT 4 m.\n",
    " - December 2006 is missing MMGT Surface.\n",
    " \n",
    "The final case, MRI-CGCM3 RCP 4.5, has the most variance. January only has 95 files, and two months more files than the 760 benchmark."
   ]
  },
  {
   "cell_type": "code",
   "execution_count": 68,
   "id": "833cb9f6-6475-4d59-b0e0-841f42b181de",
   "metadata": {},
   "outputs": [
    {
     "name": "stdout",
     "output_type": "stream",
     "text": [
      "aug (array(['2006', '2007', '2008', '2009', '2010', '2011', '2012', '2013',\n",
      "       '2014', '2015', '2016', '2017', '2018', '2019', '2020', '2021',\n",
      "       '2022', '2023', '2024', '2025', '2026', '2027', '2028', '2029',\n",
      "       '2030', '2031', '2032', '2033', '2034', '2035', '2036', '2037',\n",
      "       '2038', '2039', '2040', '2041', '2042', '2043', '2044', '2045',\n",
      "       '2046', '2047', '2048', '2049', '2050', '2051', '2052', '2053',\n",
      "       '2054', '2055', '2056', '2057', '2058', '2059', '2060', '2061',\n",
      "       '2062', '2063', '2064', '2065', '2066', '2067', '2068', '2069',\n",
      "       '2070', '2071', '2072', '2073', '2074', '2075', '2076', '2077',\n",
      "       '2078', '2079', '2080', '2081', '2082', '2083', '2084', '2085',\n",
      "       '2086', '2087', '2088', '2089', '2090', '2091', '2092', '2093',\n",
      "       '2094', '2095', '2096', '2097', '2098', '2099', '2100', '2101',\n",
      "       '2102', '2103', '2104', '2105', '2106', '2107', '2108', '2109',\n",
      "       '2110', '2111', '2112', '2113', '2114', '2115', '2116', '2117',\n",
      "       '2118', '2119', '2120', '2121', '2122', '2123', '2124', '2125',\n",
      "       '2126', '2127', '2128', '2129', '2130', '2131', '2132', '2133',\n",
      "       '2134', '2135', '2136', '2137', '2138', '2139', '2140', '2141',\n",
      "       '2142', '2143', '2144', '2145', '2146', '2147', '2148', '2149',\n",
      "       '2150', '2151', '2152', '2153', '2154', '2155', '2156', '2157',\n",
      "       '2158', '2159', '2160', '2161', '2162', '2163', '2164', '2165',\n",
      "       '2166', '2167', '2168', '2169', '2170', '2171', '2172', '2173',\n",
      "       '2174', '2175', '2176', '2177', '2178', '2179', '2180', '2181',\n",
      "       '2182', '2183', '2184', '2185', '2186', '2187', '2188', '2189',\n",
      "       '2190', '2191', '2192', '2193', '2194', '2195', '2196', '2197',\n",
      "       '2198', '2199', '2200', '2201', '2202', '2203', '2204', '2205',\n",
      "       '2206', '2207', '2208', '2209', '2210', '2211', '2212', '2213',\n",
      "       '2214', '2215', '2216', '2217', '2218', '2219', '2220', '2221',\n",
      "       '2222', '2223', '2224', '2225', '2226', '2227', '2228', '2229',\n",
      "       '2230', '2231', '2232', '2233', '2234', '2235', '2236', '2237',\n",
      "       '2238', '2239', '2240', '2241', '2242', '2243', '2244', '2245',\n",
      "       '2246', '2247', '2248', '2249', '2250', '2251', '2252', '2253',\n",
      "       '2254', '2255', '2256', '2257', '2258', '2259', '2260', '2261',\n",
      "       '2262', '2263', '2264', '2265', '2266', '2267', '2268', '2269',\n",
      "       '2270', '2271', '2272', '2273', '2274', '2275', '2276', '2277',\n",
      "       '2278', '2279', '2280', '2281', '2282', '2283', '2284', '2285',\n",
      "       '2286', '2287', '2288', '2289', '2290', '2291', '2292', '2293',\n",
      "       '2294', '2295', '2296', '2297', '2298', '2299', '2300', '2301',\n",
      "       '2302', '2303', '2304', '2305', '2306', '2307', '2308', '2309',\n",
      "       '2310', '2311', '2312', '2313', '2314', '2315', '2316', '2317',\n",
      "       '2318', '2319', '2320', '2321', '2322', '2323', '2324', '2325',\n",
      "       '2326', '2327', '2328', '2329', '2330', '2331', '2332', '2333',\n",
      "       '2334', '2335', '2336', '2337', '2338', '2339', '2340', '2341',\n",
      "       '2342', '2343', '2344', '2345', '2346', '2347', '2348', '2349',\n",
      "       '2350', '2351', '2352', '2353', '2354', '2355', '2356', '2357',\n",
      "       '2358', '2359', '2360', '2361', '2362', '2363', '2364', '2365',\n",
      "       '2366', '2367', '2368', '2369', '2370', '2371', '2372', '2373',\n",
      "       '2374', '2375', '2376', '2377', '2378', '2379', '2380', '2381',\n",
      "       '2382', '2383', '2384', '2385', '2386', '2387', '2388', '2389',\n",
      "       '2390', '2391', '2392', '2393', '2394', '2395', '2396', '2397',\n",
      "       '2398', '2399', '2400', '2401', '2402', '2403', '2404', '2405',\n",
      "       '2406', '2407', '2408', '2409', '2410', '2411', '2412', '2413',\n",
      "       '2414', '2415', '2416', '2417', '2418', '2419', '2420', '2421',\n",
      "       '2422', '2423', '2424', '2425', '2426', '2427', '2428', '2429',\n",
      "       '2430', '2431', '2432', '2433', '2434', '2435', '2436', '2437',\n",
      "       '2438', '2439', '2440', '2441', '2442', '2443', '2444', '2445',\n",
      "       '2446', '2447', '2448', '2449', '2450', '2451', '2452', '2453',\n",
      "       '2454', '2455', '2456', '2457', '2458', '2459', '2460', '2461',\n",
      "       '2462', '2463', '2464', '2465', '2466', '2467', '2468', '2469',\n",
      "       '2470', '2471', '2472', '2473', '2474', '2475', '2476', '2477',\n",
      "       '2478', '2479', '2480', '2481', '2482', '2483', '2484', '2485',\n",
      "       '2486', '2487', '2488', '2489', '2490', '2491', '2492', '2493',\n",
      "       '2494', '2495', '2496', '2497', '2498', '2499', '2500', '2501',\n",
      "       '2502', '2503', '2504', '2505'], dtype='<U4'), array([8, 8, 8, 8, 8, 8, 8, 8, 8, 8, 8, 8, 8, 8, 8, 8, 8, 8, 8, 8, 8, 8,\n",
      "       8, 8, 8, 8, 8, 8, 8, 8, 8, 8, 8, 8, 8, 8, 8, 8, 8, 8, 8, 8, 8, 8,\n",
      "       8, 8, 8, 8, 8, 8, 8, 8, 8, 8, 8, 8, 8, 8, 8, 8, 8, 8, 8, 8, 8, 8,\n",
      "       8, 8, 8, 8, 8, 8, 8, 8, 8, 8, 8, 8, 8, 8, 8, 8, 8, 8, 8, 8, 8, 8,\n",
      "       8, 8, 8, 8, 8, 8, 8, 3, 3, 3, 3, 3, 3, 1, 1, 1, 1, 1, 1, 1, 1, 1,\n",
      "       1, 1, 1, 1, 1, 1, 1, 1, 1, 1, 1, 1, 1, 1, 1, 1, 1, 1, 1, 1, 1, 1,\n",
      "       1, 1, 1, 1, 1, 1, 1, 1, 1, 1, 1, 1, 1, 1, 1, 1, 1, 1, 1, 1, 1, 1,\n",
      "       1, 1, 1, 1, 1, 1, 1, 1, 1, 1, 1, 1, 1, 1, 1, 1, 1, 1, 1, 1, 1, 1,\n",
      "       1, 1, 1, 1, 1, 1, 1, 1, 1, 1, 1, 1, 1, 1, 1, 1, 1, 1, 1, 1, 1, 1,\n",
      "       1, 1, 1, 1, 1, 1, 1, 1, 1, 1, 1, 1, 1, 1, 1, 1, 1, 1, 1, 1, 1, 1,\n",
      "       1, 1, 1, 1, 1, 1, 1, 1, 1, 1, 1, 1, 1, 1, 1, 1, 1, 1, 1, 1, 1, 1,\n",
      "       1, 1, 1, 1, 1, 1, 1, 1, 1, 1, 1, 1, 1, 1, 1, 1, 1, 1, 1, 1, 1, 1,\n",
      "       1, 1, 1, 1, 1, 1, 1, 1, 1, 1, 1, 1, 1, 1, 1, 1, 1, 1, 1, 1, 1, 1,\n",
      "       1, 1, 1, 1, 1, 1, 1, 1, 1, 1, 1, 1, 1, 1, 1, 1, 1, 1, 1, 1, 1, 1,\n",
      "       1, 1, 1, 1, 1, 1, 1, 1, 1, 1, 1, 1, 1, 1, 1, 1, 1, 1, 1, 1, 1, 1,\n",
      "       1, 1, 1, 1, 1, 1, 1, 1, 1, 1, 1, 1, 1, 1, 1, 1, 1, 1, 1, 1, 1, 1,\n",
      "       1, 1, 1, 1, 1, 1, 1, 1, 1, 1, 1, 1, 1, 1, 1, 1, 1, 1, 1, 1, 1, 1,\n",
      "       1, 1, 1, 1, 1, 1, 1, 1, 1, 1, 1, 1, 1, 1, 1, 1, 1, 1, 1, 1, 1, 1,\n",
      "       1, 1, 1, 1, 1, 1, 1, 1, 1, 1, 1, 1, 1, 1, 1, 1, 1, 1, 1, 1, 1, 1,\n",
      "       1, 1, 1, 1, 1, 1, 1, 1, 1, 1, 1, 1, 1, 1, 1, 1, 1, 1, 1, 1, 1, 1,\n",
      "       1, 1, 1, 1, 1, 1, 1, 1, 1, 1, 1, 1, 1, 1, 1, 1, 1, 1, 1, 1, 1, 1,\n",
      "       1, 1, 1, 1, 1, 1, 1, 1, 1, 1, 1, 1, 1, 1, 1, 1, 1, 1, 1, 1, 1, 1,\n",
      "       1, 1, 1, 1, 1, 1, 1, 1, 1, 1, 1, 1, 1, 1, 1, 1]))\n",
      "oct (array(['2006', '2007', '2008', '2009', '2010', '2011', '2012', '2013',\n",
      "       '2014', '2015', '2016', '2017', '2018', '2019', '2020', '2021',\n",
      "       '2022', '2023', '2024', '2025', '2026', '2027', '2028', '2029',\n",
      "       '2030', '2031', '2032', '2033', '2034', '2035', '2036', '2037',\n",
      "       '2038', '2039', '2040', '2041', '2042', '2043', '2044', '2045',\n",
      "       '2046', '2047', '2048', '2049', '2050', '2051', '2052', '2053',\n",
      "       '2054', '2055', '2056', '2057', '2058', '2059', '2060', '2061',\n",
      "       '2062', '2063', '2064', '2065', '2066', '2067', '2068', '2069',\n",
      "       '2070', '2071', '2072', '2073', '2074', '2075', '2076', '2077',\n",
      "       '2078', '2079', '2080', '2081', '2082', '2083', '2084', '2085',\n",
      "       '2086', '2087', '2088', '2089', '2090', '2091', '2092', '2093',\n",
      "       '2094', '2095', '2096', '2097', '2098', '2099', '2100', '2101',\n",
      "       '2102', '2103', '2104', '2105', '2106'], dtype='<U4'), array([8, 8, 8, 8, 8, 8, 8, 8, 8, 8, 8, 8, 8, 8, 8, 8, 8, 8, 8, 8, 8, 8,\n",
      "       8, 8, 8, 8, 8, 8, 8, 8, 8, 8, 8, 8, 8, 8, 8, 8, 8, 8, 8, 8, 8, 8,\n",
      "       8, 8, 8, 8, 8, 8, 8, 8, 8, 8, 8, 8, 8, 8, 8, 8, 8, 8, 8, 8, 8, 8,\n",
      "       8, 8, 8, 8, 8, 8, 8, 8, 8, 8, 8, 8, 8, 8, 8, 8, 8, 8, 8, 8, 8, 8,\n",
      "       8, 8, 8, 8, 8, 8, 8, 2, 2, 2, 2, 2, 2]))\n"
     ]
    }
   ],
   "source": [
    "for mo in mo_names[1:]:\n",
    "    mo_years = [x.name.split(\"_\")[-1][:-4] for x in file_di[\"MRI-CGCM3 RCP 4.5\"][f\"{mo}_files\"]]\n",
    "    mo_year_count = np.unique(mo_years, return_counts=True)\n",
    "    if mo_year_count[0].size != 95:\n",
    "        print(mo, mo_year_count)"
   ]
  },
  {
   "cell_type": "markdown",
   "id": "2c90cfa6-c143-4d1e-a769-07c81d16d09f",
   "metadata": {},
   "source": [
    "Wow, so October has two files for some bonus years of 2101 through 2106! And August just has loads of bonus years...between 2101 and...2505!"
   ]
  },
  {
   "cell_type": "code",
   "execution_count": 69,
   "id": "39efa181-d22a-4548-9515-463ab6a51b03",
   "metadata": {},
   "outputs": [
    {
     "data": {
      "text/plain": [
       "['_08_gipl2_MRI-CGCM3-RCP45_IEM_Domain_1km_nad83_mmgt_Surf_08_2505.tif']"
      ]
     },
     "execution_count": 69,
     "metadata": {},
     "output_type": "execute_result"
    }
   ],
   "source": [
    "[x.name for x in file_di[\"MRI-CGCM3 RCP 4.5\"][\"aug_files\"] if \"2505\" in x.name]"
   ]
  },
  {
   "cell_type": "code",
   "execution_count": 70,
   "id": "64a847d0-bbfd-4060-b0dc-1b39d412231b",
   "metadata": {},
   "outputs": [
    {
     "data": {
      "text/plain": [
       "['_08_gipl2_MRI-CGCM3-RCP45_IEM_Domain_1km_nad83_mmgt_0.5m_08_2101.tif',\n",
       " '_08_gipl2_MRI-CGCM3-RCP45_IEM_Domain_1km_nad83_mmgt_1m_08_2101.tif',\n",
       " '_08_gipl2_MRI-CGCM3-RCP45_IEM_Domain_1km_nad83_mmgt_Surf_08_2101.tif']"
      ]
     },
     "execution_count": 70,
     "metadata": {},
     "output_type": "execute_result"
    }
   ],
   "source": [
    "[x.name for x in file_di[\"MRI-CGCM3 RCP 4.5\"][\"aug_files\"] if \"2101\" in x.name]"
   ]
  },
  {
   "cell_type": "code",
   "execution_count": 71,
   "id": "d034d4c9-c118-4c77-ac35-5dd9303e582f",
   "metadata": {},
   "outputs": [
    {
     "data": {
      "text/plain": [
       "['_08_gipl2_MRI-CGCM3-RCP45_IEM_Domain_1km_nad83_mmgt_0.5m_08_2100.tif',\n",
       " '_08_gipl2_MRI-CGCM3-RCP45_IEM_Domain_1km_nad83_mmgt_1m_08_2100.tif',\n",
       " '_08_gipl2_MRI-CGCM3-RCP45_IEM_Domain_1km_nad83_mmgt_2m_08_2100.tif',\n",
       " '_08_gipl2_MRI-CGCM3-RCP45_IEM_Domain_1km_nad83_mmgt_3m_08_2100.tif',\n",
       " '_08_gipl2_MRI-CGCM3-RCP45_IEM_Domain_1km_nad83_mmgt_4m_08_2100.tif',\n",
       " '_08_gipl2_MRI-CGCM3-RCP45_IEM_Domain_1km_nad83_mmgt_5m_08_2100.tif',\n",
       " '_08_gipl2_MRI-CGCM3-RCP45_IEM_Domain_1km_nad83_pfTop_08_2100.tif',\n",
       " '_08_gipl2_MRI-CGCM3-RCP45_IEM_Domain_1km_nad83_mmgt_Surf_08_2100.tif']"
      ]
     },
     "execution_count": 71,
     "metadata": {},
     "output_type": "execute_result"
    }
   ],
   "source": [
    "[x.name for x in file_di[\"MRI-CGCM3 RCP 4.5\"][\"aug_files\"] if \"2100\" in x.name]"
   ]
  },
  {
   "cell_type": "code",
   "execution_count": 72,
   "id": "1eca9478-87a8-4ed8-b622-8563a14ecc6a",
   "metadata": {},
   "outputs": [
    {
     "data": {
      "text/plain": [
       "['_10_gipl2_MRI-CGCM3-RCP45_IEM_Domain_1km_nad83_mmgt_0.5m_10_2100.tif',\n",
       " '_10_gipl2_MRI-CGCM3-RCP45_IEM_Domain_1km_nad83_mmgt_1m_10_2100.tif',\n",
       " '_10_gipl2_MRI-CGCM3-RCP45_IEM_Domain_1km_nad83_mmgt_2m_10_2100.tif',\n",
       " '_10_gipl2_MRI-CGCM3-RCP45_IEM_Domain_1km_nad83_mmgt_3m_10_2100.tif',\n",
       " '_10_gipl2_MRI-CGCM3-RCP45_IEM_Domain_1km_nad83_mmgt_4m_10_2100.tif',\n",
       " '_10_gipl2_MRI-CGCM3-RCP45_IEM_Domain_1km_nad83_mmgt_5m_10_2100.tif',\n",
       " '_10_gipl2_MRI-CGCM3-RCP45_IEM_Domain_1km_nad83_pfTop_10_2100.tif',\n",
       " '_10_gipl2_MRI-CGCM3-RCP45_IEM_Domain_1km_nad83_mmgt_Surf_10_2100.tif']"
      ]
     },
     "execution_count": 72,
     "metadata": {},
     "output_type": "execute_result"
    }
   ],
   "source": [
    "[x.name for x in file_di[\"MRI-CGCM3 RCP 4.5\"][\"oct_files\"] if \"2100\" in x.name]"
   ]
  },
  {
   "cell_type": "code",
   "execution_count": 73,
   "id": "ed455445-8572-4291-b2f2-af6c3395fd0b",
   "metadata": {},
   "outputs": [
    {
     "data": {
      "text/plain": [
       "['_01_gipl2_MRI-CGCM3-RCP45_IEM_Domain_1km_nad83_mmgt_0.5m_01_2006.tif',\n",
       " '_01_gipl2_MRI-CGCM3-RCP45_IEM_Domain_1km_nad83_mmgt_0.5m_01_2007.tif',\n",
       " '_01_gipl2_MRI-CGCM3-RCP45_IEM_Domain_1km_nad83_mmgt_0.5m_01_2008.tif',\n",
       " '_01_gipl2_MRI-CGCM3-RCP45_IEM_Domain_1km_nad83_mmgt_0.5m_01_2009.tif',\n",
       " '_01_gipl2_MRI-CGCM3-RCP45_IEM_Domain_1km_nad83_mmgt_0.5m_01_2010.tif',\n",
       " '_01_gipl2_MRI-CGCM3-RCP45_IEM_Domain_1km_nad83_mmgt_0.5m_01_2011.tif',\n",
       " '_01_gipl2_MRI-CGCM3-RCP45_IEM_Domain_1km_nad83_mmgt_0.5m_01_2012.tif',\n",
       " '_01_gipl2_MRI-CGCM3-RCP45_IEM_Domain_1km_nad83_mmgt_0.5m_01_2013.tif',\n",
       " '_01_gipl2_MRI-CGCM3-RCP45_IEM_Domain_1km_nad83_mmgt_0.5m_01_2014.tif',\n",
       " '_01_gipl2_MRI-CGCM3-RCP45_IEM_Domain_1km_nad83_mmgt_0.5m_01_2015.tif',\n",
       " '_01_gipl2_MRI-CGCM3-RCP45_IEM_Domain_1km_nad83_mmgt_0.5m_01_2016.tif',\n",
       " '_01_gipl2_MRI-CGCM3-RCP45_IEM_Domain_1km_nad83_mmgt_0.5m_01_2017.tif',\n",
       " '_01_gipl2_MRI-CGCM3-RCP45_IEM_Domain_1km_nad83_mmgt_0.5m_01_2018.tif',\n",
       " '_01_gipl2_MRI-CGCM3-RCP45_IEM_Domain_1km_nad83_mmgt_0.5m_01_2019.tif',\n",
       " '_01_gipl2_MRI-CGCM3-RCP45_IEM_Domain_1km_nad83_mmgt_0.5m_01_2020.tif',\n",
       " '_01_gipl2_MRI-CGCM3-RCP45_IEM_Domain_1km_nad83_mmgt_0.5m_01_2021.tif',\n",
       " '_01_gipl2_MRI-CGCM3-RCP45_IEM_Domain_1km_nad83_mmgt_0.5m_01_2022.tif',\n",
       " '_01_gipl2_MRI-CGCM3-RCP45_IEM_Domain_1km_nad83_mmgt_0.5m_01_2023.tif',\n",
       " '_01_gipl2_MRI-CGCM3-RCP45_IEM_Domain_1km_nad83_mmgt_0.5m_01_2024.tif',\n",
       " '_01_gipl2_MRI-CGCM3-RCP45_IEM_Domain_1km_nad83_mmgt_0.5m_01_2025.tif',\n",
       " '_01_gipl2_MRI-CGCM3-RCP45_IEM_Domain_1km_nad83_mmgt_0.5m_01_2026.tif',\n",
       " '_01_gipl2_MRI-CGCM3-RCP45_IEM_Domain_1km_nad83_mmgt_0.5m_01_2027.tif',\n",
       " '_01_gipl2_MRI-CGCM3-RCP45_IEM_Domain_1km_nad83_mmgt_0.5m_01_2028.tif',\n",
       " '_01_gipl2_MRI-CGCM3-RCP45_IEM_Domain_1km_nad83_mmgt_0.5m_01_2029.tif',\n",
       " '_01_gipl2_MRI-CGCM3-RCP45_IEM_Domain_1km_nad83_mmgt_0.5m_01_2030.tif',\n",
       " '_01_gipl2_MRI-CGCM3-RCP45_IEM_Domain_1km_nad83_mmgt_0.5m_01_2031.tif',\n",
       " '_01_gipl2_MRI-CGCM3-RCP45_IEM_Domain_1km_nad83_mmgt_0.5m_01_2032.tif',\n",
       " '_01_gipl2_MRI-CGCM3-RCP45_IEM_Domain_1km_nad83_mmgt_0.5m_01_2033.tif',\n",
       " '_01_gipl2_MRI-CGCM3-RCP45_IEM_Domain_1km_nad83_mmgt_0.5m_01_2034.tif',\n",
       " '_01_gipl2_MRI-CGCM3-RCP45_IEM_Domain_1km_nad83_mmgt_0.5m_01_2035.tif',\n",
       " '_01_gipl2_MRI-CGCM3-RCP45_IEM_Domain_1km_nad83_mmgt_0.5m_01_2036.tif',\n",
       " '_01_gipl2_MRI-CGCM3-RCP45_IEM_Domain_1km_nad83_mmgt_0.5m_01_2037.tif',\n",
       " '_01_gipl2_MRI-CGCM3-RCP45_IEM_Domain_1km_nad83_mmgt_0.5m_01_2038.tif',\n",
       " '_01_gipl2_MRI-CGCM3-RCP45_IEM_Domain_1km_nad83_mmgt_0.5m_01_2039.tif',\n",
       " '_01_gipl2_MRI-CGCM3-RCP45_IEM_Domain_1km_nad83_mmgt_0.5m_01_2040.tif',\n",
       " '_01_gipl2_MRI-CGCM3-RCP45_IEM_Domain_1km_nad83_mmgt_0.5m_01_2041.tif',\n",
       " '_01_gipl2_MRI-CGCM3-RCP45_IEM_Domain_1km_nad83_mmgt_0.5m_01_2042.tif',\n",
       " '_01_gipl2_MRI-CGCM3-RCP45_IEM_Domain_1km_nad83_mmgt_0.5m_01_2043.tif',\n",
       " '_01_gipl2_MRI-CGCM3-RCP45_IEM_Domain_1km_nad83_mmgt_0.5m_01_2044.tif',\n",
       " '_01_gipl2_MRI-CGCM3-RCP45_IEM_Domain_1km_nad83_mmgt_0.5m_01_2045.tif',\n",
       " '_01_gipl2_MRI-CGCM3-RCP45_IEM_Domain_1km_nad83_mmgt_0.5m_01_2046.tif',\n",
       " '_01_gipl2_MRI-CGCM3-RCP45_IEM_Domain_1km_nad83_mmgt_0.5m_01_2047.tif',\n",
       " '_01_gipl2_MRI-CGCM3-RCP45_IEM_Domain_1km_nad83_mmgt_0.5m_01_2048.tif',\n",
       " '_01_gipl2_MRI-CGCM3-RCP45_IEM_Domain_1km_nad83_mmgt_0.5m_01_2049.tif',\n",
       " '_01_gipl2_MRI-CGCM3-RCP45_IEM_Domain_1km_nad83_mmgt_0.5m_01_2050.tif',\n",
       " '_01_gipl2_MRI-CGCM3-RCP45_IEM_Domain_1km_nad83_mmgt_0.5m_01_2051.tif',\n",
       " '_01_gipl2_MRI-CGCM3-RCP45_IEM_Domain_1km_nad83_mmgt_0.5m_01_2052.tif',\n",
       " '_01_gipl2_MRI-CGCM3-RCP45_IEM_Domain_1km_nad83_mmgt_0.5m_01_2053.tif',\n",
       " '_01_gipl2_MRI-CGCM3-RCP45_IEM_Domain_1km_nad83_mmgt_0.5m_01_2054.tif',\n",
       " '_01_gipl2_MRI-CGCM3-RCP45_IEM_Domain_1km_nad83_mmgt_0.5m_01_2055.tif',\n",
       " '_01_gipl2_MRI-CGCM3-RCP45_IEM_Domain_1km_nad83_mmgt_0.5m_01_2056.tif',\n",
       " '_01_gipl2_MRI-CGCM3-RCP45_IEM_Domain_1km_nad83_mmgt_0.5m_01_2057.tif',\n",
       " '_01_gipl2_MRI-CGCM3-RCP45_IEM_Domain_1km_nad83_mmgt_0.5m_01_2058.tif',\n",
       " '_01_gipl2_MRI-CGCM3-RCP45_IEM_Domain_1km_nad83_mmgt_0.5m_01_2059.tif',\n",
       " '_01_gipl2_MRI-CGCM3-RCP45_IEM_Domain_1km_nad83_mmgt_0.5m_01_2060.tif',\n",
       " '_01_gipl2_MRI-CGCM3-RCP45_IEM_Domain_1km_nad83_mmgt_0.5m_01_2061.tif',\n",
       " '_01_gipl2_MRI-CGCM3-RCP45_IEM_Domain_1km_nad83_mmgt_0.5m_01_2062.tif',\n",
       " '_01_gipl2_MRI-CGCM3-RCP45_IEM_Domain_1km_nad83_mmgt_0.5m_01_2063.tif',\n",
       " '_01_gipl2_MRI-CGCM3-RCP45_IEM_Domain_1km_nad83_mmgt_0.5m_01_2064.tif',\n",
       " '_01_gipl2_MRI-CGCM3-RCP45_IEM_Domain_1km_nad83_mmgt_0.5m_01_2065.tif',\n",
       " '_01_gipl2_MRI-CGCM3-RCP45_IEM_Domain_1km_nad83_mmgt_0.5m_01_2066.tif',\n",
       " '_01_gipl2_MRI-CGCM3-RCP45_IEM_Domain_1km_nad83_mmgt_0.5m_01_2067.tif',\n",
       " '_01_gipl2_MRI-CGCM3-RCP45_IEM_Domain_1km_nad83_mmgt_0.5m_01_2068.tif',\n",
       " '_01_gipl2_MRI-CGCM3-RCP45_IEM_Domain_1km_nad83_mmgt_0.5m_01_2069.tif',\n",
       " '_01_gipl2_MRI-CGCM3-RCP45_IEM_Domain_1km_nad83_mmgt_0.5m_01_2070.tif',\n",
       " '_01_gipl2_MRI-CGCM3-RCP45_IEM_Domain_1km_nad83_mmgt_0.5m_01_2071.tif',\n",
       " '_01_gipl2_MRI-CGCM3-RCP45_IEM_Domain_1km_nad83_mmgt_0.5m_01_2072.tif',\n",
       " '_01_gipl2_MRI-CGCM3-RCP45_IEM_Domain_1km_nad83_mmgt_0.5m_01_2073.tif',\n",
       " '_01_gipl2_MRI-CGCM3-RCP45_IEM_Domain_1km_nad83_mmgt_0.5m_01_2074.tif',\n",
       " '_01_gipl2_MRI-CGCM3-RCP45_IEM_Domain_1km_nad83_mmgt_0.5m_01_2075.tif',\n",
       " '_01_gipl2_MRI-CGCM3-RCP45_IEM_Domain_1km_nad83_mmgt_0.5m_01_2076.tif',\n",
       " '_01_gipl2_MRI-CGCM3-RCP45_IEM_Domain_1km_nad83_mmgt_0.5m_01_2077.tif',\n",
       " '_01_gipl2_MRI-CGCM3-RCP45_IEM_Domain_1km_nad83_mmgt_0.5m_01_2078.tif',\n",
       " '_01_gipl2_MRI-CGCM3-RCP45_IEM_Domain_1km_nad83_mmgt_0.5m_01_2079.tif',\n",
       " '_01_gipl2_MRI-CGCM3-RCP45_IEM_Domain_1km_nad83_mmgt_0.5m_01_2080.tif',\n",
       " '_01_gipl2_MRI-CGCM3-RCP45_IEM_Domain_1km_nad83_mmgt_0.5m_01_2081.tif',\n",
       " '_01_gipl2_MRI-CGCM3-RCP45_IEM_Domain_1km_nad83_mmgt_0.5m_01_2082.tif',\n",
       " '_01_gipl2_MRI-CGCM3-RCP45_IEM_Domain_1km_nad83_mmgt_0.5m_01_2083.tif',\n",
       " '_01_gipl2_MRI-CGCM3-RCP45_IEM_Domain_1km_nad83_mmgt_0.5m_01_2084.tif',\n",
       " '_01_gipl2_MRI-CGCM3-RCP45_IEM_Domain_1km_nad83_mmgt_0.5m_01_2085.tif',\n",
       " '_01_gipl2_MRI-CGCM3-RCP45_IEM_Domain_1km_nad83_mmgt_0.5m_01_2086.tif',\n",
       " '_01_gipl2_MRI-CGCM3-RCP45_IEM_Domain_1km_nad83_mmgt_0.5m_01_2087.tif',\n",
       " '_01_gipl2_MRI-CGCM3-RCP45_IEM_Domain_1km_nad83_mmgt_0.5m_01_2088.tif',\n",
       " '_01_gipl2_MRI-CGCM3-RCP45_IEM_Domain_1km_nad83_mmgt_0.5m_01_2089.tif',\n",
       " '_01_gipl2_MRI-CGCM3-RCP45_IEM_Domain_1km_nad83_mmgt_0.5m_01_2090.tif',\n",
       " '_01_gipl2_MRI-CGCM3-RCP45_IEM_Domain_1km_nad83_mmgt_0.5m_01_2091.tif',\n",
       " '_01_gipl2_MRI-CGCM3-RCP45_IEM_Domain_1km_nad83_mmgt_0.5m_01_2092.tif',\n",
       " '_01_gipl2_MRI-CGCM3-RCP45_IEM_Domain_1km_nad83_mmgt_0.5m_01_2093.tif',\n",
       " '_01_gipl2_MRI-CGCM3-RCP45_IEM_Domain_1km_nad83_mmgt_0.5m_01_2094.tif',\n",
       " '_01_gipl2_MRI-CGCM3-RCP45_IEM_Domain_1km_nad83_mmgt_0.5m_01_2095.tif',\n",
       " '_01_gipl2_MRI-CGCM3-RCP45_IEM_Domain_1km_nad83_mmgt_0.5m_01_2096.tif',\n",
       " '_01_gipl2_MRI-CGCM3-RCP45_IEM_Domain_1km_nad83_mmgt_0.5m_01_2097.tif',\n",
       " '_01_gipl2_MRI-CGCM3-RCP45_IEM_Domain_1km_nad83_mmgt_0.5m_01_2098.tif',\n",
       " '_01_gipl2_MRI-CGCM3-RCP45_IEM_Domain_1km_nad83_mmgt_0.5m_01_2099.tif',\n",
       " '_01_gipl2_MRI-CGCM3-RCP45_IEM_Domain_1km_nad83_mmgt_0.5m_01_2100.tif']"
      ]
     },
     "execution_count": 73,
     "metadata": {},
     "output_type": "execute_result"
    }
   ],
   "source": [
    "[x.name for x in file_di[\"MRI-CGCM3 RCP 4.5\"][\"jan_files\"]]"
   ]
  },
  {
   "cell_type": "code",
   "execution_count": 75,
   "id": "d1e29b5e-36ac-4b1b-bd95-1b3dc6d96107",
   "metadata": {},
   "outputs": [],
   "source": [
    "# quick check to make sure no files fell through the cracks here\n",
    "assert df[\"MRI-CGCM3 RCP 4.5\"].sum() == len(mo_mri_rcp45_fps)\n",
    "assert df[\"NCAR-CCSM4 RCP 4.5\"].sum() == len(mo_ncar_rcp45_fps)\n",
    "assert df[\"NCAR-CCSM4 RCP 8.5\"].sum() == len(mo_ncar_rcp85_fps)\n",
    "assert df[\"MRI-CGCM3 RCP 8.5\"].sum() == len(mo_mri_rcp85_fps)"
   ]
  },
  {
   "cell_type": "markdown",
   "id": "4b37b5f1-4cdd-4aa4-81e6-a1860876db48",
   "metadata": {},
   "source": [
    "### Monthly Inconsistencies\n",
    "\n",
    " - NCAR-CCSM4 RCP 8.5 October has 8 variables for 2005.\n",
    " - MRI-CGCM3 RCP 8.5 March has 1 variable for 2101.\n",
    " - MRI-CGCM3 RCP 8.5 December has 7 variables for 2005, and 7 variables for all other years as well (missing `pfTop`).\n",
    " - MRI-CGCM3 RCP 8.5 December has 95 files with no month information and conflicting (`mmgt` and `pfTop`) variables encoded in the filename.\n",
    " - MRI-CGCM3 RCP 8.5 October is missing  `pftop` for all years (2006-2100).\n",
    "     - It seems likely that the 95 files missing clear month and variable names are these missing data!\n",
    " - NCAR-CCSM4 RCP 4.5 January 2011 is missing MMGT 4 m.\n",
    " - NCAR-CCSM4 RCP 4.5 January 2042 is missing MMGT 0.5 m.\n",
    " - NCAR-CCSM4 RCP 4.5 April 2044 is missing MMGT Surface.\n",
    " - NCAR-CCSM4 RCP 4.5 May 2006 is missing MMGT 0.5 m.\n",
    " - NCAR-CCSM4 RCP 4.5 June 2038 is missing MMGT Surface.\n",
    " - NCAR-CCSM4 RCP 4.5 June 2072 is missing MMGT 3 m.\n",
    " - NCAR-CCSM4 RCP 4.5 June 2094 is missing MMGT 2 m.\n",
    " - NCAR-CCSM4 RCP 4.5 October 2064 is missing MMGT 2 m.\n",
    " - NCAR-CCSM4 RCP 4.5 November 2060 is missing MMGT 4 m.\n",
    " - NCAR-CCSM4 RCP 4.5 December 2006 is missing MMGT Surface.\n",
    " - MRI-CGCM3 RCP 4.5 October has 2 variables for years 2101 through 2106\n",
    " - MRI-CGCM3 RCP 4.5 August has 3 variables for years 2101 through 2106, and then one variable for many other far-future years up util year 2505.\n",
    " - MRI-CGCM3 RCP 4.5 January is missing all variables except MMGT 0.5 m."
   ]
  },
  {
   "cell_type": "code",
   "execution_count": null,
   "id": "6a6a1d52-dd6f-4591-a794-93f73392b25b",
   "metadata": {},
   "outputs": [],
   "source": []
  }
 ],
 "metadata": {
  "kernelspec": {
   "display_name": "Python 3 (ipykernel)",
   "language": "python",
   "name": "python3"
  },
  "language_info": {
   "codemirror_mode": {
    "name": "ipython",
    "version": 3
   },
   "file_extension": ".py",
   "mimetype": "text/x-python",
   "name": "python",
   "nbconvert_exporter": "python",
   "pygments_lexer": "ipython3",
   "version": "3.9.15"
  }
 },
 "nbformat": 4,
 "nbformat_minor": 5
}
