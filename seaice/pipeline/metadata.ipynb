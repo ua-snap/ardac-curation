{
 "cells": [
  {
   "cell_type": "markdown",
   "id": "1d3bc8d9-fd68-4caf-9dfd-4b38ad86dfed",
   "metadata": {},
   "source": [
    "# Metadata collection\n",
    "\n",
    "This is a placeholder notebook for collecting metadata from data products."
   ]
  },
  {
   "cell_type": "code",
   "execution_count": 1,
   "id": "f71643f0-777b-47a1-9b23-5ed1bf48e8fc",
   "metadata": {},
   "outputs": [],
   "source": [
    "import os\n",
    "from pathlib import Path\n",
    "\n",
    "output_dir = Path(os.getenv(\"OUTPUT_DIR\"))"
   ]
  },
  {
   "cell_type": "code",
   "execution_count": null,
   "id": "81de9f19-d9cc-42f3-8a80-54b49028d9d5",
   "metadata": {},
   "outputs": [],
   "source": []
  }
 ],
 "metadata": {
  "kernelspec": {
   "display_name": "Python 3 (ipykernel)",
   "language": "python",
   "name": "python3"
  },
  "language_info": {
   "codemirror_mode": {
    "name": "ipython",
    "version": 3
   },
   "file_extension": ".py",
   "mimetype": "text/x-python",
   "name": "python",
   "nbconvert_exporter": "python",
   "pygments_lexer": "ipython3",
   "version": "3.8.12"
  }
 },
 "nbformat": 4,
 "nbformat_minor": 5
}
