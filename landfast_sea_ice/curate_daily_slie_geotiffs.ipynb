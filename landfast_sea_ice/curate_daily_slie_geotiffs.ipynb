{
 "cells": [
  {
   "cell_type": "markdown",
   "id": "b8b69b65-6858-4b0e-9bf6-49c6e5637848",
   "metadata": {},
   "source": [
    "## Daily SLIE GeoTIFF Curation\n",
    "\n",
    "* Prescribe new file names\n",
    "* Reprojecting these data to 3338 on an aligned grid, and override the source compression and lack of `nodata` value."
   ]
  },
  {
   "cell_type": "code",
   "execution_count": null,
   "id": "192c609a-bc9a-4ed9-9750-a4a497ef2f50",
   "metadata": {},
   "outputs": [],
   "source": [
    "from pathlib import Path\n",
    "\n",
    "import dask\n",
    "import dask.distributed as dd\n",
    "from dask_jobqueue import SLURMCluster\n",
    "\n",
    "import eda as eda\n",
    "import preprocess as preprocess\n",
    "from luts import ice_zones, ice_years, data_sources\n",
    "from config import INPUT_DIR, DAILY_BEAUFORT_DIR, DAILY_CHUKCHI_DIR, SCRATCH_DIR"
   ]
  },
  {
   "cell_type": "code",
   "execution_count": null,
   "id": "c8812197-9393-4a3f-b959-7fd7fb3b6d05",
   "metadata": {},
   "outputs": [],
   "source": [
    "ice_zones"
   ]
  },
  {
   "cell_type": "code",
   "execution_count": null,
   "id": "9f38eac3-2a45-4f76-b32e-ed2d43fbbd8b",
   "metadata": {},
   "outputs": [],
   "source": [
    "beauf_geotiffs = []\n",
    "chuk_geotiffs = []\n",
    "\n",
    "for region in ice_zones:\n",
    "    for year in ice_years:\n",
    "        target_dir = Path(INPUT_DIR / region / year)\n",
    "        tiffs = eda.list_geotiffs(target_dir, str_to_match=\"dailyslie\")\n",
    "        if region == \"Beau\":\n",
    "            beauf_geotiffs = beauf_geotiffs + tiffs\n",
    "        elif region == \"Chuk\":\n",
    "            chuk_geotiffs = chuk_geotiffs + tiffs\n",
    "        else:\n",
    "            print(f\"{target_dir} is not expected.\")"
   ]
  },
  {
   "cell_type": "code",
   "execution_count": null,
   "id": "8a09f5a1-417d-425d-8d24-62bb0abb9abf",
   "metadata": {},
   "outputs": [],
   "source": [
    "# example of the renaming function, mostly just placing the product in the output directory and then also expanding the data source attribute\n",
    "print(preprocess.daily_slie_rename(beauf_geotiffs[0]))\n",
    "print(preprocess.daily_slie_rename(chuk_geotiffs[-1]))"
   ]
  },
  {
   "cell_type": "code",
   "execution_count": null,
   "id": "f3d0f743-374a-4b46-8bb7-e7829828a314",
   "metadata": {},
   "outputs": [],
   "source": [
    "cluster = SLURMCluster(\n",
    "            cores=24,\n",
    "            memory=\"128GB\",\n",
    "            queue=\"t2small\",\n",
    "            walltime=\"23:00:00\",\n",
    "            log_directory=SCRATCH_DIR,\n",
    "            local_directory=SCRATCH_DIR,\n",
    "            account=\"cmip6\",\n",
    "            interface=\"ib0\",\n",
    "        )\n",
    "client = dd.Client(cluster)\n",
    "\n",
    "cluster.scale(100)"
   ]
  },
  {
   "cell_type": "code",
   "execution_count": null,
   "id": "8523e1aa-f6af-414a-9b6a-b3be61f725b3",
   "metadata": {},
   "outputs": [],
   "source": [
    "tasks = [dask.delayed(preprocess.tap_reproject_daily_slie_raster)(f) for f in beauf_geotiffs]\n",
    "future = dask.compute(*tasks)"
   ]
  },
  {
   "cell_type": "code",
   "execution_count": null,
   "id": "6fbf9bf4-0202-4a33-b29d-002991bfed48",
   "metadata": {},
   "outputs": [],
   "source": [
    "tasks = [dask.delayed(preprocess.tap_reproject_daily_slie_raster)(f) for f in chuk_geotiffs]\n",
    "future = dask.compute(*tasks)"
   ]
  },
  {
   "cell_type": "code",
   "execution_count": null,
   "id": "78d28d35-8a74-4454-b674-58a9bd9e7a66",
   "metadata": {},
   "outputs": [],
   "source": [
    "client.close()"
   ]
  },
  {
   "cell_type": "code",
   "execution_count": null,
   "id": "69999d7a-c041-456f-bf1e-9828e4356aa3",
   "metadata": {},
   "outputs": [],
   "source": [
    "cluster.scale(0)"
   ]
  },
  {
   "cell_type": "code",
   "execution_count": null,
   "id": "0ff50edd-89df-419a-b0f3-653cf5887a50",
   "metadata": {},
   "outputs": [],
   "source": [
    "cluster.close()"
   ]
  },
  {
   "cell_type": "code",
   "execution_count": null,
   "id": "1bb28b40-0b06-45d2-9ccc-8d073e0597cc",
   "metadata": {},
   "outputs": [],
   "source": [
    "assert len(eda.list_geotiffs(DAILY_BEAUFORT_DIR)) == len(beauf_geotiffs)"
   ]
  },
  {
   "cell_type": "code",
   "execution_count": null,
   "id": "895c341f-942b-4e29-988e-ee6d0ed16b54",
   "metadata": {},
   "outputs": [],
   "source": [
    "assert len(eda.list_geotiffs(DAILY_CHUKCHI_DIR)) == len(chuk_geotiffs)"
   ]
  },
  {
   "cell_type": "code",
   "execution_count": null,
   "id": "3d7e9fdd-6891-4ce9-8753-4aa5b819728f",
   "metadata": {},
   "outputs": [],
   "source": []
  }
 ],
 "metadata": {
  "kernelspec": {
   "display_name": "Python 3 (ipykernel)",
   "language": "python",
   "name": "python3"
  },
  "language_info": {
   "codemirror_mode": {
    "name": "ipython",
    "version": 3
   },
   "file_extension": ".py",
   "mimetype": "text/x-python",
   "name": "python",
   "nbconvert_exporter": "python",
   "pygments_lexer": "ipython3",
   "version": "3.11.6"
  }
 },
 "nbformat": 4,
 "nbformat_minor": 5
}
