{
 "cells": [
  {
   "cell_type": "code",
   "execution_count": 1,
   "id": "a1d5cc11-bd21-4fd8-8fe0-a5466f809080",
   "metadata": {},
   "outputs": [],
   "source": [
    "import re\n",
    "\n",
    "import rasterio as rio\n",
    "import xarray as xr\n",
    "import numpy as np\n",
    "import pandas as pd\n",
    "import tqdm\n",
    "import dask.array as da\n",
    "from dask.diagnostics import ProgressBar\n",
    "from datetime import datetime\n",
    "\n",
    "from eda import list_geotiffs\n",
    "from config import DAILY_BEAUFORT_DIR, DAILY_CHUKCHI_DIR\n"
   ]
  },
  {
   "cell_type": "code",
   "execution_count": 2,
   "id": "d508616e-c75e-4a9b-85ba-e2d8a58df635",
   "metadata": {},
   "outputs": [],
   "source": [
    "def get_dates(target_directory):\n",
    "    \n",
    "    dates = []\n",
    "    tiffs_to_merge = list_geotiffs(target_directory)\n",
    "\n",
    "    for file in tqdm.tqdm(tiffs_to_merge):\n",
    "        date = re.search(r'(\\d{4})(\\d{2})(\\d{2})', file.name).groups()\n",
    "        dates.append(datetime(int(date[0]), int(date[1]), int(date[2])))\n",
    "    return dates"
   ]
  },
  {
   "cell_type": "code",
   "execution_count": 4,
   "id": "5e42ea36-8e09-498e-85bd-ddb6977582cf",
   "metadata": {},
   "outputs": [
    {
     "name": "stderr",
     "output_type": "stream",
     "text": [
      "100%|████████████████████████████████████████████████████████████| 7668/7668 [00:00<00:00, 323228.91it/s]\n",
      "100%|████████████████████████████████████████████████████████████| 7797/7797 [00:00<00:00, 373436.88it/s]\n"
     ]
    }
   ],
   "source": [
    "chukchi_dates = get_dates(DAILY_CHUKCHI_DIR)\n",
    "beaufort_dates = get_dates(DAILY_BEAUFORT_DIR)\n"
   ]
  },
  {
   "cell_type": "code",
   "execution_count": 5,
   "id": "0a9e94d9-dc67-47e3-9893-faeec15f1b19",
   "metadata": {},
   "outputs": [
    {
     "name": "stdout",
     "output_type": "stream",
     "text": [
      "7797\n"
     ]
    }
   ],
   "source": [
    "print(len(beaufort_dates))"
   ]
  },
  {
   "cell_type": "code",
   "execution_count": 6,
   "id": "2cca445c-0df5-41b8-846e-d82732af564c",
   "metadata": {},
   "outputs": [
    {
     "name": "stdout",
     "output_type": "stream",
     "text": [
      "7668\n"
     ]
    }
   ],
   "source": [
    "print(len(chukchi_dates))"
   ]
  },
  {
   "cell_type": "code",
   "execution_count": 8,
   "id": "e44930f7-779d-4ffe-b9c1-3290612debea",
   "metadata": {},
   "outputs": [],
   "source": [
    "dates_in_beaufort_not_in_chukchi = list(set(beaufort_dates) - set(chukchi_dates))"
   ]
  },
  {
   "cell_type": "code",
   "execution_count": 9,
   "id": "c0525f98-cc63-4ae0-b90b-53b08208a551",
   "metadata": {},
   "outputs": [
    {
     "data": {
      "text/plain": [
       "160"
      ]
     },
     "execution_count": 9,
     "metadata": {},
     "output_type": "execute_result"
    }
   ],
   "source": [
    "len(dates_in_beaufort_not_in_chukchi)"
   ]
  },
  {
   "cell_type": "code",
   "execution_count": 10,
   "id": "a46596c9-e244-4efd-938a-19aa17bc154a",
   "metadata": {},
   "outputs": [
    {
     "data": {
      "text/plain": [
       "[datetime.datetime(2002, 7, 17, 0, 0),\n",
       " datetime.datetime(2004, 7, 4, 0, 0),\n",
       " datetime.datetime(2002, 7, 20, 0, 0),\n",
       " datetime.datetime(2004, 7, 2, 0, 0),\n",
       " datetime.datetime(2003, 7, 14, 0, 0),\n",
       " datetime.datetime(2002, 6, 26, 0, 0),\n",
       " datetime.datetime(2001, 7, 17, 0, 0),\n",
       " datetime.datetime(2004, 7, 13, 0, 0),\n",
       " datetime.datetime(2004, 7, 1, 0, 0),\n",
       " datetime.datetime(2002, 7, 14, 0, 0),\n",
       " datetime.datetime(2003, 7, 1, 0, 0),\n",
       " datetime.datetime(2001, 7, 14, 0, 0),\n",
       " datetime.datetime(2000, 7, 15, 0, 0),\n",
       " datetime.datetime(1997, 11, 13, 0, 0),\n",
       " datetime.datetime(1997, 6, 26, 0, 0),\n",
       " datetime.datetime(2004, 7, 17, 0, 0),\n",
       " datetime.datetime(2004, 7, 11, 0, 0),\n",
       " datetime.datetime(2000, 7, 14, 0, 0),\n",
       " datetime.datetime(2004, 6, 27, 0, 0),\n",
       " datetime.datetime(2004, 7, 5, 0, 0),\n",
       " datetime.datetime(2008, 7, 5, 0, 0),\n",
       " datetime.datetime(2008, 7, 3, 0, 0),\n",
       " datetime.datetime(2004, 7, 16, 0, 0),\n",
       " datetime.datetime(2002, 7, 1, 0, 0),\n",
       " datetime.datetime(2001, 7, 18, 0, 0),\n",
       " datetime.datetime(2004, 6, 20, 0, 0),\n",
       " datetime.datetime(2000, 7, 6, 0, 0),\n",
       " datetime.datetime(2004, 7, 7, 0, 0),\n",
       " datetime.datetime(2004, 6, 29, 0, 0),\n",
       " datetime.datetime(2000, 7, 18, 0, 0),\n",
       " datetime.datetime(2001, 10, 14, 0, 0),\n",
       " datetime.datetime(2000, 10, 12, 0, 0),\n",
       " datetime.datetime(2000, 7, 7, 0, 0),\n",
       " datetime.datetime(2008, 7, 6, 0, 0),\n",
       " datetime.datetime(2004, 7, 3, 0, 0),\n",
       " datetime.datetime(2003, 7, 4, 0, 0),\n",
       " datetime.datetime(2008, 7, 7, 0, 0),\n",
       " datetime.datetime(1997, 11, 10, 0, 0),\n",
       " datetime.datetime(2003, 7, 9, 0, 0),\n",
       " datetime.datetime(1997, 11, 14, 0, 0),\n",
       " datetime.datetime(2004, 7, 8, 0, 0),\n",
       " datetime.datetime(2004, 6, 17, 0, 0),\n",
       " datetime.datetime(2008, 7, 4, 0, 0),\n",
       " datetime.datetime(2000, 7, 17, 0, 0),\n",
       " datetime.datetime(2002, 7, 13, 0, 0),\n",
       " datetime.datetime(1998, 7, 19, 0, 0),\n",
       " datetime.datetime(1997, 6, 30, 0, 0),\n",
       " datetime.datetime(2008, 7, 2, 0, 0),\n",
       " datetime.datetime(2000, 10, 17, 0, 0),\n",
       " datetime.datetime(1998, 7, 17, 0, 0),\n",
       " datetime.datetime(1999, 10, 15, 0, 0),\n",
       " datetime.datetime(1999, 7, 16, 0, 0),\n",
       " datetime.datetime(1997, 7, 10, 0, 0),\n",
       " datetime.datetime(2002, 7, 8, 0, 0),\n",
       " datetime.datetime(2003, 7, 2, 0, 0),\n",
       " datetime.datetime(1999, 10, 16, 0, 0),\n",
       " datetime.datetime(2000, 7, 4, 0, 0),\n",
       " datetime.datetime(2002, 7, 21, 0, 0),\n",
       " datetime.datetime(2000, 7, 3, 0, 0),\n",
       " datetime.datetime(2002, 7, 7, 0, 0),\n",
       " datetime.datetime(1998, 7, 13, 0, 0),\n",
       " datetime.datetime(2000, 7, 11, 0, 0),\n",
       " datetime.datetime(2001, 7, 15, 0, 0),\n",
       " datetime.datetime(2003, 7, 6, 0, 0),\n",
       " datetime.datetime(2002, 7, 10, 0, 0),\n",
       " datetime.datetime(1997, 7, 9, 0, 0),\n",
       " datetime.datetime(2002, 6, 27, 0, 0),\n",
       " datetime.datetime(2003, 7, 11, 0, 0),\n",
       " datetime.datetime(2004, 6, 30, 0, 0),\n",
       " datetime.datetime(2008, 7, 1, 0, 0),\n",
       " datetime.datetime(2004, 7, 12, 0, 0),\n",
       " datetime.datetime(1998, 7, 18, 0, 0),\n",
       " datetime.datetime(2000, 7, 8, 0, 0),\n",
       " datetime.datetime(2004, 6, 28, 0, 0),\n",
       " datetime.datetime(2002, 7, 2, 0, 0),\n",
       " datetime.datetime(2000, 10, 15, 0, 0),\n",
       " datetime.datetime(2004, 6, 18, 0, 0),\n",
       " datetime.datetime(2004, 10, 16, 0, 0),\n",
       " datetime.datetime(2003, 7, 16, 0, 0),\n",
       " datetime.datetime(1998, 7, 20, 0, 0),\n",
       " datetime.datetime(2002, 7, 12, 0, 0),\n",
       " datetime.datetime(2003, 7, 5, 0, 0),\n",
       " datetime.datetime(1997, 6, 27, 0, 0),\n",
       " datetime.datetime(1997, 7, 2, 0, 0),\n",
       " datetime.datetime(2004, 6, 26, 0, 0),\n",
       " datetime.datetime(1998, 7, 14, 0, 0),\n",
       " datetime.datetime(2004, 6, 19, 0, 0),\n",
       " datetime.datetime(2000, 10, 14, 0, 0),\n",
       " datetime.datetime(2000, 7, 12, 0, 0),\n",
       " datetime.datetime(2002, 7, 6, 0, 0),\n",
       " datetime.datetime(2002, 7, 9, 0, 0),\n",
       " datetime.datetime(2004, 6, 23, 0, 0),\n",
       " datetime.datetime(2002, 6, 30, 0, 0),\n",
       " datetime.datetime(2003, 7, 15, 0, 0),\n",
       " datetime.datetime(1997, 7, 4, 0, 0),\n",
       " datetime.datetime(2001, 7, 12, 0, 0),\n",
       " datetime.datetime(2004, 6, 22, 0, 0),\n",
       " datetime.datetime(1997, 6, 29, 0, 0),\n",
       " datetime.datetime(2000, 7, 16, 0, 0),\n",
       " datetime.datetime(2004, 7, 10, 0, 0),\n",
       " datetime.datetime(2000, 10, 16, 0, 0),\n",
       " datetime.datetime(2000, 7, 5, 0, 0),\n",
       " datetime.datetime(2002, 7, 11, 0, 0),\n",
       " datetime.datetime(2000, 7, 13, 0, 0),\n",
       " datetime.datetime(2003, 7, 12, 0, 0),\n",
       " datetime.datetime(2003, 6, 30, 0, 0),\n",
       " datetime.datetime(2005, 7, 19, 0, 0),\n",
       " datetime.datetime(2004, 6, 21, 0, 0),\n",
       " datetime.datetime(2003, 7, 3, 0, 0),\n",
       " datetime.datetime(2001, 7, 16, 0, 0),\n",
       " datetime.datetime(2000, 10, 13, 0, 0),\n",
       " datetime.datetime(2002, 6, 29, 0, 0),\n",
       " datetime.datetime(1998, 7, 11, 0, 0),\n",
       " datetime.datetime(2002, 7, 3, 0, 0),\n",
       " datetime.datetime(1997, 7, 1, 0, 0),\n",
       " datetime.datetime(2001, 10, 16, 0, 0),\n",
       " datetime.datetime(1997, 11, 12, 0, 0),\n",
       " datetime.datetime(1998, 7, 21, 0, 0),\n",
       " datetime.datetime(2001, 7, 11, 0, 0),\n",
       " datetime.datetime(1997, 7, 8, 0, 0),\n",
       " datetime.datetime(1997, 7, 3, 0, 0),\n",
       " datetime.datetime(1997, 11, 11, 0, 0),\n",
       " datetime.datetime(2003, 7, 13, 0, 0),\n",
       " datetime.datetime(1999, 10, 14, 0, 0),\n",
       " datetime.datetime(2002, 7, 5, 0, 0),\n",
       " datetime.datetime(2002, 7, 15, 0, 0),\n",
       " datetime.datetime(1998, 7, 12, 0, 0),\n",
       " datetime.datetime(2002, 7, 16, 0, 0),\n",
       " datetime.datetime(1997, 7, 6, 0, 0),\n",
       " datetime.datetime(2004, 6, 25, 0, 0),\n",
       " datetime.datetime(2001, 7, 19, 0, 0),\n",
       " datetime.datetime(1997, 7, 11, 0, 0),\n",
       " datetime.datetime(1997, 7, 12, 0, 0),\n",
       " datetime.datetime(2004, 7, 9, 0, 0),\n",
       " datetime.datetime(2004, 7, 18, 0, 0),\n",
       " datetime.datetime(2002, 7, 4, 0, 0),\n",
       " datetime.datetime(1997, 6, 28, 0, 0),\n",
       " datetime.datetime(2003, 7, 8, 0, 0),\n",
       " datetime.datetime(1997, 7, 13, 0, 0),\n",
       " datetime.datetime(2000, 7, 9, 0, 0),\n",
       " datetime.datetime(2004, 10, 17, 0, 0),\n",
       " datetime.datetime(1997, 7, 5, 0, 0),\n",
       " datetime.datetime(2004, 6, 24, 0, 0),\n",
       " datetime.datetime(1998, 7, 15, 0, 0),\n",
       " datetime.datetime(2002, 7, 19, 0, 0),\n",
       " datetime.datetime(2000, 7, 10, 0, 0),\n",
       " datetime.datetime(2004, 7, 15, 0, 0),\n",
       " datetime.datetime(1999, 7, 17, 0, 0),\n",
       " datetime.datetime(1997, 7, 7, 0, 0),\n",
       " datetime.datetime(2001, 7, 13, 0, 0),\n",
       " datetime.datetime(2004, 7, 6, 0, 0),\n",
       " datetime.datetime(1998, 7, 16, 0, 0),\n",
       " datetime.datetime(2002, 7, 18, 0, 0),\n",
       " datetime.datetime(2002, 6, 24, 0, 0),\n",
       " datetime.datetime(2003, 7, 10, 0, 0),\n",
       " datetime.datetime(2002, 6, 25, 0, 0),\n",
       " datetime.datetime(2003, 7, 7, 0, 0),\n",
       " datetime.datetime(2002, 6, 28, 0, 0),\n",
       " datetime.datetime(2004, 7, 14, 0, 0),\n",
       " datetime.datetime(2001, 10, 15, 0, 0)]"
      ]
     },
     "execution_count": 10,
     "metadata": {},
     "output_type": "execute_result"
    }
   ],
   "source": [
    "dates_in_beaufort_not_in_chukchi"
   ]
  },
  {
   "cell_type": "code",
   "execution_count": 14,
   "id": "84e7e1a3-0c99-4b1e-b468-349985da9ac2",
   "metadata": {},
   "outputs": [],
   "source": [
    "time_index = pd.to_datetime(dates_in_beaufort_not_in_chukchi)"
   ]
  },
  {
   "cell_type": "code",
   "execution_count": 22,
   "id": "0c793cab-5203-4060-a7f6-6f6515baafc9",
   "metadata": {},
   "outputs": [],
   "source": [
    "missing_dates = time_index.sort_values()"
   ]
  },
  {
   "cell_type": "code",
   "execution_count": 27,
   "id": "f2092aa2-4fe9-430c-8991-16ba37023ac8",
   "metadata": {},
   "outputs": [],
   "source": [
    "missing_dates.to_series().to_csv(\"dates_in_beau_but_not_in_chuk.csv\", index=False)"
   ]
  },
  {
   "cell_type": "code",
   "execution_count": null,
   "id": "809342f8-841a-4bca-b9c5-f76e1cbab085",
   "metadata": {},
   "outputs": [],
   "source": []
  }
 ],
 "metadata": {
  "kernelspec": {
   "display_name": "Python 3 (ipykernel)",
   "language": "python",
   "name": "python3"
  },
  "language_info": {
   "codemirror_mode": {
    "name": "ipython",
    "version": 3
   },
   "file_extension": ".py",
   "mimetype": "text/x-python",
   "name": "python",
   "nbconvert_exporter": "python",
   "pygments_lexer": "ipython3",
   "version": "3.12.4"
  }
 },
 "nbformat": 4,
 "nbformat_minor": 5
}
