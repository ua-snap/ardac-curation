{
 "cells": [
  {
   "cell_type": "markdown",
   "id": "b8b69b65-6858-4b0e-9bf6-49c6e5637848",
   "metadata": {},
   "source": [
    "## Data Preprocessing\n",
    "\n",
    "We'll start with the Beaufort dataset as we have better confidence that this dataset is complete.\n",
    "The basics here are to rename the data and to reproject them."
   ]
  },
  {
   "cell_type": "code",
   "execution_count": null,
   "id": "1ebb8f00-c28e-400f-b828-dce8088f53b3",
   "metadata": {},
   "outputs": [],
   "source": [
    "geotiffs_to_ingest = []\n",
    "metas = []\n",
    "\n",
    "for region in ice_zones:\n",
    "    for year in ice_years:\n",
    "        target = Path(INPUT_FLAT_DIR / \"EM24\" / region / year)\n",
    "        tiffs = eda.list_geotiffs(target, str_to_match=\"dailyslie\")\n",
    "        _, meta = eda.fetch_all_geotiff_metadata(target, str_to_match=\"dailyslie\")\n",
    "        geotiffs_to_ingest = geotiffs_to_ingest + tiffs\n",
    "        metas = metas + meta\n",
    "print(len(geotiffs_to_ingest))\n",
    "geotiffs_to_ingest[0]"
   ]
  },
  {
   "cell_type": "code",
   "execution_count": null,
   "id": "8a09f5a1-417d-425d-8d24-62bb0abb9abf",
   "metadata": {},
   "outputs": [],
   "source": [
    "def rename(fp):\n",
    "    if \"Chuk\" == fp.parent.parent.name:\n",
    "        zone = \"Chukchi\"\n",
    "        out_dir = DAILY_CHUKCHI_DIR\n",
    "    elif \"Beau\" == fp.parent.parent.name:\n",
    "        zone = \"Beaufort\"\n",
    "        out_dir = DAILY_BEAUFORT_DIR\n",
    "    else:\n",
    "        print(fp)\n",
    "    \n",
    "    fname = fp.name\n",
    "    yyyymmdd = fname.split(\"_\")[0][1:]\n",
    "\n",
    "    data_source_indicator = fname[0]\n",
    "    source_str = data_sources[data_source_indicator].lower().replace(\" \", \"_\")\n",
    "\n",
    "    new_name = f\"{zone.lower()}_{yyyymmdd}_{source_str}_slie.tif\"\n",
    "    new_fp = out_dir / new_name\n",
    "    return new_fp\n",
    "\n",
    "rename(geotiffs_to_ingest[0])"
   ]
  },
  {
   "cell_type": "code",
   "execution_count": null,
   "id": "d4cbd07b-9d8c-40df-9ce9-90f163ff49ab",
   "metadata": {},
   "outputs": [],
   "source": [
    "def reproject_raster(file):\n",
    "\n",
    "    dst_crs = rio.crs.CRS.from_epsg(3338)\n",
    "\n",
    "    with rio.open(file) as src:\n",
    "\n",
    "        # compute the new affine transformation, width and height\n",
    "        warp_transform, width, height = rio.warp.calculate_default_transform(\n",
    "            src.crs, dst_crs, src.width, src.height, *src.bounds)\n",
    "        # define the output raster profile\n",
    "        out_profile = src.profile.copy()\n",
    "        out_profile.update(\n",
    "            {\n",
    "                \"crs\": dst_crs,\n",
    "                \"transform\": warp_transform,\n",
    "                \"width\": width,\n",
    "                \"height\": height,\n",
    "                \"bounds\": array_bounds(height, width, warp_transform),\n",
    "            }\n",
    "        )\n",
    "\n",
    "        # create the new raster file\n",
    "        out_file = rename(file)\n",
    "        \n",
    "        with rio.open(out_file, \"w\", **out_profile) as dst:\n",
    "            # reproject the input raster data\n",
    "            rio.warp.reproject(\n",
    "                source=src.read(1),\n",
    "                destination=rio.band(dst, 1),\n",
    "                src_transform=src.transform,\n",
    "                src_crs=src.crs,\n",
    "                dst_transform=warp_transform,\n",
    "                dst_crs=dst_crs,\n",
    "                resampling=Resampling.nearest,  # NN is default, but explicit here for easy change or experimentation later\n",
    "            )\n"
   ]
  },
  {
   "cell_type": "code",
   "execution_count": null,
   "id": "28a40817-5c20-4f2d-bf7e-d79af312db79",
   "metadata": {},
   "outputs": [],
   "source": [
    "for tiff in geotiffs_to_ingest:\n",
    "    reproject_raster(tiff)"
   ]
  }
 ],
 "metadata": {
  "kernelspec": {
   "display_name": "Python 3 (ipykernel)",
   "language": "python",
   "name": "python3"
  },
  "language_info": {
   "codemirror_mode": {
    "name": "ipython",
    "version": 3
   },
   "file_extension": ".py",
   "mimetype": "text/x-python",
   "name": "python",
   "nbconvert_exporter": "python",
   "pygments_lexer": "ipython3",
   "version": "3.11.6"
  }
 },
 "nbformat": 4,
 "nbformat_minor": 5
}
