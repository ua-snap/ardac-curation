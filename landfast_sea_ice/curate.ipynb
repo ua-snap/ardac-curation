{
 "cells": [
  {
   "cell_type": "markdown",
   "id": "b8b69b65-6858-4b0e-9bf6-49c6e5637848",
   "metadata": {},
   "source": [
    "## Data Preprocessing\n",
    "\n",
    "All that is happening here is prescribing new file name conventions and also reprojecting thee data with the parameters examined in the `daily_eda` notebook."
   ]
  },
  {
   "cell_type": "code",
   "execution_count": 1,
   "id": "192c609a-bc9a-4ed9-9750-a4a497ef2f50",
   "metadata": {},
   "outputs": [],
   "source": [
    "from pathlib import Path\n",
    "\n",
    "import rasterio as rio\n",
    "import matplotlib.pyplot as plt\n",
    "import dask\n",
    "import dask.distributed as dd\n",
    "\n",
    "import eda as eda\n",
    "import preprocess as preprocess\n",
    "from luts import ice_zones, ice_years, data_sources\n",
    "from config import INPUT_DIR, DAILY_BEAUFORT_DIR, DAILY_CHUKCHI_DIR"
   ]
  },
  {
   "cell_type": "code",
   "execution_count": 2,
   "id": "c8812197-9393-4a3f-b959-7fd7fb3b6d05",
   "metadata": {},
   "outputs": [
    {
     "data": {
      "text/plain": [
       "['Beau', 'Chuk']"
      ]
     },
     "execution_count": 2,
     "metadata": {},
     "output_type": "execute_result"
    }
   ],
   "source": [
    "ice_zones"
   ]
  },
  {
   "cell_type": "code",
   "execution_count": 5,
   "id": "1ebb8f00-c28e-400f-b828-dce8088f53b3",
   "metadata": {},
   "outputs": [
    {
     "name": "stdout",
     "output_type": "stream",
     "text": [
      "7797\n"
     ]
    }
   ],
   "source": [
    "beauf_geotiffs = []\n",
    "\n",
    "for region in ice_zones[0:1]:\n",
    "    for year in ice_years:\n",
    "        target = Path(INPUT_DIR / region / year)\n",
    "        tiffs = eda.list_geotiffs(target, str_to_match=\"dailyslie\")\n",
    "        beauf_geotiffs = beauf_geotiffs + tiffs\n",
    "print(len(beauf_geotiffs))"
   ]
  },
  {
   "cell_type": "code",
   "execution_count": 3,
   "id": "f0eee5ff-1aca-4e7b-a94b-26bb0caca3b2",
   "metadata": {},
   "outputs": [
    {
     "name": "stdout",
     "output_type": "stream",
     "text": [
      "7668\n"
     ]
    }
   ],
   "source": [
    "chuk_geotiffs = []\n",
    "\n",
    "for region in ice_zones[1:]:\n",
    "    for year in ice_years:\n",
    "        target = Path(INPUT_DIR / region / year)\n",
    "        tiffs = eda.list_geotiffs(target, str_to_match=\"dailyslie\")\n",
    "        chuk_geotiffs = chuk_geotiffs + tiffs\n",
    "print(len(chuk_geotiffs))"
   ]
  },
  {
   "cell_type": "code",
   "execution_count": 7,
   "id": "8a09f5a1-417d-425d-8d24-62bb0abb9abf",
   "metadata": {},
   "outputs": [
    {
     "name": "stdout",
     "output_type": "stream",
     "text": [
      "/beegfs/CMIP6/cparr4/landfast_sea_ice_products/Beaufort_Daily/beaufort_19970414_radarsat_slie.tif\n",
      "/beegfs/CMIP6/cparr4/landfast_sea_ice_products/Chukchi_Daily/chukchi_20230323_asip_slie.tif\n"
     ]
    }
   ],
   "source": [
    "# example of the renaming function, mostly just placing the product in the output directory and then also expanding the data source attribute\n",
    "print(preprocess.rename(beauf_geotiffs[0]))\n",
    "print(preprocess.rename(chuk_geotiffs[-1]))"
   ]
  },
  {
   "cell_type": "code",
   "execution_count": 8,
   "id": "28a40817-5c20-4f2d-bf7e-d79af312db79",
   "metadata": {},
   "outputs": [],
   "source": [
    "client = dd.Client()"
   ]
  },
  {
   "cell_type": "code",
   "execution_count": 9,
   "id": "a2f16277-9662-4822-85e9-7201d5ac8dca",
   "metadata": {},
   "outputs": [],
   "source": [
    "_ = dask.compute(*[dask.delayed(preprocess.tap_reproject_raster)(f) for f in beauf_geotiffs])"
   ]
  },
  {
   "cell_type": "code",
   "execution_count": 10,
   "id": "d9af411a-9c8f-4219-b7f0-c5705b895120",
   "metadata": {},
   "outputs": [],
   "source": [
    "_ = dask.compute(*[dask.delayed(preprocess.tap_reproject_raster)(f) for f in chuk_geotiffs])"
   ]
  },
  {
   "cell_type": "code",
   "execution_count": 11,
   "id": "78d28d35-8a74-4454-b674-58a9bd9e7a66",
   "metadata": {},
   "outputs": [],
   "source": [
    "client.close()"
   ]
  },
  {
   "cell_type": "code",
   "execution_count": 12,
   "id": "1bb28b40-0b06-45d2-9ccc-8d073e0597cc",
   "metadata": {},
   "outputs": [],
   "source": [
    "assert len(eda.list_geotiffs(DAILY_BEAUFORT_DIR)) == len(beauf_geotiffs)"
   ]
  },
  {
   "cell_type": "code",
   "execution_count": 13,
   "id": "895c341f-942b-4e29-988e-ee6d0ed16b54",
   "metadata": {},
   "outputs": [],
   "source": [
    "assert len(eda.list_geotiffs(DAILY_CHUKCHI_DIR)) == len(chuk_geotiffs)"
   ]
  },
  {
   "cell_type": "code",
   "execution_count": null,
   "id": "8e9954a1-9d13-47c6-8c64-65e375642708",
   "metadata": {},
   "outputs": [],
   "source": []
  }
 ],
 "metadata": {
  "kernelspec": {
   "display_name": "Python 3 (ipykernel)",
   "language": "python",
   "name": "python3"
  },
  "language_info": {
   "codemirror_mode": {
    "name": "ipython",
    "version": 3
   },
   "file_extension": ".py",
   "mimetype": "text/x-python",
   "name": "python",
   "nbconvert_exporter": "python",
   "pygments_lexer": "ipython3",
   "version": "3.11.6"
  }
 },
 "nbformat": 4,
 "nbformat_minor": 5
}
