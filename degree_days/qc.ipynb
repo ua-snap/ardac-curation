{
 "cells": [
  {
   "cell_type": "markdown",
   "id": "1d3fdc01-f4da-4159-b419-e3b1251f3892",
   "metadata": {},
   "source": [
    "# Quality Control\n",
    "The purpose of this notebook is to execute a rigorous quality control (QC) process upon the dataset to ensure it is consistent, complete, and user-friendly for both humans and computers. The QC process attempts to verify that the data produced meets the SNAP Quality Data Standard. This includes verify metadata is constant across the dataset. This means that each GeoTIFF must have identical header information, spatial extent, coordinate reference system, NoData value, compression, and spatial resolution."
   ]
  },
  {
   "cell_type": "code",
   "execution_count": null,
   "id": "9678a6d7-d647-4121-8d70-99070d6f1c14",
   "metadata": {},
   "outputs": [],
   "source": [
    "import os\n",
    "import re\n",
    "import rasterio as rio\n",
    "import threading\n",
    "import concurrent.futures\n",
    "import random\n",
    "import numpy as np\n",
    "import matplotlib.pyplot as plt\n",
    "from pathlib import Path\n",
    "from rasterio.plot import show\n",
    "from config import reprojected_dir, metrics"
   ]
  },
  {
   "cell_type": "code",
   "execution_count": null,
   "id": "de06e45f-77f6-4905-91f6-a08627c08a1e",
   "metadata": {},
   "outputs": [],
   "source": [
    "qc_fps = [x for x in Path(reprojected_dir).glob(\"*.tif\")]"
   ]
  },
  {
   "cell_type": "code",
   "execution_count": null,
   "id": "d3ed7000-cffe-4d99-ad3a-536dc2e5278f",
   "metadata": {},
   "outputs": [],
   "source": [
    "def metadata_check(directory):\n",
    "    all_meta = []\n",
    "    fps = [x for x in directory.glob(\"*.tif\")]\n",
    "    read_lock = threading.Lock()\n",
    "\n",
    "    def process(fp):\n",
    "        src = rio.open(fp)\n",
    "        with read_lock:\n",
    "            profile = src.profile\n",
    "            all_meta.append(profile)\n",
    "    \n",
    "    # We map the process() function over the list of files\n",
    "    with concurrent.futures.ThreadPoolExecutor(max_workers=24) as executor:\n",
    "        executor.map(process, fps)\n",
    "    return all_meta"
   ]
  },
  {
   "cell_type": "code",
   "execution_count": null,
   "id": "98cd4de1-c4a5-4daf-a3a8-220d164a16a3",
   "metadata": {},
   "outputs": [],
   "source": [
    "%%time\n",
    "meta = metadata_check(reprojected_dir)"
   ]
  },
  {
   "cell_type": "code",
   "execution_count": null,
   "id": "fb7afcfd-381b-4453-a1d8-91e587d923b1",
   "metadata": {},
   "outputs": [],
   "source": [
    "assert len(meta) == len(qc_fps)\n",
    "assert(all([x == meta[0] for x in meta]) == True)"
   ]
  },
  {
   "cell_type": "markdown",
   "id": "1830fee2-27d7-4c7a-a533-f1bd910dfb53",
   "metadata": {},
   "source": [
    "### Verify the dataset passes the eyeball test\n",
    "\n",
    "It is good practice to verify that the data have visual integrity: spatial bounds and patterns of data values should be reasonable for the geographic area and type of quantity or variable represented by the data. These figures are a good way to share progress on a dataset with others as well. There are many variables that we need to examine individually in this dataset. While we can't look at tens of thousands of GeoTIFFs, we will randomly sample nine GeoTIFFs from each of the variables. For the sampled data we will also generate histograms so we can connect the map visualization to the underlying statistical distribution."
   ]
  },
  {
   "cell_type": "code",
   "execution_count": null,
   "id": "e91ff864-0224-411b-b635-6378f803292d",
   "metadata": {},
   "outputs": [],
   "source": [
    "def plot_maps(var):\n",
    "    fig, axs = plt.subplots(3, 3, figsize=(14, 9), sharex=True, sharey=True)\n",
    "    var_fps = [x for x in qc_fps if var in x.name]\n",
    "    \n",
    "    arrs = []\n",
    "    titles = []\n",
    "    for ax in axs.flatten():\n",
    "        i = np.random.randint(len(var_fps))\n",
    "        fp = var_fps[i]\n",
    "        with rio.open(fp) as src:\n",
    "            show(src, ax=ax, interpolation=\"none\")\n",
    "            arrs.append(src.read(1))\n",
    "        title = fp.name[10:-4]\n",
    "        ax.set_title(title)\n",
    "        titles.append(title)\n",
    "\n",
    "    plt.show()\n",
    "    \n",
    "    return arrs, titles\n",
    "\n",
    "\n",
    "def plot_histograms(arrs, titles):\n",
    "    fig, axs = plt.subplots(3, 3, figsize=(12, 12))\n",
    "    for ax, arr, title in zip(axs.flatten(), arrs, titles):\n",
    "        arr = arr.flatten()\n",
    "        arr = arr[arr != -9999]\n",
    "        ax.hist(arr)\n",
    "        ax.set_title(title)\n",
    "\n",
    "    plt.show()"
   ]
  },
  {
   "cell_type": "code",
   "execution_count": null,
   "id": "3f2b7d20-187d-431a-808b-d25eea5a0de3",
   "metadata": {},
   "outputs": [],
   "source": [
    "for var in metrics:\n",
    "    arrs, titles = plot_maps(var)\n",
    "    plot_histograms(arrs, titles)\n"
   ]
  },
  {
   "cell_type": "code",
   "execution_count": null,
   "id": "529bc665-3855-4082-8a5c-4978fe43c962",
   "metadata": {},
   "outputs": [],
   "source": []
  }
 ],
 "metadata": {
  "kernelspec": {
   "display_name": "Python 3 (ipykernel)",
   "language": "python",
   "name": "python3"
  },
  "language_info": {
   "codemirror_mode": {
    "name": "ipython",
    "version": 3
   },
   "file_extension": ".py",
   "mimetype": "text/x-python",
   "name": "python",
   "nbconvert_exporter": "python",
   "pygments_lexer": "ipython3",
   "version": "3.9.15"
  }
 },
 "nbformat": 4,
 "nbformat_minor": 5
}
