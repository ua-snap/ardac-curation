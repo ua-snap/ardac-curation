{
 "cells": [
  {
   "cell_type": "markdown",
   "id": "ad46eba6-f1dd-4304-8de5-fe99b1879e61",
   "metadata": {},
   "source": [
    "The sole purpose of this notebook is to zip up the geotiffs on a per-variable basis.\n",
    "The actual zipping is done by spawning a subprocess to call `zipit.sh script`. See that script for details.\n",
    "\n",
    "We only have a notebook just for convenient verification of source and destination directories, and for asserting that the correct number of .zip files created. "
   ]
  },
  {
   "cell_type": "code",
   "execution_count": 1,
   "id": "aa73a3d3-02a8-4ade-a4cc-96323558e80d",
   "metadata": {},
   "outputs": [],
   "source": [
    "import subprocess\n",
    "from config import reprojected_dir, zip_dir, metrics"
   ]
  },
  {
   "cell_type": "code",
   "execution_count": 2,
   "id": "cf58a2e3-0ee7-45e5-ac3c-a9dc96e1b1a5",
   "metadata": {},
   "outputs": [
    {
     "data": {
      "text/plain": [
       "PosixPath('/atlas_scratch/cparr4/degree_days_ncar_12km/reprojected_geotiffs')"
      ]
     },
     "execution_count": 2,
     "metadata": {},
     "output_type": "execute_result"
    }
   ],
   "source": [
    "reprojected_dir"
   ]
  },
  {
   "cell_type": "code",
   "execution_count": 3,
   "id": "454d31a4-1824-4628-af33-6d3b40736f5a",
   "metadata": {},
   "outputs": [],
   "source": [
    "# there are nine models with two scenarios each, and these data run 1950 through 2099 and we compute 4 metrics\n",
    "# plus 38 daymet files with 4 metrics each\n",
    "files_to_zip = list(reprojected_dir.glob(\"*.tif\"))\n",
    "len(files_to_zip)\n",
    "assert len(files_to_zip) == (9 * 2 * 150 * 4) + (38 * 4)"
   ]
  },
  {
   "cell_type": "code",
   "execution_count": 4,
   "id": "4ed89899-bc6b-4c4e-94d0-2536fdaccdd0",
   "metadata": {},
   "outputs": [
    {
     "data": {
      "text/plain": [
       "PosixPath('/atlas_scratch/cparr4/degree_days_ncar_12km/zipped')"
      ]
     },
     "execution_count": 4,
     "metadata": {},
     "output_type": "execute_result"
    }
   ],
   "source": [
    "zip_dir"
   ]
  },
  {
   "cell_type": "code",
   "execution_count": 5,
   "id": "4e1ae589-5bbe-4d8c-8947-e18ce5788f89",
   "metadata": {},
   "outputs": [],
   "source": [
    "# zip it\n",
    "command = f\"bash ./zipit.sh {reprojected_dir} {zip_dir}\"\n",
    "output = subprocess.check_output(command, shell=True)"
   ]
  },
  {
   "cell_type": "code",
   "execution_count": 6,
   "id": "aae8a840-8db5-4bd0-87f8-073127be21fb",
   "metadata": {},
   "outputs": [
    {
     "data": {
      "text/plain": [
       "[PosixPath('/atlas_scratch/cparr4/degree_days_ncar_12km/zipped/air_thawing_index.zip'),\n",
       " PosixPath('/atlas_scratch/cparr4/degree_days_ncar_12km/zipped/air_freezing_index.zip'),\n",
       " PosixPath('/atlas_scratch/cparr4/degree_days_ncar_12km/zipped/heating_degree_days.zip'),\n",
       " PosixPath('/atlas_scratch/cparr4/degree_days_ncar_12km/zipped/degree_days_below_zero.zip')]"
      ]
     },
     "execution_count": 6,
     "metadata": {},
     "output_type": "execute_result"
    }
   ],
   "source": [
    "# did we zip 'em all?\n",
    "zips = list(zip_dir.glob(\"*.zip\"))\n",
    "zips"
   ]
  },
  {
   "cell_type": "code",
   "execution_count": 8,
   "id": "3b269590-1a1f-4612-9509-ee53b71ed501",
   "metadata": {},
   "outputs": [],
   "source": [
    "assert len(zips) == len(metrics)"
   ]
  },
  {
   "cell_type": "code",
   "execution_count": null,
   "id": "dd7f9b47-3032-4898-a2d3-ad49c99073f6",
   "metadata": {},
   "outputs": [],
   "source": []
  }
 ],
 "metadata": {
  "kernelspec": {
   "display_name": "Python 3 (ipykernel)",
   "language": "python",
   "name": "python3"
  },
  "language_info": {
   "codemirror_mode": {
    "name": "ipython",
    "version": 3
   },
   "file_extension": ".py",
   "mimetype": "text/x-python",
   "name": "python",
   "nbconvert_exporter": "python",
   "pygments_lexer": "ipython3",
   "version": "3.9.15"
  }
 },
 "nbformat": 4,
 "nbformat_minor": 5
}
