{
 "cells": [
  {
   "cell_type": "markdown",
   "id": "99ee0c85-d396-4da5-86af-4e6112a3eeae",
   "metadata": {},
   "source": [
    "This notebook is just a reminder and method to archive the data after a \"production\" run. Don't run this notebook if you are fiddling / testing.\n",
    "`workspace/Shared/Tech_Projects/...` is sort of a default spot where we can stash this data and then send it around to Rasdaman, GeoNetwork, etc."
   ]
  },
  {
   "cell_type": "code",
   "execution_count": 10,
   "id": "a5633402-fbb7-4a7e-8495-09d7ab77e2a5",
   "metadata": {},
   "outputs": [
    {
     "data": {
      "text/plain": [
       "PosixPath('/workspace/Shared/Tech_Projects/Degree_Days_NCAR12km')"
      ]
     },
     "execution_count": 10,
     "metadata": {},
     "output_type": "execute_result"
    }
   ],
   "source": [
    "import shutil\n",
    "from pathlib import Path\n",
    "from config import zip_dir, metrics\n",
    "\n",
    "archive_dir = Path(\"/workspace/Shared/Tech_Projects/Degree_Days_NCAR12km\")\n",
    "archive_dir"
   ]
  },
  {
   "cell_type": "code",
   "execution_count": 5,
   "id": "e4fa6574-d8ad-4d22-9be5-0e01d8df1f7c",
   "metadata": {},
   "outputs": [
    {
     "data": {
      "text/plain": [
       "PosixPath('/atlas_scratch/cparr4/degree_days_ncar_12km/zipped')"
      ]
     },
     "execution_count": 5,
     "metadata": {},
     "output_type": "execute_result"
    }
   ],
   "source": [
    "zip_dir"
   ]
  },
  {
   "cell_type": "code",
   "execution_count": 12,
   "id": "2cdc1b52-be5d-4fdc-b12d-4725d233ed61",
   "metadata": {},
   "outputs": [
    {
     "name": "stdout",
     "output_type": "stream",
     "text": [
      "4 .zip files are currently located in /atlas_scratch/cparr4/degree_days_ncar_12km/zipped.\n",
      "Copying 4 .zip files to /workspace/Shared/Tech_Projects/Degree_Days_NCAR12km\n",
      "4 .zip files are currently located at /workspace/Shared/Tech_Projects/Degree_Days_NCAR12km.\n"
     ]
    }
   ],
   "source": [
    "fps = list(zip_dir.rglob(\"*.zip\"))\n",
    "print(f\"{len(fps)} .zip files are currently located in {zip_dir}.\")\n",
    "\n",
    "new_fps = [archive_dir / ''.join(x.name) for x in fps]\n",
    "\n",
    "print(f\"Copying {len(new_fps)} .zip files to {archive_dir}\")\n",
    "for src, dst in zip(fps, new_fps):\n",
    "    shutil.copy(src, dst)\n",
    "\n",
    "zip_fps = list(archive_dir.rglob(\"*.zip\"))\n",
    "print(f\"{len(zip_fps)} .zip files are currently located at {archive_dir}.\")"
   ]
  },
  {
   "cell_type": "code",
   "execution_count": null,
   "id": "866212dc-788d-4579-9a90-fdb430f000f1",
   "metadata": {},
   "outputs": [],
   "source": []
  }
 ],
 "metadata": {
  "kernelspec": {
   "display_name": "Python 3 (ipykernel)",
   "language": "python",
   "name": "python3"
  },
  "language_info": {
   "codemirror_mode": {
    "name": "ipython",
    "version": 3
   },
   "file_extension": ".py",
   "mimetype": "text/x-python",
   "name": "python",
   "nbconvert_exporter": "python",
   "pygments_lexer": "ipython3",
   "version": "3.9.15"
  }
 },
 "nbformat": 4,
 "nbformat_minor": 5
}
