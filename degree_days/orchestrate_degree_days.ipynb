{
 "cells": [
  {
   "cell_type": "code",
   "execution_count": null,
   "id": "5eb9870f-fbf9-453e-b985-6ffc679ab07a",
   "metadata": {},
   "outputs": [],
   "source": [
    "from pathlib import Path\n",
    "\n",
    "import numpy as np\n",
    "import dask\n",
    "from dask.distributed import Client\n",
    "from tqdm.auto import tqdm\n",
    "\n",
    "import prep_dataset\n",
    "import compute_degree_days\n",
    "import reproject\n",
    "from config import DATA_DIR, OUTPUT_DIR, daymet_dir, reprojected_dir\n",
    "from config import models, scenarios, metrics, unit_tag"
   ]
  },
  {
   "cell_type": "code",
   "execution_count": null,
   "id": "aa920513-af00-43dc-a8c9-226508f20fb0",
   "metadata": {},
   "outputs": [],
   "source": [
    "metric_dispatch = dict()\n",
    "metric_dispatch[\"air_freezing_index\"] = compute_degree_days.compute_cumulative_freezing_index\n",
    "metric_dispatch[\"air_thawing_index\"] = compute_degree_days.compute_cumulative_thawing_index\n",
    "metric_dispatch[\"heating_degree_days\"] = compute_degree_days.compute_cumulative_heating_degree_days\n",
    "metric_dispatch[\"degree_days_below_zero\"] = compute_degree_days.compute_cumulative_degree_days_below_0F"
   ]
  },
  {
   "cell_type": "code",
   "execution_count": null,
   "id": "cd911350-99ac-4559-ada3-d7a8bb804677",
   "metadata": {},
   "outputs": [],
   "source": [
    "daymet_files = list(daymet_dir.glob(\"*.nc\"))\n",
    "# Daymet baseline runes 1980 through 2017 so there should be 38 files\n",
    "assert len(daymet_files) == 38"
   ]
  },
  {
   "cell_type": "code",
   "execution_count": null,
   "id": "58a15069-6509-43d0-b2fd-d1a5029afa1e",
   "metadata": {},
   "outputs": [],
   "source": [
    "# we know from our EDA work that this model is missing some data\n",
    "try:\n",
    "    models.remove(\"HadGEM2-ES\")\n",
    "except:\n",
    "    pass\n",
    "\n",
    "projected_model_files = []\n",
    "for model in models:\n",
    "    model_path = DATA_DIR / model\n",
    "    input_data = [x for x in list(model_path.rglob(\"*.nc*\"))]\n",
    "    projected_model_files.extend(input_data)\n",
    "\n",
    "# there are nine models with two scenarios each, and these data run 1950 through 2099\n",
    "assert len(projected_model_files) == len(models) * len(scenarios) * 150"
   ]
  },
  {
   "cell_type": "code",
   "execution_count": null,
   "id": "fdf8c53b",
   "metadata": {},
   "outputs": [],
   "source": [
    "%%time\n",
    "# create dask client\n",
    "client = Client()\n",
    "\n",
    "# run the pipeline for daymet first because it has a different structure (no scenarios)\n",
    "\n",
    "for src_file in tqdm(daymet_files):\n",
    "    year = int(src_file.name.split('_')[-1].split('.')[0])\n",
    "    daily_avg_temp_F_ds, raster_creation_profile = prep_dataset.prep_ds(src_file)\n",
    "    \n",
    "    for degree_day_metric in metrics:\n",
    "        result = metric_dispatch[degree_day_metric](daily_avg_temp_F_ds)\n",
    "        # write the initial GeoTIFF\n",
    "        reproject.write_raster_to_disk(OUTPUT_DIR / f\"daymet_historical_{degree_day_metric}_{year}.tif\",\n",
    "                                       raster_creation_profile,\n",
    "                                       np.flipud(result.compute())\n",
    "                                      )\n",
    "\n",
    "for src_file in tqdm(projected_model_files):\n",
    "    year = int(src_file.name.split('_')[-1].split('.')[0])\n",
    "    # get model and scenario\n",
    "    model_name = src_file.name.split(\"_\")[0]\n",
    "    scenario_name = src_file.name.split(\"_\")[1]    \n",
    "    daily_avg_temp_F_ds, raster_creation_profile = prep_dataset.prep_ds(src_file)\n",
    "    \n",
    "    for degree_day_metric in metrics:\n",
    "        result = metric_dispatch[degree_day_metric](daily_avg_temp_F_ds)\n",
    "        # write the initial GeoTIFF\n",
    "        reproject.write_raster_to_disk(OUTPUT_DIR / f\"{model_name}_{scenario_name}_{degree_day_metric}_{year}.tif\",\n",
    "                                       raster_creation_profile,\n",
    "                                       np.flipud(result.compute())\n",
    "                                      )\n",
    "\n",
    "client.close()"
   ]
  },
  {
   "cell_type": "code",
   "execution_count": null,
   "id": "6ba5883d-9734-4b22-9733-8ecb7f8fab1f",
   "metadata": {},
   "outputs": [],
   "source": [
    "geotiff_fps = list(OUTPUT_DIR.glob(\"*.tif\"))\n",
    "\n",
    "assert len(geotiff_fps) == len(metrics) * (len(daymet_files) + len(projected_model_files)) "
   ]
  },
  {
   "cell_type": "code",
   "execution_count": null,
   "id": "226c68fb-16c7-4afc-a3e4-223c6fd9f64a",
   "metadata": {},
   "outputs": [],
   "source": [
    "#next step something like\n",
    "client = Client()\n",
    "\n",
    "_ = dask.compute(*[dask.delayed(reproject.reproject_raster)(f, \"ncar_12km\") for f in geotiff_fps])\n",
    "\n",
    "client.close()"
   ]
  },
  {
   "cell_type": "code",
   "execution_count": null,
   "id": "95ffa509-9b11-498e-a918-b82e207c2e65",
   "metadata": {},
   "outputs": [],
   "source": [
    "reproj_geotiff_fps = list(reprojected_dir.glob(\"*.tif\"))\n",
    "assert len(reproj_geotiff_fps) == len(geotiff_fps)"
   ]
  },
  {
   "cell_type": "code",
   "execution_count": null,
   "id": "2b90db15-ce98-4356-8f76-7140d845ccdd",
   "metadata": {},
   "outputs": [],
   "source": []
  }
 ],
 "metadata": {
  "kernelspec": {
   "display_name": "Python 3 (ipykernel)",
   "language": "python",
   "name": "python3"
  },
  "language_info": {
   "codemirror_mode": {
    "name": "ipython",
    "version": 3
   },
   "file_extension": ".py",
   "mimetype": "text/x-python",
   "name": "python",
   "nbconvert_exporter": "python",
   "pygments_lexer": "ipython3",
   "version": "3.9.15"
  }
 },
 "nbformat": 4,
 "nbformat_minor": 5
}
